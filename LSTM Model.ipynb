{
 "cells": [
  {
   "cell_type": "markdown",
   "metadata": {},
   "source": [
    "# LSTM Model\n",
    "As per yidi, need to work on deep learning part of the project. Gonna just try a quick shotgun approach to see what could work\n",
    "\n",
    "Supposedly would be nice to use the entire segment for LSTM, but lets just use 20 second segments for now"
   ]
  },
  {
   "cell_type": "code",
   "execution_count": 2,
   "metadata": {},
   "outputs": [],
   "source": [
    "import glob \n",
    "import os\n",
    "import pandas as pd\n",
    "import statsmodels as sm\n",
    "import numpy as np\n",
    "import seaborn as sns\n",
    "import matplotlib.pyplot as plt\n",
    "import sklearn\n",
    "\n",
    "from importlib import reload\n",
    "from sklearn import model_selection, metrics\n",
    "from tqdm.auto import tqdm\n",
    "from scipy import signal\n",
    "from statsmodels.graphics.tsaplots import plot_acf, plot_pacf\n",
    "from statsmodels.tsa.arima_model import ARIMA\n",
    "from pandas.plotting import autocorrelation_plot\n",
    "\n",
    "from src import main, feature_model\n",
    "\n",
    "labels1 = pd.read_csv('data/cis-pd/data_labels/CIS-PD_Training_Data_IDs_Labels.csv')\n",
    "labels2 = pd.read_csv('data/real-pd/data_labels/REAL-PD_Training_Data_IDs_Labels.csv')"
   ]
  },
  {
   "cell_type": "code",
   "execution_count": null,
   "metadata": {},
   "outputs": [],
   "source": []
  },
  {
   "cell_type": "code",
   "execution_count": 7,
   "metadata": {},
   "outputs": [
    {
     "name": "stdout",
     "output_type": "stream",
     "text": [
      "REAL-PD_Demographics.csv\n",
      "REAL-PD_Smartphone_Metadata.csv\n",
      "REAL-PD_UPDRS_Part1_2_4.csv\n",
      "REAL-PD_UPDRS_Part3.csv\n"
     ]
    }
   ],
   "source": [
    "%%bash\n",
    "ls ../beat_pd/data/real-pd/clinical_data/"
   ]
  },
  {
   "cell_type": "code",
   "execution_count": 2,
   "metadata": {},
   "outputs": [],
   "source": [
    "labels = labels1.dropna()"
   ]
  },
  {
   "cell_type": "code",
   "execution_count": 2,
   "metadata": {},
   "outputs": [],
   "source": [
    "#lets go and filter data with some utility funcs\n",
    "from scipy.signal import butter, lfilter\n",
    "\n",
    "# https://scipy-cookbook.readthedocs.io/items/ButterworthBandpass.html\n",
    "\n",
    "# grabs some filter constants for making bandpass filter\n",
    "#    order is kinda like strength of filter... higher leads to more ideal filter but has weird interactions near the edges of the filter\n",
    "#    lower is less ideal but results in less artifacts being generated\n",
    "#    this is a bit of a cheat anyways, using a lowpass and highpass together, there may be less sketch filter designs applicable\n",
    "def butter_bandpass(lowcut, highcut, fs, order=5):\n",
    "    nyq = 0.5 * fs\n",
    "    low = lowcut / nyq\n",
    "    high = highcut / nyq\n",
    "    b, a = butter(order, [low, high], btype='band')\n",
    "    return b, a\n",
    "\n",
    "def butter_bandpass_filter(data, lowcut, highcut, fs, order=5):\n",
    "    b, a = butter_bandpass(lowcut, highcut, fs, order=order)\n",
    "    y = lfilter(b, a, data)\n",
    "    return y\n",
    "def butter_lp_filter(data, lowcut, fs, order=5):\n",
    "    nyq = 0.5 * fs #just get the highest freq possible (nyquist, and bandgap it!)\n",
    "    hc = nyq * 0.9 #can't accept exactly nyq\n",
    "    print(\"hc:\", hc)\n",
    "    return butter_bandpass_filter(data, lowcut, hyc, fs, order)\n",
    "def butter_bandgap_filter(data, lowcut, highcut, fs, order=5):\n",
    "    if highcut is None:\n",
    "        return butter_bandgap_filter(data, lowcut, fs, order)\n",
    "    toRemove = butter_bandpass_filter(data, lowcut, highcut, fs, order)\n",
    "    return data - toRemove\n",
    "from src.main import read_seq\n",
    "\n",
    "def get_data(m_id):\n",
    "    data = pd.read_csv(f\"/home/ms994/beat_pd/data/cis-pd/training_data/{m_id}.csv\", index_col=\"Timestamp\", header=0)\n",
    "    return data.set_index(pd.to_timedelta(data.index, unit=\"s\"))\n",
    "def get_preprocessed_data(measurement_id, low_f=1, high_f=10):\n",
    "    data = get_data(measurement_id)\n",
    "    #50 hz, make a bandpass between 1 and 10 hz, with order of 5\n",
    "    data = butter_bandpass_filter(data, low_f, high_f, 50, 5)\n",
    "    return data"
   ]
  },
  {
   "cell_type": "code",
   "execution_count": null,
   "metadata": {},
   "outputs": [],
   "source": [
    "all_data = "
   ]
  },
  {
   "cell_type": "markdown",
   "metadata": {},
   "source": [
    "## Let's try just using the frequency data"
   ]
  },
  {
   "cell_type": "code",
   "execution_count": 3,
   "metadata": {},
   "outputs": [],
   "source": [
    "import pickle as pkl\n",
    "#from the EDA.ipynb\n",
    "np_x_data = pkl.load(open(\"/n/scratch2/ms994/beat_pd_frequency_data.pkl\", \"rb\"))\n",
    "y = pkl.load(open(\"/n/scratch2/ms994/beat_pd_labels_1s.pkl\", \"rb\"))"
   ]
  },
  {
   "cell_type": "code",
   "execution_count": 5,
   "metadata": {},
   "outputs": [
    {
     "data": {
      "text/plain": [
       "((2210912, 3, 26), (2210912, 5))"
      ]
     },
     "execution_count": 5,
     "metadata": {},
     "output_type": "execute_result"
    }
   ],
   "source": [
    "np_x_data.shape, y.shape"
   ]
  },
  {
   "cell_type": "code",
   "execution_count": 4,
   "metadata": {},
   "outputs": [],
   "source": [
    "import tensorflow as tf"
   ]
  },
  {
   "cell_type": "markdown",
   "metadata": {},
   "source": [
    "### Reshape back out into correct shape\n",
    "I flattened this between measurements originally as a way to run RF on everything, but running this as a sequence may make much more sense.\n",
    "The way I concatenated everything has maintained order, so I should be able to separate back out while keeping chronological order."
   ]
  },
  {
   "cell_type": "code",
   "execution_count": 5,
   "metadata": {},
   "outputs": [],
   "source": [
    "#grab all the measurement ids\n",
    "m_ids = y.measurement_id.unique()"
   ]
  },
  {
   "cell_type": "code",
   "execution_count": 6,
   "metadata": {},
   "outputs": [
    {
     "data": {
      "text/plain": [
       "(963,)"
      ]
     },
     "execution_count": 6,
     "metadata": {},
     "output_type": "execute_result"
    }
   ],
   "source": [
    "m_ids.shape #only 963 in here"
   ]
  },
  {
   "cell_type": "code",
   "execution_count": 10,
   "metadata": {},
   "outputs": [],
   "source": [
    "label = labels1.dropna()"
   ]
  },
  {
   "cell_type": "code",
   "execution_count": 11,
   "metadata": {},
   "outputs": [
    {
     "data": {
      "text/plain": [
       "(963, 5)"
      ]
     },
     "execution_count": 11,
     "metadata": {},
     "output_type": "execute_result"
    }
   ],
   "source": [
    "label.shape"
   ]
  },
  {
   "cell_type": "code",
   "execution_count": 7,
   "metadata": {},
   "outputs": [],
   "source": [
    "reshapedData = []\n",
    "for m_id in m_ids:\n",
    "    reshapedData.append(np_x_data[y.measurement_id==m_id])"
   ]
  },
  {
   "cell_type": "code",
   "execution_count": 43,
   "metadata": {},
   "outputs": [
    {
     "data": {
      "text/plain": [
       "1799"
      ]
     },
     "execution_count": 43,
     "metadata": {},
     "output_type": "execute_result"
    }
   ],
   "source": [
    "reshapedData[0].shape[0]"
   ]
  },
  {
   "cell_type": "code",
   "execution_count": 12,
   "metadata": {},
   "outputs": [],
   "source": [
    "# lets try for 100 seconds of data with 50 second overlap\n",
    "time_reshaped_data = []\n",
    "time_reshaped_y = []\n",
    "for i, m_id in enumerate(m_ids):\n",
    "    max_instances = int(np.floor(reshapedData[i].shape[0]/50 - 1) )\n",
    "    for j in range(max_instances):\n",
    "        time_reshaped_data.append(reshapedData[i][j*50:j*50 + 100])\n",
    "        time_reshaped_y.append(label[label.measurement_id == m_id])"
   ]
  },
  {
   "cell_type": "code",
   "execution_count": 13,
   "metadata": {},
   "outputs": [],
   "source": [
    "time_reshaped_data = np.array(time_reshaped_data)"
   ]
  },
  {
   "cell_type": "code",
   "execution_count": 14,
   "metadata": {},
   "outputs": [
    {
     "data": {
      "text/plain": [
       "(42707, 100, 3, 26)"
      ]
     },
     "execution_count": 14,
     "metadata": {},
     "output_type": "execute_result"
    }
   ],
   "source": [
    "time_reshaped_data.shape #lets try 1d cnn"
   ]
  },
  {
   "cell_type": "markdown",
   "metadata": {},
   "source": [
    "looks like it is a correct pad value, nothing in the sequence matches"
   ]
  },
  {
   "cell_type": "code",
   "execution_count": 35,
   "metadata": {},
   "outputs": [],
   "source": [
    "import sys, os\n",
    "import tensorflow as tf\n",
    "sys.path.append(os.path.realpath(\"/home/ms994/dbmi_eeg_clustering\")) #lol, i have a ton of utility classes here\n",
    "from keras_models.metrics import f1, sensitivity, specificity\n",
    "num_layers = 3\n",
    "num_lin_layers= 4\n",
    "inputX = tf.keras.layers.Input((100,3,26))\n",
    "x = tf.keras.layers.Reshape((100, 3*26))(inputX)\n",
    "for i in range(num_layers):\n",
    "    x = tf.keras.layers.BatchNormalization()(x)\n",
    "    x = tf.keras.layers.Conv1D(25, (3,))(x)\n",
    "    x = tf.keras.layers.LeakyReLU()(x)\n",
    "    x = tf.keras.layers.MaxPool1D((2,))(x)\n",
    "x = tf.keras.layers.TimeDistributed(tf.keras.layers.BatchNormalization())(x)\n",
    "x = tf.keras.layers.CuDNNLSTM(20, return_sequences=True)(x)\n",
    "x = tf.keras.layers.LeakyReLU()(x)\n",
    "x = tf.keras.layers.Flatten()(x)\n",
    "\n",
    "# on off\n",
    "for i in range(num_lin_layers):\n",
    "    x = tf.keras.layers.BatchNormalization()(x)\n",
    "    x = tf.keras.layers.Dense(200)(x)\n",
    "    x = tf.keras.layers.LeakyReLU()(x)\n",
    "    x = tf.keras.layers.Dropout(0.5)(x)\n",
    "    \n",
    "x = tf.keras.layers.Dense(1, kernel_initializer='normal')(x)\n",
    "y_on_off = tf.keras.layers.ReLU(max_value=4)(x)\n",
    "\n",
    "model = tf.keras.Model(inputs=[inputX], outputs=[y_on_off])\n",
    "model.compile(\"adam\", loss=\"mse\")"
   ]
  },
  {
   "cell_type": "code",
   "execution_count": 30,
   "metadata": {},
   "outputs": [],
   "source": [
    "labels = pd.concat(time_reshaped_y, axis=0)\n",
    "labels.head()\n",
    "y = labels.on_off"
   ]
  },
  {
   "cell_type": "code",
   "execution_count": 31,
   "metadata": {},
   "outputs": [],
   "source": [
    "from sklearn.model_selection import train_test_split\n",
    "train, test = train_test_split(labels.measurement_id.unique())\n",
    "# train, valid = train_test_split(labels.measurement_id.unique())"
   ]
  },
  {
   "cell_type": "code",
   "execution_count": 32,
   "metadata": {},
   "outputs": [],
   "source": [
    "x_train = time_reshaped_data[labels.measurement_id.isin(train)]\n",
    "y_train = labels[labels.measurement_id.isin(train)]\n",
    "x_test = time_reshaped_data[labels.measurement_id.isin(test)]\n",
    "y_test = labels[labels.measurement_id.isin(test)]\n",
    "# x_valid = time_reshaped_data[labels.measurement_id.isin(valid)]\n",
    "# y_valid = labels[labels.measurement_id.isin(valid)]"
   ]
  },
  {
   "cell_type": "code",
   "execution_count": 84,
   "metadata": {},
   "outputs": [
    {
     "data": {
      "text/plain": [
       "(32041, 100, 3, 26)"
      ]
     },
     "execution_count": 84,
     "metadata": {},
     "output_type": "execute_result"
    }
   ],
   "source": [
    "x_train.shape"
   ]
  },
  {
   "cell_type": "code",
   "execution_count": 33,
   "metadata": {},
   "outputs": [
    {
     "name": "stdout",
     "output_type": "stream",
     "text": [
      "_________________________________________________________________\n",
      "Layer (type)                 Output Shape              Param #   \n",
      "=================================================================\n",
      "input_3 (InputLayer)         (None, 100, 3, 26)        0         \n",
      "_________________________________________________________________\n",
      "reshape_2 (Reshape)          (None, 100, 78)           0         \n",
      "_________________________________________________________________\n",
      "batch_normalization_v1_15 (B (None, 100, 78)           312       \n",
      "_________________________________________________________________\n",
      "conv1d_5 (Conv1D)            (None, 98, 25)            5875      \n",
      "_________________________________________________________________\n",
      "leaky_re_lu_15 (LeakyReLU)   (None, 98, 25)            0         \n",
      "_________________________________________________________________\n",
      "max_pooling1d_5 (MaxPooling1 (None, 49, 25)            0         \n",
      "_________________________________________________________________\n",
      "batch_normalization_v1_16 (B (None, 49, 25)            100       \n",
      "_________________________________________________________________\n",
      "conv1d_6 (Conv1D)            (None, 47, 25)            1900      \n",
      "_________________________________________________________________\n",
      "leaky_re_lu_16 (LeakyReLU)   (None, 47, 25)            0         \n",
      "_________________________________________________________________\n",
      "max_pooling1d_6 (MaxPooling1 (None, 23, 25)            0         \n",
      "_________________________________________________________________\n",
      "batch_normalization_v1_17 (B (None, 23, 25)            100       \n",
      "_________________________________________________________________\n",
      "conv1d_7 (Conv1D)            (None, 21, 25)            1900      \n",
      "_________________________________________________________________\n",
      "leaky_re_lu_17 (LeakyReLU)   (None, 21, 25)            0         \n",
      "_________________________________________________________________\n",
      "max_pooling1d_7 (MaxPooling1 (None, 10, 25)            0         \n",
      "_________________________________________________________________\n",
      "time_distributed_2 (TimeDist (None, 10, 25)            100       \n",
      "_________________________________________________________________\n",
      "cu_dnnlstm_2 (CuDNNLSTM)     (None, 10, 20)            3760      \n",
      "_________________________________________________________________\n",
      "leaky_re_lu_18 (LeakyReLU)   (None, 10, 20)            0         \n",
      "_________________________________________________________________\n",
      "flatten_2 (Flatten)          (None, 200)               0         \n",
      "_________________________________________________________________\n",
      "batch_normalization_v1_19 (B (None, 200)               800       \n",
      "_________________________________________________________________\n",
      "dense_10 (Dense)             (None, 200)               40200     \n",
      "_________________________________________________________________\n",
      "leaky_re_lu_19 (LeakyReLU)   (None, 200)               0         \n",
      "_________________________________________________________________\n",
      "dropout_8 (Dropout)          (None, 200)               0         \n",
      "_________________________________________________________________\n",
      "batch_normalization_v1_20 (B (None, 200)               800       \n",
      "_________________________________________________________________\n",
      "dense_11 (Dense)             (None, 200)               40200     \n",
      "_________________________________________________________________\n",
      "leaky_re_lu_20 (LeakyReLU)   (None, 200)               0         \n",
      "_________________________________________________________________\n",
      "dropout_9 (Dropout)          (None, 200)               0         \n",
      "_________________________________________________________________\n",
      "batch_normalization_v1_21 (B (None, 200)               800       \n",
      "_________________________________________________________________\n",
      "dense_12 (Dense)             (None, 200)               40200     \n",
      "_________________________________________________________________\n",
      "leaky_re_lu_21 (LeakyReLU)   (None, 200)               0         \n",
      "_________________________________________________________________\n",
      "dropout_10 (Dropout)         (None, 200)               0         \n",
      "_________________________________________________________________\n",
      "batch_normalization_v1_22 (B (None, 200)               800       \n",
      "_________________________________________________________________\n",
      "dense_13 (Dense)             (None, 200)               40200     \n",
      "_________________________________________________________________\n",
      "leaky_re_lu_22 (LeakyReLU)   (None, 200)               0         \n",
      "_________________________________________________________________\n",
      "dropout_11 (Dropout)         (None, 200)               0         \n",
      "_________________________________________________________________\n",
      "dense_14 (Dense)             (None, 1)                 201       \n",
      "_________________________________________________________________\n",
      "re_lu_2 (ReLU)               (None, 1)                 0         \n",
      "=================================================================\n",
      "Total params: 178,248\n",
      "Trainable params: 176,342\n",
      "Non-trainable params: 1,906\n",
      "_________________________________________________________________\n"
     ]
    }
   ],
   "source": [
    "model.summary()"
   ]
  },
  {
   "cell_type": "code",
   "execution_count": 36,
   "metadata": {},
   "outputs": [
    {
     "name": "stdout",
     "output_type": "stream",
     "text": [
      "Train on 25718 samples, validate on 6430 samples\n",
      "Epoch 1/1000\n",
      "25718/25718 [==============================] - 21s 801us/sample - loss: 2.0566 - val_loss: 1.1809\n",
      "Epoch 2/1000\n",
      "25718/25718 [==============================] - 15s 567us/sample - loss: 1.8811 - val_loss: 1.2784\n",
      "Epoch 3/1000\n",
      "25718/25718 [==============================] - 15s 570us/sample - loss: 1.8551 - val_loss: 0.9523\n",
      "Epoch 4/1000\n",
      "25718/25718 [==============================] - 15s 571us/sample - loss: 1.8163 - val_loss: 1.0835\n",
      "Epoch 5/1000\n",
      "25718/25718 [==============================] - 15s 570us/sample - loss: 1.8032 - val_loss: 1.2691\n",
      "Epoch 6/1000\n",
      "25718/25718 [==============================] - 15s 569us/sample - loss: 1.7783 - val_loss: 1.6500\n",
      "Epoch 7/1000\n",
      "25718/25718 [==============================] - 15s 570us/sample - loss: 1.7621 - val_loss: 1.3872\n",
      "Epoch 8/1000\n",
      "25718/25718 [==============================] - 15s 573us/sample - loss: 1.7407 - val_loss: 1.0696\n"
     ]
    }
   ],
   "source": [
    "history = model.fit(x=x_train, y=y_train.on_off.astype(float).tolist(), validation_split=0.2, epochs=1000, callbacks=[tf.keras.callbacks.EarlyStopping(patience=5), tf.keras.callbacks.ModelCheckpoint(\"beat_pd.h5\", save_best_only=True)])"
   ]
  },
  {
   "cell_type": "code",
   "execution_count": 37,
   "metadata": {},
   "outputs": [],
   "source": [
    "model = tf.keras.models.load_model(\"beat_pd.h5\")"
   ]
  },
  {
   "cell_type": "code",
   "execution_count": 38,
   "metadata": {},
   "outputs": [
    {
     "name": "stdout",
     "output_type": "stream",
     "text": [
      "10559/10559 [==============================] - 2s 223us/sample - loss: 1.8354\n"
     ]
    }
   ],
   "source": [
    "mse = model.evaluate(x_test, y_test.on_off.astype(float).tolist())"
   ]
  },
  {
   "cell_type": "code",
   "execution_count": 39,
   "metadata": {},
   "outputs": [],
   "source": [
    "predictions = model.predict(x_test)"
   ]
  },
  {
   "cell_type": "code",
   "execution_count": 40,
   "metadata": {},
   "outputs": [
    {
     "name": "stderr",
     "output_type": "stream",
     "text": [
      "/home/ms994/miniconda3/envs/keras-redo/lib/python3.7/site-packages/pandas/core/indexing.py:362: SettingWithCopyWarning: \n",
      "A value is trying to be set on a copy of a slice from a DataFrame.\n",
      "Try using .loc[row_indexer,col_indexer] = value instead\n",
      "\n",
      "See the caveats in the documentation: http://pandas.pydata.org/pandas-docs/stable/indexing.html#indexing-view-versus-copy\n",
      "  self.obj[key] = _infer_fill_value(value)\n",
      "/home/ms994/miniconda3/envs/keras-redo/lib/python3.7/site-packages/pandas/core/indexing.py:543: SettingWithCopyWarning: \n",
      "A value is trying to be set on a copy of a slice from a DataFrame.\n",
      "Try using .loc[row_indexer,col_indexer] = value instead\n",
      "\n",
      "See the caveats in the documentation: http://pandas.pydata.org/pandas-docs/stable/indexing.html#indexing-view-versus-copy\n",
      "  self.obj[item] = s\n"
     ]
    }
   ],
   "source": [
    "y_test.loc[:,\"pred\"] = predictions"
   ]
  },
  {
   "cell_type": "code",
   "execution_count": 41,
   "metadata": {},
   "outputs": [],
   "source": [
    "intermediate = y_test.groupby(\"measurement_id\").mean()"
   ]
  },
  {
   "cell_type": "code",
   "execution_count": 42,
   "metadata": {},
   "outputs": [],
   "source": [
    "intermediate.loc[:,\"mse\"] = (intermediate.on_off - intermediate.pred)**2"
   ]
  },
  {
   "cell_type": "code",
   "execution_count": 46,
   "metadata": {},
   "outputs": [
    {
     "data": {
      "text/plain": [
       "subject_id\n",
       "1004    1.428571\n",
       "1007    1.041667\n",
       "1019    1.111111\n",
       "1023    2.266667\n",
       "1034    1.250000\n",
       "1038    0.816327\n",
       "1043    1.300000\n",
       "1048    1.692308\n",
       "1049    1.700000\n",
       "Name: on_off, dtype: float64"
      ]
     },
     "execution_count": 46,
     "metadata": {},
     "output_type": "execute_result"
    }
   ],
   "source": [
    "intermediate.groupby(\"subject_id\")[\"on_off\"].mean()"
   ]
  },
  {
   "cell_type": "code",
   "execution_count": 44,
   "metadata": {},
   "outputs": [
    {
     "data": {
      "text/plain": [
       "<matplotlib.legend.Legend at 0x7f7cbefa2eb8>"
      ]
     },
     "execution_count": 44,
     "metadata": {},
     "output_type": "execute_result"
    },
    {
     "data": {
      "image/png": "[encoded data removed]",
      "text/plain": [
       "<Figure size 432x288 with 1 Axes>"
      ]
     },
     "metadata": {
      "needs_background": "light"
     },
     "output_type": "display_data"
    }
   ],
   "source": [
    "plt.plot(history.history[\"loss\"])\n",
    "plt.plot(history.history[\"val_loss\"])\n",
    "plt.legend([\"Train On Off MSE\", \"Valid On Off MSE\"])"
   ]
  },
  {
   "cell_type": "markdown",
   "metadata": {},
   "source": [
    "# Multioutput Neural Network\n",
    "Let's try to predict everything at once!\n",
    "\n",
    "Multiple weights could help regularize the network, but has the issue of trying to find the correct weighting to give each output. There have been a few methods to get around this, the most popular of which is https://arxiv.org/abs/1705.07115\n",
    "\n",
    "also, i've kinda always wanted to try this model out :P"
   ]
  },
  {
   "cell_type": "code",
   "execution_count": 3,
   "metadata": {},
   "outputs": [],
   "source": [
    "labels1 = pd.read_csv('data/cis-pd/data_labels/CIS-PD_Training_Data_IDs_Labels.csv')"
   ]
  },
  {
   "cell_type": "code",
   "execution_count": 6,
   "metadata": {},
   "outputs": [
    {
     "data": {
      "text/plain": [
       "subject_id\n",
       "1004     82\n",
       "1006     37\n",
       "1007    299\n",
       "1019     45\n",
       "1020    195\n",
       "1023    106\n",
       "1032    177\n",
       "1034     40\n",
       "1038    207\n",
       "1039    130\n",
       "1043     34\n",
       "1044     72\n",
       "1046     67\n",
       "1048     91\n",
       "1049     82\n",
       "1051    194\n",
       "Name: subject_id, dtype: int64"
      ]
     },
     "execution_count": 6,
     "metadata": {},
     "output_type": "execute_result"
    }
   ],
   "source": [
    "labels1.groupby(\"subject_id\")[\"subject_id\"].count()"
   ]
  },
  {
   "cell_type": "code",
   "execution_count": 7,
   "metadata": {},
   "outputs": [],
   "source": [
    "labels = labels1.dropna()"
   ]
  },
  {
   "cell_type": "code",
   "execution_count": 22,
   "metadata": {},
   "outputs": [],
   "source": [
    "all_m_id = labels.measurement_id.unique()\n",
    "all_subject_id = labels.subject_id.unique()"
   ]
  },
  {
   "cell_type": "code",
   "execution_count": 24,
   "metadata": {},
   "outputs": [
    {
     "data": {
      "text/plain": [
       "((963,), (9,))"
      ]
     },
     "execution_count": 24,
     "metadata": {},
     "output_type": "execute_result"
    }
   ],
   "source": [
    "all_m_id.shape, all_subject_id.shape"
   ]
  },
  {
   "cell_type": "code",
   "execution_count": 26,
   "metadata": {},
   "outputs": [],
   "source": [
    "from keras.layers import Input, Dense, Lambda, Layer\n",
    "from keras.initializers import Constant\n",
    "from keras.models import Model\n",
    "from keras import backend as K\n",
    "class HomeoschedasticMultiLossLayer(Layer):\n",
    "    def __init__(self, nb_outputs=2, loss_funcs=[],  **kwargs):\n",
    "        #multiplier is used to change signs\n",
    "        self.nb_outputs = nb_outputs\n",
    "        self.output_dim = nb_outputs\n",
    "        self.is_placeholder = True\n",
    "        self.multiplier = [1 for i in range(nb_outputs)]\n",
    "        self.loss_funcs = loss_funcs\n",
    "        super(HomeoschedasticMultiLossLayer, self).__init__(**kwargs)\n",
    "\n",
    "    def build(self, input_shape=None):\n",
    "        # initialise log_vars\n",
    "        self.log_vars = []\n",
    "        for i in range(self.nb_outputs):\n",
    "            initializer=Constant(1)\n",
    "            self.log_vars += [self.add_weight(name='log_var' + str(i), shape=(1,),\n",
    "                                              initializer=initializer, trainable=True)]\n",
    "        super(HomeoschedasticMultiLossLayer, self).build(input_shape)\n",
    "\n",
    "    def multi_loss(self, ys_true, ys_pred):\n",
    "        assert len(ys_true) == self.nb_outputs and len(ys_pred) == self.nb_outputs\n",
    "        loss = 0\n",
    "        for i, zipped_args in enumerate(zip(ys_true, ys_pred, self.log_vars)):\n",
    "            y_true, y_pred, log_var = zipped_args\n",
    "            # normalized_log_var = log_var[0]/K.sum([other_log_var[0] for other_log_var in self.log_vars])\n",
    "\n",
    "            precision = K.exp(-log_var[0])\n",
    "            sign_cost = 1 if self.multiplier[i] > 0 else -1\n",
    "            if self.multiplier[i] == 0:\n",
    "                sign_cost = 0\n",
    "            loss += K.sum(precision * self.multiplier[i] * self.loss_funcs[i](y_true, y_pred)**2. + sign_cost * log_var[0], -1)\n",
    "        return K.mean(loss)\n",
    "\n",
    "    def call(self, inputs):\n",
    "        ys_true = inputs[:self.nb_outputs]\n",
    "        ys_pred = inputs[self.nb_outputs:]\n",
    "        loss = self.multi_loss(ys_true, ys_pred)\n",
    "        self.add_loss(loss, inputs=inputs)\n",
    "        # pass thru the predictions\n",
    "        return K.concatenate(ys_pred)"
   ]
  },
  {
   "cell_type": "code",
   "execution_count": 14,
   "metadata": {},
   "outputs": [],
   "source": [
    "from sklearn.model_selection import train_test_split\n",
    "\n",
    "train, test = train_test_split(labels.measurement_id)\n",
    "train, valid = train_test_split(train)"
   ]
  },
  {
   "cell_type": "code",
   "execution_count": 15,
   "metadata": {},
   "outputs": [],
   "source": [
    "def get_data(m_id):\n",
    "    data = pd.read_csv(f\"/home/ms994/beat_pd/data/cis-pd/training_data/{m_id}.csv\", index_col=\"Timestamp\", header=0)\n",
    "    return data.set_index(pd.to_timedelta(data.index, unit=\"s\"))"
   ]
  },
  {
   "cell_type": "code",
   "execution_count": null,
   "metadata": {},
   "outputs": [],
   "source": [
    "train_data = []\n",
    "for m_id in train:\n",
    "    "
   ]
  },
  {
   "cell_type": "code",
   "execution_count": 9,
   "metadata": {},
   "outputs": [
    {
     "name": "stdout",
     "output_type": "stream",
     "text": [
      "WARNING:tensorflow:From /home/ms994/miniconda3/envs/keras-redo/lib/python3.7/site-packages/tensorflow/python/ops/resource_variable_ops.py:435: colocate_with (from tensorflow.python.framework.ops) is deprecated and will be removed in a future version.\n",
      "Instructions for updating:\n",
      "Colocations handled automatically by placer.\n"
     ]
    },
    {
     "name": "stderr",
     "output_type": "stream",
     "text": [
      "Using TensorFlow backend.\n"
     ]
    },
    {
     "name": "stdout",
     "output_type": "stream",
     "text": [
      "WARNING:tensorflow:From /home/ms994/miniconda3/envs/keras-redo/lib/python3.7/site-packages/tensorflow/python/keras/layers/core.py:143: calling dropout (from tensorflow.python.ops.nn_ops) with keep_prob is deprecated and will be removed in a future version.\n",
      "Instructions for updating:\n",
      "Please use `rate` instead of `keep_prob`. Rate should be set to `rate = 1 - keep_prob`.\n",
      "WARNING:tensorflow:From /home/ms994/miniconda3/envs/keras-redo/lib/python3.7/site-packages/tensorflow/python/keras/utils/losses_utils.py:170: to_float (from tensorflow.python.ops.math_ops) is deprecated and will be removed in a future version.\n",
      "Instructions for updating:\n",
      "Use tf.cast instead.\n"
     ]
    }
   ],
   "source": [
    "import sys, os\n",
    "import tensorflow as tf\n",
    "sys.path.append(os.path.realpath(\"/home/ms994/dbmi_eeg_clustering\")) #lol, i have a ton of utility classes here\n",
    "from keras_models.metrics import f1, sensitivity, specificity\n",
    "num_layers = 2\n",
    "num_lin_layers= 4\n",
    "\n",
    "#shared encoder network\n",
    "inputX = tf.keras.layers.Input((100,50*20))\n",
    "x = tf.keras.layers.Reshape((100, 3*26))(inputX)\n",
    "for i in range(num_layers):\n",
    "    x = tf.keras.layers.BatchNormalization()(x)\n",
    "    x = tf.keras.layers.Conv1D(26*3, (3,))(x)\n",
    "    x = tf.keras.layers.LeakyReLU()(x)\n",
    "    x = tf.keras.layers.MaxPool1D((2,))(x)\n",
    "x = tf.keras.layers.TimeDistributed(tf.keras.layers.BatchNormalization())(x)\n",
    "x = tf.keras.layers.CuDNNLSTM(50, return_sequences=True)(x)\n",
    "x = tf.keras.layers.LeakyReLU()(x)\n",
    "x_base = x  #last layer of the share network\n",
    "\n",
    "\n",
    "\n",
    "\n",
    "x = x_base\n",
    "# on off output\n",
    "for i in range(num_lin_layers):\n",
    "    x = tf.keras.layers.BatchNormalization()(x)\n",
    "    x = tf.keras.layers.Dense(200)(x)\n",
    "    x = tf.keras.layers.LeakyReLU()(x)\n",
    "    x = tf.keras.layers.Dropout(0.5)(x)\n",
    "    \n",
    "x = tf.keras.layers.Dense(1, kernel_initializer='normal')(x)\n",
    "y_on_off = tf.keras.layers.ReLU(max_value=4, name=\"on_off\")(x)\n",
    "\n",
    "\n",
    "# dyskinesia\n",
    "x = x_base\n",
    "for i in range(num_lin_layers):\n",
    "    x = tf.keras.layers.BatchNormalization()(x)\n",
    "    x = tf.keras.layers.Dense(200)(x)\n",
    "    x = tf.keras.layers.LeakyReLU()(x)\n",
    "    x = tf.keras.layers.Dropout(0.5)(x)\n",
    "    \n",
    "x = tf.keras.layers.Dense(1, kernel_initializer='normal')(x)\n",
    "y_dyskinesia = tf.keras.layers.ReLU(max_value=4, name=\"dyskinesia\")(x)\n",
    "\n",
    "\n",
    "#tremor\n",
    "x = x_base\n",
    "for i in range(num_lin_layers):\n",
    "    x = tf.keras.layers.BatchNormalization()(x)\n",
    "    x = tf.keras.layers.Dense(200)(x)\n",
    "    x = tf.keras.layers.LeakyReLU()(x)\n",
    "    x = tf.keras.layers.Dropout(0.5)(x)\n",
    "    \n",
    "x = tf.keras.layers.Dense(1, kernel_initializer='normal')(x)\n",
    "y_tremor = tf.keras.layers.ReLU(max_value=4, name=\"tremor\")(x)\n",
    "\n",
    "\n",
    "#decoder network\n",
    "x = x_base\n",
    "for i in range(num_layers):\n",
    "    x = tf.keras.layers.BatchNormalization()(x)\n",
    "    x = tf.keras.layers.Conv1D(26*3, (3,))(x)\n",
    "    x = tf.keras.layers.LeakyReLU()(x)\n",
    "    x = tf.keras.layers.UpSampling1D(2)(x)\n",
    "x = tf.keras.layers.BatchNormalization()(x)\n",
    "x = tf.keras.layers.Conv1D(26*3, (3,))(x)\n",
    "x = tf.keras.layers.LeakyReLU()(x)\n",
    "x = tf.keras.layers.UpSampling1D(2)(x)\n",
    "\n",
    "\n",
    "# the size is off, the original is 100 by 26 by 3, we got 160, 23*3\n",
    "# x = tf.keras\n",
    "y_decoder_out = x\n",
    "\n",
    "model = tf.keras.Model(inputs=[inputX], outputs=[y_on_off, y_dyskinesia, y_tremor, y_decoder_out])\n",
    "model.compile(\"adam\", loss=\"mse\")"
   ]
  },
  {
   "cell_type": "code",
   "execution_count": 10,
   "metadata": {},
   "outputs": [
    {
     "name": "stdout",
     "output_type": "stream",
     "text": [
      "__________________________________________________________________________________________________\n",
      "Layer (type)                    Output Shape         Param #     Connected to                     \n",
      "==================================================================================================\n",
      "input_1 (InputLayer)            (None, 100, 1000)    0                                            \n",
      "__________________________________________________________________________________________________\n",
      "reshape (Reshape)               (None, 100, 78)      0           input_1[0][0]                    \n",
      "__________________________________________________________________________________________________\n",
      "batch_normalization_v1 (BatchNo (None, 100, 78)      312         reshape[0][0]                    \n",
      "__________________________________________________________________________________________________\n",
      "conv1d (Conv1D)                 (None, 98, 78)       18330       batch_normalization_v1[0][0]     \n",
      "__________________________________________________________________________________________________\n",
      "leaky_re_lu (LeakyReLU)         (None, 98, 78)       0           conv1d[0][0]                     \n",
      "__________________________________________________________________________________________________\n",
      "max_pooling1d (MaxPooling1D)    (None, 49, 78)       0           leaky_re_lu[0][0]                \n",
      "__________________________________________________________________________________________________\n",
      "batch_normalization_v1_1 (Batch (None, 49, 78)       312         max_pooling1d[0][0]              \n",
      "__________________________________________________________________________________________________\n",
      "conv1d_1 (Conv1D)               (None, 47, 78)       18330       batch_normalization_v1_1[0][0]   \n",
      "__________________________________________________________________________________________________\n",
      "leaky_re_lu_1 (LeakyReLU)       (None, 47, 78)       0           conv1d_1[0][0]                   \n",
      "__________________________________________________________________________________________________\n",
      "max_pooling1d_1 (MaxPooling1D)  (None, 23, 78)       0           leaky_re_lu_1[0][0]              \n",
      "__________________________________________________________________________________________________\n",
      "time_distributed (TimeDistribut (None, 23, 78)       312         max_pooling1d_1[0][0]            \n",
      "__________________________________________________________________________________________________\n",
      "cu_dnnlstm (CuDNNLSTM)          (None, 23, 50)       26000       time_distributed[0][0]           \n",
      "__________________________________________________________________________________________________\n",
      "leaky_re_lu_2 (LeakyReLU)       (None, 23, 50)       0           cu_dnnlstm[0][0]                 \n",
      "__________________________________________________________________________________________________\n",
      "batch_normalization_v1_3 (Batch (None, 23, 50)       200         leaky_re_lu_2[0][0]              \n",
      "__________________________________________________________________________________________________\n",
      "batch_normalization_v1_7 (Batch (None, 23, 50)       200         leaky_re_lu_2[0][0]              \n",
      "__________________________________________________________________________________________________\n",
      "batch_normalization_v1_11 (Batc (None, 23, 50)       200         leaky_re_lu_2[0][0]              \n",
      "__________________________________________________________________________________________________\n",
      "dense (Dense)                   (None, 23, 200)      10200       batch_normalization_v1_3[0][0]   \n",
      "__________________________________________________________________________________________________\n",
      "dense_5 (Dense)                 (None, 23, 200)      10200       batch_normalization_v1_7[0][0]   \n",
      "__________________________________________________________________________________________________\n",
      "dense_10 (Dense)                (None, 23, 200)      10200       batch_normalization_v1_11[0][0]  \n",
      "__________________________________________________________________________________________________\n",
      "leaky_re_lu_3 (LeakyReLU)       (None, 23, 200)      0           dense[0][0]                      \n",
      "__________________________________________________________________________________________________\n",
      "leaky_re_lu_7 (LeakyReLU)       (None, 23, 200)      0           dense_5[0][0]                    \n",
      "__________________________________________________________________________________________________\n",
      "leaky_re_lu_11 (LeakyReLU)      (None, 23, 200)      0           dense_10[0][0]                   \n",
      "__________________________________________________________________________________________________\n",
      "dropout (Dropout)               (None, 23, 200)      0           leaky_re_lu_3[0][0]              \n",
      "__________________________________________________________________________________________________\n",
      "dropout_4 (Dropout)             (None, 23, 200)      0           leaky_re_lu_7[0][0]              \n",
      "__________________________________________________________________________________________________\n",
      "dropout_8 (Dropout)             (None, 23, 200)      0           leaky_re_lu_11[0][0]             \n",
      "__________________________________________________________________________________________________\n",
      "batch_normalization_v1_4 (Batch (None, 23, 200)      800         dropout[0][0]                    \n",
      "__________________________________________________________________________________________________\n",
      "batch_normalization_v1_8 (Batch (None, 23, 200)      800         dropout_4[0][0]                  \n",
      "__________________________________________________________________________________________________\n",
      "batch_normalization_v1_12 (Batc (None, 23, 200)      800         dropout_8[0][0]                  \n",
      "__________________________________________________________________________________________________\n",
      "dense_1 (Dense)                 (None, 23, 200)      40200       batch_normalization_v1_4[0][0]   \n",
      "__________________________________________________________________________________________________\n",
      "dense_6 (Dense)                 (None, 23, 200)      40200       batch_normalization_v1_8[0][0]   \n",
      "__________________________________________________________________________________________________\n",
      "dense_11 (Dense)                (None, 23, 200)      40200       batch_normalization_v1_12[0][0]  \n",
      "__________________________________________________________________________________________________\n",
      "leaky_re_lu_4 (LeakyReLU)       (None, 23, 200)      0           dense_1[0][0]                    \n",
      "__________________________________________________________________________________________________\n",
      "leaky_re_lu_8 (LeakyReLU)       (None, 23, 200)      0           dense_6[0][0]                    \n",
      "__________________________________________________________________________________________________\n",
      "leaky_re_lu_12 (LeakyReLU)      (None, 23, 200)      0           dense_11[0][0]                   \n",
      "__________________________________________________________________________________________________\n",
      "batch_normalization_v1_15 (Batc (None, 23, 50)       200         leaky_re_lu_2[0][0]              \n",
      "__________________________________________________________________________________________________\n",
      "dropout_1 (Dropout)             (None, 23, 200)      0           leaky_re_lu_4[0][0]              \n",
      "__________________________________________________________________________________________________\n",
      "dropout_5 (Dropout)             (None, 23, 200)      0           leaky_re_lu_8[0][0]              \n",
      "__________________________________________________________________________________________________\n",
      "dropout_9 (Dropout)             (None, 23, 200)      0           leaky_re_lu_12[0][0]             \n",
      "__________________________________________________________________________________________________\n",
      "conv1d_2 (Conv1D)               (None, 21, 78)       11778       batch_normalization_v1_15[0][0]  \n",
      "__________________________________________________________________________________________________\n",
      "batch_normalization_v1_5 (Batch (None, 23, 200)      800         dropout_1[0][0]                  \n",
      "__________________________________________________________________________________________________\n",
      "batch_normalization_v1_9 (Batch (None, 23, 200)      800         dropout_5[0][0]                  \n",
      "__________________________________________________________________________________________________\n",
      "batch_normalization_v1_13 (Batc (None, 23, 200)      800         dropout_9[0][0]                  \n",
      "__________________________________________________________________________________________________\n",
      "leaky_re_lu_15 (LeakyReLU)      (None, 21, 78)       0           conv1d_2[0][0]                   \n",
      "__________________________________________________________________________________________________\n",
      "dense_2 (Dense)                 (None, 23, 200)      40200       batch_normalization_v1_5[0][0]   \n",
      "__________________________________________________________________________________________________\n",
      "dense_7 (Dense)                 (None, 23, 200)      40200       batch_normalization_v1_9[0][0]   \n",
      "__________________________________________________________________________________________________\n",
      "dense_12 (Dense)                (None, 23, 200)      40200       batch_normalization_v1_13[0][0]  \n",
      "__________________________________________________________________________________________________\n",
      "up_sampling1d (UpSampling1D)    (None, 42, 78)       0           leaky_re_lu_15[0][0]             \n",
      "__________________________________________________________________________________________________\n",
      "leaky_re_lu_5 (LeakyReLU)       (None, 23, 200)      0           dense_2[0][0]                    \n",
      "__________________________________________________________________________________________________\n",
      "leaky_re_lu_9 (LeakyReLU)       (None, 23, 200)      0           dense_7[0][0]                    \n",
      "__________________________________________________________________________________________________\n",
      "leaky_re_lu_13 (LeakyReLU)      (None, 23, 200)      0           dense_12[0][0]                   \n",
      "__________________________________________________________________________________________________\n",
      "batch_normalization_v1_16 (Batc (None, 42, 78)       312         up_sampling1d[0][0]              \n",
      "__________________________________________________________________________________________________\n",
      "dropout_2 (Dropout)             (None, 23, 200)      0           leaky_re_lu_5[0][0]              \n",
      "__________________________________________________________________________________________________\n",
      "dropout_6 (Dropout)             (None, 23, 200)      0           leaky_re_lu_9[0][0]              \n",
      "__________________________________________________________________________________________________\n",
      "dropout_10 (Dropout)            (None, 23, 200)      0           leaky_re_lu_13[0][0]             \n",
      "__________________________________________________________________________________________________\n",
      "conv1d_3 (Conv1D)               (None, 40, 78)       18330       batch_normalization_v1_16[0][0]  \n",
      "__________________________________________________________________________________________________\n",
      "batch_normalization_v1_6 (Batch (None, 23, 200)      800         dropout_2[0][0]                  \n",
      "__________________________________________________________________________________________________\n",
      "batch_normalization_v1_10 (Batc (None, 23, 200)      800         dropout_6[0][0]                  \n",
      "__________________________________________________________________________________________________\n",
      "batch_normalization_v1_14 (Batc (None, 23, 200)      800         dropout_10[0][0]                 \n",
      "__________________________________________________________________________________________________\n",
      "leaky_re_lu_16 (LeakyReLU)      (None, 40, 78)       0           conv1d_3[0][0]                   \n",
      "__________________________________________________________________________________________________\n",
      "dense_3 (Dense)                 (None, 23, 200)      40200       batch_normalization_v1_6[0][0]   \n",
      "__________________________________________________________________________________________________\n",
      "dense_8 (Dense)                 (None, 23, 200)      40200       batch_normalization_v1_10[0][0]  \n",
      "__________________________________________________________________________________________________\n",
      "dense_13 (Dense)                (None, 23, 200)      40200       batch_normalization_v1_14[0][0]  \n",
      "__________________________________________________________________________________________________\n",
      "up_sampling1d_1 (UpSampling1D)  (None, 80, 78)       0           leaky_re_lu_16[0][0]             \n",
      "__________________________________________________________________________________________________\n",
      "leaky_re_lu_6 (LeakyReLU)       (None, 23, 200)      0           dense_3[0][0]                    \n",
      "__________________________________________________________________________________________________\n",
      "leaky_re_lu_10 (LeakyReLU)      (None, 23, 200)      0           dense_8[0][0]                    \n",
      "__________________________________________________________________________________________________\n",
      "leaky_re_lu_14 (LeakyReLU)      (None, 23, 200)      0           dense_13[0][0]                   \n",
      "__________________________________________________________________________________________________\n",
      "batch_normalization_v1_17 (Batc (None, 80, 78)       312         up_sampling1d_1[0][0]            \n",
      "__________________________________________________________________________________________________\n",
      "dropout_3 (Dropout)             (None, 23, 200)      0           leaky_re_lu_6[0][0]              \n",
      "__________________________________________________________________________________________________\n",
      "dropout_7 (Dropout)             (None, 23, 200)      0           leaky_re_lu_10[0][0]             \n",
      "__________________________________________________________________________________________________\n",
      "dropout_11 (Dropout)            (None, 23, 200)      0           leaky_re_lu_14[0][0]             \n",
      "__________________________________________________________________________________________________\n",
      "conv1d_4 (Conv1D)               (None, 78, 78)       18330       batch_normalization_v1_17[0][0]  \n",
      "__________________________________________________________________________________________________\n",
      "dense_4 (Dense)                 (None, 23, 1)        201         dropout_3[0][0]                  \n",
      "__________________________________________________________________________________________________\n",
      "dense_9 (Dense)                 (None, 23, 1)        201         dropout_7[0][0]                  \n",
      "__________________________________________________________________________________________________\n",
      "dense_14 (Dense)                (None, 23, 1)        201         dropout_11[0][0]                 \n",
      "__________________________________________________________________________________________________\n",
      "leaky_re_lu_17 (LeakyReLU)      (None, 78, 78)       0           conv1d_4[0][0]                   \n",
      "__________________________________________________________________________________________________\n",
      "on_off (ReLU)                   (None, 23, 1)        0           dense_4[0][0]                    \n",
      "__________________________________________________________________________________________________\n",
      "dyskinesia (ReLU)               (None, 23, 1)        0           dense_9[0][0]                    \n",
      "__________________________________________________________________________________________________\n",
      "tremor (ReLU)                   (None, 23, 1)        0           dense_14[0][0]                   \n",
      "__________________________________________________________________________________________________\n",
      "up_sampling1d_2 (UpSampling1D)  (None, 156, 78)      0           leaky_re_lu_17[0][0]             \n",
      "==================================================================================================\n",
      "Total params: 513,661\n",
      "Trainable params: 508,881\n",
      "Non-trainable params: 4,780\n",
      "__________________________________________________________________________________________________\n"
     ]
    }
   ],
   "source": [
    "model.summary()"
   ]
  }
 ],
 "metadata": {
  "kernelspec": {
   "display_name": "Python 3",
   "language": "python",
   "name": "python3"
  },
  "language_info": {
   "codemirror_mode": {
    "name": "ipython",
    "version": 3
   },
   "file_extension": ".py",
   "mimetype": "text/x-python",
   "name": "python",
   "nbconvert_exporter": "python",
   "pygments_lexer": "ipython3",
   "version": "3.7.3"
  },
  "toc": {
   "base_numbering": 1,
   "nav_menu": {},
   "number_sections": true,
   "sideBar": true,
   "skip_h1_title": false,
   "title_cell": "Table of Contents",
   "title_sidebar": "Contents",
   "toc_cell": false,
   "toc_position": {},
   "toc_section_display": true,
   "toc_window_display": true
  }
 },
 "nbformat": 4,
 "nbformat_minor": 2
}
