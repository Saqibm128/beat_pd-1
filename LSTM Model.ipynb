{
 "cells": [
  {
   "cell_type": "markdown",
   "metadata": {},
   "source": [
    "# LSTM Model\n",
    "As per yidi, need to work on deep learning part of the project. Gonna just try a quick shotgun approach to see what could work\n",
    "\n",
    "Supposedly would be nice to use the entire segment for LSTM, but lets just use 20 second segments for now"
   ]
  },
  {
   "cell_type": "code",
   "execution_count": 1,
   "metadata": {},
   "outputs": [],
   "source": [
    "import glob \n",
    "import os\n",
    "import pandas as pd\n",
    "import statsmodels as sm\n",
    "import numpy as np\n",
    "import seaborn as sns\n",
    "import matplotlib.pyplot as plt\n",
    "import sklearn\n",
    "\n",
    "from importlib import reload\n",
    "from sklearn import model_selection, metrics\n",
    "from tqdm.auto import tqdm\n",
    "from scipy import signal\n",
    "from statsmodels.graphics.tsaplots import plot_acf, plot_pacf\n",
    "from statsmodels.tsa.arima_model import ARIMA\n",
    "from pandas.plotting import autocorrelation_plot\n",
    "\n",
    "from src import main, feature_model\n",
    "\n",
    "labels1 = pd.read_csv('data/cis-pd/data_labels/CIS-PD_Training_Data_IDs_Labels.csv')\n",
    "labels2 = pd.read_csv('data/real-pd/data_labels/REAL-PD_Training_Data_IDs_Labels.csv')"
   ]
  },
  {
   "cell_type": "code",
   "execution_count": null,
   "metadata": {},
   "outputs": [],
   "source": []
  },
  {
   "cell_type": "code",
   "execution_count": 7,
   "metadata": {},
   "outputs": [
    {
     "name": "stdout",
     "output_type": "stream",
     "text": [
      "REAL-PD_Demographics.csv\n",
      "REAL-PD_Smartphone_Metadata.csv\n",
      "REAL-PD_UPDRS_Part1_2_4.csv\n",
      "REAL-PD_UPDRS_Part3.csv\n"
     ]
    }
   ],
   "source": [
    "%%bash\n",
    "ls ../beat_pd/data/real-pd/clinical_data/"
   ]
  },
  {
   "cell_type": "code",
   "execution_count": 2,
   "metadata": {},
   "outputs": [],
   "source": [
    "labels = labels1.dropna()"
   ]
  },
  {
   "cell_type": "code",
   "execution_count": 3,
   "metadata": {},
   "outputs": [],
   "source": [
    "#lets go and filter data with some utility funcs\n",
    "from scipy.signal import butter, lfilter\n",
    "\n",
    "# https://scipy-cookbook.readthedocs.io/items/ButterworthBandpass.html\n",
    "\n",
    "# grabs some filter constants for making bandpass filter\n",
    "#    order is kinda like strength of filter... higher leads to more ideal filter but has weird interactions near the edges of the filter\n",
    "#    lower is less ideal but results in less artifacts being generated\n",
    "#    this is a bit of a cheat anyways, using a lowpass and highpass together, there may be less sketch filter designs applicable\n",
    "def butter_bandpass(lowcut, highcut, fs, order=5):\n",
    "    nyq = 0.5 * fs\n",
    "    low = lowcut / nyq\n",
    "    high = highcut / nyq\n",
    "    b, a = butter(order, [low, high], btype='band')\n",
    "    return b, a\n",
    "\n",
    "def butter_bandpass_filter(data, lowcut, highcut, fs, order=5):\n",
    "    b, a = butter_bandpass(lowcut, highcut, fs, order=order)\n",
    "    y = lfilter(b, a, data)\n",
    "    return y\n",
    "def butter_lp_filter(data, lowcut, fs, order=5):\n",
    "    nyq = 0.5 * fs #just get the highest freq possible (nyquist, and bandgap it!)\n",
    "    hc = nyq * 0.9 #can't accept exactly nyq\n",
    "    print(\"hc:\", hc)\n",
    "    return butter_bandpass_filter(data, lowcut, hyc, fs, order)\n",
    "def butter_bandgap_filter(data, lowcut, highcut, fs, order=5):\n",
    "    if highcut is None:\n",
    "        return butter_bandgap_filter(data, lowcut, fs, order)\n",
    "    toRemove = butter_bandpass_filter(data, lowcut, highcut, fs, order)\n",
    "    return data - toRemove\n",
    "from src.main import read_seq\n",
    "\n",
    "def get_data(m_id):\n",
    "    data = pd.read_csv(f\"/home/ms994/beat_pd/data/cis-pd/training_data/{m_id}.csv\", index_col=\"Timestamp\", header=0)\n",
    "    return data.set_index(pd.to_timedelta(data.index, unit=\"s\"))\n",
    "def get_preprocessed_data(measurement_id, low_f=1, high_f=10):\n",
    "    data = get_data(measurement_id)\n",
    "    #50 hz, make a bandpass between 1 and 10 hz, with order of 5\n",
    "    data = butter_bandpass_filter(data, low_f, high_f, 50, 5)\n",
    "    return data"
   ]
  },
  {
   "cell_type": "code",
   "execution_count": null,
   "metadata": {},
   "outputs": [],
   "source": [
    "all_data = "
   ]
  },
  {
   "cell_type": "markdown",
   "metadata": {},
   "source": [
    "## Let's try just using the frequency data"
   ]
  },
  {
   "cell_type": "code",
   "execution_count": 4,
   "metadata": {},
   "outputs": [],
   "source": [
    "import pickle as pkl\n",
    "#from the EDA.ipynb\n",
    "np_x_data = pkl.load(open(\"/n/scratch2/ms994/beat_pd_frequency_data.pkl\", \"rb\"))\n",
    "y = pkl.load(open(\"/n/scratch2/ms994/beat_pd_labels_1s.pkl\", \"rb\"))"
   ]
  },
  {
   "cell_type": "code",
   "execution_count": 5,
   "metadata": {},
   "outputs": [
    {
     "data": {
      "text/plain": [
       "((2210912, 3, 26), (2210912, 5))"
      ]
     },
     "execution_count": 5,
     "metadata": {},
     "output_type": "execute_result"
    }
   ],
   "source": [
    "np_x_data.shape, y.shape"
   ]
  },
  {
   "cell_type": "code",
   "execution_count": 6,
   "metadata": {},
   "outputs": [],
   "source": [
    "import tensorflow as tf"
   ]
  },
  {
   "cell_type": "markdown",
   "metadata": {},
   "source": [
    "### Reshape back out into correct shape\n",
    "I flattened this between measurements originally as a way to run RF on everything, but running this as a sequence may make much more sense.\n",
    "The way I concatenated everything has maintained order, so I should be able to separate back out while keeping chronological order."
   ]
  },
  {
   "cell_type": "code",
   "execution_count": 8,
   "metadata": {},
   "outputs": [],
   "source": [
    "#grab all the measurement ids\n",
    "m_ids = y.measurement_id.unique()"
   ]
  },
  {
   "cell_type": "code",
   "execution_count": 10,
   "metadata": {},
   "outputs": [
    {
     "data": {
      "text/plain": [
       "(963,)"
      ]
     },
     "execution_count": 10,
     "metadata": {},
     "output_type": "execute_result"
    }
   ],
   "source": [
    "m_ids.shape #only 963 in here"
   ]
  },
  {
   "cell_type": "code",
   "execution_count": 36,
   "metadata": {},
   "outputs": [],
   "source": [
    "label = labels1.dropna()"
   ]
  },
  {
   "cell_type": "code",
   "execution_count": 40,
   "metadata": {},
   "outputs": [
    {
     "data": {
      "text/plain": [
       "(963, 5)"
      ]
     },
     "execution_count": 40,
     "metadata": {},
     "output_type": "execute_result"
    }
   ],
   "source": [
    "label.shape"
   ]
  },
  {
   "cell_type": "code",
   "execution_count": 11,
   "metadata": {},
   "outputs": [],
   "source": [
    "reshapedData = []\n",
    "for m_id in m_ids:\n",
    "    reshapedData.append(np_x_data[y.measurement_id==m_id])"
   ]
  },
  {
   "cell_type": "code",
   "execution_count": 43,
   "metadata": {},
   "outputs": [
    {
     "data": {
      "text/plain": [
       "1799"
      ]
     },
     "execution_count": 43,
     "metadata": {},
     "output_type": "execute_result"
    }
   ],
   "source": [
    "reshapedData[0].shape[0]"
   ]
  },
  {
   "cell_type": "code",
   "execution_count": 46,
   "metadata": {},
   "outputs": [],
   "source": [
    "# lets try for 2 minute chunks of data, split into, say, 10 seconds of data with 5 second overlap?\n",
    "time_reshaped_data = []\n",
    "time_reshaped_y = []\n",
    "for i, m_id in enumerate(m_ids):\n",
    "    max_instances = int(np.floor(reshapedData[i].shape[0]/50 - 1) )\n",
    "    for j in range(max_instances):\n",
    "        time_reshaped_data.append(reshapedData[i][j*50:j*50 + 100])\n",
    "        time_reshaped_y.append(label[label.measurement_id == m_id])"
   ]
  },
  {
   "cell_type": "code",
   "execution_count": 48,
   "metadata": {},
   "outputs": [],
   "source": [
    "time_reshaped_data = np.array(time_reshaped_data)"
   ]
  },
  {
   "cell_type": "code",
   "execution_count": 50,
   "metadata": {},
   "outputs": [
    {
     "data": {
      "text/plain": [
       "(42707, 100, 3, 26)"
      ]
     },
     "execution_count": 50,
     "metadata": {},
     "output_type": "execute_result"
    }
   ],
   "source": [
    "time_reshaped_data.shape #lets try 1d cnn"
   ]
  },
  {
   "cell_type": "markdown",
   "metadata": {},
   "source": [
    "looks like it is a correct pad value, nothing in the sequence matches"
   ]
  },
  {
   "cell_type": "code",
   "execution_count": 94,
   "metadata": {},
   "outputs": [],
   "source": [
    "import sys, os\n",
    "import tensorflow as tf\n",
    "sys.path.append(os.path.realpath(\"/home/ms994/dbmi_eeg_clustering\")) #lol, i have a ton of utility classes here\n",
    "from keras_models.metrics import f1, sensitivity, specificity\n",
    "num_layers = 2\n",
    "num_lin_layers= 4\n",
    "inputX = tf.keras.layers.Input((100,3,26))\n",
    "x = tf.keras.layers.Reshape((100, 3*26))(inputX)\n",
    "for i in range(num_layers):\n",
    "    x = tf.keras.layers.BatchNormalization()(x)\n",
    "    x = tf.keras.layers.Conv1D(50, (5,))(x)\n",
    "    x = tf.keras.layers.LeakyReLU()(x)\n",
    "    x = tf.keras.layers.MaxPool1D((2,))(x)\n",
    "x = tf.keras.layers.TimeDistributed(tf.keras.layers.BatchNormalization())(x)\n",
    "x = tf.keras.layers.CuDNNLSTM(50, return_sequences=True)(x)\n",
    "x = tf.keras.layers.LeakyReLU()(x)\n",
    "x = tf.keras.layers.Flatten()(x)\n",
    "\n",
    "for i in range(num_lin_layers):\n",
    "    x = tf.keras.layers.BatchNormalization()(x)\n",
    "    x = tf.keras.layers.Dense(200)(x)\n",
    "    x = tf.keras.layers.LeakyReLU()(x)\n",
    "    x = tf.keras.layers.Dropout(0.5)(x)\n",
    "\n",
    "    \n",
    "x = tf.keras.layers.Dense(1, kernel_initializer='normal')(x)\n",
    "y_on_off = tf.keras.layers.ReLU(max_value=4)(x)\n",
    "\n",
    "model = tf.keras.Model(inputs=[inputX], outputs=[y_on_off])\n",
    "model.compile(\"adam\", loss=\"mse\")"
   ]
  },
  {
   "cell_type": "code",
   "execution_count": 63,
   "metadata": {},
   "outputs": [],
   "source": [
    "labels = pd.concat(time_reshaped_y, axis=0)\n",
    "labels.head()\n",
    "y = labels.on_off"
   ]
  },
  {
   "cell_type": "code",
   "execution_count": 80,
   "metadata": {},
   "outputs": [],
   "source": [
    "from sklearn.model_selection import train_test_split\n",
    "train, test = train_test_split(labels.measurement_id.unique())\n",
    "# train, valid = train_test_split(labels.measurement_id.unique())"
   ]
  },
  {
   "cell_type": "code",
   "execution_count": 81,
   "metadata": {},
   "outputs": [],
   "source": [
    "x_train = time_reshaped_data[labels.measurement_id.isin(train)]\n",
    "y_train = labels[labels.measurement_id.isin(train)]\n",
    "x_test = time_reshaped_data[labels.measurement_id.isin(test)]\n",
    "y_test = labels[labels.measurement_id.isin(test)]\n",
    "# x_valid = time_reshaped_data[labels.measurement_id.isin(valid)]\n",
    "# y_valid = labels[labels.measurement_id.isin(valid)]"
   ]
  },
  {
   "cell_type": "code",
   "execution_count": 84,
   "metadata": {},
   "outputs": [
    {
     "data": {
      "text/plain": [
       "(32041, 100, 3, 26)"
      ]
     },
     "execution_count": 84,
     "metadata": {},
     "output_type": "execute_result"
    }
   ],
   "source": [
    "x_train.shape"
   ]
  },
  {
   "cell_type": "code",
   "execution_count": 92,
   "metadata": {},
   "outputs": [
    {
     "name": "stdout",
     "output_type": "stream",
     "text": [
      "_________________________________________________________________\n",
      "Layer (type)                 Output Shape              Param #   \n",
      "=================================================================\n",
      "input_12 (InputLayer)        (None, 100, 3, 26)        0         \n",
      "_________________________________________________________________\n",
      "reshape_11 (Reshape)         (None, 100, 78)           0         \n",
      "_________________________________________________________________\n",
      "batch_normalization_v1_82 (B (None, 100, 78)           312       \n",
      "_________________________________________________________________\n",
      "conv1d_37 (Conv1D)           (None, 96, 50)            19550     \n",
      "_________________________________________________________________\n",
      "leaky_re_lu_81 (LeakyReLU)   (None, 96, 50)            0         \n",
      "_________________________________________________________________\n",
      "max_pooling1d_36 (MaxPooling (None, 48, 50)            0         \n",
      "_________________________________________________________________\n",
      "batch_normalization_v1_83 (B (None, 48, 50)            200       \n",
      "_________________________________________________________________\n",
      "conv1d_38 (Conv1D)           (None, 44, 50)            12550     \n",
      "_________________________________________________________________\n",
      "leaky_re_lu_82 (LeakyReLU)   (None, 44, 50)            0         \n",
      "_________________________________________________________________\n",
      "max_pooling1d_37 (MaxPooling (None, 22, 50)            0         \n",
      "_________________________________________________________________\n",
      "time_distributed_9 (TimeDist (None, 22, 50)            200       \n",
      "_________________________________________________________________\n",
      "cu_dnnlstm_9 (CuDNNLSTM)     (None, 22, 50)            20400     \n",
      "_________________________________________________________________\n",
      "leaky_re_lu_83 (LeakyReLU)   (None, 22, 50)            0         \n",
      "_________________________________________________________________\n",
      "flatten (Flatten)            (None, 1100)              0         \n",
      "_________________________________________________________________\n",
      "batch_normalization_v1_85 (B (None, 1100)              4400      \n",
      "_________________________________________________________________\n",
      "dense_44 (Dense)             (None, 200)               220200    \n",
      "_________________________________________________________________\n",
      "leaky_re_lu_84 (LeakyReLU)   (None, 200)               0         \n",
      "_________________________________________________________________\n",
      "dropout_36 (Dropout)         (None, 200)               0         \n",
      "_________________________________________________________________\n",
      "batch_normalization_v1_86 (B (None, 200)               800       \n",
      "_________________________________________________________________\n",
      "dense_45 (Dense)             (None, 200)               40200     \n",
      "_________________________________________________________________\n",
      "leaky_re_lu_85 (LeakyReLU)   (None, 200)               0         \n",
      "_________________________________________________________________\n",
      "dropout_37 (Dropout)         (None, 200)               0         \n",
      "_________________________________________________________________\n",
      "batch_normalization_v1_87 (B (None, 200)               800       \n",
      "_________________________________________________________________\n",
      "dense_46 (Dense)             (None, 200)               40200     \n",
      "_________________________________________________________________\n",
      "leaky_re_lu_86 (LeakyReLU)   (None, 200)               0         \n",
      "_________________________________________________________________\n",
      "dropout_38 (Dropout)         (None, 200)               0         \n",
      "_________________________________________________________________\n",
      "batch_normalization_v1_88 (B (None, 200)               800       \n",
      "_________________________________________________________________\n",
      "dense_47 (Dense)             (None, 200)               40200     \n",
      "_________________________________________________________________\n",
      "leaky_re_lu_87 (LeakyReLU)   (None, 200)               0         \n",
      "_________________________________________________________________\n",
      "dropout_39 (Dropout)         (None, 200)               0         \n",
      "_________________________________________________________________\n",
      "dense_48 (Dense)             (None, 1)                 201       \n",
      "_________________________________________________________________\n",
      "re_lu_2 (ReLU)               (None, 1)                 0         \n",
      "=================================================================\n",
      "Total params: 401,013\n",
      "Trainable params: 397,257\n",
      "Non-trainable params: 3,756\n",
      "_________________________________________________________________\n"
     ]
    }
   ],
   "source": [
    "model.summary()"
   ]
  },
  {
   "cell_type": "code",
   "execution_count": 95,
   "metadata": {},
   "outputs": [
    {
     "name": "stdout",
     "output_type": "stream",
     "text": [
      "Train on 25632 samples, validate on 6409 samples\n",
      "Epoch 1/1000\n",
      "25632/25632 [==============================] - 27s 1ms/sample - loss: 2.1178 - val_loss: 1.4630\n",
      "Epoch 2/1000\n",
      "25632/25632 [==============================] - 14s 551us/sample - loss: 1.9198 - val_loss: 1.3737\n",
      "Epoch 3/1000\n",
      "25632/25632 [==============================] - 13s 524us/sample - loss: 1.8765 - val_loss: 1.6006\n",
      "Epoch 4/1000\n",
      "25632/25632 [==============================] - 13s 526us/sample - loss: 1.8438 - val_loss: 1.9788\n",
      "Epoch 5/1000\n",
      "25632/25632 [==============================] - 14s 527us/sample - loss: 1.8205 - val_loss: 2.6128\n",
      "Epoch 6/1000\n",
      "25632/25632 [==============================] - 14s 530us/sample - loss: 1.7894 - val_loss: 1.4262\n",
      "Epoch 7/1000\n",
      "25632/25632 [==============================] - 14s 531us/sample - loss: 1.7716 - val_loss: 1.4488\n",
      "Epoch 8/1000\n",
      "25632/25632 [==============================] - 14s 535us/sample - loss: 1.7359 - val_loss: 1.1712\n",
      "Epoch 9/1000\n",
      "25632/25632 [==============================] - 14s 534us/sample - loss: 1.7181 - val_loss: 1.3305\n",
      "Epoch 10/1000\n",
      "25632/25632 [==============================] - 14s 532us/sample - loss: 1.6949 - val_loss: 1.4467\n",
      "Epoch 11/1000\n",
      "25632/25632 [==============================] - 14s 533us/sample - loss: 1.6858 - val_loss: 1.2949\n",
      "Epoch 12/1000\n",
      "25632/25632 [==============================] - 14s 532us/sample - loss: 1.6584 - val_loss: 1.3559\n",
      "Epoch 13/1000\n",
      "25632/25632 [==============================] - 14s 531us/sample - loss: 1.6290 - val_loss: 1.2146\n",
      "Epoch 14/1000\n",
      "25632/25632 [==============================] - 14s 533us/sample - loss: 1.6147 - val_loss: 1.7391\n",
      "Epoch 15/1000\n",
      "25632/25632 [==============================] - 14s 530us/sample - loss: 1.5819 - val_loss: 1.4208\n",
      "Epoch 16/1000\n",
      "25632/25632 [==============================] - 14s 532us/sample - loss: 1.5630 - val_loss: 1.6610\n",
      "Epoch 17/1000\n",
      "25632/25632 [==============================] - 14s 530us/sample - loss: 1.5361 - val_loss: 1.5174\n",
      "Epoch 18/1000\n",
      "25632/25632 [==============================] - 14s 532us/sample - loss: 1.5116 - val_loss: 1.2115\n",
      "Epoch 19/1000\n",
      "25632/25632 [==============================] - 14s 528us/sample - loss: 1.4792 - val_loss: 1.3578\n",
      "Epoch 20/1000\n",
      "25632/25632 [==============================] - 14s 537us/sample - loss: 1.4375 - val_loss: 1.1705\n",
      "Epoch 21/1000\n",
      "25632/25632 [==============================] - 14s 532us/sample - loss: 1.4255 - val_loss: 1.3606\n",
      "Epoch 22/1000\n",
      "25632/25632 [==============================] - 14s 533us/sample - loss: 1.3882 - val_loss: 1.4983\n",
      "Epoch 23/1000\n",
      "25632/25632 [==============================] - 14s 533us/sample - loss: 1.3699 - val_loss: 1.2506\n",
      "Epoch 24/1000\n",
      "25632/25632 [==============================] - 14s 532us/sample - loss: 1.3305 - val_loss: 1.5408\n",
      "Epoch 25/1000\n",
      "25632/25632 [==============================] - 14s 530us/sample - loss: 1.3124 - val_loss: 1.3130\n",
      "Epoch 26/1000\n",
      "25632/25632 [==============================] - 14s 529us/sample - loss: 1.2648 - val_loss: 1.4772\n",
      "Epoch 27/1000\n",
      "25632/25632 [==============================] - 14s 535us/sample - loss: 1.2637 - val_loss: 1.7266\n",
      "Epoch 28/1000\n",
      "25632/25632 [==============================] - 14s 534us/sample - loss: 1.2429 - val_loss: 1.2953\n",
      "Epoch 29/1000\n",
      "25632/25632 [==============================] - 14s 532us/sample - loss: 1.2052 - val_loss: 1.7935\n",
      "Epoch 30/1000\n",
      "25632/25632 [==============================] - 14s 531us/sample - loss: 1.1809 - val_loss: 1.6214\n",
      "Epoch 31/1000\n",
      "25632/25632 [==============================] - 14s 532us/sample - loss: 1.1599 - val_loss: 1.6973\n",
      "Epoch 32/1000\n",
      "25632/25632 [==============================] - 14s 532us/sample - loss: 1.1510 - val_loss: 1.6906\n",
      "Epoch 33/1000\n",
      "25632/25632 [==============================] - 14s 534us/sample - loss: 1.1183 - val_loss: 1.5182\n",
      "Epoch 34/1000\n",
      "25632/25632 [==============================] - 14s 533us/sample - loss: 1.1205 - val_loss: 1.4155\n",
      "Epoch 35/1000\n",
      "25632/25632 [==============================] - 14s 536us/sample - loss: 1.0874 - val_loss: 1.6693\n",
      "Epoch 36/1000\n",
      "25632/25632 [==============================] - 14s 553us/sample - loss: 1.0732 - val_loss: 1.3598\n",
      "Epoch 37/1000\n",
      "25632/25632 [==============================] - 14s 553us/sample - loss: 1.0663 - val_loss: 1.6949\n",
      "Epoch 38/1000\n",
      "25632/25632 [==============================] - 14s 540us/sample - loss: 1.0380 - val_loss: 1.7647\n",
      "Epoch 39/1000\n",
      "25632/25632 [==============================] - 14s 529us/sample - loss: 1.0393 - val_loss: 1.4723\n",
      "Epoch 40/1000\n",
      "25632/25632 [==============================] - 14s 528us/sample - loss: 1.0077 - val_loss: 1.7724\n"
     ]
    }
   ],
   "source": [
    "history = model.fit(x=x_train, y=y_train.on_off.astype(float).tolist(), validation_split=0.2, epochs=1000, callbacks=[tf.keras.callbacks.EarlyStopping(patience=20), tf.keras.callbacks.ModelCheckpoint(\"beat_pd.h5\", save_best_only=True)])"
   ]
  },
  {
   "cell_type": "code",
   "execution_count": 96,
   "metadata": {},
   "outputs": [],
   "source": [
    "model = tf.keras.models.load_model(\"beat_pd.h5\")"
   ]
  },
  {
   "cell_type": "code",
   "execution_count": 97,
   "metadata": {},
   "outputs": [
    {
     "name": "stdout",
     "output_type": "stream",
     "text": [
      "10666/10666 [==============================] - 4s 359us/sample - loss: 1.7181\n"
     ]
    }
   ],
   "source": [
    "mse = model.evaluate(x_test, y_test.on_off.astype(float).tolist())"
   ]
  },
  {
   "cell_type": "code",
   "execution_count": 101,
   "metadata": {},
   "outputs": [],
   "source": [
    "predictions = model.predict(x_test)"
   ]
  },
  {
   "cell_type": "code",
   "execution_count": 105,
   "metadata": {},
   "outputs": [
    {
     "name": "stderr",
     "output_type": "stream",
     "text": [
      "/home/ms994/miniconda3/envs/keras-redo/lib/python3.7/site-packages/pandas/core/indexing.py:543: SettingWithCopyWarning: \n",
      "A value is trying to be set on a copy of a slice from a DataFrame.\n",
      "Try using .loc[row_indexer,col_indexer] = value instead\n",
      "\n",
      "See the caveats in the documentation: http://pandas.pydata.org/pandas-docs/stable/indexing.html#indexing-view-versus-copy\n",
      "  self.obj[item] = s\n"
     ]
    }
   ],
   "source": [
    "y_test.loc[:,\"pred\"] = predictions"
   ]
  },
  {
   "cell_type": "code",
   "execution_count": 112,
   "metadata": {},
   "outputs": [],
   "source": [
    "intermediate = y_test.groupby(\"measurement_id\").mean()"
   ]
  },
  {
   "cell_type": "code",
   "execution_count": 113,
   "metadata": {},
   "outputs": [],
   "source": [
    "intermediate.loc[:,\"mse\"] = (intermediate.on_off - intermediate.pred)**2"
   ]
  },
  {
   "cell_type": "code",
   "execution_count": 115,
   "metadata": {},
   "outputs": [
    {
     "data": {
      "text/html": [
       "<div>\n",
       "<style scoped>\n",
       "    .dataframe tbody tr th:only-of-type {\n",
       "        vertical-align: middle;\n",
       "    }\n",
       "\n",
       "    .dataframe tbody tr th {\n",
       "        vertical-align: top;\n",
       "    }\n",
       "\n",
       "    .dataframe thead th {\n",
       "        text-align: right;\n",
       "    }\n",
       "</style>\n",
       "<table border=\"1\" class=\"dataframe\">\n",
       "  <thead>\n",
       "    <tr style=\"text-align: right;\">\n",
       "      <th></th>\n",
       "      <th>on_off</th>\n",
       "      <th>dyskinesia</th>\n",
       "      <th>tremor</th>\n",
       "      <th>pred</th>\n",
       "      <th>mse</th>\n",
       "    </tr>\n",
       "    <tr>\n",
       "      <th>subject_id</th>\n",
       "      <th></th>\n",
       "      <th></th>\n",
       "      <th></th>\n",
       "      <th></th>\n",
       "      <th></th>\n",
       "    </tr>\n",
       "  </thead>\n",
       "  <tbody>\n",
       "    <tr>\n",
       "      <th>1004</th>\n",
       "      <td>1.368421</td>\n",
       "      <td>1.368421</td>\n",
       "      <td>1.105263</td>\n",
       "      <td>1.516270</td>\n",
       "      <td>0.835604</td>\n",
       "    </tr>\n",
       "    <tr>\n",
       "      <th>1007</th>\n",
       "      <td>0.910448</td>\n",
       "      <td>0.074627</td>\n",
       "      <td>0.298507</td>\n",
       "      <td>1.207870</td>\n",
       "      <td>1.542110</td>\n",
       "    </tr>\n",
       "    <tr>\n",
       "      <th>1019</th>\n",
       "      <td>1.538462</td>\n",
       "      <td>1.000000</td>\n",
       "      <td>1.230769</td>\n",
       "      <td>1.555669</td>\n",
       "      <td>1.706153</td>\n",
       "    </tr>\n",
       "    <tr>\n",
       "      <th>1023</th>\n",
       "      <td>2.111111</td>\n",
       "      <td>1.074074</td>\n",
       "      <td>0.407407</td>\n",
       "      <td>1.855543</td>\n",
       "      <td>1.370774</td>\n",
       "    </tr>\n",
       "    <tr>\n",
       "      <th>1034</th>\n",
       "      <td>1.181818</td>\n",
       "      <td>1.636364</td>\n",
       "      <td>0.727273</td>\n",
       "      <td>1.456636</td>\n",
       "      <td>1.226834</td>\n",
       "    </tr>\n",
       "    <tr>\n",
       "      <th>1038</th>\n",
       "      <td>0.869565</td>\n",
       "      <td>0.173913</td>\n",
       "      <td>1.304348</td>\n",
       "      <td>1.383103</td>\n",
       "      <td>2.607848</td>\n",
       "    </tr>\n",
       "    <tr>\n",
       "      <th>1043</th>\n",
       "      <td>1.714286</td>\n",
       "      <td>1.000000</td>\n",
       "      <td>1.428571</td>\n",
       "      <td>1.645065</td>\n",
       "      <td>0.960405</td>\n",
       "    </tr>\n",
       "    <tr>\n",
       "      <th>1048</th>\n",
       "      <td>1.807692</td>\n",
       "      <td>2.692308</td>\n",
       "      <td>2.769231</td>\n",
       "      <td>1.646693</td>\n",
       "      <td>0.498008</td>\n",
       "    </tr>\n",
       "    <tr>\n",
       "      <th>1049</th>\n",
       "      <td>1.480000</td>\n",
       "      <td>0.880000</td>\n",
       "      <td>1.800000</td>\n",
       "      <td>1.576253</td>\n",
       "      <td>0.848635</td>\n",
       "    </tr>\n",
       "  </tbody>\n",
       "</table>\n",
       "</div>"
      ],
      "text/plain": [
       "              on_off  dyskinesia    tremor      pred       mse\n",
       "subject_id                                                    \n",
       "1004        1.368421    1.368421  1.105263  1.516270  0.835604\n",
       "1007        0.910448    0.074627  0.298507  1.207870  1.542110\n",
       "1019        1.538462    1.000000  1.230769  1.555669  1.706153\n",
       "1023        2.111111    1.074074  0.407407  1.855543  1.370774\n",
       "1034        1.181818    1.636364  0.727273  1.456636  1.226834\n",
       "1038        0.869565    0.173913  1.304348  1.383103  2.607848\n",
       "1043        1.714286    1.000000  1.428571  1.645065  0.960405\n",
       "1048        1.807692    2.692308  2.769231  1.646693  0.498008\n",
       "1049        1.480000    0.880000  1.800000  1.576253  0.848635"
      ]
     },
     "execution_count": 115,
     "metadata": {},
     "output_type": "execute_result"
    }
   ],
   "source": [
    "intermediate.groupby(\"subject_id\").mean()"
   ]
  },
  {
   "cell_type": "code",
   "execution_count": 100,
   "metadata": {},
   "outputs": [
    {
     "data": {
      "text/plain": [
       "<matplotlib.legend.Legend at 0x7fd3c0ab7780>"
      ]
     },
     "execution_count": 100,
     "metadata": {},
     "output_type": "execute_result"
    },
    {
     "data": {
      "image/png": "[encoded data removed]",
      "text/plain": [
       "<Figure size 432x288 with 1 Axes>"
      ]
     },
     "metadata": {
      "needs_background": "light"
     },
     "output_type": "display_data"
    }
   ],
   "source": [
    "plt.plot(history.history[\"loss\"])\n",
    "plt.plot(history.history[\"val_loss\"])\n",
    "plt.legend([\"Train On Off MSE\", \"Valid On Off MSE\"])"
   ]
  }
 ],
 "metadata": {
  "kernelspec": {
   "display_name": "Python 3",
   "language": "python",
   "name": "python3"
  },
  "language_info": {
   "codemirror_mode": {
    "name": "ipython",
    "version": 3
   },
   "file_extension": ".py",
   "mimetype": "text/x-python",
   "name": "python",
   "nbconvert_exporter": "python",
   "pygments_lexer": "ipython3",
   "version": "3.7.3"
  },
  "toc": {
   "base_numbering": 1,
   "nav_menu": {},
   "number_sections": true,
   "sideBar": true,
   "skip_h1_title": false,
   "title_cell": "Table of Contents",
   "title_sidebar": "Contents",
   "toc_cell": false,
   "toc_position": {},
   "toc_section_display": true,
   "toc_window_display": true
  }
 },
 "nbformat": 4,
 "nbformat_minor": 2
}
