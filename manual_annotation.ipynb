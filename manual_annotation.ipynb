{
 "cells": [
  {
   "cell_type": "code",
   "execution_count": 1,
   "metadata": {},
   "outputs": [],
   "source": [
    "import pandas as pd\n",
    "import numpy as np\n",
    "import os\n",
    "from os.path import join\n",
    "import seaborn as sns\n",
    "import matplotlib.pyplot as plt\n",
    "from pigeon import annotate\n",
    "#import ipywidgets as widgets\n",
    "#from ipywidgets import interactive"
   ]
  },
  {
   "cell_type": "code",
   "execution_count": 2,
   "metadata": {},
   "outputs": [],
   "source": [
    "labels_df = pd.read_csv(join(\"data\", \"cis-pd\", \"data_labels\", \"CIS-PD_Training_Data_IDs_Labels.csv\"))\n",
    "labels_df = labels_df.sort_values(by=\"tremor\", ascending=False).reset_index(drop=True)"
   ]
  },
  {
   "cell_type": "code",
   "execution_count": 3,
   "metadata": {},
   "outputs": [
    {
     "data": {
      "text/html": [
       "<div>\n",
       "<style scoped>\n",
       "    .dataframe tbody tr th:only-of-type {\n",
       "        vertical-align: middle;\n",
       "    }\n",
       "\n",
       "    .dataframe tbody tr th {\n",
       "        vertical-align: top;\n",
       "    }\n",
       "\n",
       "    .dataframe thead th {\n",
       "        text-align: right;\n",
       "    }\n",
       "</style>\n",
       "<table border=\"1\" class=\"dataframe\">\n",
       "  <thead>\n",
       "    <tr style=\"text-align: right;\">\n",
       "      <th></th>\n",
       "      <th>measurement_id</th>\n",
       "      <th>subject_id</th>\n",
       "      <th>on_off</th>\n",
       "      <th>dyskinesia</th>\n",
       "      <th>tremor</th>\n",
       "    </tr>\n",
       "  </thead>\n",
       "  <tbody>\n",
       "    <tr>\n",
       "      <th>0</th>\n",
       "      <td>4913062f-b696-40c6-a0f2-87efe1dd4810</td>\n",
       "      <td>1048</td>\n",
       "      <td>3.0</td>\n",
       "      <td>3.0</td>\n",
       "      <td>4.0</td>\n",
       "    </tr>\n",
       "    <tr>\n",
       "      <th>1</th>\n",
       "      <td>7b2698a6-f3a5-4345-9630-25d377d58992</td>\n",
       "      <td>1048</td>\n",
       "      <td>2.0</td>\n",
       "      <td>3.0</td>\n",
       "      <td>4.0</td>\n",
       "    </tr>\n",
       "    <tr>\n",
       "      <th>2</th>\n",
       "      <td>40f713fe-0ac9-4cd0-809c-0a8024955a2a</td>\n",
       "      <td>1048</td>\n",
       "      <td>3.0</td>\n",
       "      <td>3.0</td>\n",
       "      <td>4.0</td>\n",
       "    </tr>\n",
       "    <tr>\n",
       "      <th>3</th>\n",
       "      <td>e0441156-c4b8-467c-8f4f-3b532d594d8f</td>\n",
       "      <td>1048</td>\n",
       "      <td>4.0</td>\n",
       "      <td>3.0</td>\n",
       "      <td>4.0</td>\n",
       "    </tr>\n",
       "    <tr>\n",
       "      <th>4</th>\n",
       "      <td>daf11494-e6fa-4376-a78a-86c683885764</td>\n",
       "      <td>1004</td>\n",
       "      <td>4.0</td>\n",
       "      <td>4.0</td>\n",
       "      <td>4.0</td>\n",
       "    </tr>\n",
       "  </tbody>\n",
       "</table>\n",
       "</div>"
      ],
      "text/plain": [
       "                         measurement_id  subject_id  on_off  dyskinesia  \\\n",
       "0  4913062f-b696-40c6-a0f2-87efe1dd4810        1048     3.0         3.0   \n",
       "1  7b2698a6-f3a5-4345-9630-25d377d58992        1048     2.0         3.0   \n",
       "2  40f713fe-0ac9-4cd0-809c-0a8024955a2a        1048     3.0         3.0   \n",
       "3  e0441156-c4b8-467c-8f4f-3b532d594d8f        1048     4.0         3.0   \n",
       "4  daf11494-e6fa-4376-a78a-86c683885764        1004     4.0         4.0   \n",
       "\n",
       "   tremor  \n",
       "0     4.0  \n",
       "1     4.0  \n",
       "2     4.0  \n",
       "3     4.0  \n",
       "4     4.0  "
      ]
     },
     "execution_count": 3,
     "metadata": {},
     "output_type": "execute_result"
    }
   ],
   "source": [
    "labels_df.head()"
   ]
  },
  {
   "cell_type": "code",
   "execution_count": 4,
   "metadata": {},
   "outputs": [
    {
     "data": {
      "text/html": [
       "<div>\n",
       "<style scoped>\n",
       "    .dataframe tbody tr th:only-of-type {\n",
       "        vertical-align: middle;\n",
       "    }\n",
       "\n",
       "    .dataframe tbody tr th {\n",
       "        vertical-align: top;\n",
       "    }\n",
       "\n",
       "    .dataframe thead th {\n",
       "        text-align: right;\n",
       "    }\n",
       "</style>\n",
       "<table border=\"1\" class=\"dataframe\">\n",
       "  <thead>\n",
       "    <tr style=\"text-align: right;\">\n",
       "      <th></th>\n",
       "      <th>Timestamp</th>\n",
       "      <th>X</th>\n",
       "      <th>Y</th>\n",
       "      <th>Z</th>\n",
       "    </tr>\n",
       "  </thead>\n",
       "  <tbody>\n",
       "    <tr>\n",
       "      <th>0</th>\n",
       "      <td>0.00</td>\n",
       "      <td>-0.159668</td>\n",
       "      <td>1.001221</td>\n",
       "      <td>0.031006</td>\n",
       "    </tr>\n",
       "    <tr>\n",
       "      <th>1</th>\n",
       "      <td>0.02</td>\n",
       "      <td>-0.148438</td>\n",
       "      <td>0.989746</td>\n",
       "      <td>0.077148</td>\n",
       "    </tr>\n",
       "    <tr>\n",
       "      <th>2</th>\n",
       "      <td>0.04</td>\n",
       "      <td>-0.154297</td>\n",
       "      <td>0.990723</td>\n",
       "      <td>0.081055</td>\n",
       "    </tr>\n",
       "    <tr>\n",
       "      <th>3</th>\n",
       "      <td>0.06</td>\n",
       "      <td>-0.158203</td>\n",
       "      <td>0.990723</td>\n",
       "      <td>0.073975</td>\n",
       "    </tr>\n",
       "    <tr>\n",
       "      <th>4</th>\n",
       "      <td>0.08</td>\n",
       "      <td>-0.157227</td>\n",
       "      <td>0.976562</td>\n",
       "      <td>0.084229</td>\n",
       "    </tr>\n",
       "  </tbody>\n",
       "</table>\n",
       "</div>"
      ],
      "text/plain": [
       "   Timestamp         X         Y         Z\n",
       "0       0.00 -0.159668  1.001221  0.031006\n",
       "1       0.02 -0.148438  0.989746  0.077148\n",
       "2       0.04 -0.154297  0.990723  0.081055\n",
       "3       0.06 -0.158203  0.990723  0.073975\n",
       "4       0.08 -0.157227  0.976562  0.084229"
      ]
     },
     "execution_count": 4,
     "metadata": {},
     "output_type": "execute_result"
    }
   ],
   "source": [
    "m_id = \"4913062f-b696-40c6-a0f2-87efe1dd4810\" # 4 tremor\n",
    "\n",
    "m_df = pd.read_csv(join(\"data\", \"cis-pd\", \"training_data\", f\"{m_id}.csv\"))\n",
    "m_df.head()"
   ]
  },
  {
   "cell_type": "code",
   "execution_count": 5,
   "metadata": {},
   "outputs": [],
   "source": [
    "interval_size = 0.5"
   ]
  },
  {
   "cell_type": "code",
   "execution_count": 6,
   "metadata": {},
   "outputs": [
    {
     "data": {
      "text/html": [
       "<div>\n",
       "<style scoped>\n",
       "    .dataframe tbody tr th:only-of-type {\n",
       "        vertical-align: middle;\n",
       "    }\n",
       "\n",
       "    .dataframe tbody tr th {\n",
       "        vertical-align: top;\n",
       "    }\n",
       "\n",
       "    .dataframe thead th {\n",
       "        text-align: right;\n",
       "    }\n",
       "</style>\n",
       "<table border=\"1\" class=\"dataframe\">\n",
       "  <thead>\n",
       "    <tr style=\"text-align: right;\">\n",
       "      <th></th>\n",
       "      <th>Timestamp</th>\n",
       "      <th>dim</th>\n",
       "      <th>value</th>\n",
       "    </tr>\n",
       "  </thead>\n",
       "  <tbody>\n",
       "    <tr>\n",
       "      <th>0</th>\n",
       "      <td>0.00</td>\n",
       "      <td>X</td>\n",
       "      <td>-0.159668</td>\n",
       "    </tr>\n",
       "    <tr>\n",
       "      <th>1</th>\n",
       "      <td>0.02</td>\n",
       "      <td>X</td>\n",
       "      <td>-0.148438</td>\n",
       "    </tr>\n",
       "    <tr>\n",
       "      <th>2</th>\n",
       "      <td>0.04</td>\n",
       "      <td>X</td>\n",
       "      <td>-0.154297</td>\n",
       "    </tr>\n",
       "    <tr>\n",
       "      <th>3</th>\n",
       "      <td>0.06</td>\n",
       "      <td>X</td>\n",
       "      <td>-0.158203</td>\n",
       "    </tr>\n",
       "    <tr>\n",
       "      <th>4</th>\n",
       "      <td>0.08</td>\n",
       "      <td>X</td>\n",
       "      <td>-0.157227</td>\n",
       "    </tr>\n",
       "  </tbody>\n",
       "</table>\n",
       "</div>"
      ],
      "text/plain": [
       "   Timestamp dim     value\n",
       "0       0.00   X -0.159668\n",
       "1       0.02   X -0.148438\n",
       "2       0.04   X -0.154297\n",
       "3       0.06   X -0.158203\n",
       "4       0.08   X -0.157227"
      ]
     },
     "execution_count": 6,
     "metadata": {},
     "output_type": "execute_result"
    }
   ],
   "source": [
    "m_molten_df = m_df.melt(id_vars=[\"Timestamp\"], value_vars=[\"X\", \"Y\", \"Z\"], var_name=\"dim\")\n",
    "m_molten_df.head()"
   ]
  },
  {
   "cell_type": "code",
   "execution_count": 7,
   "metadata": {},
   "outputs": [],
   "source": [
    "interval_start = 0.0\n",
    "interval_min = m_df[\"Timestamp\"].min()\n",
    "interval_max = m_df[\"Timestamp\"].max()"
   ]
  },
  {
   "cell_type": "code",
   "execution_count": 8,
   "metadata": {},
   "outputs": [],
   "source": [
    "def display_interval(interval_start):\n",
    "    interval_end = interval_start + interval_size\n",
    "    extended_interval_molten_df = m_molten_df.loc[(m_molten_df[\"Timestamp\"] >= interval_start - interval_size) & (m_molten_df[\"Timestamp\"] < interval_end + interval_size)]\n",
    "    left_molten_df = extended_interval_molten_df.loc[(extended_interval_molten_df[\"Timestamp\"] >= interval_start - interval_size) & (extended_interval_molten_df[\"Timestamp\"] < interval_start)]\n",
    "    interval_molten_df = extended_interval_molten_df.loc[(extended_interval_molten_df[\"Timestamp\"] >= interval_start) & (extended_interval_molten_df[\"Timestamp\"] < interval_end)]\n",
    "    right_molten_df = extended_interval_molten_df.loc[(extended_interval_molten_df[\"Timestamp\"] >= interval_end) & (extended_interval_molten_df[\"Timestamp\"] < interval_end + interval_size)]\n",
    "    \n",
    "    fig, axes = plt.subplots(1, 3, sharey=True, figsize=(14, 5))\n",
    "\n",
    "    ax = sns.lineplot(x=\"Timestamp\", y=\"value\", hue=\"dim\", ax=axes[0], data=left_molten_df)\n",
    "    ax.set_axis_off()\n",
    "    ax.get_legend().remove()\n",
    "    ax = sns.lineplot(x=\"Timestamp\", y=\"value\", hue=\"dim\", ax=axes[1], data=interval_molten_df)\n",
    "    ax = sns.lineplot(x=\"Timestamp\", y=\"value\", hue=\"dim\", ax=axes[2], data=right_molten_df)\n",
    "    ax.set_axis_off()\n",
    "    ax.get_legend().remove()\n",
    "    plt.ylim(-1.3, 1.3)\n",
    "    plt.show()"
   ]
  },
  {
   "cell_type": "code",
   "execution_count": 9,
   "metadata": {},
   "outputs": [
    {
     "data": {
      "application/vnd.jupyter.widget-view+json": {
       "model_id": "e8f9fb1e3f8746d3ae7244591ad8bf7f",
       "version_major": 2,
       "version_minor": 0
      },
      "text/plain": [
       "HTML(value='0 examples annotated, 1601 examples left')"
      ]
     },
     "metadata": {},
     "output_type": "display_data"
    },
    {
     "data": {
      "application/vnd.jupyter.widget-view+json": {
       "model_id": "e1690be4638b4fb28f02c1d839226522",
       "version_major": 2,
       "version_minor": 0
      },
      "text/plain": [
       "HBox(children=(Button(description='tremor', style=ButtonStyle()), Button(description='no_tremor', style=Button…"
      ]
     },
     "metadata": {},
     "output_type": "display_data"
    },
    {
     "data": {
      "application/vnd.jupyter.widget-view+json": {
       "model_id": "d600c497c6044ba8ad7d3e8c31ac0cef",
       "version_major": 2,
       "version_minor": 0
      },
      "text/plain": [
       "Output()"
      ]
     },
     "metadata": {},
     "output_type": "display_data"
    }
   ],
   "source": [
    "annotations = annotate(\n",
    "  np.arange(interval_min, interval_max, interval_size),\n",
    "  options=['tremor', 'no_tremor'],\n",
    "  display_fn=lambda interval_start: display_interval(interval_start)\n",
    ")"
   ]
  },
  {
   "cell_type": "code",
   "execution_count": 10,
   "metadata": {},
   "outputs": [
    {
     "data": {
      "text/plain": [
       "[]"
      ]
     },
     "execution_count": 10,
     "metadata": {},
     "output_type": "execute_result"
    }
   ],
   "source": [
    "annotations"
   ]
  },
  {
   "cell_type": "code",
   "execution_count": 11,
   "metadata": {},
   "outputs": [],
   "source": [
    "a_dicts = [ { \"interval_start\": x[0], \"annotation\": x[1] } for x in annotations ]"
   ]
  },
  {
   "cell_type": "code",
   "execution_count": 12,
   "metadata": {},
   "outputs": [
    {
     "data": {
      "text/html": [
       "<div>\n",
       "<style scoped>\n",
       "    .dataframe tbody tr th:only-of-type {\n",
       "        vertical-align: middle;\n",
       "    }\n",
       "\n",
       "    .dataframe tbody tr th {\n",
       "        vertical-align: top;\n",
       "    }\n",
       "\n",
       "    .dataframe thead th {\n",
       "        text-align: right;\n",
       "    }\n",
       "</style>\n",
       "<table border=\"1\" class=\"dataframe\">\n",
       "  <thead>\n",
       "    <tr style=\"text-align: right;\">\n",
       "      <th></th>\n",
       "    </tr>\n",
       "  </thead>\n",
       "  <tbody>\n",
       "  </tbody>\n",
       "</table>\n",
       "</div>"
      ],
      "text/plain": [
       "Empty DataFrame\n",
       "Columns: []\n",
       "Index: []"
      ]
     },
     "execution_count": 12,
     "metadata": {},
     "output_type": "execute_result"
    }
   ],
   "source": [
    "a_df = pd.DataFrame(data=a_dicts)\n",
    "a_df.head()"
   ]
  },
  {
   "cell_type": "code",
   "execution_count": 13,
   "metadata": {},
   "outputs": [],
   "source": [
    "if a_df.shape[0] >= 100:\n",
    "    a_df.to_csv(join(\"data\", \"cis-pd\", \"training_data_tremor_annotations\", f\"{m_id}.csv\"))"
   ]
  },
  {
   "cell_type": "code",
   "execution_count": null,
   "metadata": {},
   "outputs": [],
   "source": []
  }
 ],
 "metadata": {
  "kernelspec": {
   "display_name": "Python [conda env:beat-pd-mark-env] *",
   "language": "python",
   "name": "conda-env-beat-pd-mark-env-py"
  },
  "language_info": {
   "codemirror_mode": {
    "name": "ipython",
    "version": 3
   },
   "file_extension": ".py",
   "mimetype": "text/x-python",
   "name": "python",
   "nbconvert_exporter": "python",
   "pygments_lexer": "ipython3",
   "version": "3.7.6"
  }
 },
 "nbformat": 4,
 "nbformat_minor": 4
}
