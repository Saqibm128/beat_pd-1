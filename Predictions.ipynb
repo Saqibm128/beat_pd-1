{
 "cells": [
  {
   "cell_type": "code",
   "execution_count": 1,
   "metadata": {},
   "outputs": [],
   "source": [
    "import glob\n",
    "import os\n",
    "import numpy as np\n",
    "import pandas as pd\n",
    "import seaborn as sns\n",
    "import joblib\n",
    "import dill\n",
    "import dask, dask_ml\n",
    "import dask.dataframe as dd\n",
    "\n",
    "from importlib import reload\n",
    "from scipy import signal, stats\n",
    "from tqdm.auto import tqdm\n",
    "from sklearn import neighbors, linear_model, ensemble, decomposition #svm, neural_network\n",
    "from sklearn import feature_selection, model_selection, metrics, dummy, pipeline, preprocessing, compose\n",
    "from dask_ml.model_selection import RandomizedSearchCV\n",
    "from matplotlib import pyplot as plt\n",
    "from src import main, feature_model\n",
    "from itertools import product"
   ]
  },
  {
   "cell_type": "code",
   "execution_count": 2,
   "metadata": {},
   "outputs": [],
   "source": [
    "from dask_jobqueue import SLURMCluster\n",
    "from distributed import Client, LocalCluster"
   ]
  },
  {
   "cell_type": "code",
   "execution_count": 3,
   "metadata": {},
   "outputs": [],
   "source": [
    "try:\n",
    "    cluster.close()\n",
    "    client.close()\n",
    "except NameError:\n",
    "    pass\n",
    "finally:\n",
    "    cluster = SLURMCluster(queue='short', \n",
    "                           cores=4, \n",
    "                           memory='18gB', \n",
    "                           walltime='4:00:00', \n",
    "                           death_timeout=60, \n",
    "                          )\n",
    "#                            job_extra=['--exclude=/home/hy180/notibnodes'])\n",
    "    client = Client(cluster)\n",
    "    cluster.adapt(minimum=0, maximum=200, wait_count=5)"
   ]
  },
  {
   "cell_type": "markdown",
   "metadata": {},
   "source": [
    "# Load data"
   ]
  },
  {
   "cell_type": "code",
   "execution_count": 81,
   "metadata": {},
   "outputs": [],
   "source": [
    "dataset = 'cis-fftfeatures'\n",
    "features_df = pd.read_csv(f'/home/hy180/projects/beat_pd/extracted_features/ensem/{dataset}.csv') #.set_index(['samp_id', 'id'])\n",
    "\n",
    "label_cols = ['on_off', 'dyskinesia', 'tremor', 'subject_id']\n",
    "labels = pd.concat([\n",
    "    pd.read_csv('/home/hy180/projects/beat_pd/data/cis-pd/data_labels/CIS-PD_Training_Data_IDs_Labels.csv'),\n",
    "    pd.read_csv('/home/hy180/projects/beat_pd/data/real-pd/data_labels/REAL-PD_Training_Data_IDs_Labels.csv'),\n",
    "], axis=0).astype({'subject_id': str})\n",
    "\n",
    "df = features_df.dropna().merge(labels, right_on='measurement_id', left_on='samp_id')\n",
    "print('%d rows dropped due to nans in features' % (features_df.shape[0] - df.shape[0]))"
   ]
  },
  {
   "cell_type": "code",
   "execution_count": 129,
   "metadata": {},
   "outputs": [],
   "source": [
    "label = 'tremor'\n",
    "\n",
    "id_cols = ['measurement_id', 'samp_id', 'ord']\n",
    "labeled_samps = df.dropna(subset=[label])\n",
    "\n",
    "y = df.loc[labeled_samps.index, label].astype('int')\n",
    "X = labeled_samps.drop(columns=[*label_cols, *id_cols])"
   ]
  },
  {
   "cell_type": "markdown",
   "metadata": {},
   "source": [
    "# Model"
   ]
  },
  {
   "cell_type": "markdown",
   "metadata": {},
   "source": [
    "## Model spec"
   ]
  },
  {
   "cell_type": "code",
   "execution_count": 105,
   "metadata": {
    "tags": [
     "#pipeline"
    ]
   },
   "outputs": [],
   "source": [
    "scaler = preprocessing.RobustScaler(quantile_range=(1, 99))\n",
    "scaler_pg = {'scaler__quantile_range': [(.1, 99.9), (.5, 99.5), (1, 99), (5, 95), (10, 90)],}\n",
    "# scaler = preprocessing.MinMaxScaler()\n",
    "\n",
    "# Keep features w/ variance in top 95%ile \n",
    "var = lambda X, y: np.var(X, axis=0)\n",
    "f_select = feature_selection.SelectPercentile(var, percentile=95)\n",
    "# f_select_pg = {'f_select__percentile': [95, 80, 50, 25, 10],}\n",
    "f_select_pg = {'f_select__percentile': stats.uniform(0, 100)}\n",
    "# f_select = feature_selection.SelectKBest(feature_selection.mutual_info_regression, k=30)\n",
    "\n",
    "# model = linear_model.Ridge()\n",
    "# model_pg = {'model__regressor__alpha': [0.1, 0.5, 1, 2, 5],}\n",
    "# model = svm.SVR()\n",
    "# model_pg = {'model__regressor__kernel': ['linear', 'poly', 'rbf', 'sigmoid'], 'model__regressor__C': stats.chi2(df=2)}\n",
    "# model = linear_model.ElasticNet()\n",
    "# model_pg = {'model__regressor__l1_ratio': stats.uniform(0, 1), 'model__regressor__alpha': stats.chi2(df=2), }\n",
    "# model_pg = {'model__regressor__l1_ratio': [0.01, 0.1, 0.5, 0.8, 0.99], 'model__regressor__alpha': [0.1, 0.5, 1, 2, 5],}\n",
    "# model = mord.OrdinalRidge()\n",
    "# model_pg = {'model__regressor__alpha': stats.chi2(df=2), }\n",
    "model = ensemble.RandomForestRegressor()\n",
    "model_pg = {'model__regressor__n_estimators': stats.randint(50, 100), 'model__regressor__max_depth': stats.randint(10, 25), 'model__regressor__max_features': [.25, 'auto']}\n",
    "# model = neural_network.MLPRegressor(learning_rate='adaptive')\n",
    "# model_pg = {'model__regressor__hidden_layer_sizes': [(100), (50, 50)]}\n",
    "\n",
    "clip_out = preprocessing.FunctionTransformer(np.clip, kw_args={'a_min': 0, 'a_max': 4})\n",
    "clipped_model = compose.TransformedTargetRegressor(regressor=model, inverse_func=clip_out.transform)\n",
    "\n",
    "pipe = pipeline.Pipeline([\n",
    "    ('scaler', scaler), \n",
    "    ('f_select', f_select), \n",
    "    ('model', clipped_model),\n",
    "], verbose=1)\n",
    "\n",
    "param_grid = {\n",
    "    **scaler_pg,\n",
    "    **f_select_pg,\n",
    "    **model_pg,\n",
    "}\n",
    "\n",
    "metric = metrics.make_scorer(metrics.mean_squared_error, greater_is_better=False)\n",
    "\n",
    "cv = model_selection.StratifiedKFold(shuffle=True)"
   ]
  },
  {
   "cell_type": "markdown",
   "metadata": {},
   "source": [
    "## Model eval"
   ]
  },
  {
   "cell_type": "code",
   "execution_count": 106,
   "metadata": {
    "scrolled": true,
    "tags": [
     "#model-fit"
    ]
   },
   "outputs": [
    {
     "name": "stdout",
     "output_type": "stream",
     "text": [
      "working on dyskinesia\n",
      "done with dyskinesia\n",
      "working on on_off\n",
      "done with on_off\n",
      "working on tremor\n",
      "done with tremor\n"
     ]
    }
   ],
   "source": [
    "for label in ['dyskinesia', 'on_off', 'tremor']:\n",
    "    print(f'working on {label}')\n",
    "\n",
    "    id_cols = ['measurement_id', 'samp_id']\n",
    "    labeled_samps = df.dropna(subset=[label])\n",
    "\n",
    "    y = df.loc[labeled_samps.index, label].astype('int')\n",
    "    X = labeled_samps.drop(columns=[*label_cols, *id_cols])\n",
    "\n",
    "    search = RandomizedSearchCV(pipe, param_grid, n_iter=20, scoring=metric, cv=cv, refit=False, scheduler=client)\n",
    "    cv_fit = search.fit(X, y)\n",
    "    cv_results = pd.DataFrame(cv_fit.cv_results_)\n",
    "\n",
    "    resultset_name = f'{dataset}_{type(model).__name__}_{label}'\n",
    "    cv_results.to_csv(f'performance/cv_paramsweeps/{resultset_name}.csv')\n",
    "    win_params = cv_results.loc[cv_results.rank_test_score == 1, 'params'].values[0]\n",
    "    winner = pipe.set_params(**win_params)\n",
    "    with open(f'models/paramsweep_winners/{resultset_name}.model', 'wb') as f:\n",
    "        dill.dump(winner, f)\n",
    "    print(f'done with {label}')\n",
    "    \n",
    "\n",
    "    try:\n",
    "        cluster.close()\n",
    "        client.close()\n",
    "    except NameError:\n",
    "        pass\n",
    "    finally:\n",
    "        cluster = SLURMCluster(queue='short', \n",
    "                               cores=4, \n",
    "                               memory='18gB', \n",
    "                               walltime='4:00:00', \n",
    "                               death_timeout=60, \n",
    "                              )\n",
    "        client = Client(cluster)\n",
    "        cluster.adapt(minimum=0, maximum=200, wait_count=5)"
   ]
  },
  {
   "cell_type": "code",
   "execution_count": 140,
   "metadata": {
    "scrolled": true
   },
   "outputs": [
    {
     "data": {
      "text/html": [
       "<div>\n",
       "<style scoped>\n",
       "    .dataframe tbody tr th:only-of-type {\n",
       "        vertical-align: middle;\n",
       "    }\n",
       "\n",
       "    .dataframe tbody tr th {\n",
       "        vertical-align: top;\n",
       "    }\n",
       "\n",
       "    .dataframe thead th {\n",
       "        text-align: right;\n",
       "    }\n",
       "</style>\n",
       "<table border=\"1\" class=\"dataframe\">\n",
       "  <thead>\n",
       "    <tr style=\"text-align: right;\">\n",
       "      <th></th>\n",
       "      <th>Unnamed: 0</th>\n",
       "      <th>params</th>\n",
       "      <th>mean_fit_time</th>\n",
       "      <th>std_fit_time</th>\n",
       "      <th>mean_score_time</th>\n",
       "      <th>std_score_time</th>\n",
       "      <th>split0_test_score</th>\n",
       "      <th>split1_test_score</th>\n",
       "      <th>split2_test_score</th>\n",
       "      <th>split3_test_score</th>\n",
       "      <th>split4_test_score</th>\n",
       "      <th>mean_test_score</th>\n",
       "      <th>std_test_score</th>\n",
       "      <th>rank_test_score</th>\n",
       "      <th>param_f_select__percentile</th>\n",
       "      <th>param_model__regressor__max_depth</th>\n",
       "      <th>param_model__regressor__max_features</th>\n",
       "      <th>param_model__regressor__n_estimators</th>\n",
       "      <th>param_scaler__quantile_range</th>\n",
       "    </tr>\n",
       "  </thead>\n",
       "  <tbody>\n",
       "    <tr>\n",
       "      <th>15</th>\n",
       "      <td>15</td>\n",
       "      <td>{'f_select__percentile': 98.3611884393561, 'mo...</td>\n",
       "      <td>1702.550330</td>\n",
       "      <td>97.710884</td>\n",
       "      <td>2.484277</td>\n",
       "      <td>0.113361</td>\n",
       "      <td>-0.755847</td>\n",
       "      <td>-0.758377</td>\n",
       "      <td>-0.760052</td>\n",
       "      <td>-0.757093</td>\n",
       "      <td>-0.757036</td>\n",
       "      <td>-0.757681</td>\n",
       "      <td>0.001431</td>\n",
       "      <td>1</td>\n",
       "      <td>98.361188</td>\n",
       "      <td>22</td>\n",
       "      <td>auto</td>\n",
       "      <td>99</td>\n",
       "      <td>(5, 95)</td>\n",
       "    </tr>\n",
       "    <tr>\n",
       "      <th>14</th>\n",
       "      <td>14</td>\n",
       "      <td>{'f_select__percentile': 81.65338027432493, 'm...</td>\n",
       "      <td>1100.612363</td>\n",
       "      <td>91.693866</td>\n",
       "      <td>1.612955</td>\n",
       "      <td>0.132383</td>\n",
       "      <td>-0.756162</td>\n",
       "      <td>-0.759688</td>\n",
       "      <td>-0.760165</td>\n",
       "      <td>-0.759685</td>\n",
       "      <td>-0.758532</td>\n",
       "      <td>-0.758846</td>\n",
       "      <td>0.001446</td>\n",
       "      <td>2</td>\n",
       "      <td>81.653380</td>\n",
       "      <td>17</td>\n",
       "      <td>auto</td>\n",
       "      <td>87</td>\n",
       "      <td>(5, 95)</td>\n",
       "    </tr>\n",
       "    <tr>\n",
       "      <th>2</th>\n",
       "      <td>2</td>\n",
       "      <td>{'f_select__percentile': 99.88620365911981, 'm...</td>\n",
       "      <td>1071.344809</td>\n",
       "      <td>48.122568</td>\n",
       "      <td>1.582189</td>\n",
       "      <td>0.040434</td>\n",
       "      <td>-0.756140</td>\n",
       "      <td>-0.761133</td>\n",
       "      <td>-0.760807</td>\n",
       "      <td>-0.758867</td>\n",
       "      <td>-0.759245</td>\n",
       "      <td>-0.759238</td>\n",
       "      <td>0.001777</td>\n",
       "      <td>3</td>\n",
       "      <td>99.886204</td>\n",
       "      <td>19</td>\n",
       "      <td>auto</td>\n",
       "      <td>65</td>\n",
       "      <td>(5, 95)</td>\n",
       "    </tr>\n",
       "    <tr>\n",
       "      <th>17</th>\n",
       "      <td>17</td>\n",
       "      <td>{'f_select__percentile': 97.71313701250916, 'm...</td>\n",
       "      <td>230.332544</td>\n",
       "      <td>16.682757</td>\n",
       "      <td>1.143255</td>\n",
       "      <td>0.042678</td>\n",
       "      <td>-0.758153</td>\n",
       "      <td>-0.761192</td>\n",
       "      <td>-0.761522</td>\n",
       "      <td>-0.759947</td>\n",
       "      <td>-0.760301</td>\n",
       "      <td>-0.760223</td>\n",
       "      <td>0.001183</td>\n",
       "      <td>4</td>\n",
       "      <td>97.713137</td>\n",
       "      <td>14</td>\n",
       "      <td>0.25</td>\n",
       "      <td>67</td>\n",
       "      <td>(5, 95)</td>\n",
       "    </tr>\n",
       "    <tr>\n",
       "      <th>0</th>\n",
       "      <td>0</td>\n",
       "      <td>{'f_select__percentile': 91.1415914156503, 'mo...</td>\n",
       "      <td>1293.373676</td>\n",
       "      <td>66.778473</td>\n",
       "      <td>2.039745</td>\n",
       "      <td>0.083376</td>\n",
       "      <td>-0.758545</td>\n",
       "      <td>-0.761923</td>\n",
       "      <td>-0.762547</td>\n",
       "      <td>-0.760939</td>\n",
       "      <td>-0.760214</td>\n",
       "      <td>-0.760833</td>\n",
       "      <td>0.001397</td>\n",
       "      <td>5</td>\n",
       "      <td>91.141591</td>\n",
       "      <td>22</td>\n",
       "      <td>auto</td>\n",
       "      <td>78</td>\n",
       "      <td>(10, 90)</td>\n",
       "    </tr>\n",
       "    <tr>\n",
       "      <th>8</th>\n",
       "      <td>8</td>\n",
       "      <td>{'f_select__percentile': 89.47676158166064, 'm...</td>\n",
       "      <td>289.029553</td>\n",
       "      <td>24.457210</td>\n",
       "      <td>1.404081</td>\n",
       "      <td>0.062530</td>\n",
       "      <td>-0.759227</td>\n",
       "      <td>-0.762630</td>\n",
       "      <td>-0.762545</td>\n",
       "      <td>-0.762615</td>\n",
       "      <td>-0.761041</td>\n",
       "      <td>-0.761612</td>\n",
       "      <td>0.001336</td>\n",
       "      <td>6</td>\n",
       "      <td>89.476762</td>\n",
       "      <td>13</td>\n",
       "      <td>0.25</td>\n",
       "      <td>89</td>\n",
       "      <td>(1, 99)</td>\n",
       "    </tr>\n",
       "    <tr>\n",
       "      <th>19</th>\n",
       "      <td>19</td>\n",
       "      <td>{'f_select__percentile': 53.8849240013158, 'mo...</td>\n",
       "      <td>142.121830</td>\n",
       "      <td>4.768276</td>\n",
       "      <td>1.282561</td>\n",
       "      <td>0.157856</td>\n",
       "      <td>-0.763678</td>\n",
       "      <td>-0.765782</td>\n",
       "      <td>-0.765985</td>\n",
       "      <td>-0.765736</td>\n",
       "      <td>-0.764105</td>\n",
       "      <td>-0.765057</td>\n",
       "      <td>0.000965</td>\n",
       "      <td>7</td>\n",
       "      <td>53.884924</td>\n",
       "      <td>15</td>\n",
       "      <td>0.25</td>\n",
       "      <td>78</td>\n",
       "      <td>(0.5, 99.5)</td>\n",
       "    </tr>\n",
       "    <tr>\n",
       "      <th>7</th>\n",
       "      <td>7</td>\n",
       "      <td>{'f_select__percentile': 62.078276068007064, '...</td>\n",
       "      <td>472.301534</td>\n",
       "      <td>15.247355</td>\n",
       "      <td>0.751615</td>\n",
       "      <td>0.038152</td>\n",
       "      <td>-0.762629</td>\n",
       "      <td>-0.767258</td>\n",
       "      <td>-0.765798</td>\n",
       "      <td>-0.766571</td>\n",
       "      <td>-0.765691</td>\n",
       "      <td>-0.765589</td>\n",
       "      <td>0.001585</td>\n",
       "      <td>8</td>\n",
       "      <td>62.078276</td>\n",
       "      <td>11</td>\n",
       "      <td>auto</td>\n",
       "      <td>65</td>\n",
       "      <td>(10, 90)</td>\n",
       "    </tr>\n",
       "    <tr>\n",
       "      <th>1</th>\n",
       "      <td>1</td>\n",
       "      <td>{'f_select__percentile': 51.91469042723275, 'm...</td>\n",
       "      <td>174.294263</td>\n",
       "      <td>9.645774</td>\n",
       "      <td>1.980740</td>\n",
       "      <td>0.330170</td>\n",
       "      <td>-0.765389</td>\n",
       "      <td>-0.767062</td>\n",
       "      <td>-0.766308</td>\n",
       "      <td>-0.766112</td>\n",
       "      <td>-0.765096</td>\n",
       "      <td>-0.765993</td>\n",
       "      <td>0.000696</td>\n",
       "      <td>9</td>\n",
       "      <td>51.914690</td>\n",
       "      <td>21</td>\n",
       "      <td>0.25</td>\n",
       "      <td>77</td>\n",
       "      <td>(10, 90)</td>\n",
       "    </tr>\n",
       "    <tr>\n",
       "      <th>6</th>\n",
       "      <td>6</td>\n",
       "      <td>{'f_select__percentile': 54.78192256976766, 'm...</td>\n",
       "      <td>138.435357</td>\n",
       "      <td>8.929972</td>\n",
       "      <td>1.464540</td>\n",
       "      <td>0.178411</td>\n",
       "      <td>-0.763867</td>\n",
       "      <td>-0.767638</td>\n",
       "      <td>-0.766243</td>\n",
       "      <td>-0.767215</td>\n",
       "      <td>-0.765102</td>\n",
       "      <td>-0.766013</td>\n",
       "      <td>0.001384</td>\n",
       "      <td>10</td>\n",
       "      <td>54.781923</td>\n",
       "      <td>19</td>\n",
       "      <td>0.25</td>\n",
       "      <td>58</td>\n",
       "      <td>(0.1, 99.9)</td>\n",
       "    </tr>\n",
       "    <tr>\n",
       "      <th>5</th>\n",
       "      <td>5</td>\n",
       "      <td>{'f_select__percentile': 83.10947150478754, 'm...</td>\n",
       "      <td>134.615212</td>\n",
       "      <td>11.448718</td>\n",
       "      <td>0.746425</td>\n",
       "      <td>0.239494</td>\n",
       "      <td>-0.764289</td>\n",
       "      <td>-0.767098</td>\n",
       "      <td>-0.766244</td>\n",
       "      <td>-0.767388</td>\n",
       "      <td>-0.765644</td>\n",
       "      <td>-0.766132</td>\n",
       "      <td>0.001110</td>\n",
       "      <td>11</td>\n",
       "      <td>83.109472</td>\n",
       "      <td>11</td>\n",
       "      <td>0.25</td>\n",
       "      <td>56</td>\n",
       "      <td>(5, 95)</td>\n",
       "    </tr>\n",
       "    <tr>\n",
       "      <th>13</th>\n",
       "      <td>13</td>\n",
       "      <td>{'f_select__percentile': 40.62576782055736, 'm...</td>\n",
       "      <td>646.584024</td>\n",
       "      <td>19.291837</td>\n",
       "      <td>2.036290</td>\n",
       "      <td>0.114536</td>\n",
       "      <td>-0.762261</td>\n",
       "      <td>-0.768082</td>\n",
       "      <td>-0.769010</td>\n",
       "      <td>-0.765910</td>\n",
       "      <td>-0.767325</td>\n",
       "      <td>-0.766517</td>\n",
       "      <td>0.002358</td>\n",
       "      <td>12</td>\n",
       "      <td>40.625768</td>\n",
       "      <td>21</td>\n",
       "      <td>auto</td>\n",
       "      <td>90</td>\n",
       "      <td>(0.5, 99.5)</td>\n",
       "    </tr>\n",
       "    <tr>\n",
       "      <th>4</th>\n",
       "      <td>4</td>\n",
       "      <td>{'f_select__percentile': 40.235499855999194, '...</td>\n",
       "      <td>157.456374</td>\n",
       "      <td>6.276190</td>\n",
       "      <td>1.852501</td>\n",
       "      <td>0.268811</td>\n",
       "      <td>-0.764745</td>\n",
       "      <td>-0.768301</td>\n",
       "      <td>-0.768308</td>\n",
       "      <td>-0.766230</td>\n",
       "      <td>-0.765838</td>\n",
       "      <td>-0.766685</td>\n",
       "      <td>0.001409</td>\n",
       "      <td>13</td>\n",
       "      <td>40.235500</td>\n",
       "      <td>18</td>\n",
       "      <td>0.25</td>\n",
       "      <td>94</td>\n",
       "      <td>(0.1, 99.9)</td>\n",
       "    </tr>\n",
       "    <tr>\n",
       "      <th>11</th>\n",
       "      <td>11</td>\n",
       "      <td>{'f_select__percentile': 45.731906319678615, '...</td>\n",
       "      <td>133.758766</td>\n",
       "      <td>5.448903</td>\n",
       "      <td>1.380838</td>\n",
       "      <td>0.222226</td>\n",
       "      <td>-0.765883</td>\n",
       "      <td>-0.769033</td>\n",
       "      <td>-0.770402</td>\n",
       "      <td>-0.769837</td>\n",
       "      <td>-0.768369</td>\n",
       "      <td>-0.768705</td>\n",
       "      <td>0.001571</td>\n",
       "      <td>14</td>\n",
       "      <td>45.731906</td>\n",
       "      <td>13</td>\n",
       "      <td>0.25</td>\n",
       "      <td>97</td>\n",
       "      <td>(1, 99)</td>\n",
       "    </tr>\n",
       "    <tr>\n",
       "      <th>3</th>\n",
       "      <td>3</td>\n",
       "      <td>{'f_select__percentile': 52.777915443762154, '...</td>\n",
       "      <td>516.921588</td>\n",
       "      <td>7.530420</td>\n",
       "      <td>1.365319</td>\n",
       "      <td>0.151747</td>\n",
       "      <td>-0.765735</td>\n",
       "      <td>-0.771061</td>\n",
       "      <td>-0.770239</td>\n",
       "      <td>-0.769105</td>\n",
       "      <td>-0.768093</td>\n",
       "      <td>-0.768847</td>\n",
       "      <td>0.001853</td>\n",
       "      <td>15</td>\n",
       "      <td>52.777915</td>\n",
       "      <td>23</td>\n",
       "      <td>auto</td>\n",
       "      <td>53</td>\n",
       "      <td>(1, 99)</td>\n",
       "    </tr>\n",
       "    <tr>\n",
       "      <th>10</th>\n",
       "      <td>10</td>\n",
       "      <td>{'f_select__percentile': 66.87723421148435, 'm...</td>\n",
       "      <td>159.133303</td>\n",
       "      <td>5.170809</td>\n",
       "      <td>0.900408</td>\n",
       "      <td>0.067451</td>\n",
       "      <td>-0.768367</td>\n",
       "      <td>-0.772193</td>\n",
       "      <td>-0.770458</td>\n",
       "      <td>-0.771560</td>\n",
       "      <td>-0.770556</td>\n",
       "      <td>-0.770627</td>\n",
       "      <td>0.001301</td>\n",
       "      <td>16</td>\n",
       "      <td>66.877234</td>\n",
       "      <td>10</td>\n",
       "      <td>0.25</td>\n",
       "      <td>84</td>\n",
       "      <td>(1, 99)</td>\n",
       "    </tr>\n",
       "    <tr>\n",
       "      <th>12</th>\n",
       "      <td>12</td>\n",
       "      <td>{'f_select__percentile': 32.198040960058684, '...</td>\n",
       "      <td>593.705148</td>\n",
       "      <td>31.831399</td>\n",
       "      <td>2.285293</td>\n",
       "      <td>0.161143</td>\n",
       "      <td>-0.767133</td>\n",
       "      <td>-0.773486</td>\n",
       "      <td>-0.773271</td>\n",
       "      <td>-0.774920</td>\n",
       "      <td>-0.771214</td>\n",
       "      <td>-0.772005</td>\n",
       "      <td>0.002708</td>\n",
       "      <td>17</td>\n",
       "      <td>32.198041</td>\n",
       "      <td>24</td>\n",
       "      <td>auto</td>\n",
       "      <td>92</td>\n",
       "      <td>(10, 90)</td>\n",
       "    </tr>\n",
       "    <tr>\n",
       "      <th>9</th>\n",
       "      <td>9</td>\n",
       "      <td>{'f_select__percentile': 55.715962825831376, '...</td>\n",
       "      <td>152.758459</td>\n",
       "      <td>4.877045</td>\n",
       "      <td>0.863986</td>\n",
       "      <td>0.110661</td>\n",
       "      <td>-0.770845</td>\n",
       "      <td>-0.772932</td>\n",
       "      <td>-0.772083</td>\n",
       "      <td>-0.773374</td>\n",
       "      <td>-0.771582</td>\n",
       "      <td>-0.772163</td>\n",
       "      <td>0.000910</td>\n",
       "      <td>18</td>\n",
       "      <td>55.715963</td>\n",
       "      <td>10</td>\n",
       "      <td>0.25</td>\n",
       "      <td>95</td>\n",
       "      <td>(1, 99)</td>\n",
       "    </tr>\n",
       "    <tr>\n",
       "      <th>16</th>\n",
       "      <td>16</td>\n",
       "      <td>{'f_select__percentile': 23.377078856542056, '...</td>\n",
       "      <td>217.175540</td>\n",
       "      <td>17.577542</td>\n",
       "      <td>0.879000</td>\n",
       "      <td>0.094878</td>\n",
       "      <td>-0.773806</td>\n",
       "      <td>-0.776799</td>\n",
       "      <td>-0.776621</td>\n",
       "      <td>-0.778338</td>\n",
       "      <td>-0.775605</td>\n",
       "      <td>-0.776234</td>\n",
       "      <td>0.001496</td>\n",
       "      <td>19</td>\n",
       "      <td>23.377079</td>\n",
       "      <td>16</td>\n",
       "      <td>auto</td>\n",
       "      <td>57</td>\n",
       "      <td>(10, 90)</td>\n",
       "    </tr>\n",
       "    <tr>\n",
       "      <th>18</th>\n",
       "      <td>18</td>\n",
       "      <td>{'f_select__percentile': 12.054625706555111, '...</td>\n",
       "      <td>135.944009</td>\n",
       "      <td>3.911301</td>\n",
       "      <td>0.922763</td>\n",
       "      <td>0.179435</td>\n",
       "      <td>-0.786254</td>\n",
       "      <td>-0.788238</td>\n",
       "      <td>-0.785739</td>\n",
       "      <td>-0.789230</td>\n",
       "      <td>-0.785254</td>\n",
       "      <td>-0.786943</td>\n",
       "      <td>0.001529</td>\n",
       "      <td>20</td>\n",
       "      <td>12.054626</td>\n",
       "      <td>15</td>\n",
       "      <td>auto</td>\n",
       "      <td>65</td>\n",
       "      <td>(1, 99)</td>\n",
       "    </tr>\n",
       "  </tbody>\n",
       "</table>\n",
       "</div>"
      ],
      "text/plain": [
       "    Unnamed: 0                                             params  \\\n",
       "15          15  {'f_select__percentile': 98.3611884393561, 'mo...   \n",
       "14          14  {'f_select__percentile': 81.65338027432493, 'm...   \n",
       "2            2  {'f_select__percentile': 99.88620365911981, 'm...   \n",
       "17          17  {'f_select__percentile': 97.71313701250916, 'm...   \n",
       "0            0  {'f_select__percentile': 91.1415914156503, 'mo...   \n",
       "8            8  {'f_select__percentile': 89.47676158166064, 'm...   \n",
       "19          19  {'f_select__percentile': 53.8849240013158, 'mo...   \n",
       "7            7  {'f_select__percentile': 62.078276068007064, '...   \n",
       "1            1  {'f_select__percentile': 51.91469042723275, 'm...   \n",
       "6            6  {'f_select__percentile': 54.78192256976766, 'm...   \n",
       "5            5  {'f_select__percentile': 83.10947150478754, 'm...   \n",
       "13          13  {'f_select__percentile': 40.62576782055736, 'm...   \n",
       "4            4  {'f_select__percentile': 40.235499855999194, '...   \n",
       "11          11  {'f_select__percentile': 45.731906319678615, '...   \n",
       "3            3  {'f_select__percentile': 52.777915443762154, '...   \n",
       "10          10  {'f_select__percentile': 66.87723421148435, 'm...   \n",
       "12          12  {'f_select__percentile': 32.198040960058684, '...   \n",
       "9            9  {'f_select__percentile': 55.715962825831376, '...   \n",
       "16          16  {'f_select__percentile': 23.377078856542056, '...   \n",
       "18          18  {'f_select__percentile': 12.054625706555111, '...   \n",
       "\n",
       "    mean_fit_time  std_fit_time  mean_score_time  std_score_time  \\\n",
       "15    1702.550330     97.710884         2.484277        0.113361   \n",
       "14    1100.612363     91.693866         1.612955        0.132383   \n",
       "2     1071.344809     48.122568         1.582189        0.040434   \n",
       "17     230.332544     16.682757         1.143255        0.042678   \n",
       "0     1293.373676     66.778473         2.039745        0.083376   \n",
       "8      289.029553     24.457210         1.404081        0.062530   \n",
       "19     142.121830      4.768276         1.282561        0.157856   \n",
       "7      472.301534     15.247355         0.751615        0.038152   \n",
       "1      174.294263      9.645774         1.980740        0.330170   \n",
       "6      138.435357      8.929972         1.464540        0.178411   \n",
       "5      134.615212     11.448718         0.746425        0.239494   \n",
       "13     646.584024     19.291837         2.036290        0.114536   \n",
       "4      157.456374      6.276190         1.852501        0.268811   \n",
       "11     133.758766      5.448903         1.380838        0.222226   \n",
       "3      516.921588      7.530420         1.365319        0.151747   \n",
       "10     159.133303      5.170809         0.900408        0.067451   \n",
       "12     593.705148     31.831399         2.285293        0.161143   \n",
       "9      152.758459      4.877045         0.863986        0.110661   \n",
       "16     217.175540     17.577542         0.879000        0.094878   \n",
       "18     135.944009      3.911301         0.922763        0.179435   \n",
       "\n",
       "    split0_test_score  split1_test_score  split2_test_score  \\\n",
       "15          -0.755847          -0.758377          -0.760052   \n",
       "14          -0.756162          -0.759688          -0.760165   \n",
       "2           -0.756140          -0.761133          -0.760807   \n",
       "17          -0.758153          -0.761192          -0.761522   \n",
       "0           -0.758545          -0.761923          -0.762547   \n",
       "8           -0.759227          -0.762630          -0.762545   \n",
       "19          -0.763678          -0.765782          -0.765985   \n",
       "7           -0.762629          -0.767258          -0.765798   \n",
       "1           -0.765389          -0.767062          -0.766308   \n",
       "6           -0.763867          -0.767638          -0.766243   \n",
       "5           -0.764289          -0.767098          -0.766244   \n",
       "13          -0.762261          -0.768082          -0.769010   \n",
       "4           -0.764745          -0.768301          -0.768308   \n",
       "11          -0.765883          -0.769033          -0.770402   \n",
       "3           -0.765735          -0.771061          -0.770239   \n",
       "10          -0.768367          -0.772193          -0.770458   \n",
       "12          -0.767133          -0.773486          -0.773271   \n",
       "9           -0.770845          -0.772932          -0.772083   \n",
       "16          -0.773806          -0.776799          -0.776621   \n",
       "18          -0.786254          -0.788238          -0.785739   \n",
       "\n",
       "    split3_test_score  split4_test_score  mean_test_score  std_test_score  \\\n",
       "15          -0.757093          -0.757036        -0.757681        0.001431   \n",
       "14          -0.759685          -0.758532        -0.758846        0.001446   \n",
       "2           -0.758867          -0.759245        -0.759238        0.001777   \n",
       "17          -0.759947          -0.760301        -0.760223        0.001183   \n",
       "0           -0.760939          -0.760214        -0.760833        0.001397   \n",
       "8           -0.762615          -0.761041        -0.761612        0.001336   \n",
       "19          -0.765736          -0.764105        -0.765057        0.000965   \n",
       "7           -0.766571          -0.765691        -0.765589        0.001585   \n",
       "1           -0.766112          -0.765096        -0.765993        0.000696   \n",
       "6           -0.767215          -0.765102        -0.766013        0.001384   \n",
       "5           -0.767388          -0.765644        -0.766132        0.001110   \n",
       "13          -0.765910          -0.767325        -0.766517        0.002358   \n",
       "4           -0.766230          -0.765838        -0.766685        0.001409   \n",
       "11          -0.769837          -0.768369        -0.768705        0.001571   \n",
       "3           -0.769105          -0.768093        -0.768847        0.001853   \n",
       "10          -0.771560          -0.770556        -0.770627        0.001301   \n",
       "12          -0.774920          -0.771214        -0.772005        0.002708   \n",
       "9           -0.773374          -0.771582        -0.772163        0.000910   \n",
       "16          -0.778338          -0.775605        -0.776234        0.001496   \n",
       "18          -0.789230          -0.785254        -0.786943        0.001529   \n",
       "\n",
       "    rank_test_score  param_f_select__percentile  \\\n",
       "15                1                   98.361188   \n",
       "14                2                   81.653380   \n",
       "2                 3                   99.886204   \n",
       "17                4                   97.713137   \n",
       "0                 5                   91.141591   \n",
       "8                 6                   89.476762   \n",
       "19                7                   53.884924   \n",
       "7                 8                   62.078276   \n",
       "1                 9                   51.914690   \n",
       "6                10                   54.781923   \n",
       "5                11                   83.109472   \n",
       "13               12                   40.625768   \n",
       "4                13                   40.235500   \n",
       "11               14                   45.731906   \n",
       "3                15                   52.777915   \n",
       "10               16                   66.877234   \n",
       "12               17                   32.198041   \n",
       "9                18                   55.715963   \n",
       "16               19                   23.377079   \n",
       "18               20                   12.054626   \n",
       "\n",
       "    param_model__regressor__max_depth param_model__regressor__max_features  \\\n",
       "15                                 22                                 auto   \n",
       "14                                 17                                 auto   \n",
       "2                                  19                                 auto   \n",
       "17                                 14                                 0.25   \n",
       "0                                  22                                 auto   \n",
       "8                                  13                                 0.25   \n",
       "19                                 15                                 0.25   \n",
       "7                                  11                                 auto   \n",
       "1                                  21                                 0.25   \n",
       "6                                  19                                 0.25   \n",
       "5                                  11                                 0.25   \n",
       "13                                 21                                 auto   \n",
       "4                                  18                                 0.25   \n",
       "11                                 13                                 0.25   \n",
       "3                                  23                                 auto   \n",
       "10                                 10                                 0.25   \n",
       "12                                 24                                 auto   \n",
       "9                                  10                                 0.25   \n",
       "16                                 16                                 auto   \n",
       "18                                 15                                 auto   \n",
       "\n",
       "    param_model__regressor__n_estimators param_scaler__quantile_range  \n",
       "15                                    99                      (5, 95)  \n",
       "14                                    87                      (5, 95)  \n",
       "2                                     65                      (5, 95)  \n",
       "17                                    67                      (5, 95)  \n",
       "0                                     78                     (10, 90)  \n",
       "8                                     89                      (1, 99)  \n",
       "19                                    78                  (0.5, 99.5)  \n",
       "7                                     65                     (10, 90)  \n",
       "1                                     77                     (10, 90)  \n",
       "6                                     58                  (0.1, 99.9)  \n",
       "5                                     56                      (5, 95)  \n",
       "13                                    90                  (0.5, 99.5)  \n",
       "4                                     94                  (0.1, 99.9)  \n",
       "11                                    97                      (1, 99)  \n",
       "3                                     53                      (1, 99)  \n",
       "10                                    84                      (1, 99)  \n",
       "12                                    92                     (10, 90)  \n",
       "9                                     95                      (1, 99)  \n",
       "16                                    57                     (10, 90)  \n",
       "18                                    65                      (1, 99)  "
      ]
     },
     "execution_count": 140,
     "metadata": {},
     "output_type": "execute_result"
    }
   ],
   "source": [
    "cv_results.sort_values('rank_test_score')"
   ]
  },
  {
   "cell_type": "markdown",
   "metadata": {},
   "source": [
    "### Dask debugging "
   ]
  },
  {
   "cell_type": "code",
   "execution_count": null,
   "metadata": {},
   "outputs": [],
   "source": [
    "# Pull up erring key\n",
    "err = client.futures[\"('score-b0e3729a01d6f20aec7498c297e3c3b1', 24, 2)\"]\n",
    "key, err = client.futures.popitem()\n",
    "# keys, states = [*zip(*[*client.futures.items()])]"
   ]
  },
  {
   "cell_type": "code",
   "execution_count": null,
   "metadata": {},
   "outputs": [],
   "source": [
    "import traceback as tb\n",
    "tb.print_tb(err.traceback)\n",
    "print(err.exception)"
   ]
  },
  {
   "cell_type": "markdown",
   "metadata": {},
   "source": [
    "## Single train-test split for evaluation"
   ]
  },
  {
   "cell_type": "code",
   "execution_count": 120,
   "metadata": {},
   "outputs": [],
   "source": [
    "import ast\n",
    "\n",
    "cv_results = pd.read_csv(f'performance/cv_paramsweeps/{dataset}_{type(model).__name__}_{label}.csv')\n",
    "win_params = ast.literal_eval(cv_results.loc[cv_results.rank_test_score == 1, 'params'].values[0])\n",
    "winner = pipe.set_params(**win_params)"
   ]
  },
  {
   "cell_type": "code",
   "execution_count": 138,
   "metadata": {},
   "outputs": [],
   "source": [
    "X_c = X.reset_index(drop=True)\n",
    "y_c = y.reset_index(drop=True)\n",
    "samp_map = labeled_samps.loc[:, 'samp_id'].reset_index(drop=True)\n",
    "\n",
    "x_train, x_test, y_train, y_test = model_selection.train_test_split(X_c, y_c, test_size=.25, stratify=y_c)"
   ]
  },
  {
   "cell_type": "code",
   "execution_count": 98,
   "metadata": {},
   "outputs": [
    {
     "name": "stdout",
     "output_type": "stream",
     "text": [
      "[Pipeline] ............ (step 1 of 3) Processing scaler, total=   0.1s\n",
      "[Pipeline] .......... (step 2 of 3) Processing f_select, total=   0.0s\n",
      "[Pipeline] ............. (step 3 of 3) Processing model, total=  28.1s\n"
     ]
    },
    {
     "data": {
      "image/png": "[encoded data removed]",
      "text/plain": [
       "<Figure size 1080x432 with 3 Axes>"
      ]
     },
     "metadata": {
      "needs_background": "light"
     },
     "output_type": "display_data"
    }
   ],
   "source": [
    "with joblib.parallel_backend('loky'):\n",
    "    winner.fit(x_train, y_train)\n",
    "    pred = winner.predict(x_test)\n",
    "\n",
    "main.plot_performance(y_test, pred)"
   ]
  },
  {
   "cell_type": "code",
   "execution_count": 94,
   "metadata": {
    "collapsed": true
   },
   "outputs": [
    {
     "data": {
      "text/plain": [
       "3.9    0.020125\n",
       "1.9    0.020288\n",
       "0.1    0.020823\n",
       "1.7    0.020954\n",
       "1.2    0.021244\n",
       "0.9    0.021320\n",
       "4.7    0.021368\n",
       "1.1    0.021971\n",
       "4.4    0.021996\n",
       "0.8    0.022225\n",
       "4.9    0.022285\n",
       "0.5    0.022628\n",
       "2.0    0.023208\n",
       "0.4    0.023258\n",
       "3.3    0.023837\n",
       "4.8    0.023940\n",
       "3.7    0.024412\n",
       "1.6    0.024991\n",
       "0.6    0.026086\n",
       "ord    0.028248\n",
       "dtype: float64"
      ]
     },
     "execution_count": 94,
     "metadata": {},
     "output_type": "execute_result"
    }
   ],
   "source": [
    "pd.Series(data=winner.named_steps['model'].regressor_.feature_importances_,\n",
    "          index=X.columns[winner.named_steps['f_select'].get_support()]).sort_values().iloc[-20:]"
   ]
  },
  {
   "cell_type": "markdown",
   "metadata": {},
   "source": [
    "###  Combine window predictions using mean"
   ]
  },
  {
   "cell_type": "code",
   "execution_count": 60,
   "metadata": {
    "scrolled": false
   },
   "outputs": [
    {
     "data": {
      "image/png": "[encoded data removed]",
      "text/plain": [
       "<Figure size 1080x432 with 3 Axes>"
      ]
     },
     "metadata": {
      "needs_background": "light"
     },
     "output_type": "display_data"
    }
   ],
   "source": [
    "# Ensemble prediction by taking mean of window predictions \n",
    "ensem_pred = pd.DataFrame({'samp_id': samp_map[y_test.index], 'pred': pred}).groupby('samp_id').mean()\n",
    "result = ensem_pred.join(labels.loc[labels.measurement_id.isin(ensem_pred.index)].set_index('measurement_id')[label])\n",
    "main.plot_performance(result[label], result.pred)"
   ]
  },
  {
   "cell_type": "markdown",
   "metadata": {},
   "source": [
    "#### Look at range of predictions on single observation"
   ]
  },
  {
   "cell_type": "code",
   "execution_count": 80,
   "metadata": {},
   "outputs": [
    {
     "data": {
      "text/plain": [
       "Text(0.5, 1.0, '1f8d2c61-70d2-4292-a75a-1e5164460e06 actual: 1.0')"
      ]
     },
     "execution_count": 80,
     "metadata": {},
     "output_type": "execute_result"
    },
    {
     "data": {
      "image/png": "[encoded data removed]",
      "text/plain": [
       "<Figure size 432x288 with 1 Axes>"
      ]
     },
     "metadata": {
      "needs_background": "light"
     },
     "output_type": "display_data"
    }
   ],
   "source": [
    "# Look at single \n",
    "s = samp_map.sample().values[0]\n",
    "d = pd.DataFrame({'samp_id': samp_map[y_test.index], 'pred': pred})\n",
    "ax = sns.distplot(d[d.samp_id == s].pred, rug=True)\n",
    "ax.set_title(f'{s} actual: {labels[labels.measurement_id == s][label].values[0]}')"
   ]
  },
  {
   "cell_type": "code",
   "execution_count": 179,
   "metadata": {},
   "outputs": [
    {
     "data": {
      "text/plain": [
       "89acf665-fe65-4251-bb91-1f5dbf7b4c6a    238\n",
       "9446b6f3-6c09-4366-8b60-ac3d10387880    238\n",
       "d44b61dc-6440-4b80-adb7-488104fa7cbe    238\n",
       "fb82d4fa-d118-4d5b-ae61-46bfdfb91247    238\n",
       "7a5aaf70-b362-4cab-8ad2-10a5edfc4a39    238\n",
       "                                       ... \n",
       "b5098d2c-fdec-485c-a855-bd5cd7ff68ea     31\n",
       "92a5282f-27d2-4608-9e23-cfe3ac6863df     30\n",
       "b4b4486b-ecfb-43a9-a09f-0e1f613b161c     29\n",
       "6e412bc6-0861-48c3-875d-c7b2e5edafc9     21\n",
       "2559e082-f3c1-4824-808f-a9c3eb4a8fe5      1\n",
       "Name: samp_id, Length: 274, dtype: int64"
      ]
     },
     "execution_count": 179,
     "metadata": {},
     "output_type": "execute_result"
    }
   ],
   "source": [
    "samp_map.value_counts()"
   ]
  },
  {
   "cell_type": "code",
   "execution_count": 224,
   "metadata": {},
   "outputs": [
    {
     "data": {
      "text/plain": [
       "array([1.44505415, 2.16233382])"
      ]
     },
     "execution_count": 224,
     "metadata": {},
     "output_type": "execute_result"
    }
   ],
   "source": [
    "np.percentile(d[d.samp_id == s].pred, [25, 75])"
   ]
  },
  {
   "cell_type": "code",
   "execution_count": 171,
   "metadata": {},
   "outputs": [
    {
     "data": {
      "text/plain": [
       "<matplotlib.axes._subplots.AxesSubplot at 0x7efebc89ad90>"
      ]
     },
     "execution_count": 171,
     "metadata": {},
     "output_type": "execute_result"
    },
    {
     "data": {
      "image/png": "[encoded data removed]",
      "text/plain": [
       "<Figure size 432x288 with 1 Axes>"
      ]
     },
     "metadata": {
      "needs_background": "light"
     },
     "output_type": "display_data"
    }
   ],
   "source": [
    "sns.countplot(labels[labels.measurement_id.isin(samp_map.unique())][label])"
   ]
  },
  {
   "cell_type": "markdown",
   "metadata": {},
   "source": [
    "# Baseline for reference"
   ]
  },
  {
   "cell_type": "code",
   "execution_count": 134,
   "metadata": {
    "tags": [
     "#data"
    ]
   },
   "outputs": [],
   "source": [
    "# label = 'dyskinesia'\n",
    "labeled_samps = df.dropna(subset=[label])#.drop(columns=[*label_cols, *id_cols])\n",
    "\n",
    "y = df.loc[labeled_samps.index, label].astype('int')\n",
    "metric = metrics.make_scorer(metrics.mean_squared_error, greater_is_better=False)"
   ]
  },
  {
   "cell_type": "code",
   "execution_count": 139,
   "metadata": {
    "scrolled": false
   },
   "outputs": [
    {
     "data": {
      "image/png": "[encoded data removed]",
      "text/plain": [
       "<Figure size 1080x432 with 3 Axes>"
      ]
     },
     "metadata": {
      "needs_background": "light"
     },
     "output_type": "display_data"
    }
   ],
   "source": [
    "# patient-specific mean predictor\n",
    "subj_means = labels.groupby('subject_id').mean()\n",
    "X_subjs = labels[labels.measurement_id.isin(samp_map.unique())][['subject_id']]\n",
    "actuals = labels[labels.measurement_id.isin(samp_map.unique())][label]\n",
    "naive_pred = X_subjs.merge(subj_means[[label]], left_on='subject_id', right_index=True).rename(columns={label: 'prediction'})\n",
    "main.plot_performance(actuals, naive_pred.prediction)"
   ]
  },
  {
   "cell_type": "markdown",
   "metadata": {},
   "source": [
    "# Predictions on test set"
   ]
  },
  {
   "cell_type": "code",
   "execution_count": null,
   "metadata": {},
   "outputs": [],
   "source": [
    "import ast\n",
    "\n",
    "cv_results = pd.read_csv(f'performance/cv_paramsweeps/{dataset}_{type(model).__name__}_{label}.csv')\n",
    "win_params = ast.literal_eval(cv_results.loc[cv_results.rank_test_score == 1, 'params'].values[0])\n",
    "winner = pipe.set_params(**win_params)"
   ]
  },
  {
   "cell_type": "code",
   "execution_count": null,
   "metadata": {},
   "outputs": [],
   "source": [
    "test_index = pd.read_csv(f'test_predictions/sub_template_{label}.csv', index_col=0).index\n",
    "test_features_df = pd.concat([\n",
    "    pd.read_csv('extracted_features/tsfeatures_cis_test.csv', index_col=0), \n",
    "    pd.read_csv('extracted_features/tsfeatures_real_test.csv', index_col=0)\n",
    "]).drop(columns=drop_cols).reindex(test_index)\n",
    "\n",
    "test_subjs = pd.concat([\n",
    "    pd.read_csv('data/test_set/cis-pd/cis-pd.CIS-PD_Test_Data_IDs.csv', index_col=0), \n",
    "    pd.read_csv('data/test_set/real-pd/real-pd.REAL-PD_Test_Data_IDs.csv', index_col=0)\n",
    "]).reindex(test_index)"
   ]
  },
  {
   "cell_type": "code",
   "execution_count": null,
   "metadata": {},
   "outputs": [],
   "source": [
    "# Predict patient-specific mean if data not available\n",
    "nodata_obs = test_subjs.loc[test_features_df[test_features_df.isna().sum(axis=1) > 0].index]\n",
    "nodata_predictions = nodata_obs.join(subj_means, on='subject_id')[[label]].rename({label: 'prediction'}, axis=1)"
   ]
  },
  {
   "cell_type": "code",
   "execution_count": null,
   "metadata": {},
   "outputs": [],
   "source": [
    "X = test_features_df.dropna(axis='index')\n",
    "\n",
    "test_predictions = winner.predict(X)\n",
    "test_predictions_df = pd.concat([\n",
    "    pd.DataFrame(index=X.index, data={'prediction': test_predictions}),\n",
    "    nodata_predictions,\n",
    "], axis=0)"
   ]
  },
  {
   "cell_type": "code",
   "execution_count": null,
   "metadata": {},
   "outputs": [],
   "source": [
    "test_predictions_df.to_csv(f'test_predictions/test_predictions_{label}.csv', index=True)"
   ]
  },
  {
   "cell_type": "markdown",
   "metadata": {},
   "source": [
    "# Dimensionality Reduction"
   ]
  },
  {
   "cell_type": "code",
   "execution_count": null,
   "metadata": {},
   "outputs": [],
   "source": [
    "features_df['ord'] = features_df.groupby(['samp_id']).cumcount()"
   ]
  },
  {
   "cell_type": "code",
   "execution_count": null,
   "metadata": {},
   "outputs": [],
   "source": [
    "features_df.reset_index(inplace=True)\n",
    "features_df.set_index(['samp_id', 'id'], inplace=True)"
   ]
  },
  {
   "cell_type": "code",
   "execution_count": null,
   "metadata": {},
   "outputs": [],
   "source": [
    "features_df.drop(columns='index', inplace=True)"
   ]
  },
  {
   "cell_type": "code",
   "execution_count": null,
   "metadata": {},
   "outputs": [],
   "source": [
    "valid_samps = labels[['measurement_id', 'dyskinesia']]"
   ]
  },
  {
   "cell_type": "code",
   "execution_count": null,
   "metadata": {},
   "outputs": [],
   "source": [
    "label = 'dyskinesia'\n",
    "\n",
    "valid_samps = labels.dropna(subset=['dyskinesia'])['measurement_id']\n",
    "X = features_df[features_df.index.get_level_values('samp_id').isin(valid_samps) & ~np.isinf(features_df).any(axis=1)]#[features_df.ord < 21].groupby(['samp_id', 'ord']).sum().unstack()"
   ]
  },
  {
   "cell_type": "code",
   "execution_count": null,
   "metadata": {},
   "outputs": [],
   "source": [
    "pca = decomposition.PCA(n_components=4)\n",
    "fut = client.submit(pca.fit_transform, X)"
   ]
  },
  {
   "cell_type": "code",
   "execution_count": null,
   "metadata": {},
   "outputs": [],
   "source": [
    "proj = client.gather(fut)"
   ]
  },
  {
   "cell_type": "code",
   "execution_count": null,
   "metadata": {},
   "outputs": [],
   "source": [
    "y = labels[['measurement_id', label]].set_index('measurement_id').reindex(X.index.get_level_values('samp_id'))"
   ]
  },
  {
   "cell_type": "code",
   "execution_count": null,
   "metadata": {},
   "outputs": [],
   "source": [
    "fig = plt.figure(figsize=(8, 8))\n",
    "_ = sns.scatterplot(x=proj[:, 0], y=proj[:, 3], hue=y.dyskinesia, legend='full')"
   ]
  },
  {
   "cell_type": "code",
   "execution_count": null,
   "metadata": {},
   "outputs": [],
   "source": [
    "label = 'subject_id'\n",
    "\n",
    "X = f_select.fit_transform(scaler.fit_transform(labeled_samps), y=y)\n",
    "pca = decomposition.FastICA(n_components=2)\n",
    "proj = pca.fit_transform(X)\n",
    "fig = plt.figure(figsize=(8, 8))\n",
    "_ = sns.scatterplot(x=proj[:, 0], y=proj[:, 1], hue=df.loc[features.index, label], legend='full')"
   ]
  },
  {
   "cell_type": "markdown",
   "metadata": {},
   "source": [
    "# Archived cells "
   ]
  },
  {
   "cell_type": "code",
   "execution_count": null,
   "metadata": {},
   "outputs": [],
   "source": [
    "# Local cluster for debugging\n",
    "try:\n",
    "    local_cluster.close()\n",
    "    local_client.close()\n",
    "except NameError:\n",
    "    pass\n",
    "finally:\n",
    "    local_cluster = LocalCluster(n_workers=4, threads_per_worker=1, dashboard_address='0.0.0.0:8786')\n",
    "    local_client = Client(local_cluster)\n",
    "    local_cluster.adapt(minimum=0, maximum=4)"
   ]
  }
 ],
 "metadata": {
  "celltoolbar": "Tags",
  "kernelspec": {
   "display_name": "Python 3",
   "language": "python",
   "name": "python3"
  },
  "language_info": {
   "codemirror_mode": {
    "name": "ipython",
    "version": 3
   },
   "file_extension": ".py",
   "mimetype": "text/x-python",
   "name": "python",
   "nbconvert_exporter": "python",
   "pygments_lexer": "ipython3",
   "version": "3.7.7"
  },
  "toc": {
   "base_numbering": 1,
   "nav_menu": {},
   "number_sections": true,
   "sideBar": true,
   "skip_h1_title": false,
   "title_cell": "Table of Contents",
   "title_sidebar": "Contents",
   "toc_cell": false,
   "toc_position": {
    "height": "170px",
    "left": "47px",
    "top": "141.133px",
    "width": "221px"
   },
   "toc_section_display": true,
   "toc_window_display": true
  }
 },
 "nbformat": 4,
 "nbformat_minor": 4
}
