{
 "cells": [
  {
   "cell_type": "code",
   "execution_count": null,
   "metadata": {},
   "outputs": [],
   "source": [
    "import os\n",
    "from os.path import join\n",
    "import sys\n",
    "import pandas as pd\n",
    "import numpy as np\n",
    "import scipy.signal as signal"
   ]
  },
  {
   "cell_type": "code",
   "execution_count": null,
   "metadata": {},
   "outputs": [],
   "source": [
    "import altair as alt\n",
    "alt.data_transformers.disable_max_rows();"
   ]
  },
  {
   "cell_type": "code",
   "execution_count": null,
   "metadata": {},
   "outputs": [],
   "source": [
    "DATA_DIR = join(\"..\", \"data\")\n",
    "RAW_DIR = join(DATA_DIR, \"raw\")"
   ]
  },
  {
   "cell_type": "code",
   "execution_count": null,
   "metadata": {},
   "outputs": [],
   "source": [
    "df = pd.read_csv(join(RAW_DIR, \"UCI_HAPT\", \"RawData\", \"acc_exp01_user01.txt\"), sep=' ', header=None)"
   ]
  },
  {
   "cell_type": "code",
   "execution_count": null,
   "metadata": {},
   "outputs": [],
   "source": [
    "df.head()"
   ]
  },
  {
   "cell_type": "code",
   "execution_count": null,
   "metadata": {},
   "outputs": [],
   "source": [
    "def signalplot(arr):\n",
    "    df = pd.DataFrame(data=arr).rename(columns={0: 'x', 1: 'y', 2: 'z'})\n",
    "    molten_df = df.reset_index().melt(id_vars=['index'], value_vars=['x', 'y', 'z'])\n",
    "    return (alt\n",
    "        .Chart(molten_df)\n",
    "        .mark_line()\n",
    "        .encode(\n",
    "            x='index',\n",
    "            y='value',\n",
    "            color='variable'\n",
    "        ))"
   ]
  },
  {
   "cell_type": "code",
   "execution_count": null,
   "metadata": {},
   "outputs": [],
   "source": [
    "signalplot(df.values)"
   ]
  },
  {
   "cell_type": "code",
   "execution_count": null,
   "metadata": {},
   "outputs": [],
   "source": [
    "def filter3d(arr, func):\n",
    "    filtered_arr_dim_0 = func(arr.T[0])\n",
    "    filtered_arr_dim_1 = func(arr.T[1])\n",
    "    filtered_arr_dim_2 = func(arr.T[2])\n",
    "    return np.stack((filtered_arr_dim_0, filtered_arr_dim_1, filtered_arr_dim_2), axis=-1)"
   ]
  },
  {
   "cell_type": "markdown",
   "metadata": {},
   "source": [
    "### Filtering\n",
    "According to the procedure described by Reyes-Ortiz et al:\n",
    "- median filter (to remove noise)\n",
    "- 3rd order Butterworth low-pass filter with corner frequency of 20 Hz (to remove noise)\n",
    "- Butterworth low-pass filter with corner frequency of 0.3 Hz (to separate into body acceleration and gravity)"
   ]
  },
  {
   "cell_type": "code",
   "execution_count": null,
   "metadata": {},
   "outputs": [],
   "source": [
    "medfilt_arr = filter3d(df.values, lambda x: signal.medfilt(x))\n",
    "signalplot(medfilt_arr)"
   ]
  },
  {
   "cell_type": "code",
   "execution_count": null,
   "metadata": {},
   "outputs": [],
   "source": [
    "# Digital filter Wn value must be normalized between 0 and 1, \n",
    "# where 1 is the Nyquist frequency (half the sampling rate, which in our case is 50 Hz divided by 2).\n",
    "butter1 = signal.butter(3, 20/(50/2), 'lowpass', analog=False, output='ba')\n",
    "butter2 = signal.butter(3, 0.3/(50/2), 'lowpass', analog=False, output='ba')"
   ]
  },
  {
   "cell_type": "code",
   "execution_count": null,
   "metadata": {},
   "outputs": [],
   "source": [
    "butter1_arr = filter3d(medfilt_arr, lambda x: signal.lfilter(b=butter1[0], a=butter1[1], x=x, axis=0))\n",
    "signalplot(butter1_arr)"
   ]
  },
  {
   "cell_type": "code",
   "execution_count": null,
   "metadata": {},
   "outputs": [],
   "source": [
    "butter2_arr = filter3d(butter1_arr, lambda x: signal.lfilter(b=butter2[0], a=butter2[1], x=x, axis=0))\n",
    "signalplot(butter2_arr)"
   ]
  },
  {
   "cell_type": "code",
   "execution_count": null,
   "metadata": {},
   "outputs": [],
   "source": []
  },
  {
   "cell_type": "code",
   "execution_count": null,
   "metadata": {},
   "outputs": [],
   "source": []
  },
  {
   "cell_type": "code",
   "execution_count": null,
   "metadata": {},
   "outputs": [],
   "source": []
  }
 ],
 "metadata": {
  "kernelspec": {
   "display_name": "Python [conda env:pd-acc-env] *",
   "language": "python",
   "name": "conda-env-pd-acc-env-py"
  },
  "language_info": {
   "codemirror_mode": {
    "name": "ipython",
    "version": 3
   },
   "file_extension": ".py",
   "mimetype": "text/x-python",
   "name": "python",
   "nbconvert_exporter": "python",
   "pygments_lexer": "ipython3",
   "version": "3.7.6"
  }
 },
 "nbformat": 4,
 "nbformat_minor": 4
}
