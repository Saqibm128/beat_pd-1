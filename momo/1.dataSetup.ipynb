{
 "cells": [
  {
   "cell_type": "markdown",
   "metadata": {},
   "source": [
    "# Idea is to create a quick script to pull all the neural network data into a single file for quick access\n",
    "## CIS-PD Datasetup first\n",
    "\n",
    "We are going to resample to 25 Hz since the data appears to be irregularly sampled. We will take 1 minute time samples with 15 seconds of overlap (4x the original data which takes up 9 gb of space)"
   ]
  },
  {
   "cell_type": "code",
   "execution_count": 1,
   "metadata": {},
   "outputs": [],
   "source": [
    "import joblib\n",
    "import sys, os\n",
    "sys.path.append(os.path.realpath(\"..\"))"
   ]
  },
  {
   "cell_type": "code",
   "execution_count": 2,
   "metadata": {},
   "outputs": [
    {
     "data": {
      "text/plain": [
       "<module 'src.main' from '/home/ms994/beat_pd2/src/main.py'>"
      ]
     },
     "execution_count": 2,
     "metadata": {},
     "output_type": "execute_result"
    }
   ],
   "source": [
    "import src.main as main\n",
    "import pandas as pd\n",
    "import numpy as np\n",
    "from importlib import reload\n",
    "reload(main)"
   ]
  },
  {
   "cell_type": "code",
   "execution_count": 3,
   "metadata": {},
   "outputs": [],
   "source": [
    "labels = pd.read_csv(\"/home/ms994/beat_pd/data/cis-pd/data_labels/CIS-PD_Training_Data_IDs_Labels.csv\")\n",
    "additional_labels = pd.read_csv(\"/home/ms994/beat_pd/data/cis-pd/data_labels/CIS-PD_Ancillary_Data_IDs_Labels.csv\")"
   ]
  },
  {
   "cell_type": "code",
   "execution_count": 4,
   "metadata": {},
   "outputs": [],
   "source": [
    "demo_data = pd.read_csv(\"/home/ms994/beat_pd/data/cis-pd/clinical_data/CIS-PD_Demographics.csv\")\n",
    "updrs_1 = pd.read_csv(\"/home/ms994/beat_pd/data/cis-pd/clinical_data/CIS-PD_UPDRS_Part1_2_4.csv\")\n",
    "updrs_2 = pd.read_csv(\"/home/ms994/beat_pd/data/cis-pd/clinical_data/CIS-PD_UPDRS_Part3.csv\")"
   ]
  },
  {
   "cell_type": "code",
   "execution_count": 5,
   "metadata": {},
   "outputs": [
    {
     "data": {
      "text/html": [
       "<div>\n",
       "<style scoped>\n",
       "    .dataframe tbody tr th:only-of-type {\n",
       "        vertical-align: middle;\n",
       "    }\n",
       "\n",
       "    .dataframe tbody tr th {\n",
       "        vertical-align: top;\n",
       "    }\n",
       "\n",
       "    .dataframe thead th {\n",
       "        text-align: right;\n",
       "    }\n",
       "</style>\n",
       "<table border=\"1\" class=\"dataframe\">\n",
       "  <thead>\n",
       "    <tr style=\"text-align: right;\">\n",
       "      <th></th>\n",
       "      <th>subject_id</th>\n",
       "      <th>Visit</th>\n",
       "      <th>UPDRS_PartI_Total</th>\n",
       "      <th>UPDRS_PartII_Total</th>\n",
       "      <th>UPDRS_4.1</th>\n",
       "      <th>UPDRS_4.2</th>\n",
       "      <th>UPDRS_4.3</th>\n",
       "      <th>UPDRS_4.4</th>\n",
       "      <th>UPDRS_4.5</th>\n",
       "      <th>UPDRS_4.6</th>\n",
       "    </tr>\n",
       "  </thead>\n",
       "  <tbody>\n",
       "    <tr>\n",
       "      <th>0</th>\n",
       "      <td>1000</td>\n",
       "      <td>Baseline</td>\n",
       "      <td>4</td>\n",
       "      <td>5</td>\n",
       "      <td>0</td>\n",
       "      <td>0</td>\n",
       "      <td>1</td>\n",
       "      <td>3</td>\n",
       "      <td>1</td>\n",
       "      <td>1</td>\n",
       "    </tr>\n",
       "    <tr>\n",
       "      <th>1</th>\n",
       "      <td>1004</td>\n",
       "      <td>Baseline</td>\n",
       "      <td>13</td>\n",
       "      <td>6</td>\n",
       "      <td>1</td>\n",
       "      <td>3</td>\n",
       "      <td>1</td>\n",
       "      <td>4</td>\n",
       "      <td>3</td>\n",
       "      <td>0</td>\n",
       "    </tr>\n",
       "    <tr>\n",
       "      <th>2</th>\n",
       "      <td>1006</td>\n",
       "      <td>Baseline</td>\n",
       "      <td>10</td>\n",
       "      <td>19</td>\n",
       "      <td>0</td>\n",
       "      <td>0</td>\n",
       "      <td>1</td>\n",
       "      <td>0</td>\n",
       "      <td>2</td>\n",
       "      <td>0</td>\n",
       "    </tr>\n",
       "    <tr>\n",
       "      <th>3</th>\n",
       "      <td>1007</td>\n",
       "      <td>Baseline</td>\n",
       "      <td>18</td>\n",
       "      <td>9</td>\n",
       "      <td>0</td>\n",
       "      <td>0</td>\n",
       "      <td>2</td>\n",
       "      <td>3</td>\n",
       "      <td>1</td>\n",
       "      <td>2</td>\n",
       "    </tr>\n",
       "    <tr>\n",
       "      <th>4</th>\n",
       "      <td>1016</td>\n",
       "      <td>Baseline</td>\n",
       "      <td>15</td>\n",
       "      <td>2</td>\n",
       "      <td>0</td>\n",
       "      <td>0</td>\n",
       "      <td>0</td>\n",
       "      <td>0</td>\n",
       "      <td>0</td>\n",
       "      <td>0</td>\n",
       "    </tr>\n",
       "  </tbody>\n",
       "</table>\n",
       "</div>"
      ],
      "text/plain": [
       "   subject_id     Visit  UPDRS_PartI_Total  UPDRS_PartII_Total  UPDRS_4.1  \\\n",
       "0        1000  Baseline                  4                   5          0   \n",
       "1        1004  Baseline                 13                   6          1   \n",
       "2        1006  Baseline                 10                  19          0   \n",
       "3        1007  Baseline                 18                   9          0   \n",
       "4        1016  Baseline                 15                   2          0   \n",
       "\n",
       "   UPDRS_4.2  UPDRS_4.3  UPDRS_4.4  UPDRS_4.5  UPDRS_4.6  \n",
       "0          0          1          3          1          1  \n",
       "1          3          1          4          3          0  \n",
       "2          0          1          0          2          0  \n",
       "3          0          2          3          1          2  \n",
       "4          0          0          0          0          0  "
      ]
     },
     "execution_count": 5,
     "metadata": {},
     "output_type": "execute_result"
    }
   ],
   "source": [
    "updrs_1.head()"
   ]
  },
  {
   "cell_type": "code",
   "execution_count": 6,
   "metadata": {},
   "outputs": [],
   "source": [
    "all_data = demo_data.join(updrs_1.set_index(\"subject_id\"), on=\"subject_id\").join(updrs_2.set_index(\"subject_id\").drop([\"Visit\"], axis=1))"
   ]
  },
  {
   "cell_type": "code",
   "execution_count": 7,
   "metadata": {},
   "outputs": [],
   "source": [
    "labels = pd.concat([labels, additional_labels])"
   ]
  },
  {
   "cell_type": "code",
   "execution_count": 8,
   "metadata": {},
   "outputs": [],
   "source": [
    "labels = labels.reset_index()"
   ]
  },
  {
   "cell_type": "code",
   "execution_count": 9,
   "metadata": {},
   "outputs": [],
   "source": [
    "labels = labels.join(all_data.set_index(\"subject_id\"), how=\"inner\", on=\"subject_id\")"
   ]
  },
  {
   "cell_type": "code",
   "execution_count": 10,
   "metadata": {},
   "outputs": [
    {
     "data": {
      "text/plain": [
       "index                 0.000000\n",
       "measurement_id        0.000000\n",
       "subject_id            0.000000\n",
       "on_off                0.041176\n",
       "dyskinesia            0.303167\n",
       "tremor                0.179186\n",
       "Age                   0.000000\n",
       "Gender                0.000000\n",
       "Race                  0.020362\n",
       "Ethnicity             0.000000\n",
       "Visit                 0.000000\n",
       "UPDRS_PartI_Total     0.000000\n",
       "UPDRS_PartII_Total    0.000000\n",
       "UPDRS_4.1             0.000000\n",
       "UPDRS_4.2             0.000000\n",
       "UPDRS_4.3             0.000000\n",
       "UPDRS_4.4             0.000000\n",
       "UPDRS_4.5             0.000000\n",
       "UPDRS_4.6             0.000000\n",
       "dtype: float64"
      ]
     },
     "execution_count": 10,
     "metadata": {},
     "output_type": "execute_result"
    }
   ],
   "source": [
    "labels = labels.dropna(how=\"all\")\n",
    "labels = labels.dropna(how=\"all\", axis=1)\n",
    "pd.isnull(labels).sum(axis=0)/labels.shape[0]"
   ]
  },
  {
   "cell_type": "code",
   "execution_count": 11,
   "metadata": {},
   "outputs": [
    {
     "data": {
      "text/plain": [
       "array(['Baseline'], dtype=object)"
      ]
     },
     "execution_count": 11,
     "metadata": {},
     "output_type": "execute_result"
    }
   ],
   "source": [
    "labels[\"Visit\"].unique() #useless label"
   ]
  },
  {
   "cell_type": "code",
   "execution_count": 12,
   "metadata": {},
   "outputs": [],
   "source": [
    "labels = labels.drop([\"Race\", \"Ethnicity\", \"Visit\"], axis=1)"
   ]
  },
  {
   "cell_type": "code",
   "execution_count": 13,
   "metadata": {},
   "outputs": [
    {
     "data": {
      "text/plain": [
       "index                                                 1857\n",
       "measurement_id        ffd64945-4be2-47d1-a706-bf3e03cbf3b3\n",
       "subject_id                                            1051\n",
       "on_off                                                   4\n",
       "dyskinesia                                               4\n",
       "tremor                                                   4\n",
       "Age                                                     81\n",
       "Gender                                                Male\n",
       "UPDRS_PartI_Total                                       25\n",
       "UPDRS_PartII_Total                                      19\n",
       "UPDRS_4.1                                                2\n",
       "UPDRS_4.2                                                3\n",
       "UPDRS_4.3                                                2\n",
       "UPDRS_4.4                                                4\n",
       "UPDRS_4.5                                                3\n",
       "UPDRS_4.6                                                3\n",
       "dtype: object"
      ]
     },
     "execution_count": 13,
     "metadata": {},
     "output_type": "execute_result"
    }
   ],
   "source": [
    "labels.max(axis=0)"
   ]
  },
  {
   "cell_type": "code",
   "execution_count": 14,
   "metadata": {},
   "outputs": [
    {
     "data": {
      "text/plain": [
       "index                                                    0\n",
       "measurement_id        004ed441-24db-4839-8b5d-7465e4ea2a0a\n",
       "subject_id                                            1000\n",
       "on_off                                                   0\n",
       "dyskinesia                                               0\n",
       "tremor                                                   0\n",
       "Age                                                     36\n",
       "Gender                                              Female\n",
       "UPDRS_PartI_Total                                        4\n",
       "UPDRS_PartII_Total                                       2\n",
       "UPDRS_4.1                                                0\n",
       "UPDRS_4.2                                                0\n",
       "UPDRS_4.3                                                0\n",
       "UPDRS_4.4                                                0\n",
       "UPDRS_4.5                                                0\n",
       "UPDRS_4.6                                                0\n",
       "dtype: object"
      ]
     },
     "execution_count": 14,
     "metadata": {},
     "output_type": "execute_result"
    }
   ],
   "source": [
    "labels.min(axis=0)"
   ]
  },
  {
   "cell_type": "code",
   "execution_count": 15,
   "metadata": {},
   "outputs": [
    {
     "data": {
      "text/plain": [
       "index                 False\n",
       "measurement_id        False\n",
       "subject_id            False\n",
       "on_off                 True\n",
       "dyskinesia             True\n",
       "tremor                 True\n",
       "Age                   False\n",
       "Gender                False\n",
       "UPDRS_PartI_Total     False\n",
       "UPDRS_PartII_Total    False\n",
       "UPDRS_4.1             False\n",
       "UPDRS_4.2             False\n",
       "UPDRS_4.3             False\n",
       "UPDRS_4.4             False\n",
       "UPDRS_4.5             False\n",
       "UPDRS_4.6             False\n",
       "dtype: bool"
      ]
     },
     "execution_count": 15,
     "metadata": {},
     "output_type": "execute_result"
    }
   ],
   "source": [
    "pd.isna(labels).any(axis=0)"
   ]
  },
  {
   "cell_type": "code",
   "execution_count": 16,
   "metadata": {},
   "outputs": [],
   "source": [
    "poss_missing_labels = [\"on_off\", \"dyskinesia\", \"tremor\"]"
   ]
  },
  {
   "cell_type": "code",
   "execution_count": 17,
   "metadata": {},
   "outputs": [
    {
     "data": {
      "text/html": [
       "<div>\n",
       "<style scoped>\n",
       "    .dataframe tbody tr th:only-of-type {\n",
       "        vertical-align: middle;\n",
       "    }\n",
       "\n",
       "    .dataframe tbody tr th {\n",
       "        vertical-align: top;\n",
       "    }\n",
       "\n",
       "    .dataframe thead th {\n",
       "        text-align: right;\n",
       "    }\n",
       "</style>\n",
       "<table border=\"1\" class=\"dataframe\">\n",
       "  <thead>\n",
       "    <tr style=\"text-align: right;\">\n",
       "      <th></th>\n",
       "      <th>index</th>\n",
       "      <th>measurement_id</th>\n",
       "      <th>subject_id</th>\n",
       "      <th>on_off</th>\n",
       "      <th>dyskinesia</th>\n",
       "      <th>tremor</th>\n",
       "      <th>Age</th>\n",
       "      <th>Gender</th>\n",
       "      <th>UPDRS_PartI_Total</th>\n",
       "      <th>UPDRS_PartII_Total</th>\n",
       "      <th>UPDRS_4.1</th>\n",
       "      <th>UPDRS_4.2</th>\n",
       "      <th>UPDRS_4.3</th>\n",
       "      <th>UPDRS_4.4</th>\n",
       "      <th>UPDRS_4.5</th>\n",
       "      <th>UPDRS_4.6</th>\n",
       "    </tr>\n",
       "  </thead>\n",
       "  <tbody>\n",
       "    <tr>\n",
       "      <th>1962</th>\n",
       "      <td>104</td>\n",
       "      <td>014aa655-5dbf-448b-99ad-09fd7776a682</td>\n",
       "      <td>1018</td>\n",
       "      <td>0.0</td>\n",
       "      <td>0.0</td>\n",
       "      <td>0.0</td>\n",
       "      <td>58</td>\n",
       "      <td>Male</td>\n",
       "      <td>6</td>\n",
       "      <td>2</td>\n",
       "      <td>0</td>\n",
       "      <td>0</td>\n",
       "      <td>0</td>\n",
       "      <td>0</td>\n",
       "      <td>0</td>\n",
       "      <td>0</td>\n",
       "    </tr>\n",
       "  </tbody>\n",
       "</table>\n",
       "</div>"
      ],
      "text/plain": [
       "      index                        measurement_id  subject_id  on_off  \\\n",
       "1962    104  014aa655-5dbf-448b-99ad-09fd7776a682        1018     0.0   \n",
       "\n",
       "      dyskinesia  tremor  Age Gender  UPDRS_PartI_Total  UPDRS_PartII_Total  \\\n",
       "1962         0.0     0.0   58   Male                  6                   2   \n",
       "\n",
       "      UPDRS_4.1  UPDRS_4.2  UPDRS_4.3  UPDRS_4.4  UPDRS_4.5  UPDRS_4.6  \n",
       "1962          0          0          0          0          0          0  "
      ]
     },
     "execution_count": 17,
     "metadata": {},
     "output_type": "execute_result"
    }
   ],
   "source": [
    "labels[labels.measurement_id==\"014aa655-5dbf-448b-99ad-09fd7776a682\"]"
   ]
  },
  {
   "cell_type": "code",
   "execution_count": 18,
   "metadata": {},
   "outputs": [],
   "source": [
    "all_m_id = labels.measurement_id\n",
    "test_m_id = all_m_id[0]"
   ]
  },
  {
   "cell_type": "code",
   "execution_count": 19,
   "metadata": {},
   "outputs": [],
   "source": [
    "#lets go and filter data with some utility funcs\n",
    "from scipy.signal import butter, lfilter\n",
    "\n",
    "# https://scipy-cookbook.readthedocs.io/items/ButterworthBandpass.html\n",
    "\n",
    "# grabs some filter constants for making bandpass filter\n",
    "#    order is kinda like strength of filter... higher leads to more ideal filter but has weird interactions near the edges of the filter\n",
    "#    lower is less ideal but results in less artifacts being generated\n",
    "#    this is a bit of a cheat anyways, using a lowpass and highpass together, there may be less sketch filter designs applicable\n",
    "def butter_bandpass(lowcut, highcut, fs, order=5):\n",
    "    nyq = 0.5 * fs\n",
    "    low = lowcut / nyq\n",
    "    high = highcut / nyq\n",
    "    b, a = butter(order, [low, high], btype='band')\n",
    "    return b, a\n",
    "\n",
    "def butter_bandpass_filter(data, lowcut, highcut, fs, order=5):\n",
    "    b, a = butter_bandpass(lowcut, highcut, fs, order=order)\n",
    "    y = lfilter(b, a, data)\n",
    "    return y\n",
    "def butter_lp_filter(data, lowcut, fs, order=5):\n",
    "    nyq = 0.5 * fs #just get the highest freq possible (nyquist, and bandgap it!)\n",
    "    hc = nyq * 0.9 #can't accept exactly nyq\n",
    "    print(\"hc:\", hc)\n",
    "    return butter_bandpass_filter(data, lowcut, hyc, fs, order)\n",
    "def butter_bandgap_filter(data, lowcut, highcut, fs, order=5):\n",
    "    if highcut is None:\n",
    "        return butter_bandgap_filter(data, lowcut, fs, order)\n",
    "    toRemove = butter_bandpass_filter(data, lowcut, highcut, fs, order)\n",
    "    return data - toRemove"
   ]
  },
  {
   "cell_type": "code",
   "execution_count": 20,
   "metadata": {},
   "outputs": [],
   "source": [
    "def get_data(m_id):\n",
    "    return main.read_seq(\n",
    "        f\"/home/ms994/beat_pd/data/cis-pd/training_data/{m_id}.csv\",\n",
    "        t_colname=\"Timestamp\",\n",
    "        xyz_colnames=[\"X\", \"Y\", \"Z\"],\n",
    "        use_time_index=True,\n",
    "        resample=pd.Timedelta(seconds=1/25)\n",
    "    )\n",
    "def get_preprocessed_data(measurement_id, low_f=1, high_f=10):\n",
    "    data = main.read_seq(\n",
    "        f\"/home/ms994/beat_pd/data/cis-pd/training_data/{measurement_id}.csv\",\n",
    "        t_colname=\"Timestamp\",\n",
    "        xyz_colnames=[\"X\", \"Y\", \"Z\"],\n",
    "        use_time_index=True,\n",
    "        resample=pd.Timedelta(seconds=1/25)\n",
    "    )\n",
    "    timeIndex = data.index\n",
    "    dataCol = data.columns\n",
    "    #50 hz, make a bandpass between 1 and 10 hz, with order of 5\n",
    "    data = butter_bandpass_filter(data, low_f, high_f, 50, 5)\n",
    "    data = pd.DataFrame(data, index=timeIndex, columns=dataCol)\n",
    "    return data"
   ]
  },
  {
   "cell_type": "code",
   "execution_count": 43,
   "metadata": {},
   "outputs": [],
   "source": [
    "def read_mid_and_split(m_id, max_window=pd.Timedelta(seconds=60), overlap=pd.Timedelta(seconds=10)):\n",
    "    try:\n",
    "        data = get_data(m_id)\n",
    "        all_samples = []\n",
    "        currentIndex = pd.Timedelta(seconds=0)\n",
    "        while (currentIndex + max_window < data.index.max()):\n",
    "            all_samples.append(data.loc[currentIndex:currentIndex+max_window].fillna(method=\"ffill\").fillna(method=\"bfill\").values)\n",
    "            currentIndex += overlap\n",
    "        return all_samples\n",
    "    except:\n",
    "        return []"
   ]
  },
  {
   "cell_type": "code",
   "execution_count": 22,
   "metadata": {},
   "outputs": [],
   "source": [
    "all_m_id = sorted(all_m_id) #keep a constant m_id"
   ]
  },
  {
   "cell_type": "code",
   "execution_count": 23,
   "metadata": {},
   "outputs": [
    {
     "data": {
      "text/plain": [
       "'004ed441-24db-4839-8b5d-7465e4ea2a0a'"
      ]
     },
     "execution_count": 23,
     "metadata": {},
     "output_type": "execute_result"
    }
   ],
   "source": [
    "all_m_id[0]"
   ]
  },
  {
   "cell_type": "code",
   "execution_count": 44,
   "metadata": {},
   "outputs": [],
   "source": [
    "def write_data(to_run_q, to_return_q):\n",
    "    for m_id in iter(to_run_q.get, None):\n",
    "        data_samples = read_mid_and_split(m_id) \n",
    "        label = labels[labels.measurement_id == m_id]\n",
    "        for data_sample in data_samples:\n",
    "            to_return_q.put((data_sample, label))"
   ]
  },
  {
   "cell_type": "code",
   "execution_count": 25,
   "metadata": {},
   "outputs": [
    {
     "data": {
      "text/plain": [
       "'004ed441-24db-4839-8b5d-7465e4ea2a0a'"
      ]
     },
     "execution_count": 25,
     "metadata": {},
     "output_type": "execute_result"
    }
   ],
   "source": [
    "all_m_id[0]"
   ]
  },
  {
   "cell_type": "code",
   "execution_count": 4,
   "metadata": {},
   "outputs": [
    {
     "ename": "NameError",
     "evalue": "name 'write_data' is not defined",
     "output_type": "error",
     "traceback": [
      "\u001b[0;31m---------------------------------------------------------------------------\u001b[0m",
      "\u001b[0;31mNameError\u001b[0m                                 Traceback (most recent call last)",
      "\u001b[0;32m<ipython-input-4-f7a2c87abebf>\u001b[0m in \u001b[0;36m<module>\u001b[0;34m\u001b[0m\n\u001b[1;32m      4\u001b[0m \u001b[0mtoRunQ\u001b[0m \u001b[0;34m=\u001b[0m \u001b[0mm\u001b[0m\u001b[0;34m.\u001b[0m\u001b[0mQueue\u001b[0m\u001b[0;34m(\u001b[0m\u001b[0;34m)\u001b[0m\u001b[0;34m\u001b[0m\u001b[0;34m\u001b[0m\u001b[0m\n\u001b[1;32m      5\u001b[0m \u001b[0mtoReturnQ\u001b[0m \u001b[0;34m=\u001b[0m \u001b[0mm\u001b[0m\u001b[0;34m.\u001b[0m\u001b[0mQueue\u001b[0m\u001b[0;34m(\u001b[0m\u001b[0;34m)\u001b[0m\u001b[0;34m\u001b[0m\u001b[0;34m\u001b[0m\u001b[0m\n\u001b[0;32m----> 6\u001b[0;31m \u001b[0mp\u001b[0m \u001b[0;34m=\u001b[0m \u001b[0;34m[\u001b[0m\u001b[0mProcess\u001b[0m\u001b[0;34m(\u001b[0m\u001b[0mtarget\u001b[0m\u001b[0;34m=\u001b[0m\u001b[0mwrite_data\u001b[0m\u001b[0;34m,\u001b[0m \u001b[0margs\u001b[0m\u001b[0;34m=\u001b[0m\u001b[0;34m(\u001b[0m\u001b[0mtoRunQ\u001b[0m\u001b[0;34m,\u001b[0m \u001b[0mtoReturnQ\u001b[0m\u001b[0;34m)\u001b[0m\u001b[0;34m)\u001b[0m \u001b[0;32mfor\u001b[0m \u001b[0mi\u001b[0m \u001b[0;32min\u001b[0m \u001b[0mrange\u001b[0m\u001b[0;34m(\u001b[0m\u001b[0mn_process\u001b[0m\u001b[0;34m)\u001b[0m\u001b[0;34m]\u001b[0m\u001b[0;34m\u001b[0m\u001b[0;34m\u001b[0m\u001b[0m\n\u001b[0m\u001b[1;32m      7\u001b[0m \u001b[0;34m[\u001b[0m\u001b[0mtoRunQ\u001b[0m\u001b[0;34m.\u001b[0m\u001b[0mput\u001b[0m\u001b[0;34m(\u001b[0m\u001b[0mm_id\u001b[0m\u001b[0;34m)\u001b[0m \u001b[0;32mfor\u001b[0m \u001b[0mm_id\u001b[0m \u001b[0;32min\u001b[0m \u001b[0mall_m_id\u001b[0m\u001b[0;34m]\u001b[0m\u001b[0;34m\u001b[0m\u001b[0;34m\u001b[0m\u001b[0m\n\u001b[1;32m      8\u001b[0m \u001b[0;34m[\u001b[0m\u001b[0mtoRunQ\u001b[0m\u001b[0;34m.\u001b[0m\u001b[0mput\u001b[0m\u001b[0;34m(\u001b[0m\u001b[0;32mNone\u001b[0m\u001b[0;34m)\u001b[0m \u001b[0;32mfor\u001b[0m \u001b[0mi\u001b[0m \u001b[0;32min\u001b[0m \u001b[0mrange\u001b[0m\u001b[0;34m(\u001b[0m\u001b[0mn_process\u001b[0m\u001b[0;34m)\u001b[0m\u001b[0;34m]\u001b[0m\u001b[0;34m\u001b[0m\u001b[0;34m\u001b[0m\u001b[0m\n",
      "\u001b[0;32m<ipython-input-4-f7a2c87abebf>\u001b[0m in \u001b[0;36m<listcomp>\u001b[0;34m(.0)\u001b[0m\n\u001b[1;32m      4\u001b[0m \u001b[0mtoRunQ\u001b[0m \u001b[0;34m=\u001b[0m \u001b[0mm\u001b[0m\u001b[0;34m.\u001b[0m\u001b[0mQueue\u001b[0m\u001b[0;34m(\u001b[0m\u001b[0;34m)\u001b[0m\u001b[0;34m\u001b[0m\u001b[0;34m\u001b[0m\u001b[0m\n\u001b[1;32m      5\u001b[0m \u001b[0mtoReturnQ\u001b[0m \u001b[0;34m=\u001b[0m \u001b[0mm\u001b[0m\u001b[0;34m.\u001b[0m\u001b[0mQueue\u001b[0m\u001b[0;34m(\u001b[0m\u001b[0;34m)\u001b[0m\u001b[0;34m\u001b[0m\u001b[0;34m\u001b[0m\u001b[0m\n\u001b[0;32m----> 6\u001b[0;31m \u001b[0mp\u001b[0m \u001b[0;34m=\u001b[0m \u001b[0;34m[\u001b[0m\u001b[0mProcess\u001b[0m\u001b[0;34m(\u001b[0m\u001b[0mtarget\u001b[0m\u001b[0;34m=\u001b[0m\u001b[0mwrite_data\u001b[0m\u001b[0;34m,\u001b[0m \u001b[0margs\u001b[0m\u001b[0;34m=\u001b[0m\u001b[0;34m(\u001b[0m\u001b[0mtoRunQ\u001b[0m\u001b[0;34m,\u001b[0m \u001b[0mtoReturnQ\u001b[0m\u001b[0;34m)\u001b[0m\u001b[0;34m)\u001b[0m \u001b[0;32mfor\u001b[0m \u001b[0mi\u001b[0m \u001b[0;32min\u001b[0m \u001b[0mrange\u001b[0m\u001b[0;34m(\u001b[0m\u001b[0mn_process\u001b[0m\u001b[0;34m)\u001b[0m\u001b[0;34m]\u001b[0m\u001b[0;34m\u001b[0m\u001b[0;34m\u001b[0m\u001b[0m\n\u001b[0m\u001b[1;32m      7\u001b[0m \u001b[0;34m[\u001b[0m\u001b[0mtoRunQ\u001b[0m\u001b[0;34m.\u001b[0m\u001b[0mput\u001b[0m\u001b[0;34m(\u001b[0m\u001b[0mm_id\u001b[0m\u001b[0;34m)\u001b[0m \u001b[0;32mfor\u001b[0m \u001b[0mm_id\u001b[0m \u001b[0;32min\u001b[0m \u001b[0mall_m_id\u001b[0m\u001b[0;34m]\u001b[0m\u001b[0;34m\u001b[0m\u001b[0;34m\u001b[0m\u001b[0m\n\u001b[1;32m      8\u001b[0m \u001b[0;34m[\u001b[0m\u001b[0mtoRunQ\u001b[0m\u001b[0;34m.\u001b[0m\u001b[0mput\u001b[0m\u001b[0;34m(\u001b[0m\u001b[0;32mNone\u001b[0m\u001b[0;34m)\u001b[0m \u001b[0;32mfor\u001b[0m \u001b[0mi\u001b[0m \u001b[0;32min\u001b[0m \u001b[0mrange\u001b[0m\u001b[0;34m(\u001b[0m\u001b[0mn_process\u001b[0m\u001b[0;34m)\u001b[0m\u001b[0;34m]\u001b[0m\u001b[0;34m\u001b[0m\u001b[0;34m\u001b[0m\u001b[0m\n",
      "\u001b[0;31mNameError\u001b[0m: name 'write_data' is not defined"
     ]
    }
   ],
   "source": [
    "from multiprocessing import Process, Manager\n",
    "m = Manager()\n",
    "n_process = 12\n",
    "toRunQ = m.Queue()\n",
    "toReturnQ = m.Queue()\n",
    "p = [Process(target=write_data, args=(toRunQ, toReturnQ)) for i in range(n_process)]\n",
    "[toRunQ.put(m_id) for m_id in all_m_id]\n",
    "[toRunQ.put(None) for i in range(n_process)]"
   ]
  },
  {
   "cell_type": "code",
   "execution_count": 46,
   "metadata": {},
   "outputs": [
    {
     "data": {
      "text/plain": [
       "[None, None, None, None, None, None, None, None, None, None, None, None]"
      ]
     },
     "execution_count": 46,
     "metadata": {},
     "output_type": "execute_result"
    }
   ],
   "source": [
    "[process.start() for process in p]"
   ]
  },
  {
   "cell_type": "code",
   "execution_count": 47,
   "metadata": {},
   "outputs": [
    {
     "data": {
      "text/plain": [
       "[None, None, None, None, None, None, None, None, None, None, None, None]"
      ]
     },
     "execution_count": 47,
     "metadata": {},
     "output_type": "execute_result"
    }
   ],
   "source": [
    "[process.join() for process in p]"
   ]
  },
  {
   "cell_type": "code",
   "execution_count": 48,
   "metadata": {},
   "outputs": [
    {
     "data": {
      "text/plain": [
       "204098"
      ]
     },
     "execution_count": 48,
     "metadata": {},
     "output_type": "execute_result"
    }
   ],
   "source": [
    "toReturnQ.qsize()"
   ]
  },
  {
   "cell_type": "code",
   "execution_count": 49,
   "metadata": {},
   "outputs": [],
   "source": [
    "all_subjects = sorted(labels.subject_id.unique())"
   ]
  },
  {
   "cell_type": "code",
   "execution_count": 50,
   "metadata": {},
   "outputs": [],
   "source": [
    "def gen():\n",
    "    while not toRunQ.empty() and not toReturnQ.empty():\n",
    "        data = toReturnQ.get()\n",
    "        yield parse_datum(data).SerializeToString()"
   ]
  },
  {
   "cell_type": "code",
   "execution_count": 51,
   "metadata": {},
   "outputs": [],
   "source": [
    "allResults = []\n",
    "while not toReturnQ.empty():\n",
    "    allResults.append(toReturnQ.get())"
   ]
  },
  {
   "cell_type": "code",
   "execution_count": 52,
   "metadata": {},
   "outputs": [],
   "source": [
    "from random import shuffle\n",
    "shuffle(allResults)"
   ]
  },
  {
   "cell_type": "code",
   "execution_count": 34,
   "metadata": {},
   "outputs": [],
   "source": [
    "missing = [result[1] if np.isnan(result[0]).any() else None for result in allResults]"
   ]
  },
  {
   "cell_type": "code",
   "execution_count": 53,
   "metadata": {},
   "outputs": [
    {
     "data": {
      "text/plain": [
       "0"
      ]
     },
     "execution_count": 53,
     "metadata": {},
     "output_type": "execute_result"
    }
   ],
   "source": [
    "np.isnan(np.vstack(read_mid_and_split(\"005685b2-3de4-469b-b673-8f937ee8196e\"))).sum()"
   ]
  },
  {
   "cell_type": "code",
   "execution_count": 54,
   "metadata": {},
   "outputs": [],
   "source": [
    "allLabels = [res[1] for res in allResults]"
   ]
  },
  {
   "cell_type": "code",
   "execution_count": 55,
   "metadata": {},
   "outputs": [
    {
     "data": {
      "text/plain": [
       "716"
      ]
     },
     "execution_count": 55,
     "metadata": {},
     "output_type": "execute_result"
    }
   ],
   "source": [
    "sum([np.isnan(res[0]).any() for res in allResults])"
   ]
  },
  {
   "cell_type": "code",
   "execution_count": 57,
   "metadata": {},
   "outputs": [],
   "source": [
    "allResults = filter(lambda x: not np.isnan(x[0]).any(), allResults)"
   ]
  },
  {
   "cell_type": "code",
   "execution_count": 60,
   "metadata": {},
   "outputs": [],
   "source": [
    "allResults = [res for res in allResults]"
   ]
  },
  {
   "cell_type": "code",
   "execution_count": 61,
   "metadata": {},
   "outputs": [
    {
     "data": {
      "text/plain": [
       "0"
      ]
     },
     "execution_count": 61,
     "metadata": {},
     "output_type": "execute_result"
    }
   ],
   "source": [
    "sum([np.isnan(res[0]).any() for res in allResults])"
   ]
  },
  {
   "cell_type": "code",
   "execution_count": 62,
   "metadata": {},
   "outputs": [],
   "source": [
    "import pickle as pkl\n",
    "pkl.dump(allResults, open(\"/n/scratch2/ms994/allZeData.pkl\", \"wb\"))"
   ]
  },
  {
   "cell_type": "markdown",
   "metadata": {},
   "source": [
    "## set up the eval set"
   ]
  },
  {
   "cell_type": "code",
   "execution_count": 63,
   "metadata": {},
   "outputs": [],
   "source": [
    "import glob\n",
    "import pandas as pd"
   ]
  },
  {
   "cell_type": "code",
   "execution_count": 64,
   "metadata": {},
   "outputs": [],
   "source": [
    "eval_set = glob.glob(\"/home/ms994/beat_pd/data/test_set/cis-pd/testing_data/*.csv\")"
   ]
  },
  {
   "cell_type": "code",
   "execution_count": 65,
   "metadata": {},
   "outputs": [],
   "source": [
    "def get_data(m_id):\n",
    "    return main.read_seq(\n",
    "        f\"{m_id}\",\n",
    "        t_colname=\"Timestamp\",\n",
    "        xyz_colnames=[\"X\", \"Y\", \"Z\"],\n",
    "        use_time_index=True,\n",
    "        resample=pd.Timedelta(seconds=1/25)\n",
    "    )\n",
    "def read_mid_and_split(m_id, max_window=pd.Timedelta(seconds=60), overlap=pd.Timedelta(seconds=10)):\n",
    "#     try:\n",
    "        data = get_data(m_id)\n",
    "        all_samples = []\n",
    "        currentIndex = pd.Timedelta(seconds=0)\n",
    "        while (currentIndex + max_window < data.index.max()):\n",
    "            all_samples.append(data.loc[currentIndex:currentIndex+max_window].fillna(method=\"ffill\").fillna(method=\"bfill\").values)\n",
    "            currentIndex += overlap\n",
    "        return all_samples\n",
    "#     except:\n",
    "#         return []"
   ]
  },
  {
   "cell_type": "code",
   "execution_count": 66,
   "metadata": {},
   "outputs": [],
   "source": [
    "def write_data(to_run_q, to_return_q):\n",
    "    for m_id in iter(to_run_q.get, None):\n",
    "        data_samples = read_mid_and_split(m_id) \n",
    "        for data_sample in data_samples:\n",
    "            to_return_q.put((data_sample, m_id))"
   ]
  },
  {
   "cell_type": "code",
   "execution_count": 103,
   "metadata": {},
   "outputs": [
    {
     "data": {
      "text/plain": [
       "'004ed441-24db-4839-8b5d-7465e4ea2a0a'"
      ]
     },
     "execution_count": 103,
     "metadata": {},
     "output_type": "execute_result"
    }
   ],
   "source": [
    "all_m_id[0]"
   ]
  },
  {
   "cell_type": "code",
   "execution_count": 67,
   "metadata": {},
   "outputs": [
    {
     "data": {
      "text/plain": [
       "[None, None, None, None, None, None, None, None, None, None, None, None]"
      ]
     },
     "execution_count": 67,
     "metadata": {},
     "output_type": "execute_result"
    }
   ],
   "source": [
    "from multiprocessing import Process, Manager\n",
    "m = Manager()\n",
    "n_process = 12\n",
    "toRunQ = m.Queue()\n",
    "toReturnQ = m.Queue()\n",
    "p = [Process(target=write_data, args=(toRunQ, toReturnQ)) for i in range(n_process)]\n",
    "[toRunQ.put(m_id) for m_id in eval_set]\n",
    "[toRunQ.put(None) for i in range(n_process)]"
   ]
  },
  {
   "cell_type": "code",
   "execution_count": 68,
   "metadata": {},
   "outputs": [
    {
     "data": {
      "text/plain": [
       "[None, None, None, None, None, None, None, None, None, None, None, None]"
      ]
     },
     "execution_count": 68,
     "metadata": {},
     "output_type": "execute_result"
    }
   ],
   "source": [
    "[process.start() for process in p]"
   ]
  },
  {
   "cell_type": "code",
   "execution_count": 69,
   "metadata": {},
   "outputs": [
    {
     "data": {
      "text/plain": [
       "[None, None, None, None, None, None, None, None, None, None, None, None]"
      ]
     },
     "execution_count": 69,
     "metadata": {},
     "output_type": "execute_result"
    }
   ],
   "source": [
    "[process.join() for process in p]"
   ]
  },
  {
   "cell_type": "code",
   "execution_count": 70,
   "metadata": {},
   "outputs": [
    {
     "data": {
      "text/plain": [
       "0"
      ]
     },
     "execution_count": 70,
     "metadata": {},
     "output_type": "execute_result"
    }
   ],
   "source": [
    "toRunQ.qsize()"
   ]
  },
  {
   "cell_type": "code",
   "execution_count": 108,
   "metadata": {},
   "outputs": [],
   "source": [
    "all_subjects = sorted(labels.subject_id.unique())"
   ]
  },
  {
   "cell_type": "code",
   "execution_count": 71,
   "metadata": {},
   "outputs": [],
   "source": [
    "def gen():\n",
    "    while not toRunQ.empty() and not toReturnQ.empty():\n",
    "        data = toReturnQ.get()\n",
    "        yield parse_datum(data).SerializeToString()"
   ]
  },
  {
   "cell_type": "code",
   "execution_count": 112,
   "metadata": {},
   "outputs": [],
   "source": [
    "allEvalResults = []\n",
    "while not toReturnQ.empty():\n",
    "    allEvalResults.append(toReturnQ.get())"
   ]
  },
  {
   "cell_type": "code",
   "execution_count": 76,
   "metadata": {},
   "outputs": [],
   "source": [
    "from random import shuffle\n",
    "shuffle(allEvalResults)\n",
    "allEvalResults = filter(lambda x: not np.isnan(x[0]).any(), allEvalResults)\n",
    "allEvalResults = [res for res in allEvalResults]"
   ]
  },
  {
   "cell_type": "code",
   "execution_count": 113,
   "metadata": {},
   "outputs": [],
   "source": [
    "import pickle as pkl\n",
    "pkl.dump(allEvalResults, open(\"/n/scratch2/ms994/cispdEvalset.pkl\", \"wb\"))"
   ]
  },
  {
   "cell_type": "code",
   "execution_count": 78,
   "metadata": {},
   "outputs": [
    {
     "data": {
      "text/plain": [
       "0"
      ]
     },
     "execution_count": 78,
     "metadata": {},
     "output_type": "execute_result"
    }
   ],
   "source": [
    "sum([np.isnan(res[0]).any() for res in allEvalResults])"
   ]
  },
  {
   "cell_type": "code",
   "execution_count": 79,
   "metadata": {},
   "outputs": [],
   "source": [
    "import pickle as pkl\n",
    "allResults = pkl.load(open(\"/n/scratch2/ms994/allZeData.pkl\", \"rb\"))"
   ]
  },
  {
   "cell_type": "markdown",
   "metadata": {},
   "source": [
    "# TFRecords setup\n",
    "reduces memory usage to maintain slurm sshare fair usage credits"
   ]
  },
  {
   "cell_type": "code",
   "execution_count": 84,
   "metadata": {},
   "outputs": [
    {
     "ename": "ImportError",
     "evalue": "Traceback (most recent call last):\n  File \"/home/ms994/miniconda3/envs/keras-redo/lib/python3.7/site-packages/tensorflow/python/pywrap_tensorflow.py\", line 58, in <module>\n    from tensorflow.python.pywrap_tensorflow_internal import *\n  File \"/home/ms994/miniconda3/envs/keras-redo/lib/python3.7/site-packages/tensorflow/python/pywrap_tensorflow_internal.py\", line 28, in <module>\n    _pywrap_tensorflow_internal = swig_import_helper()\n  File \"/home/ms994/miniconda3/envs/keras-redo/lib/python3.7/site-packages/tensorflow/python/pywrap_tensorflow_internal.py\", line 24, in swig_import_helper\n    _mod = imp.load_module('_pywrap_tensorflow_internal', fp, pathname, description)\n  File \"/home/ms994/miniconda3/envs/keras-redo/lib/python3.7/imp.py\", line 242, in load_module\n    return load_dynamic(name, filename, file)\n  File \"/home/ms994/miniconda3/envs/keras-redo/lib/python3.7/imp.py\", line 342, in load_dynamic\n    return _load(spec)\nImportError: libcuda.so.1: cannot open shared object file: No such file or directory\n\n\nFailed to load the native TensorFlow runtime.\n\nSee https://www.tensorflow.org/install/errors\n\nfor some common reasons and solutions.  Include the entire stack trace\nabove this error message when asking for help.",
     "output_type": "error",
     "traceback": [
      "\u001b[0;31m---------------------------------------------------------------------------\u001b[0m",
      "\u001b[0;31mImportError\u001b[0m                               Traceback (most recent call last)",
      "\u001b[0;32m~/miniconda3/envs/keras-redo/lib/python3.7/site-packages/tensorflow/python/pywrap_tensorflow.py\u001b[0m in \u001b[0;36m<module>\u001b[0;34m\u001b[0m\n\u001b[1;32m     57\u001b[0m \u001b[0;34m\u001b[0m\u001b[0m\n\u001b[0;32m---> 58\u001b[0;31m   \u001b[0;32mfrom\u001b[0m \u001b[0mtensorflow\u001b[0m\u001b[0;34m.\u001b[0m\u001b[0mpython\u001b[0m\u001b[0;34m.\u001b[0m\u001b[0mpywrap_tensorflow_internal\u001b[0m \u001b[0;32mimport\u001b[0m \u001b[0;34m*\u001b[0m\u001b[0;34m\u001b[0m\u001b[0;34m\u001b[0m\u001b[0m\n\u001b[0m\u001b[1;32m     59\u001b[0m   \u001b[0;32mfrom\u001b[0m \u001b[0mtensorflow\u001b[0m\u001b[0;34m.\u001b[0m\u001b[0mpython\u001b[0m\u001b[0;34m.\u001b[0m\u001b[0mpywrap_tensorflow_internal\u001b[0m \u001b[0;32mimport\u001b[0m \u001b[0m__version__\u001b[0m\u001b[0;34m\u001b[0m\u001b[0;34m\u001b[0m\u001b[0m\n",
      "\u001b[0;32m~/miniconda3/envs/keras-redo/lib/python3.7/site-packages/tensorflow/python/pywrap_tensorflow_internal.py\u001b[0m in \u001b[0;36m<module>\u001b[0;34m\u001b[0m\n\u001b[1;32m     27\u001b[0m             \u001b[0;32mreturn\u001b[0m \u001b[0m_mod\u001b[0m\u001b[0;34m\u001b[0m\u001b[0;34m\u001b[0m\u001b[0m\n\u001b[0;32m---> 28\u001b[0;31m     \u001b[0m_pywrap_tensorflow_internal\u001b[0m \u001b[0;34m=\u001b[0m \u001b[0mswig_import_helper\u001b[0m\u001b[0;34m(\u001b[0m\u001b[0;34m)\u001b[0m\u001b[0;34m\u001b[0m\u001b[0;34m\u001b[0m\u001b[0m\n\u001b[0m\u001b[1;32m     29\u001b[0m     \u001b[0;32mdel\u001b[0m \u001b[0mswig_import_helper\u001b[0m\u001b[0;34m\u001b[0m\u001b[0;34m\u001b[0m\u001b[0m\n",
      "\u001b[0;32m~/miniconda3/envs/keras-redo/lib/python3.7/site-packages/tensorflow/python/pywrap_tensorflow_internal.py\u001b[0m in \u001b[0;36mswig_import_helper\u001b[0;34m()\u001b[0m\n\u001b[1;32m     23\u001b[0m             \u001b[0;32mtry\u001b[0m\u001b[0;34m:\u001b[0m\u001b[0;34m\u001b[0m\u001b[0;34m\u001b[0m\u001b[0m\n\u001b[0;32m---> 24\u001b[0;31m                 \u001b[0m_mod\u001b[0m \u001b[0;34m=\u001b[0m \u001b[0mimp\u001b[0m\u001b[0;34m.\u001b[0m\u001b[0mload_module\u001b[0m\u001b[0;34m(\u001b[0m\u001b[0;34m'_pywrap_tensorflow_internal'\u001b[0m\u001b[0;34m,\u001b[0m \u001b[0mfp\u001b[0m\u001b[0;34m,\u001b[0m \u001b[0mpathname\u001b[0m\u001b[0;34m,\u001b[0m \u001b[0mdescription\u001b[0m\u001b[0;34m)\u001b[0m\u001b[0;34m\u001b[0m\u001b[0;34m\u001b[0m\u001b[0m\n\u001b[0m\u001b[1;32m     25\u001b[0m             \u001b[0;32mfinally\u001b[0m\u001b[0;34m:\u001b[0m\u001b[0;34m\u001b[0m\u001b[0;34m\u001b[0m\u001b[0m\n",
      "\u001b[0;32m~/miniconda3/envs/keras-redo/lib/python3.7/imp.py\u001b[0m in \u001b[0;36mload_module\u001b[0;34m(name, file, filename, details)\u001b[0m\n\u001b[1;32m    241\u001b[0m         \u001b[0;32melse\u001b[0m\u001b[0;34m:\u001b[0m\u001b[0;34m\u001b[0m\u001b[0;34m\u001b[0m\u001b[0m\n\u001b[0;32m--> 242\u001b[0;31m             \u001b[0;32mreturn\u001b[0m \u001b[0mload_dynamic\u001b[0m\u001b[0;34m(\u001b[0m\u001b[0mname\u001b[0m\u001b[0;34m,\u001b[0m \u001b[0mfilename\u001b[0m\u001b[0;34m,\u001b[0m \u001b[0mfile\u001b[0m\u001b[0;34m)\u001b[0m\u001b[0;34m\u001b[0m\u001b[0;34m\u001b[0m\u001b[0m\n\u001b[0m\u001b[1;32m    243\u001b[0m     \u001b[0;32melif\u001b[0m \u001b[0mtype_\u001b[0m \u001b[0;34m==\u001b[0m \u001b[0mPKG_DIRECTORY\u001b[0m\u001b[0;34m:\u001b[0m\u001b[0;34m\u001b[0m\u001b[0;34m\u001b[0m\u001b[0m\n",
      "\u001b[0;32m~/miniconda3/envs/keras-redo/lib/python3.7/imp.py\u001b[0m in \u001b[0;36mload_dynamic\u001b[0;34m(name, path, file)\u001b[0m\n\u001b[1;32m    341\u001b[0m             name=name, loader=loader, origin=path)\n\u001b[0;32m--> 342\u001b[0;31m         \u001b[0;32mreturn\u001b[0m \u001b[0m_load\u001b[0m\u001b[0;34m(\u001b[0m\u001b[0mspec\u001b[0m\u001b[0;34m)\u001b[0m\u001b[0;34m\u001b[0m\u001b[0;34m\u001b[0m\u001b[0m\n\u001b[0m\u001b[1;32m    343\u001b[0m \u001b[0;34m\u001b[0m\u001b[0m\n",
      "\u001b[0;31mImportError\u001b[0m: libcuda.so.1: cannot open shared object file: No such file or directory",
      "\nDuring handling of the above exception, another exception occurred:\n",
      "\u001b[0;31mImportError\u001b[0m                               Traceback (most recent call last)",
      "\u001b[0;32m<ipython-input-84-b393addd372a>\u001b[0m in \u001b[0;36m<module>\u001b[0;34m\u001b[0m\n\u001b[0;32m----> 1\u001b[0;31m \u001b[0;32mimport\u001b[0m \u001b[0mtensorflow\u001b[0m \u001b[0;32mas\u001b[0m \u001b[0mtf\u001b[0m\u001b[0;34m\u001b[0m\u001b[0;34m\u001b[0m\u001b[0m\n\u001b[0m\u001b[1;32m      2\u001b[0m \u001b[0;31m# Helperfunctions to make your feature definition more readable\u001b[0m\u001b[0;34m\u001b[0m\u001b[0;34m\u001b[0m\u001b[0;34m\u001b[0m\u001b[0m\n\u001b[1;32m      3\u001b[0m \u001b[0;32mdef\u001b[0m \u001b[0m_int64_feature\u001b[0m\u001b[0;34m(\u001b[0m\u001b[0mvalue\u001b[0m\u001b[0;34m)\u001b[0m\u001b[0;34m:\u001b[0m\u001b[0;34m\u001b[0m\u001b[0;34m\u001b[0m\u001b[0m\n\u001b[1;32m      4\u001b[0m     \u001b[0;32mreturn\u001b[0m \u001b[0mtf\u001b[0m\u001b[0;34m.\u001b[0m\u001b[0mtrain\u001b[0m\u001b[0;34m.\u001b[0m\u001b[0mFeature\u001b[0m\u001b[0;34m(\u001b[0m\u001b[0mint64_list\u001b[0m\u001b[0;34m=\u001b[0m\u001b[0mtf\u001b[0m\u001b[0;34m.\u001b[0m\u001b[0mtrain\u001b[0m\u001b[0;34m.\u001b[0m\u001b[0mInt64List\u001b[0m\u001b[0;34m(\u001b[0m\u001b[0mvalue\u001b[0m\u001b[0;34m=\u001b[0m\u001b[0;34m[\u001b[0m\u001b[0mvalue\u001b[0m\u001b[0;34m]\u001b[0m\u001b[0;34m)\u001b[0m\u001b[0;34m)\u001b[0m\u001b[0;34m\u001b[0m\u001b[0;34m\u001b[0m\u001b[0m\n\u001b[1;32m      5\u001b[0m \u001b[0;34m\u001b[0m\u001b[0m\n",
      "\u001b[0;32m~/miniconda3/envs/keras-redo/lib/python3.7/site-packages/tensorflow/__init__.py\u001b[0m in \u001b[0;36m<module>\u001b[0;34m\u001b[0m\n\u001b[1;32m     22\u001b[0m \u001b[0;34m\u001b[0m\u001b[0m\n\u001b[1;32m     23\u001b[0m \u001b[0;31m# pylint: disable=g-bad-import-order\u001b[0m\u001b[0;34m\u001b[0m\u001b[0;34m\u001b[0m\u001b[0;34m\u001b[0m\u001b[0m\n\u001b[0;32m---> 24\u001b[0;31m \u001b[0;32mfrom\u001b[0m \u001b[0mtensorflow\u001b[0m\u001b[0;34m.\u001b[0m\u001b[0mpython\u001b[0m \u001b[0;32mimport\u001b[0m \u001b[0mpywrap_tensorflow\u001b[0m  \u001b[0;31m# pylint: disable=unused-import\u001b[0m\u001b[0;34m\u001b[0m\u001b[0;34m\u001b[0m\u001b[0m\n\u001b[0m\u001b[1;32m     25\u001b[0m \u001b[0;34m\u001b[0m\u001b[0m\n\u001b[1;32m     26\u001b[0m \u001b[0;32mfrom\u001b[0m \u001b[0mtensorflow\u001b[0m\u001b[0;34m.\u001b[0m\u001b[0m_api\u001b[0m\u001b[0;34m.\u001b[0m\u001b[0mv1\u001b[0m \u001b[0;32mimport\u001b[0m \u001b[0mapp\u001b[0m\u001b[0;34m\u001b[0m\u001b[0;34m\u001b[0m\u001b[0m\n",
      "\u001b[0;32m~/miniconda3/envs/keras-redo/lib/python3.7/site-packages/tensorflow/python/__init__.py\u001b[0m in \u001b[0;36m<module>\u001b[0;34m\u001b[0m\n\u001b[1;32m     47\u001b[0m \u001b[0;32mimport\u001b[0m \u001b[0mnumpy\u001b[0m \u001b[0;32mas\u001b[0m \u001b[0mnp\u001b[0m\u001b[0;34m\u001b[0m\u001b[0;34m\u001b[0m\u001b[0m\n\u001b[1;32m     48\u001b[0m \u001b[0;34m\u001b[0m\u001b[0m\n\u001b[0;32m---> 49\u001b[0;31m \u001b[0;32mfrom\u001b[0m \u001b[0mtensorflow\u001b[0m\u001b[0;34m.\u001b[0m\u001b[0mpython\u001b[0m \u001b[0;32mimport\u001b[0m \u001b[0mpywrap_tensorflow\u001b[0m\u001b[0;34m\u001b[0m\u001b[0;34m\u001b[0m\u001b[0m\n\u001b[0m\u001b[1;32m     50\u001b[0m \u001b[0;34m\u001b[0m\u001b[0m\n\u001b[1;32m     51\u001b[0m \u001b[0;31m# Protocol buffers\u001b[0m\u001b[0;34m\u001b[0m\u001b[0;34m\u001b[0m\u001b[0;34m\u001b[0m\u001b[0m\n",
      "\u001b[0;32m~/miniconda3/envs/keras-redo/lib/python3.7/site-packages/tensorflow/python/pywrap_tensorflow.py\u001b[0m in \u001b[0;36m<module>\u001b[0;34m\u001b[0m\n\u001b[1;32m     72\u001b[0m \u001b[0;32mfor\u001b[0m \u001b[0msome\u001b[0m \u001b[0mcommon\u001b[0m \u001b[0mreasons\u001b[0m \u001b[0;32mand\u001b[0m \u001b[0msolutions\u001b[0m\u001b[0;34m.\u001b[0m  \u001b[0mInclude\u001b[0m \u001b[0mthe\u001b[0m \u001b[0mentire\u001b[0m \u001b[0mstack\u001b[0m \u001b[0mtrace\u001b[0m\u001b[0;34m\u001b[0m\u001b[0;34m\u001b[0m\u001b[0m\n\u001b[1;32m     73\u001b[0m above this error message when asking for help.\"\"\" % traceback.format_exc()\n\u001b[0;32m---> 74\u001b[0;31m   \u001b[0;32mraise\u001b[0m \u001b[0mImportError\u001b[0m\u001b[0;34m(\u001b[0m\u001b[0mmsg\u001b[0m\u001b[0;34m)\u001b[0m\u001b[0;34m\u001b[0m\u001b[0;34m\u001b[0m\u001b[0m\n\u001b[0m\u001b[1;32m     75\u001b[0m \u001b[0;34m\u001b[0m\u001b[0m\n\u001b[1;32m     76\u001b[0m \u001b[0;31m# pylint: enable=wildcard-import,g-import-not-at-top,unused-import,line-too-long\u001b[0m\u001b[0;34m\u001b[0m\u001b[0;34m\u001b[0m\u001b[0;34m\u001b[0m\u001b[0m\n",
      "\u001b[0;31mImportError\u001b[0m: Traceback (most recent call last):\n  File \"/home/ms994/miniconda3/envs/keras-redo/lib/python3.7/site-packages/tensorflow/python/pywrap_tensorflow.py\", line 58, in <module>\n    from tensorflow.python.pywrap_tensorflow_internal import *\n  File \"/home/ms994/miniconda3/envs/keras-redo/lib/python3.7/site-packages/tensorflow/python/pywrap_tensorflow_internal.py\", line 28, in <module>\n    _pywrap_tensorflow_internal = swig_import_helper()\n  File \"/home/ms994/miniconda3/envs/keras-redo/lib/python3.7/site-packages/tensorflow/python/pywrap_tensorflow_internal.py\", line 24, in swig_import_helper\n    _mod = imp.load_module('_pywrap_tensorflow_internal', fp, pathname, description)\n  File \"/home/ms994/miniconda3/envs/keras-redo/lib/python3.7/imp.py\", line 242, in load_module\n    return load_dynamic(name, filename, file)\n  File \"/home/ms994/miniconda3/envs/keras-redo/lib/python3.7/imp.py\", line 342, in load_dynamic\n    return _load(spec)\nImportError: libcuda.so.1: cannot open shared object file: No such file or directory\n\n\nFailed to load the native TensorFlow runtime.\n\nSee https://www.tensorflow.org/install/errors\n\nfor some common reasons and solutions.  Include the entire stack trace\nabove this error message when asking for help."
     ]
    }
   ],
   "source": [
    "import tensorflow as tf\n",
    "# Helperfunctions to make your feature definition more readable\n",
    "def _int64_feature(value):\n",
    "    return tf.train.Feature(int64_list=tf.train.Int64List(value=[value]))\n",
    "\n",
    "def _int64_feature_list(value):\n",
    "    return tf.train.Feature(int64_list=tf.train.Int64List(value=value))\n",
    "# Helperfunctions to make your feature definition more readable\n",
    "def _float_feature(value):\n",
    "    return tf.train.Feature(float_list=tf.train.FloatList(value=[value]))\n",
    "\n",
    "def _float_feature_list(value):\n",
    "    return tf.train.Feature(float_list=tf.train.FloatList(value=value))\n",
    "def parse_datum(datum):\n",
    "    xData = datum[0]\n",
    "    yData = datum[1].fillna(-1) #using -1 as a masking value\n",
    "    \n",
    "    \n",
    "    \n",
    "    feature = { \\\n",
    "               'data': _float_feature_list(xData[:1500].reshape(-1)), \\\n",
    "               'on_off': _int64_feature_list(yData.on_off.values.astype(int)), \\\n",
    "               'dyskinesia': _int64_feature_list(yData.dyskinesia.values.astype(int)), \\\n",
    "               'measurement_id': _int64_feature(all_m_id.index(yData.measurement_id.values[0])), \\\n",
    "               'tremor': _int64_feature_list(yData.tremor.values.astype(int)), \\\n",
    "               'age': _int64_feature_list(yData.Age.values.astype(int)), \\\n",
    "               'subjects': _int64_feature(all_subjects.index(yData.subject_id.values[0])),\n",
    "               'gender': _int64_feature_list(yData.Gender.apply(lambda x: x==\"Male\").values.astype(int)), \\\n",
    "               'UPDRS_PartI_Total': _int64_feature_list(yData.UPDRS_PartI_Total.values.astype(int)), \\\n",
    "               'UPDRS_PartII_Total': _int64_feature_list(yData.UPDRS_PartII_Total.values.astype(int)), \\\n",
    "               'UPDRS_4.1': _int64_feature_list(yData[\"UPDRS_4.1\"].values.astype(int)), \\\n",
    "               'UPDRS_4.2': _int64_feature_list(yData[\"UPDRS_4.2\"].values.astype(int)), \\\n",
    "               'UPDRS_4.3': _int64_feature_list(yData[\"UPDRS_4.3\"].values.astype(int)), \\\n",
    "               'UPDRS_4.4': _int64_feature_list(yData[\"UPDRS_4.4\"].values.astype(int)), \\\n",
    "               'UPDRS_4.5': _int64_feature_list(yData[\"UPDRS_4.5\"].values.astype(int)), \\\n",
    "               'UPDRS_4.6': _int64_feature_list(yData[\"UPDRS_4.6\"].values.astype(int)),\n",
    "              }\n",
    "    return tf.train.Example(features=tf.train.Features(feature=feature))"
   ]
  },
  {
   "cell_type": "code",
   "execution_count": null,
   "metadata": {},
   "outputs": [],
   "source": [
    "# all_m_id = all_m_id.tolist()\n",
    "all_subjects = labels.subject_id.unique().tolist()"
   ]
  },
  {
   "cell_type": "code",
   "execution_count": null,
   "metadata": {},
   "outputs": [],
   "source": [
    "#cuz im having issues with pulling directly off queue\n",
    "def gen():\n",
    "    for datum in allResults:\n",
    "        yield parse_datum(datum).SerializeToString()"
   ]
  },
  {
   "cell_type": "code",
   "execution_count": null,
   "metadata": {},
   "outputs": [],
   "source": [
    "import tensorflow as tf\n",
    "from importlib import reload\n",
    "reload(tf)\n",
    "tf.__version__"
   ]
  },
  {
   "cell_type": "code",
   "execution_count": 44,
   "metadata": {},
   "outputs": [],
   "source": [
    "dataset = tf.data.Dataset.from_generator(gen, output_types=tf.string,  output_shapes=(tf.TensorShape([])))\n",
    "writer = tf.data.experimental.TFRecordWriter(\"/n/scratch2/beat_pd_ms_tmp/all_data.tfr\")\n",
    "writer.write(dataset)"
   ]
  },
  {
   "cell_type": "code",
   "execution_count": null,
   "metadata": {},
   "outputs": [],
   "source": [
    "# %%bash\n",
    "# scancel 2919535"
   ]
  },
  {
   "cell_type": "markdown",
   "metadata": {},
   "source": [
    "## Confirm TFRecords data correctly wrote down\n",
    "Confirmation that data is correct"
   ]
  },
  {
   "cell_type": "code",
   "execution_count": 3,
   "metadata": {},
   "outputs": [],
   "source": [
    "import tensorflow as tf\n",
    "tf.enable_eager_execution()\n",
    "# Helperfunctions to make your feature definition more readable\n",
    "\n",
    "def read_tfrecord(example):\n",
    "    features = { \\\n",
    "                'data':  tf.io.FixedLenFeature([1500*3], tf.float32,),\\\n",
    "                'on_off':  tf.io.FixedLenFeature([1], tf.int64,),\\\n",
    "                'dyskinesia':  tf.io.FixedLenFeature([1], tf.int64,),\n",
    "                'measurement_id':  tf.io.FixedLenFeature([1], tf.int64,),\\\n",
    "                'tremor':  tf.io.FixedLenFeature([1], tf.int64,), \\\n",
    "                'age':  tf.io.FixedLenFeature([1], tf.int64,), \\\n",
    "                \"subjects\": tf.io.FixedLenFeature([1], tf.int64), \\\n",
    "                \"gender\": tf.io.FixedLenFeature([1], tf.int64), \\\n",
    "                \"UPDRS_PartI_Total\": tf.io.FixedLenFeature([1], tf.int64), \\\n",
    "                \"UPDRS_PartII_Total\": tf.io.FixedLenFeature([1], tf.int64), \\\n",
    "                \"UPDRS_4.1\": tf.io.FixedLenFeature([1], tf.int64), \\\n",
    "                \"UPDRS_4.2\": tf.io.FixedLenFeature([1], tf.int64), \\\n",
    "                \"UPDRS_4.3\": tf.io.FixedLenFeature([1], tf.int64), \\\n",
    "                \"UPDRS_4.4\": tf.io.FixedLenFeature([1], tf.int64), \\\n",
    "                \"UPDRS_4.5\": tf.io.FixedLenFeature([1], tf.int64), \\\n",
    "                \"UPDRS_4.6\": tf.io.FixedLenFeature([1], tf.int64)\n",
    "               }\n",
    "\n",
    "    example = tf.io.parse_single_example(example, features)\n",
    "    return example\n",
    "def map_example_to_simple(example):\n",
    "    data = example['data']\n",
    "    data = tf.reshape(data, (1500,3))\n",
    "    return data, (example['on_off'][0],)\n",
    "dataset = tf.data.Dataset.list_files(\"/n/scratch2/beat_pd_ms_tmp/all_data.tfr\")\n",
    "option_no_order = tf.data.Options()\n",
    "option_no_order.experimental_deterministic = False\n",
    "dataset = dataset.with_options(option_no_order)\n",
    "dataset = dataset.interleave(tf.data.TFRecordDataset, cycle_length=1, num_parallel_calls=1)\n",
    "\n",
    "dataset = dataset.map(read_tfrecord, num_parallel_calls=1)"
   ]
  },
  {
   "cell_type": "code",
   "execution_count": null,
   "metadata": {},
   "outputs": [],
   "source": [
    "iterator = dataset.take(20000).make_one_shot_iterator()"
   ]
  },
  {
   "cell_type": "code",
   "execution_count": 30,
   "metadata": {},
   "outputs": [
    {
     "ename": "NameError",
     "evalue": "name 'iterator' is not defined",
     "output_type": "error",
     "traceback": [
      "\u001b[0;31m---------------------------------------------------------------------------\u001b[0m",
      "\u001b[0;31mNameError\u001b[0m                                 Traceback (most recent call last)",
      "\u001b[0;32m<ipython-input-30-4cca486c524c>\u001b[0m in \u001b[0;36m<module>\u001b[0;34m\u001b[0m\n\u001b[1;32m      2\u001b[0m \u001b[0mon_off\u001b[0m \u001b[0;34m=\u001b[0m \u001b[0;34m[\u001b[0m\u001b[0;34m]\u001b[0m\u001b[0;34m\u001b[0m\u001b[0;34m\u001b[0m\u001b[0m\n\u001b[1;32m      3\u001b[0m \u001b[0;34m\u001b[0m\u001b[0m\n\u001b[0;32m----> 4\u001b[0;31m \u001b[0;32mfor\u001b[0m \u001b[0mi\u001b[0m \u001b[0;32min\u001b[0m \u001b[0miterator\u001b[0m\u001b[0;34m:\u001b[0m\u001b[0;34m\u001b[0m\u001b[0;34m\u001b[0m\u001b[0m\n\u001b[0m\u001b[1;32m      5\u001b[0m     \u001b[0mm_id\u001b[0m\u001b[0;34m.\u001b[0m\u001b[0mappend\u001b[0m\u001b[0;34m(\u001b[0m\u001b[0mi\u001b[0m\u001b[0;34m[\u001b[0m\u001b[0;34m\"measurement_id\"\u001b[0m\u001b[0;34m]\u001b[0m\u001b[0;34m[\u001b[0m\u001b[0;36m0\u001b[0m\u001b[0;34m]\u001b[0m\u001b[0;34m.\u001b[0m\u001b[0mnumpy\u001b[0m\u001b[0;34m(\u001b[0m\u001b[0;34m)\u001b[0m\u001b[0;34m)\u001b[0m\u001b[0;34m\u001b[0m\u001b[0;34m\u001b[0m\u001b[0m\n\u001b[1;32m      6\u001b[0m     \u001b[0mon_off\u001b[0m\u001b[0;34m.\u001b[0m\u001b[0mappend\u001b[0m\u001b[0;34m(\u001b[0m\u001b[0mi\u001b[0m\u001b[0;34m[\u001b[0m\u001b[0;34m\"on_off\"\u001b[0m\u001b[0;34m]\u001b[0m\u001b[0;34m[\u001b[0m\u001b[0;36m0\u001b[0m\u001b[0;34m]\u001b[0m\u001b[0;34m.\u001b[0m\u001b[0mnumpy\u001b[0m\u001b[0;34m(\u001b[0m\u001b[0;34m)\u001b[0m\u001b[0;34m)\u001b[0m\u001b[0;34m\u001b[0m\u001b[0;34m\u001b[0m\u001b[0m\n",
      "\u001b[0;31mNameError\u001b[0m: name 'iterator' is not defined"
     ]
    }
   ],
   "source": [
    "m_id = []\n",
    "on_off = []\n",
    "\n",
    "for i in iterator:\n",
    "    m_id.append(i[\"measurement_id\"][0].numpy())\n",
    "    on_off.append(i[\"on_off\"][0].numpy())    "
   ]
  },
  {
   "cell_type": "code",
   "execution_count": null,
   "metadata": {},
   "outputs": [],
   "source": [
    "df = pd.DataFrame([m_id, on_off])"
   ]
  },
  {
   "cell_type": "markdown",
   "metadata": {},
   "source": [
    "# RealPD  Combined"
   ]
  },
  {
   "cell_type": "code",
   "execution_count": 65,
   "metadata": {},
   "outputs": [],
   "source": [
    "train_watch_accel = glob.glob(\"/home/ms994/beat_pd/data/real-pd/training_data/smartwatch_accelerometer/*.csv\")\n",
    "train_watch_gyro = glob.glob(\"/home/ms994/beat_pd/data/real-pd/training_data/smartwatch_gyroscope/*.csv\")\n",
    "train_phone_accel = glob.glob(\"/home/ms994/beat_pd/data/real-pd/training_data/smartphone_accelerometer/*.csv\")"
   ]
  },
  {
   "cell_type": "code",
   "execution_count": 66,
   "metadata": {},
   "outputs": [
    {
     "data": {
      "text/plain": [
       "(535, 535, 526)"
      ]
     },
     "execution_count": 66,
     "metadata": {},
     "output_type": "execute_result"
    }
   ],
   "source": [
    "len(train_watch_accel), len(train_watch_gyro), len(train_phone_accel)"
   ]
  },
  {
   "cell_type": "code",
   "execution_count": 108,
   "metadata": {},
   "outputs": [],
   "source": [
    "data = get_data(all_m_id[1000])"
   ]
  },
  {
   "cell_type": "code",
   "execution_count": 109,
   "metadata": {},
   "outputs": [],
   "source": [
    "allData = pd.concat(data, axis=1)"
   ]
  },
  {
   "cell_type": "code",
   "execution_count": 110,
   "metadata": {},
   "outputs": [],
   "source": [
    "allData.columns = [\"smartwatch_acc_x\", \"smartwatch_acc_y\", \"smartwatch_acc_z\", \"smartwatch_gyro_x\", \"smartwatch_gyro_y\", \"smartwatch_gyro_z\", \"smartphone_acc_x\", \"smartphone_acc_y\", \"smartphone_acc_z\"]"
   ]
  },
  {
   "cell_type": "code",
   "execution_count": 111,
   "metadata": {},
   "outputs": [
    {
     "data": {
      "text/html": [
       "<div>\n",
       "<style scoped>\n",
       "    .dataframe tbody tr th:only-of-type {\n",
       "        vertical-align: middle;\n",
       "    }\n",
       "\n",
       "    .dataframe tbody tr th {\n",
       "        vertical-align: top;\n",
       "    }\n",
       "\n",
       "    .dataframe thead th {\n",
       "        text-align: right;\n",
       "    }\n",
       "</style>\n",
       "<table border=\"1\" class=\"dataframe\">\n",
       "  <thead>\n",
       "    <tr style=\"text-align: right;\">\n",
       "      <th></th>\n",
       "      <th>smartwatch_acc_x</th>\n",
       "      <th>smartwatch_acc_y</th>\n",
       "      <th>smartwatch_acc_z</th>\n",
       "      <th>smartwatch_gyro_x</th>\n",
       "      <th>smartwatch_gyro_y</th>\n",
       "      <th>smartwatch_gyro_z</th>\n",
       "      <th>smartphone_acc_x</th>\n",
       "      <th>smartphone_acc_y</th>\n",
       "      <th>smartphone_acc_z</th>\n",
       "    </tr>\n",
       "    <tr>\n",
       "      <th>t</th>\n",
       "      <th></th>\n",
       "      <th></th>\n",
       "      <th></th>\n",
       "      <th></th>\n",
       "      <th></th>\n",
       "      <th></th>\n",
       "      <th></th>\n",
       "      <th></th>\n",
       "      <th></th>\n",
       "    </tr>\n",
       "  </thead>\n",
       "  <tbody>\n",
       "    <tr>\n",
       "      <th>00:00:00</th>\n",
       "      <td>3.058832</td>\n",
       "      <td>-3.305914</td>\n",
       "      <td>1.822466</td>\n",
       "      <td>0.000637</td>\n",
       "      <td>0.014443</td>\n",
       "      <td>-0.023152</td>\n",
       "      <td>8.033894</td>\n",
       "      <td>-3.503017</td>\n",
       "      <td>4.325724</td>\n",
       "    </tr>\n",
       "    <tr>\n",
       "      <th>00:00:00.040000</th>\n",
       "      <td>-1.412579</td>\n",
       "      <td>-5.088477</td>\n",
       "      <td>1.173159</td>\n",
       "      <td>0.002655</td>\n",
       "      <td>0.012479</td>\n",
       "      <td>-0.030268</td>\n",
       "      <td>8.015937</td>\n",
       "      <td>-3.482067</td>\n",
       "      <td>4.367623</td>\n",
       "    </tr>\n",
       "    <tr>\n",
       "      <th>00:00:00.080000</th>\n",
       "      <td>3.071282</td>\n",
       "      <td>-3.314533</td>\n",
       "      <td>1.787032</td>\n",
       "      <td>0.010089</td>\n",
       "      <td>0.009558</td>\n",
       "      <td>-0.031064</td>\n",
       "      <td>8.038083</td>\n",
       "      <td>-3.471293</td>\n",
       "      <td>4.347871</td>\n",
       "    </tr>\n",
       "    <tr>\n",
       "      <th>00:00:00.120000</th>\n",
       "      <td>1.437718</td>\n",
       "      <td>-3.975572</td>\n",
       "      <td>1.564611</td>\n",
       "      <td>0.011947</td>\n",
       "      <td>0.006372</td>\n",
       "      <td>-0.028940</td>\n",
       "      <td>8.045864</td>\n",
       "      <td>-3.411438</td>\n",
       "      <td>4.338294</td>\n",
       "    </tr>\n",
       "    <tr>\n",
       "      <th>00:00:00.160000</th>\n",
       "      <td>-1.329580</td>\n",
       "      <td>-5.112419</td>\n",
       "      <td>1.099737</td>\n",
       "      <td>0.007700</td>\n",
       "      <td>0.012744</td>\n",
       "      <td>-0.028940</td>\n",
       "      <td>8.053047</td>\n",
       "      <td>-3.453935</td>\n",
       "      <td>4.404134</td>\n",
       "    </tr>\n",
       "    <tr>\n",
       "      <th>00:00:00.200000</th>\n",
       "      <td>1.367089</td>\n",
       "      <td>-4.011485</td>\n",
       "      <td>1.629254</td>\n",
       "      <td>-0.002921</td>\n",
       "      <td>0.015665</td>\n",
       "      <td>-0.029737</td>\n",
       "      <td>8.038682</td>\n",
       "      <td>-3.440767</td>\n",
       "      <td>4.390368</td>\n",
       "    </tr>\n",
       "    <tr>\n",
       "      <th>00:00:00.240000</th>\n",
       "      <td>1.385046</td>\n",
       "      <td>-3.986346</td>\n",
       "      <td>1.551443</td>\n",
       "      <td>0.007965</td>\n",
       "      <td>0.015133</td>\n",
       "      <td>-0.030267</td>\n",
       "      <td>8.002171</td>\n",
       "      <td>-3.454534</td>\n",
       "      <td>4.395156</td>\n",
       "    </tr>\n",
       "    <tr>\n",
       "      <th>00:00:00.280000</th>\n",
       "      <td>1.371878</td>\n",
       "      <td>-4.003105</td>\n",
       "      <td>1.593341</td>\n",
       "      <td>0.001328</td>\n",
       "      <td>0.011151</td>\n",
       "      <td>-0.024692</td>\n",
       "      <td>8.014740</td>\n",
       "      <td>-3.457526</td>\n",
       "      <td>4.379593</td>\n",
       "    </tr>\n",
       "    <tr>\n",
       "      <th>00:00:00.320000</th>\n",
       "      <td>1.351527</td>\n",
       "      <td>-3.985148</td>\n",
       "      <td>1.595736</td>\n",
       "      <td>0.017523</td>\n",
       "      <td>0.003717</td>\n",
       "      <td>-0.024161</td>\n",
       "      <td>8.028307</td>\n",
       "      <td>-3.473488</td>\n",
       "      <td>4.363233</td>\n",
       "    </tr>\n",
       "    <tr>\n",
       "      <th>00:00:00.360000</th>\n",
       "      <td>3.038721</td>\n",
       "      <td>-3.255157</td>\n",
       "      <td>1.796609</td>\n",
       "      <td>0.013806</td>\n",
       "      <td>0.003717</td>\n",
       "      <td>-0.028144</td>\n",
       "      <td>8.033095</td>\n",
       "      <td>-3.481468</td>\n",
       "      <td>4.345676</td>\n",
       "    </tr>\n",
       "    <tr>\n",
       "      <th>00:00:00.400000</th>\n",
       "      <td>1.424550</td>\n",
       "      <td>-3.903746</td>\n",
       "      <td>1.533486</td>\n",
       "      <td>-0.001858</td>\n",
       "      <td>0.002655</td>\n",
       "      <td>-0.029206</td>\n",
       "      <td>8.032697</td>\n",
       "      <td>-3.449746</td>\n",
       "      <td>4.349666</td>\n",
       "    </tr>\n",
       "    <tr>\n",
       "      <th>00:00:00.440000</th>\n",
       "      <td>1.414974</td>\n",
       "      <td>-3.932476</td>\n",
       "      <td>1.516727</td>\n",
       "      <td>0.003982</td>\n",
       "      <td>0.009824</td>\n",
       "      <td>-0.028675</td>\n",
       "      <td>8.034492</td>\n",
       "      <td>-3.465906</td>\n",
       "      <td>4.331111</td>\n",
       "    </tr>\n",
       "    <tr>\n",
       "      <th>00:00:00.480000</th>\n",
       "      <td>1.399411</td>\n",
       "      <td>-4.023456</td>\n",
       "      <td>1.544260</td>\n",
       "      <td>0.005045</td>\n",
       "      <td>0.013541</td>\n",
       "      <td>-0.031330</td>\n",
       "      <td>8.039281</td>\n",
       "      <td>-3.441964</td>\n",
       "      <td>4.388572</td>\n",
       "    </tr>\n",
       "    <tr>\n",
       "      <th>00:00:00.520000</th>\n",
       "      <td>1.492784</td>\n",
       "      <td>-3.960009</td>\n",
       "      <td>1.515530</td>\n",
       "      <td>0.010885</td>\n",
       "      <td>0.009558</td>\n",
       "      <td>-0.028409</td>\n",
       "      <td>8.045865</td>\n",
       "      <td>-3.424008</td>\n",
       "      <td>4.414309</td>\n",
       "    </tr>\n",
       "    <tr>\n",
       "      <th>00:00:00.560000</th>\n",
       "      <td>1.410185</td>\n",
       "      <td>-4.066552</td>\n",
       "      <td>1.519121</td>\n",
       "      <td>0.008496</td>\n",
       "      <td>0.008850</td>\n",
       "      <td>-0.037525</td>\n",
       "      <td>8.029704</td>\n",
       "      <td>-3.477877</td>\n",
       "      <td>4.400543</td>\n",
       "    </tr>\n",
       "    <tr>\n",
       "      <th>00:00:00.600000</th>\n",
       "      <td>-1.382252</td>\n",
       "      <td>-5.062938</td>\n",
       "      <td>1.209870</td>\n",
       "      <td>0.006106</td>\n",
       "      <td>0.012213</td>\n",
       "      <td>-0.027613</td>\n",
       "      <td>8.029704</td>\n",
       "      <td>-3.464110</td>\n",
       "      <td>4.384381</td>\n",
       "    </tr>\n",
       "    <tr>\n",
       "      <th>00:00:00.640000</th>\n",
       "      <td>1.446098</td>\n",
       "      <td>-4.010288</td>\n",
       "      <td>1.651999</td>\n",
       "      <td>0.009027</td>\n",
       "      <td>0.009558</td>\n",
       "      <td>-0.025223</td>\n",
       "      <td>8.037485</td>\n",
       "      <td>-3.464709</td>\n",
       "      <td>4.356250</td>\n",
       "    </tr>\n",
       "    <tr>\n",
       "      <th>00:00:00.680000</th>\n",
       "      <td>1.401805</td>\n",
       "      <td>-3.964798</td>\n",
       "      <td>1.561020</td>\n",
       "      <td>0.004514</td>\n",
       "      <td>0.008230</td>\n",
       "      <td>-0.025489</td>\n",
       "      <td>8.044667</td>\n",
       "      <td>-3.471294</td>\n",
       "      <td>4.384382</td>\n",
       "    </tr>\n",
       "    <tr>\n",
       "      <th>00:00:00.720000</th>\n",
       "      <td>1.456871</td>\n",
       "      <td>-3.989937</td>\n",
       "      <td>1.538274</td>\n",
       "      <td>0.012213</td>\n",
       "      <td>0.008231</td>\n",
       "      <td>-0.025223</td>\n",
       "      <td>8.037484</td>\n",
       "      <td>-3.434183</td>\n",
       "      <td>4.348469</td>\n",
       "    </tr>\n",
       "    <tr>\n",
       "      <th>00:00:00.760000</th>\n",
       "      <td>1.418565</td>\n",
       "      <td>-3.975572</td>\n",
       "      <td>1.586158</td>\n",
       "      <td>0.000212</td>\n",
       "      <td>0.007222</td>\n",
       "      <td>-0.033985</td>\n",
       "      <td>8.043471</td>\n",
       "      <td>-3.450343</td>\n",
       "      <td>4.347272</td>\n",
       "    </tr>\n",
       "    <tr>\n",
       "      <th>00:00:00.800000</th>\n",
       "      <td>1.379060</td>\n",
       "      <td>-3.975572</td>\n",
       "      <td>1.610100</td>\n",
       "      <td>-0.002124</td>\n",
       "      <td>0.005310</td>\n",
       "      <td>-0.029737</td>\n",
       "      <td>8.026711</td>\n",
       "      <td>-3.473688</td>\n",
       "      <td>4.347871</td>\n",
       "    </tr>\n",
       "    <tr>\n",
       "      <th>00:00:00.840000</th>\n",
       "      <td>1.400608</td>\n",
       "      <td>-3.994725</td>\n",
       "      <td>1.570596</td>\n",
       "      <td>0.003717</td>\n",
       "      <td>0.018585</td>\n",
       "      <td>-0.030533</td>\n",
       "      <td>8.036287</td>\n",
       "      <td>-3.455132</td>\n",
       "      <td>4.415506</td>\n",
       "    </tr>\n",
       "    <tr>\n",
       "      <th>00:00:00.880000</th>\n",
       "      <td>1.401805</td>\n",
       "      <td>-4.018667</td>\n",
       "      <td>1.589750</td>\n",
       "      <td>0.005045</td>\n",
       "      <td>0.017523</td>\n",
       "      <td>-0.028940</td>\n",
       "      <td>8.045266</td>\n",
       "      <td>-3.432986</td>\n",
       "      <td>4.371813</td>\n",
       "    </tr>\n",
       "    <tr>\n",
       "      <th>00:00:00.920000</th>\n",
       "      <td>1.411382</td>\n",
       "      <td>-4.016273</td>\n",
       "      <td>1.583765</td>\n",
       "      <td>0.009824</td>\n",
       "      <td>0.014868</td>\n",
       "      <td>-0.025754</td>\n",
       "      <td>8.033295</td>\n",
       "      <td>-3.451541</td>\n",
       "      <td>4.392163</td>\n",
       "    </tr>\n",
       "    <tr>\n",
       "      <th>00:00:00.960000</th>\n",
       "      <td>1.414974</td>\n",
       "      <td>-3.956418</td>\n",
       "      <td>1.526304</td>\n",
       "      <td>0.012744</td>\n",
       "      <td>0.016196</td>\n",
       "      <td>-0.027347</td>\n",
       "      <td>8.009951</td>\n",
       "      <td>-3.449147</td>\n",
       "      <td>4.371812</td>\n",
       "    </tr>\n",
       "    <tr>\n",
       "      <th>00:00:01</th>\n",
       "      <td>1.371878</td>\n",
       "      <td>-3.949236</td>\n",
       "      <td>1.587356</td>\n",
       "      <td>-0.000354</td>\n",
       "      <td>0.007080</td>\n",
       "      <td>-0.018408</td>\n",
       "      <td>8.031899</td>\n",
       "      <td>-3.464310</td>\n",
       "      <td>4.366425</td>\n",
       "    </tr>\n",
       "    <tr>\n",
       "      <th>00:00:01.040000</th>\n",
       "      <td>1.363498</td>\n",
       "      <td>-3.976769</td>\n",
       "      <td>1.619677</td>\n",
       "      <td>-0.007434</td>\n",
       "      <td>0.001859</td>\n",
       "      <td>-0.026816</td>\n",
       "      <td>8.036887</td>\n",
       "      <td>-3.457526</td>\n",
       "      <td>4.392761</td>\n",
       "    </tr>\n",
       "    <tr>\n",
       "      <th>00:00:01.080000</th>\n",
       "      <td>1.414973</td>\n",
       "      <td>-3.970784</td>\n",
       "      <td>1.561020</td>\n",
       "      <td>0.006638</td>\n",
       "      <td>0.008496</td>\n",
       "      <td>-0.024161</td>\n",
       "      <td>8.024317</td>\n",
       "      <td>-3.461716</td>\n",
       "      <td>4.374805</td>\n",
       "    </tr>\n",
       "    <tr>\n",
       "      <th>00:00:01.120000</th>\n",
       "      <td>1.417367</td>\n",
       "      <td>-3.954024</td>\n",
       "      <td>1.559822</td>\n",
       "      <td>0.001859</td>\n",
       "      <td>0.007699</td>\n",
       "      <td>-0.028675</td>\n",
       "      <td>8.048258</td>\n",
       "      <td>-3.444358</td>\n",
       "      <td>4.400543</td>\n",
       "    </tr>\n",
       "    <tr>\n",
       "      <th>00:00:01.160000</th>\n",
       "      <td>1.375469</td>\n",
       "      <td>-3.979163</td>\n",
       "      <td>1.578976</td>\n",
       "      <td>0.005841</td>\n",
       "      <td>0.009293</td>\n",
       "      <td>-0.030268</td>\n",
       "      <td>8.041075</td>\n",
       "      <td>-3.467104</td>\n",
       "      <td>4.356250</td>\n",
       "    </tr>\n",
       "    <tr>\n",
       "      <th>...</th>\n",
       "      <td>...</td>\n",
       "      <td>...</td>\n",
       "      <td>...</td>\n",
       "      <td>...</td>\n",
       "      <td>...</td>\n",
       "      <td>...</td>\n",
       "      <td>...</td>\n",
       "      <td>...</td>\n",
       "      <td>...</td>\n",
       "    </tr>\n",
       "    <tr>\n",
       "      <th>00:19:58.800000</th>\n",
       "      <td>1.821988</td>\n",
       "      <td>-4.381389</td>\n",
       "      <td>2.075773</td>\n",
       "      <td>0.018585</td>\n",
       "      <td>0.014337</td>\n",
       "      <td>-0.026551</td>\n",
       "      <td>7.874679</td>\n",
       "      <td>-2.956539</td>\n",
       "      <td>4.988319</td>\n",
       "    </tr>\n",
       "    <tr>\n",
       "      <th>00:19:58.840000</th>\n",
       "      <td>1.874660</td>\n",
       "      <td>-4.367024</td>\n",
       "      <td>2.070984</td>\n",
       "      <td>0.000796</td>\n",
       "      <td>0.007434</td>\n",
       "      <td>-0.028409</td>\n",
       "      <td>7.863307</td>\n",
       "      <td>-2.970905</td>\n",
       "      <td>4.997298</td>\n",
       "    </tr>\n",
       "    <tr>\n",
       "      <th>00:19:58.880000</th>\n",
       "      <td>1.863886</td>\n",
       "      <td>-4.352658</td>\n",
       "      <td>2.091335</td>\n",
       "      <td>0.001858</td>\n",
       "      <td>0.008496</td>\n",
       "      <td>-0.028144</td>\n",
       "      <td>7.855525</td>\n",
       "      <td>-2.960131</td>\n",
       "      <td>4.978144</td>\n",
       "    </tr>\n",
       "    <tr>\n",
       "      <th>00:19:58.920000</th>\n",
       "      <td>1.927332</td>\n",
       "      <td>-4.407725</td>\n",
       "      <td>2.111686</td>\n",
       "      <td>0.002921</td>\n",
       "      <td>0.007169</td>\n",
       "      <td>-0.028940</td>\n",
       "      <td>7.866898</td>\n",
       "      <td>-2.948160</td>\n",
       "      <td>4.969165</td>\n",
       "    </tr>\n",
       "    <tr>\n",
       "      <th>00:19:58.960000</th>\n",
       "      <td>1.920150</td>\n",
       "      <td>-4.382586</td>\n",
       "      <td>2.026692</td>\n",
       "      <td>0.008230</td>\n",
       "      <td>0.009558</td>\n",
       "      <td>-0.026551</td>\n",
       "      <td>7.848942</td>\n",
       "      <td>-2.926014</td>\n",
       "      <td>4.990714</td>\n",
       "    </tr>\n",
       "    <tr>\n",
       "      <th>00:19:59</th>\n",
       "      <td>1.912967</td>\n",
       "      <td>-4.396951</td>\n",
       "      <td>2.026692</td>\n",
       "      <td>0.014072</td>\n",
       "      <td>0.013275</td>\n",
       "      <td>-0.027082</td>\n",
       "      <td>7.887847</td>\n",
       "      <td>-2.969708</td>\n",
       "      <td>5.008669</td>\n",
       "    </tr>\n",
       "    <tr>\n",
       "      <th>00:19:59.040000</th>\n",
       "      <td>1.877054</td>\n",
       "      <td>-4.367024</td>\n",
       "      <td>2.036269</td>\n",
       "      <td>-0.002390</td>\n",
       "      <td>0.011416</td>\n",
       "      <td>-0.029206</td>\n",
       "      <td>7.883059</td>\n",
       "      <td>-2.969708</td>\n",
       "      <td>4.988319</td>\n",
       "    </tr>\n",
       "    <tr>\n",
       "      <th>00:19:59.080000</th>\n",
       "      <td>1.857901</td>\n",
       "      <td>-4.326322</td>\n",
       "      <td>2.096124</td>\n",
       "      <td>0.002655</td>\n",
       "      <td>0.011416</td>\n",
       "      <td>-0.028409</td>\n",
       "      <td>7.867496</td>\n",
       "      <td>-2.965518</td>\n",
       "      <td>4.985326</td>\n",
       "    </tr>\n",
       "    <tr>\n",
       "      <th>00:19:59.120000</th>\n",
       "      <td>1.903391</td>\n",
       "      <td>-4.392163</td>\n",
       "      <td>2.066196</td>\n",
       "      <td>0.003982</td>\n",
       "      <td>0.011947</td>\n",
       "      <td>-0.029471</td>\n",
       "      <td>7.869891</td>\n",
       "      <td>-2.945765</td>\n",
       "      <td>4.963779</td>\n",
       "    </tr>\n",
       "    <tr>\n",
       "      <th>00:19:59.160000</th>\n",
       "      <td>1.895011</td>\n",
       "      <td>-4.405331</td>\n",
       "      <td>2.002750</td>\n",
       "      <td>0.009293</td>\n",
       "      <td>0.010089</td>\n",
       "      <td>-0.027347</td>\n",
       "      <td>7.877073</td>\n",
       "      <td>-2.940977</td>\n",
       "      <td>4.972757</td>\n",
       "    </tr>\n",
       "    <tr>\n",
       "      <th>00:19:59.200000</th>\n",
       "      <td>1.891419</td>\n",
       "      <td>-4.373009</td>\n",
       "      <td>2.027889</td>\n",
       "      <td>0.011948</td>\n",
       "      <td>0.010886</td>\n",
       "      <td>-0.026816</td>\n",
       "      <td>7.914184</td>\n",
       "      <td>-2.961328</td>\n",
       "      <td>4.949414</td>\n",
       "    </tr>\n",
       "    <tr>\n",
       "      <th>00:19:59.240000</th>\n",
       "      <td>1.903390</td>\n",
       "      <td>-4.392163</td>\n",
       "      <td>2.076970</td>\n",
       "      <td>-0.005841</td>\n",
       "      <td>0.010089</td>\n",
       "      <td>-0.030002</td>\n",
       "      <td>7.877671</td>\n",
       "      <td>-2.978686</td>\n",
       "      <td>4.950012</td>\n",
       "    </tr>\n",
       "    <tr>\n",
       "      <th>00:19:59.280000</th>\n",
       "      <td>1.871069</td>\n",
       "      <td>-4.380192</td>\n",
       "      <td>2.112883</td>\n",
       "      <td>-0.000531</td>\n",
       "      <td>0.008762</td>\n",
       "      <td>-0.027082</td>\n",
       "      <td>7.901613</td>\n",
       "      <td>-2.963124</td>\n",
       "      <td>4.948216</td>\n",
       "    </tr>\n",
       "    <tr>\n",
       "      <th>00:19:59.320000</th>\n",
       "      <td>1.899799</td>\n",
       "      <td>-4.367024</td>\n",
       "      <td>2.114080</td>\n",
       "      <td>0.006106</td>\n",
       "      <td>0.012744</td>\n",
       "      <td>-0.026285</td>\n",
       "      <td>7.889643</td>\n",
       "      <td>-2.950554</td>\n",
       "      <td>4.906318</td>\n",
       "    </tr>\n",
       "    <tr>\n",
       "      <th>00:19:59.360000</th>\n",
       "      <td>1.873463</td>\n",
       "      <td>-4.454412</td>\n",
       "      <td>2.039860</td>\n",
       "      <td>0.009027</td>\n",
       "      <td>0.016196</td>\n",
       "      <td>-0.027082</td>\n",
       "      <td>7.883059</td>\n",
       "      <td>-3.001431</td>\n",
       "      <td>4.890756</td>\n",
       "    </tr>\n",
       "    <tr>\n",
       "      <th>00:19:59.400000</th>\n",
       "      <td>1.912967</td>\n",
       "      <td>-4.380192</td>\n",
       "      <td>2.037466</td>\n",
       "      <td>0.000266</td>\n",
       "      <td>0.013806</td>\n",
       "      <td>-0.027613</td>\n",
       "      <td>7.887249</td>\n",
       "      <td>-2.988263</td>\n",
       "      <td>4.921282</td>\n",
       "    </tr>\n",
       "    <tr>\n",
       "      <th>00:19:59.440000</th>\n",
       "      <td>1.908179</td>\n",
       "      <td>-4.355053</td>\n",
       "      <td>2.055422</td>\n",
       "      <td>-0.005576</td>\n",
       "      <td>0.011417</td>\n",
       "      <td>-0.026285</td>\n",
       "      <td>7.892635</td>\n",
       "      <td>-2.967913</td>\n",
       "      <td>4.935048</td>\n",
       "    </tr>\n",
       "    <tr>\n",
       "      <th>00:19:59.480000</th>\n",
       "      <td>1.898602</td>\n",
       "      <td>-4.405331</td>\n",
       "      <td>2.081759</td>\n",
       "      <td>-0.002921</td>\n",
       "      <td>0.010089</td>\n",
       "      <td>-0.024161</td>\n",
       "      <td>7.897424</td>\n",
       "      <td>-2.956539</td>\n",
       "      <td>4.977545</td>\n",
       "    </tr>\n",
       "    <tr>\n",
       "      <th>00:19:59.520000</th>\n",
       "      <td>1.897405</td>\n",
       "      <td>-4.392163</td>\n",
       "      <td>2.056619</td>\n",
       "      <td>0.004248</td>\n",
       "      <td>0.010620</td>\n",
       "      <td>-0.024161</td>\n",
       "      <td>7.893234</td>\n",
       "      <td>-2.984672</td>\n",
       "      <td>4.964377</td>\n",
       "    </tr>\n",
       "    <tr>\n",
       "      <th>00:19:59.560000</th>\n",
       "      <td>1.869872</td>\n",
       "      <td>-4.412514</td>\n",
       "      <td>2.006341</td>\n",
       "      <td>0.011682</td>\n",
       "      <td>0.014337</td>\n",
       "      <td>-0.024958</td>\n",
       "      <td>7.891438</td>\n",
       "      <td>-2.981080</td>\n",
       "      <td>4.885369</td>\n",
       "    </tr>\n",
       "    <tr>\n",
       "      <th>00:19:59.600000</th>\n",
       "      <td>1.859098</td>\n",
       "      <td>-4.423287</td>\n",
       "      <td>2.061408</td>\n",
       "      <td>-0.001593</td>\n",
       "      <td>0.016461</td>\n",
       "      <td>-0.027347</td>\n",
       "      <td>7.901015</td>\n",
       "      <td>-3.001431</td>\n",
       "      <td>4.917091</td>\n",
       "    </tr>\n",
       "    <tr>\n",
       "      <th>00:19:59.640000</th>\n",
       "      <td>1.827973</td>\n",
       "      <td>-4.405331</td>\n",
       "      <td>2.059013</td>\n",
       "      <td>-0.002124</td>\n",
       "      <td>0.013806</td>\n",
       "      <td>-0.024427</td>\n",
       "      <td>7.920169</td>\n",
       "      <td>-2.985270</td>\n",
       "      <td>4.917091</td>\n",
       "    </tr>\n",
       "    <tr>\n",
       "      <th>00:19:59.680000</th>\n",
       "      <td>1.855506</td>\n",
       "      <td>-4.383783</td>\n",
       "      <td>2.051831</td>\n",
       "      <td>-0.000531</td>\n",
       "      <td>0.009293</td>\n",
       "      <td>-0.024692</td>\n",
       "      <td>7.912387</td>\n",
       "      <td>-2.987664</td>\n",
       "      <td>4.919486</td>\n",
       "    </tr>\n",
       "    <tr>\n",
       "      <th>00:19:59.720000</th>\n",
       "      <td>1.847127</td>\n",
       "      <td>-4.357447</td>\n",
       "      <td>2.066196</td>\n",
       "      <td>0.004779</td>\n",
       "      <td>0.007699</td>\n",
       "      <td>-0.024427</td>\n",
       "      <td>7.920768</td>\n",
       "      <td>-2.954146</td>\n",
       "      <td>4.873397</td>\n",
       "    </tr>\n",
       "    <tr>\n",
       "      <th>00:19:59.760000</th>\n",
       "      <td>1.909376</td>\n",
       "      <td>-4.434061</td>\n",
       "      <td>1.965640</td>\n",
       "      <td>0.015134</td>\n",
       "      <td>0.008762</td>\n",
       "      <td>-0.023364</td>\n",
       "      <td>7.909993</td>\n",
       "      <td>-2.974496</td>\n",
       "      <td>4.896142</td>\n",
       "    </tr>\n",
       "    <tr>\n",
       "      <th>00:19:59.800000</th>\n",
       "      <td>1.887828</td>\n",
       "      <td>-4.410119</td>\n",
       "      <td>1.988385</td>\n",
       "      <td>0.006372</td>\n",
       "      <td>0.011416</td>\n",
       "      <td>-0.026020</td>\n",
       "      <td>7.897424</td>\n",
       "      <td>-3.024176</td>\n",
       "      <td>4.877587</td>\n",
       "    </tr>\n",
       "    <tr>\n",
       "      <th>00:19:59.840000</th>\n",
       "      <td>1.889025</td>\n",
       "      <td>-4.420894</td>\n",
       "      <td>2.006341</td>\n",
       "      <td>0.001859</td>\n",
       "      <td>0.015399</td>\n",
       "      <td>-0.024692</td>\n",
       "      <td>7.935132</td>\n",
       "      <td>-3.045724</td>\n",
       "      <td>4.863821</td>\n",
       "    </tr>\n",
       "    <tr>\n",
       "      <th>00:19:59.880000</th>\n",
       "      <td>1.895011</td>\n",
       "      <td>-4.395754</td>\n",
       "      <td>1.975216</td>\n",
       "      <td>-0.006372</td>\n",
       "      <td>0.008762</td>\n",
       "      <td>-0.025223</td>\n",
       "      <td>7.912388</td>\n",
       "      <td>-3.006818</td>\n",
       "      <td>4.840478</td>\n",
       "    </tr>\n",
       "    <tr>\n",
       "      <th>00:19:59.920000</th>\n",
       "      <td>1.855506</td>\n",
       "      <td>-4.377798</td>\n",
       "      <td>2.055422</td>\n",
       "      <td>-0.001859</td>\n",
       "      <td>0.008496</td>\n",
       "      <td>-0.027878</td>\n",
       "      <td>7.930943</td>\n",
       "      <td>-2.983474</td>\n",
       "      <td>4.891953</td>\n",
       "    </tr>\n",
       "    <tr>\n",
       "      <th>00:19:59.960000</th>\n",
       "      <td>1.881842</td>\n",
       "      <td>-4.370615</td>\n",
       "      <td>1.985990</td>\n",
       "      <td>0.003717</td>\n",
       "      <td>0.011682</td>\n",
       "      <td>-0.024958</td>\n",
       "      <td>7.931841</td>\n",
       "      <td>-3.002628</td>\n",
       "      <td>4.868908</td>\n",
       "    </tr>\n",
       "  </tbody>\n",
       "</table>\n",
       "<p>30000 rows × 9 columns</p>\n",
       "</div>"
      ],
      "text/plain": [
       "                 smartwatch_acc_x  smartwatch_acc_y  smartwatch_acc_z  \\\n",
       "t                                                                       \n",
       "00:00:00                 3.058832         -3.305914          1.822466   \n",
       "00:00:00.040000         -1.412579         -5.088477          1.173159   \n",
       "00:00:00.080000          3.071282         -3.314533          1.787032   \n",
       "00:00:00.120000          1.437718         -3.975572          1.564611   \n",
       "00:00:00.160000         -1.329580         -5.112419          1.099737   \n",
       "00:00:00.200000          1.367089         -4.011485          1.629254   \n",
       "00:00:00.240000          1.385046         -3.986346          1.551443   \n",
       "00:00:00.280000          1.371878         -4.003105          1.593341   \n",
       "00:00:00.320000          1.351527         -3.985148          1.595736   \n",
       "00:00:00.360000          3.038721         -3.255157          1.796609   \n",
       "00:00:00.400000          1.424550         -3.903746          1.533486   \n",
       "00:00:00.440000          1.414974         -3.932476          1.516727   \n",
       "00:00:00.480000          1.399411         -4.023456          1.544260   \n",
       "00:00:00.520000          1.492784         -3.960009          1.515530   \n",
       "00:00:00.560000          1.410185         -4.066552          1.519121   \n",
       "00:00:00.600000         -1.382252         -5.062938          1.209870   \n",
       "00:00:00.640000          1.446098         -4.010288          1.651999   \n",
       "00:00:00.680000          1.401805         -3.964798          1.561020   \n",
       "00:00:00.720000          1.456871         -3.989937          1.538274   \n",
       "00:00:00.760000          1.418565         -3.975572          1.586158   \n",
       "00:00:00.800000          1.379060         -3.975572          1.610100   \n",
       "00:00:00.840000          1.400608         -3.994725          1.570596   \n",
       "00:00:00.880000          1.401805         -4.018667          1.589750   \n",
       "00:00:00.920000          1.411382         -4.016273          1.583765   \n",
       "00:00:00.960000          1.414974         -3.956418          1.526304   \n",
       "00:00:01                 1.371878         -3.949236          1.587356   \n",
       "00:00:01.040000          1.363498         -3.976769          1.619677   \n",
       "00:00:01.080000          1.414973         -3.970784          1.561020   \n",
       "00:00:01.120000          1.417367         -3.954024          1.559822   \n",
       "00:00:01.160000          1.375469         -3.979163          1.578976   \n",
       "...                           ...               ...               ...   \n",
       "00:19:58.800000          1.821988         -4.381389          2.075773   \n",
       "00:19:58.840000          1.874660         -4.367024          2.070984   \n",
       "00:19:58.880000          1.863886         -4.352658          2.091335   \n",
       "00:19:58.920000          1.927332         -4.407725          2.111686   \n",
       "00:19:58.960000          1.920150         -4.382586          2.026692   \n",
       "00:19:59                 1.912967         -4.396951          2.026692   \n",
       "00:19:59.040000          1.877054         -4.367024          2.036269   \n",
       "00:19:59.080000          1.857901         -4.326322          2.096124   \n",
       "00:19:59.120000          1.903391         -4.392163          2.066196   \n",
       "00:19:59.160000          1.895011         -4.405331          2.002750   \n",
       "00:19:59.200000          1.891419         -4.373009          2.027889   \n",
       "00:19:59.240000          1.903390         -4.392163          2.076970   \n",
       "00:19:59.280000          1.871069         -4.380192          2.112883   \n",
       "00:19:59.320000          1.899799         -4.367024          2.114080   \n",
       "00:19:59.360000          1.873463         -4.454412          2.039860   \n",
       "00:19:59.400000          1.912967         -4.380192          2.037466   \n",
       "00:19:59.440000          1.908179         -4.355053          2.055422   \n",
       "00:19:59.480000          1.898602         -4.405331          2.081759   \n",
       "00:19:59.520000          1.897405         -4.392163          2.056619   \n",
       "00:19:59.560000          1.869872         -4.412514          2.006341   \n",
       "00:19:59.600000          1.859098         -4.423287          2.061408   \n",
       "00:19:59.640000          1.827973         -4.405331          2.059013   \n",
       "00:19:59.680000          1.855506         -4.383783          2.051831   \n",
       "00:19:59.720000          1.847127         -4.357447          2.066196   \n",
       "00:19:59.760000          1.909376         -4.434061          1.965640   \n",
       "00:19:59.800000          1.887828         -4.410119          1.988385   \n",
       "00:19:59.840000          1.889025         -4.420894          2.006341   \n",
       "00:19:59.880000          1.895011         -4.395754          1.975216   \n",
       "00:19:59.920000          1.855506         -4.377798          2.055422   \n",
       "00:19:59.960000          1.881842         -4.370615          1.985990   \n",
       "\n",
       "                 smartwatch_gyro_x  smartwatch_gyro_y  smartwatch_gyro_z  \\\n",
       "t                                                                          \n",
       "00:00:00                  0.000637           0.014443          -0.023152   \n",
       "00:00:00.040000           0.002655           0.012479          -0.030268   \n",
       "00:00:00.080000           0.010089           0.009558          -0.031064   \n",
       "00:00:00.120000           0.011947           0.006372          -0.028940   \n",
       "00:00:00.160000           0.007700           0.012744          -0.028940   \n",
       "00:00:00.200000          -0.002921           0.015665          -0.029737   \n",
       "00:00:00.240000           0.007965           0.015133          -0.030267   \n",
       "00:00:00.280000           0.001328           0.011151          -0.024692   \n",
       "00:00:00.320000           0.017523           0.003717          -0.024161   \n",
       "00:00:00.360000           0.013806           0.003717          -0.028144   \n",
       "00:00:00.400000          -0.001858           0.002655          -0.029206   \n",
       "00:00:00.440000           0.003982           0.009824          -0.028675   \n",
       "00:00:00.480000           0.005045           0.013541          -0.031330   \n",
       "00:00:00.520000           0.010885           0.009558          -0.028409   \n",
       "00:00:00.560000           0.008496           0.008850          -0.037525   \n",
       "00:00:00.600000           0.006106           0.012213          -0.027613   \n",
       "00:00:00.640000           0.009027           0.009558          -0.025223   \n",
       "00:00:00.680000           0.004514           0.008230          -0.025489   \n",
       "00:00:00.720000           0.012213           0.008231          -0.025223   \n",
       "00:00:00.760000           0.000212           0.007222          -0.033985   \n",
       "00:00:00.800000          -0.002124           0.005310          -0.029737   \n",
       "00:00:00.840000           0.003717           0.018585          -0.030533   \n",
       "00:00:00.880000           0.005045           0.017523          -0.028940   \n",
       "00:00:00.920000           0.009824           0.014868          -0.025754   \n",
       "00:00:00.960000           0.012744           0.016196          -0.027347   \n",
       "00:00:01                 -0.000354           0.007080          -0.018408   \n",
       "00:00:01.040000          -0.007434           0.001859          -0.026816   \n",
       "00:00:01.080000           0.006638           0.008496          -0.024161   \n",
       "00:00:01.120000           0.001859           0.007699          -0.028675   \n",
       "00:00:01.160000           0.005841           0.009293          -0.030268   \n",
       "...                            ...                ...                ...   \n",
       "00:19:58.800000           0.018585           0.014337          -0.026551   \n",
       "00:19:58.840000           0.000796           0.007434          -0.028409   \n",
       "00:19:58.880000           0.001858           0.008496          -0.028144   \n",
       "00:19:58.920000           0.002921           0.007169          -0.028940   \n",
       "00:19:58.960000           0.008230           0.009558          -0.026551   \n",
       "00:19:59                  0.014072           0.013275          -0.027082   \n",
       "00:19:59.040000          -0.002390           0.011416          -0.029206   \n",
       "00:19:59.080000           0.002655           0.011416          -0.028409   \n",
       "00:19:59.120000           0.003982           0.011947          -0.029471   \n",
       "00:19:59.160000           0.009293           0.010089          -0.027347   \n",
       "00:19:59.200000           0.011948           0.010886          -0.026816   \n",
       "00:19:59.240000          -0.005841           0.010089          -0.030002   \n",
       "00:19:59.280000          -0.000531           0.008762          -0.027082   \n",
       "00:19:59.320000           0.006106           0.012744          -0.026285   \n",
       "00:19:59.360000           0.009027           0.016196          -0.027082   \n",
       "00:19:59.400000           0.000266           0.013806          -0.027613   \n",
       "00:19:59.440000          -0.005576           0.011417          -0.026285   \n",
       "00:19:59.480000          -0.002921           0.010089          -0.024161   \n",
       "00:19:59.520000           0.004248           0.010620          -0.024161   \n",
       "00:19:59.560000           0.011682           0.014337          -0.024958   \n",
       "00:19:59.600000          -0.001593           0.016461          -0.027347   \n",
       "00:19:59.640000          -0.002124           0.013806          -0.024427   \n",
       "00:19:59.680000          -0.000531           0.009293          -0.024692   \n",
       "00:19:59.720000           0.004779           0.007699          -0.024427   \n",
       "00:19:59.760000           0.015134           0.008762          -0.023364   \n",
       "00:19:59.800000           0.006372           0.011416          -0.026020   \n",
       "00:19:59.840000           0.001859           0.015399          -0.024692   \n",
       "00:19:59.880000          -0.006372           0.008762          -0.025223   \n",
       "00:19:59.920000          -0.001859           0.008496          -0.027878   \n",
       "00:19:59.960000           0.003717           0.011682          -0.024958   \n",
       "\n",
       "                 smartphone_acc_x  smartphone_acc_y  smartphone_acc_z  \n",
       "t                                                                      \n",
       "00:00:00                 8.033894         -3.503017          4.325724  \n",
       "00:00:00.040000          8.015937         -3.482067          4.367623  \n",
       "00:00:00.080000          8.038083         -3.471293          4.347871  \n",
       "00:00:00.120000          8.045864         -3.411438          4.338294  \n",
       "00:00:00.160000          8.053047         -3.453935          4.404134  \n",
       "00:00:00.200000          8.038682         -3.440767          4.390368  \n",
       "00:00:00.240000          8.002171         -3.454534          4.395156  \n",
       "00:00:00.280000          8.014740         -3.457526          4.379593  \n",
       "00:00:00.320000          8.028307         -3.473488          4.363233  \n",
       "00:00:00.360000          8.033095         -3.481468          4.345676  \n",
       "00:00:00.400000          8.032697         -3.449746          4.349666  \n",
       "00:00:00.440000          8.034492         -3.465906          4.331111  \n",
       "00:00:00.480000          8.039281         -3.441964          4.388572  \n",
       "00:00:00.520000          8.045865         -3.424008          4.414309  \n",
       "00:00:00.560000          8.029704         -3.477877          4.400543  \n",
       "00:00:00.600000          8.029704         -3.464110          4.384381  \n",
       "00:00:00.640000          8.037485         -3.464709          4.356250  \n",
       "00:00:00.680000          8.044667         -3.471294          4.384382  \n",
       "00:00:00.720000          8.037484         -3.434183          4.348469  \n",
       "00:00:00.760000          8.043471         -3.450343          4.347272  \n",
       "00:00:00.800000          8.026711         -3.473688          4.347871  \n",
       "00:00:00.840000          8.036287         -3.455132          4.415506  \n",
       "00:00:00.880000          8.045266         -3.432986          4.371813  \n",
       "00:00:00.920000          8.033295         -3.451541          4.392163  \n",
       "00:00:00.960000          8.009951         -3.449147          4.371812  \n",
       "00:00:01                 8.031899         -3.464310          4.366425  \n",
       "00:00:01.040000          8.036887         -3.457526          4.392761  \n",
       "00:00:01.080000          8.024317         -3.461716          4.374805  \n",
       "00:00:01.120000          8.048258         -3.444358          4.400543  \n",
       "00:00:01.160000          8.041075         -3.467104          4.356250  \n",
       "...                           ...               ...               ...  \n",
       "00:19:58.800000          7.874679         -2.956539          4.988319  \n",
       "00:19:58.840000          7.863307         -2.970905          4.997298  \n",
       "00:19:58.880000          7.855525         -2.960131          4.978144  \n",
       "00:19:58.920000          7.866898         -2.948160          4.969165  \n",
       "00:19:58.960000          7.848942         -2.926014          4.990714  \n",
       "00:19:59                 7.887847         -2.969708          5.008669  \n",
       "00:19:59.040000          7.883059         -2.969708          4.988319  \n",
       "00:19:59.080000          7.867496         -2.965518          4.985326  \n",
       "00:19:59.120000          7.869891         -2.945765          4.963779  \n",
       "00:19:59.160000          7.877073         -2.940977          4.972757  \n",
       "00:19:59.200000          7.914184         -2.961328          4.949414  \n",
       "00:19:59.240000          7.877671         -2.978686          4.950012  \n",
       "00:19:59.280000          7.901613         -2.963124          4.948216  \n",
       "00:19:59.320000          7.889643         -2.950554          4.906318  \n",
       "00:19:59.360000          7.883059         -3.001431          4.890756  \n",
       "00:19:59.400000          7.887249         -2.988263          4.921282  \n",
       "00:19:59.440000          7.892635         -2.967913          4.935048  \n",
       "00:19:59.480000          7.897424         -2.956539          4.977545  \n",
       "00:19:59.520000          7.893234         -2.984672          4.964377  \n",
       "00:19:59.560000          7.891438         -2.981080          4.885369  \n",
       "00:19:59.600000          7.901015         -3.001431          4.917091  \n",
       "00:19:59.640000          7.920169         -2.985270          4.917091  \n",
       "00:19:59.680000          7.912387         -2.987664          4.919486  \n",
       "00:19:59.720000          7.920768         -2.954146          4.873397  \n",
       "00:19:59.760000          7.909993         -2.974496          4.896142  \n",
       "00:19:59.800000          7.897424         -3.024176          4.877587  \n",
       "00:19:59.840000          7.935132         -3.045724          4.863821  \n",
       "00:19:59.880000          7.912388         -3.006818          4.840478  \n",
       "00:19:59.920000          7.930943         -2.983474          4.891953  \n",
       "00:19:59.960000          7.931841         -3.002628          4.868908  \n",
       "\n",
       "[30000 rows x 9 columns]"
      ]
     },
     "execution_count": 111,
     "metadata": {},
     "output_type": "execute_result"
    }
   ],
   "source": [
    "allData"
   ]
  },
  {
   "cell_type": "code",
   "execution_count": 112,
   "metadata": {},
   "outputs": [
    {
     "data": {
      "image/png": "[encoded data removed]",
      "text/plain": [
       "<Figure size 432x288 with 1 Axes>"
      ]
     },
     "metadata": {
      "needs_background": "light"
     },
     "output_type": "display_data"
    }
   ],
   "source": [
    "import matplotlib.pyplot as plt\n",
    "allData[[\"smartwatch_acc_x\", \"smartphone_acc_x\",]].plot()\n",
    "plt.show()"
   ]
  },
  {
   "cell_type": "code",
   "execution_count": 115,
   "metadata": {},
   "outputs": [
    {
     "data": {
      "image/png": "[encoded data removed]",
      "text/plain": [
       "<Figure size 432x288 with 1 Axes>"
      ]
     },
     "metadata": {
      "needs_background": "light"
     },
     "output_type": "display_data"
    }
   ],
   "source": [
    "import matplotlib.pyplot as plt\n",
    "subsampData = allData[[\"smartwatch_acc_x\", \"smartphone_acc_x\",]]\n",
    "subsampData = (subsampData - subsampData.mean(0))  / subsampData.std(axis=0)\n",
    "subsampData.loc[pd.Timedelta(seconds=90):pd.Timedelta(seconds=140)].plot()\n",
    "plt.ylim([-3,3])\n",
    "plt.show()"
   ]
  },
  {
   "cell_type": "code",
   "execution_count": null,
   "metadata": {},
   "outputs": [],
   "source": []
  },
  {
   "cell_type": "code",
   "execution_count": 93,
   "metadata": {},
   "outputs": [],
   "source": [
    "import os.path\n",
    "def get_data(m_id):\n",
    "    allData = []\n",
    "    subdirs = [\"smartwatch_accelerometer\", \"smartwatch_gyroscope\", \"smartphone_accelerometer\"]\n",
    "    for subdir in subdirs:\n",
    "        if os.path.isfile(f\"/home/ms994/beat_pd/data/real-pd/training_data/{subdir}/{m_id}.csv\"):\n",
    "            allData.append(main.read_seq(\n",
    "            f\"/home/ms994/beat_pd/data/real-pd/training_data/{subdir}/{m_id}.csv\",\n",
    "            use_time_index=True,\n",
    "            resample=pd.Timedelta(seconds=1/25)).fillna(method=\"bfill\").fillna(method=\"ffill\"))\n",
    "        else:\n",
    "            allData.append(pd.DataFrame(index=pd.timedelta_range(start=pd.Timedelta(seconds=0), freq=pd.Timedelta(seconds=1/25), end = pd.Timedelta(minutes=20))))\n",
    "    return allData\n",
    "def read_mid_and_split(m_id, max_window=pd.Timedelta(seconds=60), overlap=pd.Timedelta(seconds=10)):\n",
    "        data = get_data(m_id)\n",
    "        \n",
    "        all_samples = []\n",
    "        currentIndex = pd.Timedelta(seconds=0)\n",
    "        while (currentIndex + max_window < data.index.max()):\n",
    "            all_samples.append(data.loc[currentIndex:currentIndex+max_window].fillna(method=\"ffill\").fillna(method=\"bfill\").values)\n",
    "            currentIndex += overlap\n",
    "        return all_samples"
   ]
  },
  {
   "cell_type": "markdown",
   "metadata": {},
   "source": [
    "# RealPD Smartwatch\n",
    "## RealPD data setup"
   ]
  },
  {
   "cell_type": "code",
   "execution_count": 3,
   "metadata": {},
   "outputs": [],
   "source": [
    "labels = pd.read_csv(\"/home/ms994/beat_pd/data/real-pd/data_labels/REAL-PD_Training_Data_IDs_Labels.csv\")\n",
    "additional_labels = pd.read_csv(\"/home/ms994/beat_pd/data/real-pd/data_labels/REAL-PD_Ancillary_Data_IDs_Labels.csv\")"
   ]
  },
  {
   "cell_type": "code",
   "execution_count": 90,
   "metadata": {},
   "outputs": [],
   "source": [
    "demo_data = pd.read_csv(\"/home/ms994/beat_pd/data/real-pd/clinical_data/REAL-PD_Demographics.csv\")\n",
    "updrs_1 = pd.read_csv(\"/home/ms994/beat_pd/data/real-pd/clinical_data/REAL-PD_UPDRS_Part1_2_4.csv\")\n",
    "updrs_2 = pd.read_csv(\"/home/ms994/beat_pd/data/real-pd/clinical_data/REAL-PD_UPDRS_Part3.csv\")"
   ]
  },
  {
   "cell_type": "code",
   "execution_count": 91,
   "metadata": {},
   "outputs": [],
   "source": [
    "all_data = demo_data.join(updrs_1.set_index(\"subject_id\"), on=\"subject_id\").join(updrs_2.set_index(\"subject_id\"))"
   ]
  },
  {
   "cell_type": "code",
   "execution_count": 92,
   "metadata": {},
   "outputs": [],
   "source": [
    "labels = pd.concat([labels, additional_labels])"
   ]
  },
  {
   "cell_type": "code",
   "execution_count": 93,
   "metadata": {},
   "outputs": [],
   "source": [
    "labels = labels.reset_index()"
   ]
  },
  {
   "cell_type": "code",
   "execution_count": 94,
   "metadata": {},
   "outputs": [],
   "source": [
    "labels = labels.join(all_data.set_index(\"subject_id\"), how=\"inner\", on=\"subject_id\")"
   ]
  },
  {
   "cell_type": "code",
   "execution_count": 87,
   "metadata": {},
   "outputs": [],
   "source": [
    "def get_data(m_id):\n",
    "    return main.read_seq(\n",
    "        f\"/home/ms994/beat_pd/data/real-pd/training_data/smartwatch_accelerometer/{m_id}.csv\",\n",
    "        \n",
    "        use_time_index=True,\n",
    "        resample=pd.Timedelta(seconds=1/25)\n",
    "    ).fillna(method=\"bfill\").fillna(method=\"ffill\")\n",
    "def get_preprocessed_data(measurement_id, low_f=1, high_f=10):\n",
    "    data = main.read_seq(\n",
    "        f\"/home/ms994/beat_pd/data/real-pd/training_data/{measurement_id}.csv\",\n",
    "        t_colname=\"Timestamp\",\n",
    "        xyz_colnames=[\"X\", \"Y\", \"Z\"],\n",
    "        use_time_index=True,\n",
    "        resample=pd.Timedelta(seconds=1/25)\n",
    "    )\n",
    "    timeIndex = data.index\n",
    "    dataCol = data.columns\n",
    "    #50 hz, make a bandpass between 1 and 10 hz, with order of 5\n",
    "    data = butter_bandpass_filter(data, low_f, high_f, 50, 5)\n",
    "    data = pd.DataFrame(data, index=timeIndex, columns=dataCol)\n",
    "    return data"
   ]
  },
  {
   "cell_type": "code",
   "execution_count": 88,
   "metadata": {},
   "outputs": [],
   "source": [
    "def read_mid_and_split(m_id, max_window=pd.Timedelta(seconds=60), overlap=pd.Timedelta(seconds=10)):\n",
    "        data = get_data(m_id)\n",
    "        all_samples = []\n",
    "        currentIndex = pd.Timedelta(seconds=0)\n",
    "        while (currentIndex + max_window < data.index.max()):\n",
    "            all_samples.append(data.loc[currentIndex:currentIndex+max_window].fillna(method=\"ffill\").fillna(method=\"bfill\").values)\n",
    "            currentIndex += overlap\n",
    "        return all_samples"
   ]
  },
  {
   "cell_type": "code",
   "execution_count": 95,
   "metadata": {},
   "outputs": [],
   "source": [
    "all_m_id = labels.measurement_id\n",
    "test_m_id = all_m_id[0]\n",
    "all_m_id = sorted(all_m_id) #keep a constant m_id"
   ]
  },
  {
   "cell_type": "code",
   "execution_count": 96,
   "metadata": {},
   "outputs": [
    {
     "data": {
      "text/plain": [
       "'00a49337-386c-4de3-a220-4cf3c0d20a7d'"
      ]
     },
     "execution_count": 96,
     "metadata": {},
     "output_type": "execute_result"
    }
   ],
   "source": [
    "all_m_id[0]"
   ]
  },
  {
   "cell_type": "code",
   "execution_count": 97,
   "metadata": {},
   "outputs": [],
   "source": [
    "def write_data(to_run_q, to_return_q):\n",
    "        for m_id in iter(to_run_q.get, None):\n",
    "            try:\n",
    "                data_samples = read_mid_and_split(m_id) \n",
    "                label = labels[labels.measurement_id == m_id]\n",
    "                for data_sample in data_samples:\n",
    "                    to_return_q.put((data_sample, label))\n",
    "            except:\n",
    "                print(\"fail\")\n",
    "        "
   ]
  },
  {
   "cell_type": "code",
   "execution_count": 98,
   "metadata": {},
   "outputs": [
    {
     "data": {
      "text/plain": [
       "[None, None, None, None, None, None, None, None, None, None, None, None]"
      ]
     },
     "execution_count": 98,
     "metadata": {},
     "output_type": "execute_result"
    }
   ],
   "source": [
    "from multiprocessing import Process, Manager\n",
    "m = Manager()\n",
    "n_process = 12\n",
    "toRunQ = m.Queue()\n",
    "toReturnQ = m.Queue()\n",
    "p = [Process(target=write_data, args=(toRunQ, toReturnQ)) for i in range(n_process)]\n",
    "[toRunQ.put(m_id) for m_id in all_m_id]\n",
    "[toRunQ.put(None) for i in range(n_process)]"
   ]
  },
  {
   "cell_type": "code",
   "execution_count": 99,
   "metadata": {},
   "outputs": [
    {
     "name": "stdout",
     "output_type": "stream",
     "text": [
      "fail\n",
      "fail\n",
      "fail\n",
      "fail\n",
      "fail\n",
      "fail\n",
      "fail\n",
      "fail\n",
      "fail\n",
      "fail\n",
      "fail\n",
      "fail\n",
      "fail\n",
      "fail\n",
      "fail\n",
      "fail\n",
      "fail\n",
      "fail\n",
      "fail\n",
      "fail\n",
      "fail\n",
      "fail\n",
      "fail\n",
      "fail\n",
      "fail\n",
      "fail\n",
      "fail\n",
      "fail\n",
      "fail\n",
      "fail\n",
      "fail\n",
      "fail\n",
      "fail\n",
      "fail\n",
      "fail\n",
      "fail\n",
      "fail\n",
      "fail\n"
     ]
    },
    {
     "data": {
      "text/plain": [
       "[None, None, None, None, None, None, None, None, None, None, None, None]"
      ]
     },
     "execution_count": 99,
     "metadata": {},
     "output_type": "execute_result"
    },
    {
     "name": "stdout",
     "output_type": "stream",
     "text": [
      "fail\n",
      "fail\n",
      "fail\n",
      "fail\n",
      "fail\n",
      "fail\n",
      "fail\n",
      "fail\n",
      "fail\n",
      "fail\n",
      "fail\n",
      "fail\n",
      "fail\n",
      "fail\n",
      "fail\n",
      "fail\n",
      "fail\n",
      "fail\n",
      "fail\n",
      "fail\n",
      "fail\n",
      "fail\n",
      "fail\n",
      "fail\n",
      "fail\n",
      "fail\n",
      "fail\n",
      "fail\n",
      "fail\n",
      "fail\n",
      "fail\n",
      "fail\n",
      "fail\n",
      "fail\n",
      "fail\n",
      "fail\n",
      "fail\n",
      "fail\n",
      "fail\n",
      "fail\n",
      "fail\n",
      "fail\n",
      "fail\n",
      "fail\n",
      "fail\n",
      "fail\n",
      "fail\n",
      "fail\n",
      "fail\n",
      "fail\n",
      "fail\n",
      "fail\n",
      "fail\n",
      "fail\n",
      "fail\n",
      "fail\n",
      "fail\n",
      "fail\n",
      "fail\n",
      "fail\n",
      "fail\n",
      "fail\n",
      "fail\n",
      "fail\n",
      "fail\n",
      "fail\n",
      "fail\n",
      "fail\n",
      "fail\n",
      "fail\n",
      "fail\n",
      "fail\n",
      "fail\n",
      "fail\n",
      "fail\n",
      "fail\n",
      "fail\n",
      "fail\n",
      "fail\n",
      "fail\n",
      "fail\n",
      "fail\n",
      "fail\n",
      "fail\n",
      "fail\n",
      "fail\n",
      "fail\n",
      "fail\n",
      "fail\n",
      "fail\n",
      "fail\n",
      "fail\n",
      "fail\n",
      "fail\n",
      "fail\n",
      "fail\n",
      "fail\n",
      "fail\n",
      "fail\n",
      "fail\n",
      "fail\n",
      "fail\n",
      "fail\n",
      "fail\n",
      "fail\n",
      "fail\n",
      "fail\n",
      "fail\n",
      "fail\n",
      "fail\n",
      "fail\n",
      "fail\n",
      "fail\n",
      "fail\n",
      "fail\n",
      "fail\n",
      "fail\n",
      "fail\n",
      "fail\n",
      "fail\n",
      "fail\n",
      "fail\n",
      "fail\n",
      "fail\n",
      "fail\n",
      "fail\n",
      "fail\n",
      "fail\n",
      "fail\n",
      "fail\n",
      "fail\n",
      "fail\n",
      "fail\n",
      "fail\n",
      "fail\n",
      "fail\n",
      "fail\n",
      "fail\n",
      "fail\n",
      "fail\n",
      "fail\n",
      "fail\n",
      "fail\n",
      "fail\n",
      "fail\n",
      "fail\n",
      "fail\n",
      "fail\n",
      "fail\n",
      "fail\n",
      "fail\n",
      "fail\n",
      "fail\n",
      "fail\n",
      "fail\n",
      "fail\n",
      "fail\n",
      "fail\n",
      "fail\n",
      "fail\n",
      "fail\n",
      "fail\n",
      "fail\n",
      "fail\n",
      "fail\n",
      "fail\n",
      "fail\n",
      "fail\n",
      "fail\n",
      "fail\n",
      "fail\n",
      "fail\n",
      "fail\n",
      "fail\n",
      "fail\n",
      "fail\n",
      "fail\n",
      "fail\n",
      "fail\n",
      "fail\n",
      "fail\n",
      "fail\n",
      "fail\n",
      "fail\n",
      "fail\n",
      "fail\n",
      "fail\n",
      "fail\n",
      "fail\n",
      "fail\n",
      "fail\n",
      "fail\n",
      "fail\n",
      "fail\n",
      "fail\n",
      "fail\n",
      "fail\n",
      "fail\n",
      "fail\n",
      "fail\n",
      "fail\n",
      "fail\n",
      "fail\n",
      "fail\n",
      "fail\n",
      "fail\n",
      "fail\n",
      "fail\n",
      "fail\n",
      "fail\n",
      "fail\n",
      "fail\n",
      "fail\n",
      "fail\n",
      "fail\n",
      "fail\n",
      "fail\n",
      "fail\n",
      "fail\n",
      "fail\n",
      "fail\n",
      "fail\n",
      "fail\n",
      "fail\n",
      "fail\n",
      "fail\n",
      "fail\n",
      "fail\n",
      "fail\n",
      "fail\n",
      "fail\n",
      "fail\n",
      "fail\n",
      "fail\n",
      "fail\n",
      "fail\n",
      "fail\n",
      "fail\n",
      "fail\n",
      "fail\n",
      "fail\n",
      "fail\n",
      "fail\n",
      "fail\n",
      "fail\n",
      "fail\n",
      "fail\n",
      "fail\n",
      "fail\n",
      "fail\n",
      "fail\n",
      "fail\n",
      "fail\n",
      "fail\n",
      "fail\n",
      "fail\n",
      "fail\n",
      "fail\n",
      "fail\n",
      "fail\n",
      "fail\n",
      "fail\n",
      "fail\n",
      "fail\n",
      "fail\n",
      "fail\n",
      "fail\n",
      "fail\n",
      "fail\n",
      "fail\n",
      "fail\n",
      "fail\n",
      "fail\n",
      "fail\n",
      "fail\n",
      "fail\n",
      "fail\n",
      "fail\n",
      "fail\n",
      "fail\n",
      "fail\n",
      "fail\n",
      "fail\n",
      "fail\n",
      "fail\n",
      "fail\n",
      "fail\n",
      "fail\n",
      "fail\n",
      "fail\n",
      "fail\n",
      "fail\n",
      "fail\n",
      "fail\n",
      "fail\n",
      "fail\n",
      "fail\n",
      "fail\n",
      "fail\n",
      "fail\n",
      "fail\n",
      "fail\n",
      "fail\n",
      "fail\n",
      "fail\n",
      "fail\n",
      "fail\n",
      "fail\n",
      "fail\n",
      "fail\n",
      "fail\n",
      "fail\n",
      "fail\n",
      "fail\n",
      "fail\n",
      "fail\n",
      "fail\n",
      "fail\n",
      "fail\n",
      "fail\n",
      "fail\n",
      "fail\n",
      "fail\n",
      "fail\n",
      "fail\n",
      "fail\n",
      "fail\n",
      "fail\n",
      "fail\n",
      "fail\n",
      "fail\n",
      "fail\n",
      "fail\n",
      "fail\n",
      "fail\n",
      "fail\n",
      "fail\n",
      "fail\n",
      "fail\n",
      "fail\n",
      "fail\n",
      "fail\n",
      "fail\n",
      "fail\n",
      "fail\n",
      "fail\n",
      "fail\n",
      "fail\n",
      "fail\n",
      "fail\n",
      "fail\n",
      "fail\n",
      "fail\n",
      "fail\n",
      "fail\n",
      "fail\n",
      "fail\n",
      "fail\n",
      "fail\n",
      "fail\n",
      "fail\n",
      "fail\n",
      "fail\n",
      "fail\n",
      "fail\n",
      "fail\n",
      "fail\n",
      "fail\n",
      "fail\n",
      "fail\n",
      "fail\n",
      "fail\n",
      "fail\n",
      "fail\n",
      "fail\n",
      "fail\n",
      "fail\n",
      "fail\n",
      "fail\n",
      "fail\n",
      "fail\n",
      "fail\n",
      "fail\n",
      "fail\n",
      "fail\n",
      "fail\n",
      "fail\n",
      "fail\n",
      "fail\n",
      "fail\n",
      "fail\n",
      "fail\n",
      "fail\n",
      "fail\n",
      "fail\n",
      "fail\n",
      "fail\n",
      "fail\n",
      "fail\n",
      "fail\n",
      "fail\n",
      "fail\n",
      "fail\n",
      "fail\n",
      "fail\n",
      "fail\n",
      "fail\n",
      "fail\n",
      "fail\n",
      "fail\n",
      "fail\n",
      "fail\n",
      "fail\n",
      "fail\n",
      "fail\n",
      "fail\n",
      "fail\n",
      "fail\n",
      "fail\n",
      "fail\n",
      "fail\n",
      "fail\n",
      "fail\n",
      "fail\n",
      "fail\n",
      "fail\n",
      "fail\n",
      "fail\n",
      "fail\n",
      "fail\n",
      "fail\n",
      "fail\n",
      "fail\n",
      "fail\n",
      "fail\n",
      "fail\n",
      "fail\n",
      "fail\n",
      "fail\n",
      "fail\n",
      "fail\n",
      "fail\n",
      "fail\n",
      "fail\n",
      "fail\n",
      "fail\n",
      "fail\n",
      "fail\n",
      "fail\n",
      "fail\n",
      "fail\n",
      "fail\n",
      "fail\n",
      "fail\n",
      "fail\n",
      "fail\n",
      "fail\n",
      "fail\n",
      "fail\n",
      "fail\n",
      "fail\n",
      "fail\n",
      "fail\n",
      "fail\n",
      "fail\n",
      "fail\n",
      "fail\n",
      "fail\n",
      "fail\n",
      "fail\n",
      "fail\n",
      "fail\n",
      "fail\n",
      "fail\n",
      "fail\n",
      "fail\n",
      "fail\n",
      "fail\n",
      "fail\n",
      "fail\n",
      "fail\n",
      "fail\n",
      "fail\n",
      "fail\n",
      "fail\n",
      "fail\n",
      "fail\n",
      "fail\n",
      "fail\n",
      "fail\n",
      "fail\n",
      "fail\n",
      "fail\n",
      "fail\n",
      "fail\n",
      "fail\n",
      "fail\n",
      "fail\n",
      "fail\n",
      "fail\n",
      "fail\n",
      "fail\n",
      "fail\n",
      "fail\n",
      "fail\n",
      "fail\n",
      "fail\n",
      "fail\n"
     ]
    }
   ],
   "source": [
    "[process.start() for process in p]"
   ]
  },
  {
   "cell_type": "code",
   "execution_count": 102,
   "metadata": {},
   "outputs": [
    {
     "data": {
      "text/plain": [
       "58478"
      ]
     },
     "execution_count": 102,
     "metadata": {},
     "output_type": "execute_result"
    }
   ],
   "source": [
    "toReturnQ.qsize()"
   ]
  },
  {
   "cell_type": "code",
   "execution_count": 100,
   "metadata": {},
   "outputs": [
    {
     "data": {
      "text/plain": [
       "[None, None, None, None, None, None, None, None, None, None, None, None]"
      ]
     },
     "execution_count": 100,
     "metadata": {},
     "output_type": "execute_result"
    }
   ],
   "source": [
    "[process.join() for process in p]"
   ]
  },
  {
   "cell_type": "code",
   "execution_count": 132,
   "metadata": {},
   "outputs": [
    {
     "data": {
      "text/plain": [
       "0"
      ]
     },
     "execution_count": 132,
     "metadata": {},
     "output_type": "execute_result"
    }
   ],
   "source": [
    "toRunQ.qsize()"
   ]
  },
  {
   "cell_type": "code",
   "execution_count": 103,
   "metadata": {},
   "outputs": [],
   "source": [
    "all_subjects = sorted(labels.subject_id.unique())"
   ]
  },
  {
   "cell_type": "code",
   "execution_count": 104,
   "metadata": {},
   "outputs": [],
   "source": [
    "def gen():\n",
    "    while not toRunQ.empty() and not toReturnQ.empty():\n",
    "        data = toReturnQ.get()\n",
    "        yield parse_datum(data).SerializeToString()"
   ]
  },
  {
   "cell_type": "code",
   "execution_count": 105,
   "metadata": {},
   "outputs": [],
   "source": [
    "allResults = []\n",
    "while not toReturnQ.empty():\n",
    "    allResults.append(toReturnQ.get())"
   ]
  },
  {
   "cell_type": "code",
   "execution_count": 106,
   "metadata": {},
   "outputs": [],
   "source": [
    "from random import shuffle\n",
    "shuffle(allResults)"
   ]
  },
  {
   "cell_type": "code",
   "execution_count": 112,
   "metadata": {},
   "outputs": [
    {
     "data": {
      "text/plain": [
       "0"
      ]
     },
     "execution_count": 112,
     "metadata": {},
     "output_type": "execute_result"
    }
   ],
   "source": [
    "sum([np.isnan(res[0]).any() for res in allResults])"
   ]
  },
  {
   "cell_type": "code",
   "execution_count": 110,
   "metadata": {},
   "outputs": [],
   "source": [
    "import pickle as pkl\n",
    "pkl.dump(allResults, open(\"/n/scratch2/ms994/realPDdata.pkl\",\"wb\"))"
   ]
  },
  {
   "cell_type": "code",
   "execution_count": null,
   "metadata": {},
   "outputs": [],
   "source": [
    "all"
   ]
  },
  {
   "cell_type": "code",
   "execution_count": 111,
   "metadata": {},
   "outputs": [],
   "source": [
    "allResults = pkl.load(open(\"/n/scratch2/ms994/realPDdata.pkl\",\"rb\"))"
   ]
  },
  {
   "cell_type": "markdown",
   "metadata": {},
   "source": [
    "## Eval"
   ]
  },
  {
   "cell_type": "code",
   "execution_count": 5,
   "metadata": {},
   "outputs": [],
   "source": [
    "import glob\n",
    "import pandas as pd"
   ]
  },
  {
   "cell_type": "code",
   "execution_count": 6,
   "metadata": {},
   "outputs": [],
   "source": [
    "eval_set = glob.glob(\"/home/ms994/beat_pd/data/test_set/real-pd/testing_data/smartwatch_accelerometer/*.csv\")"
   ]
  },
  {
   "cell_type": "code",
   "execution_count": 7,
   "metadata": {},
   "outputs": [],
   "source": [
    "def get_data(m_id):\n",
    "    return main.read_seq(\n",
    "        f\"{m_id}\",\n",
    "        use_time_index=True,\n",
    "        resample=pd.Timedelta(seconds=1/25)\n",
    "    ).fillna(method=\"ffill\").fillna(method=\"bfill\")\n",
    "def read_mid_and_split(m_id, max_window=pd.Timedelta(seconds=60), overlap=pd.Timedelta(seconds=10)):\n",
    "    try:\n",
    "        data = get_data(m_id)\n",
    "        all_samples = []\n",
    "        currentIndex = pd.Timedelta(seconds=0)\n",
    "        while (currentIndex + max_window < data.index.max()):\n",
    "            all_samples.append(data.loc[currentIndex:currentIndex+max_window].fillna(method=\"ffill\").fillna(method=\"bfill\").values)\n",
    "            currentIndex += overlap\n",
    "        return all_samples\n",
    "    except:\n",
    "        return []"
   ]
  },
  {
   "cell_type": "code",
   "execution_count": 8,
   "metadata": {},
   "outputs": [],
   "source": [
    "def write_data(to_run_q, to_return_q):\n",
    "    for m_id in iter(to_run_q.get, None):\n",
    "        data_samples = read_mid_and_split(m_id) \n",
    "        for data_sample in data_samples:\n",
    "            to_return_q.put((data_sample, m_id))"
   ]
  },
  {
   "cell_type": "code",
   "execution_count": 10,
   "metadata": {},
   "outputs": [
    {
     "data": {
      "text/plain": [
       "[None, None, None, None, None, None, None, None, None, None, None, None]"
      ]
     },
     "execution_count": 10,
     "metadata": {},
     "output_type": "execute_result"
    }
   ],
   "source": [
    "from multiprocessing import Process, Manager\n",
    "m = Manager()\n",
    "n_process = 12\n",
    "toRunQ = m.Queue()\n",
    "toReturnQ = m.Queue()\n",
    "p = [Process(target=write_data, args=(toRunQ, toReturnQ)) for i in range(n_process)]\n",
    "[toRunQ.put(m_id) for m_id in eval_set]\n",
    "[toRunQ.put(None) for i in range(n_process)]"
   ]
  },
  {
   "cell_type": "code",
   "execution_count": 11,
   "metadata": {},
   "outputs": [
    {
     "data": {
      "text/plain": [
       "[None, None, None, None, None, None, None, None, None, None, None, None]"
      ]
     },
     "execution_count": 11,
     "metadata": {},
     "output_type": "execute_result"
    }
   ],
   "source": [
    "[process.start() for process in p]"
   ]
  },
  {
   "cell_type": "code",
   "execution_count": 12,
   "metadata": {},
   "outputs": [
    {
     "data": {
      "text/plain": [
       "[None, None, None, None, None, None, None, None, None, None, None, None]"
      ]
     },
     "execution_count": 12,
     "metadata": {},
     "output_type": "execute_result"
    }
   ],
   "source": [
    "[process.join() for process in p]"
   ]
  },
  {
   "cell_type": "code",
   "execution_count": 15,
   "metadata": {},
   "outputs": [
    {
     "data": {
      "text/plain": [
       "19071"
      ]
     },
     "execution_count": 15,
     "metadata": {},
     "output_type": "execute_result"
    }
   ],
   "source": [
    "toReturnQ.qsize()"
   ]
  },
  {
   "cell_type": "code",
   "execution_count": null,
   "metadata": {},
   "outputs": [],
   "source": [
    "all_subjects = sorted(labels.subject_id.unique())"
   ]
  },
  {
   "cell_type": "code",
   "execution_count": 14,
   "metadata": {},
   "outputs": [],
   "source": [
    "def gen():\n",
    "    while not toRunQ.empty() and not toReturnQ.empty():\n",
    "        data = toReturnQ.get()\n",
    "        yield parse_datum(data).SerializeToString()"
   ]
  },
  {
   "cell_type": "code",
   "execution_count": 16,
   "metadata": {},
   "outputs": [],
   "source": [
    "allEvalResults = []\n",
    "while not toReturnQ.empty():\n",
    "    allEvalResults.append(toReturnQ.get())"
   ]
  },
  {
   "cell_type": "code",
   "execution_count": 17,
   "metadata": {},
   "outputs": [],
   "source": [
    "from random import shuffle\n",
    "shuffle(allEvalResults)"
   ]
  },
  {
   "cell_type": "code",
   "execution_count": 18,
   "metadata": {},
   "outputs": [
    {
     "data": {
      "text/plain": [
       "19071"
      ]
     },
     "execution_count": 18,
     "metadata": {},
     "output_type": "execute_result"
    }
   ],
   "source": [
    "len(allEvalResults)"
   ]
  },
  {
   "cell_type": "code",
   "execution_count": 20,
   "metadata": {},
   "outputs": [],
   "source": [
    "import pickle as pkl\n",
    "pkl.dump(allEvalResults, open(\"/n/scratch2/ms994/realpdSmartwatchEvalset.pkl\", \"wb\"))"
   ]
  },
  {
   "cell_type": "markdown",
   "metadata": {},
   "source": [
    "# Real PD Smartphone Accel"
   ]
  },
  {
   "cell_type": "code",
   "execution_count": 25,
   "metadata": {},
   "outputs": [
    {
     "name": "stdout",
     "output_type": "stream",
     "text": [
      "smartphone_accelerometer\n",
      "smartwatch_accelerometer\n",
      "smartwatch_gyroscope\n"
     ]
    }
   ],
   "source": [
    "%%bash\n",
    "ls /home/ms994/beat_pd/data/test_set/real-pd/testing_data/"
   ]
  },
  {
   "cell_type": "code",
   "execution_count": 26,
   "metadata": {},
   "outputs": [],
   "source": [
    "labels = pd.read_csv(\"/home/ms994/beat_pd/data/real-pd/data_labels/REAL-PD_Training_Data_IDs_Labels.csv\")\n",
    "additional_labels = pd.read_csv(\"/home/ms994/beat_pd/data/real-pd/data_labels/REAL-PD_Ancillary_Data_IDs_Labels.csv\")"
   ]
  },
  {
   "cell_type": "code",
   "execution_count": 27,
   "metadata": {},
   "outputs": [],
   "source": [
    "demo_data = pd.read_csv(\"/home/ms994/beat_pd/data/real-pd/clinical_data/REAL-PD_Demographics.csv\")\n",
    "updrs_1 = pd.read_csv(\"/home/ms994/beat_pd/data/real-pd/clinical_data/REAL-PD_UPDRS_Part1_2_4.csv\")\n",
    "updrs_2 = pd.read_csv(\"/home/ms994/beat_pd/data/real-pd/clinical_data/REAL-PD_UPDRS_Part3.csv\")"
   ]
  },
  {
   "cell_type": "code",
   "execution_count": 28,
   "metadata": {},
   "outputs": [],
   "source": [
    "all_data = demo_data.join(updrs_1.set_index(\"subject_id\"), on=\"subject_id\").join(updrs_2.set_index(\"subject_id\"))"
   ]
  },
  {
   "cell_type": "code",
   "execution_count": 29,
   "metadata": {},
   "outputs": [],
   "source": [
    "labels = pd.concat([labels, additional_labels])"
   ]
  },
  {
   "cell_type": "code",
   "execution_count": 30,
   "metadata": {},
   "outputs": [],
   "source": [
    "labels = labels.reset_index()"
   ]
  },
  {
   "cell_type": "code",
   "execution_count": 31,
   "metadata": {},
   "outputs": [],
   "source": [
    "labels = labels.join(all_data.set_index(\"subject_id\"), how=\"inner\", on=\"subject_id\")"
   ]
  },
  {
   "cell_type": "code",
   "execution_count": 32,
   "metadata": {},
   "outputs": [],
   "source": [
    "def get_data(m_id):\n",
    "    return main.read_seq(\n",
    "        f\"/home/ms994/beat_pd/data/real-pd/training_data/smartphone_accelerometer/{m_id}.csv\",\n",
    "        \n",
    "        use_time_index=True,\n",
    "        resample=pd.Timedelta(seconds=1/25)\n",
    "    ).fillna(method=\"bfill\").fillna(method=\"ffill\")\n",
    "def get_preprocessed_data(measurement_id, low_f=1, high_f=10):\n",
    "    data = main.read_seq(\n",
    "        f\"/home/ms994/beat_pd/data/real-pd/training_data/{measurement_id}.csv\",\n",
    "        t_colname=\"Timestamp\",\n",
    "        xyz_colnames=[\"X\", \"Y\", \"Z\"],\n",
    "        use_time_index=True,\n",
    "        resample=pd.Timedelta(seconds=1/25)\n",
    "    )\n",
    "    timeIndex = data.index\n",
    "    dataCol = data.columns\n",
    "    #50 hz, make a bandpass between 1 and 10 hz, with order of 5\n",
    "    data = butter_bandpass_filter(data, low_f, high_f, 50, 5)\n",
    "    data = pd.DataFrame(data, index=timeIndex, columns=dataCol)\n",
    "    return data"
   ]
  },
  {
   "cell_type": "code",
   "execution_count": 33,
   "metadata": {},
   "outputs": [],
   "source": [
    "def read_mid_and_split(m_id, max_window=pd.Timedelta(seconds=60), overlap=pd.Timedelta(seconds=10)):\n",
    "        data = get_data(m_id)\n",
    "        all_samples = []\n",
    "        currentIndex = pd.Timedelta(seconds=0)\n",
    "        while (currentIndex + max_window < data.index.max()):\n",
    "            all_samples.append(data.loc[currentIndex:currentIndex+max_window].fillna(method=\"ffill\").fillna(method=\"bfill\").values)\n",
    "            currentIndex += overlap\n",
    "        return all_samples"
   ]
  },
  {
   "cell_type": "code",
   "execution_count": 34,
   "metadata": {},
   "outputs": [],
   "source": [
    "all_m_id = labels.measurement_id\n",
    "test_m_id = all_m_id[0]\n",
    "all_m_id = sorted(all_m_id) #keep a constant m_id"
   ]
  },
  {
   "cell_type": "code",
   "execution_count": 35,
   "metadata": {},
   "outputs": [
    {
     "data": {
      "text/plain": [
       "'00a49337-386c-4de3-a220-4cf3c0d20a7d'"
      ]
     },
     "execution_count": 35,
     "metadata": {},
     "output_type": "execute_result"
    }
   ],
   "source": [
    "all_m_id[0]"
   ]
  },
  {
   "cell_type": "code",
   "execution_count": 36,
   "metadata": {},
   "outputs": [],
   "source": [
    "def write_data(to_run_q, to_return_q):\n",
    "        for m_id in iter(to_run_q.get, None):\n",
    "            try:\n",
    "                data_samples = read_mid_and_split(m_id) \n",
    "                label = labels[labels.measurement_id == m_id]\n",
    "                for data_sample in data_samples:\n",
    "                    to_return_q.put((data_sample, label))\n",
    "            except:\n",
    "                print(\"fail\")\n",
    "        "
   ]
  },
  {
   "cell_type": "code",
   "execution_count": 37,
   "metadata": {},
   "outputs": [
    {
     "data": {
      "text/plain": [
       "[None, None, None, None, None, None, None, None, None, None, None, None]"
      ]
     },
     "execution_count": 37,
     "metadata": {},
     "output_type": "execute_result"
    }
   ],
   "source": [
    "from multiprocessing import Process, Manager\n",
    "m = Manager()\n",
    "n_process = 12\n",
    "toRunQ = m.Queue()\n",
    "toReturnQ = m.Queue()\n",
    "p = [Process(target=write_data, args=(toRunQ, toReturnQ)) for i in range(n_process)]\n",
    "[toRunQ.put(m_id) for m_id in all_m_id]\n",
    "[toRunQ.put(None) for i in range(n_process)]"
   ]
  },
  {
   "cell_type": "code",
   "execution_count": 38,
   "metadata": {},
   "outputs": [
    {
     "name": "stdout",
     "output_type": "stream",
     "text": [
      "fail\n",
      "fail\n",
      "fail\n",
      "fail\n",
      "fail\n",
      "fail\n",
      "fail\n"
     ]
    },
    {
     "data": {
      "text/plain": [
       "[None, None, None, None, None, None, None, None, None, None, None, None]"
      ]
     },
     "execution_count": 38,
     "metadata": {},
     "output_type": "execute_result"
    },
    {
     "name": "stdout",
     "output_type": "stream",
     "text": [
      "fail\n",
      "fail\n",
      "fail\n",
      "fail\n",
      "fail\n",
      "fail\n",
      "fail\n",
      "fail\n",
      "fail\n",
      "fail\n",
      "fail\n",
      "fail\n",
      "fail\n",
      "fail\n",
      "fail\n",
      "fail\n",
      "fail\n",
      "fail\n",
      "fail\n",
      "fail\n",
      "fail\n",
      "fail\n",
      "fail\n",
      "fail\n",
      "fail\n",
      "fail\n",
      "fail\n",
      "fail\n",
      "fail\n",
      "fail\n",
      "fail\n",
      "fail\n",
      "fail\n",
      "fail\n",
      "fail\n",
      "fail\n",
      "fail\n",
      "fail\n",
      "fail\n",
      "fail\n",
      "fail\n",
      "fail\n",
      "fail\n",
      "fail\n",
      "fail\n",
      "fail\n",
      "fail\n",
      "fail\n",
      "fail\n",
      "fail\n",
      "fail\n",
      "fail\n",
      "fail\n",
      "fail\n",
      "fail\n",
      "fail\n",
      "fail\n",
      "fail\n",
      "fail\n",
      "fail\n",
      "fail\n",
      "fail\n",
      "fail\n",
      "fail\n",
      "fail\n",
      "fail\n",
      "fail\n",
      "fail\n",
      "fail\n",
      "fail\n",
      "fail\n",
      "fail\n",
      "fail\n",
      "fail\n",
      "fail\n",
      "fail\n",
      "fail\n",
      "fail\n",
      "fail\n",
      "fail\n",
      "fail\n",
      "fail\n",
      "fail\n",
      "fail\n",
      "fail\n",
      "fail\n",
      "fail\n",
      "fail\n",
      "fail\n",
      "fail\n",
      "fail\n",
      "fail\n",
      "fail\n",
      "fail\n",
      "fail\n",
      "fail\n",
      "fail\n",
      "fail\n",
      "fail\n",
      "fail\n",
      "fail\n",
      "fail\n",
      "fail\n",
      "fail\n",
      "fail\n",
      "fail\n",
      "fail\n",
      "fail\n",
      "fail\n",
      "fail\n",
      "fail\n",
      "fail\n",
      "fail\n",
      "fail\n",
      "fail\n",
      "fail\n",
      "fail\n",
      "fail\n",
      "fail\n",
      "fail\n",
      "fail\n",
      "fail\n",
      "fail\n",
      "fail\n",
      "fail\n",
      "fail\n",
      "fail\n",
      "fail\n",
      "fail\n",
      "fail\n",
      "fail\n",
      "fail\n",
      "fail\n",
      "fail\n",
      "fail\n",
      "fail\n",
      "fail\n",
      "fail\n",
      "fail\n",
      "fail\n",
      "fail\n",
      "fail\n",
      "fail\n",
      "fail\n",
      "fail\n",
      "fail\n",
      "fail\n",
      "fail\n",
      "fail\n",
      "fail\n",
      "fail\n",
      "fail\n",
      "fail\n",
      "fail\n",
      "fail\n",
      "fail\n",
      "fail\n",
      "fail\n",
      "fail\n",
      "fail\n",
      "fail\n",
      "fail\n",
      "fail\n",
      "fail\n",
      "fail\n",
      "fail\n",
      "fail\n",
      "fail\n",
      "fail\n",
      "fail\n",
      "fail\n",
      "fail\n",
      "fail\n",
      "fail\n",
      "fail\n",
      "fail\n",
      "fail\n",
      "fail\n",
      "fail\n",
      "fail\n",
      "fail\n",
      "fail\n",
      "fail\n",
      "fail\n",
      "fail\n",
      "fail\n",
      "fail\n",
      "fail\n",
      "fail\n",
      "fail\n",
      "fail\n",
      "fail\n",
      "fail\n",
      "fail\n",
      "fail\n",
      "fail\n",
      "fail\n",
      "fail\n",
      "fail\n",
      "fail\n",
      "fail\n",
      "fail\n",
      "fail\n",
      "fail\n",
      "fail\n",
      "fail\n",
      "fail\n",
      "fail\n",
      "fail\n",
      "fail\n",
      "fail\n",
      "fail\n",
      "fail\n",
      "fail\n",
      "fail\n",
      "fail\n",
      "fail\n",
      "fail\n",
      "fail\n",
      "fail\n",
      "fail\n",
      "fail\n",
      "fail\n",
      "fail\n",
      "fail\n",
      "fail\n",
      "fail\n",
      "fail\n",
      "fail\n",
      "fail\n",
      "fail\n",
      "fail\n",
      "fail\n",
      "fail\n",
      "fail\n",
      "fail\n",
      "fail\n",
      "fail\n",
      "fail\n",
      "fail\n",
      "fail\n",
      "fail\n",
      "fail\n",
      "fail\n",
      "fail\n",
      "fail\n",
      "fail\n",
      "fail\n",
      "fail\n",
      "fail\n",
      "fail\n",
      "fail\n",
      "fail\n",
      "fail\n",
      "fail\n",
      "fail\n",
      "fail\n",
      "fail\n",
      "fail\n",
      "fail\n",
      "fail\n",
      "fail\n",
      "fail\n",
      "fail\n",
      "fail\n",
      "fail\n",
      "fail\n",
      "fail\n",
      "fail\n",
      "fail\n",
      "fail\n",
      "fail\n",
      "fail\n",
      "fail\n",
      "fail\n",
      "fail\n",
      "fail\n",
      "fail\n",
      "fail\n",
      "fail\n",
      "fail\n",
      "fail\n",
      "fail\n",
      "fail\n",
      "fail\n",
      "fail\n",
      "fail\n",
      "fail\n",
      "fail\n",
      "fail\n",
      "fail\n",
      "fail\n",
      "fail\n",
      "fail\n",
      "fail\n",
      "fail\n",
      "fail\n",
      "fail\n",
      "fail\n",
      "fail\n",
      "fail\n",
      "fail\n",
      "fail\n",
      "fail\n",
      "fail\n",
      "fail\n",
      "fail\n",
      "fail\n",
      "fail\n",
      "fail\n",
      "fail\n",
      "fail\n",
      "fail\n",
      "fail\n",
      "fail\n",
      "fail\n",
      "fail\n",
      "fail\n",
      "fail\n",
      "fail\n",
      "fail\n",
      "fail\n",
      "fail\n",
      "fail\n",
      "fail\n",
      "fail\n",
      "fail\n",
      "fail\n",
      "fail\n",
      "fail\n",
      "fail\n",
      "fail\n",
      "fail\n",
      "fail\n",
      "fail\n",
      "fail\n",
      "fail\n",
      "fail\n",
      "fail\n",
      "fail\n",
      "fail\n",
      "fail\n",
      "fail\n",
      "fail\n",
      "fail\n",
      "fail\n",
      "fail\n",
      "fail\n",
      "fail\n",
      "fail\n",
      "fail\n",
      "fail\n",
      "fail\n",
      "fail\n",
      "fail\n",
      "fail\n",
      "fail\n",
      "fail\n",
      "fail\n",
      "fail\n",
      "fail\n",
      "fail\n",
      "fail\n",
      "fail\n",
      "fail\n",
      "fail\n",
      "fail\n",
      "fail\n",
      "fail\n",
      "fail\n",
      "fail\n",
      "fail\n",
      "fail\n",
      "fail\n",
      "fail\n",
      "fail\n",
      "fail\n",
      "fail\n",
      "fail\n",
      "fail\n",
      "fail\n",
      "fail\n",
      "fail\n",
      "fail\n",
      "fail\n",
      "fail\n",
      "fail\n",
      "fail\n",
      "fail\n",
      "fail\n",
      "fail\n",
      "fail\n",
      "fail\n",
      "fail\n",
      "fail\n",
      "fail\n",
      "fail\n",
      "fail\n",
      "fail\n",
      "fail\n",
      "fail\n",
      "fail\n",
      "fail\n",
      "fail\n",
      "fail\n",
      "fail\n",
      "fail\n",
      "fail\n",
      "fail\n",
      "fail\n",
      "fail\n",
      "fail\n",
      "fail\n",
      "fail\n",
      "fail\n",
      "fail\n",
      "fail\n",
      "fail\n",
      "fail\n",
      "fail\n",
      "fail\n",
      "fail\n",
      "fail\n",
      "fail\n",
      "fail\n",
      "fail\n",
      "fail\n",
      "fail\n",
      "fail\n",
      "fail\n",
      "fail\n",
      "fail\n",
      "fail\n",
      "fail\n",
      "fail\n",
      "fail\n",
      "fail\n",
      "fail\n",
      "fail\n",
      "fail\n",
      "fail\n",
      "fail\n",
      "fail\n",
      "fail\n",
      "fail\n",
      "fail\n",
      "fail\n",
      "fail\n",
      "fail\n",
      "fail\n",
      "fail\n",
      "fail\n",
      "fail\n",
      "fail\n",
      "fail\n",
      "fail\n",
      "fail\n",
      "fail\n",
      "fail\n",
      "fail\n",
      "fail\n",
      "fail\n",
      "fail\n",
      "fail\n",
      "fail\n",
      "fail\n",
      "fail\n",
      "fail\n",
      "fail\n",
      "fail\n",
      "fail\n",
      "fail\n",
      "fail\n",
      "fail\n",
      "fail\n",
      "fail\n",
      "fail\n",
      "fail\n",
      "fail\n",
      "fail\n",
      "fail\n",
      "fail\n",
      "fail\n",
      "fail\n",
      "fail\n",
      "fail\n",
      "fail\n",
      "fail\n",
      "fail\n",
      "fail\n",
      "fail\n",
      "fail\n",
      "fail\n",
      "fail\n",
      "fail\n",
      "fail\n",
      "fail\n",
      "fail\n",
      "fail\n",
      "fail\n",
      "fail\n",
      "fail\n",
      "fail\n",
      "fail\n",
      "fail\n",
      "fail\n",
      "fail\n",
      "fail\n",
      "fail\n",
      "fail\n",
      "fail\n",
      "fail\n",
      "fail\n",
      "fail\n",
      "fail\n",
      "fail\n",
      "fail\n",
      "fail\n",
      "fail\n",
      "fail\n",
      "fail\n",
      "fail\n",
      "fail\n",
      "fail\n",
      "fail\n",
      "fail\n",
      "fail\n",
      "fail\n",
      "fail\n",
      "fail\n",
      "fail\n",
      "fail\n",
      "fail\n",
      "fail\n",
      "fail\n",
      "fail\n",
      "fail\n",
      "fail\n",
      "fail\n",
      "fail\n",
      "fail\n",
      "fail\n",
      "fail\n",
      "fail\n",
      "fail\n",
      "fail\n",
      "fail\n",
      "fail\n"
     ]
    }
   ],
   "source": [
    "[process.start() for process in p]"
   ]
  },
  {
   "cell_type": "code",
   "execution_count": 102,
   "metadata": {},
   "outputs": [
    {
     "data": {
      "text/plain": [
       "58478"
      ]
     },
     "execution_count": 102,
     "metadata": {},
     "output_type": "execute_result"
    }
   ],
   "source": [
    "toReturnQ.qsize()"
   ]
  },
  {
   "cell_type": "code",
   "execution_count": 39,
   "metadata": {},
   "outputs": [
    {
     "data": {
      "text/plain": [
       "[None, None, None, None, None, None, None, None, None, None, None, None]"
      ]
     },
     "execution_count": 39,
     "metadata": {},
     "output_type": "execute_result"
    }
   ],
   "source": [
    "[process.join() for process in p]"
   ]
  },
  {
   "cell_type": "code",
   "execution_count": 132,
   "metadata": {},
   "outputs": [
    {
     "data": {
      "text/plain": [
       "0"
      ]
     },
     "execution_count": 132,
     "metadata": {},
     "output_type": "execute_result"
    }
   ],
   "source": [
    "toRunQ.qsize()"
   ]
  },
  {
   "cell_type": "code",
   "execution_count": 40,
   "metadata": {},
   "outputs": [],
   "source": [
    "all_subjects = sorted(labels.subject_id.unique())"
   ]
  },
  {
   "cell_type": "code",
   "execution_count": 104,
   "metadata": {},
   "outputs": [],
   "source": [
    "def gen():\n",
    "    while not toRunQ.empty() and not toReturnQ.empty():\n",
    "        data = toReturnQ.get()\n",
    "        yield parse_datum(data).SerializeToString()"
   ]
  },
  {
   "cell_type": "code",
   "execution_count": 41,
   "metadata": {},
   "outputs": [],
   "source": [
    "allResults = []\n",
    "while not toReturnQ.empty():\n",
    "    allResults.append(toReturnQ.get())"
   ]
  },
  {
   "cell_type": "code",
   "execution_count": 42,
   "metadata": {},
   "outputs": [],
   "source": [
    "from random import shuffle\n",
    "shuffle(allResults)"
   ]
  },
  {
   "cell_type": "code",
   "execution_count": 46,
   "metadata": {},
   "outputs": [
    {
     "data": {
      "text/plain": [
       "0"
      ]
     },
     "execution_count": 46,
     "metadata": {},
     "output_type": "execute_result"
    }
   ],
   "source": [
    "sum([np.isnan(res[0]).any() for res in allResults])"
   ]
  },
  {
   "cell_type": "code",
   "execution_count": 44,
   "metadata": {},
   "outputs": [],
   "source": [
    "import pickle as pkl\n",
    "pkl.dump(allResults, open(\"/n/scratch2/ms994/realPDSmartphoneAcceldata.pkl\",\"wb\"))"
   ]
  },
  {
   "cell_type": "code",
   "execution_count": 45,
   "metadata": {},
   "outputs": [],
   "source": [
    "allResults = pkl.load(open(\"/n/scratch2/ms994/realPDSmartphoneAcceldata.pkl\",\"rb\"))"
   ]
  },
  {
   "cell_type": "code",
   "execution_count": null,
   "metadata": {},
   "outputs": [],
   "source": []
  },
  {
   "cell_type": "markdown",
   "metadata": {},
   "source": [
    "## Eval"
   ]
  },
  {
   "cell_type": "code",
   "execution_count": 47,
   "metadata": {},
   "outputs": [],
   "source": [
    "import glob\n",
    "import pandas as pd"
   ]
  },
  {
   "cell_type": "code",
   "execution_count": 48,
   "metadata": {},
   "outputs": [],
   "source": [
    "eval_set = glob.glob(\"/home/ms994/beat_pd/data/test_set/real-pd/testing_data/smartphone_accelerometer/*.csv\")"
   ]
  },
  {
   "cell_type": "code",
   "execution_count": 49,
   "metadata": {},
   "outputs": [],
   "source": [
    "def get_data(m_id):\n",
    "    return main.read_seq(\n",
    "        f\"{m_id}\",\n",
    "        use_time_index=True,\n",
    "        resample=pd.Timedelta(seconds=1/25)\n",
    "    ).fillna(method=\"ffill\").fillna(method=\"bfill\")\n",
    "def read_mid_and_split(m_id, max_window=pd.Timedelta(seconds=60), overlap=pd.Timedelta(seconds=10)):\n",
    "    try:\n",
    "        data = get_data(m_id)\n",
    "        all_samples = []\n",
    "        currentIndex = pd.Timedelta(seconds=0)\n",
    "        while (currentIndex + max_window < data.index.max()):\n",
    "            all_samples.append(data.loc[currentIndex:currentIndex+max_window].fillna(method=\"ffill\").fillna(method=\"bfill\").values)\n",
    "            currentIndex += overlap\n",
    "        return all_samples\n",
    "    except:\n",
    "        return []"
   ]
  },
  {
   "cell_type": "code",
   "execution_count": 50,
   "metadata": {},
   "outputs": [],
   "source": [
    "def write_data(to_run_q, to_return_q):\n",
    "    for m_id in iter(to_run_q.get, None):\n",
    "        data_samples = read_mid_and_split(m_id) \n",
    "        for data_sample in data_samples:\n",
    "            to_return_q.put((data_sample, m_id))"
   ]
  },
  {
   "cell_type": "code",
   "execution_count": 51,
   "metadata": {},
   "outputs": [
    {
     "data": {
      "text/plain": [
       "[None, None, None, None, None, None, None, None, None, None, None, None]"
      ]
     },
     "execution_count": 51,
     "metadata": {},
     "output_type": "execute_result"
    }
   ],
   "source": [
    "from multiprocessing import Process, Manager\n",
    "m = Manager()\n",
    "n_process = 12\n",
    "toRunQ = m.Queue()\n",
    "toReturnQ = m.Queue()\n",
    "p = [Process(target=write_data, args=(toRunQ, toReturnQ)) for i in range(n_process)]\n",
    "[toRunQ.put(m_id) for m_id in eval_set]\n",
    "[toRunQ.put(None) for i in range(n_process)]"
   ]
  },
  {
   "cell_type": "code",
   "execution_count": 11,
   "metadata": {},
   "outputs": [
    {
     "data": {
      "text/plain": [
       "[None, None, None, None, None, None, None, None, None, None, None, None]"
      ]
     },
     "execution_count": 11,
     "metadata": {},
     "output_type": "execute_result"
    }
   ],
   "source": [
    "[process.start() for process in p]"
   ]
  },
  {
   "cell_type": "code",
   "execution_count": 12,
   "metadata": {},
   "outputs": [
    {
     "data": {
      "text/plain": [
       "[None, None, None, None, None, None, None, None, None, None, None, None]"
      ]
     },
     "execution_count": 12,
     "metadata": {},
     "output_type": "execute_result"
    }
   ],
   "source": [
    "[process.join() for process in p]"
   ]
  },
  {
   "cell_type": "code",
   "execution_count": 52,
   "metadata": {},
   "outputs": [
    {
     "data": {
      "text/plain": [
       "0"
      ]
     },
     "execution_count": 52,
     "metadata": {},
     "output_type": "execute_result"
    }
   ],
   "source": [
    "toReturnQ.qsize()"
   ]
  },
  {
   "cell_type": "code",
   "execution_count": null,
   "metadata": {},
   "outputs": [],
   "source": [
    "all_subjects = sorted(labels.subject_id.unique())"
   ]
  },
  {
   "cell_type": "code",
   "execution_count": 14,
   "metadata": {},
   "outputs": [],
   "source": [
    "def gen():\n",
    "    while not toRunQ.empty() and not toReturnQ.empty():\n",
    "        data = toReturnQ.get()\n",
    "        yield parse_datum(data).SerializeToString()"
   ]
  },
  {
   "cell_type": "code",
   "execution_count": 16,
   "metadata": {},
   "outputs": [],
   "source": [
    "allEvalResults = []\n",
    "while not toReturnQ.empty():\n",
    "    allEvalResults.append(toReturnQ.get())"
   ]
  },
  {
   "cell_type": "code",
   "execution_count": 53,
   "metadata": {},
   "outputs": [],
   "source": [
    "from random import shuffle\n",
    "shuffle(allEvalResults)"
   ]
  },
  {
   "cell_type": "code",
   "execution_count": 54,
   "metadata": {},
   "outputs": [
    {
     "data": {
      "text/plain": [
       "19071"
      ]
     },
     "execution_count": 54,
     "metadata": {},
     "output_type": "execute_result"
    }
   ],
   "source": [
    "len(allEvalResults)"
   ]
  },
  {
   "cell_type": "code",
   "execution_count": 55,
   "metadata": {},
   "outputs": [],
   "source": [
    "import pickle as pkl\n",
    "pkl.dump(allEvalResults, open(\"/n/scratch2/ms994/realpdSmartphoneEvalset.pkl\", \"wb\"))"
   ]
  },
  {
   "cell_type": "code",
   "execution_count": null,
   "metadata": {},
   "outputs": [],
   "source": []
  },
  {
   "cell_type": "markdown",
   "metadata": {},
   "source": [
    "# Checkout RealPD smartwatch gyro"
   ]
  },
  {
   "cell_type": "code",
   "execution_count": 58,
   "metadata": {},
   "outputs": [],
   "source": [
    "gyro = glob.glob(\"/home/ms994/beat_pd/data/test_set/real-pd/testing_data/smartwatch_gyroscope/*.csv\")"
   ]
  },
  {
   "cell_type": "code",
   "execution_count": 62,
   "metadata": {},
   "outputs": [
    {
     "data": {
      "text/plain": [
       "(172, 172, 169)"
      ]
     },
     "execution_count": 62,
     "metadata": {},
     "output_type": "execute_result"
    }
   ],
   "source": [
    "len(gyro), len(glob.glob(\"/home/ms994/beat_pd/data/test_set/real-pd/testing_data/smartwatch_accelerometer/*.csv\")), len(glob.glob(\"/home/ms994/beat_pd/data/test_set/real-pd/testing_data/smartphone_accelerometer/*.csv\"))"
   ]
  },
  {
   "cell_type": "code",
   "execution_count": null,
   "metadata": {},
   "outputs": [],
   "source": []
  }
 ],
 "metadata": {
  "kernelspec": {
   "display_name": "Python 3",
   "language": "python",
   "name": "python3"
  },
  "language_info": {
   "codemirror_mode": {
    "name": "ipython",
    "version": 3
   },
   "file_extension": ".py",
   "mimetype": "text/x-python",
   "name": "python",
   "nbconvert_exporter": "python",
   "pygments_lexer": "ipython3",
   "version": "3.7.3"
  },
  "toc": {
   "base_numbering": 1,
   "nav_menu": {},
   "number_sections": true,
   "sideBar": true,
   "skip_h1_title": false,
   "title_cell": "Table of Contents",
   "title_sidebar": "Contents",
   "toc_cell": false,
   "toc_position": {},
   "toc_section_display": true,
   "toc_window_display": true
  }
 },
 "nbformat": 4,
 "nbformat_minor": 2
}
