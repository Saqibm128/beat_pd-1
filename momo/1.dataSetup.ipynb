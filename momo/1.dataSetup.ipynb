{
 "cells": [
  {
   "cell_type": "markdown",
   "metadata": {},
   "source": [
    "# Idea is to create a quick script to pull all the neural network data into a single file for quick access\n",
    "## CIS-PD Datasetup first\n",
    "\n",
    "We are going to resample to 25 Hz since the data appears to be irregularly sampled. We will take 1 minute time samples with 15 seconds of overlap (4x the original data which takes up 9 gb of space)"
   ]
  },
  {
   "cell_type": "code",
   "execution_count": 1,
   "metadata": {},
   "outputs": [],
   "source": [
    "import joblib\n",
    "import sys, os\n",
    "sys.path.append(os.path.realpath(\"..\"))"
   ]
  },
  {
   "cell_type": "code",
   "execution_count": 2,
   "metadata": {},
   "outputs": [
    {
     "data": {
      "text/plain": [
       "<module 'src.main' from '/home/ms994/beat_pd2/src/main.py'>"
      ]
     },
     "execution_count": 2,
     "metadata": {},
     "output_type": "execute_result"
    }
   ],
   "source": [
    "import src.main as main\n",
    "import pandas as pd\n",
    "import numpy as np\n",
    "from importlib import reload\n",
    "reload(main)"
   ]
  },
  {
   "cell_type": "code",
   "execution_count": 6,
   "metadata": {},
   "outputs": [
    {
     "data": {
      "text/plain": [
       "array([  0.,   1.,   2.,   3.,   4.,   5.,   6.,   7.,   8.,   9.,  10.,\n",
       "        11.,  12.,  13.,  14.,  15.,  16.,  17.,  18.,  19.,  20.,  21.,\n",
       "        22.,  23.,  24., -25., -24., -23., -22., -21., -20., -19., -18.,\n",
       "       -17., -16., -15., -14., -13., -12., -11., -10.,  -9.,  -8.,  -7.,\n",
       "        -6.,  -5.,  -4.,  -3.,  -2.,  -1.])"
      ]
     },
     "execution_count": 6,
     "metadata": {},
     "output_type": "execute_result"
    }
   ],
   "source": [
    "import numpy as np\n",
    "np.fft.fftfreq(50, 1/50)"
   ]
  },
  {
   "cell_type": "code",
   "execution_count": 95,
   "metadata": {},
   "outputs": [],
   "source": [
    "labels = pd.read_csv(\"/home/ms994/beat_pd/data/cis-pd/data_labels/CIS-PD_Training_Data_IDs_Labels.csv\")\n",
    "additional_labels = pd.read_csv(\"/home/ms994/beat_pd/data/cis-pd/data_labels/CIS-PD_Ancillary_Data_IDs_Labels.csv\")"
   ]
  },
  {
   "cell_type": "code",
   "execution_count": 96,
   "metadata": {},
   "outputs": [],
   "source": [
    "demo_data = pd.read_csv(\"/home/ms994/beat_pd/data/cis-pd/clinical_data/CIS-PD_Demographics.csv\")\n",
    "updrs_1 = pd.read_csv(\"/home/ms994/beat_pd/data/cis-pd/clinical_data/CIS-PD_UPDRS_Part1_2_4.csv\")\n",
    "updrs_2 = pd.read_csv(\"/home/ms994/beat_pd/data/cis-pd/clinical_data/CIS-PD_UPDRS_Part3.csv\")"
   ]
  },
  {
   "cell_type": "code",
   "execution_count": 97,
   "metadata": {},
   "outputs": [
    {
     "data": {
      "text/html": [
       "<div>\n",
       "<style scoped>\n",
       "    .dataframe tbody tr th:only-of-type {\n",
       "        vertical-align: middle;\n",
       "    }\n",
       "\n",
       "    .dataframe tbody tr th {\n",
       "        vertical-align: top;\n",
       "    }\n",
       "\n",
       "    .dataframe thead th {\n",
       "        text-align: right;\n",
       "    }\n",
       "</style>\n",
       "<table border=\"1\" class=\"dataframe\">\n",
       "  <thead>\n",
       "    <tr style=\"text-align: right;\">\n",
       "      <th></th>\n",
       "      <th>subject_id</th>\n",
       "      <th>Visit</th>\n",
       "      <th>UPDRS_PartI_Total</th>\n",
       "      <th>UPDRS_PartII_Total</th>\n",
       "      <th>UPDRS_4.1</th>\n",
       "      <th>UPDRS_4.2</th>\n",
       "      <th>UPDRS_4.3</th>\n",
       "      <th>UPDRS_4.4</th>\n",
       "      <th>UPDRS_4.5</th>\n",
       "      <th>UPDRS_4.6</th>\n",
       "    </tr>\n",
       "  </thead>\n",
       "  <tbody>\n",
       "    <tr>\n",
       "      <th>0</th>\n",
       "      <td>1000</td>\n",
       "      <td>Baseline</td>\n",
       "      <td>4</td>\n",
       "      <td>5</td>\n",
       "      <td>0</td>\n",
       "      <td>0</td>\n",
       "      <td>1</td>\n",
       "      <td>3</td>\n",
       "      <td>1</td>\n",
       "      <td>1</td>\n",
       "    </tr>\n",
       "    <tr>\n",
       "      <th>1</th>\n",
       "      <td>1004</td>\n",
       "      <td>Baseline</td>\n",
       "      <td>13</td>\n",
       "      <td>6</td>\n",
       "      <td>1</td>\n",
       "      <td>3</td>\n",
       "      <td>1</td>\n",
       "      <td>4</td>\n",
       "      <td>3</td>\n",
       "      <td>0</td>\n",
       "    </tr>\n",
       "    <tr>\n",
       "      <th>2</th>\n",
       "      <td>1006</td>\n",
       "      <td>Baseline</td>\n",
       "      <td>10</td>\n",
       "      <td>19</td>\n",
       "      <td>0</td>\n",
       "      <td>0</td>\n",
       "      <td>1</td>\n",
       "      <td>0</td>\n",
       "      <td>2</td>\n",
       "      <td>0</td>\n",
       "    </tr>\n",
       "    <tr>\n",
       "      <th>3</th>\n",
       "      <td>1007</td>\n",
       "      <td>Baseline</td>\n",
       "      <td>18</td>\n",
       "      <td>9</td>\n",
       "      <td>0</td>\n",
       "      <td>0</td>\n",
       "      <td>2</td>\n",
       "      <td>3</td>\n",
       "      <td>1</td>\n",
       "      <td>2</td>\n",
       "    </tr>\n",
       "    <tr>\n",
       "      <th>4</th>\n",
       "      <td>1016</td>\n",
       "      <td>Baseline</td>\n",
       "      <td>15</td>\n",
       "      <td>2</td>\n",
       "      <td>0</td>\n",
       "      <td>0</td>\n",
       "      <td>0</td>\n",
       "      <td>0</td>\n",
       "      <td>0</td>\n",
       "      <td>0</td>\n",
       "    </tr>\n",
       "    <tr>\n",
       "      <th>5</th>\n",
       "      <td>1018</td>\n",
       "      <td>Baseline</td>\n",
       "      <td>6</td>\n",
       "      <td>2</td>\n",
       "      <td>0</td>\n",
       "      <td>0</td>\n",
       "      <td>0</td>\n",
       "      <td>0</td>\n",
       "      <td>0</td>\n",
       "      <td>0</td>\n",
       "    </tr>\n",
       "    <tr>\n",
       "      <th>6</th>\n",
       "      <td>1019</td>\n",
       "      <td>Baseline</td>\n",
       "      <td>13</td>\n",
       "      <td>10</td>\n",
       "      <td>0</td>\n",
       "      <td>0</td>\n",
       "      <td>0</td>\n",
       "      <td>0</td>\n",
       "      <td>0</td>\n",
       "      <td>0</td>\n",
       "    </tr>\n",
       "    <tr>\n",
       "      <th>7</th>\n",
       "      <td>1020</td>\n",
       "      <td>Baseline</td>\n",
       "      <td>9</td>\n",
       "      <td>6</td>\n",
       "      <td>0</td>\n",
       "      <td>0</td>\n",
       "      <td>0</td>\n",
       "      <td>0</td>\n",
       "      <td>0</td>\n",
       "      <td>0</td>\n",
       "    </tr>\n",
       "    <tr>\n",
       "      <th>8</th>\n",
       "      <td>1023</td>\n",
       "      <td>Baseline</td>\n",
       "      <td>10</td>\n",
       "      <td>10</td>\n",
       "      <td>1</td>\n",
       "      <td>0</td>\n",
       "      <td>1</td>\n",
       "      <td>1</td>\n",
       "      <td>1</td>\n",
       "      <td>0</td>\n",
       "    </tr>\n",
       "    <tr>\n",
       "      <th>9</th>\n",
       "      <td>1030</td>\n",
       "      <td>Baseline</td>\n",
       "      <td>6</td>\n",
       "      <td>9</td>\n",
       "      <td>0</td>\n",
       "      <td>0</td>\n",
       "      <td>0</td>\n",
       "      <td>0</td>\n",
       "      <td>0</td>\n",
       "      <td>0</td>\n",
       "    </tr>\n",
       "    <tr>\n",
       "      <th>10</th>\n",
       "      <td>1032</td>\n",
       "      <td>Baseline</td>\n",
       "      <td>9</td>\n",
       "      <td>9</td>\n",
       "      <td>0</td>\n",
       "      <td>0</td>\n",
       "      <td>1</td>\n",
       "      <td>3</td>\n",
       "      <td>1</td>\n",
       "      <td>1</td>\n",
       "    </tr>\n",
       "    <tr>\n",
       "      <th>11</th>\n",
       "      <td>1034</td>\n",
       "      <td>Baseline</td>\n",
       "      <td>13</td>\n",
       "      <td>11</td>\n",
       "      <td>1</td>\n",
       "      <td>3</td>\n",
       "      <td>1</td>\n",
       "      <td>3</td>\n",
       "      <td>1</td>\n",
       "      <td>0</td>\n",
       "    </tr>\n",
       "    <tr>\n",
       "      <th>12</th>\n",
       "      <td>1038</td>\n",
       "      <td>Baseline</td>\n",
       "      <td>11</td>\n",
       "      <td>11</td>\n",
       "      <td>0</td>\n",
       "      <td>0</td>\n",
       "      <td>0</td>\n",
       "      <td>0</td>\n",
       "      <td>0</td>\n",
       "      <td>0</td>\n",
       "    </tr>\n",
       "    <tr>\n",
       "      <th>13</th>\n",
       "      <td>1039</td>\n",
       "      <td>Baseline</td>\n",
       "      <td>9</td>\n",
       "      <td>10</td>\n",
       "      <td>1</td>\n",
       "      <td>1</td>\n",
       "      <td>1</td>\n",
       "      <td>2</td>\n",
       "      <td>1</td>\n",
       "      <td>1</td>\n",
       "    </tr>\n",
       "    <tr>\n",
       "      <th>14</th>\n",
       "      <td>1041</td>\n",
       "      <td>Baseline</td>\n",
       "      <td>23</td>\n",
       "      <td>17</td>\n",
       "      <td>0</td>\n",
       "      <td>0</td>\n",
       "      <td>1</td>\n",
       "      <td>3</td>\n",
       "      <td>2</td>\n",
       "      <td>2</td>\n",
       "    </tr>\n",
       "    <tr>\n",
       "      <th>15</th>\n",
       "      <td>1043</td>\n",
       "      <td>Baseline</td>\n",
       "      <td>13</td>\n",
       "      <td>17</td>\n",
       "      <td>1</td>\n",
       "      <td>1</td>\n",
       "      <td>1</td>\n",
       "      <td>3</td>\n",
       "      <td>2</td>\n",
       "      <td>1</td>\n",
       "    </tr>\n",
       "    <tr>\n",
       "      <th>16</th>\n",
       "      <td>1044</td>\n",
       "      <td>Baseline</td>\n",
       "      <td>13</td>\n",
       "      <td>12</td>\n",
       "      <td>0</td>\n",
       "      <td>0</td>\n",
       "      <td>1</td>\n",
       "      <td>1</td>\n",
       "      <td>3</td>\n",
       "      <td>2</td>\n",
       "    </tr>\n",
       "    <tr>\n",
       "      <th>17</th>\n",
       "      <td>1046</td>\n",
       "      <td>Baseline</td>\n",
       "      <td>8</td>\n",
       "      <td>7</td>\n",
       "      <td>0</td>\n",
       "      <td>0</td>\n",
       "      <td>1</td>\n",
       "      <td>0</td>\n",
       "      <td>1</td>\n",
       "      <td>0</td>\n",
       "    </tr>\n",
       "    <tr>\n",
       "      <th>18</th>\n",
       "      <td>1048</td>\n",
       "      <td>Baseline</td>\n",
       "      <td>16</td>\n",
       "      <td>17</td>\n",
       "      <td>2</td>\n",
       "      <td>1</td>\n",
       "      <td>2</td>\n",
       "      <td>4</td>\n",
       "      <td>2</td>\n",
       "      <td>0</td>\n",
       "    </tr>\n",
       "    <tr>\n",
       "      <th>19</th>\n",
       "      <td>1049</td>\n",
       "      <td>Baseline</td>\n",
       "      <td>25</td>\n",
       "      <td>14</td>\n",
       "      <td>1</td>\n",
       "      <td>1</td>\n",
       "      <td>1</td>\n",
       "      <td>2</td>\n",
       "      <td>3</td>\n",
       "      <td>3</td>\n",
       "    </tr>\n",
       "    <tr>\n",
       "      <th>20</th>\n",
       "      <td>1051</td>\n",
       "      <td>Baseline</td>\n",
       "      <td>9</td>\n",
       "      <td>4</td>\n",
       "      <td>0</td>\n",
       "      <td>0</td>\n",
       "      <td>1</td>\n",
       "      <td>1</td>\n",
       "      <td>1</td>\n",
       "      <td>1</td>\n",
       "    </tr>\n",
       "  </tbody>\n",
       "</table>\n",
       "</div>"
      ],
      "text/plain": [
       "    subject_id     Visit  UPDRS_PartI_Total  UPDRS_PartII_Total  UPDRS_4.1  \\\n",
       "0         1000  Baseline                  4                   5          0   \n",
       "1         1004  Baseline                 13                   6          1   \n",
       "2         1006  Baseline                 10                  19          0   \n",
       "3         1007  Baseline                 18                   9          0   \n",
       "4         1016  Baseline                 15                   2          0   \n",
       "5         1018  Baseline                  6                   2          0   \n",
       "6         1019  Baseline                 13                  10          0   \n",
       "7         1020  Baseline                  9                   6          0   \n",
       "8         1023  Baseline                 10                  10          1   \n",
       "9         1030  Baseline                  6                   9          0   \n",
       "10        1032  Baseline                  9                   9          0   \n",
       "11        1034  Baseline                 13                  11          1   \n",
       "12        1038  Baseline                 11                  11          0   \n",
       "13        1039  Baseline                  9                  10          1   \n",
       "14        1041  Baseline                 23                  17          0   \n",
       "15        1043  Baseline                 13                  17          1   \n",
       "16        1044  Baseline                 13                  12          0   \n",
       "17        1046  Baseline                  8                   7          0   \n",
       "18        1048  Baseline                 16                  17          2   \n",
       "19        1049  Baseline                 25                  14          1   \n",
       "20        1051  Baseline                  9                   4          0   \n",
       "\n",
       "    UPDRS_4.2  UPDRS_4.3  UPDRS_4.4  UPDRS_4.5  UPDRS_4.6  \n",
       "0           0          1          3          1          1  \n",
       "1           3          1          4          3          0  \n",
       "2           0          1          0          2          0  \n",
       "3           0          2          3          1          2  \n",
       "4           0          0          0          0          0  \n",
       "5           0          0          0          0          0  \n",
       "6           0          0          0          0          0  \n",
       "7           0          0          0          0          0  \n",
       "8           0          1          1          1          0  \n",
       "9           0          0          0          0          0  \n",
       "10          0          1          3          1          1  \n",
       "11          3          1          3          1          0  \n",
       "12          0          0          0          0          0  \n",
       "13          1          1          2          1          1  \n",
       "14          0          1          3          2          2  \n",
       "15          1          1          3          2          1  \n",
       "16          0          1          1          3          2  \n",
       "17          0          1          0          1          0  \n",
       "18          1          2          4          2          0  \n",
       "19          1          1          2          3          3  \n",
       "20          0          1          1          1          1  "
      ]
     },
     "execution_count": 97,
     "metadata": {},
     "output_type": "execute_result"
    }
   ],
   "source": [
    "updrs_1"
   ]
  },
  {
   "cell_type": "code",
   "execution_count": 98,
   "metadata": {},
   "outputs": [],
   "source": [
    "all_data = demo_data.join(updrs_1.set_index(\"subject_id\"), on=\"subject_id\").join(updrs_2.set_index(\"subject_id\").drop([\"Visit\"], axis=1))"
   ]
  },
  {
   "cell_type": "code",
   "execution_count": 99,
   "metadata": {},
   "outputs": [],
   "source": [
    "labels = pd.concat([labels, additional_labels])"
   ]
  },
  {
   "cell_type": "code",
   "execution_count": 100,
   "metadata": {},
   "outputs": [],
   "source": [
    "labels = labels.reset_index()"
   ]
  },
  {
   "cell_type": "code",
   "execution_count": 101,
   "metadata": {},
   "outputs": [],
   "source": [
    "labels = labels.join(all_data.set_index(\"subject_id\"), how=\"inner\", on=\"subject_id\")"
   ]
  },
  {
   "cell_type": "code",
   "execution_count": 102,
   "metadata": {},
   "outputs": [
    {
     "data": {
      "text/plain": [
       "index                 0.000000\n",
       "measurement_id        0.000000\n",
       "subject_id            0.000000\n",
       "on_off                0.041176\n",
       "dyskinesia            0.303167\n",
       "tremor                0.179186\n",
       "Age                   0.000000\n",
       "Gender                0.000000\n",
       "Race                  0.020362\n",
       "Ethnicity             0.000000\n",
       "Visit                 0.000000\n",
       "UPDRS_PartI_Total     0.000000\n",
       "UPDRS_PartII_Total    0.000000\n",
       "UPDRS_4.1             0.000000\n",
       "UPDRS_4.2             0.000000\n",
       "UPDRS_4.3             0.000000\n",
       "UPDRS_4.4             0.000000\n",
       "UPDRS_4.5             0.000000\n",
       "UPDRS_4.6             0.000000\n",
       "dtype: float64"
      ]
     },
     "execution_count": 102,
     "metadata": {},
     "output_type": "execute_result"
    }
   ],
   "source": [
    "labels = labels.dropna(how=\"all\")\n",
    "labels = labels.dropna(how=\"all\", axis=1)\n",
    "pd.isnull(labels).sum(axis=0)/labels.shape[0]"
   ]
  },
  {
   "cell_type": "code",
   "execution_count": 103,
   "metadata": {},
   "outputs": [
    {
     "data": {
      "text/plain": [
       "array(['Baseline'], dtype=object)"
      ]
     },
     "execution_count": 103,
     "metadata": {},
     "output_type": "execute_result"
    }
   ],
   "source": [
    "labels[\"Visit\"].unique() #useless label"
   ]
  },
  {
   "cell_type": "code",
   "execution_count": 104,
   "metadata": {},
   "outputs": [],
   "source": [
    "labels = labels.drop([\"Race\", \"Ethnicity\", \"Visit\"], axis=1)"
   ]
  },
  {
   "cell_type": "code",
   "execution_count": 105,
   "metadata": {},
   "outputs": [
    {
     "data": {
      "text/plain": [
       "index                                                 1857\n",
       "measurement_id        ffd64945-4be2-47d1-a706-bf3e03cbf3b3\n",
       "subject_id                                            1051\n",
       "on_off                                                   4\n",
       "dyskinesia                                               4\n",
       "tremor                                                   4\n",
       "Age                                                     81\n",
       "Gender                                                Male\n",
       "UPDRS_PartI_Total                                       25\n",
       "UPDRS_PartII_Total                                      19\n",
       "UPDRS_4.1                                                2\n",
       "UPDRS_4.2                                                3\n",
       "UPDRS_4.3                                                2\n",
       "UPDRS_4.4                                                4\n",
       "UPDRS_4.5                                                3\n",
       "UPDRS_4.6                                                3\n",
       "dtype: object"
      ]
     },
     "execution_count": 105,
     "metadata": {},
     "output_type": "execute_result"
    }
   ],
   "source": [
    "labels.max(axis=0)"
   ]
  },
  {
   "cell_type": "code",
   "execution_count": 106,
   "metadata": {},
   "outputs": [
    {
     "data": {
      "text/plain": [
       "index                                                    0\n",
       "measurement_id        004ed441-24db-4839-8b5d-7465e4ea2a0a\n",
       "subject_id                                            1000\n",
       "on_off                                                   0\n",
       "dyskinesia                                               0\n",
       "tremor                                                   0\n",
       "Age                                                     36\n",
       "Gender                                              Female\n",
       "UPDRS_PartI_Total                                        4\n",
       "UPDRS_PartII_Total                                       2\n",
       "UPDRS_4.1                                                0\n",
       "UPDRS_4.2                                                0\n",
       "UPDRS_4.3                                                0\n",
       "UPDRS_4.4                                                0\n",
       "UPDRS_4.5                                                0\n",
       "UPDRS_4.6                                                0\n",
       "dtype: object"
      ]
     },
     "execution_count": 106,
     "metadata": {},
     "output_type": "execute_result"
    }
   ],
   "source": [
    "labels.min(axis=0)"
   ]
  },
  {
   "cell_type": "code",
   "execution_count": 107,
   "metadata": {},
   "outputs": [
    {
     "data": {
      "text/plain": [
       "index                 False\n",
       "measurement_id        False\n",
       "subject_id            False\n",
       "on_off                 True\n",
       "dyskinesia             True\n",
       "tremor                 True\n",
       "Age                   False\n",
       "Gender                False\n",
       "UPDRS_PartI_Total     False\n",
       "UPDRS_PartII_Total    False\n",
       "UPDRS_4.1             False\n",
       "UPDRS_4.2             False\n",
       "UPDRS_4.3             False\n",
       "UPDRS_4.4             False\n",
       "UPDRS_4.5             False\n",
       "UPDRS_4.6             False\n",
       "dtype: bool"
      ]
     },
     "execution_count": 107,
     "metadata": {},
     "output_type": "execute_result"
    }
   ],
   "source": [
    "pd.isna(labels).any(axis=0)"
   ]
  },
  {
   "cell_type": "code",
   "execution_count": 108,
   "metadata": {},
   "outputs": [],
   "source": [
    "poss_missing_labels = [\"on_off\", \"dyskinesia\", \"tremor\"]"
   ]
  },
  {
   "cell_type": "code",
   "execution_count": 109,
   "metadata": {},
   "outputs": [
    {
     "data": {
      "text/html": [
       "<div>\n",
       "<style scoped>\n",
       "    .dataframe tbody tr th:only-of-type {\n",
       "        vertical-align: middle;\n",
       "    }\n",
       "\n",
       "    .dataframe tbody tr th {\n",
       "        vertical-align: top;\n",
       "    }\n",
       "\n",
       "    .dataframe thead th {\n",
       "        text-align: right;\n",
       "    }\n",
       "</style>\n",
       "<table border=\"1\" class=\"dataframe\">\n",
       "  <thead>\n",
       "    <tr style=\"text-align: right;\">\n",
       "      <th></th>\n",
       "      <th>index</th>\n",
       "      <th>measurement_id</th>\n",
       "      <th>subject_id</th>\n",
       "      <th>on_off</th>\n",
       "      <th>dyskinesia</th>\n",
       "      <th>tremor</th>\n",
       "      <th>Age</th>\n",
       "      <th>Gender</th>\n",
       "      <th>UPDRS_PartI_Total</th>\n",
       "      <th>UPDRS_PartII_Total</th>\n",
       "      <th>UPDRS_4.1</th>\n",
       "      <th>UPDRS_4.2</th>\n",
       "      <th>UPDRS_4.3</th>\n",
       "      <th>UPDRS_4.4</th>\n",
       "      <th>UPDRS_4.5</th>\n",
       "      <th>UPDRS_4.6</th>\n",
       "    </tr>\n",
       "  </thead>\n",
       "  <tbody>\n",
       "    <tr>\n",
       "      <th>1962</th>\n",
       "      <td>104</td>\n",
       "      <td>014aa655-5dbf-448b-99ad-09fd7776a682</td>\n",
       "      <td>1018</td>\n",
       "      <td>0.0</td>\n",
       "      <td>0.0</td>\n",
       "      <td>0.0</td>\n",
       "      <td>58</td>\n",
       "      <td>Male</td>\n",
       "      <td>6</td>\n",
       "      <td>2</td>\n",
       "      <td>0</td>\n",
       "      <td>0</td>\n",
       "      <td>0</td>\n",
       "      <td>0</td>\n",
       "      <td>0</td>\n",
       "      <td>0</td>\n",
       "    </tr>\n",
       "  </tbody>\n",
       "</table>\n",
       "</div>"
      ],
      "text/plain": [
       "      index                        measurement_id  subject_id  on_off  \\\n",
       "1962    104  014aa655-5dbf-448b-99ad-09fd7776a682        1018     0.0   \n",
       "\n",
       "      dyskinesia  tremor  Age Gender  UPDRS_PartI_Total  UPDRS_PartII_Total  \\\n",
       "1962         0.0     0.0   58   Male                  6                   2   \n",
       "\n",
       "      UPDRS_4.1  UPDRS_4.2  UPDRS_4.3  UPDRS_4.4  UPDRS_4.5  UPDRS_4.6  \n",
       "1962          0          0          0          0          0          0  "
      ]
     },
     "execution_count": 109,
     "metadata": {},
     "output_type": "execute_result"
    }
   ],
   "source": [
    "labels[labels.measurement_id==\"014aa655-5dbf-448b-99ad-09fd7776a682\"]"
   ]
  },
  {
   "cell_type": "code",
   "execution_count": 110,
   "metadata": {},
   "outputs": [],
   "source": [
    "all_m_id = labels.measurement_id\n",
    "test_m_id = all_m_id[0]"
   ]
  },
  {
   "cell_type": "code",
   "execution_count": 111,
   "metadata": {},
   "outputs": [],
   "source": [
    "#lets go and filter data with some utility funcs\n",
    "from scipy.signal import butter, lfilter\n",
    "\n",
    "# https://scipy-cookbook.readthedocs.io/items/ButterworthBandpass.html\n",
    "\n",
    "# grabs some filter constants for making bandpass filter\n",
    "#    order is kinda like strength of filter... higher leads to more ideal filter but has weird interactions near the edges of the filter\n",
    "#    lower is less ideal but results in less artifacts being generated\n",
    "#    this is a bit of a cheat anyways, using a lowpass and highpass together, there may be less sketch filter designs applicable\n",
    "def butter_bandpass(lowcut, highcut, fs, order=5):\n",
    "    nyq = 0.5 * fs\n",
    "    low = lowcut / nyq\n",
    "    high = highcut / nyq\n",
    "    b, a = butter(order, [low, high], btype='band')\n",
    "    return b, a\n",
    "\n",
    "def butter_bandpass_filter(data, lowcut, highcut, fs, order=5):\n",
    "    b, a = butter_bandpass(lowcut, highcut, fs, order=order)\n",
    "    y = lfilter(b, a, data)\n",
    "    return y\n",
    "def butter_lp_filter(data, lowcut, fs, order=5):\n",
    "    nyq = 0.5 * fs #just get the highest freq possible (nyquist, and bandgap it!)\n",
    "    hc = nyq * 0.9 #can't accept exactly nyq\n",
    "    print(\"hc:\", hc)\n",
    "    return butter_bandpass_filter(data, lowcut, hyc, fs, order)\n",
    "def butter_bandgap_filter(data, lowcut, highcut, fs, order=5):\n",
    "    if highcut is None:\n",
    "        return butter_bandgap_filter(data, lowcut, fs, order)\n",
    "    toRemove = butter_bandpass_filter(data, lowcut, highcut, fs, order)\n",
    "    return data - toRemove"
   ]
  },
  {
   "cell_type": "code",
   "execution_count": 112,
   "metadata": {},
   "outputs": [],
   "source": [
    "def get_preprocessed_data(measurement_id, low_f=1, high_f=10):\n",
    "    data = main.read_seq(\n",
    "        f\"/home/ms994/beat_pd/data/cis-pd/training_data/{measurement_id}.csv\",\n",
    "        t_colname=\"Timestamp\",\n",
    "        xyz_colnames=[\"X\", \"Y\", \"Z\"],\n",
    "        use_time_index=True,\n",
    "        resample=pd.Timedelta(seconds=1/25)\n",
    "    )\n",
    "    timeIndex = data.index\n",
    "    dataCol = data.columns\n",
    "    #50 hz, make a bandpass between 1 and 10 hz, with order of 5\n",
    "    data = butter_bandpass_filter(data, low_f, high_f, 50, 5)\n",
    "    data = pd.DataFrame(data, index=timeIndex, columns=dataCol)\n",
    "    return data"
   ]
  },
  {
   "cell_type": "code",
   "execution_count": 113,
   "metadata": {},
   "outputs": [],
   "source": [
    "def read_mid_and_split(m_id, max_window=pd.Timedelta(seconds=60), overlap=pd.Timedelta(seconds=10)):\n",
    "    try:\n",
    "        data = get_preprocessed_data(m_id)\n",
    "        all_samples = []\n",
    "        currentIndex = pd.Timedelta(seconds=0)\n",
    "        while (currentIndex + max_window < data.index.max()):\n",
    "            all_samples.append(data.loc[currentIndex:currentIndex+max_window].values)\n",
    "            currentIndex += overlap\n",
    "        return all_samples\n",
    "    except:\n",
    "        return []"
   ]
  },
  {
   "cell_type": "code",
   "execution_count": 114,
   "metadata": {},
   "outputs": [],
   "source": [
    "all_m_id = sorted(all_m_id) #keep a constant m_id"
   ]
  },
  {
   "cell_type": "code",
   "execution_count": 115,
   "metadata": {},
   "outputs": [],
   "source": [
    "def write_data(to_run_q, to_return_q):\n",
    "    for m_id in iter(to_run_q.get, None):\n",
    "        data_samples = read_mid_and_split(m_id) \n",
    "        label = labels[labels.measurement_id == m_id]\n",
    "        for data_sample in data_samples:\n",
    "            to_return_q.put((data_sample, label))"
   ]
  },
  {
   "cell_type": "code",
   "execution_count": 116,
   "metadata": {},
   "outputs": [
    {
     "data": {
      "text/plain": [
       "[None,\n",
       " None,\n",
       " None,\n",
       " None,\n",
       " None,\n",
       " None,\n",
       " None,\n",
       " None,\n",
       " None,\n",
       " None,\n",
       " None,\n",
       " None,\n",
       " None,\n",
       " None,\n",
       " None,\n",
       " None,\n",
       " None]"
      ]
     },
     "execution_count": 116,
     "metadata": {},
     "output_type": "execute_result"
    }
   ],
   "source": [
    "from multiprocessing import Process, Manager\n",
    "m = Manager()\n",
    "n_process = 17\n",
    "toRunQ = m.Queue()\n",
    "toReturnQ = m.Queue()\n",
    "p = [Process(target=write_data, args=(toRunQ, toReturnQ)) for i in range(n_process)]\n",
    "[toRunQ.put(m_id) for m_id in all_m_id]\n",
    "[toRunQ.put(None) for i in range(n_process)]"
   ]
  },
  {
   "cell_type": "code",
   "execution_count": 117,
   "metadata": {},
   "outputs": [
    {
     "data": {
      "text/plain": [
       "[None,\n",
       " None,\n",
       " None,\n",
       " None,\n",
       " None,\n",
       " None,\n",
       " None,\n",
       " None,\n",
       " None,\n",
       " None,\n",
       " None,\n",
       " None,\n",
       " None,\n",
       " None,\n",
       " None,\n",
       " None,\n",
       " None]"
      ]
     },
     "execution_count": 117,
     "metadata": {},
     "output_type": "execute_result"
    }
   ],
   "source": [
    "[process.start() for process in p]"
   ]
  },
  {
   "cell_type": "code",
   "execution_count": 118,
   "metadata": {},
   "outputs": [
    {
     "data": {
      "text/plain": [
       "[None,\n",
       " None,\n",
       " None,\n",
       " None,\n",
       " None,\n",
       " None,\n",
       " None,\n",
       " None,\n",
       " None,\n",
       " None,\n",
       " None,\n",
       " None,\n",
       " None,\n",
       " None,\n",
       " None,\n",
       " None,\n",
       " None]"
      ]
     },
     "execution_count": 118,
     "metadata": {},
     "output_type": "execute_result"
    }
   ],
   "source": [
    "[process.join() for process in p]"
   ]
  },
  {
   "cell_type": "code",
   "execution_count": 124,
   "metadata": {},
   "outputs": [
    {
     "data": {
      "text/plain": [
       "204097"
      ]
     },
     "execution_count": 124,
     "metadata": {},
     "output_type": "execute_result"
    }
   ],
   "source": [
    "toReturnQ.qsize()"
   ]
  },
  {
   "cell_type": "code",
   "execution_count": 120,
   "metadata": {},
   "outputs": [],
   "source": [
    "data = toReturnQ.get()"
   ]
  },
  {
   "cell_type": "code",
   "execution_count": 121,
   "metadata": {},
   "outputs": [],
   "source": [
    "all_subjects = sorted(labels.subject_id.unique())"
   ]
  },
  {
   "cell_type": "code",
   "execution_count": 122,
   "metadata": {},
   "outputs": [
    {
     "data": {
      "text/html": [
       "<div>\n",
       "<style scoped>\n",
       "    .dataframe tbody tr th:only-of-type {\n",
       "        vertical-align: middle;\n",
       "    }\n",
       "\n",
       "    .dataframe tbody tr th {\n",
       "        vertical-align: top;\n",
       "    }\n",
       "\n",
       "    .dataframe thead th {\n",
       "        text-align: right;\n",
       "    }\n",
       "</style>\n",
       "<table border=\"1\" class=\"dataframe\">\n",
       "  <thead>\n",
       "    <tr style=\"text-align: right;\">\n",
       "      <th></th>\n",
       "      <th>index</th>\n",
       "      <th>measurement_id</th>\n",
       "      <th>subject_id</th>\n",
       "      <th>on_off</th>\n",
       "      <th>dyskinesia</th>\n",
       "      <th>tremor</th>\n",
       "      <th>Age</th>\n",
       "      <th>Gender</th>\n",
       "      <th>UPDRS_PartI_Total</th>\n",
       "      <th>UPDRS_PartII_Total</th>\n",
       "      <th>UPDRS_4.1</th>\n",
       "      <th>UPDRS_4.2</th>\n",
       "      <th>UPDRS_4.3</th>\n",
       "      <th>UPDRS_4.4</th>\n",
       "      <th>UPDRS_4.5</th>\n",
       "      <th>UPDRS_4.6</th>\n",
       "    </tr>\n",
       "  </thead>\n",
       "  <tbody>\n",
       "    <tr>\n",
       "      <th>1632</th>\n",
       "      <td>1632</td>\n",
       "      <td>00544f67-c07c-4a07-9c17-a7aee51d8b96</td>\n",
       "      <td>1049</td>\n",
       "      <td>2.0</td>\n",
       "      <td>1.0</td>\n",
       "      <td>2.0</td>\n",
       "      <td>54</td>\n",
       "      <td>Female</td>\n",
       "      <td>25</td>\n",
       "      <td>14</td>\n",
       "      <td>1</td>\n",
       "      <td>1</td>\n",
       "      <td>1</td>\n",
       "      <td>2</td>\n",
       "      <td>3</td>\n",
       "      <td>3</td>\n",
       "    </tr>\n",
       "  </tbody>\n",
       "</table>\n",
       "</div>"
      ],
      "text/plain": [
       "      index                        measurement_id  subject_id  on_off  \\\n",
       "1632   1632  00544f67-c07c-4a07-9c17-a7aee51d8b96        1049     2.0   \n",
       "\n",
       "      dyskinesia  tremor  Age  Gender  UPDRS_PartI_Total  UPDRS_PartII_Total  \\\n",
       "1632         1.0     2.0   54  Female                 25                  14   \n",
       "\n",
       "      UPDRS_4.1  UPDRS_4.2  UPDRS_4.3  UPDRS_4.4  UPDRS_4.5  UPDRS_4.6  \n",
       "1632          1          1          1          2          3          3  "
      ]
     },
     "execution_count": 122,
     "metadata": {},
     "output_type": "execute_result"
    }
   ],
   "source": [
    "data[1].fillna(-1)"
   ]
  },
  {
   "cell_type": "code",
   "execution_count": 138,
   "metadata": {},
   "outputs": [],
   "source": [
    "import tensorflow as tf\n",
    "# Helperfunctions to make your feature definition more readable\n",
    "def _int64_feature(value):\n",
    "    return tf.train.Feature(int64_list=tf.train.Int64List(value=[value]))\n",
    "\n",
    "def _int64_feature_list(value):\n",
    "    return tf.train.Feature(int64_list=tf.train.Int64List(value=value))\n",
    "# Helperfunctions to make your feature definition more readable\n",
    "def _float_feature(value):\n",
    "    return tf.train.Feature(float_list=tf.train.FloatList(value=[value]))\n",
    "\n",
    "def _float_feature_list(value):\n",
    "    return tf.train.Feature(float_list=tf.train.FloatList(value=value))\n",
    "def parse_datum(datum):\n",
    "    xData = datum[0]\n",
    "    yData = datum[1].fillna(-1) #using -1 as a masking value\n",
    "    \n",
    "    \n",
    "    \n",
    "    feature = { \\\n",
    "               'data': _float_feature_list(xData[:1500].reshape(-1)), \\\n",
    "               'on_off': _int64_feature_list(yData.on_off.values.astype(int)), \\\n",
    "               'dyskinesia': _int64_feature_list(yData.dyskinesia.values.astype(int)), \\\n",
    "               'measurement_id': _int64_feature(all_m_id.index(yData.measurement_id.values[0])), \\\n",
    "               'tremor': _int64_feature_list(yData.tremor.values.astype(int)), \\\n",
    "               'age': _int64_feature_list(yData.Age.values.astype(int)), \\\n",
    "               'subjects': _int64_feature(all_subjects.index(yData.subject_id.values[0])),\n",
    "               'gender': _int64_feature_list(yData.Gender.apply(lambda x: x==\"Male\").values.astype(int)), \\\n",
    "               'UPDRS_PartI_Total': _int64_feature_list(yData.UPDRS_PartI_Total.values.astype(int)), \\\n",
    "               'UPDRS_PartII_Total': _int64_feature_list(yData.UPDRS_PartII_Total.values.astype(int)), \\\n",
    "               'UPDRS_4.1': _int64_feature_list(yData[\"UPDRS_4.1\"].values.astype(int)), \\\n",
    "               'UPDRS_4.2': _int64_feature_list(yData[\"UPDRS_4.2\"].values.astype(int)), \\\n",
    "               'UPDRS_4.3': _int64_feature_list(yData[\"UPDRS_4.3\"].values.astype(int)), \\\n",
    "               'UPDRS_4.4': _int64_feature_list(yData[\"UPDRS_4.4\"].values.astype(int)), \\\n",
    "               'UPDRS_4.5': _int64_feature_list(yData[\"UPDRS_4.5\"].values.astype(int)), \\\n",
    "               'UPDRS_4.6': _int64_feature_list(yData[\"UPDRS_4.6\"].values.astype(int)),\n",
    "              }\n",
    "    return tf.train.Example(features=tf.train.Features(feature=feature))"
   ]
  },
  {
   "cell_type": "code",
   "execution_count": 139,
   "metadata": {},
   "outputs": [],
   "source": [
    "def gen():\n",
    "    while not toRunQ.empty() and not toReturnQ.empty():\n",
    "        data = toReturnQ.get()\n",
    "        yield parse_datum(data).SerializeToString()"
   ]
  },
  {
   "cell_type": "code",
   "execution_count": 127,
   "metadata": {},
   "outputs": [],
   "source": [
    "allResults = []\n",
    "while not toReturnQ.empty():\n",
    "    allResults.append(toReturnQ.get())"
   ]
  },
  {
   "cell_type": "code",
   "execution_count": 128,
   "metadata": {},
   "outputs": [],
   "source": [
    "from random import shuffle\n",
    "shuffle(allResults)"
   ]
  },
  {
   "cell_type": "code",
   "execution_count": 137,
   "metadata": {},
   "outputs": [
    {
     "data": {
      "text/plain": [
       "1023"
      ]
     },
     "execution_count": 137,
     "metadata": {},
     "output_type": "execute_result"
    }
   ],
   "source": [
    "allResults[0][1].subject_id.iloc[0]"
   ]
  },
  {
   "cell_type": "code",
   "execution_count": 140,
   "metadata": {},
   "outputs": [],
   "source": [
    "#cuz im having issues with pulling directly off queue\n",
    "def gen():\n",
    "    for datum in allResults:\n",
    "        yield parse_datum(datum).SerializeToString()"
   ]
  },
  {
   "cell_type": "code",
   "execution_count": 141,
   "metadata": {},
   "outputs": [],
   "source": [
    "dataset = tf.data.Dataset.from_generator(gen, output_types=tf.string,  output_shapes=(tf.TensorShape([])))\n",
    "writer = tf.data.experimental.TFRecordWriter(\"/n/scratch2/beat_pd_ms_tmp/all_data.tfr\")\n",
    "writer.write(dataset)"
   ]
  },
  {
   "cell_type": "code",
   "execution_count": 37,
   "metadata": {},
   "outputs": [],
   "source": [
    "# %%bash\n",
    "# scancel 2919535"
   ]
  }
 ],
 "metadata": {
  "kernelspec": {
   "display_name": "Python 3",
   "language": "python",
   "name": "python3"
  },
  "language_info": {
   "codemirror_mode": {
    "name": "ipython",
    "version": 3
   },
   "file_extension": ".py",
   "mimetype": "text/x-python",
   "name": "python",
   "nbconvert_exporter": "python",
   "pygments_lexer": "ipython3",
   "version": "3.7.3"
  },
  "toc": {
   "base_numbering": 1,
   "nav_menu": {},
   "number_sections": true,
   "sideBar": true,
   "skip_h1_title": false,
   "title_cell": "Table of Contents",
   "title_sidebar": "Contents",
   "toc_cell": false,
   "toc_position": {},
   "toc_section_display": true,
   "toc_window_display": false
  }
 },
 "nbformat": 4,
 "nbformat_minor": 2
}
