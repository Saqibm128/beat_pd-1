{
 "cells": [
  {
   "cell_type": "markdown",
   "metadata": {},
   "source": [
    "# Idea is to create a quick script to pull all the neural network data into a single file for quick access\n",
    "## CIS-PD Datasetup first\n",
    "\n",
    "We are going to resample to 25 Hz since the data appears to be irregularly sampled. We will take 1 minute time samples with 15 seconds of overlap (4x the original data which takes up 9 gb of space)"
   ]
  },
  {
   "cell_type": "code",
   "execution_count": 6,
   "metadata": {},
   "outputs": [],
   "source": [
    "import joblib\n",
    "import sys, os\n",
    "sys.path.append(os.path.realpath(\"..\"))"
   ]
  },
  {
   "cell_type": "code",
   "execution_count": 7,
   "metadata": {},
   "outputs": [
    {
     "data": {
      "text/plain": [
       "<module 'src.main' from '/home/ms994/beat_pd2/src/main.py'>"
      ]
     },
     "execution_count": 7,
     "metadata": {},
     "output_type": "execute_result"
    }
   ],
   "source": [
    "import src.main as main\n",
    "import pandas as pd\n",
    "import numpy as np\n",
    "from importlib import reload\n",
    "reload(main)"
   ]
  },
  {
   "cell_type": "code",
   "execution_count": 4,
   "metadata": {},
   "outputs": [],
   "source": [
    "labels = pd.read_csv(\"/home/ms994/beat_pd/data/cis-pd/data_labels/CIS-PD_Training_Data_IDs_Labels.csv\")\n",
    "additional_labels = pd.read_csv(\"/home/ms994/beat_pd/data/cis-pd/data_labels/CIS-PD_Ancillary_Data_IDs_Labels.csv\")"
   ]
  },
  {
   "cell_type": "code",
   "execution_count": 5,
   "metadata": {},
   "outputs": [],
   "source": [
    "demo_data = pd.read_csv(\"/home/ms994/beat_pd/data/cis-pd/clinical_data/CIS-PD_Demographics.csv\")\n",
    "updrs_1 = pd.read_csv(\"/home/ms994/beat_pd/data/cis-pd/clinical_data/CIS-PD_UPDRS_Part1_2_4.csv\")\n",
    "updrs_2 = pd.read_csv(\"/home/ms994/beat_pd/data/cis-pd/clinical_data/CIS-PD_UPDRS_Part3.csv\")"
   ]
  },
  {
   "cell_type": "code",
   "execution_count": 6,
   "metadata": {},
   "outputs": [
    {
     "data": {
      "text/html": [
       "<div>\n",
       "<style scoped>\n",
       "    .dataframe tbody tr th:only-of-type {\n",
       "        vertical-align: middle;\n",
       "    }\n",
       "\n",
       "    .dataframe tbody tr th {\n",
       "        vertical-align: top;\n",
       "    }\n",
       "\n",
       "    .dataframe thead th {\n",
       "        text-align: right;\n",
       "    }\n",
       "</style>\n",
       "<table border=\"1\" class=\"dataframe\">\n",
       "  <thead>\n",
       "    <tr style=\"text-align: right;\">\n",
       "      <th></th>\n",
       "      <th>subject_id</th>\n",
       "      <th>Visit</th>\n",
       "      <th>UPDRS_PartI_Total</th>\n",
       "      <th>UPDRS_PartII_Total</th>\n",
       "      <th>UPDRS_4.1</th>\n",
       "      <th>UPDRS_4.2</th>\n",
       "      <th>UPDRS_4.3</th>\n",
       "      <th>UPDRS_4.4</th>\n",
       "      <th>UPDRS_4.5</th>\n",
       "      <th>UPDRS_4.6</th>\n",
       "    </tr>\n",
       "  </thead>\n",
       "  <tbody>\n",
       "    <tr>\n",
       "      <th>0</th>\n",
       "      <td>1000</td>\n",
       "      <td>Baseline</td>\n",
       "      <td>4</td>\n",
       "      <td>5</td>\n",
       "      <td>0</td>\n",
       "      <td>0</td>\n",
       "      <td>1</td>\n",
       "      <td>3</td>\n",
       "      <td>1</td>\n",
       "      <td>1</td>\n",
       "    </tr>\n",
       "    <tr>\n",
       "      <th>1</th>\n",
       "      <td>1004</td>\n",
       "      <td>Baseline</td>\n",
       "      <td>13</td>\n",
       "      <td>6</td>\n",
       "      <td>1</td>\n",
       "      <td>3</td>\n",
       "      <td>1</td>\n",
       "      <td>4</td>\n",
       "      <td>3</td>\n",
       "      <td>0</td>\n",
       "    </tr>\n",
       "    <tr>\n",
       "      <th>2</th>\n",
       "      <td>1006</td>\n",
       "      <td>Baseline</td>\n",
       "      <td>10</td>\n",
       "      <td>19</td>\n",
       "      <td>0</td>\n",
       "      <td>0</td>\n",
       "      <td>1</td>\n",
       "      <td>0</td>\n",
       "      <td>2</td>\n",
       "      <td>0</td>\n",
       "    </tr>\n",
       "    <tr>\n",
       "      <th>3</th>\n",
       "      <td>1007</td>\n",
       "      <td>Baseline</td>\n",
       "      <td>18</td>\n",
       "      <td>9</td>\n",
       "      <td>0</td>\n",
       "      <td>0</td>\n",
       "      <td>2</td>\n",
       "      <td>3</td>\n",
       "      <td>1</td>\n",
       "      <td>2</td>\n",
       "    </tr>\n",
       "    <tr>\n",
       "      <th>4</th>\n",
       "      <td>1016</td>\n",
       "      <td>Baseline</td>\n",
       "      <td>15</td>\n",
       "      <td>2</td>\n",
       "      <td>0</td>\n",
       "      <td>0</td>\n",
       "      <td>0</td>\n",
       "      <td>0</td>\n",
       "      <td>0</td>\n",
       "      <td>0</td>\n",
       "    </tr>\n",
       "  </tbody>\n",
       "</table>\n",
       "</div>"
      ],
      "text/plain": [
       "   subject_id     Visit  UPDRS_PartI_Total  UPDRS_PartII_Total  UPDRS_4.1  \\\n",
       "0        1000  Baseline                  4                   5          0   \n",
       "1        1004  Baseline                 13                   6          1   \n",
       "2        1006  Baseline                 10                  19          0   \n",
       "3        1007  Baseline                 18                   9          0   \n",
       "4        1016  Baseline                 15                   2          0   \n",
       "\n",
       "   UPDRS_4.2  UPDRS_4.3  UPDRS_4.4  UPDRS_4.5  UPDRS_4.6  \n",
       "0          0          1          3          1          1  \n",
       "1          3          1          4          3          0  \n",
       "2          0          1          0          2          0  \n",
       "3          0          2          3          1          2  \n",
       "4          0          0          0          0          0  "
      ]
     },
     "execution_count": 6,
     "metadata": {},
     "output_type": "execute_result"
    }
   ],
   "source": [
    "updrs_1.head()"
   ]
  },
  {
   "cell_type": "code",
   "execution_count": 7,
   "metadata": {},
   "outputs": [],
   "source": [
    "all_data = demo_data.join(updrs_1.set_index(\"subject_id\"), on=\"subject_id\").join(updrs_2.set_index(\"subject_id\").drop([\"Visit\"], axis=1))"
   ]
  },
  {
   "cell_type": "code",
   "execution_count": 8,
   "metadata": {},
   "outputs": [],
   "source": [
    "labels = pd.concat([labels, additional_labels])"
   ]
  },
  {
   "cell_type": "code",
   "execution_count": 10,
   "metadata": {},
   "outputs": [],
   "source": [
    "labels = labels.reset_index()"
   ]
  },
  {
   "cell_type": "code",
   "execution_count": 11,
   "metadata": {},
   "outputs": [],
   "source": [
    "labels = labels.join(all_data.set_index(\"subject_id\"), how=\"inner\", on=\"subject_id\")"
   ]
  },
  {
   "cell_type": "code",
   "execution_count": 14,
   "metadata": {},
   "outputs": [
    {
     "data": {
      "text/plain": [
       "level_0               0.000000\n",
       "index                 0.000000\n",
       "measurement_id        0.000000\n",
       "subject_id            0.000000\n",
       "on_off                0.041176\n",
       "dyskinesia            0.303167\n",
       "tremor                0.179186\n",
       "Age                   0.000000\n",
       "Gender                0.000000\n",
       "Race                  0.020362\n",
       "Ethnicity             0.000000\n",
       "Visit                 0.000000\n",
       "UPDRS_PartI_Total     0.000000\n",
       "UPDRS_PartII_Total    0.000000\n",
       "UPDRS_4.1             0.000000\n",
       "UPDRS_4.2             0.000000\n",
       "UPDRS_4.3             0.000000\n",
       "UPDRS_4.4             0.000000\n",
       "UPDRS_4.5             0.000000\n",
       "UPDRS_4.6             0.000000\n",
       "dtype: float64"
      ]
     },
     "execution_count": 14,
     "metadata": {},
     "output_type": "execute_result"
    }
   ],
   "source": [
    "labels = labels.dropna(how=\"all\")\n",
    "labels = labels.dropna(how=\"all\", axis=1)\n",
    "pd.isnull(labels).sum(axis=0)/labels.shape[0]"
   ]
  },
  {
   "cell_type": "code",
   "execution_count": 15,
   "metadata": {},
   "outputs": [
    {
     "data": {
      "text/plain": [
       "array(['Baseline'], dtype=object)"
      ]
     },
     "execution_count": 15,
     "metadata": {},
     "output_type": "execute_result"
    }
   ],
   "source": [
    "labels[\"Visit\"].unique() #useless label"
   ]
  },
  {
   "cell_type": "code",
   "execution_count": 16,
   "metadata": {},
   "outputs": [],
   "source": [
    "labels = labels.drop([\"Race\", \"Ethnicity\", \"Visit\"], axis=1)"
   ]
  },
  {
   "cell_type": "code",
   "execution_count": 48,
   "metadata": {},
   "outputs": [
    {
     "data": {
      "text/plain": [
       "index                                                 1857\n",
       "measurement_id        ffd64945-4be2-47d1-a706-bf3e03cbf3b3\n",
       "subject_id                                            1051\n",
       "on_off                                                   4\n",
       "dyskinesia                                               4\n",
       "tremor                                                   4\n",
       "Age                                                     81\n",
       "Gender                                                Male\n",
       "UPDRS_PartI_Total                                       25\n",
       "UPDRS_PartII_Total                                      19\n",
       "UPDRS_4.1                                                2\n",
       "UPDRS_4.2                                                3\n",
       "UPDRS_4.3                                                2\n",
       "UPDRS_4.4                                                4\n",
       "UPDRS_4.5                                                3\n",
       "UPDRS_4.6                                                3\n",
       "dtype: object"
      ]
     },
     "execution_count": 48,
     "metadata": {},
     "output_type": "execute_result"
    }
   ],
   "source": [
    "labels.max(axis=0)"
   ]
  },
  {
   "cell_type": "code",
   "execution_count": 49,
   "metadata": {},
   "outputs": [
    {
     "data": {
      "text/plain": [
       "index                                                    0\n",
       "measurement_id        004ed441-24db-4839-8b5d-7465e4ea2a0a\n",
       "subject_id                                            1000\n",
       "on_off                                                   0\n",
       "dyskinesia                                               0\n",
       "tremor                                                   0\n",
       "Age                                                     36\n",
       "Gender                                              Female\n",
       "UPDRS_PartI_Total                                        4\n",
       "UPDRS_PartII_Total                                       2\n",
       "UPDRS_4.1                                                0\n",
       "UPDRS_4.2                                                0\n",
       "UPDRS_4.3                                                0\n",
       "UPDRS_4.4                                                0\n",
       "UPDRS_4.5                                                0\n",
       "UPDRS_4.6                                                0\n",
       "dtype: object"
      ]
     },
     "execution_count": 49,
     "metadata": {},
     "output_type": "execute_result"
    }
   ],
   "source": [
    "labels.min(axis=0)"
   ]
  },
  {
   "cell_type": "code",
   "execution_count": 50,
   "metadata": {},
   "outputs": [
    {
     "data": {
      "text/plain": [
       "index                 False\n",
       "measurement_id        False\n",
       "subject_id            False\n",
       "on_off                 True\n",
       "dyskinesia             True\n",
       "tremor                 True\n",
       "Age                   False\n",
       "Gender                False\n",
       "UPDRS_PartI_Total     False\n",
       "UPDRS_PartII_Total    False\n",
       "UPDRS_4.1             False\n",
       "UPDRS_4.2             False\n",
       "UPDRS_4.3             False\n",
       "UPDRS_4.4             False\n",
       "UPDRS_4.5             False\n",
       "UPDRS_4.6             False\n",
       "dtype: bool"
      ]
     },
     "execution_count": 50,
     "metadata": {},
     "output_type": "execute_result"
    }
   ],
   "source": [
    "pd.isna(labels).any(axis=0)"
   ]
  },
  {
   "cell_type": "code",
   "execution_count": 19,
   "metadata": {},
   "outputs": [],
   "source": [
    "poss_missing_labels = [\"on_off\", \"dyskinesia\", \"tremor\"]"
   ]
  },
  {
   "cell_type": "code",
   "execution_count": 20,
   "metadata": {},
   "outputs": [
    {
     "data": {
      "text/html": [
       "<div>\n",
       "<style scoped>\n",
       "    .dataframe tbody tr th:only-of-type {\n",
       "        vertical-align: middle;\n",
       "    }\n",
       "\n",
       "    .dataframe tbody tr th {\n",
       "        vertical-align: top;\n",
       "    }\n",
       "\n",
       "    .dataframe thead th {\n",
       "        text-align: right;\n",
       "    }\n",
       "</style>\n",
       "<table border=\"1\" class=\"dataframe\">\n",
       "  <thead>\n",
       "    <tr style=\"text-align: right;\">\n",
       "      <th></th>\n",
       "      <th>level_0</th>\n",
       "      <th>index</th>\n",
       "      <th>measurement_id</th>\n",
       "      <th>subject_id</th>\n",
       "      <th>on_off</th>\n",
       "      <th>dyskinesia</th>\n",
       "      <th>tremor</th>\n",
       "      <th>Age</th>\n",
       "      <th>Gender</th>\n",
       "      <th>UPDRS_PartI_Total</th>\n",
       "      <th>UPDRS_PartII_Total</th>\n",
       "      <th>UPDRS_4.1</th>\n",
       "      <th>UPDRS_4.2</th>\n",
       "      <th>UPDRS_4.3</th>\n",
       "      <th>UPDRS_4.4</th>\n",
       "      <th>UPDRS_4.5</th>\n",
       "      <th>UPDRS_4.6</th>\n",
       "    </tr>\n",
       "  </thead>\n",
       "  <tbody>\n",
       "    <tr>\n",
       "      <th>1962</th>\n",
       "      <td>1962</td>\n",
       "      <td>104</td>\n",
       "      <td>014aa655-5dbf-448b-99ad-09fd7776a682</td>\n",
       "      <td>1018</td>\n",
       "      <td>0.0</td>\n",
       "      <td>0.0</td>\n",
       "      <td>0.0</td>\n",
       "      <td>58</td>\n",
       "      <td>Male</td>\n",
       "      <td>6</td>\n",
       "      <td>2</td>\n",
       "      <td>0</td>\n",
       "      <td>0</td>\n",
       "      <td>0</td>\n",
       "      <td>0</td>\n",
       "      <td>0</td>\n",
       "      <td>0</td>\n",
       "    </tr>\n",
       "  </tbody>\n",
       "</table>\n",
       "</div>"
      ],
      "text/plain": [
       "      level_0  index                        measurement_id  subject_id  \\\n",
       "1962     1962    104  014aa655-5dbf-448b-99ad-09fd7776a682        1018   \n",
       "\n",
       "      on_off  dyskinesia  tremor  Age Gender  UPDRS_PartI_Total  \\\n",
       "1962     0.0         0.0     0.0   58   Male                  6   \n",
       "\n",
       "      UPDRS_PartII_Total  UPDRS_4.1  UPDRS_4.2  UPDRS_4.3  UPDRS_4.4  \\\n",
       "1962                   2          0          0          0          0   \n",
       "\n",
       "      UPDRS_4.5  UPDRS_4.6  \n",
       "1962          0          0  "
      ]
     },
     "execution_count": 20,
     "metadata": {},
     "output_type": "execute_result"
    }
   ],
   "source": [
    "labels[labels.measurement_id==\"014aa655-5dbf-448b-99ad-09fd7776a682\"]"
   ]
  },
  {
   "cell_type": "code",
   "execution_count": 21,
   "metadata": {},
   "outputs": [],
   "source": [
    "all_m_id = labels.measurement_id\n",
    "test_m_id = all_m_id[0]"
   ]
  },
  {
   "cell_type": "code",
   "execution_count": 22,
   "metadata": {},
   "outputs": [],
   "source": [
    "#lets go and filter data with some utility funcs\n",
    "from scipy.signal import butter, lfilter\n",
    "\n",
    "# https://scipy-cookbook.readthedocs.io/items/ButterworthBandpass.html\n",
    "\n",
    "# grabs some filter constants for making bandpass filter\n",
    "#    order is kinda like strength of filter... higher leads to more ideal filter but has weird interactions near the edges of the filter\n",
    "#    lower is less ideal but results in less artifacts being generated\n",
    "#    this is a bit of a cheat anyways, using a lowpass and highpass together, there may be less sketch filter designs applicable\n",
    "def butter_bandpass(lowcut, highcut, fs, order=5):\n",
    "    nyq = 0.5 * fs\n",
    "    low = lowcut / nyq\n",
    "    high = highcut / nyq\n",
    "    b, a = butter(order, [low, high], btype='band')\n",
    "    return b, a\n",
    "\n",
    "def butter_bandpass_filter(data, lowcut, highcut, fs, order=5):\n",
    "    b, a = butter_bandpass(lowcut, highcut, fs, order=order)\n",
    "    y = lfilter(b, a, data)\n",
    "    return y\n",
    "def butter_lp_filter(data, lowcut, fs, order=5):\n",
    "    nyq = 0.5 * fs #just get the highest freq possible (nyquist, and bandgap it!)\n",
    "    hc = nyq * 0.9 #can't accept exactly nyq\n",
    "    print(\"hc:\", hc)\n",
    "    return butter_bandpass_filter(data, lowcut, hyc, fs, order)\n",
    "def butter_bandgap_filter(data, lowcut, highcut, fs, order=5):\n",
    "    if highcut is None:\n",
    "        return butter_bandgap_filter(data, lowcut, fs, order)\n",
    "    toRemove = butter_bandpass_filter(data, lowcut, highcut, fs, order)\n",
    "    return data - toRemove"
   ]
  },
  {
   "cell_type": "code",
   "execution_count": 23,
   "metadata": {},
   "outputs": [],
   "source": [
    "def get_data(m_id):\n",
    "    return main.read_seq(\n",
    "        f\"/home/ms994/beat_pd/data/cis-pd/training_data/{m_id}.csv\",\n",
    "        t_colname=\"Timestamp\",\n",
    "        xyz_colnames=[\"X\", \"Y\", \"Z\"],\n",
    "        use_time_index=True,\n",
    "        resample=pd.Timedelta(seconds=1/25)\n",
    "    )\n",
    "def get_preprocessed_data(measurement_id, low_f=1, high_f=10):\n",
    "    data = main.read_seq(\n",
    "        f\"/home/ms994/beat_pd/data/cis-pd/training_data/{measurement_id}.csv\",\n",
    "        t_colname=\"Timestamp\",\n",
    "        xyz_colnames=[\"X\", \"Y\", \"Z\"],\n",
    "        use_time_index=True,\n",
    "        resample=pd.Timedelta(seconds=1/25)\n",
    "    )\n",
    "    timeIndex = data.index\n",
    "    dataCol = data.columns\n",
    "    #50 hz, make a bandpass between 1 and 10 hz, with order of 5\n",
    "    data = butter_bandpass_filter(data, low_f, high_f, 50, 5)\n",
    "    data = pd.DataFrame(data, index=timeIndex, columns=dataCol)\n",
    "    return data"
   ]
  },
  {
   "cell_type": "code",
   "execution_count": 24,
   "metadata": {},
   "outputs": [],
   "source": [
    "def read_mid_and_split(m_id, max_window=pd.Timedelta(seconds=60), overlap=pd.Timedelta(seconds=10)):\n",
    "    try:\n",
    "        data = get_data(m_id)\n",
    "        all_samples = []\n",
    "        currentIndex = pd.Timedelta(seconds=0)\n",
    "        while (currentIndex + max_window < data.index.max()):\n",
    "            all_samples.append(data.loc[currentIndex:currentIndex+max_window].values)\n",
    "            currentIndex += overlap\n",
    "        return all_samples\n",
    "    except:\n",
    "        return []"
   ]
  },
  {
   "cell_type": "code",
   "execution_count": 25,
   "metadata": {},
   "outputs": [],
   "source": [
    "all_m_id = sorted(all_m_id) #keep a constant m_id"
   ]
  },
  {
   "cell_type": "code",
   "execution_count": 26,
   "metadata": {},
   "outputs": [
    {
     "data": {
      "text/plain": [
       "'004ed441-24db-4839-8b5d-7465e4ea2a0a'"
      ]
     },
     "execution_count": 26,
     "metadata": {},
     "output_type": "execute_result"
    }
   ],
   "source": [
    "all_m_id[0]"
   ]
  },
  {
   "cell_type": "code",
   "execution_count": 27,
   "metadata": {},
   "outputs": [],
   "source": [
    "def write_data(to_run_q, to_return_q):\n",
    "    for m_id in iter(to_run_q.get, None):\n",
    "        data_samples = read_mid_and_split(m_id) \n",
    "        label = labels[labels.measurement_id == m_id]\n",
    "        for data_sample in data_samples:\n",
    "            to_return_q.put((data_sample, label))"
   ]
  },
  {
   "cell_type": "code",
   "execution_count": 28,
   "metadata": {},
   "outputs": [
    {
     "data": {
      "text/plain": [
       "'004ed441-24db-4839-8b5d-7465e4ea2a0a'"
      ]
     },
     "execution_count": 28,
     "metadata": {},
     "output_type": "execute_result"
    }
   ],
   "source": [
    "all_m_id[0]"
   ]
  },
  {
   "cell_type": "code",
   "execution_count": 29,
   "metadata": {},
   "outputs": [
    {
     "data": {
      "text/plain": [
       "[None, None, None, None, None, None, None, None, None]"
      ]
     },
     "execution_count": 29,
     "metadata": {},
     "output_type": "execute_result"
    }
   ],
   "source": [
    "from multiprocessing import Process, Manager\n",
    "m = Manager()\n",
    "n_process = 9\n",
    "toRunQ = m.Queue()\n",
    "toReturnQ = m.Queue()\n",
    "p = [Process(target=write_data, args=(toRunQ, toReturnQ)) for i in range(n_process)]\n",
    "[toRunQ.put(m_id) for m_id in all_m_id]\n",
    "[toRunQ.put(None) for i in range(n_process)]"
   ]
  },
  {
   "cell_type": "code",
   "execution_count": 30,
   "metadata": {},
   "outputs": [
    {
     "data": {
      "text/plain": [
       "[None, None, None, None, None, None, None, None, None]"
      ]
     },
     "execution_count": 30,
     "metadata": {},
     "output_type": "execute_result"
    }
   ],
   "source": [
    "[process.start() for process in p]"
   ]
  },
  {
   "cell_type": "code",
   "execution_count": 31,
   "metadata": {},
   "outputs": [
    {
     "data": {
      "text/plain": [
       "[None, None, None, None, None, None, None, None, None]"
      ]
     },
     "execution_count": 31,
     "metadata": {},
     "output_type": "execute_result"
    }
   ],
   "source": [
    "[process.join() for process in p]"
   ]
  },
  {
   "cell_type": "code",
   "execution_count": 32,
   "metadata": {},
   "outputs": [
    {
     "data": {
      "text/plain": [
       "204098"
      ]
     },
     "execution_count": 32,
     "metadata": {},
     "output_type": "execute_result"
    }
   ],
   "source": [
    "toReturnQ.qsize()"
   ]
  },
  {
   "cell_type": "code",
   "execution_count": 34,
   "metadata": {},
   "outputs": [],
   "source": [
    "all_subjects = sorted(labels.subject_id.unique())"
   ]
  },
  {
   "cell_type": "code",
   "execution_count": 36,
   "metadata": {},
   "outputs": [],
   "source": [
    "def gen():\n",
    "    while not toRunQ.empty() and not toReturnQ.empty():\n",
    "        data = toReturnQ.get()\n",
    "        yield parse_datum(data).SerializeToString()"
   ]
  },
  {
   "cell_type": "code",
   "execution_count": 37,
   "metadata": {},
   "outputs": [],
   "source": [
    "allResults = []\n",
    "while not toReturnQ.empty():\n",
    "    allResults.append(toReturnQ.get())"
   ]
  },
  {
   "cell_type": "code",
   "execution_count": 79,
   "metadata": {},
   "outputs": [],
   "source": [
    "from random import shuffle\n",
    "shuffle(allResults)"
   ]
  },
  {
   "cell_type": "code",
   "execution_count": null,
   "metadata": {},
   "outputs": [],
   "source": [
    "allRes"
   ]
  },
  {
   "cell_type": "code",
   "execution_count": 39,
   "metadata": {},
   "outputs": [],
   "source": [
    "allLabels = [res[1] for res in allResults]"
   ]
  },
  {
   "cell_type": "code",
   "execution_count": 46,
   "metadata": {},
   "outputs": [
    {
     "data": {
      "text/html": [
       "<div>\n",
       "<style scoped>\n",
       "    .dataframe tbody tr th:only-of-type {\n",
       "        vertical-align: middle;\n",
       "    }\n",
       "\n",
       "    .dataframe tbody tr th {\n",
       "        vertical-align: top;\n",
       "    }\n",
       "\n",
       "    .dataframe thead th {\n",
       "        text-align: right;\n",
       "    }\n",
       "</style>\n",
       "<table border=\"1\" class=\"dataframe\">\n",
       "  <thead>\n",
       "    <tr style=\"text-align: right;\">\n",
       "      <th></th>\n",
       "      <th>level_0</th>\n",
       "      <th>index</th>\n",
       "      <th>measurement_id</th>\n",
       "      <th>subject_id</th>\n",
       "      <th>on_off</th>\n",
       "      <th>dyskinesia</th>\n",
       "      <th>tremor</th>\n",
       "      <th>Age</th>\n",
       "      <th>Gender</th>\n",
       "      <th>UPDRS_PartI_Total</th>\n",
       "      <th>UPDRS_PartII_Total</th>\n",
       "      <th>UPDRS_4.1</th>\n",
       "      <th>UPDRS_4.2</th>\n",
       "      <th>UPDRS_4.3</th>\n",
       "      <th>UPDRS_4.4</th>\n",
       "      <th>UPDRS_4.5</th>\n",
       "      <th>UPDRS_4.6</th>\n",
       "    </tr>\n",
       "  </thead>\n",
       "  <tbody>\n",
       "    <tr>\n",
       "      <th>1632</th>\n",
       "      <td>1632</td>\n",
       "      <td>1632</td>\n",
       "      <td>00544f67-c07c-4a07-9c17-a7aee51d8b96</td>\n",
       "      <td>1049</td>\n",
       "      <td>2.0</td>\n",
       "      <td>1.0</td>\n",
       "      <td>2.0</td>\n",
       "      <td>54</td>\n",
       "      <td>Female</td>\n",
       "      <td>25</td>\n",
       "      <td>14</td>\n",
       "      <td>1</td>\n",
       "      <td>1</td>\n",
       "      <td>1</td>\n",
       "      <td>2</td>\n",
       "      <td>3</td>\n",
       "      <td>3</td>\n",
       "    </tr>\n",
       "    <tr>\n",
       "      <th>1632</th>\n",
       "      <td>1632</td>\n",
       "      <td>1632</td>\n",
       "      <td>00544f67-c07c-4a07-9c17-a7aee51d8b96</td>\n",
       "      <td>1049</td>\n",
       "      <td>2.0</td>\n",
       "      <td>1.0</td>\n",
       "      <td>2.0</td>\n",
       "      <td>54</td>\n",
       "      <td>Female</td>\n",
       "      <td>25</td>\n",
       "      <td>14</td>\n",
       "      <td>1</td>\n",
       "      <td>1</td>\n",
       "      <td>1</td>\n",
       "      <td>2</td>\n",
       "      <td>3</td>\n",
       "      <td>3</td>\n",
       "    </tr>\n",
       "    <tr>\n",
       "      <th>1632</th>\n",
       "      <td>1632</td>\n",
       "      <td>1632</td>\n",
       "      <td>00544f67-c07c-4a07-9c17-a7aee51d8b96</td>\n",
       "      <td>1049</td>\n",
       "      <td>2.0</td>\n",
       "      <td>1.0</td>\n",
       "      <td>2.0</td>\n",
       "      <td>54</td>\n",
       "      <td>Female</td>\n",
       "      <td>25</td>\n",
       "      <td>14</td>\n",
       "      <td>1</td>\n",
       "      <td>1</td>\n",
       "      <td>1</td>\n",
       "      <td>2</td>\n",
       "      <td>3</td>\n",
       "      <td>3</td>\n",
       "    </tr>\n",
       "    <tr>\n",
       "      <th>1632</th>\n",
       "      <td>1632</td>\n",
       "      <td>1632</td>\n",
       "      <td>00544f67-c07c-4a07-9c17-a7aee51d8b96</td>\n",
       "      <td>1049</td>\n",
       "      <td>2.0</td>\n",
       "      <td>1.0</td>\n",
       "      <td>2.0</td>\n",
       "      <td>54</td>\n",
       "      <td>Female</td>\n",
       "      <td>25</td>\n",
       "      <td>14</td>\n",
       "      <td>1</td>\n",
       "      <td>1</td>\n",
       "      <td>1</td>\n",
       "      <td>2</td>\n",
       "      <td>3</td>\n",
       "      <td>3</td>\n",
       "    </tr>\n",
       "    <tr>\n",
       "      <th>1632</th>\n",
       "      <td>1632</td>\n",
       "      <td>1632</td>\n",
       "      <td>00544f67-c07c-4a07-9c17-a7aee51d8b96</td>\n",
       "      <td>1049</td>\n",
       "      <td>2.0</td>\n",
       "      <td>1.0</td>\n",
       "      <td>2.0</td>\n",
       "      <td>54</td>\n",
       "      <td>Female</td>\n",
       "      <td>25</td>\n",
       "      <td>14</td>\n",
       "      <td>1</td>\n",
       "      <td>1</td>\n",
       "      <td>1</td>\n",
       "      <td>2</td>\n",
       "      <td>3</td>\n",
       "      <td>3</td>\n",
       "    </tr>\n",
       "  </tbody>\n",
       "</table>\n",
       "</div>"
      ],
      "text/plain": [
       "      level_0  index                        measurement_id  subject_id  \\\n",
       "1632     1632   1632  00544f67-c07c-4a07-9c17-a7aee51d8b96        1049   \n",
       "1632     1632   1632  00544f67-c07c-4a07-9c17-a7aee51d8b96        1049   \n",
       "1632     1632   1632  00544f67-c07c-4a07-9c17-a7aee51d8b96        1049   \n",
       "1632     1632   1632  00544f67-c07c-4a07-9c17-a7aee51d8b96        1049   \n",
       "1632     1632   1632  00544f67-c07c-4a07-9c17-a7aee51d8b96        1049   \n",
       "\n",
       "      on_off  dyskinesia  tremor  Age  Gender  UPDRS_PartI_Total  \\\n",
       "1632     2.0         1.0     2.0   54  Female                 25   \n",
       "1632     2.0         1.0     2.0   54  Female                 25   \n",
       "1632     2.0         1.0     2.0   54  Female                 25   \n",
       "1632     2.0         1.0     2.0   54  Female                 25   \n",
       "1632     2.0         1.0     2.0   54  Female                 25   \n",
       "\n",
       "      UPDRS_PartII_Total  UPDRS_4.1  UPDRS_4.2  UPDRS_4.3  UPDRS_4.4  \\\n",
       "1632                  14          1          1          1          2   \n",
       "1632                  14          1          1          1          2   \n",
       "1632                  14          1          1          1          2   \n",
       "1632                  14          1          1          1          2   \n",
       "1632                  14          1          1          1          2   \n",
       "\n",
       "      UPDRS_4.5  UPDRS_4.6  \n",
       "1632          3          3  \n",
       "1632          3          3  \n",
       "1632          3          3  \n",
       "1632          3          3  \n",
       "1632          3          3  "
      ]
     },
     "execution_count": 46,
     "metadata": {},
     "output_type": "execute_result"
    }
   ],
   "source": [
    "df = pd.concat(allLabels)\n",
    "df.head()"
   ]
  },
  {
   "cell_type": "code",
   "execution_count": 35,
   "metadata": {},
   "outputs": [
    {
     "ename": "NameError",
     "evalue": "name 'allResults' is not defined",
     "output_type": "error",
     "traceback": [
      "\u001b[0;31m---------------------------------------------------------------------------\u001b[0m",
      "\u001b[0;31mNameError\u001b[0m                                 Traceback (most recent call last)",
      "\u001b[0;32m<ipython-input-35-3e8178394f2e>\u001b[0m in \u001b[0;36m<module>\u001b[0;34m\u001b[0m\n\u001b[1;32m      1\u001b[0m \u001b[0;32mimport\u001b[0m \u001b[0mpickle\u001b[0m \u001b[0;32mas\u001b[0m \u001b[0mpkl\u001b[0m\u001b[0;34m\u001b[0m\u001b[0;34m\u001b[0m\u001b[0m\n\u001b[0;32m----> 2\u001b[0;31m \u001b[0mpkl\u001b[0m\u001b[0;34m.\u001b[0m\u001b[0mdump\u001b[0m\u001b[0;34m(\u001b[0m\u001b[0mallResults\u001b[0m\u001b[0;34m,\u001b[0m \u001b[0mopen\u001b[0m\u001b[0;34m(\u001b[0m\u001b[0;34m\"/n/scratch2/ms994/allZeData.pkl\"\u001b[0m\u001b[0;34m,\u001b[0m \u001b[0;34m\"wb\"\u001b[0m\u001b[0;34m)\u001b[0m\u001b[0;34m)\u001b[0m\u001b[0;34m\u001b[0m\u001b[0;34m\u001b[0m\u001b[0m\n\u001b[0m",
      "\u001b[0;31mNameError\u001b[0m: name 'allResults' is not defined"
     ]
    }
   ],
   "source": [
    "import pickle as pkl\n",
    "pkl.dump(allResults, open(\"/n/scratch2/ms994/allZeData.pkl\", \"wb\"))"
   ]
  },
  {
   "cell_type": "markdown",
   "metadata": {},
   "source": [
    "## set up the eval set"
   ]
  },
  {
   "cell_type": "code",
   "execution_count": 5,
   "metadata": {},
   "outputs": [],
   "source": [
    "import glob\n",
    "import pandas as pd"
   ]
  },
  {
   "cell_type": "code",
   "execution_count": 2,
   "metadata": {},
   "outputs": [],
   "source": [
    "eval_set = glob.glob(\"/home/ms994/beat_pd/data/test_set/cis-pd/testing_data/*.csv\")"
   ]
  },
  {
   "cell_type": "code",
   "execution_count": 25,
   "metadata": {},
   "outputs": [],
   "source": [
    "def get_data(m_id):\n",
    "    return main.read_seq(\n",
    "        f\"{m_id}\",\n",
    "        t_colname=\"Timestamp\",\n",
    "        xyz_colnames=[\"X\", \"Y\", \"Z\"],\n",
    "        use_time_index=True,\n",
    "        resample=pd.Timedelta(seconds=1/25)\n",
    "    )\n",
    "def read_mid_and_split(m_id, max_window=pd.Timedelta(seconds=60), overlap=pd.Timedelta(seconds=10)):\n",
    "#     try:\n",
    "        data = get_data(m_id)\n",
    "        all_samples = []\n",
    "        currentIndex = pd.Timedelta(seconds=0)\n",
    "        while (currentIndex + max_window < data.index.max()):\n",
    "            all_samples.append(data.loc[currentIndex:currentIndex+max_window].values)\n",
    "            currentIndex += overlap\n",
    "        return all_samples\n",
    "#     except:\n",
    "#         return []"
   ]
  },
  {
   "cell_type": "code",
   "execution_count": 38,
   "metadata": {},
   "outputs": [],
   "source": [
    "def write_data(to_run_q, to_return_q):\n",
    "    for m_id in iter(to_run_q.get, None):\n",
    "        data_samples = read_mid_and_split(m_id) \n",
    "        for data_sample in data_samples:\n",
    "            to_return_q.put((data_sample, m_id))"
   ]
  },
  {
   "cell_type": "code",
   "execution_count": 28,
   "metadata": {},
   "outputs": [
    {
     "data": {
      "text/plain": [
       "'004ed441-24db-4839-8b5d-7465e4ea2a0a'"
      ]
     },
     "execution_count": 28,
     "metadata": {},
     "output_type": "execute_result"
    }
   ],
   "source": [
    "all_m_id[0]"
   ]
  },
  {
   "cell_type": "code",
   "execution_count": 39,
   "metadata": {},
   "outputs": [
    {
     "data": {
      "text/plain": [
       "[None, None, None, None, None, None, None, None, None, None, None, None]"
      ]
     },
     "execution_count": 39,
     "metadata": {},
     "output_type": "execute_result"
    }
   ],
   "source": [
    "from multiprocessing import Process, Manager\n",
    "m = Manager()\n",
    "n_process = 12\n",
    "toRunQ = m.Queue()\n",
    "toReturnQ = m.Queue()\n",
    "p = [Process(target=write_data, args=(toRunQ, toReturnQ)) for i in range(n_process)]\n",
    "[toRunQ.put(m_id) for m_id in eval_set]\n",
    "[toRunQ.put(None) for i in range(n_process)]"
   ]
  },
  {
   "cell_type": "code",
   "execution_count": 40,
   "metadata": {},
   "outputs": [
    {
     "data": {
      "text/plain": [
       "[None, None, None, None, None, None, None, None, None, None, None, None]"
      ]
     },
     "execution_count": 40,
     "metadata": {},
     "output_type": "execute_result"
    }
   ],
   "source": [
    "[process.start() for process in p]"
   ]
  },
  {
   "cell_type": "code",
   "execution_count": 41,
   "metadata": {},
   "outputs": [
    {
     "data": {
      "text/plain": [
       "[None, None, None, None, None, None, None, None, None, None, None, None]"
      ]
     },
     "execution_count": 41,
     "metadata": {},
     "output_type": "execute_result"
    }
   ],
   "source": [
    "[process.join() for process in p]"
   ]
  },
  {
   "cell_type": "code",
   "execution_count": 34,
   "metadata": {},
   "outputs": [
    {
     "data": {
      "text/plain": [
       "0"
      ]
     },
     "execution_count": 34,
     "metadata": {},
     "output_type": "execute_result"
    }
   ],
   "source": [
    "toRunQ.qsize()"
   ]
  },
  {
   "cell_type": "code",
   "execution_count": 34,
   "metadata": {},
   "outputs": [],
   "source": [
    "all_subjects = sorted(labels.subject_id.unique())"
   ]
  },
  {
   "cell_type": "code",
   "execution_count": 36,
   "metadata": {},
   "outputs": [],
   "source": [
    "def gen():\n",
    "    while not toRunQ.empty() and not toReturnQ.empty():\n",
    "        data = toReturnQ.get()\n",
    "        yield parse_datum(data).SerializeToString()"
   ]
  },
  {
   "cell_type": "code",
   "execution_count": 37,
   "metadata": {},
   "outputs": [],
   "source": [
    "allResults = []\n",
    "while not toReturnQ.empty():\n",
    "    allResults.append(toReturnQ.get())"
   ]
  },
  {
   "cell_type": "code",
   "execution_count": 79,
   "metadata": {},
   "outputs": [],
   "source": [
    "from random import shuffle\n",
    "shuffle(allResults)"
   ]
  },
  {
   "cell_type": "code",
   "execution_count": 42,
   "metadata": {},
   "outputs": [],
   "source": [
    "allEvalResults = []\n",
    "while not toReturnQ.empty():\n",
    "    allEvalResults.append(toReturnQ.get())"
   ]
  },
  {
   "cell_type": "code",
   "execution_count": 44,
   "metadata": {},
   "outputs": [],
   "source": [
    "import pickle as pkl\n",
    "pkl.dump(allEvalResults, open(\"/n/scratch2/ms994/cispdEvalset.pkl\", \"wb\"))"
   ]
  },
  {
   "cell_type": "markdown",
   "metadata": {},
   "source": [
    "# TFRecords setup\n",
    "reduces memory usage to maintain slurm sshare fair usage credits"
   ]
  },
  {
   "cell_type": "code",
   "execution_count": 3,
   "metadata": {},
   "outputs": [],
   "source": [
    "import tensorflow as tf\n",
    "# Helperfunctions to make your feature definition more readable\n",
    "def _int64_feature(value):\n",
    "    return tf.train.Feature(int64_list=tf.train.Int64List(value=[value]))\n",
    "\n",
    "def _int64_feature_list(value):\n",
    "    return tf.train.Feature(int64_list=tf.train.Int64List(value=value))\n",
    "# Helperfunctions to make your feature definition more readable\n",
    "def _float_feature(value):\n",
    "    return tf.train.Feature(float_list=tf.train.FloatList(value=[value]))\n",
    "\n",
    "def _float_feature_list(value):\n",
    "    return tf.train.Feature(float_list=tf.train.FloatList(value=value))\n",
    "def parse_datum(datum):\n",
    "    xData = datum[0]\n",
    "    yData = datum[1].fillna(-1) #using -1 as a masking value\n",
    "    \n",
    "    \n",
    "    \n",
    "    feature = { \\\n",
    "               'data': _float_feature_list(xData[:1500].reshape(-1)), \\\n",
    "               'on_off': _int64_feature_list(yData.on_off.values.astype(int)), \\\n",
    "               'dyskinesia': _int64_feature_list(yData.dyskinesia.values.astype(int)), \\\n",
    "               'measurement_id': _int64_feature(all_m_id.index(yData.measurement_id.values[0])), \\\n",
    "               'tremor': _int64_feature_list(yData.tremor.values.astype(int)), \\\n",
    "               'age': _int64_feature_list(yData.Age.values.astype(int)), \\\n",
    "               'subjects': _int64_feature(all_subjects.index(yData.subject_id.values[0])),\n",
    "               'gender': _int64_feature_list(yData.Gender.apply(lambda x: x==\"Male\").values.astype(int)), \\\n",
    "               'UPDRS_PartI_Total': _int64_feature_list(yData.UPDRS_PartI_Total.values.astype(int)), \\\n",
    "               'UPDRS_PartII_Total': _int64_feature_list(yData.UPDRS_PartII_Total.values.astype(int)), \\\n",
    "               'UPDRS_4.1': _int64_feature_list(yData[\"UPDRS_4.1\"].values.astype(int)), \\\n",
    "               'UPDRS_4.2': _int64_feature_list(yData[\"UPDRS_4.2\"].values.astype(int)), \\\n",
    "               'UPDRS_4.3': _int64_feature_list(yData[\"UPDRS_4.3\"].values.astype(int)), \\\n",
    "               'UPDRS_4.4': _int64_feature_list(yData[\"UPDRS_4.4\"].values.astype(int)), \\\n",
    "               'UPDRS_4.5': _int64_feature_list(yData[\"UPDRS_4.5\"].values.astype(int)), \\\n",
    "               'UPDRS_4.6': _int64_feature_list(yData[\"UPDRS_4.6\"].values.astype(int)),\n",
    "              }\n",
    "    return tf.train.Example(features=tf.train.Features(feature=feature))"
   ]
  },
  {
   "cell_type": "code",
   "execution_count": 81,
   "metadata": {},
   "outputs": [],
   "source": [
    "#cuz im having issues with pulling directly off queue\n",
    "def gen():\n",
    "    for datum in allResults:\n",
    "        yield parse_datum(datum).SerializeToString()"
   ]
  },
  {
   "cell_type": "code",
   "execution_count": 82,
   "metadata": {},
   "outputs": [],
   "source": [
    "dataset = tf.data.Dataset.from_generator(gen, output_types=tf.string,  output_shapes=(tf.TensorShape([])))\n",
    "writer = tf.data.experimental.TFRecordWriter(\"/n/scratch2/beat_pd_ms_tmp/all_data.tfr\")\n",
    "writer.write(dataset)"
   ]
  },
  {
   "cell_type": "code",
   "execution_count": null,
   "metadata": {},
   "outputs": [],
   "source": [
    "# %%bash\n",
    "# scancel 2919535"
   ]
  },
  {
   "cell_type": "markdown",
   "metadata": {},
   "source": [
    "## Confirm TFRecords data correctly wrote down\n",
    "Confirmation that data is correct"
   ]
  },
  {
   "cell_type": "code",
   "execution_count": 3,
   "metadata": {},
   "outputs": [],
   "source": [
    "import tensorflow as tf\n",
    "tf.enable_eager_execution()\n",
    "# Helperfunctions to make your feature definition more readable\n",
    "\n",
    "def read_tfrecord(example):\n",
    "    features = { \\\n",
    "                'data':  tf.io.FixedLenFeature([1500*3], tf.float32,),\\\n",
    "                'on_off':  tf.io.FixedLenFeature([1], tf.int64,),\\\n",
    "                'dyskinesia':  tf.io.FixedLenFeature([1], tf.int64,),\n",
    "                'measurement_id':  tf.io.FixedLenFeature([1], tf.int64,),\\\n",
    "                'tremor':  tf.io.FixedLenFeature([1], tf.int64,), \\\n",
    "                'age':  tf.io.FixedLenFeature([1], tf.int64,), \\\n",
    "                \"subjects\": tf.io.FixedLenFeature([1], tf.int64), \\\n",
    "                \"gender\": tf.io.FixedLenFeature([1], tf.int64), \\\n",
    "                \"UPDRS_PartI_Total\": tf.io.FixedLenFeature([1], tf.int64), \\\n",
    "                \"UPDRS_PartII_Total\": tf.io.FixedLenFeature([1], tf.int64), \\\n",
    "                \"UPDRS_4.1\": tf.io.FixedLenFeature([1], tf.int64), \\\n",
    "                \"UPDRS_4.2\": tf.io.FixedLenFeature([1], tf.int64), \\\n",
    "                \"UPDRS_4.3\": tf.io.FixedLenFeature([1], tf.int64), \\\n",
    "                \"UPDRS_4.4\": tf.io.FixedLenFeature([1], tf.int64), \\\n",
    "                \"UPDRS_4.5\": tf.io.FixedLenFeature([1], tf.int64), \\\n",
    "                \"UPDRS_4.6\": tf.io.FixedLenFeature([1], tf.int64)\n",
    "               }\n",
    "\n",
    "    example = tf.io.parse_single_example(example, features)\n",
    "    return example\n",
    "def map_example_to_simple(example):\n",
    "    data = example['data']\n",
    "    data = tf.reshape(data, (1500,3))\n",
    "    return data, (example['on_off'][0],)\n",
    "dataset = tf.data.Dataset.list_files(\"/n/scratch2/beat_pd_ms_tmp/all_data.tfr\")\n",
    "option_no_order = tf.data.Options()\n",
    "option_no_order.experimental_deterministic = False\n",
    "dataset = dataset.with_options(option_no_order)\n",
    "dataset = dataset.interleave(tf.data.TFRecordDataset, cycle_length=1, num_parallel_calls=1)\n",
    "\n",
    "dataset = dataset.map(read_tfrecord, num_parallel_calls=1)"
   ]
  },
  {
   "cell_type": "code",
   "execution_count": 11,
   "metadata": {},
   "outputs": [],
   "source": [
    "iterator = dataset.take(20000).make_one_shot_iterator()"
   ]
  },
  {
   "cell_type": "code",
   "execution_count": 12,
   "metadata": {},
   "outputs": [],
   "source": [
    "m_id = []\n",
    "on_off = []\n",
    "\n",
    "for i in iterator:\n",
    "    m_id.append(i[\"measurement_id\"][0].numpy())\n",
    "    on_off.append(i[\"on_off\"][0].numpy())    "
   ]
  },
  {
   "cell_type": "code",
   "execution_count": 14,
   "metadata": {},
   "outputs": [],
   "source": [
    "df = pd.DataFrame([m_id, on_off])"
   ]
  },
  {
   "cell_type": "markdown",
   "metadata": {},
   "source": [
    "# RealPD\n",
    "## RealPD data setup"
   ]
  },
  {
   "cell_type": "code",
   "execution_count": 45,
   "metadata": {},
   "outputs": [],
   "source": [
    "labels = pd.read_csv(\"/home/ms994/beat_pd/data/real-pd/data_labels/REAL-PD_Training_Data_IDs_Labels.csv\")\n",
    "additional_labels = pd.read_csv(\"/home/ms994/beat_pd/data/real-pd/data_labels/REAL-PD_Ancillary_Data_IDs_Labels.csv\")"
   ]
  },
  {
   "cell_type": "code",
   "execution_count": 47,
   "metadata": {},
   "outputs": [],
   "source": [
    "demo_data = pd.read_csv(\"/home/ms994/beat_pd/data/real-pd/clinical_data/REAL-PD_Demographics.csv\")\n",
    "updrs_1 = pd.read_csv(\"/home/ms994/beat_pd/data/real-pd/clinical_data/REAL-PD_UPDRS_Part1_2_4.csv\")\n",
    "updrs_2 = pd.read_csv(\"/home/ms994/beat_pd/data/real-pd/clinical_data/REAL-PD_UPDRS_Part3.csv\")"
   ]
  },
  {
   "cell_type": "code",
   "execution_count": 48,
   "metadata": {},
   "outputs": [],
   "source": [
    "all_data = demo_data.join(updrs_1.set_index(\"subject_id\"), on=\"subject_id\").join(updrs_2.set_index(\"subject_id\"))"
   ]
  },
  {
   "cell_type": "code",
   "execution_count": 49,
   "metadata": {},
   "outputs": [],
   "source": [
    "labels = pd.concat([labels, additional_labels])"
   ]
  },
  {
   "cell_type": "code",
   "execution_count": 50,
   "metadata": {},
   "outputs": [],
   "source": [
    "labels = labels.reset_index()"
   ]
  },
  {
   "cell_type": "code",
   "execution_count": 51,
   "metadata": {},
   "outputs": [],
   "source": [
    "labels = labels.join(all_data.set_index(\"subject_id\"), how=\"inner\", on=\"subject_id\")"
   ]
  },
  {
   "cell_type": "code",
   "execution_count": 66,
   "metadata": {},
   "outputs": [],
   "source": [
    "def get_data(m_id):\n",
    "    return main.read_seq(\n",
    "        f\"/home/ms994/beat_pd/data/real-pd/training_data/smartwatch_accelerometer/{m_id}.csv\",\n",
    "        \n",
    "        use_time_index=True,\n",
    "        resample=pd.Timedelta(seconds=1/25)\n",
    "    )\n",
    "def get_preprocessed_data(measurement_id, low_f=1, high_f=10):\n",
    "    data = main.read_seq(\n",
    "        f\"/home/ms994/beat_pd/data/real-pd/training_data/{measurement_id}.csv\",\n",
    "        t_colname=\"Timestamp\",\n",
    "        xyz_colnames=[\"X\", \"Y\", \"Z\"],\n",
    "        use_time_index=True,\n",
    "        resample=pd.Timedelta(seconds=1/25)\n",
    "    )\n",
    "    timeIndex = data.index\n",
    "    dataCol = data.columns\n",
    "    #50 hz, make a bandpass between 1 and 10 hz, with order of 5\n",
    "    data = butter_bandpass_filter(data, low_f, high_f, 50, 5)\n",
    "    data = pd.DataFrame(data, index=timeIndex, columns=dataCol)\n",
    "    return data"
   ]
  },
  {
   "cell_type": "code",
   "execution_count": 67,
   "metadata": {},
   "outputs": [],
   "source": [
    "def read_mid_and_split(m_id, max_window=pd.Timedelta(seconds=60), overlap=pd.Timedelta(seconds=10)):\n",
    "        data = get_data(m_id)\n",
    "        all_samples = []\n",
    "        currentIndex = pd.Timedelta(seconds=0)\n",
    "        while (currentIndex + max_window < data.index.max()):\n",
    "            all_samples.append(data.loc[currentIndex:currentIndex+max_window].values)\n",
    "            currentIndex += overlap\n",
    "        return all_samples"
   ]
  },
  {
   "cell_type": "code",
   "execution_count": 68,
   "metadata": {},
   "outputs": [],
   "source": [
    "all_m_id = labels.measurement_id\n",
    "test_m_id = all_m_id[0]\n",
    "all_m_id = sorted(all_m_id) #keep a constant m_id"
   ]
  },
  {
   "cell_type": "code",
   "execution_count": 62,
   "metadata": {},
   "outputs": [
    {
     "data": {
      "text/plain": [
       "'00a49337-386c-4de3-a220-4cf3c0d20a7d'"
      ]
     },
     "execution_count": 62,
     "metadata": {},
     "output_type": "execute_result"
    }
   ],
   "source": [
    "all_m_id[0]"
   ]
  },
  {
   "cell_type": "code",
   "execution_count": 75,
   "metadata": {},
   "outputs": [],
   "source": [
    "def write_data(to_run_q, to_return_q):\n",
    "        for m_id in iter(to_run_q.get, None):\n",
    "            try:\n",
    "                data_samples = read_mid_and_split(m_id) \n",
    "                label = labels[labels.measurement_id == m_id]\n",
    "                for data_sample in data_samples:\n",
    "                    to_return_q.put((data_sample, label))\n",
    "            except:\n",
    "                print(\"fail\")\n",
    "        "
   ]
  },
  {
   "cell_type": "code",
   "execution_count": 76,
   "metadata": {},
   "outputs": [
    {
     "data": {
      "text/plain": [
       "[None, None, None, None, None, None, None, None, None, None, None, None]"
      ]
     },
     "execution_count": 76,
     "metadata": {},
     "output_type": "execute_result"
    }
   ],
   "source": [
    "from multiprocessing import Process, Manager\n",
    "m = Manager()\n",
    "n_process = 12\n",
    "toRunQ = m.Queue()\n",
    "toReturnQ = m.Queue()\n",
    "p = [Process(target=write_data, args=(toRunQ, toReturnQ)) for i in range(n_process)]\n",
    "[toRunQ.put(m_id) for m_id in all_m_id]\n",
    "[toRunQ.put(None) for i in range(n_process)]"
   ]
  },
  {
   "cell_type": "code",
   "execution_count": 77,
   "metadata": {},
   "outputs": [
    {
     "name": "stdout",
     "output_type": "stream",
     "text": [
      "fail\n",
      "fail\n",
      "fail\n",
      "fail\n",
      "fail\n"
     ]
    },
    {
     "data": {
      "text/plain": [
       "[None, None, None, None, None, None, None, None, None, None, None, None]"
      ]
     },
     "execution_count": 77,
     "metadata": {},
     "output_type": "execute_result"
    },
    {
     "name": "stdout",
     "output_type": "stream",
     "text": [
      "fail\n",
      "fail\n",
      "fail\n",
      "fail\n",
      "fail\n",
      "fail\n",
      "fail\n",
      "fail\n",
      "fail\n",
      "fail\n",
      "fail\n",
      "fail\n",
      "fail\n",
      "fail\n",
      "fail\n",
      "fail\n",
      "fail\n",
      "fail\n",
      "fail\n",
      "fail\n",
      "fail\n",
      "fail\n",
      "fail\n",
      "fail\n",
      "fail\n",
      "fail\n",
      "fail\n",
      "fail\n",
      "fail\n",
      "fail\n",
      "fail\n",
      "fail\n",
      "fail\n",
      "fail\n",
      "fail\n",
      "fail\n",
      "fail\n",
      "fail\n",
      "fail\n",
      "fail\n",
      "fail\n",
      "fail\n",
      "fail\n",
      "fail\n",
      "fail\n",
      "fail\n",
      "fail\n",
      "fail\n",
      "fail\n",
      "fail\n",
      "fail\n",
      "fail\n",
      "fail\n",
      "fail\n",
      "fail\n",
      "fail\n",
      "fail\n",
      "fail\n",
      "fail\n",
      "fail\n",
      "fail\n",
      "fail\n",
      "fail\n",
      "fail\n",
      "fail\n",
      "fail\n",
      "fail\n",
      "fail\n",
      "fail\n",
      "fail\n",
      "fail\n",
      "fail\n",
      "fail\n",
      "fail\n",
      "fail\n",
      "fail\n",
      "fail\n",
      "fail\n",
      "fail\n",
      "fail\n",
      "fail\n",
      "fail\n",
      "fail\n",
      "fail\n",
      "fail\n",
      "fail\n",
      "fail\n",
      "fail\n",
      "fail\n",
      "fail\n",
      "fail\n",
      "fail\n",
      "fail\n",
      "fail\n",
      "fail\n",
      "fail\n",
      "fail\n",
      "fail\n",
      "fail\n",
      "fail\n",
      "fail\n",
      "fail\n",
      "fail\n",
      "fail\n",
      "fail\n",
      "fail\n",
      "fail\n",
      "fail\n",
      "fail\n",
      "fail\n",
      "fail\n",
      "fail\n",
      "fail\n",
      "fail\n",
      "fail\n",
      "fail\n",
      "fail\n",
      "fail\n",
      "fail\n",
      "fail\n",
      "fail\n",
      "fail\n",
      "fail\n",
      "fail\n",
      "fail\n",
      "fail\n",
      "fail\n",
      "fail\n",
      "fail\n",
      "fail\n",
      "fail\n",
      "fail\n",
      "fail\n",
      "fail\n",
      "fail\n",
      "fail\n",
      "fail\n",
      "fail\n",
      "fail\n",
      "fail\n",
      "fail\n",
      "fail\n",
      "fail\n",
      "fail\n",
      "fail\n",
      "fail\n",
      "fail\n",
      "fail\n",
      "fail\n",
      "fail\n",
      "fail\n",
      "fail\n",
      "fail\n",
      "fail\n",
      "fail\n",
      "fail\n",
      "fail\n",
      "fail\n",
      "fail\n",
      "fail\n",
      "fail\n",
      "fail\n",
      "fail\n",
      "fail\n",
      "fail\n",
      "fail\n",
      "fail\n",
      "fail\n",
      "fail\n",
      "fail\n",
      "fail\n",
      "fail\n",
      "fail\n",
      "fail\n",
      "fail\n",
      "fail\n",
      "fail\n",
      "fail\n",
      "fail\n",
      "fail\n",
      "fail\n",
      "fail\n",
      "fail\n",
      "fail\n",
      "fail\n",
      "fail\n",
      "fail\n",
      "fail\n",
      "fail\n",
      "fail\n",
      "fail\n",
      "fail\n",
      "fail\n",
      "fail\n",
      "fail\n",
      "fail\n",
      "fail\n",
      "fail\n",
      "fail\n",
      "fail\n",
      "fail\n",
      "fail\n",
      "fail\n",
      "fail\n",
      "fail\n",
      "fail\n",
      "fail\n",
      "fail\n",
      "fail\n",
      "fail\n",
      "fail\n",
      "fail\n",
      "fail\n",
      "fail\n",
      "fail\n",
      "fail\n",
      "fail\n",
      "fail\n",
      "fail\n",
      "fail\n",
      "fail\n",
      "fail\n",
      "fail\n",
      "fail\n",
      "fail\n",
      "fail\n",
      "fail\n",
      "fail\n",
      "fail\n",
      "fail\n",
      "fail\n",
      "fail\n",
      "fail\n",
      "fail\n",
      "fail\n",
      "fail\n",
      "fail\n",
      "fail\n",
      "fail\n",
      "fail\n",
      "fail\n",
      "fail\n",
      "fail\n",
      "fail\n",
      "fail\n",
      "fail\n",
      "fail\n",
      "fail\n",
      "fail\n",
      "fail\n",
      "fail\n",
      "fail\n",
      "fail\n",
      "fail\n",
      "fail\n",
      "fail\n",
      "fail\n",
      "fail\n",
      "fail\n",
      "fail\n",
      "fail\n",
      "fail\n",
      "fail\n",
      "fail\n",
      "fail\n",
      "fail\n",
      "fail\n",
      "fail\n",
      "fail\n",
      "fail\n",
      "fail\n",
      "fail\n",
      "fail\n",
      "fail\n",
      "fail\n",
      "fail\n",
      "fail\n",
      "fail\n",
      "fail\n",
      "fail\n",
      "fail\n",
      "fail\n",
      "fail\n",
      "fail\n",
      "fail\n",
      "fail\n",
      "fail\n",
      "fail\n",
      "fail\n",
      "fail\n",
      "fail\n",
      "fail\n",
      "fail\n",
      "fail\n",
      "fail\n",
      "fail\n",
      "fail\n",
      "fail\n",
      "fail\n",
      "fail\n",
      "fail\n",
      "fail\n",
      "fail\n",
      "fail\n",
      "fail\n",
      "fail\n",
      "fail\n",
      "fail\n",
      "fail\n",
      "fail\n",
      "fail\n",
      "fail\n",
      "fail\n",
      "fail\n",
      "fail\n",
      "fail\n",
      "fail\n",
      "fail\n",
      "fail\n",
      "fail\n",
      "fail\n",
      "fail\n",
      "fail\n",
      "fail\n",
      "fail\n",
      "fail\n",
      "fail\n",
      "fail\n",
      "fail\n",
      "fail\n",
      "fail\n",
      "fail\n",
      "fail\n",
      "fail\n",
      "fail\n",
      "fail\n",
      "fail\n",
      "fail\n",
      "fail\n",
      "fail\n",
      "fail\n",
      "fail\n",
      "fail\n",
      "fail\n",
      "fail\n",
      "fail\n",
      "fail\n",
      "fail\n",
      "fail\n",
      "fail\n",
      "fail\n",
      "fail\n",
      "fail\n",
      "fail\n",
      "fail\n",
      "fail\n",
      "fail\n",
      "fail\n",
      "fail\n",
      "fail\n",
      "fail\n",
      "fail\n",
      "fail\n",
      "fail\n",
      "fail\n",
      "fail\n",
      "fail\n",
      "fail\n",
      "fail\n",
      "fail\n",
      "fail\n",
      "fail\n",
      "fail\n",
      "fail\n",
      "fail\n",
      "fail\n",
      "fail\n",
      "fail\n",
      "fail\n",
      "fail\n",
      "fail\n",
      "fail\n",
      "fail\n",
      "fail\n",
      "fail\n",
      "fail\n",
      "fail\n",
      "fail\n",
      "fail\n",
      "fail\n",
      "fail\n",
      "fail\n",
      "fail\n",
      "fail\n",
      "fail\n",
      "fail\n",
      "fail\n",
      "fail\n",
      "fail\n",
      "fail\n",
      "fail\n",
      "fail\n",
      "fail\n",
      "fail\n",
      "fail\n",
      "fail\n",
      "fail\n",
      "fail\n",
      "fail\n",
      "fail\n",
      "fail\n",
      "fail\n",
      "fail\n",
      "fail\n",
      "fail\n",
      "fail\n",
      "fail\n",
      "fail\n",
      "fail\n",
      "fail\n",
      "fail\n",
      "fail\n",
      "fail\n",
      "fail\n",
      "fail\n",
      "fail\n",
      "fail\n",
      "fail\n",
      "fail\n",
      "fail\n",
      "fail\n",
      "fail\n",
      "fail\n",
      "fail\n",
      "fail\n",
      "fail\n",
      "fail\n",
      "fail\n",
      "fail\n",
      "fail\n",
      "fail\n",
      "fail\n",
      "fail\n",
      "fail\n",
      "fail\n",
      "fail\n",
      "fail\n",
      "fail\n",
      "fail\n",
      "fail\n",
      "fail\n",
      "fail\n",
      "fail\n",
      "fail\n",
      "fail\n",
      "fail\n",
      "fail\n",
      "fail\n",
      "fail\n",
      "fail\n",
      "fail\n",
      "fail\n",
      "fail\n",
      "fail\n",
      "fail\n",
      "fail\n",
      "fail\n",
      "fail\n",
      "fail\n",
      "fail\n",
      "fail\n",
      "fail\n",
      "fail\n",
      "fail\n",
      "fail\n",
      "fail\n",
      "fail\n",
      "fail\n",
      "fail\n",
      "fail\n",
      "fail\n",
      "fail\n",
      "fail\n",
      "fail\n",
      "fail\n",
      "fail\n",
      "fail\n",
      "fail\n",
      "fail\n",
      "fail\n",
      "fail\n",
      "fail\n",
      "fail\n",
      "fail\n",
      "fail\n",
      "fail\n",
      "fail\n",
      "fail\n",
      "fail\n",
      "fail\n",
      "fail\n",
      "fail\n",
      "fail\n",
      "fail\n",
      "fail\n",
      "fail\n",
      "fail\n",
      "fail\n",
      "fail\n",
      "fail\n",
      "fail\n",
      "fail\n",
      "fail\n",
      "fail\n",
      "fail\n",
      "fail\n",
      "fail\n",
      "fail\n",
      "fail\n",
      "fail\n",
      "fail\n",
      "fail\n",
      "fail\n",
      "fail\n",
      "fail\n",
      "fail\n",
      "fail\n",
      "fail\n",
      "fail\n",
      "fail\n",
      "fail\n",
      "fail\n",
      "fail\n",
      "fail\n",
      "fail\n",
      "fail\n",
      "fail\n",
      "fail\n",
      "fail\n",
      "fail\n",
      "fail\n"
     ]
    }
   ],
   "source": [
    "[process.start() for process in p]"
   ]
  },
  {
   "cell_type": "code",
   "execution_count": 81,
   "metadata": {},
   "outputs": [
    {
     "data": {
      "text/plain": [
       "19565"
      ]
     },
     "execution_count": 81,
     "metadata": {},
     "output_type": "execute_result"
    }
   ],
   "source": [
    "toReturnQ.qsize()"
   ]
  },
  {
   "cell_type": "code",
   "execution_count": 82,
   "metadata": {},
   "outputs": [
    {
     "data": {
      "text/plain": [
       "[None, None, None, None, None, None, None, None, None, None, None, None]"
      ]
     },
     "execution_count": 82,
     "metadata": {},
     "output_type": "execute_result"
    }
   ],
   "source": [
    "[process.join() for process in p]"
   ]
  },
  {
   "cell_type": "code",
   "execution_count": 30,
   "metadata": {},
   "outputs": [
    {
     "data": {
      "text/plain": [
       "0"
      ]
     },
     "execution_count": 30,
     "metadata": {},
     "output_type": "execute_result"
    }
   ],
   "source": [
    "toRunQ.qsize()"
   ]
  },
  {
   "cell_type": "code",
   "execution_count": 34,
   "metadata": {},
   "outputs": [],
   "source": [
    "all_subjects = sorted(labels.subject_id.unique())"
   ]
  },
  {
   "cell_type": "code",
   "execution_count": 36,
   "metadata": {},
   "outputs": [],
   "source": [
    "def gen():\n",
    "    while not toRunQ.empty() and not toReturnQ.empty():\n",
    "        data = toReturnQ.get()\n",
    "        yield parse_datum(data).SerializeToString()"
   ]
  },
  {
   "cell_type": "code",
   "execution_count": 83,
   "metadata": {},
   "outputs": [],
   "source": [
    "allResults = []\n",
    "while not toReturnQ.empty():\n",
    "    allResults.append(toReturnQ.get())"
   ]
  },
  {
   "cell_type": "code",
   "execution_count": 79,
   "metadata": {},
   "outputs": [],
   "source": [
    "from random import shuffle\n",
    "shuffle(allResults)"
   ]
  },
  {
   "cell_type": "code",
   "execution_count": 84,
   "metadata": {},
   "outputs": [],
   "source": [
    "import pickle as pkl\n",
    "pkl.dump(allResults, open(\"/n/scratch2/ms994/realPDdata.pkl\",\"wb\"))"
   ]
  },
  {
   "cell_type": "markdown",
   "metadata": {},
   "source": [
    "## Eval"
   ]
  },
  {
   "cell_type": "code",
   "execution_count": 85,
   "metadata": {},
   "outputs": [],
   "source": [
    "import glob\n",
    "import pandas as pd"
   ]
  },
  {
   "cell_type": "code",
   "execution_count": 88,
   "metadata": {},
   "outputs": [],
   "source": [
    "eval_set = glob.glob(\"/home/ms994/beat_pd/data/test_set/real-pd/testing_data/smartwatch_accelerometer/*.csv\")"
   ]
  },
  {
   "cell_type": "code",
   "execution_count": 92,
   "metadata": {},
   "outputs": [],
   "source": [
    "def get_data(m_id):\n",
    "    return main.read_seq(\n",
    "        f\"{m_id}\",\n",
    "        use_time_index=True,\n",
    "        resample=pd.Timedelta(seconds=1/25)\n",
    "    )\n",
    "def read_mid_and_split(m_id, max_window=pd.Timedelta(seconds=60), overlap=pd.Timedelta(seconds=10)):\n",
    "#     try:\n",
    "        data = get_data(m_id)\n",
    "        all_samples = []\n",
    "        currentIndex = pd.Timedelta(seconds=0)\n",
    "        while (currentIndex + max_window < data.index.max()):\n",
    "            all_samples.append(data.loc[currentIndex:currentIndex+max_window].values)\n",
    "            currentIndex += overlap\n",
    "        return all_samples\n",
    "#     except:\n",
    "#         return []"
   ]
  },
  {
   "cell_type": "code",
   "execution_count": 93,
   "metadata": {},
   "outputs": [],
   "source": [
    "def write_data(to_run_q, to_return_q):\n",
    "    for m_id in iter(to_run_q.get, None):\n",
    "        data_samples = read_mid_and_split(m_id) \n",
    "        for data_sample in data_samples:\n",
    "            to_return_q.put((data_sample, m_id))"
   ]
  },
  {
   "cell_type": "code",
   "execution_count": 28,
   "metadata": {},
   "outputs": [
    {
     "data": {
      "text/plain": [
       "'004ed441-24db-4839-8b5d-7465e4ea2a0a'"
      ]
     },
     "execution_count": 28,
     "metadata": {},
     "output_type": "execute_result"
    }
   ],
   "source": [
    "all_m_id[0]"
   ]
  },
  {
   "cell_type": "code",
   "execution_count": 99,
   "metadata": {},
   "outputs": [
    {
     "data": {
      "text/plain": [
       "[None, None, None, None, None, None, None, None, None, None, None, None]"
      ]
     },
     "execution_count": 99,
     "metadata": {},
     "output_type": "execute_result"
    }
   ],
   "source": [
    "from multiprocessing import Process, Manager\n",
    "m = Manager()\n",
    "n_process = 12\n",
    "toRunQ = m.Queue()\n",
    "toReturnQ = m.Queue()\n",
    "p = [Process(target=write_data, args=(toRunQ, toReturnQ)) for i in range(n_process)]\n",
    "[toRunQ.put(m_id) for m_id in eval_set]\n",
    "[toRunQ.put(None) for i in range(n_process)]"
   ]
  },
  {
   "cell_type": "code",
   "execution_count": 100,
   "metadata": {},
   "outputs": [
    {
     "data": {
      "text/plain": [
       "[None, None, None, None, None, None, None, None, None, None, None, None]"
      ]
     },
     "execution_count": 100,
     "metadata": {},
     "output_type": "execute_result"
    }
   ],
   "source": [
    "[process.start() for process in p]"
   ]
  },
  {
   "cell_type": "code",
   "execution_count": 101,
   "metadata": {},
   "outputs": [
    {
     "data": {
      "text/plain": [
       "[None, None, None, None, None, None, None, None, None, None, None, None]"
      ]
     },
     "execution_count": 101,
     "metadata": {},
     "output_type": "execute_result"
    }
   ],
   "source": [
    "[process.join() for process in p]"
   ]
  },
  {
   "cell_type": "code",
   "execution_count": 97,
   "metadata": {},
   "outputs": [
    {
     "data": {
      "text/plain": [
       "0"
      ]
     },
     "execution_count": 97,
     "metadata": {},
     "output_type": "execute_result"
    }
   ],
   "source": [
    "toRunQ.qsize()"
   ]
  },
  {
   "cell_type": "code",
   "execution_count": 34,
   "metadata": {},
   "outputs": [],
   "source": [
    "all_subjects = sorted(labels.subject_id.unique())"
   ]
  },
  {
   "cell_type": "code",
   "execution_count": 36,
   "metadata": {},
   "outputs": [],
   "source": [
    "def gen():\n",
    "    while not toRunQ.empty() and not toReturnQ.empty():\n",
    "        data = toReturnQ.get()\n",
    "        yield parse_datum(data).SerializeToString()"
   ]
  },
  {
   "cell_type": "code",
   "execution_count": 79,
   "metadata": {},
   "outputs": [],
   "source": [
    "from random import shuffle\n",
    "shuffle(allResults)"
   ]
  },
  {
   "cell_type": "code",
   "execution_count": 102,
   "metadata": {},
   "outputs": [],
   "source": [
    "allEvalResults = []\n",
    "while not toReturnQ.empty():\n",
    "    allEvalResults.append(toReturnQ.get())"
   ]
  },
  {
   "cell_type": "code",
   "execution_count": 103,
   "metadata": {},
   "outputs": [],
   "source": [
    "import pickle as pkl\n",
    "pkl.dump(allEvalResults, open(\"/n/scratch2/ms994/realpdEvalset.pkl\", \"wb\"))"
   ]
  },
  {
   "cell_type": "code",
   "execution_count": null,
   "metadata": {},
   "outputs": [],
   "source": []
  }
 ],
 "metadata": {
  "kernelspec": {
   "display_name": "Python 3",
   "language": "python",
   "name": "python3"
  },
  "language_info": {
   "codemirror_mode": {
    "name": "ipython",
    "version": 3
   },
   "file_extension": ".py",
   "mimetype": "text/x-python",
   "name": "python",
   "nbconvert_exporter": "python",
   "pygments_lexer": "ipython3",
   "version": "3.7.3"
  },
  "toc": {
   "base_numbering": 1,
   "nav_menu": {},
   "number_sections": true,
   "sideBar": true,
   "skip_h1_title": false,
   "title_cell": "Table of Contents",
   "title_sidebar": "Contents",
   "toc_cell": false,
   "toc_position": {},
   "toc_section_display": true,
   "toc_window_display": true
  }
 },
 "nbformat": 4,
 "nbformat_minor": 2
}
