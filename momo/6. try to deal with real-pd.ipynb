{
 "cells": [
  {
   "cell_type": "markdown",
   "metadata": {},
   "source": [
    "# import libraries"
   ]
  },
  {
   "cell_type": "code",
   "execution_count": 1,
   "metadata": {},
   "outputs": [],
   "source": [
    "import numpy as np\n",
    "import pandas as pd\n",
    "import glob\n",
    "import sys, os\n",
    "sys.path.append(os.path.realpath(\"/home/ms994/beat_pd2\"))\n",
    "import matplotlib.pyplot as plt"
   ]
  },
  {
   "cell_type": "code",
   "execution_count": 2,
   "metadata": {},
   "outputs": [],
   "source": [
    "import src.main\n",
    "import momo.tf_mapper as tfm"
   ]
  },
  {
   "cell_type": "markdown",
   "metadata": {},
   "source": [
    "# Try to review the data again"
   ]
  },
  {
   "cell_type": "code",
   "execution_count": 3,
   "metadata": {},
   "outputs": [],
   "source": [
    "train_watch_accel = glob.glob(\"/home/ms994/beat_pd/data/real-pd/training_data/smartwatch_accelerometer/*.csv\")\n",
    "train_watch_gyro = glob.glob(\"/home/ms994/beat_pd/data/real-pd/training_data/smartwatch_gyroscope/*.csv\")\n",
    "train_phone_accel = glob.glob(\"/home/ms994/beat_pd/data/real-pd/training_data/smartphone_accelerometer/*.csv\")"
   ]
  },
  {
   "cell_type": "code",
   "execution_count": 4,
   "metadata": {},
   "outputs": [
    {
     "data": {
      "text/html": [
       "<div>\n",
       "<style scoped>\n",
       "    .dataframe tbody tr th:only-of-type {\n",
       "        vertical-align: middle;\n",
       "    }\n",
       "\n",
       "    .dataframe tbody tr th {\n",
       "        vertical-align: top;\n",
       "    }\n",
       "\n",
       "    .dataframe thead th {\n",
       "        text-align: right;\n",
       "    }\n",
       "</style>\n",
       "<table border=\"1\" class=\"dataframe\">\n",
       "  <thead>\n",
       "    <tr style=\"text-align: right;\">\n",
       "      <th></th>\n",
       "      <th>x</th>\n",
       "      <th>y</th>\n",
       "      <th>z</th>\n",
       "    </tr>\n",
       "    <tr>\n",
       "      <th>t</th>\n",
       "      <th></th>\n",
       "      <th></th>\n",
       "      <th></th>\n",
       "    </tr>\n",
       "  </thead>\n",
       "  <tbody>\n",
       "    <tr>\n",
       "      <th>0.000</th>\n",
       "      <td>1.786075</td>\n",
       "      <td>-5.382165</td>\n",
       "      <td>8.226477</td>\n",
       "    </tr>\n",
       "    <tr>\n",
       "      <th>0.023</th>\n",
       "      <td>1.800440</td>\n",
       "      <td>-5.262455</td>\n",
       "      <td>8.212111</td>\n",
       "    </tr>\n",
       "    <tr>\n",
       "      <th>0.040</th>\n",
       "      <td>1.781286</td>\n",
       "      <td>-5.439626</td>\n",
       "      <td>8.212111</td>\n",
       "    </tr>\n",
       "    <tr>\n",
       "      <th>0.063</th>\n",
       "      <td>1.762132</td>\n",
       "      <td>-5.453991</td>\n",
       "      <td>8.221688</td>\n",
       "    </tr>\n",
       "    <tr>\n",
       "      <th>0.080</th>\n",
       "      <td>1.843535</td>\n",
       "      <td>-5.530606</td>\n",
       "      <td>8.145074</td>\n",
       "    </tr>\n",
       "  </tbody>\n",
       "</table>\n",
       "</div>"
      ],
      "text/plain": [
       "              x         y         z\n",
       "t                                  \n",
       "0.000  1.786075 -5.382165  8.226477\n",
       "0.023  1.800440 -5.262455  8.212111\n",
       "0.040  1.781286 -5.439626  8.212111\n",
       "0.063  1.762132 -5.453991  8.221688\n",
       "0.080  1.843535 -5.530606  8.145074"
      ]
     },
     "execution_count": 4,
     "metadata": {},
     "output_type": "execute_result"
    }
   ],
   "source": [
    "src.main.read_seq(train_watch_accel[0]).head()"
   ]
  },
  {
   "cell_type": "code",
   "execution_count": 5,
   "metadata": {},
   "outputs": [],
   "source": [
    "labels = pd.concat([pd.read_csv(\"/home/ms994/beat_pd/data/real-pd/data_labels/REAL-PD_Training_Data_IDs_Labels.csv\"),pd.read_csv(\"/home/ms994/beat_pd/data/real-pd/data_labels/REAL-PD_Ancillary_Data_IDs_Labels.csv\")])"
   ]
  },
  {
   "cell_type": "code",
   "execution_count": 6,
   "metadata": {},
   "outputs": [
    {
     "data": {
      "text/plain": [
       "(1081,)"
      ]
     },
     "execution_count": 6,
     "metadata": {},
     "output_type": "execute_result"
    }
   ],
   "source": [
    "labels.measurement_id.unique().shape"
   ]
  },
  {
   "cell_type": "code",
   "execution_count": 7,
   "metadata": {},
   "outputs": [
    {
     "data": {
      "text/plain": [
       "(1081, 5)"
      ]
     },
     "execution_count": 7,
     "metadata": {},
     "output_type": "execute_result"
    }
   ],
   "source": [
    "labels.shape"
   ]
  },
  {
   "cell_type": "code",
   "execution_count": 8,
   "metadata": {},
   "outputs": [
    {
     "name": "stdout",
     "output_type": "stream",
     "text": [
      "/home/ms994/beat_pd/data/real-pd/clinical_data/REAL-PD_Smartphone_Metadata.csv\n"
     ]
    }
   ],
   "source": [
    "%%bash\n",
    "ls /home/ms994/beat_pd/data/real-pd/clinical_data/REAL-PD_Smartphone_Metadata.csv"
   ]
  },
  {
   "cell_type": "code",
   "execution_count": 40,
   "metadata": {},
   "outputs": [
    {
     "data": {
      "text/html": [
       "<div>\n",
       "<style scoped>\n",
       "    .dataframe tbody tr th:only-of-type {\n",
       "        vertical-align: middle;\n",
       "    }\n",
       "\n",
       "    .dataframe tbody tr th {\n",
       "        vertical-align: top;\n",
       "    }\n",
       "\n",
       "    .dataframe thead th {\n",
       "        text-align: right;\n",
       "    }\n",
       "</style>\n",
       "<table border=\"1\" class=\"dataframe\">\n",
       "  <thead>\n",
       "    <tr style=\"text-align: right;\">\n",
       "      <th></th>\n",
       "      <th>subject_id</th>\n",
       "      <th>smartphone_brand</th>\n",
       "      <th>smartphone_model</th>\n",
       "      <th>android_version</th>\n",
       "      <th>Most_Common_Smartphone_Location</th>\n",
       "      <th>Smartphone_Location_Other</th>\n",
       "    </tr>\n",
       "  </thead>\n",
       "  <tbody>\n",
       "    <tr>\n",
       "      <th>0</th>\n",
       "      <td>hbv002</td>\n",
       "      <td>Samsung</td>\n",
       "      <td>Note 8</td>\n",
       "      <td>7.1.1</td>\n",
       "      <td>Front pocket</td>\n",
       "      <td>NaN</td>\n",
       "    </tr>\n",
       "    <tr>\n",
       "      <th>1</th>\n",
       "      <td>hbv012</td>\n",
       "      <td>Samsung</td>\n",
       "      <td>Galaxy J3</td>\n",
       "      <td>5.1.1</td>\n",
       "      <td>Front pocket</td>\n",
       "      <td>NaN</td>\n",
       "    </tr>\n",
       "    <tr>\n",
       "      <th>2</th>\n",
       "      <td>hbv013</td>\n",
       "      <td>Samsung</td>\n",
       "      <td>S5 Neo</td>\n",
       "      <td>6.0.1</td>\n",
       "      <td>Front pocket</td>\n",
       "      <td>NaN</td>\n",
       "    </tr>\n",
       "    <tr>\n",
       "      <th>3</th>\n",
       "      <td>hbv014</td>\n",
       "      <td>Samsung</td>\n",
       "      <td>J5</td>\n",
       "      <td>6.0.1</td>\n",
       "      <td>Front pocket</td>\n",
       "      <td>NaN</td>\n",
       "    </tr>\n",
       "    <tr>\n",
       "      <th>4</th>\n",
       "      <td>hbv016</td>\n",
       "      <td>Huawei</td>\n",
       "      <td>Ascent 550</td>\n",
       "      <td>4.4</td>\n",
       "      <td>Front pocket</td>\n",
       "      <td>NaN</td>\n",
       "    </tr>\n",
       "  </tbody>\n",
       "</table>\n",
       "</div>"
      ],
      "text/plain": [
       "  subject_id smartphone_brand smartphone_model android_version  \\\n",
       "0     hbv002          Samsung           Note 8           7.1.1   \n",
       "1     hbv012          Samsung        Galaxy J3           5.1.1   \n",
       "2     hbv013          Samsung           S5 Neo           6.0.1   \n",
       "3     hbv014          Samsung               J5           6.0.1   \n",
       "4     hbv016           Huawei       Ascent 550             4.4   \n",
       "\n",
       "  Most_Common_Smartphone_Location Smartphone_Location_Other  \n",
       "0                    Front pocket                       NaN  \n",
       "1                    Front pocket                       NaN  \n",
       "2                    Front pocket                       NaN  \n",
       "3                    Front pocket                       NaN  \n",
       "4                    Front pocket                       NaN  "
      ]
     },
     "execution_count": 40,
     "metadata": {},
     "output_type": "execute_result"
    }
   ],
   "source": [
    "phone_meta = pd.read_csv(\"/home/ms994/beat_pd/data/real-pd/clinical_data/REAL-PD_Smartphone_Metadata.csv\")\n",
    "phone_meta.head()"
   ]
  },
  {
   "cell_type": "code",
   "execution_count": 41,
   "metadata": {},
   "outputs": [
    {
     "data": {
      "text/plain": [
       "array(['Front pocket', 'Other', 'Back pocket', 'Jacket'], dtype=object)"
      ]
     },
     "execution_count": 41,
     "metadata": {},
     "output_type": "execute_result"
    }
   ],
   "source": [
    "phone_meta.Most_Common_Smartphone_Location.unique()"
   ]
  },
  {
   "cell_type": "code",
   "execution_count": 42,
   "metadata": {},
   "outputs": [
    {
     "data": {
      "text/plain": [
       "array([nan, 'vlakbij me',\n",
       "       'elastisch heuptasje welke je ook gebruikt tijdens het sporten'],\n",
       "      dtype=object)"
      ]
     },
     "execution_count": 42,
     "metadata": {},
     "output_type": "execute_result"
    }
   ],
   "source": [
    "phone_meta.Smartphone_Location_Other.unique()"
   ]
  },
  {
   "cell_type": "code",
   "execution_count": 43,
   "metadata": {},
   "outputs": [
    {
     "data": {
      "text/html": [
       "<div>\n",
       "<style scoped>\n",
       "    .dataframe tbody tr th:only-of-type {\n",
       "        vertical-align: middle;\n",
       "    }\n",
       "\n",
       "    .dataframe tbody tr th {\n",
       "        vertical-align: top;\n",
       "    }\n",
       "\n",
       "    .dataframe thead th {\n",
       "        text-align: right;\n",
       "    }\n",
       "</style>\n",
       "<table border=\"1\" class=\"dataframe\">\n",
       "  <thead>\n",
       "    <tr style=\"text-align: right;\">\n",
       "      <th></th>\n",
       "      <th>subject_id</th>\n",
       "      <th>Age</th>\n",
       "      <th>Gender</th>\n",
       "    </tr>\n",
       "  </thead>\n",
       "  <tbody>\n",
       "    <tr>\n",
       "      <th>0</th>\n",
       "      <td>hbv002</td>\n",
       "      <td>65</td>\n",
       "      <td>Male</td>\n",
       "    </tr>\n",
       "    <tr>\n",
       "      <th>1</th>\n",
       "      <td>hbv012</td>\n",
       "      <td>57</td>\n",
       "      <td>Female</td>\n",
       "    </tr>\n",
       "    <tr>\n",
       "      <th>2</th>\n",
       "      <td>hbv013</td>\n",
       "      <td>68</td>\n",
       "      <td>Female</td>\n",
       "    </tr>\n",
       "    <tr>\n",
       "      <th>3</th>\n",
       "      <td>hbv014</td>\n",
       "      <td>67</td>\n",
       "      <td>Male</td>\n",
       "    </tr>\n",
       "    <tr>\n",
       "      <th>4</th>\n",
       "      <td>hbv016</td>\n",
       "      <td>71</td>\n",
       "      <td>Male</td>\n",
       "    </tr>\n",
       "  </tbody>\n",
       "</table>\n",
       "</div>"
      ],
      "text/plain": [
       "  subject_id  Age  Gender\n",
       "0     hbv002   65    Male\n",
       "1     hbv012   57  Female\n",
       "2     hbv013   68  Female\n",
       "3     hbv014   67    Male\n",
       "4     hbv016   71    Male"
      ]
     },
     "execution_count": 43,
     "metadata": {},
     "output_type": "execute_result"
    }
   ],
   "source": [
    "demographics =  pd.read_csv(\"/home/ms994/beat_pd/data/real-pd/clinical_data/REAL-PD_Demographics.csv\")\n",
    "demographics.head()"
   ]
  },
  {
   "cell_type": "code",
   "execution_count": 44,
   "metadata": {},
   "outputs": [],
   "source": [
    "all_device_id = {}"
   ]
  },
  {
   "cell_type": "code",
   "execution_count": 45,
   "metadata": {},
   "outputs": [
    {
     "ename": "KeyboardInterrupt",
     "evalue": "",
     "output_type": "error",
     "traceback": [
      "\u001b[0;31m---------------------------------------------------------------------------\u001b[0m",
      "\u001b[0;31mKeyboardInterrupt\u001b[0m                         Traceback (most recent call last)",
      "\u001b[0;32m<ipython-input-45-f08178c6e75c>\u001b[0m in \u001b[0;36m<module>\u001b[0;34m\u001b[0m\n\u001b[1;32m      1\u001b[0m \u001b[0;32mfor\u001b[0m \u001b[0mfn\u001b[0m \u001b[0;32min\u001b[0m \u001b[0mtrain_watch_accel\u001b[0m\u001b[0;34m:\u001b[0m\u001b[0;34m\u001b[0m\u001b[0;34m\u001b[0m\u001b[0m\n\u001b[0;32m----> 2\u001b[0;31m     \u001b[0mdf\u001b[0m \u001b[0;34m=\u001b[0m \u001b[0mpd\u001b[0m\u001b[0;34m.\u001b[0m\u001b[0mread_csv\u001b[0m\u001b[0;34m(\u001b[0m\u001b[0mfn\u001b[0m\u001b[0;34m)\u001b[0m\u001b[0;34m\u001b[0m\u001b[0;34m\u001b[0m\u001b[0m\n\u001b[0m\u001b[1;32m      3\u001b[0m     \u001b[0mall_device_id\u001b[0m\u001b[0;34m[\u001b[0m\u001b[0mfn\u001b[0m\u001b[0;34m]\u001b[0m \u001b[0;34m=\u001b[0m \u001b[0mdf\u001b[0m\u001b[0;34m.\u001b[0m\u001b[0mdevice_id\u001b[0m\u001b[0;34m.\u001b[0m\u001b[0munique\u001b[0m\u001b[0;34m(\u001b[0m\u001b[0;34m)\u001b[0m\u001b[0;34m\u001b[0m\u001b[0;34m\u001b[0m\u001b[0m\n",
      "\u001b[0;32m~/miniconda3/envs/keras-redo-cpu/lib/python3.7/site-packages/pandas/io/parsers.py\u001b[0m in \u001b[0;36mparser_f\u001b[0;34m(filepath_or_buffer, sep, delimiter, header, names, index_col, usecols, squeeze, prefix, mangle_dupe_cols, dtype, engine, converters, true_values, false_values, skipinitialspace, skiprows, skipfooter, nrows, na_values, keep_default_na, na_filter, verbose, skip_blank_lines, parse_dates, infer_datetime_format, keep_date_col, date_parser, dayfirst, iterator, chunksize, compression, thousands, decimal, lineterminator, quotechar, quoting, doublequote, escapechar, comment, encoding, dialect, tupleize_cols, error_bad_lines, warn_bad_lines, delim_whitespace, low_memory, memory_map, float_precision)\u001b[0m\n\u001b[1;32m    700\u001b[0m                     skip_blank_lines=skip_blank_lines)\n\u001b[1;32m    701\u001b[0m \u001b[0;34m\u001b[0m\u001b[0m\n\u001b[0;32m--> 702\u001b[0;31m         \u001b[0;32mreturn\u001b[0m \u001b[0m_read\u001b[0m\u001b[0;34m(\u001b[0m\u001b[0mfilepath_or_buffer\u001b[0m\u001b[0;34m,\u001b[0m \u001b[0mkwds\u001b[0m\u001b[0;34m)\u001b[0m\u001b[0;34m\u001b[0m\u001b[0;34m\u001b[0m\u001b[0m\n\u001b[0m\u001b[1;32m    703\u001b[0m \u001b[0;34m\u001b[0m\u001b[0m\n\u001b[1;32m    704\u001b[0m     \u001b[0mparser_f\u001b[0m\u001b[0;34m.\u001b[0m\u001b[0m__name__\u001b[0m \u001b[0;34m=\u001b[0m \u001b[0mname\u001b[0m\u001b[0;34m\u001b[0m\u001b[0;34m\u001b[0m\u001b[0m\n",
      "\u001b[0;32m~/miniconda3/envs/keras-redo-cpu/lib/python3.7/site-packages/pandas/io/parsers.py\u001b[0m in \u001b[0;36m_read\u001b[0;34m(filepath_or_buffer, kwds)\u001b[0m\n\u001b[1;32m    427\u001b[0m \u001b[0;34m\u001b[0m\u001b[0m\n\u001b[1;32m    428\u001b[0m     \u001b[0;31m# Create the parser.\u001b[0m\u001b[0;34m\u001b[0m\u001b[0;34m\u001b[0m\u001b[0;34m\u001b[0m\u001b[0m\n\u001b[0;32m--> 429\u001b[0;31m     \u001b[0mparser\u001b[0m \u001b[0;34m=\u001b[0m \u001b[0mTextFileReader\u001b[0m\u001b[0;34m(\u001b[0m\u001b[0mfilepath_or_buffer\u001b[0m\u001b[0;34m,\u001b[0m \u001b[0;34m**\u001b[0m\u001b[0mkwds\u001b[0m\u001b[0;34m)\u001b[0m\u001b[0;34m\u001b[0m\u001b[0;34m\u001b[0m\u001b[0m\n\u001b[0m\u001b[1;32m    430\u001b[0m \u001b[0;34m\u001b[0m\u001b[0m\n\u001b[1;32m    431\u001b[0m     \u001b[0;32mif\u001b[0m \u001b[0mchunksize\u001b[0m \u001b[0;32mor\u001b[0m \u001b[0miterator\u001b[0m\u001b[0;34m:\u001b[0m\u001b[0;34m\u001b[0m\u001b[0;34m\u001b[0m\u001b[0m\n",
      "\u001b[0;32m~/miniconda3/envs/keras-redo-cpu/lib/python3.7/site-packages/pandas/io/parsers.py\u001b[0m in \u001b[0;36m__init__\u001b[0;34m(self, f, engine, **kwds)\u001b[0m\n\u001b[1;32m    893\u001b[0m             \u001b[0mself\u001b[0m\u001b[0;34m.\u001b[0m\u001b[0moptions\u001b[0m\u001b[0;34m[\u001b[0m\u001b[0;34m'has_index_names'\u001b[0m\u001b[0;34m]\u001b[0m \u001b[0;34m=\u001b[0m \u001b[0mkwds\u001b[0m\u001b[0;34m[\u001b[0m\u001b[0;34m'has_index_names'\u001b[0m\u001b[0;34m]\u001b[0m\u001b[0;34m\u001b[0m\u001b[0;34m\u001b[0m\u001b[0m\n\u001b[1;32m    894\u001b[0m \u001b[0;34m\u001b[0m\u001b[0m\n\u001b[0;32m--> 895\u001b[0;31m         \u001b[0mself\u001b[0m\u001b[0;34m.\u001b[0m\u001b[0m_make_engine\u001b[0m\u001b[0;34m(\u001b[0m\u001b[0mself\u001b[0m\u001b[0;34m.\u001b[0m\u001b[0mengine\u001b[0m\u001b[0;34m)\u001b[0m\u001b[0;34m\u001b[0m\u001b[0;34m\u001b[0m\u001b[0m\n\u001b[0m\u001b[1;32m    896\u001b[0m \u001b[0;34m\u001b[0m\u001b[0m\n\u001b[1;32m    897\u001b[0m     \u001b[0;32mdef\u001b[0m \u001b[0mclose\u001b[0m\u001b[0;34m(\u001b[0m\u001b[0mself\u001b[0m\u001b[0;34m)\u001b[0m\u001b[0;34m:\u001b[0m\u001b[0;34m\u001b[0m\u001b[0;34m\u001b[0m\u001b[0m\n",
      "\u001b[0;32m~/miniconda3/envs/keras-redo-cpu/lib/python3.7/site-packages/pandas/io/parsers.py\u001b[0m in \u001b[0;36m_make_engine\u001b[0;34m(self, engine)\u001b[0m\n\u001b[1;32m   1120\u001b[0m     \u001b[0;32mdef\u001b[0m \u001b[0m_make_engine\u001b[0m\u001b[0;34m(\u001b[0m\u001b[0mself\u001b[0m\u001b[0;34m,\u001b[0m \u001b[0mengine\u001b[0m\u001b[0;34m=\u001b[0m\u001b[0;34m'c'\u001b[0m\u001b[0;34m)\u001b[0m\u001b[0;34m:\u001b[0m\u001b[0;34m\u001b[0m\u001b[0;34m\u001b[0m\u001b[0m\n\u001b[1;32m   1121\u001b[0m         \u001b[0;32mif\u001b[0m \u001b[0mengine\u001b[0m \u001b[0;34m==\u001b[0m \u001b[0;34m'c'\u001b[0m\u001b[0;34m:\u001b[0m\u001b[0;34m\u001b[0m\u001b[0;34m\u001b[0m\u001b[0m\n\u001b[0;32m-> 1122\u001b[0;31m             \u001b[0mself\u001b[0m\u001b[0;34m.\u001b[0m\u001b[0m_engine\u001b[0m \u001b[0;34m=\u001b[0m \u001b[0mCParserWrapper\u001b[0m\u001b[0;34m(\u001b[0m\u001b[0mself\u001b[0m\u001b[0;34m.\u001b[0m\u001b[0mf\u001b[0m\u001b[0;34m,\u001b[0m \u001b[0;34m**\u001b[0m\u001b[0mself\u001b[0m\u001b[0;34m.\u001b[0m\u001b[0moptions\u001b[0m\u001b[0;34m)\u001b[0m\u001b[0;34m\u001b[0m\u001b[0;34m\u001b[0m\u001b[0m\n\u001b[0m\u001b[1;32m   1123\u001b[0m         \u001b[0;32melse\u001b[0m\u001b[0;34m:\u001b[0m\u001b[0;34m\u001b[0m\u001b[0;34m\u001b[0m\u001b[0m\n\u001b[1;32m   1124\u001b[0m             \u001b[0;32mif\u001b[0m \u001b[0mengine\u001b[0m \u001b[0;34m==\u001b[0m \u001b[0;34m'python'\u001b[0m\u001b[0;34m:\u001b[0m\u001b[0;34m\u001b[0m\u001b[0;34m\u001b[0m\u001b[0m\n",
      "\u001b[0;32m~/miniconda3/envs/keras-redo-cpu/lib/python3.7/site-packages/pandas/io/parsers.py\u001b[0m in \u001b[0;36m__init__\u001b[0;34m(self, src, **kwds)\u001b[0m\n\u001b[1;32m   1851\u001b[0m         \u001b[0mkwds\u001b[0m\u001b[0;34m[\u001b[0m\u001b[0;34m'usecols'\u001b[0m\u001b[0;34m]\u001b[0m \u001b[0;34m=\u001b[0m \u001b[0mself\u001b[0m\u001b[0;34m.\u001b[0m\u001b[0musecols\u001b[0m\u001b[0;34m\u001b[0m\u001b[0;34m\u001b[0m\u001b[0m\n\u001b[1;32m   1852\u001b[0m \u001b[0;34m\u001b[0m\u001b[0m\n\u001b[0;32m-> 1853\u001b[0;31m         \u001b[0mself\u001b[0m\u001b[0;34m.\u001b[0m\u001b[0m_reader\u001b[0m \u001b[0;34m=\u001b[0m \u001b[0mparsers\u001b[0m\u001b[0;34m.\u001b[0m\u001b[0mTextReader\u001b[0m\u001b[0;34m(\u001b[0m\u001b[0msrc\u001b[0m\u001b[0;34m,\u001b[0m \u001b[0;34m**\u001b[0m\u001b[0mkwds\u001b[0m\u001b[0;34m)\u001b[0m\u001b[0;34m\u001b[0m\u001b[0;34m\u001b[0m\u001b[0m\n\u001b[0m\u001b[1;32m   1854\u001b[0m         \u001b[0mself\u001b[0m\u001b[0;34m.\u001b[0m\u001b[0munnamed_cols\u001b[0m \u001b[0;34m=\u001b[0m \u001b[0mself\u001b[0m\u001b[0;34m.\u001b[0m\u001b[0m_reader\u001b[0m\u001b[0;34m.\u001b[0m\u001b[0munnamed_cols\u001b[0m\u001b[0;34m\u001b[0m\u001b[0;34m\u001b[0m\u001b[0m\n\u001b[1;32m   1855\u001b[0m \u001b[0;34m\u001b[0m\u001b[0m\n",
      "\u001b[0;31mKeyboardInterrupt\u001b[0m: "
     ]
    }
   ],
   "source": [
    "for fn in train_watch_accel:\n",
    "    df = pd.read_csv(fn)\n",
    "    all_device_id[fn] = df.device_id.unique()"
   ]
  },
  {
   "cell_type": "code",
   "execution_count": null,
   "metadata": {},
   "outputs": [],
   "source": [
    "dev_num = {}\n",
    "for key in all_device_id.keys():\n",
    "    dev_num[key] = len(all_device_id[key])"
   ]
  },
  {
   "cell_type": "code",
   "execution_count": null,
   "metadata": {},
   "outputs": [],
   "source": [
    "plt.hist(pd.Series(dev_num))"
   ]
  },
  {
   "cell_type": "code",
   "execution_count": null,
   "metadata": {},
   "outputs": [],
   "source": [
    "dev_acc_num = pd.Series(dev_num) "
   ]
  },
  {
   "cell_type": "code",
   "execution_count": null,
   "metadata": {},
   "outputs": [],
   "source": [
    "all_device_id = {}\n",
    "for fn in train_watch_gyro:\n",
    "    df = pd.read_csv(fn)\n",
    "    all_device_id[fn] = df.device_id.unique()\n",
    "dev_num = {}\n",
    "for key in all_device_id.keys():\n",
    "    dev_num[key] = len(all_device_id[key])\n",
    "dev_gyro_num = pd.Series(dev_num)"
   ]
  },
  {
   "cell_type": "code",
   "execution_count": null,
   "metadata": {},
   "outputs": [],
   "source": [
    "(set(dev_acc_num[dev_acc_num == 2].index) == set(dev_gyro_num[dev_gyro_num == 2].index))"
   ]
  },
  {
   "cell_type": "code",
   "execution_count": null,
   "metadata": {},
   "outputs": [],
   "source": [
    "set(map(lambda x: x[68:-4], dev_gyro_num.keys())) == set(map(lambda x: x[72:-4], dev_acc_num.keys()))"
   ]
  },
  {
   "cell_type": "markdown",
   "metadata": {},
   "source": [
    "# Create a new index on the device num, combining real_pd and cis_pd"
   ]
  },
  {
   "cell_type": "code",
   "execution_count": null,
   "metadata": {},
   "outputs": [],
   "source": [
    "toUse = list(map(lambda x: (x[68:-4], all_device_id[x]), list(all_device_id.keys())))"
   ]
  },
  {
   "cell_type": "code",
   "execution_count": null,
   "metadata": {},
   "outputs": [],
   "source": []
  },
  {
   "cell_type": "code",
   "execution_count": null,
   "metadata": {},
   "outputs": [],
   "source": [
    "newLabels = []\n",
    "for m_id, deviceArray in toUse:\n",
    "    base = (labels[labels.measurement_id == m_id])\n",
    "    for device in deviceArray:\n",
    "        toAdd = base.copy()\n",
    "        toAdd[\"device_id\"] = device\n",
    "        newLabels.append(toAdd)"
   ]
  },
  {
   "cell_type": "code",
   "execution_count": null,
   "metadata": {},
   "outputs": [],
   "source": [
    "newLabels = pd.concat(newLabels)"
   ]
  },
  {
   "cell_type": "code",
   "execution_count": null,
   "metadata": {},
   "outputs": [],
   "source": [
    "newLabels[\"smartwatch_data\"]=True"
   ]
  },
  {
   "cell_type": "code",
   "execution_count": null,
   "metadata": {},
   "outputs": [],
   "source": [
    "newLabels.head()"
   ]
  },
  {
   "cell_type": "code",
   "execution_count": null,
   "metadata": {},
   "outputs": [],
   "source": [
    "gyro = list(map(lambda x: x[68:-4], train_watch_gyro))"
   ]
  },
  {
   "cell_type": "code",
   "execution_count": null,
   "metadata": {},
   "outputs": [],
   "source": [
    "newLabels[\"gyro_data\"] = False"
   ]
  },
  {
   "cell_type": "code",
   "execution_count": null,
   "metadata": {},
   "outputs": [],
   "source": [
    "for gyro_m_id in gyro:\n",
    "    newLabels.loc[newLabels.measurement_id==gyro_m_id, \"gyro_data\"] = True"
   ]
  },
  {
   "cell_type": "code",
   "execution_count": null,
   "metadata": {},
   "outputs": [],
   "source": [
    "newLabels['gyro_data'] = newLabels['gyro_data'].fillna(False)\n",
    "newLabels['gyro_data'].mean()"
   ]
  },
  {
   "cell_type": "code",
   "execution_count": null,
   "metadata": {},
   "outputs": [],
   "source": [
    "newLabels"
   ]
  },
  {
   "cell_type": "code",
   "execution_count": null,
   "metadata": {},
   "outputs": [],
   "source": [
    "phone = list(map(lambda x: x[72:-4], train_phone_accel))"
   ]
  },
  {
   "cell_type": "code",
   "execution_count": null,
   "metadata": {},
   "outputs": [],
   "source": [
    "phoneLabels = []\n",
    "for m_id in phone:\n",
    "    base = (labels[labels.measurement_id == m_id])   \n",
    "    toAdd = base.copy()\n",
    "    toAdd[\"smartphone_data\"] = True\n",
    "    phoneLabels.append(toAdd)"
   ]
  },
  {
   "cell_type": "code",
   "execution_count": null,
   "metadata": {},
   "outputs": [],
   "source": [
    "phoneLabels = pd.concat(phoneLabels)"
   ]
  },
  {
   "cell_type": "code",
   "execution_count": null,
   "metadata": {},
   "outputs": [],
   "source": [
    "newLabels = newLabels.reset_index().drop([\"index\"], axis=1)\n",
    "phoneLabels = phoneLabels.reset_index().drop([\"index\"], axis=1)"
   ]
  },
  {
   "cell_type": "code",
   "execution_count": null,
   "metadata": {},
   "outputs": [],
   "source": [
    "allLabels = phoneLabels.join(newLabels.set_index(\"measurement_id\"), on=\"measurement_id\", lsuffix=\"_l\", how=\"outer\")"
   ]
  },
  {
   "cell_type": "code",
   "execution_count": null,
   "metadata": {},
   "outputs": [],
   "source": [
    "allLabels[\"smartwatch_data\"] = allLabels[\"smartwatch_data\"].fillna(False)"
   ]
  },
  {
   "cell_type": "code",
   "execution_count": null,
   "metadata": {},
   "outputs": [],
   "source": [
    "allLabels[\"dyskinesia\"].fillna(allLabels[\"dyskinesia_l\"], inplace=True)\n",
    "allLabels[\"on_off\"].fillna(allLabels[\"on_off_l\"], inplace=True)\n",
    "allLabels[\"tremor\"].fillna(allLabels[\"tremor_l\"], inplace=True)\n",
    "allLabels[\"subject_id\"].fillna(allLabels[\"subject_id_l\"], inplace=True)\n",
    "allLabels.dropna([\"dyskinesia_l\", \"on_off_l\", \"tremor_l\", \"subject_id_l\"], inplace=True)"
   ]
  },
  {
   "cell_type": "code",
   "execution_count": null,
   "metadata": {},
   "outputs": [],
   "source": [
    "allLabels.drop([\"dyskinesia_l\", \"on_off_l\", \"tremor_l\", \"subject_id_l\"], inplace=True, axis=1)"
   ]
  },
  {
   "cell_type": "code",
   "execution_count": null,
   "metadata": {},
   "outputs": [],
   "source": [
    "allLabels.smartwatch_data.mean(), allLabels.smartphone_data.mean()"
   ]
  },
  {
   "cell_type": "code",
   "execution_count": null,
   "metadata": {},
   "outputs": [],
   "source": [
    "allLabels.shape, labels.shape"
   ]
  },
  {
   "cell_type": "code",
   "execution_count": null,
   "metadata": {
    "scrolled": true
   },
   "outputs": [],
   "source": [
    "labels.measurement_id[labels.measurement_id.isin(allLabels.measurement_id)].head()"
   ]
  },
  {
   "cell_type": "markdown",
   "metadata": {},
   "source": [
    "Gonna make a decision to throw out all gyroscope only data, which is why some measurment ids aren't in this label csv"
   ]
  },
  {
   "cell_type": "code",
   "execution_count": null,
   "metadata": {},
   "outputs": [],
   "source": [
    "allLabels.subject_id.unique()"
   ]
  },
  {
   "cell_type": "code",
   "execution_count": null,
   "metadata": {},
   "outputs": [],
   "source": [
    "pd.isna(allLabels).mean(axis=0)"
   ]
  },
  {
   "cell_type": "code",
   "execution_count": null,
   "metadata": {},
   "outputs": [],
   "source": [
    "allLabels.to_csv(\"/home/ms994/beat_pd2/data/normalized-real-pd-labels.csv\")"
   ]
  },
  {
   "cell_type": "code",
   "execution_count": 9,
   "metadata": {},
   "outputs": [],
   "source": [
    "allLabels = pd.read_csv(\"/home/ms994/beat_pd2/data/normalized-real-pd-labels.csv\", index_col=0)"
   ]
  },
  {
   "cell_type": "code",
   "execution_count": 10,
   "metadata": {},
   "outputs": [
    {
     "data": {
      "text/html": [
       "<div>\n",
       "<style scoped>\n",
       "    .dataframe tbody tr th:only-of-type {\n",
       "        vertical-align: middle;\n",
       "    }\n",
       "\n",
       "    .dataframe tbody tr th {\n",
       "        vertical-align: top;\n",
       "    }\n",
       "\n",
       "    .dataframe thead th {\n",
       "        text-align: right;\n",
       "    }\n",
       "</style>\n",
       "<table border=\"1\" class=\"dataframe\">\n",
       "  <thead>\n",
       "    <tr style=\"text-align: right;\">\n",
       "      <th></th>\n",
       "      <th>measurement_id</th>\n",
       "      <th>smartphone_data</th>\n",
       "      <th>subject_id</th>\n",
       "      <th>on_off</th>\n",
       "      <th>dyskinesia</th>\n",
       "      <th>tremor</th>\n",
       "      <th>device_id</th>\n",
       "      <th>smartwatch_data</th>\n",
       "      <th>gyro_data</th>\n",
       "    </tr>\n",
       "  </thead>\n",
       "  <tbody>\n",
       "    <tr>\n",
       "      <th>0</th>\n",
       "      <td>29084e8f-4ded-4bc4-8837-b42aafd0b211</td>\n",
       "      <td>True</td>\n",
       "      <td>hbv054</td>\n",
       "      <td>NaN</td>\n",
       "      <td>NaN</td>\n",
       "      <td>0.0</td>\n",
       "      <td>2WLT</td>\n",
       "      <td>True</td>\n",
       "      <td>True</td>\n",
       "    </tr>\n",
       "    <tr>\n",
       "      <th>1</th>\n",
       "      <td>439bc1b9-1b23-4691-a454-f4e1c7b8e4d9</td>\n",
       "      <td>True</td>\n",
       "      <td>hbv038</td>\n",
       "      <td>1.0</td>\n",
       "      <td>NaN</td>\n",
       "      <td>3.0</td>\n",
       "      <td>2WH8</td>\n",
       "      <td>True</td>\n",
       "      <td>True</td>\n",
       "    </tr>\n",
       "    <tr>\n",
       "      <th>2</th>\n",
       "      <td>b36b10ee-94d2-47e1-bc24-59760c976e6b</td>\n",
       "      <td>True</td>\n",
       "      <td>hbv022</td>\n",
       "      <td>0.0</td>\n",
       "      <td>NaN</td>\n",
       "      <td>0.0</td>\n",
       "      <td>327T</td>\n",
       "      <td>True</td>\n",
       "      <td>True</td>\n",
       "    </tr>\n",
       "    <tr>\n",
       "      <th>3</th>\n",
       "      <td>5b8eafee-0b7e-42ec-9cad-42b173bc5005</td>\n",
       "      <td>True</td>\n",
       "      <td>hbv077</td>\n",
       "      <td>0.0</td>\n",
       "      <td>NaN</td>\n",
       "      <td>NaN</td>\n",
       "      <td>2VSP</td>\n",
       "      <td>True</td>\n",
       "      <td>True</td>\n",
       "    </tr>\n",
       "    <tr>\n",
       "      <th>4</th>\n",
       "      <td>1dd1609d-b818-4cc0-a1b8-1d8066332a9e</td>\n",
       "      <td>True</td>\n",
       "      <td>hbv051</td>\n",
       "      <td>0.0</td>\n",
       "      <td>NaN</td>\n",
       "      <td>NaN</td>\n",
       "      <td>2VSP</td>\n",
       "      <td>True</td>\n",
       "      <td>True</td>\n",
       "    </tr>\n",
       "  </tbody>\n",
       "</table>\n",
       "</div>"
      ],
      "text/plain": [
       "                         measurement_id smartphone_data subject_id  on_off  \\\n",
       "0  29084e8f-4ded-4bc4-8837-b42aafd0b211            True     hbv054     NaN   \n",
       "1  439bc1b9-1b23-4691-a454-f4e1c7b8e4d9            True     hbv038     1.0   \n",
       "2  b36b10ee-94d2-47e1-bc24-59760c976e6b            True     hbv022     0.0   \n",
       "3  5b8eafee-0b7e-42ec-9cad-42b173bc5005            True     hbv077     0.0   \n",
       "4  1dd1609d-b818-4cc0-a1b8-1d8066332a9e            True     hbv051     0.0   \n",
       "\n",
       "   dyskinesia  tremor device_id  smartwatch_data gyro_data  \n",
       "0         NaN     0.0      2WLT             True      True  \n",
       "1         NaN     3.0      2WH8             True      True  \n",
       "2         NaN     0.0      327T             True      True  \n",
       "3         NaN     NaN      2VSP             True      True  \n",
       "4         NaN     NaN      2VSP             True      True  "
      ]
     },
     "execution_count": 10,
     "metadata": {},
     "output_type": "execute_result"
    }
   ],
   "source": [
    "allLabels.head()"
   ]
  },
  {
   "cell_type": "markdown",
   "metadata": {},
   "source": [
    "# Try to setup a data extraction pipeline into TFRecords"
   ]
  },
  {
   "cell_type": "code",
   "execution_count": 198,
   "metadata": {},
   "outputs": [
    {
     "data": {
      "text/plain": [
       "measurement_id     11c88a48-9074-4219-a191-e51414108ddf\n",
       "smartphone_data                                    True\n",
       "subject_id                                       hbv012\n",
       "on_off                                              NaN\n",
       "dyskinesia                                          NaN\n",
       "tremor                                                2\n",
       "device_id                                          2WLT\n",
       "smartwatch_data                                    True\n",
       "gyro_data                                          True\n",
       "Name: 229, dtype: object"
      ]
     },
     "execution_count": 198,
     "metadata": {},
     "output_type": "execute_result"
    }
   ],
   "source": [
    "allResults[0][3]"
   ]
  },
  {
   "cell_type": "code",
   "execution_count": 16,
   "metadata": {},
   "outputs": [],
   "source": [
    "all_subjects = allLabels.subject_id.unique()\n",
    "all_m_id = allLabels.measurement_id.unique()"
   ]
  },
  {
   "cell_type": "code",
   "execution_count": 17,
   "metadata": {},
   "outputs": [],
   "source": [
    "all_m_id = all_m_id.tolist()"
   ]
  },
  {
   "cell_type": "code",
   "execution_count": 18,
   "metadata": {},
   "outputs": [],
   "source": [
    "all_subjects = all_subjects.tolist()"
   ]
  },
  {
   "cell_type": "code",
   "execution_count": null,
   "metadata": {},
   "outputs": [],
   "source": [
    "from addict import Dict"
   ]
  },
  {
   "cell_type": "code",
   "execution_count": null,
   "metadata": {},
   "outputs": [],
   "source": [
    "pd.isnull(allLabels).mean(0)"
   ]
  },
  {
   "cell_type": "code",
   "execution_count": 169,
   "metadata": {},
   "outputs": [],
   "source": [
    "i = 0\n",
    "def get_real_pd_i(i):\n",
    "    try:\n",
    "        max_window=pd.Timedelta(seconds=60)\n",
    "        overlap=pd.Timedelta(seconds=10)\n",
    "        currentRow = allLabels.iloc[i]\n",
    "        m_id = currentRow.loc[\"measurement_id\"]\n",
    "        dev_id = currentRow.loc[\"device_id\"]\n",
    "        try:\n",
    "            smartWatchAccel = src.main.read_seq(f\"/home/ms994/beat_pd/data/real-pd/training_data/smartwatch_accelerometer/{m_id}.csv\", dev_id, use_time_index=True, resample=pd.Timedelta(seconds=1/25))\n",
    "        except:\n",
    "            return []\n",
    "        if currentRow[\"gyro_data\"]:\n",
    "            try:\n",
    "                smartWatchGyro = src.main.read_seq(f\"/home/ms994/beat_pd/data/real-pd/training_data/smartwatch_gyroscope/{m_id}.csv\", dev_id, use_time_index=True, resample=pd.Timedelta(seconds=1/25))\n",
    "            except:\n",
    "                currentRow[\"gyro_data\"] = False\n",
    "                smartWatchGyro = pd.Dataframe(index=smartWatchAccel.index, columns=['x', 'y', 'z']).fillna(0) #will pass in a mask as well\n",
    "\n",
    "            if smartWatchGyro.index.max() >= smartWatchAccel.index.max():\n",
    "                smartWatchGyro = smartWatchGyro.loc[:smartWatchAccel.index.max()]\n",
    "            else:\n",
    "                smartWatchAccel = smartWatchAccel.loc[:smartWatchGyro.index.max()]\n",
    "        else:\n",
    "            smartWatchGyro = pd.Dataframe(index=smartWatchAccel.index, columns=['x', 'y', 'z']).fillna(0) #will pass in a mask as well\n",
    "        if currentRow[\"smartphone_data\"]:\n",
    "            try:\n",
    "                smartphone = src.main.read_seq(f\"/home/ms994/beat_pd/data/real-pd/training_data/smartphone_accelerometer/{m_id}.csv\", use_time_index=True, resample=pd.Timedelta(seconds=1/25))\n",
    "            except:\n",
    "                smartphone = pd.Dataframe(index=smartWatchAccel.index, columns=['x', 'y', 'z']).fillna(0)\n",
    "                currentRow[\"smartphone_data\"] = False\n",
    "        else:\n",
    "            smartphone = pd.Dataframe(index=smartWatchAccel.index, columns=['x', 'y', 'z']).fillna(0)\n",
    "        if smartphone.index.max() >= smartWatchAccel.index.max():\n",
    "            smartphone = smartphone.loc[:smartWatchAccel.index.max()]\n",
    "        else:\n",
    "            smartWatchAccel = smartWatchAccel.loc[:smartphone.index.max()]\n",
    "            smartWatchGyro = smartWatchGyro.loc[:smartphone.index.max()]\n",
    "        all_samples = []\n",
    "        currentIndex = pd.Timedelta(seconds=0)\n",
    "        while (currentIndex + max_window < smartWatchAccel.index.max()):\n",
    "            gyro = smartWatchGyro.loc[currentIndex:currentIndex+max_window].fillna(method=\"ffill\").fillna(method=\"bfill\").values\n",
    "            accel = smartWatchAccel.loc[currentIndex:currentIndex+max_window].fillna(method=\"ffill\").fillna(method=\"bfill\").values\n",
    "            phone = smartphone.loc[currentIndex:currentIndex+max_window].fillna(method=\"ffill\").fillna(method=\"bfill\").values\n",
    "            all_samples.append((accel, gyro, phone, currentRow)) #some values are NaNs in the data!\n",
    "            currentIndex += overlap\n",
    "        return all_samples\n",
    "    except:\n",
    "        return []"
   ]
  },
  {
   "cell_type": "code",
   "execution_count": null,
   "metadata": {},
   "outputs": [],
   "source": [
    "get_real_pd_i(10)"
   ]
  },
  {
   "cell_type": "code",
   "execution_count": null,
   "metadata": {},
   "outputs": [],
   "source": [
    "train_watch_accel[14]"
   ]
  },
  {
   "cell_type": "code",
   "execution_count": 170,
   "metadata": {},
   "outputs": [],
   "source": [
    "def write_data(toRunQ, toReturnQ):\n",
    "    for ind in iter(toRunQ.get, None):\n",
    "        data_samples = get_real_pd_i(ind) \n",
    "        for data_sample in data_samples:\n",
    "            toReturnQ.put((data_sample))"
   ]
  },
  {
   "cell_type": "code",
   "execution_count": 171,
   "metadata": {},
   "outputs": [
    {
     "data": {
      "text/plain": [
       "[None, None, None, None, None, None, None, None, None, None, None, None]"
      ]
     },
     "execution_count": 171,
     "metadata": {},
     "output_type": "execute_result"
    }
   ],
   "source": [
    "from multiprocessing import Process, Manager\n",
    "m = Manager()\n",
    "n_process = 12\n",
    "toRunQ = m.Queue()\n",
    "toReturnQ = m.Queue()\n",
    "p = [Process(target=write_data, args=(toRunQ, toReturnQ)) for i in range(n_process)]\n",
    "[toRunQ.put(i) for i in range(len(allLabels))]\n",
    "[toRunQ.put(None) for i in range(n_process)]"
   ]
  },
  {
   "cell_type": "code",
   "execution_count": null,
   "metadata": {},
   "outputs": [],
   "source": [
    "train_watch_accel[0]"
   ]
  },
  {
   "cell_type": "code",
   "execution_count": 172,
   "metadata": {},
   "outputs": [
    {
     "data": {
      "text/plain": [
       "[None, None, None, None, None, None, None, None, None, None, None, None]"
      ]
     },
     "execution_count": 172,
     "metadata": {},
     "output_type": "execute_result"
    }
   ],
   "source": [
    "[process.start() for process in p]"
   ]
  },
  {
   "cell_type": "code",
   "execution_count": 192,
   "metadata": {},
   "outputs": [
    {
     "data": {
      "text/plain": [
       "63262"
      ]
     },
     "execution_count": 192,
     "metadata": {},
     "output_type": "execute_result"
    }
   ],
   "source": [
    "toReturnQ.qsize()"
   ]
  },
  {
   "cell_type": "code",
   "execution_count": 193,
   "metadata": {},
   "outputs": [],
   "source": [
    "allResults = []\n",
    "while not toReturnQ.empty():\n",
    "    allResults.append(toReturnQ.get())"
   ]
  },
  {
   "cell_type": "code",
   "execution_count": 195,
   "metadata": {},
   "outputs": [],
   "source": [
    "import pickle as pkl\n",
    "pkl.dump(allResults,open(\"/n/scratch2/ms994/realPd.pkl\", \"wb\"))"
   ]
  },
  {
   "cell_type": "code",
   "execution_count": 11,
   "metadata": {},
   "outputs": [],
   "source": [
    "import pickle as pkl\n",
    "allResults = pkl.load(open(\"/n/scratch2/ms994/realPd.pkl\", \"rb\"))"
   ]
  },
  {
   "cell_type": "code",
   "execution_count": 12,
   "metadata": {},
   "outputs": [],
   "source": [
    "from random import shuffle\n",
    "shuffle(allResults)"
   ]
  },
  {
   "cell_type": "code",
   "execution_count": 4,
   "metadata": {},
   "outputs": [],
   "source": [
    "import tensorflow as tf"
   ]
  },
  {
   "cell_type": "code",
   "execution_count": 13,
   "metadata": {},
   "outputs": [],
   "source": [
    "import tensorflow as tf\n",
    "tf.enable_eager_execution()\n",
    "# Helperfunctions to make your feature definition more readable\n",
    "def _int64_feature(value):\n",
    "    return tf.train.Feature(int64_list=tf.train.Int64List(value=[int(value)]))\n",
    "\n",
    "def _int64_feature_list(value):\n",
    "    return tf.train.Feature(int64_list=tf.train.Int64List(value=value))\n",
    "# Helperfunctions to make your feature definition more readable\n",
    "def _float_feature(value):\n",
    "    return tf.train.Feature(float_list=tf.train.FloatList(value=[value]))\n",
    "\n",
    "def _float_feature_list(value):\n",
    "    return tf.train.Feature(float_list=tf.train.FloatList(value=value))\n",
    "def parse_datum(datum):\n",
    "    watch_accel = datum[0]\n",
    "    watch_gyro = datum[1]\n",
    "    phone_accel = datum[2]\n",
    "    yData = datum[3].fillna(-1) #using -1 as a masking value\n",
    "    \n",
    "    \n",
    "    \n",
    "    feature = { \\\n",
    "               'watch_accel': _float_feature_list(watch_accel[:1500].reshape(-1)), \\\n",
    "               'watch_gyro': _float_feature_list(watch_gyro[:1500].reshape(-1)), \\\n",
    "               'watch_phone': _float_feature_list(phone_accel[:1500].reshape(-1)), \\\n",
    "               'has_watch_accel': _int64_feature(1), \\\n",
    "               'has_gyro': _int64_feature(yData.gyro_data), \\\n",
    "               'has_phone': _int64_feature(yData.smartphone_data), \\\n",
    "               'on_off': _int64_feature(yData.on_off), \\\n",
    "               'dyskinesia': _int64_feature(yData.dyskinesia), \\\n",
    "               'measurement_id': _int64_feature(all_m_id.index(yData.measurement_id)), \\\n",
    "               'tremor': _int64_feature(yData.tremor), \\\n",
    "               'subjects': _int64_feature(all_subjects.index(yData.subject_id))\n",
    "              }\n",
    "    return tf.train.Example(features=tf.train.Features(feature=feature))"
   ]
  },
  {
   "cell_type": "code",
   "execution_count": null,
   "metadata": {},
   "outputs": [],
   "source": [
    "#cuz im having issues with pulling directly off queue\n",
    "def gen():\n",
    "    for datum in allResults:\n",
    "        yield parse_datum(datum).SerializeToString()\n",
    "dataset = tf.data.Dataset.from_generator(gen, output_types=tf.string,  output_shapes=(tf.TensorShape([])))\n",
    "writer = tf.data.experimental.TFRecordWriter(\"/n/scratch2/beat_pd_ms_tmp/real_pd_all_data.tfr\")"
   ]
  },
  {
   "cell_type": "code",
   "execution_count": null,
   "metadata": {},
   "outputs": [],
   "source": [
    "dataset"
   ]
  },
  {
   "cell_type": "code",
   "execution_count": null,
   "metadata": {},
   "outputs": [],
   "source": [
    "writer.write(dataset)"
   ]
  },
  {
   "cell_type": "code",
   "execution_count": 7,
   "metadata": {},
   "outputs": [
    {
     "data": {
      "text/plain": [
       "<tensorflow.python.data.experimental.ops.writers.TFRecordWriter at 0x7f01467dc978>"
      ]
     },
     "execution_count": 7,
     "metadata": {},
     "output_type": "execute_result"
    }
   ],
   "source": [
    "writer"
   ]
  },
  {
   "cell_type": "code",
   "execution_count": 52,
   "metadata": {},
   "outputs": [
    {
     "data": {
      "text/plain": [
       "array(['29084e8f-4ded-4bc4-8837-b42aafd0b211',\n",
       "       '439bc1b9-1b23-4691-a454-f4e1c7b8e4d9',\n",
       "       'b36b10ee-94d2-47e1-bc24-59760c976e6b',\n",
       "       '5b8eafee-0b7e-42ec-9cad-42b173bc5005',\n",
       "       '1dd1609d-b818-4cc0-a1b8-1d8066332a9e',\n",
       "       '6caa0bd0-7e68-4281-9dd9-1070786ef026',\n",
       "       'faf50397-21ef-4f14-b203-9a6fc4ba70d2',\n",
       "       '7bee6251-c39e-4feb-bbd2-055ab31131b8',\n",
       "       '6e290268-7c1c-435a-b688-a4d7b3dfb862',\n",
       "       'eb39a184-d797-41ed-9170-d48da775f912',\n",
       "       '72af00e8-1dd6-4fcf-a91d-c24445b6e173',\n",
       "       'b1e15f8a-109f-459b-ba87-46899240ee66',\n",
       "       'b37e99cb-d70c-4915-b6a4-f9ed5c50994d',\n",
       "       '5021d2db-723a-4c05-8439-317ec320aded',\n",
       "       'f2be41e3-cc0e-4f0c-8374-52ba00c8e9ab',\n",
       "       'ead7c4df-53fc-493e-be19-39e5c269f003',\n",
       "       'cca0e216-e011-4775-a3b2-61b1d6188888',\n",
       "       '2db21109-b138-4907-9087-994d0c03f71f',\n",
       "       'd64395cf-19b8-469b-9e3f-f22e60001d8b',\n",
       "       '25ce9b00-728b-473a-81d9-73a83c62c272',\n",
       "       'e487fc20-66c9-4568-9c61-30f1b331a5c3',\n",
       "       'b5e8437a-73ae-4484-b6f4-aaa32c4e539e',\n",
       "       '00f1d52e-03cf-4031-a616-9a66f961d994',\n",
       "       '4124f36f-7f43-4eb1-b47e-783c9ad8bc2c',\n",
       "       '01dabc91-ceca-4e20-9b2c-b0c7d9566752',\n",
       "       '8b217686-2aa9-4bff-a6fd-4911ff4de15b',\n",
       "       '1590277c-f465-4ce0-95b0-7cc056c6bcff',\n",
       "       '70c7c803-968a-4f6f-b0b5-9b95d681ef81',\n",
       "       '29bbf446-5957-4f22-8e38-756482d94fdf',\n",
       "       'c50831c7-fe05-4383-bf2a-defef56440fe',\n",
       "       '5823b6b4-221b-437c-9afe-9e6cad934bc5',\n",
       "       '3520cf42-1958-479f-bdd4-6de926f5c533',\n",
       "       '1ab04b35-65b1-4cd8-acf5-6f3dc2e9c484',\n",
       "       '3ec5b419-dcb9-4636-bb40-bdc670ab7b94',\n",
       "       '3ea73ab8-f1d1-4389-bd17-0f9c554f5419',\n",
       "       'e8b0e9d3-b000-4e86-860f-06528c16c3ed',\n",
       "       '9d9f3d00-ca89-4c43-958b-e9ab606769a2',\n",
       "       '19a11986-9384-4e8a-a4fe-e2b363e8eb5d',\n",
       "       'a6a309e7-2450-4ba5-89d3-ce2608989c9a',\n",
       "       'f8986b3d-d77c-4c5e-af03-d2adc2c3e022',\n",
       "       '102fc3ed-5081-4e00-97b9-a434dc51281b',\n",
       "       'f588dd9e-a9ea-4888-bace-9eaf16ac41f5',\n",
       "       '6b0eabe0-5547-4ef7-8468-7280d28f2675',\n",
       "       '8da2e6d4-ee80-43dd-b589-922520b98fd0',\n",
       "       'f0da54dc-91fc-4646-a518-997239945c66',\n",
       "       '61eef1a7-2923-4652-9ff3-bddfb9ee5194',\n",
       "       'e391f546-bf8a-46c7-a16c-95bc02f40629',\n",
       "       'eef1a89c-8f6a-4be0-b0d9-2a224f253c00',\n",
       "       '17889ac7-23e5-41dd-a374-9ad7a99f1569',\n",
       "       '5b4c7c81-659d-40ea-a1fd-59622074fd10',\n",
       "       'a19cccb4-49e9-477d-8a2c-992d4d747f08',\n",
       "       '645c36c2-bcd6-4b77-8455-0b7321c3d4b4',\n",
       "       'b5c5835b-c794-4efe-ac42-17465cb69e31',\n",
       "       'b37be681-d7f4-4eab-9efa-1708c3b221cc',\n",
       "       '0827d2b9-b0d6-4088-9c87-61642f8417c0',\n",
       "       'f4e4eed4-5470-4058-8737-8f75abe0853c',\n",
       "       '4d42b533-78ce-40f3-a017-77a67cec9232',\n",
       "       '3454846f-2b6e-4481-8c21-eaa95c85219c',\n",
       "       'a88408dd-3dfe-4b94-b665-41a2ccf93a85',\n",
       "       '91bd328e-e7b6-4de8-b792-acfbfcd68cb9',\n",
       "       '2874077a-e201-4701-a5f5-e7f87a1ab52c',\n",
       "       'd2c18bea-35f3-4cdd-873d-a8fe14754300',\n",
       "       'b9100e58-8a25-470f-a719-5204fd2dc1af',\n",
       "       'b1fd96b8-c832-4519-8e9f-929cbade66a2',\n",
       "       '0863cba3-dff4-40b3-a690-bfee1023c137',\n",
       "       '61cc2c31-f777-4a56-898a-b37b3275ac2c',\n",
       "       '3051e77d-46ab-44e7-b03d-8b74573c5c97',\n",
       "       'c470d99d-d4e2-4604-a9c5-3864a02d51de',\n",
       "       '57779b31-49e8-4c91-9e00-693e1140de85',\n",
       "       '23370d63-278b-4352-a580-e15dd15aad6c',\n",
       "       'c4a8527f-c62e-4d2d-bdf3-bac924da987e',\n",
       "       '15c214e9-358e-49fe-becd-6038d5b3f6e0',\n",
       "       '2559e082-f3c1-4824-808f-a9c3eb4a8fe5',\n",
       "       '773b9db1-9146-4b9c-9cda-d6caf898b55d',\n",
       "       '64a46f8c-f19b-4d08-8e6f-262d5ec39b2a',\n",
       "       '0bc65d57-a9dc-4dcd-9e9c-949c3179fb90',\n",
       "       '6f0e2580-56ec-4743-9356-d3e4d9a0aee5',\n",
       "       'f71ba377-2f59-4605-ae3f-8221d2120c7f',\n",
       "       '8e885a17-89bd-448e-bca1-75544343f450',\n",
       "       'f485247c-e6bc-4627-b1df-d1fd4e9948e0',\n",
       "       'e78465de-d452-4588-8f4e-2780378d9f98',\n",
       "       '3bd8e912-023c-42d2-a002-768879e7727e',\n",
       "       '05205dc3-9c82-4b6b-921e-b6c2edd2c993',\n",
       "       'e7e0ec98-ec7f-4cb5-8d66-5af13640baaf',\n",
       "       '3c84e8c1-6ff9-4f4b-b3d5-89a5e27c68f4',\n",
       "       'd5aa4983-446b-498a-a347-710c0af81893',\n",
       "       'f9aa7d5d-c2a4-4b69-9fe3-231386649397',\n",
       "       '9ad8b186-e311-41e0-b95a-db49fd0e6bd2',\n",
       "       'dfc96cd3-a11c-476a-a2e1-838596d84862',\n",
       "       'b2c577d0-bee4-441c-a872-19770de795fb',\n",
       "       '748c5bb2-1f13-46fd-8303-6b591ba65e08',\n",
       "       '37811a72-987e-44e6-b817-d26bdb0b2944',\n",
       "       '8b0d9a1a-9e36-4453-9df3-eb64ff724da9',\n",
       "       'ed560c25-e5c5-4dba-82c7-3fc18c248ce4',\n",
       "       'd9ea3f6f-a8b3-45c9-ad5a-761dd209960f',\n",
       "       'f7b3c9ac-32d4-482e-a1a4-ed407c5eb210',\n",
       "       '3444762b-d220-44cd-94e0-838c1f5e29e5',\n",
       "       '3a2e2bab-d846-4832-8f5f-8c558a0a143b',\n",
       "       'a2e6888a-82be-4841-958b-4b25ffd11c2b',\n",
       "       '7460ae08-127c-4c53-9a24-922e2d9906c3',\n",
       "       '0741fc7f-d709-4879-b9b7-1ca56e5a5021',\n",
       "       '25b32d5f-6ed5-4ff8-b46a-efe7cc32438e',\n",
       "       '972e8656-1917-41e0-85a6-6d791c501460',\n",
       "       '8ca7d649-2f1a-4e65-8e2b-128c0ddeaa1d',\n",
       "       '516d9978-8369-40cd-b0d0-e13a9bee83b9',\n",
       "       '01a1aa11-e66e-45a6-b098-ad061b7aa7a4',\n",
       "       '2fcbce46-3f65-4938-88d0-cbc2f4e8df97',\n",
       "       'f3d9dc69-c54a-4c19-a225-631d3088b68d',\n",
       "       '23755744-6ba2-49c3-87b1-eb23773ed299',\n",
       "       '74e5fc9d-6971-40e2-8c81-41bd31edcaae',\n",
       "       '15843873-4afe-4d76-8c7c-d79c336be1b6',\n",
       "       'c27b5083-b211-422a-9825-6a17c381690e',\n",
       "       '3444df85-80c8-49ac-8b6c-e6ded0318c0b',\n",
       "       '00e19ae8-3da9-4e76-b9f6-3f565b3e5f06',\n",
       "       '5f6ec7b4-2374-4309-9349-14af6d2eebf2',\n",
       "       'a506370e-6d13-4de7-a17f-e4a5ec13d681',\n",
       "       '544cf1c4-0030-4a44-9cd9-9e5036f4784c',\n",
       "       '89acf665-fe65-4251-bb91-1f5dbf7b4c6a',\n",
       "       '82cf870c-69a7-4efe-ab9e-117545e08113',\n",
       "       '70ee7f04-f135-4292-b712-c39ca72f3174',\n",
       "       'cb6bbcef-dece-4e55-8be9-7635ad519b44',\n",
       "       'abce9527-e737-426d-9e96-a0a727e8434d',\n",
       "       'a9ed1825-f5f7-4947-b16c-d5c160d4cb37',\n",
       "       '2898aa29-f72e-4742-bbdc-2d6af815f490',\n",
       "       '4a15a160-5e67-45d3-b7fd-3324661d6c9d',\n",
       "       'd6aa25fe-2c34-4fd6-bf7b-4ffac4a4c723',\n",
       "       'bd3defa5-af6a-4510-bc0c-4dbbe87f1559',\n",
       "       '928483fe-1fb7-4284-9b33-c27dd2c9e429',\n",
       "       '435bd59c-ae59-4677-8740-8b8c92efb61d',\n",
       "       'c889b055-0579-4ce8-b7f4-5832d7d83bcc',\n",
       "       'd15eecf6-6bdf-46df-be6b-e9f4a0f64d4a',\n",
       "       '22efcac0-599d-4957-b7ad-a03044a3fd04',\n",
       "       '22b9cab0-aadd-4d9f-9d03-6c85c85be824',\n",
       "       '7bbe6aa2-48b6-4195-98e2-f7aa87c8000b',\n",
       "       '327672ab-c2b0-49d3-b008-37642f2890a8',\n",
       "       '0eb3bb94-431b-4880-a721-5788b0e03ee8',\n",
       "       'ca9515e6-5aed-494a-8879-306ba149b22b',\n",
       "       'fc340339-2638-420a-ba21-5690a1a132da',\n",
       "       'b3ec05e9-bbad-40b5-bceb-81bc958ca833',\n",
       "       'a5b6a1de-a75b-4169-aab8-79ba10f95f46',\n",
       "       '7f8b92cd-11ef-406b-b460-655ad7b73e16',\n",
       "       '5111129e-ddcc-477a-be23-0d7a3a0db7ca',\n",
       "       'fbbeb705-3397-4331-8ff3-72db79f7320e',\n",
       "       '4ee7b9a2-fc27-4430-9597-aaae51b2d9b6',\n",
       "       '8a29e953-3833-4ec5-83bc-2d26e3a7dd9b',\n",
       "       'cea43f0b-2a6a-41b0-909f-ac86c5c2b2f3',\n",
       "       '22238e9c-5131-4bec-8e49-6b209ede9599',\n",
       "       'c33db2ea-e891-4c3d-91a0-912eb6498e3d',\n",
       "       'c8fc840c-a165-4b18-8458-e82006166b8c',\n",
       "       '0e4c954f-e391-41ac-a4bd-1d1d4f655b5d',\n",
       "       'b0f37ef8-12ec-4d39-8729-63bd700d3b9b',\n",
       "       '5850d70a-587d-4fcf-83e9-196bda317d1c',\n",
       "       '71fd2ba2-0ba3-4004-980f-d170c2367ed0',\n",
       "       'b0ad62d7-d02f-46b3-9bb4-4c6e6650837b',\n",
       "       'fb1d0ea2-eb81-4be3-b06e-c442225364e4',\n",
       "       '6d0572ed-774e-4e17-9857-c0befe8fe0ae',\n",
       "       '93047191-2ad3-40d5-a586-92cf6a1dbb89',\n",
       "       '88980466-af69-467c-95e8-f80a6ead462d',\n",
       "       '17a393a9-9d2e-44cf-96f8-2d8c9838809b',\n",
       "       '61741f87-aea6-40b8-b28a-850e856e7b8d',\n",
       "       '71259009-0ec9-4fb3-9238-734aa901b3f4',\n",
       "       '15837ec4-8ab6-45c9-92ed-5d54e5bff02c',\n",
       "       '1ee94bbd-caed-4e51-9a2c-7bfc5b20b8a7',\n",
       "       'c37f816e-84c6-44ac-aea6-2fc88b25821c',\n",
       "       '434b6721-22a5-4fed-b50b-9c6ac80b65b6',\n",
       "       'd44b61dc-6440-4b80-adb7-488104fa7cbe',\n",
       "       '6dcf76b9-df47-4bb1-a604-1bbdd90f2320',\n",
       "       '2b5bb109-b208-4679-9c3c-18b72a15a5a7',\n",
       "       '13d8a0c4-89ba-45bc-b1ba-e492b4533ca9',\n",
       "       '6cab466b-3c95-4cc0-ba1b-8650f5a12504',\n",
       "       '7f486b29-c3d0-42ba-8f2c-548c89b743d1',\n",
       "       'bc18d475-7b09-4f74-96a9-37a3af36e7ac',\n",
       "       '0c390348-b34c-4fe1-a313-f38c49fdde22',\n",
       "       '74cdc9c6-fde9-41f1-9004-56e2540718bc',\n",
       "       'e2ee04d3-6697-464c-9dbf-dde0fd9be9a0',\n",
       "       '6ffba116-3422-4f5c-9ba5-6fa9499d0988',\n",
       "       '5614d9ae-0493-4137-af64-0f03f9b355a6',\n",
       "       '687af7ca-3690-4041-9ab3-86ef55d27421',\n",
       "       'e4a9aee1-2908-4e8f-9105-41cbd43b0aa2',\n",
       "       '35dc474e-3fdf-41a6-a2c7-21e34a398656',\n",
       "       'b50d1b0c-2cd1-45f8-9097-0742e5cbbcc8',\n",
       "       '51781983-dae5-4393-b41f-9a7da40f2074',\n",
       "       '04bf1192-1179-4957-aa0a-34cbe7ff688a',\n",
       "       '18b261cb-4527-4b1b-bfe8-c969b5b81f06',\n",
       "       '105b7cc6-f580-4849-8e49-7c95463350bd',\n",
       "       '769cf86b-5110-48a0-b598-aeed92ed75c6',\n",
       "       '773536f6-9b70-43d0-b099-5d167d74924a',\n",
       "       'a1a4a86a-2ff1-4969-aa1e-476a90531f9a',\n",
       "       'f83325a3-ccc3-4494-8a5b-56e8f51b4e2f',\n",
       "       '7afb63fa-215f-4125-994f-6454a068caf5',\n",
       "       '7b690988-3734-4f52-947c-fd0944247595',\n",
       "       '87eb18fb-1e09-48e6-b353-0738379e92ac',\n",
       "       'e86a88ad-4ad6-4c6d-a878-eb4c7adb22d6',\n",
       "       'bdb2e590-13f6-40ec-a91a-44100e4e58e2',\n",
       "       '50306e2a-48cc-4750-b761-f6dee9e53748',\n",
       "       'b402dd09-8b6c-43ad-b316-4660bacdf68f',\n",
       "       '7c840fba-4df1-4fd8-84a9-9fe1447f6173',\n",
       "       'b4b4486b-ecfb-43a9-a09f-0e1f613b161c',\n",
       "       '7dfa269a-1e66-4cb1-9b05-2b1fedb712ed',\n",
       "       'e7a51859-c9ae-4436-bf69-e9ec0b6fac9e',\n",
       "       '304657b8-92fc-45c6-89c4-37f7cd3b77e4',\n",
       "       '97642041-eeff-409c-b138-ff2ec19af5a2',\n",
       "       'c0445431-35c3-402a-9b71-1c413604327b',\n",
       "       'a710f253-defe-4dca-9be3-81d748216371',\n",
       "       '2c6c7747-a633-4d56-b58d-77fb9eda0153',\n",
       "       'd25782de-83c0-4f73-adfb-7637d8a7d39a',\n",
       "       '8fe9726b-a493-4c0b-848f-6c2b8bf6a58e',\n",
       "       '27eccfc4-e329-4695-aee8-6d706b247191',\n",
       "       '59a73268-4e1a-4426-bf73-0fb22f58fa1a',\n",
       "       '7b333456-c42c-48c7-88cc-046c46c5e465',\n",
       "       '3988a0bc-cf47-4e8a-8090-ac8748e53d20',\n",
       "       '8759a9a9-8aab-4df1-a61e-924bf74d84f2',\n",
       "       '77bdd542-684c-4633-a94e-03b560c060ed',\n",
       "       '0dfdbb5a-218d-4b37-829e-1be00ad88ad4',\n",
       "       'be5e0cf4-599d-4212-80cb-e33948c0ce7f',\n",
       "       '47940791-faef-401d-888d-427b7965d58b',\n",
       "       '1135656e-b6dd-4ae0-99dd-8293ee9f467e',\n",
       "       '2aeac34a-6a27-4513-86c8-ac32ba5c8c17',\n",
       "       '68336e84-f99c-4dae-adcb-6e49b837229f',\n",
       "       '288219a8-747b-4802-a1ef-cb5a5f29256b',\n",
       "       '99af8d14-cd09-4107-9502-355378ba4e08',\n",
       "       '8e3cea03-b49f-436f-a145-9ee429128b79',\n",
       "       '915c870c-c7f3-4cc8-b4d9-052af9c9433b',\n",
       "       'a0692b7c-fc75-4177-a833-67ce2ca5ffe8',\n",
       "       '73ec81b6-c230-4371-8aa3-ba0daf5456a2',\n",
       "       'f96752b5-850e-4a5a-a74a-69ab4893b6aa',\n",
       "       'aca5bee0-e144-49dc-b1f4-1bfdff8c46db',\n",
       "       'e6790286-e2d9-44ae-a480-cdd07dc8bfe9',\n",
       "       'fc2f7299-08a7-4bf3-b0ed-8f4fa7f1c279',\n",
       "       '11c88a48-9074-4219-a191-e51414108ddf',\n",
       "       'fb1a5279-8f0b-4d25-9619-2c0141ca8df1',\n",
       "       'da9380be-ff18-4067-9fe4-99285dc20232',\n",
       "       '78247cdd-af79-4edc-bf7a-fec6ef295c83',\n",
       "       '7ff5ce84-1c06-49ee-9cf1-68a4fd140332',\n",
       "       '02a8bdd5-00cd-416b-a8bd-d6dc1e0d4d41',\n",
       "       '56c86f15-e2ee-4930-bb59-12e534109919',\n",
       "       '31e1ab14-0d24-4eed-ab97-26bfdc2b257a',\n",
       "       'e803a862-cd7c-405a-92aa-409f97d6af6e',\n",
       "       '160d4118-9b75-4209-9f7a-95eb88ce2c17',\n",
       "       '032e8244-832e-4dd5-823b-bf1c89246bc7',\n",
       "       '287ddbef-b7bf-4ff4-b4e9-eaa128bbbe9c',\n",
       "       'a5be6e50-4a46-46e7-9b4e-13eb73531e0f',\n",
       "       '29294225-024e-4b2d-8a60-22f934027d53',\n",
       "       'bc47481b-5227-40b8-ac92-4625081d4d52',\n",
       "       'ac3d499f-5e81-409d-b457-d8f7e1072fbc',\n",
       "       '820c0f48-18a3-49d1-b7eb-5759534098fc',\n",
       "       'a2490c1c-d9d5-4e55-8515-d589d6e8d2e6',\n",
       "       '92a5282f-27d2-4608-9e23-cfe3ac6863df',\n",
       "       '9d3505d4-75ea-4474-a145-6c9f748b3b73',\n",
       "       '943e384b-494a-4708-8e14-fb43bb7f8ddb',\n",
       "       '8f39e65c-1d8c-4055-9c55-fd0231c986e9',\n",
       "       'faa646d0-6da8-4978-96b9-056d0fc8e064',\n",
       "       '63976392-e327-458a-9cf9-4311f3e07b41',\n",
       "       '44592069-c5b7-4bd5-843d-acb31538c351',\n",
       "       'e0ce7d8f-3a46-42c1-bdf8-643ef9393c18',\n",
       "       '911d150d-28d8-4977-81ae-fe189aa8a5cd',\n",
       "       'f969b544-fc65-47e1-ab52-a568a40ca48a',\n",
       "       'd74db5cf-c7df-4c5a-bd24-e92eac56d349',\n",
       "       'ec61f4f7-ba05-45aa-bb66-afcfcdd34480',\n",
       "       '3510b342-acf3-4d0d-83f4-a9964cf3966c',\n",
       "       'a952f863-f219-407e-a546-4579b20b022e',\n",
       "       'b78b9824-b309-4a3b-bff3-1544cb6338cd',\n",
       "       '1d2222ec-e069-4f3a-a6da-84651ff4e978',\n",
       "       '96247e65-8c0e-4ce2-8a1b-6fa85dd540ad',\n",
       "       '0fd57d13-7ca6-492a-971a-503dd7572cc4',\n",
       "       '4338bd17-ef1c-495a-b6a5-d5089ba1b1ca',\n",
       "       'a0f9d687-f979-49c4-8a6e-bea99694b345',\n",
       "       '8ed02f7e-641f-44d5-b04e-6d154605e618',\n",
       "       '92ef19ba-e42a-43ca-95cc-1768944d006a',\n",
       "       '18627dda-3e46-44e6-9799-2c6cb1e23e95',\n",
       "       '979f5829-33fa-4e53-b6f9-2f1227b0a9f1',\n",
       "       '31340de8-655d-4992-a0ac-7bf7d37671ba',\n",
       "       '7a554795-dfbb-4f27-9ba9-b50c127b7414',\n",
       "       '00a49337-386c-4de3-a220-4cf3c0d20a7d',\n",
       "       'f7fbb25d-9b59-4cac-bdbe-d50ba5168bc4',\n",
       "       'bcace852-7105-417f-bf00-300748b21dda',\n",
       "       'f80dc0d3-59e2-4d79-a198-8cebda77fa69',\n",
       "       '3f641876-bd64-4968-bd3d-cf18795fdb68',\n",
       "       'df4b6bc8-07aa-4712-a25e-0217c7ba4914',\n",
       "       'dd8a49e5-01d9-4b66-ac2d-9af92ad24d49',\n",
       "       'd69373a4-dd0a-4d14-9649-bbde6b171fb1',\n",
       "       '8fb7aa97-9a3b-4d06-aa49-fb8e107c28e0',\n",
       "       '1388dc54-ddcf-4e94-8fdf-9d134afea1af',\n",
       "       'c4641ee0-f407-49fb-b640-86ad46689725',\n",
       "       'dcb1d436-95ad-4149-8490-1229856952c0',\n",
       "       'b4b1bfb9-9d48-4384-a5bf-8ae47470ecf3',\n",
       "       '8b9dece4-a965-4eaa-8e05-ab1b144ae415',\n",
       "       'a6954a91-338b-4523-9e4a-5e69a8fac206',\n",
       "       '014ccd5a-7f4a-480b-8ab5-1ed8601d0721',\n",
       "       'a68eaccb-f7d5-4df2-980c-7abcfb496740',\n",
       "       '1f8d2c61-70d2-4292-a75a-1e5164460e06',\n",
       "       'bc0a8345-1ef1-4faf-b1b0-41f86d4f1bab',\n",
       "       '6b3a2e97-5d53-41b8-a6e0-854f0a27d8f5',\n",
       "       '6fd59590-6886-440b-9c0a-59951abdc4de',\n",
       "       'fa48f603-41f5-492c-82c6-89f78e6f20b0',\n",
       "       'aba31c29-79ef-4221-9412-156538a2fd4e',\n",
       "       '3ac2c7ca-bfc9-4da1-b563-9b1843cfa5bc',\n",
       "       '3eae8ef7-0e6f-45a9-be4c-9e8c3cfc4cf7',\n",
       "       '74195508-79ea-4e64-a1d9-f1cdfd725532',\n",
       "       'a7448017-beb4-4308-b8ab-9f747e8684a4',\n",
       "       'a86d8927-2bab-4738-87d0-c7696fe4fa45',\n",
       "       'f5513696-a0e3-4e15-b724-2e4674e15074',\n",
       "       'e2258da1-127a-4434-b371-7be2e5a88684',\n",
       "       'b058d8c6-7a91-4b5a-9f8c-74e50873752a',\n",
       "       '53dcebb9-0673-44fb-b269-0281cd81c8a9',\n",
       "       '6bcdf1e1-6210-4b3b-a740-be5d921af889',\n",
       "       'b5098d2c-fdec-485c-a855-bd5cd7ff68ea',\n",
       "       'ff1db97b-8505-4c47-9a71-eb7f595519b0',\n",
       "       '7a5aaf70-b362-4cab-8ad2-10a5edfc4a39',\n",
       "       '21361dd1-479c-4d10-a2d3-37212c5d23f2',\n",
       "       '90b65bce-ca6c-4c07-bdbe-58d507702002',\n",
       "       '49a3a5bf-f0af-4c23-8575-7b12653923eb',\n",
       "       '80aba7c8-6994-45df-a022-ef61c735c72f',\n",
       "       '76dc98fe-5038-43d4-bb4d-a530cb6d775c',\n",
       "       'f4eb1acb-1e7d-4653-84e5-7439cf9eff43',\n",
       "       '1662517b-7508-40ee-824d-a3b62347959e',\n",
       "       'b243eb54-4f65-4b2d-9cfa-a697097b1e15',\n",
       "       '874e74a9-400c-4f9f-9088-af40ec2f702b',\n",
       "       '719380dd-2960-44ab-886e-07c2970ad4dd',\n",
       "       '489f560f-4cc4-4f3f-894a-af0cd7fe35de',\n",
       "       'a1762a3f-8801-48f7-8772-1e4d91afa025',\n",
       "       '7fc930be-9cce-4261-b561-a74d88c44106',\n",
       "       '2961015f-528c-41a0-8114-c2f535aa82ae',\n",
       "       'da0b725f-b6c2-4961-8085-5befaacf1f86',\n",
       "       '274f5bc8-2e4f-4d7c-a546-b65b7d6bd01e',\n",
       "       '0148fd23-2066-4fb4-aadb-9ba294ed4ab1',\n",
       "       '73ac1d9e-aa01-46d6-806d-2d04d17bec29',\n",
       "       '6ed39502-341f-416b-b900-d63c1f33c915',\n",
       "       '4fe8a2e3-d94b-45c2-885b-34bd9eb8b86b',\n",
       "       '5fc08a34-3832-41a6-abd1-30ebc31ab928',\n",
       "       '06fd407b-0da8-428a-8f9f-69fc181d4a76',\n",
       "       '64080944-b52a-479e-94f9-ee26440b23f3',\n",
       "       '388f150c-dc63-4fe8-8341-79a37791176e',\n",
       "       '89c5c34e-bcc4-4079-944e-32617c5f484f',\n",
       "       '30563fcd-c850-41ed-a421-ceaddb307b04',\n",
       "       '415d3460-11af-4d5b-bc5d-e082a3306513',\n",
       "       '46dd3d61-b81e-408e-ac35-4538ed0aa9c7',\n",
       "       '98a9d567-1794-423d-9ae0-f2eb0e7130e8',\n",
       "       '86d823fa-97a0-4a7d-9595-43c2b55196e5',\n",
       "       '2e491ba9-9b6c-42e4-9fc2-ebe5675ed40b',\n",
       "       '9f9038d9-44c2-4ec3-91ba-1cc4820901cd',\n",
       "       'd6e12e26-00e4-4cff-90d1-5b514aa10686',\n",
       "       'c821c1b7-4451-4228-a66d-20546e6a8b8b',\n",
       "       '4903769a-394e-4fa7-97c9-7bd1fd410850',\n",
       "       '2edf81d8-7d66-4d68-8895-695358004cca',\n",
       "       '22b2f310-70d9-4a3d-bc6f-c0697d4202d6',\n",
       "       'd582c975-0251-4753-9f70-d07a5516abaf',\n",
       "       'f05a7f8f-e4ac-41bd-9c94-98d1bb661832',\n",
       "       'd343a0d3-6d08-435f-a523-ff16758bda20',\n",
       "       '34ea6fef-caad-4a82-9c16-029a93dfbdfc',\n",
       "       'd89fb74f-5241-4388-9bcb-409b574c5f3a',\n",
       "       '19e35072-c573-4030-a5b3-4b9ff118f99d',\n",
       "       '0af9da02-6b27-4d27-9940-575d31dd74bd',\n",
       "       '93dcb4f9-0519-476e-bf4d-a18421139245',\n",
       "       '0c310608-1a32-4b09-b164-375d93ddb2aa',\n",
       "       '52eb7473-18f7-477e-ba7b-6723e0bc83c4',\n",
       "       '08215a48-b258-4e58-9ec4-c33181451c27',\n",
       "       '43fe4458-c88f-46c5-bc2d-d31287dec36b',\n",
       "       '6792f751-13bb-475c-9591-a6048f0f7353',\n",
       "       '617fa957-c101-4fae-a34c-f740000e7a74',\n",
       "       '100d561c-ee09-4b5f-92a3-094faa4b2f7c',\n",
       "       '283ef674-3830-44ba-8ac4-c8f8b97927f0',\n",
       "       'c7c0b8f6-b932-4e49-ad66-d16682172c2b',\n",
       "       '38931ccd-7d19-4c2d-a30a-c46fa249c213',\n",
       "       'a04dfe29-15c6-4ff8-867a-1cab33551cb9',\n",
       "       'c7138f8e-88a8-4645-83d2-a160b8725d0b',\n",
       "       '1c46c3bf-db19-4590-9d8c-a3f48a96046f',\n",
       "       'c0d5ead3-f048-46c9-8ee2-481fdbcfa56d',\n",
       "       '4a662a09-c07f-4511-a929-f4d1a2a8111f',\n",
       "       '9f34cd82-606a-4141-a9dc-333f67dba59e',\n",
       "       '67536a82-b38d-4417-99f1-a71ed29336f7',\n",
       "       'fc729282-6bfa-4a75-9aee-1121a473450e',\n",
       "       '763116a6-7386-4dcb-97dc-8cad9a6bb0f2',\n",
       "       '682dca5e-a121-407d-9465-09cdad2db65e',\n",
       "       'e9e16344-54ee-4fbc-8b5f-0e7565c2de36',\n",
       "       '17a8d5ce-f599-401a-91b1-65c4db2d1fa1',\n",
       "       '03b36c76-1416-4744-b7a7-f8b9c100c372',\n",
       "       '3ad1ca66-a4f3-463e-ac2e-33be4adf039b',\n",
       "       'edc0b81f-1bb0-42cd-9346-92d7de4f50b0',\n",
       "       '0bde763c-c4ef-4606-b798-48a196c3d6cb',\n",
       "       '441c292e-8a14-4a76-80c8-7333966dcb27',\n",
       "       '4974a2d3-0520-4c03-99ec-f00f06d21e33',\n",
       "       '6a900130-baad-45c4-9137-78d29654a777',\n",
       "       '29aeac74-470f-4937-866e-a7615875f376',\n",
       "       'f490ca7f-feda-4124-923a-d6e60dc4a659',\n",
       "       'a63c69a6-3c62-45ea-a802-7e1613a3bdc4',\n",
       "       '3a6dc16c-62fa-47bb-a53d-c1f6dbf55efa',\n",
       "       'bd3aba9b-d0fb-4b10-8071-bdbb00ea515e',\n",
       "       'ee43a968-89e4-4805-a19e-8784a5cb1c28',\n",
       "       'fb6e226c-a196-4634-a89e-ab6f9b8bb65b',\n",
       "       '4f8253d3-1f29-4ab4-b660-cf8a33b920e1',\n",
       "       '4bcab171-7ea4-41a4-9c5d-115845ed28df',\n",
       "       'a3476076-065d-4fb8-89af-320f553a2399',\n",
       "       '9d97b84a-0d04-4e61-a987-6fe6d1ca72cc',\n",
       "       'c8201a67-1ede-4d21-a7a7-c11de8cf10f0',\n",
       "       '70ebe002-4f3c-4189-a1b8-83e24c09a356',\n",
       "       'bc419495-0ef5-49d8-bba0-40cab15f38c8',\n",
       "       '047b34fa-ff8a-4fb9-8eea-7cc0c8f307b2',\n",
       "       'ffab0788-dbd0-4cf8-a5ff-e4c8ebaaa617',\n",
       "       '24768c72-704a-4f92-ae1f-710731242291',\n",
       "       '5ada2766-5d63-451b-b70e-9401713d6bf9',\n",
       "       'a089692b-4ae1-46f5-88a1-3bb60be76d43',\n",
       "       '66cd5bea-6619-4dc9-817a-0201bdbee0f3',\n",
       "       '2daabd36-1707-473b-93f1-265ce6b7999e',\n",
       "       '9e43840b-dd89-498b-af1a-a62896a4d5d9',\n",
       "       '805a4d06-982b-4513-b4e1-92fcd2fb4291',\n",
       "       '944a4dac-c485-4df0-a4f0-d0fc8a6f0cfb',\n",
       "       '517ac84f-7d68-42a5-aedc-f63babedd395',\n",
       "       '45bb358c-bf7f-4ab9-8f1f-1338c6878854',\n",
       "       'c61632f1-990d-4509-bfcf-6b276d309fdc',\n",
       "       'c7a617cf-08f2-408b-9aa7-37d532906fbb',\n",
       "       'a3b27078-8a57-4eff-b1e9-820e293c9da5',\n",
       "       '40a76c3e-0f0e-48e0-9874-28f89130f463',\n",
       "       'b78ee13f-6a7f-40ae-8145-4fe3c0dbd478',\n",
       "       '484f5798-0cf1-4277-973e-9b8cf4ccc1ba',\n",
       "       'd1a2f23d-a39c-4a56-bddf-9b5e0f07eb57',\n",
       "       '03ca8369-bf89-49e9-a667-c4bc32b35a09',\n",
       "       'ecbeea40-8770-455d-90a6-597e7f896e1b',\n",
       "       '3a507fed-f483-4543-8242-350ae1fbd894',\n",
       "       '5c42911d-0ebd-47ba-9925-dd5ab1c0ed61',\n",
       "       'ee053d95-c155-400d-ae42-fe24834ad4a9',\n",
       "       '1ff4f0bc-55e8-4c39-a99d-e956e9151889',\n",
       "       'b21fcc94-2257-4399-8572-5ab838a46e90',\n",
       "       '1b508ed6-798c-495e-819e-deb85c1a8faa',\n",
       "       '1f1f26c4-e728-415a-b0f2-adad0242e5dc',\n",
       "       '6e412bc6-0861-48c3-875d-c7b2e5edafc9',\n",
       "       '1bce9da5-c3c7-44c0-949c-72312890d260',\n",
       "       '92ba38cf-afde-47a8-bf7e-5b3a130051bd',\n",
       "       'a7382df7-b2e9-4f29-9d24-14c8f0e0d021',\n",
       "       '826a5615-772d-4244-8611-768803aa758d',\n",
       "       '0dc08f04-664f-4c07-b86d-a13c23eedbfd',\n",
       "       '861cd882-1faf-4947-bc82-d777ed41d4ab',\n",
       "       '658a2398-532b-4d0c-b8fb-67764ec58e9c',\n",
       "       'cf841bf8-0082-4ea3-999f-1f43e39a8dc6',\n",
       "       '900cc9b2-87c0-4ce1-9940-952fdf1771f7',\n",
       "       '0a58d095-9030-4587-b5a8-359ac80d8813',\n",
       "       '528ddcd4-800d-4b18-a086-74cf26fd9a48',\n",
       "       'c751bfce-e37d-4930-b8d2-d92bf7004264',\n",
       "       'e655453f-9df0-411f-a633-2dd8144d3327',\n",
       "       'b74b8b47-d0a5-47b3-82a9-34c9a20bc5b6',\n",
       "       'e429fc2d-08db-4b81-b9c5-865f1fe790eb',\n",
       "       '2eabd596-f1e0-4b4b-839e-cd7867219735',\n",
       "       'd3171986-f881-4fa8-9c61-a72a3ad3ae26',\n",
       "       '71f215df-b6b7-416e-b165-ae5536f1c7ff',\n",
       "       'f60bab02-6876-4d33-a8f2-4ca3d6cc3177',\n",
       "       '414d5cbe-33a2-46b8-a8a7-dda72b0bb86f',\n",
       "       'd1dd216b-922e-4ea1-8504-f7648cf841fa',\n",
       "       '5f744f5e-2d5d-48c5-99fd-4ea37a47d65e',\n",
       "       '25eacc09-7de3-4d43-8e3d-9c3d8bd1fcd8',\n",
       "       'c9b33568-522c-4c88-92cc-5eac5276a3a0',\n",
       "       '5b234469-216d-44ae-8db3-c4c8ad180231',\n",
       "       '5b094c80-e636-4240-9f1c-d160619acde2',\n",
       "       '5b84b891-9ddc-40e2-9d8f-5b354e0dbdcd',\n",
       "       '3256740d-a6dd-4244-b678-9dda3af3d741',\n",
       "       '730b299a-d060-4a52-9eb3-c21cb9b73622',\n",
       "       'a70d513c-809c-4023-95cf-e136e9236d8d',\n",
       "       'cd833e26-ad58-46f7-a59e-f8a815ab8520',\n",
       "       '504c4d85-5df7-468d-9f02-120e8a577992',\n",
       "       'dacb9c6b-dd15-4547-9c9e-a6d00248b9ca',\n",
       "       'a9c8c09a-931e-4108-bdb9-2ff61e7832b2',\n",
       "       '75b3cd77-6033-4fa6-9bc6-71e334ee3ade',\n",
       "       '6d160a14-7cb3-4471-a46e-e86e1c8a45b2',\n",
       "       'edea9cf8-4353-4742-b8d7-1baf09e2139b',\n",
       "       'a4901f98-811a-495a-9e8c-4aece99dafb2',\n",
       "       'afe7209e-ac7d-4be9-b100-decb9e81cd42',\n",
       "       'addad25b-1be9-4f07-9cb1-fe8b926d772c',\n",
       "       'c15365b5-fa46-45c4-94a1-802ac74bef82',\n",
       "       'f8b9d4ad-be39-448b-ad98-0ad98be4ed3e',\n",
       "       '45831d16-3afa-4d54-bc57-03d9608d311f',\n",
       "       '5d9c9898-bc51-4f1d-bf27-9cb4d3a5b5cc',\n",
       "       '73c60aa4-abe1-41b8-9a21-9754b7204c0c',\n",
       "       '15f04c24-5d30-4d71-9b05-e0f2d8fea0eb',\n",
       "       'e52dc2d5-8343-45ce-a5a5-7c21a6940fd2',\n",
       "       'e07708ff-7b8d-4070-af70-3aa81423ab5b',\n",
       "       '9273d312-ccdb-4b5f-a3d0-ab033bcbfffa',\n",
       "       '9172588d-6be9-4d66-9a78-8c7cb690b29f',\n",
       "       '495f4e2f-27e4-4fc7-9df4-4269964c179d',\n",
       "       '24f13d0e-8d09-4062-988b-0c2af0d74846',\n",
       "       '2089e649-5867-4dc7-96bd-6179cb311752',\n",
       "       'ce51ee31-8553-4321-9f83-8cd3dabe2f66',\n",
       "       '9a2236ba-4eb6-47d8-b7b5-120985f6f2be',\n",
       "       'ff138444-59fa-4639-86c9-131e69dd2172',\n",
       "       '7a5f4c7a-4fdb-4d49-9ed5-fe50ed6e28a6',\n",
       "       'fb82d4fa-d118-4d5b-ae61-46bfdfb91247',\n",
       "       'b598c177-4e38-4ea8-8543-bd8f7e580f96',\n",
       "       'ba063a41-b8d1-44cd-b847-f1065a693a49',\n",
       "       '76fd6dc7-00ca-4dd9-a779-98019aae7f7a',\n",
       "       'eed6ece9-1888-416a-80be-224c39f4f201',\n",
       "       'fd0fc719-4ca1-4b52-a06b-4d0a3bc0900c',\n",
       "       'f2c8be45-82ce-400e-956b-74c11f9abb17',\n",
       "       'de24ad87-99a0-44f9-a98f-dbb5d5e2873c',\n",
       "       'd87bae81-f45c-49c4-ab69-f914d8a0e0ea',\n",
       "       '684ff3ff-5f04-40f5-a42d-b10287d12b17',\n",
       "       '128fadb3-949d-47e6-b4c8-c78fe374fd35',\n",
       "       'd4075ca4-b5d4-49f9-bbe6-c837735e3912',\n",
       "       '47d509d3-4c57-4c74-8a0e-9028e9539c95',\n",
       "       'f11d7787-4b87-4101-9bac-86203b701fc6',\n",
       "       '2ae925c8-bd19-400d-a5bd-3a508643d8ca',\n",
       "       '2d87ae0b-c2c3-474e-971b-427ff0fb2387',\n",
       "       '1095c912-48ac-44c8-a8a1-0d1c29d0361b',\n",
       "       '218d505b-d762-482d-a1f2-2fc86458a2b1',\n",
       "       'f7c2c628-4e1c-4577-abe2-7917b475136e',\n",
       "       '6c8a1135-25db-4af6-a257-9eb3872b53f2',\n",
       "       '313aa559-41ff-4777-a42d-1170280317f2',\n",
       "       '42243b7c-714c-4349-8884-88973ddc0849',\n",
       "       '4ee4382e-5e6d-465e-b3b4-2e0fc75a160b',\n",
       "       '87db04a9-db5b-4302-811d-a3191704595c',\n",
       "       'b21117ac-bcb7-46f3-af0b-c3456da2e7c0',\n",
       "       '8c3d0e87-f2c5-4924-ae88-5af7bcf9ef63',\n",
       "       '8f2487f1-7ae8-4ced-9079-b1f403935db3',\n",
       "       'c19a1748-ba4a-445f-bab4-ac1cdfd6e7f6',\n",
       "       '26f04641-84c6-4dbb-b55b-033dc6ffe0a1',\n",
       "       'f2256f75-ddbd-49a2-a3de-0069905e11f7',\n",
       "       'e3eb82b8-1ea1-434a-aca7-645bcc5b5fec',\n",
       "       '73b91037-8021-44b7-ade2-d7f7549c0a4d',\n",
       "       'd9a4a395-e15d-4c08-966e-524bb7b191c9',\n",
       "       '99a81330-415f-45c7-aa84-ec64b912db80',\n",
       "       'd7ca6465-8971-4e85-9450-a0104804b4c5',\n",
       "       '50fa963c-7ee8-45a2-8a02-93a00a9cc479',\n",
       "       '81006db6-8e00-4e29-87b5-c84a39545f64',\n",
       "       'b2acd505-718c-43fb-af9a-c324215a1bb2',\n",
       "       '5949b311-1eed-4fa1-b053-30d5c8b11954',\n",
       "       '9446b6f3-6c09-4366-8b60-ac3d10387880',\n",
       "       '38e4c46d-17ac-4445-815f-0489996e80b9',\n",
       "       '734a1e13-f5a2-425f-8540-3e1b6f57fd39',\n",
       "       'b782f538-b2ae-4693-92f2-298952ab7981',\n",
       "       '2371bc61-2556-4ce1-a7c5-ad6c1f83fef3',\n",
       "       '2657d1b0-ac48-4e0a-9f6b-eb18cacc2f40',\n",
       "       '7d5ac31a-cb53-40f7-8188-0b13724ea55c',\n",
       "       'c9a33de6-bbe5-4eea-a020-8ccfe5049c28',\n",
       "       '54a0e841-ad45-4ba7-ac83-1785c5f7748b',\n",
       "       'b19e38cf-22e4-4ba9-90b6-1fff0b2459f5',\n",
       "       '235472d5-ad2e-4c76-947e-358c9d8c1280',\n",
       "       '02423b04-367a-4230-bd4e-f1acd16075de',\n",
       "       '4627580c-31ab-4a5b-b5b3-9da16f27b56e',\n",
       "       '868ced7a-0cee-4ae3-9402-07395b8db0ac',\n",
       "       'ebd6c616-0e16-4c8c-8358-aeb2e4326764',\n",
       "       '377010fc-531b-4647-a760-d0acb40a5fba',\n",
       "       '39cf118c-e2bb-4e3f-adb1-d200ee20e1fa',\n",
       "       '2421509a-0ceb-4d08-b0a1-ea1cd27d7400',\n",
       "       '9a65e0a0-4ff0-4842-bf87-e2eb334333f1',\n",
       "       'ccf9e4aa-f3eb-4658-a8de-2d812245baa3',\n",
       "       'cd9ed2e2-7e04-44c7-b041-7788f133c193',\n",
       "       'a5b47d69-b8b1-4e42-a1a5-fbcc60a91b9a',\n",
       "       'd4d1f855-39bc-41d7-9133-dcec91f505ca',\n",
       "       '8fffc566-e0dc-4b42-9df6-711bc4236666',\n",
       "       '6f220a53-1919-4a5e-a322-f8a7586fdb2a',\n",
       "       '2356af8f-80ec-4def-9a58-c3db6f0f202a',\n",
       "       'c2d7f68c-fe2e-458a-8c19-bc6081f1ee27',\n",
       "       '92b7a68f-fe7e-456b-8fbe-4547a799f413',\n",
       "       '34469298-0dcb-45a0-a71b-4cbebf9f6ac9',\n",
       "       '26565bb6-d990-4d31-a4d4-4e9fd3acb3be',\n",
       "       '7cda0258-74b6-40e0-86e1-a56ae86b3531',\n",
       "       'e8a98ea3-1079-48e1-b3ea-3a70d167122e',\n",
       "       'a83f053d-a5ac-4255-a689-390326058536',\n",
       "       '202ec734-1c38-41d5-a890-df7c50f296bf',\n",
       "       '4c43a621-413c-4403-9901-f31da0bd9c6d',\n",
       "       'a456eee5-eee1-4b06-ac9b-380faad23762',\n",
       "       '91e72f7f-2105-4415-8f2f-f530e2278901',\n",
       "       '27990fb8-4961-4865-a7b4-8613d92bb7d7',\n",
       "       '068ffb5a-f757-4d02-987e-f487bb2b3952',\n",
       "       '5e327c6b-de1f-44d8-a1ab-4933df65d94c',\n",
       "       'd3c89012-3ab9-4014-b577-61ff05e31968',\n",
       "       '7c5f816c-4be4-4fbe-8218-6c58546995e6',\n",
       "       'b2a30dac-0344-45db-8999-d114a3840039',\n",
       "       'c43a1589-b508-4436-b23f-07e91abdeb02',\n",
       "       'f7427591-867d-4944-9bee-eb95c673b568',\n",
       "       'cfde5c95-82b9-4ec7-9f87-326a7a79785b',\n",
       "       '834f35e7-c0f4-4be2-b740-9f3136ed6877',\n",
       "       'c825c097-2403-46b5-ab57-ed72f6cd0344',\n",
       "       '96090095-7b0f-423f-ac9a-d69b7d1b638c',\n",
       "       '7d3f4b7a-167f-4a26-9062-94ce9d8794c1',\n",
       "       '9fd1a7dd-a2f7-4316-86a2-122b360b018e',\n",
       "       '39eec6b2-672d-49a3-b82b-b49cb41b9c0c',\n",
       "       '6a2270ac-3c3d-4bfc-a5e4-e0dd03597820',\n",
       "       'aa189e95-8b35-48bb-8286-ae1c4f052a5b',\n",
       "       '29e28f47-2d5b-4b8f-88d3-3de7b707a927',\n",
       "       '7b416588-1fc5-44a0-99cd-c789f0cbc224',\n",
       "       '5e8f2606-0d49-4d36-a98c-44bce687866f',\n",
       "       '2f3e6d55-8fe4-43b8-bd21-bdc9f482598a',\n",
       "       '5ec481c3-9074-4390-8e3c-da66959139f8',\n",
       "       'd45c7c53-042a-4aa9-a3dc-a02a42f22f44',\n",
       "       'be81d9e1-38e7-430d-b196-8ebda1dfe916',\n",
       "       'db9b6763-6d0c-4d8a-b27c-104ebec29dd3',\n",
       "       '3d61b6f5-0b5a-4bc2-bb12-cacec1951a18',\n",
       "       '99dffbb5-0cc9-480c-8aa3-6bc90fc3aeb7',\n",
       "       '325eec89-bcf3-4aa5-8159-ccb26ccf5f6a',\n",
       "       'c5293894-ea18-4ab7-affd-b08dec1fd126',\n",
       "       'cd42b72a-e7d2-4a28-bdb6-76aea14715a9',\n",
       "       '7b8a0f32-a8c3-4f0c-80ed-15e3eebddf22',\n",
       "       'f185bdf4-00af-4c2a-b917-b0c4ab786785'], dtype=object)"
      ]
     },
     "execution_count": 52,
     "metadata": {},
     "output_type": "execute_result"
    }
   ],
   "source": [
    "all_m_id.to"
   ]
  },
  {
   "cell_type": "code",
   "execution_count": 191,
   "metadata": {},
   "outputs": [
    {
     "data": {
      "text/plain": [
       "[None, None, None, None, None, None, None, None, None, None, None, None]"
      ]
     },
     "execution_count": 191,
     "metadata": {},
     "output_type": "execute_result"
    }
   ],
   "source": [
    "[process.join() for process in p]"
   ]
  },
  {
   "cell_type": "code",
   "execution_count": null,
   "metadata": {},
   "outputs": [],
   "source": [
    "all_samples[0][0].shape"
   ]
  },
  {
   "cell_type": "code",
   "execution_count": null,
   "metadata": {},
   "outputs": [],
   "source": [
    "smartWatchAccel.shape"
   ]
  },
  {
   "cell_type": "code",
   "execution_count": null,
   "metadata": {},
   "outputs": [],
   "source": [
    "allLabels"
   ]
  }
 ],
 "metadata": {
  "kernelspec": {
   "display_name": "Python 3",
   "language": "python",
   "name": "python3"
  },
  "language_info": {
   "codemirror_mode": {
    "name": "ipython",
    "version": 3
   },
   "file_extension": ".py",
   "mimetype": "text/x-python",
   "name": "python",
   "nbconvert_exporter": "python",
   "pygments_lexer": "ipython3",
   "version": "3.7.3"
  },
  "toc": {
   "base_numbering": 1,
   "nav_menu": {},
   "number_sections": true,
   "sideBar": true,
   "skip_h1_title": false,
   "title_cell": "Table of Contents",
   "title_sidebar": "Contents",
   "toc_cell": false,
   "toc_position": {
    "height": "688px",
    "left": "475px",
    "top": "162px",
    "width": "300px"
   },
   "toc_section_display": true,
   "toc_window_display": true
  }
 },
 "nbformat": 4,
 "nbformat_minor": 2
}
