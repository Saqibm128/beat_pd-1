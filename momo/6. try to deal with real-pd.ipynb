{
 "cells": [
  {
   "cell_type": "markdown",
   "metadata": {},
   "source": [
    "# import libraries"
   ]
  },
  {
   "cell_type": "code",
   "execution_count": 16,
   "metadata": {},
   "outputs": [],
   "source": [
    "import numpy as np\n",
    "import pandas as pd\n",
    "import glob\n",
    "import sys, os\n",
    "sys.path.append(os.path.realpath(\"/home/ms994/beat_pd2\"))\n",
    "import matplotlib.pyplot as plt"
   ]
  },
  {
   "cell_type": "code",
   "execution_count": 17,
   "metadata": {},
   "outputs": [],
   "source": [
    "import src.main\n",
    "import momo.tf_mapper as tfm"
   ]
  },
  {
   "cell_type": "markdown",
   "metadata": {},
   "source": [
    "# Try to review the data again"
   ]
  },
  {
   "cell_type": "code",
   "execution_count": 18,
   "metadata": {},
   "outputs": [],
   "source": [
    "train_watch_accel = glob.glob(\"/home/ms994/beat_pd/data/real-pd/training_data/smartwatch_accelerometer/*.csv\")\n",
    "train_watch_gyro = glob.glob(\"/home/ms994/beat_pd/data/real-pd/training_data/smartwatch_gyroscope/*.csv\")\n",
    "train_phone_accel = glob.glob(\"/home/ms994/beat_pd/data/real-pd/training_data/smartphone_accelerometer/*.csv\")"
   ]
  },
  {
   "cell_type": "code",
   "execution_count": 19,
   "metadata": {},
   "outputs": [
    {
     "data": {
      "text/html": [
       "<div>\n",
       "<style scoped>\n",
       "    .dataframe tbody tr th:only-of-type {\n",
       "        vertical-align: middle;\n",
       "    }\n",
       "\n",
       "    .dataframe tbody tr th {\n",
       "        vertical-align: top;\n",
       "    }\n",
       "\n",
       "    .dataframe thead th {\n",
       "        text-align: right;\n",
       "    }\n",
       "</style>\n",
       "<table border=\"1\" class=\"dataframe\">\n",
       "  <thead>\n",
       "    <tr style=\"text-align: right;\">\n",
       "      <th></th>\n",
       "      <th>x</th>\n",
       "      <th>y</th>\n",
       "      <th>z</th>\n",
       "    </tr>\n",
       "    <tr>\n",
       "      <th>t</th>\n",
       "      <th></th>\n",
       "      <th></th>\n",
       "      <th></th>\n",
       "    </tr>\n",
       "  </thead>\n",
       "  <tbody>\n",
       "    <tr>\n",
       "      <th>0.000</th>\n",
       "      <td>1.786075</td>\n",
       "      <td>-5.382165</td>\n",
       "      <td>8.226477</td>\n",
       "    </tr>\n",
       "    <tr>\n",
       "      <th>0.023</th>\n",
       "      <td>1.800440</td>\n",
       "      <td>-5.262455</td>\n",
       "      <td>8.212111</td>\n",
       "    </tr>\n",
       "    <tr>\n",
       "      <th>0.040</th>\n",
       "      <td>1.781286</td>\n",
       "      <td>-5.439626</td>\n",
       "      <td>8.212111</td>\n",
       "    </tr>\n",
       "    <tr>\n",
       "      <th>0.063</th>\n",
       "      <td>1.762132</td>\n",
       "      <td>-5.453991</td>\n",
       "      <td>8.221688</td>\n",
       "    </tr>\n",
       "    <tr>\n",
       "      <th>0.080</th>\n",
       "      <td>1.843535</td>\n",
       "      <td>-5.530606</td>\n",
       "      <td>8.145074</td>\n",
       "    </tr>\n",
       "  </tbody>\n",
       "</table>\n",
       "</div>"
      ],
      "text/plain": [
       "              x         y         z\n",
       "t                                  \n",
       "0.000  1.786075 -5.382165  8.226477\n",
       "0.023  1.800440 -5.262455  8.212111\n",
       "0.040  1.781286 -5.439626  8.212111\n",
       "0.063  1.762132 -5.453991  8.221688\n",
       "0.080  1.843535 -5.530606  8.145074"
      ]
     },
     "execution_count": 19,
     "metadata": {},
     "output_type": "execute_result"
    }
   ],
   "source": [
    "src.main.read_seq(train_watch_accel[0]).head()"
   ]
  },
  {
   "cell_type": "code",
   "execution_count": 132,
   "metadata": {},
   "outputs": [],
   "source": [
    "labels = pd.concat([pd.read_csv(\"/home/ms994/beat_pd/data/real-pd/data_labels/REAL-PD_Training_Data_IDs_Labels.csv\"),pd.read_csv(\"/home/ms994/beat_pd/data/real-pd/data_labels/REAL-PD_Ancillary_Data_IDs_Labels.csv\")])"
   ]
  },
  {
   "cell_type": "code",
   "execution_count": 135,
   "metadata": {},
   "outputs": [
    {
     "data": {
      "text/plain": [
       "(1081,)"
      ]
     },
     "execution_count": 135,
     "metadata": {},
     "output_type": "execute_result"
    }
   ],
   "source": [
    "labels.measurement_id.unique().shape"
   ]
  },
  {
   "cell_type": "code",
   "execution_count": 136,
   "metadata": {},
   "outputs": [
    {
     "data": {
      "text/plain": [
       "(1081, 5)"
      ]
     },
     "execution_count": 136,
     "metadata": {},
     "output_type": "execute_result"
    }
   ],
   "source": [
    "labels.shape"
   ]
  },
  {
   "cell_type": "code",
   "execution_count": 21,
   "metadata": {},
   "outputs": [
    {
     "name": "stdout",
     "output_type": "stream",
     "text": [
      "/home/ms994/beat_pd/data/real-pd/clinical_data/REAL-PD_Smartphone_Metadata.csv\n"
     ]
    }
   ],
   "source": [
    "%%bash\n",
    "ls /home/ms994/beat_pd/data/real-pd/clinical_data/REAL-PD_Smartphone_Metadata.csv"
   ]
  },
  {
   "cell_type": "code",
   "execution_count": 22,
   "metadata": {},
   "outputs": [
    {
     "data": {
      "text/html": [
       "<div>\n",
       "<style scoped>\n",
       "    .dataframe tbody tr th:only-of-type {\n",
       "        vertical-align: middle;\n",
       "    }\n",
       "\n",
       "    .dataframe tbody tr th {\n",
       "        vertical-align: top;\n",
       "    }\n",
       "\n",
       "    .dataframe thead th {\n",
       "        text-align: right;\n",
       "    }\n",
       "</style>\n",
       "<table border=\"1\" class=\"dataframe\">\n",
       "  <thead>\n",
       "    <tr style=\"text-align: right;\">\n",
       "      <th></th>\n",
       "      <th>subject_id</th>\n",
       "      <th>smartphone_brand</th>\n",
       "      <th>smartphone_model</th>\n",
       "      <th>android_version</th>\n",
       "      <th>Most_Common_Smartphone_Location</th>\n",
       "      <th>Smartphone_Location_Other</th>\n",
       "    </tr>\n",
       "  </thead>\n",
       "  <tbody>\n",
       "    <tr>\n",
       "      <th>0</th>\n",
       "      <td>hbv002</td>\n",
       "      <td>Samsung</td>\n",
       "      <td>Note 8</td>\n",
       "      <td>7.1.1</td>\n",
       "      <td>Front pocket</td>\n",
       "      <td>NaN</td>\n",
       "    </tr>\n",
       "    <tr>\n",
       "      <th>1</th>\n",
       "      <td>hbv012</td>\n",
       "      <td>Samsung</td>\n",
       "      <td>Galaxy J3</td>\n",
       "      <td>5.1.1</td>\n",
       "      <td>Front pocket</td>\n",
       "      <td>NaN</td>\n",
       "    </tr>\n",
       "    <tr>\n",
       "      <th>2</th>\n",
       "      <td>hbv013</td>\n",
       "      <td>Samsung</td>\n",
       "      <td>S5 Neo</td>\n",
       "      <td>6.0.1</td>\n",
       "      <td>Front pocket</td>\n",
       "      <td>NaN</td>\n",
       "    </tr>\n",
       "    <tr>\n",
       "      <th>3</th>\n",
       "      <td>hbv014</td>\n",
       "      <td>Samsung</td>\n",
       "      <td>J5</td>\n",
       "      <td>6.0.1</td>\n",
       "      <td>Front pocket</td>\n",
       "      <td>NaN</td>\n",
       "    </tr>\n",
       "    <tr>\n",
       "      <th>4</th>\n",
       "      <td>hbv016</td>\n",
       "      <td>Huawei</td>\n",
       "      <td>Ascent 550</td>\n",
       "      <td>4.4</td>\n",
       "      <td>Front pocket</td>\n",
       "      <td>NaN</td>\n",
       "    </tr>\n",
       "  </tbody>\n",
       "</table>\n",
       "</div>"
      ],
      "text/plain": [
       "  subject_id smartphone_brand smartphone_model android_version  \\\n",
       "0     hbv002          Samsung           Note 8           7.1.1   \n",
       "1     hbv012          Samsung        Galaxy J3           5.1.1   \n",
       "2     hbv013          Samsung           S5 Neo           6.0.1   \n",
       "3     hbv014          Samsung               J5           6.0.1   \n",
       "4     hbv016           Huawei       Ascent 550             4.4   \n",
       "\n",
       "  Most_Common_Smartphone_Location Smartphone_Location_Other  \n",
       "0                    Front pocket                       NaN  \n",
       "1                    Front pocket                       NaN  \n",
       "2                    Front pocket                       NaN  \n",
       "3                    Front pocket                       NaN  \n",
       "4                    Front pocket                       NaN  "
      ]
     },
     "execution_count": 22,
     "metadata": {},
     "output_type": "execute_result"
    }
   ],
   "source": [
    "phone_meta = pd.read_csv(\"/home/ms994/beat_pd/data/real-pd/clinical_data/REAL-PD_Smartphone_Metadata.csv\")\n",
    "phone_meta.head()"
   ]
  },
  {
   "cell_type": "code",
   "execution_count": 32,
   "metadata": {},
   "outputs": [
    {
     "data": {
      "text/plain": [
       "array(['Front pocket', 'Other', 'Back pocket', 'Jacket'], dtype=object)"
      ]
     },
     "execution_count": 32,
     "metadata": {},
     "output_type": "execute_result"
    }
   ],
   "source": [
    "phone_meta.Most_Common_Smartphone_Location.unique()"
   ]
  },
  {
   "cell_type": "code",
   "execution_count": 33,
   "metadata": {},
   "outputs": [
    {
     "data": {
      "text/plain": [
       "array([nan, 'vlakbij me',\n",
       "       'elastisch heuptasje welke je ook gebruikt tijdens het sporten'],\n",
       "      dtype=object)"
      ]
     },
     "execution_count": 33,
     "metadata": {},
     "output_type": "execute_result"
    }
   ],
   "source": [
    "phone_meta.Smartphone_Location_Other.unique()"
   ]
  },
  {
   "cell_type": "code",
   "execution_count": 23,
   "metadata": {},
   "outputs": [
    {
     "data": {
      "text/html": [
       "<div>\n",
       "<style scoped>\n",
       "    .dataframe tbody tr th:only-of-type {\n",
       "        vertical-align: middle;\n",
       "    }\n",
       "\n",
       "    .dataframe tbody tr th {\n",
       "        vertical-align: top;\n",
       "    }\n",
       "\n",
       "    .dataframe thead th {\n",
       "        text-align: right;\n",
       "    }\n",
       "</style>\n",
       "<table border=\"1\" class=\"dataframe\">\n",
       "  <thead>\n",
       "    <tr style=\"text-align: right;\">\n",
       "      <th></th>\n",
       "      <th>subject_id</th>\n",
       "      <th>Age</th>\n",
       "      <th>Gender</th>\n",
       "    </tr>\n",
       "  </thead>\n",
       "  <tbody>\n",
       "    <tr>\n",
       "      <th>0</th>\n",
       "      <td>hbv002</td>\n",
       "      <td>65</td>\n",
       "      <td>Male</td>\n",
       "    </tr>\n",
       "    <tr>\n",
       "      <th>1</th>\n",
       "      <td>hbv012</td>\n",
       "      <td>57</td>\n",
       "      <td>Female</td>\n",
       "    </tr>\n",
       "    <tr>\n",
       "      <th>2</th>\n",
       "      <td>hbv013</td>\n",
       "      <td>68</td>\n",
       "      <td>Female</td>\n",
       "    </tr>\n",
       "    <tr>\n",
       "      <th>3</th>\n",
       "      <td>hbv014</td>\n",
       "      <td>67</td>\n",
       "      <td>Male</td>\n",
       "    </tr>\n",
       "    <tr>\n",
       "      <th>4</th>\n",
       "      <td>hbv016</td>\n",
       "      <td>71</td>\n",
       "      <td>Male</td>\n",
       "    </tr>\n",
       "  </tbody>\n",
       "</table>\n",
       "</div>"
      ],
      "text/plain": [
       "  subject_id  Age  Gender\n",
       "0     hbv002   65    Male\n",
       "1     hbv012   57  Female\n",
       "2     hbv013   68  Female\n",
       "3     hbv014   67    Male\n",
       "4     hbv016   71    Male"
      ]
     },
     "execution_count": 23,
     "metadata": {},
     "output_type": "execute_result"
    }
   ],
   "source": [
    "demographics =  pd.read_csv(\"/home/ms994/beat_pd/data/real-pd/clinical_data/REAL-PD_Demographics.csv\")\n",
    "demographics.head()"
   ]
  },
  {
   "cell_type": "code",
   "execution_count": 24,
   "metadata": {},
   "outputs": [],
   "source": [
    "all_device_id = {}"
   ]
  },
  {
   "cell_type": "code",
   "execution_count": 25,
   "metadata": {},
   "outputs": [],
   "source": [
    "for fn in train_watch_accel:\n",
    "    df = pd.read_csv(fn)\n",
    "    all_device_id[fn] = df.device_id.unique()"
   ]
  },
  {
   "cell_type": "code",
   "execution_count": 26,
   "metadata": {},
   "outputs": [],
   "source": [
    "dev_num = {}\n",
    "for key in all_device_id.keys():\n",
    "    dev_num[key] = len(all_device_id[key])"
   ]
  },
  {
   "cell_type": "code",
   "execution_count": 27,
   "metadata": {},
   "outputs": [
    {
     "data": {
      "text/plain": [
       "(array([394.,   0.,   0.,   0.,   0.,   0.,   0.,   0.,   0., 141.]),\n",
       " array([1. , 1.1, 1.2, 1.3, 1.4, 1.5, 1.6, 1.7, 1.8, 1.9, 2. ]),\n",
       " <a list of 10 Patch objects>)"
      ]
     },
     "execution_count": 27,
     "metadata": {},
     "output_type": "execute_result"
    },
    {
     "data": {
      "image/png": "[encoded data removed]",
      "text/plain": [
       "<Figure size 432x288 with 1 Axes>"
      ]
     },
     "metadata": {
      "needs_background": "light"
     },
     "output_type": "display_data"
    }
   ],
   "source": [
    "plt.hist(pd.Series(dev_num))"
   ]
  },
  {
   "cell_type": "code",
   "execution_count": 28,
   "metadata": {},
   "outputs": [],
   "source": [
    "dev_acc_num = pd.Series(dev_num) "
   ]
  },
  {
   "cell_type": "code",
   "execution_count": 29,
   "metadata": {},
   "outputs": [],
   "source": [
    "all_device_id = {}\n",
    "for fn in train_watch_gyro:\n",
    "    df = pd.read_csv(fn)\n",
    "    all_device_id[fn] = df.device_id.unique()\n",
    "dev_num = {}\n",
    "for key in all_device_id.keys():\n",
    "    dev_num[key] = len(all_device_id[key])\n",
    "dev_gyro_num = pd.Series(dev_num)"
   ]
  },
  {
   "cell_type": "code",
   "execution_count": 30,
   "metadata": {},
   "outputs": [
    {
     "data": {
      "text/plain": [
       "False"
      ]
     },
     "execution_count": 30,
     "metadata": {},
     "output_type": "execute_result"
    }
   ],
   "source": [
    "(set(dev_acc_num[dev_acc_num == 2].index) == set(dev_gyro_num[dev_gyro_num == 2].index))"
   ]
  },
  {
   "cell_type": "code",
   "execution_count": 147,
   "metadata": {},
   "outputs": [
    {
     "data": {
      "text/plain": [
       "True"
      ]
     },
     "execution_count": 147,
     "metadata": {},
     "output_type": "execute_result"
    }
   ],
   "source": [
    "set(map(lambda x: x[68:-4], dev_gyro_num.keys())) == set(map(lambda x: x[72:-4], dev_acc_num.keys()))"
   ]
  },
  {
   "cell_type": "markdown",
   "metadata": {},
   "source": [
    "# Create a new index on the device num, combining real_pd and cis_pd"
   ]
  },
  {
   "cell_type": "code",
   "execution_count": 50,
   "metadata": {},
   "outputs": [],
   "source": [
    "toUse = list(map(lambda x: (x[68:-4], all_device_id[x]), list(all_device_id.keys())))"
   ]
  },
  {
   "cell_type": "code",
   "execution_count": 55,
   "metadata": {},
   "outputs": [
    {
     "data": {
      "text/html": [
       "<div>\n",
       "<style scoped>\n",
       "    .dataframe tbody tr th:only-of-type {\n",
       "        vertical-align: middle;\n",
       "    }\n",
       "\n",
       "    .dataframe tbody tr th {\n",
       "        vertical-align: top;\n",
       "    }\n",
       "\n",
       "    .dataframe thead th {\n",
       "        text-align: right;\n",
       "    }\n",
       "</style>\n",
       "<table border=\"1\" class=\"dataframe\">\n",
       "  <thead>\n",
       "    <tr style=\"text-align: right;\">\n",
       "      <th></th>\n",
       "      <th>measurement_id</th>\n",
       "      <th>subject_id</th>\n",
       "      <th>on_off</th>\n",
       "      <th>dyskinesia</th>\n",
       "      <th>tremor</th>\n",
       "    </tr>\n",
       "  </thead>\n",
       "  <tbody>\n",
       "    <tr>\n",
       "      <th>339</th>\n",
       "      <td>29084e8f-4ded-4bc4-8837-b42aafd0b211</td>\n",
       "      <td>hbv054</td>\n",
       "      <td>NaN</td>\n",
       "      <td>NaN</td>\n",
       "      <td>0.0</td>\n",
       "    </tr>\n",
       "  </tbody>\n",
       "</table>\n",
       "</div>"
      ],
      "text/plain": [
       "                           measurement_id subject_id  on_off  dyskinesia  \\\n",
       "339  29084e8f-4ded-4bc4-8837-b42aafd0b211     hbv054     NaN         NaN   \n",
       "\n",
       "     tremor  \n",
       "339     0.0  "
      ]
     },
     "execution_count": 55,
     "metadata": {},
     "output_type": "execute_result"
    }
   ],
   "source": []
  },
  {
   "cell_type": "code",
   "execution_count": 148,
   "metadata": {},
   "outputs": [],
   "source": [
    "newLabels = []\n",
    "for m_id, deviceArray in toUse:\n",
    "    base = (labels[labels.measurement_id == m_id])\n",
    "    for device in deviceArray:\n",
    "        toAdd = base.copy()\n",
    "        toAdd[\"device_id\"] = device\n",
    "        newLabels.append(toAdd)"
   ]
  },
  {
   "cell_type": "code",
   "execution_count": 149,
   "metadata": {},
   "outputs": [],
   "source": [
    "newLabels = pd.concat(newLabels)"
   ]
  },
  {
   "cell_type": "code",
   "execution_count": 150,
   "metadata": {},
   "outputs": [],
   "source": [
    "newLabels[\"smartwatch_data\"]=True"
   ]
  },
  {
   "cell_type": "code",
   "execution_count": 151,
   "metadata": {},
   "outputs": [
    {
     "data": {
      "text/html": [
       "<div>\n",
       "<style scoped>\n",
       "    .dataframe tbody tr th:only-of-type {\n",
       "        vertical-align: middle;\n",
       "    }\n",
       "\n",
       "    .dataframe tbody tr th {\n",
       "        vertical-align: top;\n",
       "    }\n",
       "\n",
       "    .dataframe thead th {\n",
       "        text-align: right;\n",
       "    }\n",
       "</style>\n",
       "<table border=\"1\" class=\"dataframe\">\n",
       "  <thead>\n",
       "    <tr style=\"text-align: right;\">\n",
       "      <th></th>\n",
       "      <th>measurement_id</th>\n",
       "      <th>subject_id</th>\n",
       "      <th>on_off</th>\n",
       "      <th>dyskinesia</th>\n",
       "      <th>tremor</th>\n",
       "      <th>device_id</th>\n",
       "      <th>smartwatch_data</th>\n",
       "    </tr>\n",
       "  </thead>\n",
       "  <tbody>\n",
       "    <tr>\n",
       "      <th>339</th>\n",
       "      <td>29084e8f-4ded-4bc4-8837-b42aafd0b211</td>\n",
       "      <td>hbv054</td>\n",
       "      <td>NaN</td>\n",
       "      <td>NaN</td>\n",
       "      <td>0.0</td>\n",
       "      <td>2WLT</td>\n",
       "      <td>True</td>\n",
       "    </tr>\n",
       "    <tr>\n",
       "      <th>88</th>\n",
       "      <td>439bc1b9-1b23-4691-a454-f4e1c7b8e4d9</td>\n",
       "      <td>hbv038</td>\n",
       "      <td>1.0</td>\n",
       "      <td>NaN</td>\n",
       "      <td>3.0</td>\n",
       "      <td>2WH8</td>\n",
       "      <td>True</td>\n",
       "    </tr>\n",
       "    <tr>\n",
       "      <th>534</th>\n",
       "      <td>b36b10ee-94d2-47e1-bc24-59760c976e6b</td>\n",
       "      <td>hbv022</td>\n",
       "      <td>0.0</td>\n",
       "      <td>NaN</td>\n",
       "      <td>0.0</td>\n",
       "      <td>327T</td>\n",
       "      <td>True</td>\n",
       "    </tr>\n",
       "    <tr>\n",
       "      <th>297</th>\n",
       "      <td>5b8eafee-0b7e-42ec-9cad-42b173bc5005</td>\n",
       "      <td>hbv077</td>\n",
       "      <td>0.0</td>\n",
       "      <td>NaN</td>\n",
       "      <td>NaN</td>\n",
       "      <td>2VSP</td>\n",
       "      <td>True</td>\n",
       "    </tr>\n",
       "    <tr>\n",
       "      <th>266</th>\n",
       "      <td>1dd1609d-b818-4cc0-a1b8-1d8066332a9e</td>\n",
       "      <td>hbv051</td>\n",
       "      <td>0.0</td>\n",
       "      <td>NaN</td>\n",
       "      <td>NaN</td>\n",
       "      <td>2VSP</td>\n",
       "      <td>True</td>\n",
       "    </tr>\n",
       "  </tbody>\n",
       "</table>\n",
       "</div>"
      ],
      "text/plain": [
       "                           measurement_id subject_id  on_off  dyskinesia  \\\n",
       "339  29084e8f-4ded-4bc4-8837-b42aafd0b211     hbv054     NaN         NaN   \n",
       "88   439bc1b9-1b23-4691-a454-f4e1c7b8e4d9     hbv038     1.0         NaN   \n",
       "534  b36b10ee-94d2-47e1-bc24-59760c976e6b     hbv022     0.0         NaN   \n",
       "297  5b8eafee-0b7e-42ec-9cad-42b173bc5005     hbv077     0.0         NaN   \n",
       "266  1dd1609d-b818-4cc0-a1b8-1d8066332a9e     hbv051     0.0         NaN   \n",
       "\n",
       "     tremor device_id  smartwatch_data  \n",
       "339     0.0      2WLT             True  \n",
       "88      3.0      2WH8             True  \n",
       "534     0.0      327T             True  \n",
       "297     NaN      2VSP             True  \n",
       "266     NaN      2VSP             True  "
      ]
     },
     "execution_count": 151,
     "metadata": {},
     "output_type": "execute_result"
    }
   ],
   "source": [
    "newLabels.head()"
   ]
  },
  {
   "cell_type": "code",
   "execution_count": 153,
   "metadata": {},
   "outputs": [],
   "source": [
    "gyro = list(map(lambda x: x[68:-4], train_watch_gyro))"
   ]
  },
  {
   "cell_type": "code",
   "execution_count": 154,
   "metadata": {},
   "outputs": [],
   "source": [
    "newLabels[\"gyro_data\"] = False"
   ]
  },
  {
   "cell_type": "code",
   "execution_count": 155,
   "metadata": {},
   "outputs": [],
   "source": [
    "for gyro_m_id in gyro:\n",
    "    newLabels.loc[newLabels.measurement_id==gyro_m_id, \"gyro_data\"] = True"
   ]
  },
  {
   "cell_type": "code",
   "execution_count": 156,
   "metadata": {},
   "outputs": [
    {
     "data": {
      "text/plain": [
       "1.0"
      ]
     },
     "execution_count": 156,
     "metadata": {},
     "output_type": "execute_result"
    }
   ],
   "source": [
    "newLabels['gyro_data'] = newLabels['gyro_data'].fillna(False)\n",
    "newLabels['gyro_data'].mean()"
   ]
  },
  {
   "cell_type": "code",
   "execution_count": 157,
   "metadata": {},
   "outputs": [
    {
     "data": {
      "text/html": [
       "<div>\n",
       "<style scoped>\n",
       "    .dataframe tbody tr th:only-of-type {\n",
       "        vertical-align: middle;\n",
       "    }\n",
       "\n",
       "    .dataframe tbody tr th {\n",
       "        vertical-align: top;\n",
       "    }\n",
       "\n",
       "    .dataframe thead th {\n",
       "        text-align: right;\n",
       "    }\n",
       "</style>\n",
       "<table border=\"1\" class=\"dataframe\">\n",
       "  <thead>\n",
       "    <tr style=\"text-align: right;\">\n",
       "      <th></th>\n",
       "      <th>measurement_id</th>\n",
       "      <th>subject_id</th>\n",
       "      <th>on_off</th>\n",
       "      <th>dyskinesia</th>\n",
       "      <th>tremor</th>\n",
       "      <th>device_id</th>\n",
       "      <th>smartwatch_data</th>\n",
       "      <th>gyro_data</th>\n",
       "    </tr>\n",
       "  </thead>\n",
       "  <tbody>\n",
       "    <tr>\n",
       "      <th>339</th>\n",
       "      <td>29084e8f-4ded-4bc4-8837-b42aafd0b211</td>\n",
       "      <td>hbv054</td>\n",
       "      <td>NaN</td>\n",
       "      <td>NaN</td>\n",
       "      <td>0.0</td>\n",
       "      <td>2WLT</td>\n",
       "      <td>True</td>\n",
       "      <td>True</td>\n",
       "    </tr>\n",
       "    <tr>\n",
       "      <th>88</th>\n",
       "      <td>439bc1b9-1b23-4691-a454-f4e1c7b8e4d9</td>\n",
       "      <td>hbv038</td>\n",
       "      <td>1.0</td>\n",
       "      <td>NaN</td>\n",
       "      <td>3.0</td>\n",
       "      <td>2WH8</td>\n",
       "      <td>True</td>\n",
       "      <td>True</td>\n",
       "    </tr>\n",
       "    <tr>\n",
       "      <th>534</th>\n",
       "      <td>b36b10ee-94d2-47e1-bc24-59760c976e6b</td>\n",
       "      <td>hbv022</td>\n",
       "      <td>0.0</td>\n",
       "      <td>NaN</td>\n",
       "      <td>0.0</td>\n",
       "      <td>327T</td>\n",
       "      <td>True</td>\n",
       "      <td>True</td>\n",
       "    </tr>\n",
       "    <tr>\n",
       "      <th>297</th>\n",
       "      <td>5b8eafee-0b7e-42ec-9cad-42b173bc5005</td>\n",
       "      <td>hbv077</td>\n",
       "      <td>0.0</td>\n",
       "      <td>NaN</td>\n",
       "      <td>NaN</td>\n",
       "      <td>2VSP</td>\n",
       "      <td>True</td>\n",
       "      <td>True</td>\n",
       "    </tr>\n",
       "    <tr>\n",
       "      <th>266</th>\n",
       "      <td>1dd1609d-b818-4cc0-a1b8-1d8066332a9e</td>\n",
       "      <td>hbv051</td>\n",
       "      <td>0.0</td>\n",
       "      <td>NaN</td>\n",
       "      <td>NaN</td>\n",
       "      <td>2VSP</td>\n",
       "      <td>True</td>\n",
       "      <td>True</td>\n",
       "    </tr>\n",
       "    <tr>\n",
       "      <th>535</th>\n",
       "      <td>faf50397-21ef-4f14-b203-9a6fc4ba70d2</td>\n",
       "      <td>hbv022</td>\n",
       "      <td>0.0</td>\n",
       "      <td>NaN</td>\n",
       "      <td>0.0</td>\n",
       "      <td>327T</td>\n",
       "      <td>True</td>\n",
       "      <td>True</td>\n",
       "    </tr>\n",
       "    <tr>\n",
       "      <th>214</th>\n",
       "      <td>7bee6251-c39e-4feb-bbd2-055ab31131b8</td>\n",
       "      <td>hbv023</td>\n",
       "      <td>NaN</td>\n",
       "      <td>NaN</td>\n",
       "      <td>3.0</td>\n",
       "      <td>327T</td>\n",
       "      <td>True</td>\n",
       "      <td>True</td>\n",
       "    </tr>\n",
       "    <tr>\n",
       "      <th>214</th>\n",
       "      <td>7bee6251-c39e-4feb-bbd2-055ab31131b8</td>\n",
       "      <td>hbv023</td>\n",
       "      <td>NaN</td>\n",
       "      <td>NaN</td>\n",
       "      <td>3.0</td>\n",
       "      <td>2WH3</td>\n",
       "      <td>True</td>\n",
       "      <td>True</td>\n",
       "    </tr>\n",
       "    <tr>\n",
       "      <th>156</th>\n",
       "      <td>6e290268-7c1c-435a-b688-a4d7b3dfb862</td>\n",
       "      <td>hbv017</td>\n",
       "      <td>NaN</td>\n",
       "      <td>1.0</td>\n",
       "      <td>NaN</td>\n",
       "      <td>2WH7</td>\n",
       "      <td>True</td>\n",
       "      <td>True</td>\n",
       "    </tr>\n",
       "    <tr>\n",
       "      <th>156</th>\n",
       "      <td>6e290268-7c1c-435a-b688-a4d7b3dfb862</td>\n",
       "      <td>hbv017</td>\n",
       "      <td>NaN</td>\n",
       "      <td>1.0</td>\n",
       "      <td>NaN</td>\n",
       "      <td>2WH5</td>\n",
       "      <td>True</td>\n",
       "      <td>True</td>\n",
       "    </tr>\n",
       "    <tr>\n",
       "      <th>351</th>\n",
       "      <td>eb39a184-d797-41ed-9170-d48da775f912</td>\n",
       "      <td>hbv054</td>\n",
       "      <td>NaN</td>\n",
       "      <td>1.0</td>\n",
       "      <td>1.0</td>\n",
       "      <td>2ZX6</td>\n",
       "      <td>True</td>\n",
       "      <td>True</td>\n",
       "    </tr>\n",
       "    <tr>\n",
       "      <th>351</th>\n",
       "      <td>eb39a184-d797-41ed-9170-d48da775f912</td>\n",
       "      <td>hbv054</td>\n",
       "      <td>NaN</td>\n",
       "      <td>1.0</td>\n",
       "      <td>1.0</td>\n",
       "      <td>2WLT</td>\n",
       "      <td>True</td>\n",
       "      <td>True</td>\n",
       "    </tr>\n",
       "    <tr>\n",
       "      <th>445</th>\n",
       "      <td>72af00e8-1dd6-4fcf-a91d-c24445b6e173</td>\n",
       "      <td>hbv018</td>\n",
       "      <td>NaN</td>\n",
       "      <td>1.0</td>\n",
       "      <td>NaN</td>\n",
       "      <td>2VSP</td>\n",
       "      <td>True</td>\n",
       "      <td>True</td>\n",
       "    </tr>\n",
       "    <tr>\n",
       "      <th>278</th>\n",
       "      <td>b1e15f8a-109f-459b-ba87-46899240ee66</td>\n",
       "      <td>hbv077</td>\n",
       "      <td>NaN</td>\n",
       "      <td>NaN</td>\n",
       "      <td>NaN</td>\n",
       "      <td>327T</td>\n",
       "      <td>True</td>\n",
       "      <td>True</td>\n",
       "    </tr>\n",
       "    <tr>\n",
       "      <th>393</th>\n",
       "      <td>b37e99cb-d70c-4915-b6a4-f9ed5c50994d</td>\n",
       "      <td>hbv014</td>\n",
       "      <td>1.0</td>\n",
       "      <td>NaN</td>\n",
       "      <td>NaN</td>\n",
       "      <td>2WH7</td>\n",
       "      <td>True</td>\n",
       "      <td>True</td>\n",
       "    </tr>\n",
       "    <tr>\n",
       "      <th>498</th>\n",
       "      <td>5021d2db-723a-4c05-8439-317ec320aded</td>\n",
       "      <td>hbv022</td>\n",
       "      <td>1.0</td>\n",
       "      <td>NaN</td>\n",
       "      <td>0.0</td>\n",
       "      <td>327T</td>\n",
       "      <td>True</td>\n",
       "      <td>True</td>\n",
       "    </tr>\n",
       "    <tr>\n",
       "      <th>457</th>\n",
       "      <td>ead7c4df-53fc-493e-be19-39e5c269f003</td>\n",
       "      <td>hbv043</td>\n",
       "      <td>1.0</td>\n",
       "      <td>2.0</td>\n",
       "      <td>NaN</td>\n",
       "      <td>2WH8</td>\n",
       "      <td>True</td>\n",
       "      <td>True</td>\n",
       "    </tr>\n",
       "    <tr>\n",
       "      <th>457</th>\n",
       "      <td>ead7c4df-53fc-493e-be19-39e5c269f003</td>\n",
       "      <td>hbv043</td>\n",
       "      <td>1.0</td>\n",
       "      <td>2.0</td>\n",
       "      <td>NaN</td>\n",
       "      <td>2WH5</td>\n",
       "      <td>True</td>\n",
       "      <td>True</td>\n",
       "    </tr>\n",
       "    <tr>\n",
       "      <th>405</th>\n",
       "      <td>cca0e216-e011-4775-a3b2-61b1d6188888</td>\n",
       "      <td>hbv014</td>\n",
       "      <td>0.0</td>\n",
       "      <td>NaN</td>\n",
       "      <td>NaN</td>\n",
       "      <td>2WLT</td>\n",
       "      <td>True</td>\n",
       "      <td>True</td>\n",
       "    </tr>\n",
       "    <tr>\n",
       "      <th>405</th>\n",
       "      <td>cca0e216-e011-4775-a3b2-61b1d6188888</td>\n",
       "      <td>hbv014</td>\n",
       "      <td>0.0</td>\n",
       "      <td>NaN</td>\n",
       "      <td>NaN</td>\n",
       "      <td>2WH7</td>\n",
       "      <td>True</td>\n",
       "      <td>True</td>\n",
       "    </tr>\n",
       "    <tr>\n",
       "      <th>463</th>\n",
       "      <td>2db21109-b138-4907-9087-994d0c03f71f</td>\n",
       "      <td>hbv043</td>\n",
       "      <td>0.0</td>\n",
       "      <td>1.0</td>\n",
       "      <td>NaN</td>\n",
       "      <td>2WH5</td>\n",
       "      <td>True</td>\n",
       "      <td>True</td>\n",
       "    </tr>\n",
       "    <tr>\n",
       "      <th>83</th>\n",
       "      <td>d64395cf-19b8-469b-9e3f-f22e60001d8b</td>\n",
       "      <td>hbv038</td>\n",
       "      <td>1.0</td>\n",
       "      <td>NaN</td>\n",
       "      <td>2.0</td>\n",
       "      <td>2ZX6</td>\n",
       "      <td>True</td>\n",
       "      <td>True</td>\n",
       "    </tr>\n",
       "    <tr>\n",
       "      <th>536</th>\n",
       "      <td>25ce9b00-728b-473a-81d9-73a83c62c272</td>\n",
       "      <td>hbv022</td>\n",
       "      <td>0.0</td>\n",
       "      <td>NaN</td>\n",
       "      <td>0.0</td>\n",
       "      <td>327T</td>\n",
       "      <td>True</td>\n",
       "      <td>True</td>\n",
       "    </tr>\n",
       "    <tr>\n",
       "      <th>197</th>\n",
       "      <td>00f1d52e-03cf-4031-a616-9a66f961d994</td>\n",
       "      <td>hbv023</td>\n",
       "      <td>NaN</td>\n",
       "      <td>NaN</td>\n",
       "      <td>2.0</td>\n",
       "      <td>2WH3</td>\n",
       "      <td>True</td>\n",
       "      <td>True</td>\n",
       "    </tr>\n",
       "    <tr>\n",
       "      <th>197</th>\n",
       "      <td>00f1d52e-03cf-4031-a616-9a66f961d994</td>\n",
       "      <td>hbv023</td>\n",
       "      <td>NaN</td>\n",
       "      <td>NaN</td>\n",
       "      <td>2.0</td>\n",
       "      <td>327T</td>\n",
       "      <td>True</td>\n",
       "      <td>True</td>\n",
       "    </tr>\n",
       "    <tr>\n",
       "      <th>343</th>\n",
       "      <td>4124f36f-7f43-4eb1-b47e-783c9ad8bc2c</td>\n",
       "      <td>hbv054</td>\n",
       "      <td>NaN</td>\n",
       "      <td>0.0</td>\n",
       "      <td>0.0</td>\n",
       "      <td>2ZX6</td>\n",
       "      <td>True</td>\n",
       "      <td>True</td>\n",
       "    </tr>\n",
       "    <tr>\n",
       "      <th>343</th>\n",
       "      <td>4124f36f-7f43-4eb1-b47e-783c9ad8bc2c</td>\n",
       "      <td>hbv054</td>\n",
       "      <td>NaN</td>\n",
       "      <td>0.0</td>\n",
       "      <td>0.0</td>\n",
       "      <td>2WLT</td>\n",
       "      <td>True</td>\n",
       "      <td>True</td>\n",
       "    </tr>\n",
       "    <tr>\n",
       "      <th>225</th>\n",
       "      <td>2371bc61-2556-4ce1-a7c5-ad6c1f83fef3</td>\n",
       "      <td>hbv023</td>\n",
       "      <td>NaN</td>\n",
       "      <td>NaN</td>\n",
       "      <td>1.0</td>\n",
       "      <td>2WH3</td>\n",
       "      <td>True</td>\n",
       "      <td>True</td>\n",
       "    </tr>\n",
       "    <tr>\n",
       "      <th>225</th>\n",
       "      <td>2371bc61-2556-4ce1-a7c5-ad6c1f83fef3</td>\n",
       "      <td>hbv023</td>\n",
       "      <td>NaN</td>\n",
       "      <td>NaN</td>\n",
       "      <td>1.0</td>\n",
       "      <td>327T</td>\n",
       "      <td>True</td>\n",
       "      <td>True</td>\n",
       "    </tr>\n",
       "    <tr>\n",
       "      <th>400</th>\n",
       "      <td>01dabc91-ceca-4e20-9b2c-b0c7d9566752</td>\n",
       "      <td>hbv014</td>\n",
       "      <td>0.0</td>\n",
       "      <td>NaN</td>\n",
       "      <td>NaN</td>\n",
       "      <td>2WH7</td>\n",
       "      <td>True</td>\n",
       "      <td>True</td>\n",
       "    </tr>\n",
       "    <tr>\n",
       "      <th>...</th>\n",
       "      <td>...</td>\n",
       "      <td>...</td>\n",
       "      <td>...</td>\n",
       "      <td>...</td>\n",
       "      <td>...</td>\n",
       "      <td>...</td>\n",
       "      <td>...</td>\n",
       "      <td>...</td>\n",
       "    </tr>\n",
       "    <tr>\n",
       "      <th>226</th>\n",
       "      <td>325eec89-bcf3-4aa5-8159-ccb26ccf5f6a</td>\n",
       "      <td>hbv023</td>\n",
       "      <td>NaN</td>\n",
       "      <td>NaN</td>\n",
       "      <td>1.0</td>\n",
       "      <td>327T</td>\n",
       "      <td>True</td>\n",
       "      <td>True</td>\n",
       "    </tr>\n",
       "    <tr>\n",
       "      <th>226</th>\n",
       "      <td>325eec89-bcf3-4aa5-8159-ccb26ccf5f6a</td>\n",
       "      <td>hbv023</td>\n",
       "      <td>NaN</td>\n",
       "      <td>NaN</td>\n",
       "      <td>1.0</td>\n",
       "      <td>2WH3</td>\n",
       "      <td>True</td>\n",
       "      <td>True</td>\n",
       "    </tr>\n",
       "    <tr>\n",
       "      <th>411</th>\n",
       "      <td>6c8a1135-25db-4af6-a257-9eb3872b53f2</td>\n",
       "      <td>hbv014</td>\n",
       "      <td>0.0</td>\n",
       "      <td>NaN</td>\n",
       "      <td>NaN</td>\n",
       "      <td>2WH7</td>\n",
       "      <td>True</td>\n",
       "      <td>True</td>\n",
       "    </tr>\n",
       "    <tr>\n",
       "      <th>302</th>\n",
       "      <td>313aa559-41ff-4777-a42d-1170280317f2</td>\n",
       "      <td>hbv077</td>\n",
       "      <td>1.0</td>\n",
       "      <td>NaN</td>\n",
       "      <td>NaN</td>\n",
       "      <td>327T</td>\n",
       "      <td>True</td>\n",
       "      <td>True</td>\n",
       "    </tr>\n",
       "    <tr>\n",
       "      <th>302</th>\n",
       "      <td>313aa559-41ff-4777-a42d-1170280317f2</td>\n",
       "      <td>hbv077</td>\n",
       "      <td>1.0</td>\n",
       "      <td>NaN</td>\n",
       "      <td>NaN</td>\n",
       "      <td>2VSP</td>\n",
       "      <td>True</td>\n",
       "      <td>True</td>\n",
       "    </tr>\n",
       "    <tr>\n",
       "      <th>418</th>\n",
       "      <td>42243b7c-714c-4349-8884-88973ddc0849</td>\n",
       "      <td>hbv014</td>\n",
       "      <td>0.0</td>\n",
       "      <td>NaN</td>\n",
       "      <td>NaN</td>\n",
       "      <td>2WLT</td>\n",
       "      <td>True</td>\n",
       "      <td>True</td>\n",
       "    </tr>\n",
       "    <tr>\n",
       "      <th>418</th>\n",
       "      <td>42243b7c-714c-4349-8884-88973ddc0849</td>\n",
       "      <td>hbv014</td>\n",
       "      <td>0.0</td>\n",
       "      <td>NaN</td>\n",
       "      <td>NaN</td>\n",
       "      <td>2WH7</td>\n",
       "      <td>True</td>\n",
       "      <td>True</td>\n",
       "    </tr>\n",
       "    <tr>\n",
       "      <th>64</th>\n",
       "      <td>c5293894-ea18-4ab7-affd-b08dec1fd126</td>\n",
       "      <td>hbv013</td>\n",
       "      <td>0.0</td>\n",
       "      <td>0.0</td>\n",
       "      <td>0.0</td>\n",
       "      <td>2WH8</td>\n",
       "      <td>True</td>\n",
       "      <td>True</td>\n",
       "    </tr>\n",
       "    <tr>\n",
       "      <th>446</th>\n",
       "      <td>4ee4382e-5e6d-465e-b3b4-2e0fc75a160b</td>\n",
       "      <td>hbv018</td>\n",
       "      <td>NaN</td>\n",
       "      <td>1.0</td>\n",
       "      <td>NaN</td>\n",
       "      <td>2VSP</td>\n",
       "      <td>True</td>\n",
       "      <td>True</td>\n",
       "    </tr>\n",
       "    <tr>\n",
       "      <th>446</th>\n",
       "      <td>4ee4382e-5e6d-465e-b3b4-2e0fc75a160b</td>\n",
       "      <td>hbv018</td>\n",
       "      <td>NaN</td>\n",
       "      <td>1.0</td>\n",
       "      <td>NaN</td>\n",
       "      <td>2ZX3</td>\n",
       "      <td>True</td>\n",
       "      <td>True</td>\n",
       "    </tr>\n",
       "    <tr>\n",
       "      <th>61</th>\n",
       "      <td>cd42b72a-e7d2-4a28-bdb6-76aea14715a9</td>\n",
       "      <td>hbv013</td>\n",
       "      <td>1.0</td>\n",
       "      <td>0.0</td>\n",
       "      <td>2.0</td>\n",
       "      <td>2WH8</td>\n",
       "      <td>True</td>\n",
       "      <td>True</td>\n",
       "    </tr>\n",
       "    <tr>\n",
       "      <th>16</th>\n",
       "      <td>87db04a9-db5b-4302-811d-a3191704595c</td>\n",
       "      <td>hbv013</td>\n",
       "      <td>0.0</td>\n",
       "      <td>1.0</td>\n",
       "      <td>1.0</td>\n",
       "      <td>2WH8</td>\n",
       "      <td>True</td>\n",
       "      <td>True</td>\n",
       "    </tr>\n",
       "    <tr>\n",
       "      <th>243</th>\n",
       "      <td>b21117ac-bcb7-46f3-af0b-c3456da2e7c0</td>\n",
       "      <td>hbv051</td>\n",
       "      <td>0.0</td>\n",
       "      <td>NaN</td>\n",
       "      <td>NaN</td>\n",
       "      <td>2ZX3</td>\n",
       "      <td>True</td>\n",
       "      <td>True</td>\n",
       "    </tr>\n",
       "    <tr>\n",
       "      <th>483</th>\n",
       "      <td>8f2487f1-7ae8-4ced-9079-b1f403935db3</td>\n",
       "      <td>hbv043</td>\n",
       "      <td>1.0</td>\n",
       "      <td>0.0</td>\n",
       "      <td>NaN</td>\n",
       "      <td>2WH5</td>\n",
       "      <td>True</td>\n",
       "      <td>True</td>\n",
       "    </tr>\n",
       "    <tr>\n",
       "      <th>541</th>\n",
       "      <td>c19a1748-ba4a-445f-bab4-ac1cdfd6e7f6</td>\n",
       "      <td>hbv022</td>\n",
       "      <td>0.0</td>\n",
       "      <td>NaN</td>\n",
       "      <td>0.0</td>\n",
       "      <td>327T</td>\n",
       "      <td>True</td>\n",
       "      <td>True</td>\n",
       "    </tr>\n",
       "    <tr>\n",
       "      <th>310</th>\n",
       "      <td>7b8a0f32-a8c3-4f0c-80ed-15e3eebddf22</td>\n",
       "      <td>hbv077</td>\n",
       "      <td>0.0</td>\n",
       "      <td>NaN</td>\n",
       "      <td>NaN</td>\n",
       "      <td>327T</td>\n",
       "      <td>True</td>\n",
       "      <td>True</td>\n",
       "    </tr>\n",
       "    <tr>\n",
       "      <th>310</th>\n",
       "      <td>7b8a0f32-a8c3-4f0c-80ed-15e3eebddf22</td>\n",
       "      <td>hbv077</td>\n",
       "      <td>0.0</td>\n",
       "      <td>NaN</td>\n",
       "      <td>NaN</td>\n",
       "      <td>2VSP</td>\n",
       "      <td>True</td>\n",
       "      <td>True</td>\n",
       "    </tr>\n",
       "    <tr>\n",
       "      <th>129</th>\n",
       "      <td>73b91037-8021-44b7-ade2-d7f7549c0a4d</td>\n",
       "      <td>hbv017</td>\n",
       "      <td>NaN</td>\n",
       "      <td>1.0</td>\n",
       "      <td>NaN</td>\n",
       "      <td>2WH5</td>\n",
       "      <td>True</td>\n",
       "      <td>True</td>\n",
       "    </tr>\n",
       "    <tr>\n",
       "      <th>318</th>\n",
       "      <td>f185bdf4-00af-4c2a-b917-b0c4ab786785</td>\n",
       "      <td>hbv054</td>\n",
       "      <td>NaN</td>\n",
       "      <td>0.0</td>\n",
       "      <td>0.0</td>\n",
       "      <td>2ZX6</td>\n",
       "      <td>True</td>\n",
       "      <td>True</td>\n",
       "    </tr>\n",
       "    <tr>\n",
       "      <th>484</th>\n",
       "      <td>d9a4a395-e15d-4c08-966e-524bb7b191c9</td>\n",
       "      <td>hbv043</td>\n",
       "      <td>0.0</td>\n",
       "      <td>0.0</td>\n",
       "      <td>NaN</td>\n",
       "      <td>2WH5</td>\n",
       "      <td>True</td>\n",
       "      <td>True</td>\n",
       "    </tr>\n",
       "    <tr>\n",
       "      <th>166</th>\n",
       "      <td>99a81330-415f-45c7-aa84-ec64b912db80</td>\n",
       "      <td>hbv017</td>\n",
       "      <td>NaN</td>\n",
       "      <td>1.0</td>\n",
       "      <td>NaN</td>\n",
       "      <td>2WH5</td>\n",
       "      <td>True</td>\n",
       "      <td>True</td>\n",
       "    </tr>\n",
       "    <tr>\n",
       "      <th>177</th>\n",
       "      <td>d7ca6465-8971-4e85-9450-a0104804b4c5</td>\n",
       "      <td>hbv017</td>\n",
       "      <td>NaN</td>\n",
       "      <td>1.0</td>\n",
       "      <td>NaN</td>\n",
       "      <td>2WH7</td>\n",
       "      <td>True</td>\n",
       "      <td>True</td>\n",
       "    </tr>\n",
       "    <tr>\n",
       "      <th>281</th>\n",
       "      <td>50fa963c-7ee8-45a2-8a02-93a00a9cc479</td>\n",
       "      <td>hbv077</td>\n",
       "      <td>0.0</td>\n",
       "      <td>NaN</td>\n",
       "      <td>NaN</td>\n",
       "      <td>327T</td>\n",
       "      <td>True</td>\n",
       "      <td>True</td>\n",
       "    </tr>\n",
       "    <tr>\n",
       "      <th>384</th>\n",
       "      <td>81006db6-8e00-4e29-87b5-c84a39545f64</td>\n",
       "      <td>hbv014</td>\n",
       "      <td>1.0</td>\n",
       "      <td>NaN</td>\n",
       "      <td>NaN</td>\n",
       "      <td>2WH7</td>\n",
       "      <td>True</td>\n",
       "      <td>True</td>\n",
       "    </tr>\n",
       "    <tr>\n",
       "      <th>384</th>\n",
       "      <td>81006db6-8e00-4e29-87b5-c84a39545f64</td>\n",
       "      <td>hbv014</td>\n",
       "      <td>1.0</td>\n",
       "      <td>NaN</td>\n",
       "      <td>NaN</td>\n",
       "      <td>2WLT</td>\n",
       "      <td>True</td>\n",
       "      <td>True</td>\n",
       "    </tr>\n",
       "    <tr>\n",
       "      <th>522</th>\n",
       "      <td>b2acd505-718c-43fb-af9a-c324215a1bb2</td>\n",
       "      <td>hbv022</td>\n",
       "      <td>0.0</td>\n",
       "      <td>NaN</td>\n",
       "      <td>0.0</td>\n",
       "      <td>2WH5</td>\n",
       "      <td>True</td>\n",
       "      <td>True</td>\n",
       "    </tr>\n",
       "    <tr>\n",
       "      <th>520</th>\n",
       "      <td>5949b311-1eed-4fa1-b053-30d5c8b11954</td>\n",
       "      <td>hbv022</td>\n",
       "      <td>0.0</td>\n",
       "      <td>NaN</td>\n",
       "      <td>0.0</td>\n",
       "      <td>2WH5</td>\n",
       "      <td>True</td>\n",
       "      <td>True</td>\n",
       "    </tr>\n",
       "    <tr>\n",
       "      <th>81</th>\n",
       "      <td>9446b6f3-6c09-4366-8b60-ac3d10387880</td>\n",
       "      <td>hbv038</td>\n",
       "      <td>1.0</td>\n",
       "      <td>NaN</td>\n",
       "      <td>3.0</td>\n",
       "      <td>2ZX6</td>\n",
       "      <td>True</td>\n",
       "      <td>True</td>\n",
       "    </tr>\n",
       "    <tr>\n",
       "      <th>564</th>\n",
       "      <td>734a1e13-f5a2-425f-8540-3e1b6f57fd39</td>\n",
       "      <td>hbv012</td>\n",
       "      <td>NaN</td>\n",
       "      <td>NaN</td>\n",
       "      <td>0.0</td>\n",
       "      <td>2WLT</td>\n",
       "      <td>True</td>\n",
       "      <td>True</td>\n",
       "    </tr>\n",
       "    <tr>\n",
       "      <th>557</th>\n",
       "      <td>b782f538-b2ae-4693-92f2-298952ab7981</td>\n",
       "      <td>hbv012</td>\n",
       "      <td>NaN</td>\n",
       "      <td>NaN</td>\n",
       "      <td>0.0</td>\n",
       "      <td>2WLT</td>\n",
       "      <td>True</td>\n",
       "      <td>True</td>\n",
       "    </tr>\n",
       "  </tbody>\n",
       "</table>\n",
       "<p>676 rows × 8 columns</p>\n",
       "</div>"
      ],
      "text/plain": [
       "                           measurement_id subject_id  on_off  dyskinesia  \\\n",
       "339  29084e8f-4ded-4bc4-8837-b42aafd0b211     hbv054     NaN         NaN   \n",
       "88   439bc1b9-1b23-4691-a454-f4e1c7b8e4d9     hbv038     1.0         NaN   \n",
       "534  b36b10ee-94d2-47e1-bc24-59760c976e6b     hbv022     0.0         NaN   \n",
       "297  5b8eafee-0b7e-42ec-9cad-42b173bc5005     hbv077     0.0         NaN   \n",
       "266  1dd1609d-b818-4cc0-a1b8-1d8066332a9e     hbv051     0.0         NaN   \n",
       "535  faf50397-21ef-4f14-b203-9a6fc4ba70d2     hbv022     0.0         NaN   \n",
       "214  7bee6251-c39e-4feb-bbd2-055ab31131b8     hbv023     NaN         NaN   \n",
       "214  7bee6251-c39e-4feb-bbd2-055ab31131b8     hbv023     NaN         NaN   \n",
       "156  6e290268-7c1c-435a-b688-a4d7b3dfb862     hbv017     NaN         1.0   \n",
       "156  6e290268-7c1c-435a-b688-a4d7b3dfb862     hbv017     NaN         1.0   \n",
       "351  eb39a184-d797-41ed-9170-d48da775f912     hbv054     NaN         1.0   \n",
       "351  eb39a184-d797-41ed-9170-d48da775f912     hbv054     NaN         1.0   \n",
       "445  72af00e8-1dd6-4fcf-a91d-c24445b6e173     hbv018     NaN         1.0   \n",
       "278  b1e15f8a-109f-459b-ba87-46899240ee66     hbv077     NaN         NaN   \n",
       "393  b37e99cb-d70c-4915-b6a4-f9ed5c50994d     hbv014     1.0         NaN   \n",
       "498  5021d2db-723a-4c05-8439-317ec320aded     hbv022     1.0         NaN   \n",
       "457  ead7c4df-53fc-493e-be19-39e5c269f003     hbv043     1.0         2.0   \n",
       "457  ead7c4df-53fc-493e-be19-39e5c269f003     hbv043     1.0         2.0   \n",
       "405  cca0e216-e011-4775-a3b2-61b1d6188888     hbv014     0.0         NaN   \n",
       "405  cca0e216-e011-4775-a3b2-61b1d6188888     hbv014     0.0         NaN   \n",
       "463  2db21109-b138-4907-9087-994d0c03f71f     hbv043     0.0         1.0   \n",
       "83   d64395cf-19b8-469b-9e3f-f22e60001d8b     hbv038     1.0         NaN   \n",
       "536  25ce9b00-728b-473a-81d9-73a83c62c272     hbv022     0.0         NaN   \n",
       "197  00f1d52e-03cf-4031-a616-9a66f961d994     hbv023     NaN         NaN   \n",
       "197  00f1d52e-03cf-4031-a616-9a66f961d994     hbv023     NaN         NaN   \n",
       "343  4124f36f-7f43-4eb1-b47e-783c9ad8bc2c     hbv054     NaN         0.0   \n",
       "343  4124f36f-7f43-4eb1-b47e-783c9ad8bc2c     hbv054     NaN         0.0   \n",
       "225  2371bc61-2556-4ce1-a7c5-ad6c1f83fef3     hbv023     NaN         NaN   \n",
       "225  2371bc61-2556-4ce1-a7c5-ad6c1f83fef3     hbv023     NaN         NaN   \n",
       "400  01dabc91-ceca-4e20-9b2c-b0c7d9566752     hbv014     0.0         NaN   \n",
       "..                                    ...        ...     ...         ...   \n",
       "226  325eec89-bcf3-4aa5-8159-ccb26ccf5f6a     hbv023     NaN         NaN   \n",
       "226  325eec89-bcf3-4aa5-8159-ccb26ccf5f6a     hbv023     NaN         NaN   \n",
       "411  6c8a1135-25db-4af6-a257-9eb3872b53f2     hbv014     0.0         NaN   \n",
       "302  313aa559-41ff-4777-a42d-1170280317f2     hbv077     1.0         NaN   \n",
       "302  313aa559-41ff-4777-a42d-1170280317f2     hbv077     1.0         NaN   \n",
       "418  42243b7c-714c-4349-8884-88973ddc0849     hbv014     0.0         NaN   \n",
       "418  42243b7c-714c-4349-8884-88973ddc0849     hbv014     0.0         NaN   \n",
       "64   c5293894-ea18-4ab7-affd-b08dec1fd126     hbv013     0.0         0.0   \n",
       "446  4ee4382e-5e6d-465e-b3b4-2e0fc75a160b     hbv018     NaN         1.0   \n",
       "446  4ee4382e-5e6d-465e-b3b4-2e0fc75a160b     hbv018     NaN         1.0   \n",
       "61   cd42b72a-e7d2-4a28-bdb6-76aea14715a9     hbv013     1.0         0.0   \n",
       "16   87db04a9-db5b-4302-811d-a3191704595c     hbv013     0.0         1.0   \n",
       "243  b21117ac-bcb7-46f3-af0b-c3456da2e7c0     hbv051     0.0         NaN   \n",
       "483  8f2487f1-7ae8-4ced-9079-b1f403935db3     hbv043     1.0         0.0   \n",
       "541  c19a1748-ba4a-445f-bab4-ac1cdfd6e7f6     hbv022     0.0         NaN   \n",
       "310  7b8a0f32-a8c3-4f0c-80ed-15e3eebddf22     hbv077     0.0         NaN   \n",
       "310  7b8a0f32-a8c3-4f0c-80ed-15e3eebddf22     hbv077     0.0         NaN   \n",
       "129  73b91037-8021-44b7-ade2-d7f7549c0a4d     hbv017     NaN         1.0   \n",
       "318  f185bdf4-00af-4c2a-b917-b0c4ab786785     hbv054     NaN         0.0   \n",
       "484  d9a4a395-e15d-4c08-966e-524bb7b191c9     hbv043     0.0         0.0   \n",
       "166  99a81330-415f-45c7-aa84-ec64b912db80     hbv017     NaN         1.0   \n",
       "177  d7ca6465-8971-4e85-9450-a0104804b4c5     hbv017     NaN         1.0   \n",
       "281  50fa963c-7ee8-45a2-8a02-93a00a9cc479     hbv077     0.0         NaN   \n",
       "384  81006db6-8e00-4e29-87b5-c84a39545f64     hbv014     1.0         NaN   \n",
       "384  81006db6-8e00-4e29-87b5-c84a39545f64     hbv014     1.0         NaN   \n",
       "522  b2acd505-718c-43fb-af9a-c324215a1bb2     hbv022     0.0         NaN   \n",
       "520  5949b311-1eed-4fa1-b053-30d5c8b11954     hbv022     0.0         NaN   \n",
       "81   9446b6f3-6c09-4366-8b60-ac3d10387880     hbv038     1.0         NaN   \n",
       "564  734a1e13-f5a2-425f-8540-3e1b6f57fd39     hbv012     NaN         NaN   \n",
       "557  b782f538-b2ae-4693-92f2-298952ab7981     hbv012     NaN         NaN   \n",
       "\n",
       "     tremor device_id  smartwatch_data  gyro_data  \n",
       "339     0.0      2WLT             True       True  \n",
       "88      3.0      2WH8             True       True  \n",
       "534     0.0      327T             True       True  \n",
       "297     NaN      2VSP             True       True  \n",
       "266     NaN      2VSP             True       True  \n",
       "535     0.0      327T             True       True  \n",
       "214     3.0      327T             True       True  \n",
       "214     3.0      2WH3             True       True  \n",
       "156     NaN      2WH7             True       True  \n",
       "156     NaN      2WH5             True       True  \n",
       "351     1.0      2ZX6             True       True  \n",
       "351     1.0      2WLT             True       True  \n",
       "445     NaN      2VSP             True       True  \n",
       "278     NaN      327T             True       True  \n",
       "393     NaN      2WH7             True       True  \n",
       "498     0.0      327T             True       True  \n",
       "457     NaN      2WH8             True       True  \n",
       "457     NaN      2WH5             True       True  \n",
       "405     NaN      2WLT             True       True  \n",
       "405     NaN      2WH7             True       True  \n",
       "463     NaN      2WH5             True       True  \n",
       "83      2.0      2ZX6             True       True  \n",
       "536     0.0      327T             True       True  \n",
       "197     2.0      2WH3             True       True  \n",
       "197     2.0      327T             True       True  \n",
       "343     0.0      2ZX6             True       True  \n",
       "343     0.0      2WLT             True       True  \n",
       "225     1.0      2WH3             True       True  \n",
       "225     1.0      327T             True       True  \n",
       "400     NaN      2WH7             True       True  \n",
       "..      ...       ...              ...        ...  \n",
       "226     1.0      327T             True       True  \n",
       "226     1.0      2WH3             True       True  \n",
       "411     NaN      2WH7             True       True  \n",
       "302     NaN      327T             True       True  \n",
       "302     NaN      2VSP             True       True  \n",
       "418     NaN      2WLT             True       True  \n",
       "418     NaN      2WH7             True       True  \n",
       "64      0.0      2WH8             True       True  \n",
       "446     NaN      2VSP             True       True  \n",
       "446     NaN      2ZX3             True       True  \n",
       "61      2.0      2WH8             True       True  \n",
       "16      1.0      2WH8             True       True  \n",
       "243     NaN      2ZX3             True       True  \n",
       "483     NaN      2WH5             True       True  \n",
       "541     0.0      327T             True       True  \n",
       "310     NaN      327T             True       True  \n",
       "310     NaN      2VSP             True       True  \n",
       "129     NaN      2WH5             True       True  \n",
       "318     0.0      2ZX6             True       True  \n",
       "484     NaN      2WH5             True       True  \n",
       "166     NaN      2WH5             True       True  \n",
       "177     NaN      2WH7             True       True  \n",
       "281     NaN      327T             True       True  \n",
       "384     NaN      2WH7             True       True  \n",
       "384     NaN      2WLT             True       True  \n",
       "522     0.0      2WH5             True       True  \n",
       "520     0.0      2WH5             True       True  \n",
       "81      3.0      2ZX6             True       True  \n",
       "564     0.0      2WLT             True       True  \n",
       "557     0.0      2WLT             True       True  \n",
       "\n",
       "[676 rows x 8 columns]"
      ]
     },
     "execution_count": 157,
     "metadata": {},
     "output_type": "execute_result"
    }
   ],
   "source": [
    "newLabels"
   ]
  },
  {
   "cell_type": "code",
   "execution_count": 158,
   "metadata": {},
   "outputs": [],
   "source": [
    "phone = list(map(lambda x: x[72:-4], train_phone_accel))"
   ]
  },
  {
   "cell_type": "code",
   "execution_count": 159,
   "metadata": {},
   "outputs": [],
   "source": [
    "phoneLabels = []\n",
    "for m_id in phone:\n",
    "    base = (labels[labels.measurement_id == m_id])   \n",
    "    toAdd = base.copy()\n",
    "    toAdd[\"smartphone_data\"] = True\n",
    "    phoneLabels.append(toAdd)"
   ]
  },
  {
   "cell_type": "code",
   "execution_count": 160,
   "metadata": {},
   "outputs": [],
   "source": [
    "phoneLabels = pd.concat(phoneLabels)"
   ]
  },
  {
   "cell_type": "code",
   "execution_count": 161,
   "metadata": {},
   "outputs": [],
   "source": [
    "newLabels = newLabels.reset_index().drop([\"index\"], axis=1)\n",
    "phoneLabels = phoneLabels.reset_index().drop([\"index\"], axis=1)"
   ]
  },
  {
   "cell_type": "code",
   "execution_count": 162,
   "metadata": {},
   "outputs": [],
   "source": [
    "allLabels = phoneLabels.join(newLabels.set_index(\"measurement_id\"), on=\"measurement_id\", lsuffix=\"_l\", how=\"outer\")"
   ]
  },
  {
   "cell_type": "code",
   "execution_count": 163,
   "metadata": {},
   "outputs": [],
   "source": [
    "allLabels[\"smartwatch_data\"] = allLabels[\"smartwatch_data\"].fillna(False)"
   ]
  },
  {
   "cell_type": "code",
   "execution_count": 166,
   "metadata": {},
   "outputs": [
    {
     "name": "stderr",
     "output_type": "stream",
     "text": [
      "/home/ms994/miniconda3/envs/keras-redo-cpu/lib/python3.7/site-packages/ipykernel_launcher.py:5: FutureWarning: supplying multiple axes to axis is deprecated and will be removed in a future version.\n",
      "  \"\"\"\n"
     ]
    },
    {
     "ename": "ValueError",
     "evalue": "No axis named dyskinesia_l for object type <class 'type'>",
     "output_type": "error",
     "traceback": [
      "\u001b[0;31m---------------------------------------------------------------------------\u001b[0m",
      "\u001b[0;31mValueError\u001b[0m                                Traceback (most recent call last)",
      "\u001b[0;32m<ipython-input-166-2ca20fe4cb9d>\u001b[0m in \u001b[0;36m<module>\u001b[0;34m\u001b[0m\n\u001b[1;32m      3\u001b[0m \u001b[0mallLabels\u001b[0m\u001b[0;34m[\u001b[0m\u001b[0;34m\"tremor\"\u001b[0m\u001b[0;34m]\u001b[0m\u001b[0;34m.\u001b[0m\u001b[0mfillna\u001b[0m\u001b[0;34m(\u001b[0m\u001b[0mallLabels\u001b[0m\u001b[0;34m[\u001b[0m\u001b[0;34m\"tremor_l\"\u001b[0m\u001b[0;34m]\u001b[0m\u001b[0;34m,\u001b[0m \u001b[0minplace\u001b[0m\u001b[0;34m=\u001b[0m\u001b[0;32mTrue\u001b[0m\u001b[0;34m)\u001b[0m\u001b[0;34m\u001b[0m\u001b[0;34m\u001b[0m\u001b[0m\n\u001b[1;32m      4\u001b[0m \u001b[0mallLabels\u001b[0m\u001b[0;34m[\u001b[0m\u001b[0;34m\"subject_id\"\u001b[0m\u001b[0;34m]\u001b[0m\u001b[0;34m.\u001b[0m\u001b[0mfillna\u001b[0m\u001b[0;34m(\u001b[0m\u001b[0mallLabels\u001b[0m\u001b[0;34m[\u001b[0m\u001b[0;34m\"subject_id_l\"\u001b[0m\u001b[0;34m]\u001b[0m\u001b[0;34m,\u001b[0m \u001b[0minplace\u001b[0m\u001b[0;34m=\u001b[0m\u001b[0;32mTrue\u001b[0m\u001b[0;34m)\u001b[0m\u001b[0;34m\u001b[0m\u001b[0;34m\u001b[0m\u001b[0m\n\u001b[0;32m----> 5\u001b[0;31m \u001b[0mallLabels\u001b[0m\u001b[0;34m.\u001b[0m\u001b[0mdropna\u001b[0m\u001b[0;34m(\u001b[0m\u001b[0;34m[\u001b[0m\u001b[0;34m\"dyskinesia_l\"\u001b[0m\u001b[0;34m,\u001b[0m \u001b[0;34m\"on_off_l\"\u001b[0m\u001b[0;34m,\u001b[0m \u001b[0;34m\"tremor_l\"\u001b[0m\u001b[0;34m,\u001b[0m \u001b[0;34m\"subject_id_l\"\u001b[0m\u001b[0;34m]\u001b[0m\u001b[0;34m,\u001b[0m \u001b[0minplace\u001b[0m\u001b[0;34m=\u001b[0m\u001b[0;32mTrue\u001b[0m\u001b[0;34m)\u001b[0m\u001b[0;34m\u001b[0m\u001b[0;34m\u001b[0m\u001b[0m\n\u001b[0m",
      "\u001b[0;32m~/miniconda3/envs/keras-redo-cpu/lib/python3.7/site-packages/pandas/core/frame.py\u001b[0m in \u001b[0;36mdropna\u001b[0;34m(self, axis, how, thresh, subset, inplace)\u001b[0m\n\u001b[1;32m   4568\u001b[0m             \u001b[0;32mfor\u001b[0m \u001b[0max\u001b[0m \u001b[0;32min\u001b[0m \u001b[0maxis\u001b[0m\u001b[0;34m:\u001b[0m\u001b[0;34m\u001b[0m\u001b[0;34m\u001b[0m\u001b[0m\n\u001b[1;32m   4569\u001b[0m                 result = result.dropna(how=how, thresh=thresh, subset=subset,\n\u001b[0;32m-> 4570\u001b[0;31m                                        axis=ax)\n\u001b[0m\u001b[1;32m   4571\u001b[0m         \u001b[0;32melse\u001b[0m\u001b[0;34m:\u001b[0m\u001b[0;34m\u001b[0m\u001b[0;34m\u001b[0m\u001b[0m\n\u001b[1;32m   4572\u001b[0m             \u001b[0maxis\u001b[0m \u001b[0;34m=\u001b[0m \u001b[0mself\u001b[0m\u001b[0;34m.\u001b[0m\u001b[0m_get_axis_number\u001b[0m\u001b[0;34m(\u001b[0m\u001b[0maxis\u001b[0m\u001b[0;34m)\u001b[0m\u001b[0;34m\u001b[0m\u001b[0;34m\u001b[0m\u001b[0m\n",
      "\u001b[0;32m~/miniconda3/envs/keras-redo-cpu/lib/python3.7/site-packages/pandas/core/frame.py\u001b[0m in \u001b[0;36mdropna\u001b[0;34m(self, axis, how, thresh, subset, inplace)\u001b[0m\n\u001b[1;32m   4570\u001b[0m                                        axis=ax)\n\u001b[1;32m   4571\u001b[0m         \u001b[0;32melse\u001b[0m\u001b[0;34m:\u001b[0m\u001b[0;34m\u001b[0m\u001b[0;34m\u001b[0m\u001b[0m\n\u001b[0;32m-> 4572\u001b[0;31m             \u001b[0maxis\u001b[0m \u001b[0;34m=\u001b[0m \u001b[0mself\u001b[0m\u001b[0;34m.\u001b[0m\u001b[0m_get_axis_number\u001b[0m\u001b[0;34m(\u001b[0m\u001b[0maxis\u001b[0m\u001b[0;34m)\u001b[0m\u001b[0;34m\u001b[0m\u001b[0;34m\u001b[0m\u001b[0m\n\u001b[0m\u001b[1;32m   4573\u001b[0m             \u001b[0magg_axis\u001b[0m \u001b[0;34m=\u001b[0m \u001b[0;36m1\u001b[0m \u001b[0;34m-\u001b[0m \u001b[0maxis\u001b[0m\u001b[0;34m\u001b[0m\u001b[0;34m\u001b[0m\u001b[0m\n\u001b[1;32m   4574\u001b[0m \u001b[0;34m\u001b[0m\u001b[0m\n",
      "\u001b[0;32m~/miniconda3/envs/keras-redo-cpu/lib/python3.7/site-packages/pandas/core/generic.py\u001b[0m in \u001b[0;36m_get_axis_number\u001b[0;34m(cls, axis)\u001b[0m\n\u001b[1;32m    359\u001b[0m                 \u001b[0;32mpass\u001b[0m\u001b[0;34m\u001b[0m\u001b[0;34m\u001b[0m\u001b[0m\n\u001b[1;32m    360\u001b[0m         raise ValueError('No axis named {0} for object type {1}'\n\u001b[0;32m--> 361\u001b[0;31m                          .format(axis, type(cls)))\n\u001b[0m\u001b[1;32m    362\u001b[0m \u001b[0;34m\u001b[0m\u001b[0m\n\u001b[1;32m    363\u001b[0m     \u001b[0;34m@\u001b[0m\u001b[0mclassmethod\u001b[0m\u001b[0;34m\u001b[0m\u001b[0;34m\u001b[0m\u001b[0m\n",
      "\u001b[0;31mValueError\u001b[0m: No axis named dyskinesia_l for object type <class 'type'>"
     ]
    }
   ],
   "source": [
    "allLabels[\"dyskinesia\"].fillna(allLabels[\"dyskinesia_l\"], inplace=True)\n",
    "allLabels[\"on_off\"].fillna(allLabels[\"on_off_l\"], inplace=True)\n",
    "allLabels[\"tremor\"].fillna(allLabels[\"tremor_l\"], inplace=True)\n",
    "allLabels[\"subject_id\"].fillna(allLabels[\"subject_id_l\"], inplace=True)\n",
    "allLabels.dropna([\"dyskinesia_l\", \"on_off_l\", \"tremor_l\", \"subject_id_l\"], inplace=True)"
   ]
  },
  {
   "cell_type": "code",
   "execution_count": 170,
   "metadata": {},
   "outputs": [],
   "source": [
    "allLabels.drop([\"dyskinesia_l\", \"on_off_l\", \"tremor_l\", \"subject_id_l\"], inplace=True, axis=1)"
   ]
  },
  {
   "cell_type": "code",
   "execution_count": 171,
   "metadata": {},
   "outputs": [
    {
     "data": {
      "text/plain": [
       "(0.9234972677595629, 1.0)"
      ]
     },
     "execution_count": 171,
     "metadata": {},
     "output_type": "execute_result"
    }
   ],
   "source": [
    "allLabels.smartwatch_data.mean(), allLabels.smartphone_data.mean()"
   ]
  },
  {
   "cell_type": "code",
   "execution_count": 172,
   "metadata": {},
   "outputs": [
    {
     "data": {
      "text/plain": [
       "((732, 9), (1081, 5))"
      ]
     },
     "execution_count": 172,
     "metadata": {},
     "output_type": "execute_result"
    }
   ],
   "source": [
    "allLabels.shape, labels.shape"
   ]
  },
  {
   "cell_type": "code",
   "execution_count": 174,
   "metadata": {
    "scrolled": true
   },
   "outputs": [
    {
     "data": {
      "text/plain": [
       "0    ee053d95-c155-400d-ae42-fe24834ad4a9\n",
       "1    ce51ee31-8553-4321-9f83-8cd3dabe2f66\n",
       "2    d3c89012-3ab9-4014-b577-61ff05e31968\n",
       "3    5c42911d-0ebd-47ba-9925-dd5ab1c0ed61\n",
       "4    235472d5-ad2e-4c76-947e-358c9d8c1280\n",
       "Name: measurement_id, dtype: object"
      ]
     },
     "execution_count": 174,
     "metadata": {},
     "output_type": "execute_result"
    }
   ],
   "source": [
    "labels.measurement_id[labels.measurement_id.isin(allLabels.measurement_id)].head()"
   ]
  },
  {
   "cell_type": "markdown",
   "metadata": {},
   "source": [
    "Gonna make a decision to throw out all gyroscope only data, which is why some measurment ids aren't in this label csv"
   ]
  },
  {
   "cell_type": "code",
   "execution_count": 175,
   "metadata": {},
   "outputs": [
    {
     "data": {
      "text/plain": [
       "array(['hbv054', 'hbv038', 'hbv022', 'hbv077', 'hbv051', 'hbv023',\n",
       "       'hbv017', 'hbv018', 'hbv014', 'hbv013', 'hbv043', 'hbv012'],\n",
       "      dtype=object)"
      ]
     },
     "execution_count": 175,
     "metadata": {},
     "output_type": "execute_result"
    }
   ],
   "source": [
    "allLabels.subject_id.unique()"
   ]
  },
  {
   "cell_type": "code",
   "execution_count": 176,
   "metadata": {},
   "outputs": [
    {
     "data": {
      "text/plain": [
       "measurement_id     0.000000\n",
       "smartphone_data    0.103825\n",
       "subject_id         0.000000\n",
       "on_off             0.453552\n",
       "dyskinesia         0.569672\n",
       "tremor             0.494536\n",
       "device_id          0.076503\n",
       "smartwatch_data    0.000000\n",
       "gyro_data          0.076503\n",
       "dtype: float64"
      ]
     },
     "execution_count": 176,
     "metadata": {},
     "output_type": "execute_result"
    }
   ],
   "source": [
    "pd.isna(allLabels).mean(axis=0)"
   ]
  },
  {
   "cell_type": "code",
   "execution_count": null,
   "metadata": {},
   "outputs": [],
   "source": [
    "allLabels."
   ]
  },
  {
   "cell_type": "markdown",
   "metadata": {},
   "source": [
    "# Try to setup a data extraction pipeline into TFRecords"
   ]
  },
  {
   "cell_type": "code",
   "execution_count": null,
   "metadata": {},
   "outputs": [],
   "source": []
  }
 ],
 "metadata": {
  "kernelspec": {
   "display_name": "Python 3",
   "language": "python",
   "name": "python3"
  },
  "language_info": {
   "codemirror_mode": {
    "name": "ipython",
    "version": 3
   },
   "file_extension": ".py",
   "mimetype": "text/x-python",
   "name": "python",
   "nbconvert_exporter": "python",
   "pygments_lexer": "ipython3",
   "version": "3.7.3"
  },
  "toc": {
   "base_numbering": 1,
   "nav_menu": {},
   "number_sections": true,
   "sideBar": true,
   "skip_h1_title": false,
   "title_cell": "Table of Contents",
   "title_sidebar": "Contents",
   "toc_cell": false,
   "toc_position": {
    "height": "688px",
    "left": "475px",
    "top": "162px",
    "width": "300px"
   },
   "toc_section_display": true,
   "toc_window_display": true
  }
 },
 "nbformat": 4,
 "nbformat_minor": 2
}
