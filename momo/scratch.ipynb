{
 "cells": [
  {
   "cell_type": "markdown",
   "metadata": {},
   "source": [
    "# try looking at beat pd data"
   ]
  },
  {
   "cell_type": "code",
   "execution_count": 16,
   "metadata": {},
   "outputs": [],
   "source": [
    "import pandas as pd\n",
    "import numpy as np\n",
    "from glob import glob\n",
    "import tf_mapper as tfm"
   ]
  },
  {
   "cell_type": "code",
   "execution_count": null,
   "metadata": {},
   "outputs": [],
   "source": [
    "fn = glob(\"/home/ms994/beat_pd/data/real-pd/training_data/smartwatch_gyroscope/*.csv\")"
   ]
  },
  {
   "cell_type": "code",
   "execution_count": null,
   "metadata": {},
   "outputs": [],
   "source": [
    "for i in range(len(fn)):\n",
    "    df = pd.read_csv(fn[i])\n",
    "    all_ids = df.device_id.unique()\n",
    "    if len(all_ids) > 1:\n",
    "        print(fn[i])\n",
    "        print(all_ids)"
   ]
  },
  {
   "cell_type": "code",
   "execution_count": null,
   "metadata": {},
   "outputs": [],
   "source": [
    "read_seq(\"/home/ms994/beat_pd/data/real-pd/training_data/smartwatch_gyroscope/2371bc61-2556-4ce1-a7c5-ad6c1f83fef3.csv\")"
   ]
  },
  {
   "cell_type": "code",
   "execution_count": null,
   "metadata": {},
   "outputs": [],
   "source": []
  },
  {
   "cell_type": "code",
   "execution_count": null,
   "metadata": {},
   "outputs": [],
   "source": [
    "def read_seq(fp: str, device_id=None, t_colname='t', xyz_colnames=['x', 'y', 'z'], use_time_index=False, resample=pd.Timedelta(seconds=(1/50))):\n",
    "    \"\"\" reads a file and returns the associated data\n",
    "\n",
    "    Parameters\n",
    "    ----------\n",
    "    fp : str\n",
    "        Description of parameter `fp`.\n",
    "    device_id: str\n",
    "        Valid only for smartwatch dataset, if set to None then default to first\n",
    "    t_colname : type\n",
    "        Description of parameter `t_colname`.\n",
    "    xyz_colnames : type\n",
    "        Description of parameter `xyz_colnames`.\n",
    "    use_time_index : bool\n",
    "        Description of parameter `use_time_index`.\n",
    "    resample : pd.Timedelta\n",
    "        how much to resample by. Uses mean resampling\n",
    "\n",
    "    Returns\n",
    "    -------\n",
    "    read_seq(fp: str, t_colname='t', xyz_colnames=['x', 'y', 'z'], use_time_index=False,\n",
    "        Description of returned object.\n",
    "    \"\"\"\n",
    "    \n",
    "    df = pd.read_csv(fp)\n",
    "    if \"smartwatch_accelerometer\" in fp or \"smartwatch_gyroscope\" in fp:\n",
    "        if device_id is None:\n",
    "            device_id = df.device_id.iloc[0]\n",
    "        df = df[df.device_id == device_id]\n",
    "    df = df[[t_colname, *xyz_colnames]]\n",
    "    df = df.rename(columns=dict(zip([t_colname, *xyz_colnames], ['t', 'x', 'y', 'z'])))\n",
    "    df = df.set_index('t')\n",
    "    if use_time_index:\n",
    "        df = df.set_index(pd.to_timedelta(df.index, unit=\"s\"))\n",
    "        if resample is not None:\n",
    "            df = df.resample(resample).mean()\n",
    "    return df\n"
   ]
  },
  {
   "cell_type": "markdown",
   "metadata": {},
   "source": [
    "## Try looking at Yidi's extracted features"
   ]
  },
  {
   "cell_type": "code",
   "execution_count": 5,
   "metadata": {},
   "outputs": [],
   "source": [
    "features_df = pd.read_csv('/home/ms994/beat_pd/extracted_features/tsfeatures.csv', index_col=0)"
   ]
  },
  {
   "cell_type": "code",
   "execution_count": 7,
   "metadata": {},
   "outputs": [
    {
     "data": {
      "text/plain": [
       "(1858, 754)"
      ]
     },
     "execution_count": 7,
     "metadata": {},
     "output_type": "execute_result"
    }
   ],
   "source": [
    "features_df.shape"
   ]
  },
  {
   "cell_type": "markdown",
   "metadata": {},
   "source": [
    "## Try looking at Mark's extracted features"
   ]
  },
  {
   "cell_type": "code",
   "execution_count": 11,
   "metadata": {},
   "outputs": [],
   "source": [
    "files = glob(\"/home/mk596/research/beat_pd/data/cis-pd/training_data_tsf/*.csv\")"
   ]
  },
  {
   "cell_type": "code",
   "execution_count": 17,
   "metadata": {},
   "outputs": [],
   "source": [
    "labels = tfm.get_labels()"
   ]
  },
  {
   "cell_type": "markdown",
   "metadata": {},
   "source": [
    "# testing a random model"
   ]
  },
  {
   "cell_type": "code",
   "execution_count": null,
   "metadata": {},
   "outputs": [],
   "source": [
    "model = tf.keras.models.load_model(\"../beat_pd.h5\")"
   ]
  },
  {
   "cell_type": "code",
   "execution_count": null,
   "metadata": {},
   "outputs": [],
   "source": [
    "model.summary()"
   ]
  },
  {
   "cell_type": "code",
   "execution_count": null,
   "metadata": {},
   "outputs": [],
   "source": [
    "import pickle as pkl\n",
    "np_x_data = pkl.load(open(\"/n/scratch2/ms994/beat_pd_frequency_data.pkl\", \"rb\"))\n",
    "y = pkl.load(open(\"/n/scratch2/ms994/beat_pd_labels_1s.pkl\", \"rb\"))"
   ]
  },
  {
   "cell_type": "code",
   "execution_count": null,
   "metadata": {},
   "outputs": [],
   "source": [
    "np_x_data.shape, y.shape"
   ]
  },
  {
   "cell_type": "code",
   "execution_count": null,
   "metadata": {},
   "outputs": [],
   "source": [
    "import numpy as np\n",
    "allPred = []\n",
    "labels = []\n",
    "for i in range(1000):\n",
    "    start = np.random.randint(2210912)\n",
    "    pred = model.predict(np.array([np_x_data[start:start+100]]).reshape(1, 100,3,26))\n",
    "    labels.append(y.iloc[start].on_off)\n",
    "    allPred.append(pred)"
   ]
  },
  {
   "cell_type": "code",
   "execution_count": null,
   "metadata": {},
   "outputs": [],
   "source": [
    "import pandas as pd\n",
    "snsObj = pd.DataFrame([np.array(allPred).reshape(-1), labels], index=[\"Pred\", \"True\"]).T"
   ]
  },
  {
   "cell_type": "code",
   "execution_count": null,
   "metadata": {},
   "outputs": [],
   "source": [
    "import seaborn as sns\n",
    "\n",
    "sns.violinplot(x=\"True\", y=\"Pred\", data=snsObj)"
   ]
  },
  {
   "cell_type": "code",
   "execution_count": null,
   "metadata": {},
   "outputs": [],
   "source": [
    "sns.countplot(snsObj[\"True\"])"
   ]
  }
 ],
 "metadata": {
  "kernelspec": {
   "display_name": "Python 3",
   "language": "python",
   "name": "python3"
  },
  "language_info": {
   "codemirror_mode": {
    "name": "ipython",
    "version": 3
   },
   "file_extension": ".py",
   "mimetype": "text/x-python",
   "name": "python",
   "nbconvert_exporter": "python",
   "pygments_lexer": "ipython3",
   "version": "3.7.3"
  },
  "toc": {
   "base_numbering": 1,
   "nav_menu": {},
   "number_sections": true,
   "sideBar": true,
   "skip_h1_title": false,
   "title_cell": "Table of Contents",
   "title_sidebar": "Contents",
   "toc_cell": false,
   "toc_position": {},
   "toc_section_display": true,
   "toc_window_display": false
  }
 },
 "nbformat": 4,
 "nbformat_minor": 2
}
