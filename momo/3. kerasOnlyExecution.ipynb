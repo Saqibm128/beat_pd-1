{
 "cells": [
  {
   "cell_type": "code",
   "execution_count": 1,
   "metadata": {},
   "outputs": [],
   "source": [
    "import pandas as pd\n",
    "import pickle as pkl\n",
    "import numpy as np"
   ]
  },
  {
   "cell_type": "markdown",
   "metadata": {},
   "source": [
    "# pull in data"
   ]
  },
  {
   "cell_type": "markdown",
   "metadata": {},
   "source": [
    "## Cispd data"
   ]
  },
  {
   "cell_type": "code",
   "execution_count": 2,
   "metadata": {},
   "outputs": [],
   "source": [
    "allResults = pkl.load(open(\"/n/scratch2/ms994/allZeData.pkl\", \"rb\"))"
   ]
  },
  {
   "cell_type": "code",
   "execution_count": 3,
   "metadata": {},
   "outputs": [],
   "source": [
    "import pandas as pd\n",
    "from sklearn.model_selection import train_test_split\n",
    "labels =  pd.read_csv(\"/home/ms994/beat_pd/data/cis-pd/data_labels/CIS-PD_Training_Data_IDs_Labels.csv\")"
   ]
  },
  {
   "cell_type": "code",
   "execution_count": 4,
   "metadata": {},
   "outputs": [],
   "source": [
    "train_mid, test_mid = train_test_split(labels.measurement_id.unique(), random_state=1)"
   ]
  },
  {
   "cell_type": "code",
   "execution_count": 5,
   "metadata": {},
   "outputs": [],
   "source": [
    "train_mid, valid_mid = train_test_split(train_mid, random_state=1)"
   ]
  },
  {
   "cell_type": "code",
   "execution_count": 6,
   "metadata": {},
   "outputs": [],
   "source": [
    "all_mid = sorted(labels.measurement_id)"
   ]
  },
  {
   "cell_type": "code",
   "execution_count": 7,
   "metadata": {},
   "outputs": [],
   "source": [
    "train_indices  = [all_mid.index(train_m) for train_m in train_mid]\n",
    "valid_indices  = [all_mid.index(train_m) for train_m in valid_mid]\n",
    "test_indices  = [all_mid.index(train_m) for train_m in test_mid]"
   ]
  },
  {
   "cell_type": "code",
   "execution_count": 8,
   "metadata": {},
   "outputs": [],
   "source": [
    "x = np.array([res[0] for res in allResults])"
   ]
  },
  {
   "cell_type": "code",
   "execution_count": 9,
   "metadata": {},
   "outputs": [],
   "source": [
    "y = [res[1] for res in allResults]"
   ]
  },
  {
   "cell_type": "code",
   "execution_count": 10,
   "metadata": {},
   "outputs": [],
   "source": [
    "y = pd.concat(y)"
   ]
  },
  {
   "cell_type": "code",
   "execution_count": 11,
   "metadata": {},
   "outputs": [],
   "source": [
    "x_std = x.std(axis=1)"
   ]
  },
  {
   "cell_type": "code",
   "execution_count": 12,
   "metadata": {},
   "outputs": [],
   "source": [
    "x_std = np.nan_to_num(x_std)"
   ]
  },
  {
   "cell_type": "code",
   "execution_count": null,
   "metadata": {},
   "outputs": [],
   "source": []
  },
  {
   "cell_type": "code",
   "execution_count": 13,
   "metadata": {},
   "outputs": [],
   "source": [
    "mask = ~(pd.isnull(y[\"tremor\"]) | pd.isnull(y[\"dyskinesia\"]) | pd.isnull(y[\"on_off\"]) | (x_std < 0.05).all(1))"
   ]
  },
  {
   "cell_type": "code",
   "execution_count": 14,
   "metadata": {},
   "outputs": [
    {
     "data": {
      "text/plain": [
       "(204098, 1501, 3)"
      ]
     },
     "execution_count": 14,
     "metadata": {},
     "output_type": "execute_result"
    }
   ],
   "source": [
    "x.shape"
   ]
  },
  {
   "cell_type": "code",
   "execution_count": null,
   "metadata": {},
   "outputs": [],
   "source": []
  },
  {
   "cell_type": "code",
   "execution_count": 15,
   "metadata": {},
   "outputs": [
    {
     "data": {
      "text/plain": [
       "(65545, 1501, 3)"
      ]
     },
     "execution_count": 15,
     "metadata": {},
     "output_type": "execute_result"
    }
   ],
   "source": [
    "x[mask].shape"
   ]
  },
  {
   "cell_type": "code",
   "execution_count": 16,
   "metadata": {},
   "outputs": [],
   "source": [
    "x = x[mask]"
   ]
  },
  {
   "cell_type": "code",
   "execution_count": 17,
   "metadata": {},
   "outputs": [],
   "source": [
    "y = y[mask]"
   ]
  },
  {
   "cell_type": "code",
   "execution_count": 18,
   "metadata": {},
   "outputs": [],
   "source": [
    "x = x[:,:1500]"
   ]
  },
  {
   "cell_type": "code",
   "execution_count": 19,
   "metadata": {},
   "outputs": [],
   "source": [
    "all_m_id = sorted(y.measurement_id.unique())"
   ]
  },
  {
   "cell_type": "code",
   "execution_count": 20,
   "metadata": {},
   "outputs": [],
   "source": [
    "train_mask = y.measurement_id.isin(train_mid) "
   ]
  },
  {
   "cell_type": "code",
   "execution_count": 21,
   "metadata": {},
   "outputs": [],
   "source": [
    "y_train = y[train_mask]"
   ]
  },
  {
   "cell_type": "code",
   "execution_count": 22,
   "metadata": {
    "scrolled": true
   },
   "outputs": [],
   "source": [
    "x_train = x[train_mask]"
   ]
  },
  {
   "cell_type": "code",
   "execution_count": 23,
   "metadata": {},
   "outputs": [
    {
     "data": {
      "text/plain": [
       "(36987, 1500, 3)"
      ]
     },
     "execution_count": 23,
     "metadata": {},
     "output_type": "execute_result"
    }
   ],
   "source": [
    "x_train.shape"
   ]
  },
  {
   "cell_type": "code",
   "execution_count": 24,
   "metadata": {},
   "outputs": [],
   "source": [
    "valid_mask = y.measurement_id.isin(valid_mid)"
   ]
  },
  {
   "cell_type": "code",
   "execution_count": 25,
   "metadata": {},
   "outputs": [],
   "source": [
    "y_valid = y[valid_mask]\n",
    "x_valid = x[valid_mask]"
   ]
  },
  {
   "cell_type": "markdown",
   "metadata": {},
   "source": [
    "# all 3 outputs"
   ]
  },
  {
   "cell_type": "code",
   "execution_count": 26,
   "metadata": {},
   "outputs": [
    {
     "name": "stderr",
     "output_type": "stream",
     "text": [
      "Using TensorFlow backend.\n"
     ]
    },
    {
     "name": "stdout",
     "output_type": "stream",
     "text": [
      "WARNING:tensorflow:From /home/ms994/miniconda3/envs/keras-redo/lib/python3.7/site-packages/tensorflow/python/framework/op_def_library.py:263: colocate_with (from tensorflow.python.framework.ops) is deprecated and will be removed in a future version.\n",
      "Instructions for updating:\n",
      "Colocations handled automatically by placer.\n",
      "WARNING:tensorflow:From /home/ms994/miniconda3/envs/keras-redo/lib/python3.7/site-packages/keras/backend/tensorflow_backend.py:3445: calling dropout (from tensorflow.python.ops.nn_ops) with keep_prob is deprecated and will be removed in a future version.\n",
      "Instructions for updating:\n",
      "Please use `rate` instead of `keep_prob`. Rate should be set to `rate = 1 - keep_prob`.\n"
     ]
    }
   ],
   "source": [
    "import keras\n",
    "num_cnn_layers = 5\n",
    "num_lstm_layers = 2\n",
    "num_lin_layers = 2\n",
    "inputLayer = keras.layers.Input((1500, 3))\n",
    "x = inputLayer\n",
    "\n",
    "\n",
    "for i in range(num_cnn_layers):\n",
    "    x = keras.layers.BatchNormalization()(x)\n",
    "    x = keras.layers.Conv1D(16, (3,), padding=\"same\")(x)\n",
    "    x = keras.layers.LeakyReLU()(x)\n",
    "    x = keras.layers.MaxPool1D((2,))(x)\n",
    "for j in range(num_lstm_layers):\n",
    "    x = keras.layers.BatchNormalization()(x)\n",
    "    x = keras.layers.CuDNNLSTM(256, return_sequences=True)(x)\n",
    "    x = keras.layers.LeakyReLU()(x)\n",
    "\n",
    "\n",
    "x = keras.layers.Flatten(name=\"flatten_encoder_lstm\")(x)\n",
    "x = keras.layers.Dense(200)(x)\n",
    "x = keras.layers.LeakyReLU()(x)\n",
    "x = keras.layers.Dropout(0.5)(x)\n",
    "\n",
    "x_shared_flattened = x\n",
    "\n",
    "#one_off\n",
    "x = x_shared_flattened \n",
    "for k in range(num_lin_layers):\n",
    "    x = keras.layers.BatchNormalization()(x)\n",
    "    x = keras.layers.Dense(256)(x)\n",
    "    x = keras.layers.LeakyReLU()(x)\n",
    "    x = keras.layers.Dropout(0.5)(x)\n",
    "x = keras.layers.Dense(1)(x)\n",
    "x_on_off = keras.layers.ReLU(name=\"on_off\", max_value=4)(x)\n",
    "\n",
    "#tremor\n",
    "x = x_shared_flattened \n",
    "for k in range(num_lin_layers):\n",
    "    x = keras.layers.BatchNormalization()(x)\n",
    "    x = keras.layers.Dense(256)(x)\n",
    "    x = keras.layers.LeakyReLU()(x)\n",
    "    x = keras.layers.Dropout(0.5)(x)\n",
    "x = keras.layers.Dense(1)(x)\n",
    "x_dyskinesia = keras.layers.ReLU(name=\"dyskinesia\", max_value=4)(x)\n",
    "\n",
    "#montage classify\n",
    "x = x_shared_flattened \n",
    "for k in range(num_lin_layers):\n",
    "    x = keras.layers.BatchNormalization()(x)\n",
    "    x = keras.layers.Dense(256)(x)\n",
    "    x = keras.layers.LeakyReLU()(x)\n",
    "    x = keras.layers.Dropout(0.5)(x)\n",
    "x = keras.layers.Dense(1)(x)\n",
    "x_tremor = keras.layers.ReLU(name=\"tremor\", max_value=4)(x)\n",
    "\n",
    "\n",
    "\n",
    "model = keras.Model(inputs=inputLayer, outputs=[x_on_off, x_dyskinesia, x_tremor])"
   ]
  },
  {
   "cell_type": "code",
   "execution_count": 27,
   "metadata": {},
   "outputs": [
    {
     "name": "stdout",
     "output_type": "stream",
     "text": [
      "__________________________________________________________________________________________________\n",
      "Layer (type)                    Output Shape         Param #     Connected to                     \n",
      "==================================================================================================\n",
      "input_1 (InputLayer)            (None, 1500, 3)      0                                            \n",
      "__________________________________________________________________________________________________\n",
      "batch_normalization_1 (BatchNor (None, 1500, 3)      12          input_1[0][0]                    \n",
      "__________________________________________________________________________________________________\n",
      "conv1d_1 (Conv1D)               (None, 1500, 16)     160         batch_normalization_1[0][0]      \n",
      "__________________________________________________________________________________________________\n",
      "leaky_re_lu_1 (LeakyReLU)       (None, 1500, 16)     0           conv1d_1[0][0]                   \n",
      "__________________________________________________________________________________________________\n",
      "max_pooling1d_1 (MaxPooling1D)  (None, 750, 16)      0           leaky_re_lu_1[0][0]              \n",
      "__________________________________________________________________________________________________\n",
      "batch_normalization_2 (BatchNor (None, 750, 16)      64          max_pooling1d_1[0][0]            \n",
      "__________________________________________________________________________________________________\n",
      "conv1d_2 (Conv1D)               (None, 750, 16)      784         batch_normalization_2[0][0]      \n",
      "__________________________________________________________________________________________________\n",
      "leaky_re_lu_2 (LeakyReLU)       (None, 750, 16)      0           conv1d_2[0][0]                   \n",
      "__________________________________________________________________________________________________\n",
      "max_pooling1d_2 (MaxPooling1D)  (None, 375, 16)      0           leaky_re_lu_2[0][0]              \n",
      "__________________________________________________________________________________________________\n",
      "batch_normalization_3 (BatchNor (None, 375, 16)      64          max_pooling1d_2[0][0]            \n",
      "__________________________________________________________________________________________________\n",
      "conv1d_3 (Conv1D)               (None, 375, 16)      784         batch_normalization_3[0][0]      \n",
      "__________________________________________________________________________________________________\n",
      "leaky_re_lu_3 (LeakyReLU)       (None, 375, 16)      0           conv1d_3[0][0]                   \n",
      "__________________________________________________________________________________________________\n",
      "max_pooling1d_3 (MaxPooling1D)  (None, 187, 16)      0           leaky_re_lu_3[0][0]              \n",
      "__________________________________________________________________________________________________\n",
      "batch_normalization_4 (BatchNor (None, 187, 16)      64          max_pooling1d_3[0][0]            \n",
      "__________________________________________________________________________________________________\n",
      "conv1d_4 (Conv1D)               (None, 187, 16)      784         batch_normalization_4[0][0]      \n",
      "__________________________________________________________________________________________________\n",
      "leaky_re_lu_4 (LeakyReLU)       (None, 187, 16)      0           conv1d_4[0][0]                   \n",
      "__________________________________________________________________________________________________\n",
      "max_pooling1d_4 (MaxPooling1D)  (None, 93, 16)       0           leaky_re_lu_4[0][0]              \n",
      "__________________________________________________________________________________________________\n",
      "batch_normalization_5 (BatchNor (None, 93, 16)       64          max_pooling1d_4[0][0]            \n",
      "__________________________________________________________________________________________________\n",
      "conv1d_5 (Conv1D)               (None, 93, 16)       784         batch_normalization_5[0][0]      \n",
      "__________________________________________________________________________________________________\n",
      "leaky_re_lu_5 (LeakyReLU)       (None, 93, 16)       0           conv1d_5[0][0]                   \n",
      "__________________________________________________________________________________________________\n",
      "max_pooling1d_5 (MaxPooling1D)  (None, 46, 16)       0           leaky_re_lu_5[0][0]              \n",
      "__________________________________________________________________________________________________\n",
      "batch_normalization_6 (BatchNor (None, 46, 16)       64          max_pooling1d_5[0][0]            \n",
      "__________________________________________________________________________________________________\n",
      "cu_dnnlstm_1 (CuDNNLSTM)        (None, 46, 256)      280576      batch_normalization_6[0][0]      \n",
      "__________________________________________________________________________________________________\n",
      "leaky_re_lu_6 (LeakyReLU)       (None, 46, 256)      0           cu_dnnlstm_1[0][0]               \n",
      "__________________________________________________________________________________________________\n",
      "batch_normalization_7 (BatchNor (None, 46, 256)      1024        leaky_re_lu_6[0][0]              \n",
      "__________________________________________________________________________________________________\n",
      "cu_dnnlstm_2 (CuDNNLSTM)        (None, 46, 256)      526336      batch_normalization_7[0][0]      \n",
      "__________________________________________________________________________________________________\n",
      "leaky_re_lu_7 (LeakyReLU)       (None, 46, 256)      0           cu_dnnlstm_2[0][0]               \n",
      "__________________________________________________________________________________________________\n",
      "flatten_encoder_lstm (Flatten)  (None, 11776)        0           leaky_re_lu_7[0][0]              \n",
      "__________________________________________________________________________________________________\n",
      "dense_1 (Dense)                 (None, 200)          2355400     flatten_encoder_lstm[0][0]       \n",
      "__________________________________________________________________________________________________\n",
      "leaky_re_lu_8 (LeakyReLU)       (None, 200)          0           dense_1[0][0]                    \n",
      "__________________________________________________________________________________________________\n",
      "dropout_1 (Dropout)             (None, 200)          0           leaky_re_lu_8[0][0]              \n",
      "__________________________________________________________________________________________________\n",
      "batch_normalization_8 (BatchNor (None, 200)          800         dropout_1[0][0]                  \n",
      "__________________________________________________________________________________________________\n",
      "batch_normalization_10 (BatchNo (None, 200)          800         dropout_1[0][0]                  \n",
      "__________________________________________________________________________________________________\n",
      "batch_normalization_12 (BatchNo (None, 200)          800         dropout_1[0][0]                  \n",
      "__________________________________________________________________________________________________\n",
      "dense_2 (Dense)                 (None, 256)          51456       batch_normalization_8[0][0]      \n",
      "__________________________________________________________________________________________________\n",
      "dense_5 (Dense)                 (None, 256)          51456       batch_normalization_10[0][0]     \n",
      "__________________________________________________________________________________________________\n",
      "dense_8 (Dense)                 (None, 256)          51456       batch_normalization_12[0][0]     \n",
      "__________________________________________________________________________________________________\n",
      "leaky_re_lu_9 (LeakyReLU)       (None, 256)          0           dense_2[0][0]                    \n",
      "__________________________________________________________________________________________________\n",
      "leaky_re_lu_11 (LeakyReLU)      (None, 256)          0           dense_5[0][0]                    \n",
      "__________________________________________________________________________________________________\n",
      "leaky_re_lu_13 (LeakyReLU)      (None, 256)          0           dense_8[0][0]                    \n",
      "__________________________________________________________________________________________________\n",
      "dropout_2 (Dropout)             (None, 256)          0           leaky_re_lu_9[0][0]              \n",
      "__________________________________________________________________________________________________\n",
      "dropout_4 (Dropout)             (None, 256)          0           leaky_re_lu_11[0][0]             \n",
      "__________________________________________________________________________________________________\n",
      "dropout_6 (Dropout)             (None, 256)          0           leaky_re_lu_13[0][0]             \n",
      "__________________________________________________________________________________________________\n",
      "batch_normalization_9 (BatchNor (None, 256)          1024        dropout_2[0][0]                  \n",
      "__________________________________________________________________________________________________\n",
      "batch_normalization_11 (BatchNo (None, 256)          1024        dropout_4[0][0]                  \n",
      "__________________________________________________________________________________________________\n",
      "batch_normalization_13 (BatchNo (None, 256)          1024        dropout_6[0][0]                  \n",
      "__________________________________________________________________________________________________\n",
      "dense_3 (Dense)                 (None, 256)          65792       batch_normalization_9[0][0]      \n",
      "__________________________________________________________________________________________________\n",
      "dense_6 (Dense)                 (None, 256)          65792       batch_normalization_11[0][0]     \n",
      "__________________________________________________________________________________________________\n",
      "dense_9 (Dense)                 (None, 256)          65792       batch_normalization_13[0][0]     \n",
      "__________________________________________________________________________________________________\n",
      "leaky_re_lu_10 (LeakyReLU)      (None, 256)          0           dense_3[0][0]                    \n",
      "__________________________________________________________________________________________________\n",
      "leaky_re_lu_12 (LeakyReLU)      (None, 256)          0           dense_6[0][0]                    \n",
      "__________________________________________________________________________________________________\n",
      "leaky_re_lu_14 (LeakyReLU)      (None, 256)          0           dense_9[0][0]                    \n",
      "__________________________________________________________________________________________________\n",
      "dropout_3 (Dropout)             (None, 256)          0           leaky_re_lu_10[0][0]             \n",
      "__________________________________________________________________________________________________\n",
      "dropout_5 (Dropout)             (None, 256)          0           leaky_re_lu_12[0][0]             \n",
      "__________________________________________________________________________________________________\n",
      "dropout_7 (Dropout)             (None, 256)          0           leaky_re_lu_14[0][0]             \n",
      "__________________________________________________________________________________________________\n",
      "dense_4 (Dense)                 (None, 1)            257         dropout_3[0][0]                  \n",
      "__________________________________________________________________________________________________\n",
      "dense_7 (Dense)                 (None, 1)            257         dropout_5[0][0]                  \n",
      "__________________________________________________________________________________________________\n",
      "dense_10 (Dense)                (None, 1)            257         dropout_7[0][0]                  \n",
      "__________________________________________________________________________________________________\n",
      "on_off (ReLU)                   (None, 1)            0           dense_4[0][0]                    \n",
      "__________________________________________________________________________________________________\n",
      "dyskinesia (ReLU)               (None, 1)            0           dense_7[0][0]                    \n",
      "__________________________________________________________________________________________________\n",
      "tremor (ReLU)                   (None, 1)            0           dense_10[0][0]                   \n",
      "==================================================================================================\n",
      "Total params: 3,524,951\n",
      "Trainable params: 3,521,537\n",
      "Non-trainable params: 3,414\n",
      "__________________________________________________________________________________________________\n"
     ]
    }
   ],
   "source": [
    "model.compile(\"adam\", loss=[\"mean_squared_error\", \"mean_squared_error\",\"mean_squared_error\", ])\n",
    "model.summary()"
   ]
  },
  {
   "cell_type": "code",
   "execution_count": 28,
   "metadata": {},
   "outputs": [],
   "source": [
    "def train_gen():\n",
    "    i = 0\n",
    "    total_num_instances = x_train.shape[0]\n",
    "    while True:\n",
    "        yield x_train[i], y_train.on_off.values[i]"
   ]
  },
  {
   "cell_type": "code",
   "execution_count": 28,
   "metadata": {
    "scrolled": false
   },
   "outputs": [
    {
     "name": "stdout",
     "output_type": "stream",
     "text": [
      "WARNING:tensorflow:From /home/ms994/miniconda3/envs/keras-redo/lib/python3.7/site-packages/tensorflow/python/ops/math_ops.py:3066: to_int32 (from tensorflow.python.ops.math_ops) is deprecated and will be removed in a future version.\n",
      "Instructions for updating:\n",
      "Use tf.cast instead.\n",
      "Train on 36987 samples, validate on 12434 samples\n",
      "Epoch 1/200\n",
      "36987/36987 [==============================] - 46s 1ms/step - loss: 3.9717 - on_off_loss: 1.9828 - dyskinesia_loss: 0.9690 - tremor_loss: 1.0199 - val_loss: 3.2184 - val_on_off_loss: 1.7622 - val_dyskinesia_loss: 0.6871 - val_tremor_loss: 0.7691\n",
      "\n",
      "Epoch 00001: val_loss improved from inf to 3.21838, saving model to /n/scratch2/ms994/cnnlstm3.h5\n",
      "Epoch 2/200\n",
      "36987/36987 [==============================] - 25s 681us/step - loss: 3.4974 - on_off_loss: 1.7552 - dyskinesia_loss: 0.8419 - tremor_loss: 0.9003 - val_loss: 3.3114 - val_on_off_loss: 1.6908 - val_dyskinesia_loss: 0.7507 - val_tremor_loss: 0.8698\n",
      "\n",
      "Epoch 00002: val_loss did not improve from 3.21838\n",
      "Epoch 3/200\n",
      "36987/36987 [==============================] - 25s 676us/step - loss: 3.7692 - on_off_loss: 1.8286 - dyskinesia_loss: 0.9202 - tremor_loss: 1.0204 - val_loss: 3.2447 - val_on_off_loss: 1.7535 - val_dyskinesia_loss: 0.7168 - val_tremor_loss: 0.7744\n",
      "\n",
      "Epoch 00003: val_loss did not improve from 3.21838\n",
      "Epoch 4/200\n",
      "36987/36987 [==============================] - 25s 674us/step - loss: 3.3950 - on_off_loss: 1.6981 - dyskinesia_loss: 0.8289 - tremor_loss: 0.8680 - val_loss: 3.1332 - val_on_off_loss: 1.7259 - val_dyskinesia_loss: 0.6515 - val_tremor_loss: 0.7558\n",
      "\n",
      "Epoch 00004: val_loss improved from 3.21838 to 3.13324, saving model to /n/scratch2/ms994/cnnlstm3.h5\n",
      "Epoch 5/200\n",
      "36987/36987 [==============================] - 25s 674us/step - loss: 3.2924 - on_off_loss: 1.6598 - dyskinesia_loss: 0.7915 - tremor_loss: 0.8411 - val_loss: 3.1526 - val_on_off_loss: 1.7379 - val_dyskinesia_loss: 0.6552 - val_tremor_loss: 0.7596\n",
      "\n",
      "Epoch 00005: val_loss did not improve from 3.13324\n",
      "Epoch 6/200\n",
      "36987/36987 [==============================] - 25s 673us/step - loss: 3.2162 - on_off_loss: 1.6235 - dyskinesia_loss: 0.7711 - tremor_loss: 0.8216 - val_loss: 3.0864 - val_on_off_loss: 1.6974 - val_dyskinesia_loss: 0.6449 - val_tremor_loss: 0.7441\n",
      "\n",
      "Epoch 00006: val_loss improved from 3.13324 to 3.08641, saving model to /n/scratch2/ms994/cnnlstm3.h5\n",
      "Epoch 7/200\n",
      "36987/36987 [==============================] - 25s 677us/step - loss: 3.1376 - on_off_loss: 1.5802 - dyskinesia_loss: 0.7490 - tremor_loss: 0.8084 - val_loss: 3.0668 - val_on_off_loss: 1.6712 - val_dyskinesia_loss: 0.6478 - val_tremor_loss: 0.7478\n",
      "\n",
      "Epoch 00007: val_loss improved from 3.08641 to 3.06679, saving model to /n/scratch2/ms994/cnnlstm3.h5\n",
      "Epoch 8/200\n",
      "36987/36987 [==============================] - 25s 676us/step - loss: 3.0767 - on_off_loss: 1.5560 - dyskinesia_loss: 0.7256 - tremor_loss: 0.7952 - val_loss: 3.0741 - val_on_off_loss: 1.6680 - val_dyskinesia_loss: 0.6592 - val_tremor_loss: 0.7469\n",
      "\n",
      "Epoch 00008: val_loss did not improve from 3.06679\n",
      "Epoch 9/200\n",
      "36987/36987 [==============================] - 25s 675us/step - loss: 3.0036 - on_off_loss: 1.5194 - dyskinesia_loss: 0.7064 - tremor_loss: 0.7778 - val_loss: 3.0165 - val_on_off_loss: 1.6544 - val_dyskinesia_loss: 0.6383 - val_tremor_loss: 0.7238\n",
      "\n",
      "Epoch 00009: val_loss improved from 3.06679 to 3.01652, saving model to /n/scratch2/ms994/cnnlstm3.h5\n",
      "Epoch 10/200\n",
      "36987/36987 [==============================] - 25s 679us/step - loss: 2.9452 - on_off_loss: 1.5023 - dyskinesia_loss: 0.6840 - tremor_loss: 0.7589 - val_loss: 3.0376 - val_on_off_loss: 1.6588 - val_dyskinesia_loss: 0.6497 - val_tremor_loss: 0.7291\n",
      "\n",
      "Epoch 00010: val_loss did not improve from 3.01652\n",
      "Epoch 11/200\n",
      "36987/36987 [==============================] - 25s 677us/step - loss: 2.8834 - on_off_loss: 1.4705 - dyskinesia_loss: 0.6719 - tremor_loss: 0.7410 - val_loss: 3.0115 - val_on_off_loss: 1.6584 - val_dyskinesia_loss: 0.6323 - val_tremor_loss: 0.7208\n",
      "\n",
      "Epoch 00011: val_loss improved from 3.01652 to 3.01154, saving model to /n/scratch2/ms994/cnnlstm3.h5\n",
      "Epoch 12/200\n",
      "36987/36987 [==============================] - 25s 677us/step - loss: 2.8440 - on_off_loss: 1.4545 - dyskinesia_loss: 0.6615 - tremor_loss: 0.7281 - val_loss: 3.0377 - val_on_off_loss: 1.6629 - val_dyskinesia_loss: 0.6468 - val_tremor_loss: 0.7280\n",
      "\n",
      "Epoch 00012: val_loss did not improve from 3.01154\n",
      "Epoch 13/200\n",
      "36987/36987 [==============================] - 25s 679us/step - loss: 2.7941 - on_off_loss: 1.4322 - dyskinesia_loss: 0.6480 - tremor_loss: 0.7139 - val_loss: 3.0411 - val_on_off_loss: 1.6628 - val_dyskinesia_loss: 0.6541 - val_tremor_loss: 0.7242\n",
      "\n",
      "Epoch 00013: val_loss did not improve from 3.01154\n",
      "Epoch 14/200\n",
      "36987/36987 [==============================] - 25s 675us/step - loss: 2.7438 - on_off_loss: 1.4072 - dyskinesia_loss: 0.6333 - tremor_loss: 0.7034 - val_loss: 3.0596 - val_on_off_loss: 1.6612 - val_dyskinesia_loss: 0.6587 - val_tremor_loss: 0.7397\n",
      "\n",
      "Epoch 00014: val_loss did not improve from 3.01154\n",
      "Epoch 15/200\n",
      "36987/36987 [==============================] - 25s 677us/step - loss: 2.7122 - on_off_loss: 1.3917 - dyskinesia_loss: 0.6234 - tremor_loss: 0.6972 - val_loss: 3.0426 - val_on_off_loss: 1.6668 - val_dyskinesia_loss: 0.6499 - val_tremor_loss: 0.7260\n",
      "\n",
      "Epoch 00015: val_loss did not improve from 3.01154\n",
      "Epoch 16/200\n",
      "36987/36987 [==============================] - 25s 675us/step - loss: 2.7011 - on_off_loss: 1.3874 - dyskinesia_loss: 0.6253 - tremor_loss: 0.6884 - val_loss: 3.0575 - val_on_off_loss: 1.6495 - val_dyskinesia_loss: 0.6757 - val_tremor_loss: 0.7323\n",
      "\n",
      "Epoch 00016: val_loss did not improve from 3.01154\n",
      "Epoch 17/200\n",
      "36987/36987 [==============================] - 25s 674us/step - loss: 2.6814 - on_off_loss: 1.3799 - dyskinesia_loss: 0.6154 - tremor_loss: 0.6862 - val_loss: 3.0663 - val_on_off_loss: 1.6697 - val_dyskinesia_loss: 0.6544 - val_tremor_loss: 0.7422\n",
      "\n",
      "Epoch 00017: val_loss did not improve from 3.01154\n",
      "Epoch 18/200\n",
      "36987/36987 [==============================] - 25s 676us/step - loss: 2.6591 - on_off_loss: 1.3656 - dyskinesia_loss: 0.6109 - tremor_loss: 0.6827 - val_loss: 3.0433 - val_on_off_loss: 1.6665 - val_dyskinesia_loss: 0.6514 - val_tremor_loss: 0.7254\n",
      "\n",
      "Epoch 00018: val_loss did not improve from 3.01154\n",
      "Epoch 19/200\n",
      "36987/36987 [==============================] - 25s 678us/step - loss: 2.6432 - on_off_loss: 1.3585 - dyskinesia_loss: 0.6061 - tremor_loss: 0.6786 - val_loss: 3.0639 - val_on_off_loss: 1.6704 - val_dyskinesia_loss: 0.6576 - val_tremor_loss: 0.7358\n",
      "\n",
      "Epoch 00019: val_loss did not improve from 3.01154\n",
      "Epoch 20/200\n",
      "36987/36987 [==============================] - 25s 676us/step - loss: 2.6193 - on_off_loss: 1.3415 - dyskinesia_loss: 0.6063 - tremor_loss: 0.6714 - val_loss: 3.0671 - val_on_off_loss: 1.6707 - val_dyskinesia_loss: 0.6590 - val_tremor_loss: 0.7374\n",
      "\n",
      "Epoch 00020: val_loss did not improve from 3.01154\n",
      "Epoch 21/200\n",
      "36987/36987 [==============================] - 25s 677us/step - loss: 2.6139 - on_off_loss: 1.3440 - dyskinesia_loss: 0.6001 - tremor_loss: 0.6697 - val_loss: 3.0604 - val_on_off_loss: 1.6680 - val_dyskinesia_loss: 0.6573 - val_tremor_loss: 0.7351\n",
      "\n",
      "Epoch 00021: val_loss did not improve from 3.01154\n",
      "Epoch 22/200\n",
      "36987/36987 [==============================] - 25s 678us/step - loss: 2.6010 - on_off_loss: 1.3362 - dyskinesia_loss: 0.5983 - tremor_loss: 0.6665 - val_loss: 3.0592 - val_on_off_loss: 1.6669 - val_dyskinesia_loss: 0.6582 - val_tremor_loss: 0.7341\n",
      "\n",
      "Epoch 00022: val_loss did not improve from 3.01154\n",
      "Epoch 23/200\n",
      "36987/36987 [==============================] - 25s 677us/step - loss: 2.6101 - on_off_loss: 1.3464 - dyskinesia_loss: 0.5977 - tremor_loss: 0.6659 - val_loss: 3.0718 - val_on_off_loss: 1.6781 - val_dyskinesia_loss: 0.6568 - val_tremor_loss: 0.7370\n",
      "\n",
      "Epoch 00023: val_loss did not improve from 3.01154\n",
      "Epoch 24/200\n",
      "36987/36987 [==============================] - 25s 676us/step - loss: 2.5891 - on_off_loss: 1.3303 - dyskinesia_loss: 0.5944 - tremor_loss: 0.6644 - val_loss: 3.0680 - val_on_off_loss: 1.6742 - val_dyskinesia_loss: 0.6574 - val_tremor_loss: 0.7364\n",
      "\n",
      "Epoch 00024: val_loss did not improve from 3.01154\n",
      "Epoch 25/200\n"
     ]
    },
    {
     "name": "stdout",
     "output_type": "stream",
     "text": [
      "36987/36987 [==============================] - 25s 676us/step - loss: 2.6044 - on_off_loss: 1.3395 - dyskinesia_loss: 0.5969 - tremor_loss: 0.6680 - val_loss: 3.0658 - val_on_off_loss: 1.6731 - val_dyskinesia_loss: 0.6576 - val_tremor_loss: 0.7351\n",
      "\n",
      "Epoch 00025: val_loss did not improve from 3.01154\n",
      "Epoch 26/200\n",
      "36987/36987 [==============================] - 25s 675us/step - loss: 2.5989 - on_off_loss: 1.3341 - dyskinesia_loss: 0.5971 - tremor_loss: 0.6677 - val_loss: 3.0688 - val_on_off_loss: 1.6756 - val_dyskinesia_loss: 0.6584 - val_tremor_loss: 0.7347\n",
      "\n",
      "Epoch 00026: val_loss did not improve from 3.01154\n",
      "Epoch 27/200\n",
      "36987/36987 [==============================] - 25s 676us/step - loss: 2.5902 - on_off_loss: 1.3292 - dyskinesia_loss: 0.5960 - tremor_loss: 0.6650 - val_loss: 3.0727 - val_on_off_loss: 1.6775 - val_dyskinesia_loss: 0.6597 - val_tremor_loss: 0.7356\n",
      "\n",
      "Epoch 00027: val_loss did not improve from 3.01154\n",
      "Epoch 28/200\n",
      "36987/36987 [==============================] - 25s 671us/step - loss: 2.5843 - on_off_loss: 1.3267 - dyskinesia_loss: 0.5945 - tremor_loss: 0.6630 - val_loss: 3.0747 - val_on_off_loss: 1.6790 - val_dyskinesia_loss: 0.6595 - val_tremor_loss: 0.7362\n",
      "\n",
      "Epoch 00028: val_loss did not improve from 3.01154\n",
      "Epoch 29/200\n",
      "36987/36987 [==============================] - 25s 673us/step - loss: 2.5793 - on_off_loss: 1.3243 - dyskinesia_loss: 0.5916 - tremor_loss: 0.6634 - val_loss: 3.0769 - val_on_off_loss: 1.6791 - val_dyskinesia_loss: 0.6609 - val_tremor_loss: 0.7369\n",
      "\n",
      "Epoch 00029: val_loss did not improve from 3.01154\n"
     ]
    }
   ],
   "source": [
    "modelCheckpoint = keras.callbacks.ModelCheckpoint(\"/n/scratch2/ms994/cnnlstm3.h5\", save_best_only=True, verbose=True)\n",
    "reduceLR = keras.callbacks.ReduceLROnPlateau(patience=5, verbose=True)\n",
    "earlyStopping = keras.callbacks.EarlyStopping(patience=20, min_delta=0.01)\n",
    "lr_schedule = keras.callbacks.LearningRateScheduler(lambda i, lr: lr*0.8)\n",
    "history = model.fit(x=x_train, y=[y_train.on_off.values, y_train.dyskinesia.values, y_train.tremor.values], validation_data=(x_valid, [y_valid.on_off.values, y_valid.dyskinesia.values,y_valid.tremor.values]), callbacks=[earlyStopping, lr_schedule, modelCheckpoint], epochs=200, batch_size=128)"
   ]
  },
  {
   "cell_type": "code",
   "execution_count": 29,
   "metadata": {},
   "outputs": [],
   "source": [
    "model = keras.models.load_model(\"/n/scratch2/ms994/cnnlstm3.h5\")"
   ]
  },
  {
   "cell_type": "code",
   "execution_count": 30,
   "metadata": {},
   "outputs": [
    {
     "data": {
      "text/plain": [
       "[array([[0.52982676],\n",
       "        [0.5838137 ],\n",
       "        [0.55122524],\n",
       "        ...,\n",
       "        [0.9598573 ],\n",
       "        [0.9648749 ],\n",
       "        [0.9970462 ]], dtype=float32), array([[0.        ],\n",
       "        [0.        ],\n",
       "        [0.        ],\n",
       "        ...,\n",
       "        [0.21395937],\n",
       "        [0.20995823],\n",
       "        [0.22505549]], dtype=float32), array([[0.0378248 ],\n",
       "        [0.04636757],\n",
       "        [0.        ],\n",
       "        ...,\n",
       "        [1.1494902 ],\n",
       "        [1.147995  ],\n",
       "        [1.1570262 ]], dtype=float32)]"
      ]
     },
     "execution_count": 30,
     "metadata": {},
     "output_type": "execute_result"
    }
   ],
   "source": [
    "model.predict(x_valid)"
   ]
  },
  {
   "cell_type": "code",
   "execution_count": 31,
   "metadata": {},
   "outputs": [],
   "source": [
    "predictions = model.predict(x_valid)"
   ]
  },
  {
   "cell_type": "code",
   "execution_count": 32,
   "metadata": {},
   "outputs": [],
   "source": [
    "import matplotlib.pyplot as plt"
   ]
  },
  {
   "cell_type": "code",
   "execution_count": 33,
   "metadata": {},
   "outputs": [
    {
     "data": {
      "text/plain": [
       "(array([1023.,  458., 1623., 2371., 2099., 2150., 1599.,  783.,  297.,\n",
       "          31.]),\n",
       " array([0.        , 0.26422903, 0.52845806, 0.7926871 , 1.0569161 ,\n",
       "        1.3211452 , 1.5853742 , 1.8496033 , 2.1138322 , 2.3780613 ,\n",
       "        2.6422904 ], dtype=float32),\n",
       " <a list of 10 Patch objects>)"
      ]
     },
     "execution_count": 33,
     "metadata": {},
     "output_type": "execute_result"
    },
    {
     "data": {
      "image/png": "[encoded data removed]",
      "text/plain": [
       "<Figure size 432x288 with 1 Axes>"
      ]
     },
     "metadata": {
      "needs_background": "light"
     },
     "output_type": "display_data"
    }
   ],
   "source": [
    "plt.hist(predictions[0])"
   ]
  },
  {
   "cell_type": "code",
   "execution_count": 281,
   "metadata": {},
   "outputs": [
    {
     "data": {
      "text/plain": [
       "<matplotlib.axes._subplots.AxesSubplot at 0x7fe7105df550>"
      ]
     },
     "execution_count": 281,
     "metadata": {},
     "output_type": "execute_result"
    },
    {
     "data": {
      "image/png": "[encoded data removed]",
      "text/plain": [
       "<Figure size 432x288 with 1 Axes>"
      ]
     },
     "metadata": {
      "needs_background": "light"
     },
     "output_type": "display_data"
    }
   ],
   "source": [
    "import seaborn as sns\n",
    "sns.countplot(y_valid.groupby(\"measurement_id\").mean()[\"tremor\"])"
   ]
  },
  {
   "cell_type": "code",
   "execution_count": 272,
   "metadata": {},
   "outputs": [
    {
     "data": {
      "text/plain": [
       "(array([4669., 1303., 1049., 1324., 1981., 1485.,  550.,   45.,   21.,\n",
       "           7.]),\n",
       " array([0.        , 0.25464985, 0.5092997 , 0.7639496 , 1.0185994 ,\n",
       "        1.2732493 , 1.5278991 , 1.782549  , 2.0371988 , 2.2918487 ,\n",
       "        2.5464985 ], dtype=float32),\n",
       " <a list of 10 Patch objects>)"
      ]
     },
     "execution_count": 272,
     "metadata": {},
     "output_type": "execute_result"
    },
    {
     "data": {
      "image/png": "[encoded data removed]",
      "text/plain": [
       "<Figure size 432x288 with 1 Axes>"
      ]
     },
     "metadata": {
      "needs_background": "light"
     },
     "output_type": "display_data"
    }
   ],
   "source": [
    "plt.hist(predictions[1])"
   ]
  },
  {
   "cell_type": "code",
   "execution_count": 273,
   "metadata": {},
   "outputs": [
    {
     "data": {
      "text/plain": [
       "(array([2138.,  764.,  699.,  513.,  949., 4747., 2188.,  371.,   49.,\n",
       "          16.]),\n",
       " array([0.        , 0.22749281, 0.45498562, 0.6824784 , 0.90997124,\n",
       "        1.137464  , 1.3649569 , 1.5924497 , 1.8199425 , 2.0474353 ,\n",
       "        2.274928  ], dtype=float32),\n",
       " <a list of 10 Patch objects>)"
      ]
     },
     "execution_count": 273,
     "metadata": {},
     "output_type": "execute_result"
    },
    {
     "data": {
      "image/png": "[encoded data removed]",
      "text/plain": [
       "<Figure size 432x288 with 1 Axes>"
      ]
     },
     "metadata": {
      "needs_background": "light"
     },
     "output_type": "display_data"
    }
   ],
   "source": [
    "plt.hist(predictions[2])"
   ]
  },
  {
   "cell_type": "code",
   "execution_count": 37,
   "metadata": {},
   "outputs": [
    {
     "name": "stderr",
     "output_type": "stream",
     "text": [
      "/home/ms994/miniconda3/envs/keras-redo/lib/python3.7/site-packages/pandas/core/indexing.py:362: SettingWithCopyWarning: \n",
      "A value is trying to be set on a copy of a slice from a DataFrame.\n",
      "Try using .loc[row_indexer,col_indexer] = value instead\n",
      "\n",
      "See the caveats in the documentation: http://pandas.pydata.org/pandas-docs/stable/indexing.html#indexing-view-versus-copy\n",
      "  self.obj[key] = _infer_fill_value(value)\n",
      "/home/ms994/miniconda3/envs/keras-redo/lib/python3.7/site-packages/pandas/core/indexing.py:543: SettingWithCopyWarning: \n",
      "A value is trying to be set on a copy of a slice from a DataFrame.\n",
      "Try using .loc[row_indexer,col_indexer] = value instead\n",
      "\n",
      "See the caveats in the documentation: http://pandas.pydata.org/pandas-docs/stable/indexing.html#indexing-view-versus-copy\n",
      "  self.obj[item] = s\n"
     ]
    }
   ],
   "source": [
    "y_valid.loc[:,\"on_off_pred\"] =  predictions[0].reshape(-1)"
   ]
  },
  {
   "cell_type": "code",
   "execution_count": 41,
   "metadata": {},
   "outputs": [],
   "source": [
    "y_valid.loc[:,\"dys_pred\"]=  predictions[1].reshape(-1)"
   ]
  },
  {
   "cell_type": "code",
   "execution_count": 47,
   "metadata": {},
   "outputs": [
    {
     "name": "stderr",
     "output_type": "stream",
     "text": [
      "/home/ms994/miniconda3/envs/keras-redo/lib/python3.7/site-packages/pandas/core/indexing.py:362: SettingWithCopyWarning: \n",
      "A value is trying to be set on a copy of a slice from a DataFrame.\n",
      "Try using .loc[row_indexer,col_indexer] = value instead\n",
      "\n",
      "See the caveats in the documentation: http://pandas.pydata.org/pandas-docs/stable/indexing.html#indexing-view-versus-copy\n",
      "  self.obj[key] = _infer_fill_value(value)\n",
      "/home/ms994/miniconda3/envs/keras-redo/lib/python3.7/site-packages/pandas/core/indexing.py:543: SettingWithCopyWarning: \n",
      "A value is trying to be set on a copy of a slice from a DataFrame.\n",
      "Try using .loc[row_indexer,col_indexer] = value instead\n",
      "\n",
      "See the caveats in the documentation: http://pandas.pydata.org/pandas-docs/stable/indexing.html#indexing-view-versus-copy\n",
      "  self.obj[item] = s\n"
     ]
    }
   ],
   "source": [
    "y_valid.loc[:,\"trem_pred\"]=  predictions[2].reshape(-1)"
   ]
  },
  {
   "cell_type": "code",
   "execution_count": 40,
   "metadata": {},
   "outputs": [
    {
     "data": {
      "text/html": [
       "<div>\n",
       "<style scoped>\n",
       "    .dataframe tbody tr th:only-of-type {\n",
       "        vertical-align: middle;\n",
       "    }\n",
       "\n",
       "    .dataframe tbody tr th {\n",
       "        vertical-align: top;\n",
       "    }\n",
       "\n",
       "    .dataframe thead th {\n",
       "        text-align: right;\n",
       "    }\n",
       "</style>\n",
       "<table border=\"1\" class=\"dataframe\">\n",
       "  <thead>\n",
       "    <tr style=\"text-align: right;\">\n",
       "      <th></th>\n",
       "      <th>on_off</th>\n",
       "      <th>on_off_pred</th>\n",
       "    </tr>\n",
       "    <tr>\n",
       "      <th>measurement_id</th>\n",
       "      <th></th>\n",
       "      <th></th>\n",
       "    </tr>\n",
       "  </thead>\n",
       "  <tbody>\n",
       "    <tr>\n",
       "      <th>0159954c-1bd2-47a6-9e6f-94f8d179b712</th>\n",
       "      <td>0.0</td>\n",
       "      <td>0.683812</td>\n",
       "    </tr>\n",
       "    <tr>\n",
       "      <th>026064df-af76-4b9f-b7b0-99f5bb6175ad</th>\n",
       "      <td>4.0</td>\n",
       "      <td>0.915396</td>\n",
       "    </tr>\n",
       "    <tr>\n",
       "      <th>046c7976-ca14-4a6c-8a58-3e6e80b26bbf</th>\n",
       "      <td>2.0</td>\n",
       "      <td>1.317221</td>\n",
       "    </tr>\n",
       "    <tr>\n",
       "      <th>05a3b9dd-bbe4-4c4d-8571-1c692640aead</th>\n",
       "      <td>0.0</td>\n",
       "      <td>0.685314</td>\n",
       "    </tr>\n",
       "    <tr>\n",
       "      <th>062754c2-b933-4307-a500-863ffdf6bebb</th>\n",
       "      <td>3.0</td>\n",
       "      <td>1.210543</td>\n",
       "    </tr>\n",
       "    <tr>\n",
       "      <th>06825584-d42a-46d2-804c-7ad75b2304c8</th>\n",
       "      <td>1.0</td>\n",
       "      <td>1.151944</td>\n",
       "    </tr>\n",
       "    <tr>\n",
       "      <th>06e3ae00-795a-4c42-bf37-9d9269dea7c0</th>\n",
       "      <td>0.0</td>\n",
       "      <td>1.469267</td>\n",
       "    </tr>\n",
       "    <tr>\n",
       "      <th>083e96ba-83cc-439d-9da0-c7691f635f7b</th>\n",
       "      <td>1.0</td>\n",
       "      <td>1.558910</td>\n",
       "    </tr>\n",
       "    <tr>\n",
       "      <th>09cb85b9-9850-42de-9422-1511948e8e80</th>\n",
       "      <td>3.0</td>\n",
       "      <td>1.549746</td>\n",
       "    </tr>\n",
       "    <tr>\n",
       "      <th>0f5bc0ae-118b-4338-afd1-653fc5bbd3a3</th>\n",
       "      <td>1.0</td>\n",
       "      <td>0.877415</td>\n",
       "    </tr>\n",
       "    <tr>\n",
       "      <th>0f9e1c7a-8c74-4d8b-98e4-f8ec3e68d35c</th>\n",
       "      <td>1.0</td>\n",
       "      <td>1.381081</td>\n",
       "    </tr>\n",
       "    <tr>\n",
       "      <th>104bbb2e-4f10-4b0c-a0d4-e60839487c68</th>\n",
       "      <td>1.0</td>\n",
       "      <td>0.507211</td>\n",
       "    </tr>\n",
       "    <tr>\n",
       "      <th>1152d443-ea4d-467e-beca-d8a26675aaee</th>\n",
       "      <td>0.0</td>\n",
       "      <td>0.358654</td>\n",
       "    </tr>\n",
       "    <tr>\n",
       "      <th>12513701-85b5-4278-bd15-dafae072d599</th>\n",
       "      <td>1.0</td>\n",
       "      <td>1.520483</td>\n",
       "    </tr>\n",
       "    <tr>\n",
       "      <th>14aaada9-e4cb-47c1-92ef-4059f2201d6f</th>\n",
       "      <td>4.0</td>\n",
       "      <td>0.638064</td>\n",
       "    </tr>\n",
       "    <tr>\n",
       "      <th>14d77c03-59d5-4d07-90fa-214e3fc03dbf</th>\n",
       "      <td>2.0</td>\n",
       "      <td>1.323164</td>\n",
       "    </tr>\n",
       "    <tr>\n",
       "      <th>1533bf36-ab80-492f-bd2d-2d8847cbba4f</th>\n",
       "      <td>0.0</td>\n",
       "      <td>1.042028</td>\n",
       "    </tr>\n",
       "    <tr>\n",
       "      <th>184ffe2e-f6c6-414d-ae43-d01bcd5568d9</th>\n",
       "      <td>0.0</td>\n",
       "      <td>1.427373</td>\n",
       "    </tr>\n",
       "    <tr>\n",
       "      <th>19f6eb5f-b63a-4810-895b-778808964406</th>\n",
       "      <td>0.0</td>\n",
       "      <td>1.153573</td>\n",
       "    </tr>\n",
       "    <tr>\n",
       "      <th>1c3dda9b-984c-43b2-9686-0316e2254393</th>\n",
       "      <td>0.0</td>\n",
       "      <td>1.396013</td>\n",
       "    </tr>\n",
       "    <tr>\n",
       "      <th>1d065c00-51a4-434e-8864-17af7d6383b0</th>\n",
       "      <td>0.0</td>\n",
       "      <td>0.992339</td>\n",
       "    </tr>\n",
       "    <tr>\n",
       "      <th>1e0f16d8-3303-4c39-930b-ab3fff2c55cc</th>\n",
       "      <td>1.0</td>\n",
       "      <td>1.621873</td>\n",
       "    </tr>\n",
       "    <tr>\n",
       "      <th>1fc663cc-a166-4188-823b-1dc45bc2b71a</th>\n",
       "      <td>2.0</td>\n",
       "      <td>1.193739</td>\n",
       "    </tr>\n",
       "    <tr>\n",
       "      <th>2014a889-510d-41f3-aa9a-e247313f878a</th>\n",
       "      <td>0.0</td>\n",
       "      <td>1.281176</td>\n",
       "    </tr>\n",
       "    <tr>\n",
       "      <th>20f1dbcd-0954-4bfd-ad92-9bac1b15beb0</th>\n",
       "      <td>2.0</td>\n",
       "      <td>1.440687</td>\n",
       "    </tr>\n",
       "    <tr>\n",
       "      <th>24884bf4-5dc4-4082-9eff-07350ae9023c</th>\n",
       "      <td>4.0</td>\n",
       "      <td>1.724404</td>\n",
       "    </tr>\n",
       "    <tr>\n",
       "      <th>252e7ed9-59c8-4e53-bd42-dbe33dce7513</th>\n",
       "      <td>3.0</td>\n",
       "      <td>1.543152</td>\n",
       "    </tr>\n",
       "    <tr>\n",
       "      <th>259621b8-62d3-4e99-a2e0-7f1792f63847</th>\n",
       "      <td>3.0</td>\n",
       "      <td>1.495761</td>\n",
       "    </tr>\n",
       "    <tr>\n",
       "      <th>278a1441-2e3a-467d-81c5-143e0298454b</th>\n",
       "      <td>3.0</td>\n",
       "      <td>1.567780</td>\n",
       "    </tr>\n",
       "    <tr>\n",
       "      <th>28fa7e74-ba03-46bc-b6da-88261da5086d</th>\n",
       "      <td>1.0</td>\n",
       "      <td>1.282244</td>\n",
       "    </tr>\n",
       "    <tr>\n",
       "      <th>...</th>\n",
       "      <td>...</td>\n",
       "      <td>...</td>\n",
       "    </tr>\n",
       "    <tr>\n",
       "      <th>ce171451-559e-4924-9136-940fec31766f</th>\n",
       "      <td>0.0</td>\n",
       "      <td>0.634781</td>\n",
       "    </tr>\n",
       "    <tr>\n",
       "      <th>ce1b6de8-fa7f-4051-9549-391178456fd1</th>\n",
       "      <td>0.0</td>\n",
       "      <td>0.998120</td>\n",
       "    </tr>\n",
       "    <tr>\n",
       "      <th>d1a9294c-05ad-4eac-9915-7052c2ad98a3</th>\n",
       "      <td>2.0</td>\n",
       "      <td>1.537331</td>\n",
       "    </tr>\n",
       "    <tr>\n",
       "      <th>d4ad615e-a261-43f0-b4b9-ea35bc5bcd9b</th>\n",
       "      <td>1.0</td>\n",
       "      <td>1.445160</td>\n",
       "    </tr>\n",
       "    <tr>\n",
       "      <th>d8e85598-a061-42ce-82dd-632fcd8ae2b0</th>\n",
       "      <td>1.0</td>\n",
       "      <td>1.710724</td>\n",
       "    </tr>\n",
       "    <tr>\n",
       "      <th>d959a560-f97c-4a13-9221-4cf32ca36e70</th>\n",
       "      <td>1.0</td>\n",
       "      <td>1.438205</td>\n",
       "    </tr>\n",
       "    <tr>\n",
       "      <th>da8bad50-109e-471e-a1d7-768b30745bd4</th>\n",
       "      <td>1.0</td>\n",
       "      <td>0.655969</td>\n",
       "    </tr>\n",
       "    <tr>\n",
       "      <th>daa03174-d54a-463a-bb2a-08408da3f29d</th>\n",
       "      <td>0.0</td>\n",
       "      <td>1.003690</td>\n",
       "    </tr>\n",
       "    <tr>\n",
       "      <th>dab65db3-0144-4d4c-8522-45799bb52d23</th>\n",
       "      <td>3.0</td>\n",
       "      <td>1.354172</td>\n",
       "    </tr>\n",
       "    <tr>\n",
       "      <th>daf6924f-5294-4988-99a6-a2fc7bc5bd22</th>\n",
       "      <td>1.0</td>\n",
       "      <td>1.327628</td>\n",
       "    </tr>\n",
       "    <tr>\n",
       "      <th>dcd5955e-3e94-40f2-818b-eda0fd33a76d</th>\n",
       "      <td>0.0</td>\n",
       "      <td>0.648190</td>\n",
       "    </tr>\n",
       "    <tr>\n",
       "      <th>dde97977-d155-4f07-8a47-6a318bd530eb</th>\n",
       "      <td>3.0</td>\n",
       "      <td>1.433040</td>\n",
       "    </tr>\n",
       "    <tr>\n",
       "      <th>debdee61-f8bc-4302-b2f1-037b5573f0ea</th>\n",
       "      <td>0.0</td>\n",
       "      <td>1.172244</td>\n",
       "    </tr>\n",
       "    <tr>\n",
       "      <th>df088ad5-4ab2-43c2-b9a2-7f7c09784f8e</th>\n",
       "      <td>1.0</td>\n",
       "      <td>0.420040</td>\n",
       "    </tr>\n",
       "    <tr>\n",
       "      <th>e6d0a48d-4d13-4f7f-bf20-2f14aacc4fab</th>\n",
       "      <td>1.0</td>\n",
       "      <td>1.229566</td>\n",
       "    </tr>\n",
       "    <tr>\n",
       "      <th>e774603c-5a3c-4f72-8095-4a2162da6538</th>\n",
       "      <td>0.0</td>\n",
       "      <td>0.584089</td>\n",
       "    </tr>\n",
       "    <tr>\n",
       "      <th>ea692bdf-3b53-41d9-a799-d24100ff63e1</th>\n",
       "      <td>1.0</td>\n",
       "      <td>1.578672</td>\n",
       "    </tr>\n",
       "    <tr>\n",
       "      <th>ecbb1910-d235-4692-a389-096187cf0b5c</th>\n",
       "      <td>0.0</td>\n",
       "      <td>0.724281</td>\n",
       "    </tr>\n",
       "    <tr>\n",
       "      <th>ed7c3093-6fdf-446c-8cd8-312ee892835b</th>\n",
       "      <td>0.0</td>\n",
       "      <td>1.457314</td>\n",
       "    </tr>\n",
       "    <tr>\n",
       "      <th>ee5a0967-a645-49b4-a70b-842c5985ce52</th>\n",
       "      <td>4.0</td>\n",
       "      <td>0.533476</td>\n",
       "    </tr>\n",
       "    <tr>\n",
       "      <th>ef4b3a31-2744-4bec-996f-5c1861478c30</th>\n",
       "      <td>0.0</td>\n",
       "      <td>1.537549</td>\n",
       "    </tr>\n",
       "    <tr>\n",
       "      <th>f03348c5-b599-4e99-9d8c-fff7da880d5c</th>\n",
       "      <td>0.0</td>\n",
       "      <td>0.620127</td>\n",
       "    </tr>\n",
       "    <tr>\n",
       "      <th>f59c374f-b39d-48d6-aef9-2f42ca3a67e4</th>\n",
       "      <td>1.0</td>\n",
       "      <td>1.427212</td>\n",
       "    </tr>\n",
       "    <tr>\n",
       "      <th>f59d2b7c-c6d2-4726-a244-f33a15c8f2d5</th>\n",
       "      <td>0.0</td>\n",
       "      <td>1.457581</td>\n",
       "    </tr>\n",
       "    <tr>\n",
       "      <th>f7a6bb71-dc3c-44f5-9d01-71b13ee5ca84</th>\n",
       "      <td>3.0</td>\n",
       "      <td>1.265094</td>\n",
       "    </tr>\n",
       "    <tr>\n",
       "      <th>f8bf28f8-224b-474e-afe4-7a5392e11c87</th>\n",
       "      <td>0.0</td>\n",
       "      <td>0.549764</td>\n",
       "    </tr>\n",
       "    <tr>\n",
       "      <th>f948fdaa-cf2e-4cc5-af68-4bd264c565bf</th>\n",
       "      <td>2.0</td>\n",
       "      <td>1.691220</td>\n",
       "    </tr>\n",
       "    <tr>\n",
       "      <th>fd9af49c-2fae-43d4-8fd9-bc4009882ce6</th>\n",
       "      <td>0.0</td>\n",
       "      <td>0.955413</td>\n",
       "    </tr>\n",
       "    <tr>\n",
       "      <th>fda59d04-0d73-4c26-be1d-10ea691cf9df</th>\n",
       "      <td>1.0</td>\n",
       "      <td>1.526425</td>\n",
       "    </tr>\n",
       "    <tr>\n",
       "      <th>ff2dd563-e9aa-4e67-a663-01497751973c</th>\n",
       "      <td>2.0</td>\n",
       "      <td>1.259007</td>\n",
       "    </tr>\n",
       "  </tbody>\n",
       "</table>\n",
       "<p>183 rows × 2 columns</p>\n",
       "</div>"
      ],
      "text/plain": [
       "                                      on_off  on_off_pred\n",
       "measurement_id                                           \n",
       "0159954c-1bd2-47a6-9e6f-94f8d179b712     0.0     0.683812\n",
       "026064df-af76-4b9f-b7b0-99f5bb6175ad     4.0     0.915396\n",
       "046c7976-ca14-4a6c-8a58-3e6e80b26bbf     2.0     1.317221\n",
       "05a3b9dd-bbe4-4c4d-8571-1c692640aead     0.0     0.685314\n",
       "062754c2-b933-4307-a500-863ffdf6bebb     3.0     1.210543\n",
       "06825584-d42a-46d2-804c-7ad75b2304c8     1.0     1.151944\n",
       "06e3ae00-795a-4c42-bf37-9d9269dea7c0     0.0     1.469267\n",
       "083e96ba-83cc-439d-9da0-c7691f635f7b     1.0     1.558910\n",
       "09cb85b9-9850-42de-9422-1511948e8e80     3.0     1.549746\n",
       "0f5bc0ae-118b-4338-afd1-653fc5bbd3a3     1.0     0.877415\n",
       "0f9e1c7a-8c74-4d8b-98e4-f8ec3e68d35c     1.0     1.381081\n",
       "104bbb2e-4f10-4b0c-a0d4-e60839487c68     1.0     0.507211\n",
       "1152d443-ea4d-467e-beca-d8a26675aaee     0.0     0.358654\n",
       "12513701-85b5-4278-bd15-dafae072d599     1.0     1.520483\n",
       "14aaada9-e4cb-47c1-92ef-4059f2201d6f     4.0     0.638064\n",
       "14d77c03-59d5-4d07-90fa-214e3fc03dbf     2.0     1.323164\n",
       "1533bf36-ab80-492f-bd2d-2d8847cbba4f     0.0     1.042028\n",
       "184ffe2e-f6c6-414d-ae43-d01bcd5568d9     0.0     1.427373\n",
       "19f6eb5f-b63a-4810-895b-778808964406     0.0     1.153573\n",
       "1c3dda9b-984c-43b2-9686-0316e2254393     0.0     1.396013\n",
       "1d065c00-51a4-434e-8864-17af7d6383b0     0.0     0.992339\n",
       "1e0f16d8-3303-4c39-930b-ab3fff2c55cc     1.0     1.621873\n",
       "1fc663cc-a166-4188-823b-1dc45bc2b71a     2.0     1.193739\n",
       "2014a889-510d-41f3-aa9a-e247313f878a     0.0     1.281176\n",
       "20f1dbcd-0954-4bfd-ad92-9bac1b15beb0     2.0     1.440687\n",
       "24884bf4-5dc4-4082-9eff-07350ae9023c     4.0     1.724404\n",
       "252e7ed9-59c8-4e53-bd42-dbe33dce7513     3.0     1.543152\n",
       "259621b8-62d3-4e99-a2e0-7f1792f63847     3.0     1.495761\n",
       "278a1441-2e3a-467d-81c5-143e0298454b     3.0     1.567780\n",
       "28fa7e74-ba03-46bc-b6da-88261da5086d     1.0     1.282244\n",
       "...                                      ...          ...\n",
       "ce171451-559e-4924-9136-940fec31766f     0.0     0.634781\n",
       "ce1b6de8-fa7f-4051-9549-391178456fd1     0.0     0.998120\n",
       "d1a9294c-05ad-4eac-9915-7052c2ad98a3     2.0     1.537331\n",
       "d4ad615e-a261-43f0-b4b9-ea35bc5bcd9b     1.0     1.445160\n",
       "d8e85598-a061-42ce-82dd-632fcd8ae2b0     1.0     1.710724\n",
       "d959a560-f97c-4a13-9221-4cf32ca36e70     1.0     1.438205\n",
       "da8bad50-109e-471e-a1d7-768b30745bd4     1.0     0.655969\n",
       "daa03174-d54a-463a-bb2a-08408da3f29d     0.0     1.003690\n",
       "dab65db3-0144-4d4c-8522-45799bb52d23     3.0     1.354172\n",
       "daf6924f-5294-4988-99a6-a2fc7bc5bd22     1.0     1.327628\n",
       "dcd5955e-3e94-40f2-818b-eda0fd33a76d     0.0     0.648190\n",
       "dde97977-d155-4f07-8a47-6a318bd530eb     3.0     1.433040\n",
       "debdee61-f8bc-4302-b2f1-037b5573f0ea     0.0     1.172244\n",
       "df088ad5-4ab2-43c2-b9a2-7f7c09784f8e     1.0     0.420040\n",
       "e6d0a48d-4d13-4f7f-bf20-2f14aacc4fab     1.0     1.229566\n",
       "e774603c-5a3c-4f72-8095-4a2162da6538     0.0     0.584089\n",
       "ea692bdf-3b53-41d9-a799-d24100ff63e1     1.0     1.578672\n",
       "ecbb1910-d235-4692-a389-096187cf0b5c     0.0     0.724281\n",
       "ed7c3093-6fdf-446c-8cd8-312ee892835b     0.0     1.457314\n",
       "ee5a0967-a645-49b4-a70b-842c5985ce52     4.0     0.533476\n",
       "ef4b3a31-2744-4bec-996f-5c1861478c30     0.0     1.537549\n",
       "f03348c5-b599-4e99-9d8c-fff7da880d5c     0.0     0.620127\n",
       "f59c374f-b39d-48d6-aef9-2f42ca3a67e4     1.0     1.427212\n",
       "f59d2b7c-c6d2-4726-a244-f33a15c8f2d5     0.0     1.457581\n",
       "f7a6bb71-dc3c-44f5-9d01-71b13ee5ca84     3.0     1.265094\n",
       "f8bf28f8-224b-474e-afe4-7a5392e11c87     0.0     0.549764\n",
       "f948fdaa-cf2e-4cc5-af68-4bd264c565bf     2.0     1.691220\n",
       "fd9af49c-2fae-43d4-8fd9-bc4009882ce6     0.0     0.955413\n",
       "fda59d04-0d73-4c26-be1d-10ea691cf9df     1.0     1.526425\n",
       "ff2dd563-e9aa-4e67-a663-01497751973c     2.0     1.259007\n",
       "\n",
       "[183 rows x 2 columns]"
      ]
     },
     "execution_count": 40,
     "metadata": {},
     "output_type": "execute_result"
    }
   ],
   "source": [
    "y_valid[[\"measurement_id\", \"on_off\", \"on_off_pred\"]].groupby(\"measurement_id\").mean()"
   ]
  },
  {
   "cell_type": "code",
   "execution_count": 42,
   "metadata": {},
   "outputs": [
    {
     "data": {
      "text/plain": [
       "Index(['level_0', 'index', 'measurement_id', 'subject_id', 'on_off',\n",
       "       'dyskinesia', 'tremor', 'Age', 'Gender', 'UPDRS_PartI_Total',\n",
       "       'UPDRS_PartII_Total', 'UPDRS_4.1', 'UPDRS_4.2', 'UPDRS_4.3',\n",
       "       'UPDRS_4.4', 'UPDRS_4.5', 'UPDRS_4.6', 'on_off_pred', 'dys_pred'],\n",
       "      dtype='object')"
      ]
     },
     "execution_count": 42,
     "metadata": {},
     "output_type": "execute_result"
    }
   ],
   "source": [
    "y_valid.columns"
   ]
  },
  {
   "cell_type": "code",
   "execution_count": 43,
   "metadata": {},
   "outputs": [
    {
     "data": {
      "text/html": [
       "<div>\n",
       "<style scoped>\n",
       "    .dataframe tbody tr th:only-of-type {\n",
       "        vertical-align: middle;\n",
       "    }\n",
       "\n",
       "    .dataframe tbody tr th {\n",
       "        vertical-align: top;\n",
       "    }\n",
       "\n",
       "    .dataframe thead th {\n",
       "        text-align: right;\n",
       "    }\n",
       "</style>\n",
       "<table border=\"1\" class=\"dataframe\">\n",
       "  <thead>\n",
       "    <tr style=\"text-align: right;\">\n",
       "      <th></th>\n",
       "      <th>dyskinesia</th>\n",
       "      <th>dys_pred</th>\n",
       "    </tr>\n",
       "    <tr>\n",
       "      <th>measurement_id</th>\n",
       "      <th></th>\n",
       "      <th></th>\n",
       "    </tr>\n",
       "  </thead>\n",
       "  <tbody>\n",
       "    <tr>\n",
       "      <th>0159954c-1bd2-47a6-9e6f-94f8d179b712</th>\n",
       "      <td>0.0</td>\n",
       "      <td>0.033895</td>\n",
       "    </tr>\n",
       "    <tr>\n",
       "      <th>026064df-af76-4b9f-b7b0-99f5bb6175ad</th>\n",
       "      <td>0.0</td>\n",
       "      <td>0.127404</td>\n",
       "    </tr>\n",
       "    <tr>\n",
       "      <th>046c7976-ca14-4a6c-8a58-3e6e80b26bbf</th>\n",
       "      <td>2.0</td>\n",
       "      <td>0.973406</td>\n",
       "    </tr>\n",
       "    <tr>\n",
       "      <th>05a3b9dd-bbe4-4c4d-8571-1c692640aead</th>\n",
       "      <td>0.0</td>\n",
       "      <td>0.008221</td>\n",
       "    </tr>\n",
       "    <tr>\n",
       "      <th>062754c2-b933-4307-a500-863ffdf6bebb</th>\n",
       "      <td>0.0</td>\n",
       "      <td>0.659635</td>\n",
       "    </tr>\n",
       "    <tr>\n",
       "      <th>06825584-d42a-46d2-804c-7ad75b2304c8</th>\n",
       "      <td>0.0</td>\n",
       "      <td>0.553993</td>\n",
       "    </tr>\n",
       "    <tr>\n",
       "      <th>06e3ae00-795a-4c42-bf37-9d9269dea7c0</th>\n",
       "      <td>0.0</td>\n",
       "      <td>1.178702</td>\n",
       "    </tr>\n",
       "    <tr>\n",
       "      <th>083e96ba-83cc-439d-9da0-c7691f635f7b</th>\n",
       "      <td>0.0</td>\n",
       "      <td>1.239369</td>\n",
       "    </tr>\n",
       "    <tr>\n",
       "      <th>09cb85b9-9850-42de-9422-1511948e8e80</th>\n",
       "      <td>1.0</td>\n",
       "      <td>1.134460</td>\n",
       "    </tr>\n",
       "    <tr>\n",
       "      <th>0f5bc0ae-118b-4338-afd1-653fc5bbd3a3</th>\n",
       "      <td>1.0</td>\n",
       "      <td>0.558037</td>\n",
       "    </tr>\n",
       "    <tr>\n",
       "      <th>0f9e1c7a-8c74-4d8b-98e4-f8ec3e68d35c</th>\n",
       "      <td>0.0</td>\n",
       "      <td>0.859252</td>\n",
       "    </tr>\n",
       "    <tr>\n",
       "      <th>104bbb2e-4f10-4b0c-a0d4-e60839487c68</th>\n",
       "      <td>0.0</td>\n",
       "      <td>0.004843</td>\n",
       "    </tr>\n",
       "    <tr>\n",
       "      <th>1152d443-ea4d-467e-beca-d8a26675aaee</th>\n",
       "      <td>0.0</td>\n",
       "      <td>0.005762</td>\n",
       "    </tr>\n",
       "    <tr>\n",
       "      <th>12513701-85b5-4278-bd15-dafae072d599</th>\n",
       "      <td>2.0</td>\n",
       "      <td>1.302981</td>\n",
       "    </tr>\n",
       "    <tr>\n",
       "      <th>14aaada9-e4cb-47c1-92ef-4059f2201d6f</th>\n",
       "      <td>0.0</td>\n",
       "      <td>0.022213</td>\n",
       "    </tr>\n",
       "    <tr>\n",
       "      <th>14d77c03-59d5-4d07-90fa-214e3fc03dbf</th>\n",
       "      <td>1.0</td>\n",
       "      <td>0.845612</td>\n",
       "    </tr>\n",
       "    <tr>\n",
       "      <th>1533bf36-ab80-492f-bd2d-2d8847cbba4f</th>\n",
       "      <td>0.0</td>\n",
       "      <td>0.440307</td>\n",
       "    </tr>\n",
       "    <tr>\n",
       "      <th>184ffe2e-f6c6-414d-ae43-d01bcd5568d9</th>\n",
       "      <td>0.0</td>\n",
       "      <td>1.021380</td>\n",
       "    </tr>\n",
       "    <tr>\n",
       "      <th>19f6eb5f-b63a-4810-895b-778808964406</th>\n",
       "      <td>0.0</td>\n",
       "      <td>0.335784</td>\n",
       "    </tr>\n",
       "    <tr>\n",
       "      <th>1c3dda9b-984c-43b2-9686-0316e2254393</th>\n",
       "      <td>0.0</td>\n",
       "      <td>1.220073</td>\n",
       "    </tr>\n",
       "    <tr>\n",
       "      <th>1d065c00-51a4-434e-8864-17af7d6383b0</th>\n",
       "      <td>0.0</td>\n",
       "      <td>0.173563</td>\n",
       "    </tr>\n",
       "    <tr>\n",
       "      <th>1e0f16d8-3303-4c39-930b-ab3fff2c55cc</th>\n",
       "      <td>1.0</td>\n",
       "      <td>1.262656</td>\n",
       "    </tr>\n",
       "    <tr>\n",
       "      <th>1fc663cc-a166-4188-823b-1dc45bc2b71a</th>\n",
       "      <td>1.0</td>\n",
       "      <td>0.670384</td>\n",
       "    </tr>\n",
       "    <tr>\n",
       "      <th>2014a889-510d-41f3-aa9a-e247313f878a</th>\n",
       "      <td>0.0</td>\n",
       "      <td>0.651462</td>\n",
       "    </tr>\n",
       "    <tr>\n",
       "      <th>20f1dbcd-0954-4bfd-ad92-9bac1b15beb0</th>\n",
       "      <td>2.0</td>\n",
       "      <td>1.115996</td>\n",
       "    </tr>\n",
       "    <tr>\n",
       "      <th>24884bf4-5dc4-4082-9eff-07350ae9023c</th>\n",
       "      <td>0.0</td>\n",
       "      <td>1.428923</td>\n",
       "    </tr>\n",
       "    <tr>\n",
       "      <th>252e7ed9-59c8-4e53-bd42-dbe33dce7513</th>\n",
       "      <td>1.0</td>\n",
       "      <td>1.290202</td>\n",
       "    </tr>\n",
       "    <tr>\n",
       "      <th>259621b8-62d3-4e99-a2e0-7f1792f63847</th>\n",
       "      <td>2.0</td>\n",
       "      <td>1.241595</td>\n",
       "    </tr>\n",
       "    <tr>\n",
       "      <th>278a1441-2e3a-467d-81c5-143e0298454b</th>\n",
       "      <td>3.0</td>\n",
       "      <td>1.195969</td>\n",
       "    </tr>\n",
       "    <tr>\n",
       "      <th>28fa7e74-ba03-46bc-b6da-88261da5086d</th>\n",
       "      <td>1.0</td>\n",
       "      <td>0.656094</td>\n",
       "    </tr>\n",
       "    <tr>\n",
       "      <th>...</th>\n",
       "      <td>...</td>\n",
       "      <td>...</td>\n",
       "    </tr>\n",
       "    <tr>\n",
       "      <th>ce171451-559e-4924-9136-940fec31766f</th>\n",
       "      <td>0.0</td>\n",
       "      <td>0.032335</td>\n",
       "    </tr>\n",
       "    <tr>\n",
       "      <th>ce1b6de8-fa7f-4051-9549-391178456fd1</th>\n",
       "      <td>0.0</td>\n",
       "      <td>0.510267</td>\n",
       "    </tr>\n",
       "    <tr>\n",
       "      <th>d1a9294c-05ad-4eac-9915-7052c2ad98a3</th>\n",
       "      <td>2.0</td>\n",
       "      <td>1.375360</td>\n",
       "    </tr>\n",
       "    <tr>\n",
       "      <th>d4ad615e-a261-43f0-b4b9-ea35bc5bcd9b</th>\n",
       "      <td>2.0</td>\n",
       "      <td>1.380939</td>\n",
       "    </tr>\n",
       "    <tr>\n",
       "      <th>d8e85598-a061-42ce-82dd-632fcd8ae2b0</th>\n",
       "      <td>0.0</td>\n",
       "      <td>1.377425</td>\n",
       "    </tr>\n",
       "    <tr>\n",
       "      <th>d959a560-f97c-4a13-9221-4cf32ca36e70</th>\n",
       "      <td>1.0</td>\n",
       "      <td>1.309381</td>\n",
       "    </tr>\n",
       "    <tr>\n",
       "      <th>da8bad50-109e-471e-a1d7-768b30745bd4</th>\n",
       "      <td>0.0</td>\n",
       "      <td>0.031392</td>\n",
       "    </tr>\n",
       "    <tr>\n",
       "      <th>daa03174-d54a-463a-bb2a-08408da3f29d</th>\n",
       "      <td>0.0</td>\n",
       "      <td>0.231380</td>\n",
       "    </tr>\n",
       "    <tr>\n",
       "      <th>dab65db3-0144-4d4c-8522-45799bb52d23</th>\n",
       "      <td>2.0</td>\n",
       "      <td>0.945564</td>\n",
       "    </tr>\n",
       "    <tr>\n",
       "      <th>daf6924f-5294-4988-99a6-a2fc7bc5bd22</th>\n",
       "      <td>1.0</td>\n",
       "      <td>1.106303</td>\n",
       "    </tr>\n",
       "    <tr>\n",
       "      <th>dcd5955e-3e94-40f2-818b-eda0fd33a76d</th>\n",
       "      <td>0.0</td>\n",
       "      <td>0.139222</td>\n",
       "    </tr>\n",
       "    <tr>\n",
       "      <th>dde97977-d155-4f07-8a47-6a318bd530eb</th>\n",
       "      <td>3.0</td>\n",
       "      <td>1.131448</td>\n",
       "    </tr>\n",
       "    <tr>\n",
       "      <th>debdee61-f8bc-4302-b2f1-037b5573f0ea</th>\n",
       "      <td>0.0</td>\n",
       "      <td>0.481294</td>\n",
       "    </tr>\n",
       "    <tr>\n",
       "      <th>df088ad5-4ab2-43c2-b9a2-7f7c09784f8e</th>\n",
       "      <td>0.0</td>\n",
       "      <td>0.000000</td>\n",
       "    </tr>\n",
       "    <tr>\n",
       "      <th>e6d0a48d-4d13-4f7f-bf20-2f14aacc4fab</th>\n",
       "      <td>0.0</td>\n",
       "      <td>0.897707</td>\n",
       "    </tr>\n",
       "    <tr>\n",
       "      <th>e774603c-5a3c-4f72-8095-4a2162da6538</th>\n",
       "      <td>0.0</td>\n",
       "      <td>0.025165</td>\n",
       "    </tr>\n",
       "    <tr>\n",
       "      <th>ea692bdf-3b53-41d9-a799-d24100ff63e1</th>\n",
       "      <td>1.0</td>\n",
       "      <td>1.250864</td>\n",
       "    </tr>\n",
       "    <tr>\n",
       "      <th>ecbb1910-d235-4692-a389-096187cf0b5c</th>\n",
       "      <td>0.0</td>\n",
       "      <td>0.148326</td>\n",
       "    </tr>\n",
       "    <tr>\n",
       "      <th>ed7c3093-6fdf-446c-8cd8-312ee892835b</th>\n",
       "      <td>1.0</td>\n",
       "      <td>1.202550</td>\n",
       "    </tr>\n",
       "    <tr>\n",
       "      <th>ee5a0967-a645-49b4-a70b-842c5985ce52</th>\n",
       "      <td>0.0</td>\n",
       "      <td>0.005599</td>\n",
       "    </tr>\n",
       "    <tr>\n",
       "      <th>ef4b3a31-2744-4bec-996f-5c1861478c30</th>\n",
       "      <td>0.0</td>\n",
       "      <td>1.287751</td>\n",
       "    </tr>\n",
       "    <tr>\n",
       "      <th>f03348c5-b599-4e99-9d8c-fff7da880d5c</th>\n",
       "      <td>0.0</td>\n",
       "      <td>0.012237</td>\n",
       "    </tr>\n",
       "    <tr>\n",
       "      <th>f59c374f-b39d-48d6-aef9-2f42ca3a67e4</th>\n",
       "      <td>1.0</td>\n",
       "      <td>1.120628</td>\n",
       "    </tr>\n",
       "    <tr>\n",
       "      <th>f59d2b7c-c6d2-4726-a244-f33a15c8f2d5</th>\n",
       "      <td>0.0</td>\n",
       "      <td>1.193118</td>\n",
       "    </tr>\n",
       "    <tr>\n",
       "      <th>f7a6bb71-dc3c-44f5-9d01-71b13ee5ca84</th>\n",
       "      <td>3.0</td>\n",
       "      <td>0.918060</td>\n",
       "    </tr>\n",
       "    <tr>\n",
       "      <th>f8bf28f8-224b-474e-afe4-7a5392e11c87</th>\n",
       "      <td>0.0</td>\n",
       "      <td>0.001240</td>\n",
       "    </tr>\n",
       "    <tr>\n",
       "      <th>f948fdaa-cf2e-4cc5-af68-4bd264c565bf</th>\n",
       "      <td>2.0</td>\n",
       "      <td>0.558525</td>\n",
       "    </tr>\n",
       "    <tr>\n",
       "      <th>fd9af49c-2fae-43d4-8fd9-bc4009882ce6</th>\n",
       "      <td>0.0</td>\n",
       "      <td>0.260174</td>\n",
       "    </tr>\n",
       "    <tr>\n",
       "      <th>fda59d04-0d73-4c26-be1d-10ea691cf9df</th>\n",
       "      <td>0.0</td>\n",
       "      <td>1.271663</td>\n",
       "    </tr>\n",
       "    <tr>\n",
       "      <th>ff2dd563-e9aa-4e67-a663-01497751973c</th>\n",
       "      <td>1.0</td>\n",
       "      <td>0.794540</td>\n",
       "    </tr>\n",
       "  </tbody>\n",
       "</table>\n",
       "<p>183 rows × 2 columns</p>\n",
       "</div>"
      ],
      "text/plain": [
       "                                      dyskinesia  dys_pred\n",
       "measurement_id                                            \n",
       "0159954c-1bd2-47a6-9e6f-94f8d179b712         0.0  0.033895\n",
       "026064df-af76-4b9f-b7b0-99f5bb6175ad         0.0  0.127404\n",
       "046c7976-ca14-4a6c-8a58-3e6e80b26bbf         2.0  0.973406\n",
       "05a3b9dd-bbe4-4c4d-8571-1c692640aead         0.0  0.008221\n",
       "062754c2-b933-4307-a500-863ffdf6bebb         0.0  0.659635\n",
       "06825584-d42a-46d2-804c-7ad75b2304c8         0.0  0.553993\n",
       "06e3ae00-795a-4c42-bf37-9d9269dea7c0         0.0  1.178702\n",
       "083e96ba-83cc-439d-9da0-c7691f635f7b         0.0  1.239369\n",
       "09cb85b9-9850-42de-9422-1511948e8e80         1.0  1.134460\n",
       "0f5bc0ae-118b-4338-afd1-653fc5bbd3a3         1.0  0.558037\n",
       "0f9e1c7a-8c74-4d8b-98e4-f8ec3e68d35c         0.0  0.859252\n",
       "104bbb2e-4f10-4b0c-a0d4-e60839487c68         0.0  0.004843\n",
       "1152d443-ea4d-467e-beca-d8a26675aaee         0.0  0.005762\n",
       "12513701-85b5-4278-bd15-dafae072d599         2.0  1.302981\n",
       "14aaada9-e4cb-47c1-92ef-4059f2201d6f         0.0  0.022213\n",
       "14d77c03-59d5-4d07-90fa-214e3fc03dbf         1.0  0.845612\n",
       "1533bf36-ab80-492f-bd2d-2d8847cbba4f         0.0  0.440307\n",
       "184ffe2e-f6c6-414d-ae43-d01bcd5568d9         0.0  1.021380\n",
       "19f6eb5f-b63a-4810-895b-778808964406         0.0  0.335784\n",
       "1c3dda9b-984c-43b2-9686-0316e2254393         0.0  1.220073\n",
       "1d065c00-51a4-434e-8864-17af7d6383b0         0.0  0.173563\n",
       "1e0f16d8-3303-4c39-930b-ab3fff2c55cc         1.0  1.262656\n",
       "1fc663cc-a166-4188-823b-1dc45bc2b71a         1.0  0.670384\n",
       "2014a889-510d-41f3-aa9a-e247313f878a         0.0  0.651462\n",
       "20f1dbcd-0954-4bfd-ad92-9bac1b15beb0         2.0  1.115996\n",
       "24884bf4-5dc4-4082-9eff-07350ae9023c         0.0  1.428923\n",
       "252e7ed9-59c8-4e53-bd42-dbe33dce7513         1.0  1.290202\n",
       "259621b8-62d3-4e99-a2e0-7f1792f63847         2.0  1.241595\n",
       "278a1441-2e3a-467d-81c5-143e0298454b         3.0  1.195969\n",
       "28fa7e74-ba03-46bc-b6da-88261da5086d         1.0  0.656094\n",
       "...                                          ...       ...\n",
       "ce171451-559e-4924-9136-940fec31766f         0.0  0.032335\n",
       "ce1b6de8-fa7f-4051-9549-391178456fd1         0.0  0.510267\n",
       "d1a9294c-05ad-4eac-9915-7052c2ad98a3         2.0  1.375360\n",
       "d4ad615e-a261-43f0-b4b9-ea35bc5bcd9b         2.0  1.380939\n",
       "d8e85598-a061-42ce-82dd-632fcd8ae2b0         0.0  1.377425\n",
       "d959a560-f97c-4a13-9221-4cf32ca36e70         1.0  1.309381\n",
       "da8bad50-109e-471e-a1d7-768b30745bd4         0.0  0.031392\n",
       "daa03174-d54a-463a-bb2a-08408da3f29d         0.0  0.231380\n",
       "dab65db3-0144-4d4c-8522-45799bb52d23         2.0  0.945564\n",
       "daf6924f-5294-4988-99a6-a2fc7bc5bd22         1.0  1.106303\n",
       "dcd5955e-3e94-40f2-818b-eda0fd33a76d         0.0  0.139222\n",
       "dde97977-d155-4f07-8a47-6a318bd530eb         3.0  1.131448\n",
       "debdee61-f8bc-4302-b2f1-037b5573f0ea         0.0  0.481294\n",
       "df088ad5-4ab2-43c2-b9a2-7f7c09784f8e         0.0  0.000000\n",
       "e6d0a48d-4d13-4f7f-bf20-2f14aacc4fab         0.0  0.897707\n",
       "e774603c-5a3c-4f72-8095-4a2162da6538         0.0  0.025165\n",
       "ea692bdf-3b53-41d9-a799-d24100ff63e1         1.0  1.250864\n",
       "ecbb1910-d235-4692-a389-096187cf0b5c         0.0  0.148326\n",
       "ed7c3093-6fdf-446c-8cd8-312ee892835b         1.0  1.202550\n",
       "ee5a0967-a645-49b4-a70b-842c5985ce52         0.0  0.005599\n",
       "ef4b3a31-2744-4bec-996f-5c1861478c30         0.0  1.287751\n",
       "f03348c5-b599-4e99-9d8c-fff7da880d5c         0.0  0.012237\n",
       "f59c374f-b39d-48d6-aef9-2f42ca3a67e4         1.0  1.120628\n",
       "f59d2b7c-c6d2-4726-a244-f33a15c8f2d5         0.0  1.193118\n",
       "f7a6bb71-dc3c-44f5-9d01-71b13ee5ca84         3.0  0.918060\n",
       "f8bf28f8-224b-474e-afe4-7a5392e11c87         0.0  0.001240\n",
       "f948fdaa-cf2e-4cc5-af68-4bd264c565bf         2.0  0.558525\n",
       "fd9af49c-2fae-43d4-8fd9-bc4009882ce6         0.0  0.260174\n",
       "fda59d04-0d73-4c26-be1d-10ea691cf9df         0.0  1.271663\n",
       "ff2dd563-e9aa-4e67-a663-01497751973c         1.0  0.794540\n",
       "\n",
       "[183 rows x 2 columns]"
      ]
     },
     "execution_count": 43,
     "metadata": {},
     "output_type": "execute_result"
    }
   ],
   "source": [
    "y_valid[[\"measurement_id\", \"dyskinesia\", \"dys_pred\"]].groupby(\"measurement_id\").mean()"
   ]
  },
  {
   "cell_type": "code",
   "execution_count": 45,
   "metadata": {},
   "outputs": [],
   "source": [
    "import seaborn as sns"
   ]
  },
  {
   "cell_type": "code",
   "execution_count": 46,
   "metadata": {},
   "outputs": [
    {
     "data": {
      "text/plain": [
       "<matplotlib.axes._subplots.AxesSubplot at 0x7fe72190bf98>"
      ]
     },
     "execution_count": 46,
     "metadata": {},
     "output_type": "execute_result"
    },
    {
     "data": {
      "image/png": "[encoded data removed]",
      "text/plain": [
       "<Figure size 432x288 with 1 Axes>"
      ]
     },
     "metadata": {
      "needs_background": "light"
     },
     "output_type": "display_data"
    }
   ],
   "source": [
    "sns.violinplot(x=\"dyskinesia\", y=\"dys_pred\", data=y_valid[[\"measurement_id\", \"dyskinesia\", \"dys_pred\"]].groupby(\"measurement_id\").mean())"
   ]
  },
  {
   "cell_type": "code",
   "execution_count": 49,
   "metadata": {},
   "outputs": [
    {
     "data": {
      "text/plain": [
       "<matplotlib.axes._subplots.AxesSubplot at 0x7fe721664048>"
      ]
     },
     "execution_count": 49,
     "metadata": {},
     "output_type": "execute_result"
    },
    {
     "data": {
      "image/png": "[encoded data removed]",
      "text/plain": [
       "<Figure size 432x288 with 1 Axes>"
      ]
     },
     "metadata": {
      "needs_background": "light"
     },
     "output_type": "display_data"
    }
   ],
   "source": [
    "sns.violinplot(x=\"on_off\", y=\"on_off_pred\", data=y_valid[[\"measurement_id\", \"on_off\", \"on_off_pred\"]].groupby(\"measurement_id\").mean())"
   ]
  },
  {
   "cell_type": "code",
   "execution_count": 51,
   "metadata": {},
   "outputs": [],
   "source": [
    "tmp = y_valid[[\"measurement_id\", \"dyskinesia\", \"dys_pred\"]].groupby(\"measurement_id\").mean()"
   ]
  },
  {
   "cell_type": "code",
   "execution_count": 53,
   "metadata": {},
   "outputs": [
    {
     "data": {
      "text/plain": [
       "0.5668351230541496"
      ]
     },
     "execution_count": 53,
     "metadata": {},
     "output_type": "execute_result"
    }
   ],
   "source": [
    "((tmp.dyskinesia-tmp.dys_pred)**2).mean()"
   ]
  },
  {
   "cell_type": "code",
   "execution_count": 48,
   "metadata": {},
   "outputs": [
    {
     "data": {
      "text/plain": [
       "<matplotlib.axes._subplots.AxesSubplot at 0x7fe7216de0b8>"
      ]
     },
     "execution_count": 48,
     "metadata": {},
     "output_type": "execute_result"
    },
    {
     "data": {
      "image/png": "[encoded data removed]",
      "text/plain": [
       "<Figure size 432x288 with 1 Axes>"
      ]
     },
     "metadata": {
      "needs_background": "light"
     },
     "output_type": "display_data"
    }
   ],
   "source": [
    "sns.violinplot(x=\"tremor\", y=\"trem_pred\", data=y_valid[[\"measurement_id\", \"tremor\", \"trem_pred\"]].groupby(\"measurement_id\").mean())"
   ]
  },
  {
   "cell_type": "markdown",
   "metadata": {},
   "source": [
    "## run on cispd eval set"
   ]
  },
  {
   "cell_type": "code",
   "execution_count": 82,
   "metadata": {},
   "outputs": [],
   "source": [
    "allResults = pkl.load( open(\"/n/scratch2/ms994/cispdEvalset.pkl\", \"rb\"))"
   ]
  },
  {
   "cell_type": "code",
   "execution_count": 84,
   "metadata": {},
   "outputs": [],
   "source": [
    "x = np.array([res[0] for res in allResults])"
   ]
  },
  {
   "cell_type": "code",
   "execution_count": 105,
   "metadata": {},
   "outputs": [],
   "source": [
    "y = [res[1] for res in allResults]"
   ]
  },
  {
   "cell_type": "code",
   "execution_count": 106,
   "metadata": {},
   "outputs": [
    {
     "data": {
      "text/plain": [
       "68136"
      ]
     },
     "execution_count": 106,
     "metadata": {},
     "output_type": "execute_result"
    }
   ],
   "source": [
    "len(y)"
   ]
  },
  {
   "cell_type": "code",
   "execution_count": 108,
   "metadata": {},
   "outputs": [],
   "source": [
    "y = np.array(y)"
   ]
  },
  {
   "cell_type": "code",
   "execution_count": 88,
   "metadata": {},
   "outputs": [],
   "source": [
    "x_std = x.std(axis=1)"
   ]
  },
  {
   "cell_type": "code",
   "execution_count": 89,
   "metadata": {},
   "outputs": [],
   "source": [
    "x_std = np.nan_to_num(x_std)"
   ]
  },
  {
   "cell_type": "code",
   "execution_count": 91,
   "metadata": {},
   "outputs": [],
   "source": [
    "mask = ~((x_std < 0.05).all(1))"
   ]
  },
  {
   "cell_type": "code",
   "execution_count": 15,
   "metadata": {},
   "outputs": [
    {
     "data": {
      "text/plain": [
       "(65545, 1501, 3)"
      ]
     },
     "execution_count": 15,
     "metadata": {},
     "output_type": "execute_result"
    }
   ],
   "source": [
    "x[mask].shape"
   ]
  },
  {
   "cell_type": "code",
   "execution_count": 93,
   "metadata": {},
   "outputs": [],
   "source": [
    "x = x[mask]"
   ]
  },
  {
   "cell_type": "code",
   "execution_count": 109,
   "metadata": {},
   "outputs": [],
   "source": [
    "y = y[mask]"
   ]
  },
  {
   "cell_type": "code",
   "execution_count": 96,
   "metadata": {},
   "outputs": [],
   "source": [
    "x = x[:,:1500]"
   ]
  },
  {
   "cell_type": "code",
   "execution_count": 97,
   "metadata": {},
   "outputs": [],
   "source": [
    "model = keras.models.load_model(\"/n/scratch2/ms994/cnnlstm3.h5\")"
   ]
  },
  {
   "cell_type": "code",
   "execution_count": 100,
   "metadata": {},
   "outputs": [],
   "source": [
    "y_pred = model.predict(x)"
   ]
  },
  {
   "cell_type": "code",
   "execution_count": 111,
   "metadata": {},
   "outputs": [
    {
     "data": {
      "text/plain": [
       "(42718, 42718, 3)"
      ]
     },
     "execution_count": 111,
     "metadata": {},
     "output_type": "execute_result"
    }
   ],
   "source": [
    "len(x), len(y), len(y_pred)"
   ]
  },
  {
   "cell_type": "code",
   "execution_count": 115,
   "metadata": {},
   "outputs": [],
   "source": [
    "y_pred = pd.DataFrame(np.array(y_pred).reshape(3,-1))"
   ]
  },
  {
   "cell_type": "code",
   "execution_count": 118,
   "metadata": {},
   "outputs": [],
   "source": [
    "y_pred = y_pred.T"
   ]
  },
  {
   "cell_type": "code",
   "execution_count": 120,
   "metadata": {},
   "outputs": [],
   "source": [
    "y_pred.columns = [\"on_off\", \"dyskinesia\", \"tremor\"]"
   ]
  },
  {
   "cell_type": "code",
   "execution_count": 132,
   "metadata": {},
   "outputs": [],
   "source": [
    "m_id = [y_sing[-40:-4] for y_sing in y]"
   ]
  },
  {
   "cell_type": "code",
   "execution_count": 133,
   "metadata": {},
   "outputs": [],
   "source": [
    "y_pred.loc[:, \"m_id\"] = m_id"
   ]
  },
  {
   "cell_type": "code",
   "execution_count": 136,
   "metadata": {},
   "outputs": [],
   "source": [
    "y_pred.groupby(\"m_id\").mean().to_csv(\"/home/ms994/cispd_pred.csv\")"
   ]
  },
  {
   "cell_type": "markdown",
   "metadata": {},
   "source": [
    "# train on realpd"
   ]
  },
  {
   "cell_type": "code",
   "execution_count": 168,
   "metadata": {},
   "outputs": [],
   "source": [
    "allResults = pkl.load(open(\"/n/scratch2/ms994/realPDdata.pkl\", \"rb\"))"
   ]
  },
  {
   "cell_type": "code",
   "execution_count": 192,
   "metadata": {},
   "outputs": [],
   "source": [
    "import pandas as pd\n",
    "from sklearn.model_selection import train_test_split\n",
    "labels =  pd.read_csv(\"/home/ms994/beat_pd/data/real-pd/data_labels/REAL-PD_Training_Data_IDs_Labels.csv\")"
   ]
  },
  {
   "cell_type": "code",
   "execution_count": 194,
   "metadata": {},
   "outputs": [],
   "source": [
    "train_mid, test_mid = train_test_split(labels.measurement_id.unique(), random_state=1)"
   ]
  },
  {
   "cell_type": "code",
   "execution_count": 195,
   "metadata": {},
   "outputs": [],
   "source": [
    "train_mid, valid_mid = train_test_split(train_mid, random_state=1)"
   ]
  },
  {
   "cell_type": "code",
   "execution_count": 196,
   "metadata": {},
   "outputs": [],
   "source": [
    "all_mid = sorted(labels.measurement_id)"
   ]
  },
  {
   "cell_type": "code",
   "execution_count": 197,
   "metadata": {},
   "outputs": [],
   "source": [
    "train_indices  = [all_mid.index(train_m) for train_m in train_mid]\n",
    "valid_indices  = [all_mid.index(train_m) for train_m in valid_mid]\n",
    "test_indices  = [all_mid.index(train_m) for train_m in test_mid]"
   ]
  },
  {
   "cell_type": "code",
   "execution_count": 198,
   "metadata": {},
   "outputs": [],
   "source": [
    "x = np.array([res[0] for res in allResults])"
   ]
  },
  {
   "cell_type": "code",
   "execution_count": 199,
   "metadata": {},
   "outputs": [],
   "source": [
    "y = [res[1] for res in allResults]"
   ]
  },
  {
   "cell_type": "code",
   "execution_count": 200,
   "metadata": {},
   "outputs": [],
   "source": [
    "y = pd.concat(y)"
   ]
  },
  {
   "cell_type": "code",
   "execution_count": 201,
   "metadata": {},
   "outputs": [],
   "source": [
    "x_std = x.std(axis=1)"
   ]
  },
  {
   "cell_type": "code",
   "execution_count": 202,
   "metadata": {},
   "outputs": [],
   "source": [
    "x_std = np.nan_to_num(x_std)"
   ]
  },
  {
   "cell_type": "code",
   "execution_count": 203,
   "metadata": {},
   "outputs": [],
   "source": [
    "mask = ~(pd.isnull(y[\"tremor\"]) | pd.isnull(y[\"dyskinesia\"]) | pd.isnull(y[\"on_off\"]) | (x_std < 0.05).all(1))"
   ]
  },
  {
   "cell_type": "code",
   "execution_count": 204,
   "metadata": {},
   "outputs": [
    {
     "data": {
      "text/plain": [
       "(58478, 1501, 3)"
      ]
     },
     "execution_count": 204,
     "metadata": {},
     "output_type": "execute_result"
    }
   ],
   "source": [
    "x.shape"
   ]
  },
  {
   "cell_type": "code",
   "execution_count": 205,
   "metadata": {},
   "outputs": [
    {
     "data": {
      "text/plain": [
       "(4427, 1501, 3)"
      ]
     },
     "execution_count": 205,
     "metadata": {},
     "output_type": "execute_result"
    }
   ],
   "source": [
    "x[mask].shape"
   ]
  },
  {
   "cell_type": "code",
   "execution_count": 206,
   "metadata": {},
   "outputs": [],
   "source": [
    "x = x[mask]"
   ]
  },
  {
   "cell_type": "code",
   "execution_count": 207,
   "metadata": {},
   "outputs": [],
   "source": [
    "y = y[mask]"
   ]
  },
  {
   "cell_type": "code",
   "execution_count": 208,
   "metadata": {},
   "outputs": [],
   "source": [
    "x = x[:,:1500]"
   ]
  },
  {
   "cell_type": "code",
   "execution_count": 209,
   "metadata": {},
   "outputs": [],
   "source": [
    "all_m_id = sorted(y.measurement_id.unique())"
   ]
  },
  {
   "cell_type": "code",
   "execution_count": 210,
   "metadata": {},
   "outputs": [],
   "source": [
    "train_mask = y.measurement_id.isin(train_mid) "
   ]
  },
  {
   "cell_type": "code",
   "execution_count": 211,
   "metadata": {},
   "outputs": [],
   "source": [
    "y_train = y[train_mask]"
   ]
  },
  {
   "cell_type": "code",
   "execution_count": 212,
   "metadata": {
    "scrolled": true
   },
   "outputs": [],
   "source": [
    "x_train = x[train_mask]"
   ]
  },
  {
   "cell_type": "code",
   "execution_count": 213,
   "metadata": {},
   "outputs": [
    {
     "data": {
      "text/plain": [
       "(2131, 1500, 3)"
      ]
     },
     "execution_count": 213,
     "metadata": {},
     "output_type": "execute_result"
    }
   ],
   "source": [
    "x_train.shape"
   ]
  },
  {
   "cell_type": "code",
   "execution_count": 214,
   "metadata": {},
   "outputs": [],
   "source": [
    "valid_mask = y.measurement_id.isin(valid_mid)"
   ]
  },
  {
   "cell_type": "code",
   "execution_count": 215,
   "metadata": {},
   "outputs": [],
   "source": [
    "y_valid = y[valid_mask]\n",
    "x_valid = x[valid_mask]"
   ]
  },
  {
   "cell_type": "markdown",
   "metadata": {},
   "source": [
    "## train on realpd"
   ]
  },
  {
   "cell_type": "code",
   "execution_count": 216,
   "metadata": {},
   "outputs": [],
   "source": [
    "import keras\n",
    "num_cnn_layers = 5\n",
    "num_lstm_layers = 1\n",
    "num_lin_layers = 2\n",
    "inputLayer = keras.layers.Input((1500, 3))\n",
    "x = inputLayer\n",
    "\n",
    "\n",
    "for i in range(num_cnn_layers):\n",
    "    x = keras.layers.BatchNormalization()(x)\n",
    "    x = keras.layers.Conv1D(16, (3,), padding=\"same\")(x)\n",
    "    x = keras.layers.LeakyReLU()(x)\n",
    "    x = keras.layers.MaxPool1D((2,))(x)\n",
    "for j in range(num_lstm_layers):\n",
    "    x = keras.layers.BatchNormalization()(x)\n",
    "    x = keras.layers.CuDNNLSTM(256, return_sequences=True)(x)\n",
    "    x = keras.layers.LeakyReLU()(x)\n",
    "\n",
    "\n",
    "x = keras.layers.Flatten(name=\"flatten_encoder_lstm\")(x)\n",
    "x = keras.layers.Dense(200)(x)\n",
    "x = keras.layers.LeakyReLU()(x)\n",
    "x = keras.layers.Dropout(0.5)(x)\n",
    "\n",
    "x_shared_flattened = x\n",
    "\n",
    "#one_off\n",
    "x = x_shared_flattened \n",
    "for k in range(num_lin_layers):\n",
    "    x = keras.layers.BatchNormalization()(x)\n",
    "    x = keras.layers.Dense(256)(x)\n",
    "    x = keras.layers.LeakyReLU()(x)\n",
    "    x = keras.layers.Dropout(0.5)(x)\n",
    "x = keras.layers.Dense(1)(x)\n",
    "x_on_off = keras.layers.ReLU(name=\"on_off\", max_value=4)(x)\n",
    "\n",
    "#tremor\n",
    "x = x_shared_flattened \n",
    "for k in range(num_lin_layers):\n",
    "    x = keras.layers.BatchNormalization()(x)\n",
    "    x = keras.layers.Dense(100)(x)\n",
    "    x = keras.layers.LeakyReLU()(x)\n",
    "    x = keras.layers.Dropout(0.5)(x)\n",
    "x = keras.layers.Dense(1)(x)\n",
    "x_dyskinesia = keras.layers.ReLU(name=\"dyskinesia\", max_value=4)(x)\n",
    "\n",
    "#montage classify\n",
    "x = x_shared_flattened \n",
    "for k in range(num_lin_layers):\n",
    "    x = keras.layers.BatchNormalization()(x)\n",
    "    x = keras.layers.Dense(100)(x)\n",
    "    x = keras.layers.LeakyReLU()(x)\n",
    "    x = keras.layers.Dropout(0.5)(x)\n",
    "x = keras.layers.Dense(1)(x)\n",
    "x_tremor = keras.layers.ReLU(name=\"tremor\", max_value=4)(x)\n",
    "\n",
    "\n",
    "\n",
    "model = keras.Model(inputs=inputLayer, outputs=[x_on_off, x_dyskinesia, x_tremor])"
   ]
  },
  {
   "cell_type": "code",
   "execution_count": 217,
   "metadata": {},
   "outputs": [
    {
     "name": "stdout",
     "output_type": "stream",
     "text": [
      "__________________________________________________________________________________________________\n",
      "Layer (type)                    Output Shape         Param #     Connected to                     \n",
      "==================================================================================================\n",
      "input_12 (InputLayer)           (None, 1500, 3)      0                                            \n",
      "__________________________________________________________________________________________________\n",
      "batch_normalization_93 (BatchNo (None, 1500, 3)      12          input_12[0][0]                   \n",
      "__________________________________________________________________________________________________\n",
      "conv1d_56 (Conv1D)              (None, 1500, 16)     160         batch_normalization_93[0][0]     \n",
      "__________________________________________________________________________________________________\n",
      "leaky_re_lu_104 (LeakyReLU)     (None, 1500, 16)     0           conv1d_56[0][0]                  \n",
      "__________________________________________________________________________________________________\n",
      "max_pooling1d_56 (MaxPooling1D) (None, 750, 16)      0           leaky_re_lu_104[0][0]            \n",
      "__________________________________________________________________________________________________\n",
      "batch_normalization_94 (BatchNo (None, 750, 16)      64          max_pooling1d_56[0][0]           \n",
      "__________________________________________________________________________________________________\n",
      "conv1d_57 (Conv1D)              (None, 750, 16)      784         batch_normalization_94[0][0]     \n",
      "__________________________________________________________________________________________________\n",
      "leaky_re_lu_105 (LeakyReLU)     (None, 750, 16)      0           conv1d_57[0][0]                  \n",
      "__________________________________________________________________________________________________\n",
      "max_pooling1d_57 (MaxPooling1D) (None, 375, 16)      0           leaky_re_lu_105[0][0]            \n",
      "__________________________________________________________________________________________________\n",
      "batch_normalization_95 (BatchNo (None, 375, 16)      64          max_pooling1d_57[0][0]           \n",
      "__________________________________________________________________________________________________\n",
      "conv1d_58 (Conv1D)              (None, 375, 16)      784         batch_normalization_95[0][0]     \n",
      "__________________________________________________________________________________________________\n",
      "leaky_re_lu_106 (LeakyReLU)     (None, 375, 16)      0           conv1d_58[0][0]                  \n",
      "__________________________________________________________________________________________________\n",
      "max_pooling1d_58 (MaxPooling1D) (None, 187, 16)      0           leaky_re_lu_106[0][0]            \n",
      "__________________________________________________________________________________________________\n",
      "batch_normalization_96 (BatchNo (None, 187, 16)      64          max_pooling1d_58[0][0]           \n",
      "__________________________________________________________________________________________________\n",
      "conv1d_59 (Conv1D)              (None, 187, 16)      784         batch_normalization_96[0][0]     \n",
      "__________________________________________________________________________________________________\n",
      "leaky_re_lu_107 (LeakyReLU)     (None, 187, 16)      0           conv1d_59[0][0]                  \n",
      "__________________________________________________________________________________________________\n",
      "max_pooling1d_59 (MaxPooling1D) (None, 93, 16)       0           leaky_re_lu_107[0][0]            \n",
      "__________________________________________________________________________________________________\n",
      "batch_normalization_97 (BatchNo (None, 93, 16)       64          max_pooling1d_59[0][0]           \n",
      "__________________________________________________________________________________________________\n",
      "conv1d_60 (Conv1D)              (None, 93, 16)       784         batch_normalization_97[0][0]     \n",
      "__________________________________________________________________________________________________\n",
      "leaky_re_lu_108 (LeakyReLU)     (None, 93, 16)       0           conv1d_60[0][0]                  \n",
      "__________________________________________________________________________________________________\n",
      "max_pooling1d_60 (MaxPooling1D) (None, 46, 16)       0           leaky_re_lu_108[0][0]            \n",
      "__________________________________________________________________________________________________\n",
      "batch_normalization_98 (BatchNo (None, 46, 16)       64          max_pooling1d_60[0][0]           \n",
      "__________________________________________________________________________________________________\n",
      "cu_dnnlstm_12 (CuDNNLSTM)       (None, 46, 256)      280576      batch_normalization_98[0][0]     \n",
      "__________________________________________________________________________________________________\n",
      "leaky_re_lu_109 (LeakyReLU)     (None, 46, 256)      0           cu_dnnlstm_12[0][0]              \n",
      "__________________________________________________________________________________________________\n",
      "flatten_encoder_lstm (Flatten)  (None, 11776)        0           leaky_re_lu_109[0][0]            \n",
      "__________________________________________________________________________________________________\n",
      "dense_51 (Dense)                (None, 200)          2355400     flatten_encoder_lstm[0][0]       \n",
      "__________________________________________________________________________________________________\n",
      "leaky_re_lu_110 (LeakyReLU)     (None, 200)          0           dense_51[0][0]                   \n",
      "__________________________________________________________________________________________________\n",
      "dropout_38 (Dropout)            (None, 200)          0           leaky_re_lu_110[0][0]            \n",
      "__________________________________________________________________________________________________\n",
      "batch_normalization_99 (BatchNo (None, 200)          800         dropout_38[0][0]                 \n",
      "__________________________________________________________________________________________________\n",
      "batch_normalization_101 (BatchN (None, 200)          800         dropout_38[0][0]                 \n",
      "__________________________________________________________________________________________________\n",
      "batch_normalization_103 (BatchN (None, 200)          800         dropout_38[0][0]                 \n",
      "__________________________________________________________________________________________________\n",
      "dense_52 (Dense)                (None, 256)          51456       batch_normalization_99[0][0]     \n",
      "__________________________________________________________________________________________________\n",
      "dense_55 (Dense)                (None, 100)          20100       batch_normalization_101[0][0]    \n",
      "__________________________________________________________________________________________________\n",
      "dense_58 (Dense)                (None, 100)          20100       batch_normalization_103[0][0]    \n",
      "__________________________________________________________________________________________________\n",
      "leaky_re_lu_111 (LeakyReLU)     (None, 256)          0           dense_52[0][0]                   \n",
      "__________________________________________________________________________________________________\n",
      "leaky_re_lu_113 (LeakyReLU)     (None, 100)          0           dense_55[0][0]                   \n",
      "__________________________________________________________________________________________________\n",
      "leaky_re_lu_115 (LeakyReLU)     (None, 100)          0           dense_58[0][0]                   \n",
      "__________________________________________________________________________________________________\n",
      "dropout_39 (Dropout)            (None, 256)          0           leaky_re_lu_111[0][0]            \n",
      "__________________________________________________________________________________________________\n",
      "dropout_41 (Dropout)            (None, 100)          0           leaky_re_lu_113[0][0]            \n",
      "__________________________________________________________________________________________________\n",
      "dropout_43 (Dropout)            (None, 100)          0           leaky_re_lu_115[0][0]            \n",
      "__________________________________________________________________________________________________\n",
      "batch_normalization_100 (BatchN (None, 256)          1024        dropout_39[0][0]                 \n",
      "__________________________________________________________________________________________________\n",
      "batch_normalization_102 (BatchN (None, 100)          400         dropout_41[0][0]                 \n",
      "__________________________________________________________________________________________________\n",
      "batch_normalization_104 (BatchN (None, 100)          400         dropout_43[0][0]                 \n",
      "__________________________________________________________________________________________________\n",
      "dense_53 (Dense)                (None, 256)          65792       batch_normalization_100[0][0]    \n",
      "__________________________________________________________________________________________________\n",
      "dense_56 (Dense)                (None, 100)          10100       batch_normalization_102[0][0]    \n",
      "__________________________________________________________________________________________________\n",
      "dense_59 (Dense)                (None, 100)          10100       batch_normalization_104[0][0]    \n",
      "__________________________________________________________________________________________________\n",
      "leaky_re_lu_112 (LeakyReLU)     (None, 256)          0           dense_53[0][0]                   \n",
      "__________________________________________________________________________________________________\n",
      "leaky_re_lu_114 (LeakyReLU)     (None, 100)          0           dense_56[0][0]                   \n",
      "__________________________________________________________________________________________________\n",
      "leaky_re_lu_116 (LeakyReLU)     (None, 100)          0           dense_59[0][0]                   \n",
      "__________________________________________________________________________________________________\n",
      "dropout_40 (Dropout)            (None, 256)          0           leaky_re_lu_112[0][0]            \n",
      "__________________________________________________________________________________________________\n",
      "dropout_42 (Dropout)            (None, 100)          0           leaky_re_lu_114[0][0]            \n",
      "__________________________________________________________________________________________________\n",
      "dropout_44 (Dropout)            (None, 100)          0           leaky_re_lu_116[0][0]            \n",
      "__________________________________________________________________________________________________\n",
      "dense_54 (Dense)                (None, 1)            257         dropout_40[0][0]                 \n",
      "__________________________________________________________________________________________________\n",
      "dense_57 (Dense)                (None, 1)            101         dropout_42[0][0]                 \n",
      "__________________________________________________________________________________________________\n",
      "dense_60 (Dense)                (None, 1)            101         dropout_44[0][0]                 \n",
      "__________________________________________________________________________________________________\n",
      "on_off (ReLU)                   (None, 1)            0           dense_54[0][0]                   \n",
      "__________________________________________________________________________________________________\n",
      "dyskinesia (ReLU)               (None, 1)            0           dense_57[0][0]                   \n",
      "__________________________________________________________________________________________________\n",
      "tremor (ReLU)                   (None, 1)            0           dense_60[0][0]                   \n",
      "==================================================================================================\n",
      "Total params: 2,821,935\n",
      "Trainable params: 2,819,657\n",
      "Non-trainable params: 2,278\n",
      "__________________________________________________________________________________________________\n"
     ]
    }
   ],
   "source": [
    "model.compile(\"adam\", loss=[\"mean_squared_error\", \"mean_squared_error\",\"mean_squared_error\", ])\n",
    "model.summary()"
   ]
  },
  {
   "cell_type": "code",
   "execution_count": 28,
   "metadata": {},
   "outputs": [],
   "source": [
    "def train_gen():\n",
    "    i = 0\n",
    "    total_num_instances = x_train.shape[0]\n",
    "    while True:\n",
    "        yield x_train[i], y_train.on_off.values[i]"
   ]
  },
  {
   "cell_type": "code",
   "execution_count": 218,
   "metadata": {},
   "outputs": [
    {
     "name": "stdout",
     "output_type": "stream",
     "text": [
      "Train on 2131 samples, validate on 685 samples\n",
      "Epoch 1/200\n",
      "2131/2131 [==============================] - 31s 14ms/step - loss: 1.9349 - on_off_loss: 0.6078 - dyskinesia_loss: 0.4951 - tremor_loss: 0.8320 - val_loss: 2.0685 - val_on_off_loss: 0.4907 - val_dyskinesia_loss: 0.2545 - val_tremor_loss: 1.3233\n",
      "\n",
      "Epoch 00001: val_loss improved from inf to 2.06846, saving model to /n/scratch2/ms994/realpd_cnnlstm3.h5\n",
      "Epoch 2/200\n",
      "2131/2131 [==============================] - 1s 579us/step - loss: 1.3362 - on_off_loss: 0.3937 - dyskinesia_loss: 0.3140 - tremor_loss: 0.6284 - val_loss: 2.0636 - val_on_off_loss: 0.4858 - val_dyskinesia_loss: 0.2586 - val_tremor_loss: 1.3192\n",
      "\n",
      "Epoch 00002: val_loss improved from 2.06846 to 2.06357, saving model to /n/scratch2/ms994/realpd_cnnlstm3.h5\n",
      "Epoch 3/200\n",
      "2131/2131 [==============================] - 1s 537us/step - loss: 1.1551 - on_off_loss: 0.3716 - dyskinesia_loss: 0.2506 - tremor_loss: 0.5329 - val_loss: 2.0653 - val_on_off_loss: 0.4892 - val_dyskinesia_loss: 0.2624 - val_tremor_loss: 1.3136\n",
      "\n",
      "Epoch 00003: val_loss did not improve from 2.06357\n",
      "Epoch 4/200\n",
      "2131/2131 [==============================] - 1s 510us/step - loss: 1.1105 - on_off_loss: 0.3533 - dyskinesia_loss: 0.2525 - tremor_loss: 0.5047 - val_loss: 2.0682 - val_on_off_loss: 0.4880 - val_dyskinesia_loss: 0.2627 - val_tremor_loss: 1.3174\n",
      "\n",
      "Epoch 00004: val_loss did not improve from 2.06357\n",
      "Epoch 5/200\n",
      "2131/2131 [==============================] - 1s 508us/step - loss: 1.1026 - on_off_loss: 0.3653 - dyskinesia_loss: 0.2468 - tremor_loss: 0.4906 - val_loss: 2.0514 - val_on_off_loss: 0.4823 - val_dyskinesia_loss: 0.2628 - val_tremor_loss: 1.3064\n",
      "\n",
      "Epoch 00005: val_loss improved from 2.06357 to 2.05140, saving model to /n/scratch2/ms994/realpd_cnnlstm3.h5\n",
      "Epoch 6/200\n",
      "2131/2131 [==============================] - 1s 536us/step - loss: 1.0770 - on_off_loss: 0.3543 - dyskinesia_loss: 0.2408 - tremor_loss: 0.4820 - val_loss: 2.0502 - val_on_off_loss: 0.4802 - val_dyskinesia_loss: 0.2628 - val_tremor_loss: 1.3072\n",
      "\n",
      "Epoch 00006: val_loss improved from 2.05140 to 2.05015, saving model to /n/scratch2/ms994/realpd_cnnlstm3.h5\n",
      "Epoch 7/200\n",
      "2131/2131 [==============================] - 1s 538us/step - loss: 1.0529 - on_off_loss: 0.3494 - dyskinesia_loss: 0.2418 - tremor_loss: 0.4617 - val_loss: 2.0574 - val_on_off_loss: 0.4840 - val_dyskinesia_loss: 0.2628 - val_tremor_loss: 1.3106\n",
      "\n",
      "Epoch 00007: val_loss did not improve from 2.05015\n",
      "Epoch 8/200\n",
      "2131/2131 [==============================] - 1s 519us/step - loss: 1.0502 - on_off_loss: 0.3483 - dyskinesia_loss: 0.2362 - tremor_loss: 0.4657 - val_loss: 2.0605 - val_on_off_loss: 0.4831 - val_dyskinesia_loss: 0.2628 - val_tremor_loss: 1.3146\n",
      "\n",
      "Epoch 00008: val_loss did not improve from 2.05015\n",
      "Epoch 9/200\n",
      "2131/2131 [==============================] - 1s 515us/step - loss: 1.0222 - on_off_loss: 0.3380 - dyskinesia_loss: 0.2468 - tremor_loss: 0.4375 - val_loss: 2.0648 - val_on_off_loss: 0.4845 - val_dyskinesia_loss: 0.2628 - val_tremor_loss: 1.3175\n",
      "\n",
      "Epoch 00009: val_loss did not improve from 2.05015\n",
      "Epoch 10/200\n",
      "2131/2131 [==============================] - 1s 501us/step - loss: 1.0109 - on_off_loss: 0.3473 - dyskinesia_loss: 0.2417 - tremor_loss: 0.4219 - val_loss: 2.0646 - val_on_off_loss: 0.4849 - val_dyskinesia_loss: 0.2628 - val_tremor_loss: 1.3169\n",
      "\n",
      "Epoch 00010: val_loss did not improve from 2.05015\n",
      "Epoch 11/200\n",
      "2131/2131 [==============================] - 1s 506us/step - loss: 1.0082 - on_off_loss: 0.3303 - dyskinesia_loss: 0.2367 - tremor_loss: 0.4412 - val_loss: 2.0699 - val_on_off_loss: 0.4865 - val_dyskinesia_loss: 0.2628 - val_tremor_loss: 1.3206\n",
      "\n",
      "Epoch 00011: val_loss did not improve from 2.05015\n",
      "Epoch 12/200\n",
      "2131/2131 [==============================] - 1s 502us/step - loss: 0.9832 - on_off_loss: 0.3344 - dyskinesia_loss: 0.2472 - tremor_loss: 0.4016 - val_loss: 2.0725 - val_on_off_loss: 0.4899 - val_dyskinesia_loss: 0.2628 - val_tremor_loss: 1.3199\n",
      "\n",
      "Epoch 00012: val_loss did not improve from 2.05015\n",
      "Epoch 13/200\n",
      "2131/2131 [==============================] - 1s 512us/step - loss: 0.9759 - on_off_loss: 0.3333 - dyskinesia_loss: 0.2454 - tremor_loss: 0.3973 - val_loss: 2.0747 - val_on_off_loss: 0.4911 - val_dyskinesia_loss: 0.2628 - val_tremor_loss: 1.3209\n",
      "\n",
      "Epoch 00013: val_loss did not improve from 2.05015\n",
      "Epoch 14/200\n",
      "2131/2131 [==============================] - 1s 514us/step - loss: 0.9703 - on_off_loss: 0.3252 - dyskinesia_loss: 0.2451 - tremor_loss: 0.4000 - val_loss: 2.0807 - val_on_off_loss: 0.4934 - val_dyskinesia_loss: 0.2628 - val_tremor_loss: 1.3245\n",
      "\n",
      "Epoch 00014: val_loss did not improve from 2.05015\n",
      "Epoch 15/200\n",
      "2131/2131 [==============================] - 1s 503us/step - loss: 0.9481 - on_off_loss: 0.3158 - dyskinesia_loss: 0.2310 - tremor_loss: 0.4013 - val_loss: 2.0679 - val_on_off_loss: 0.4884 - val_dyskinesia_loss: 0.2628 - val_tremor_loss: 1.3167\n",
      "\n",
      "Epoch 00015: val_loss did not improve from 2.05015\n",
      "Epoch 16/200\n",
      "2131/2131 [==============================] - 1s 510us/step - loss: 0.9596 - on_off_loss: 0.3312 - dyskinesia_loss: 0.2355 - tremor_loss: 0.3929 - val_loss: 2.0691 - val_on_off_loss: 0.4908 - val_dyskinesia_loss: 0.2628 - val_tremor_loss: 1.3154\n",
      "\n",
      "Epoch 00016: val_loss did not improve from 2.05015\n",
      "Epoch 17/200\n",
      "2131/2131 [==============================] - 1s 516us/step - loss: 0.9441 - on_off_loss: 0.3213 - dyskinesia_loss: 0.2383 - tremor_loss: 0.3846 - val_loss: 2.0740 - val_on_off_loss: 0.4931 - val_dyskinesia_loss: 0.2628 - val_tremor_loss: 1.3181\n",
      "\n",
      "Epoch 00017: val_loss did not improve from 2.05015\n",
      "Epoch 18/200\n",
      "2131/2131 [==============================] - 1s 514us/step - loss: 0.9655 - on_off_loss: 0.3270 - dyskinesia_loss: 0.2375 - tremor_loss: 0.4010 - val_loss: 2.0779 - val_on_off_loss: 0.4942 - val_dyskinesia_loss: 0.2628 - val_tremor_loss: 1.3210\n",
      "\n",
      "Epoch 00018: val_loss did not improve from 2.05015\n",
      "Epoch 19/200\n",
      "2131/2131 [==============================] - 1s 508us/step - loss: 0.9355 - on_off_loss: 0.3102 - dyskinesia_loss: 0.2353 - tremor_loss: 0.3900 - val_loss: 2.0796 - val_on_off_loss: 0.4945 - val_dyskinesia_loss: 0.2628 - val_tremor_loss: 1.3224\n",
      "\n",
      "Epoch 00019: val_loss did not improve from 2.05015\n",
      "Epoch 20/200\n",
      "2131/2131 [==============================] - 1s 509us/step - loss: 0.9396 - on_off_loss: 0.3176 - dyskinesia_loss: 0.2389 - tremor_loss: 0.3831 - val_loss: 2.0752 - val_on_off_loss: 0.4931 - val_dyskinesia_loss: 0.2628 - val_tremor_loss: 1.3193\n",
      "\n",
      "Epoch 00020: val_loss did not improve from 2.05015\n",
      "Epoch 21/200\n",
      "2131/2131 [==============================] - 1s 495us/step - loss: 0.9405 - on_off_loss: 0.3196 - dyskinesia_loss: 0.2342 - tremor_loss: 0.3867 - val_loss: 2.0736 - val_on_off_loss: 0.4929 - val_dyskinesia_loss: 0.2628 - val_tremor_loss: 1.3179\n",
      "\n",
      "Epoch 00021: val_loss did not improve from 2.05015\n",
      "Epoch 22/200\n",
      "2131/2131 [==============================] - 1s 497us/step - loss: 0.9416 - on_off_loss: 0.3230 - dyskinesia_loss: 0.2310 - tremor_loss: 0.3876 - val_loss: 2.0730 - val_on_off_loss: 0.4929 - val_dyskinesia_loss: 0.2628 - val_tremor_loss: 1.3173\n",
      "\n",
      "Epoch 00022: val_loss did not improve from 2.05015\n",
      "Epoch 23/200\n",
      "2131/2131 [==============================] - 1s 528us/step - loss: 0.9431 - on_off_loss: 0.3242 - dyskinesia_loss: 0.2338 - tremor_loss: 0.3851 - val_loss: 2.0742 - val_on_off_loss: 0.4933 - val_dyskinesia_loss: 0.2628 - val_tremor_loss: 1.3181\n",
      "\n",
      "Epoch 00023: val_loss did not improve from 2.05015\n",
      "Epoch 24/200\n",
      "2131/2131 [==============================] - 1s 497us/step - loss: 0.9570 - on_off_loss: 0.3206 - dyskinesia_loss: 0.2432 - tremor_loss: 0.3932 - val_loss: 2.0724 - val_on_off_loss: 0.4927 - val_dyskinesia_loss: 0.2628 - val_tremor_loss: 1.3170\n",
      "\n",
      "Epoch 00024: val_loss did not improve from 2.05015\n",
      "Epoch 25/200\n",
      "2131/2131 [==============================] - 1s 492us/step - loss: 0.9288 - on_off_loss: 0.3166 - dyskinesia_loss: 0.2367 - tremor_loss: 0.3755 - val_loss: 2.0741 - val_on_off_loss: 0.4933 - val_dyskinesia_loss: 0.2628 - val_tremor_loss: 1.3181\n",
      "\n",
      "Epoch 00025: val_loss did not improve from 2.05015\n"
     ]
    }
   ],
   "source": [
    "modelCheckpoint = keras.callbacks.ModelCheckpoint(\"/n/scratch2/ms994/realpd_cnnlstm3.h5\", save_best_only=True, verbose=True)\n",
    "reduceLR = keras.callbacks.ReduceLROnPlateau(patience=5, verbose=True)\n",
    "earlyStopping = keras.callbacks.EarlyStopping(patience=20, min_delta=0.01)\n",
    "lr_schedule = keras.callbacks.LearningRateScheduler(lambda i, lr: lr*0.8)\n",
    "history = model.fit(x=x_train, y=[y_train.on_off.values, y_train.dyskinesia.values, y_train.tremor.values], validation_data=(x_valid, [y_valid.on_off.values, y_valid.dyskinesia.values,y_valid.tremor.values]), callbacks=[earlyStopping, lr_schedule, modelCheckpoint], epochs=200, batch_size=128)"
   ]
  },
  {
   "cell_type": "markdown",
   "metadata": {},
   "source": [
    "## run on realpd eval set"
   ]
  },
  {
   "cell_type": "code",
   "execution_count": 219,
   "metadata": {},
   "outputs": [],
   "source": [
    "model = keras.models.load_model(\"/n/scratch2/ms994/realpd_cnnlstm3.h5\")"
   ]
  },
  {
   "cell_type": "code",
   "execution_count": 220,
   "metadata": {},
   "outputs": [],
   "source": [
    "allResults = pkl.load( open(\"/n/scratch2/ms994/realpdEvalset.pkl\", \"rb\"))"
   ]
  },
  {
   "cell_type": "code",
   "execution_count": 221,
   "metadata": {},
   "outputs": [],
   "source": [
    "x = np.array([res[0] for res in allResults])"
   ]
  },
  {
   "cell_type": "code",
   "execution_count": 222,
   "metadata": {},
   "outputs": [],
   "source": [
    "y = [res[1] for res in allResults]"
   ]
  },
  {
   "cell_type": "code",
   "execution_count": 223,
   "metadata": {},
   "outputs": [],
   "source": [
    "y = np.array(y)"
   ]
  },
  {
   "cell_type": "code",
   "execution_count": 224,
   "metadata": {},
   "outputs": [],
   "source": [
    "x_std = x.std(axis=1)"
   ]
  },
  {
   "cell_type": "code",
   "execution_count": 225,
   "metadata": {},
   "outputs": [],
   "source": [
    "x_std = np.nan_to_num(x_std)"
   ]
  },
  {
   "cell_type": "code",
   "execution_count": 226,
   "metadata": {},
   "outputs": [],
   "source": [
    "mask = ~((x_std < 0.05).all(1))"
   ]
  },
  {
   "cell_type": "code",
   "execution_count": 227,
   "metadata": {},
   "outputs": [
    {
     "data": {
      "text/plain": [
       "(19071, 1501, 3)"
      ]
     },
     "execution_count": 227,
     "metadata": {},
     "output_type": "execute_result"
    }
   ],
   "source": [
    "x.shape"
   ]
  },
  {
   "cell_type": "code",
   "execution_count": 228,
   "metadata": {},
   "outputs": [
    {
     "data": {
      "text/plain": [
       "(16071, 1501, 3)"
      ]
     },
     "execution_count": 228,
     "metadata": {},
     "output_type": "execute_result"
    }
   ],
   "source": [
    "x[mask].shape"
   ]
  },
  {
   "cell_type": "code",
   "execution_count": 229,
   "metadata": {},
   "outputs": [],
   "source": [
    "x = x[mask]"
   ]
  },
  {
   "cell_type": "code",
   "execution_count": 230,
   "metadata": {},
   "outputs": [],
   "source": [
    "y = y[mask]"
   ]
  },
  {
   "cell_type": "code",
   "execution_count": 231,
   "metadata": {},
   "outputs": [],
   "source": [
    "x = x[:,:1500]"
   ]
  },
  {
   "cell_type": "code",
   "execution_count": 232,
   "metadata": {},
   "outputs": [],
   "source": [
    "y_pred = model.predict(x)"
   ]
  },
  {
   "cell_type": "code",
   "execution_count": 233,
   "metadata": {},
   "outputs": [
    {
     "data": {
      "text/plain": [
       "((16071, 1500, 3), (16071,))"
      ]
     },
     "execution_count": 233,
     "metadata": {},
     "output_type": "execute_result"
    }
   ],
   "source": [
    "x.shape, y.shape"
   ]
  },
  {
   "cell_type": "code",
   "execution_count": 234,
   "metadata": {},
   "outputs": [],
   "source": [
    "y_pred = pd.DataFrame(np.array(y_pred).reshape(3,-1))"
   ]
  },
  {
   "cell_type": "code",
   "execution_count": 235,
   "metadata": {},
   "outputs": [],
   "source": [
    "y_pred = y_pred.T"
   ]
  },
  {
   "cell_type": "code",
   "execution_count": 236,
   "metadata": {},
   "outputs": [
    {
     "data": {
      "text/plain": [
       "(16071, 3)"
      ]
     },
     "execution_count": 236,
     "metadata": {},
     "output_type": "execute_result"
    }
   ],
   "source": [
    "y_pred.shape"
   ]
  },
  {
   "cell_type": "code",
   "execution_count": 237,
   "metadata": {},
   "outputs": [],
   "source": [
    "y_pred.columns = [\"on_off\", \"dyskinesia\", \"tremor\"]"
   ]
  },
  {
   "cell_type": "code",
   "execution_count": 238,
   "metadata": {},
   "outputs": [],
   "source": [
    "m_id =  [y_sing[-40:-4] for y_sing in y]"
   ]
  },
  {
   "cell_type": "code",
   "execution_count": 239,
   "metadata": {},
   "outputs": [],
   "source": [
    "y_pred.loc[:, \"m_id\"] = m_id"
   ]
  },
  {
   "cell_type": "code",
   "execution_count": 240,
   "metadata": {},
   "outputs": [],
   "source": [
    "y_pred.groupby(\"m_id\").mean().to_csv(\"/home/ms994/realpd_pred.csv\")"
   ]
  },
  {
   "cell_type": "markdown",
   "metadata": {},
   "source": [
    "# dyskinesia only"
   ]
  },
  {
   "cell_type": "code",
   "execution_count": 75,
   "metadata": {},
   "outputs": [],
   "source": [
    "import keras\n",
    "num_cnn_layers = 5\n",
    "num_lstm_layers = 1\n",
    "num_lin_layers = 2\n",
    "inputLayer = keras.layers.Input((1500, 3))\n",
    "x = inputLayer\n",
    "\n",
    "\n",
    "for i in range(num_cnn_layers):\n",
    "    x = keras.layers.BatchNormalization()(x)\n",
    "    x = keras.layers.Conv1D(16, (3,), padding=\"same\")(x)\n",
    "    x = keras.layers.LeakyReLU()(x)\n",
    "    x = keras.layers.MaxPool1D((2,))(x)\n",
    "for j in range(num_lstm_layers):\n",
    "    x = keras.layers.BatchNormalization()(x)\n",
    "    x = keras.layers.CuDNNLSTM(256, return_sequences=True)(x)\n",
    "    x = keras.layers.LeakyReLU()(x)\n",
    "\n",
    "\n",
    "x = keras.layers.Flatten(name=\"flatten_encoder_lstm\")(x)\n",
    "x = keras.layers.Dense(200)(x)\n",
    "x = keras.layers.LeakyReLU()(x)\n",
    "x = keras.layers.Dropout(0.5)(x)\n",
    "\n",
    "x_shared_flattened = x\n",
    "\n",
    "#tremor\n",
    "x = x_shared_flattened \n",
    "for k in range(num_lin_layers):\n",
    "    x = keras.layers.BatchNormalization()(x)\n",
    "    x = keras.layers.Dense(100)(x)\n",
    "    x = keras.layers.LeakyReLU()(x)\n",
    "    x = keras.layers.Dropout(0.5)(x)\n",
    "x = keras.layers.Dense(1)(x)\n",
    "x_dyskinesia = keras.layers.ReLU(name=\"dyskinesia\", max_value=4)(x)\n",
    "\n",
    "\n",
    "\n",
    "model = keras.Model(inputs=inputLayer, outputs=x_dyskinesia)\n",
    "model.compile(\"adam\", loss=\"mean_squared_error\")"
   ]
  },
  {
   "cell_type": "code",
   "execution_count": 76,
   "metadata": {},
   "outputs": [
    {
     "name": "stdout",
     "output_type": "stream",
     "text": [
      "Train on 36987 samples, validate on 12434 samples\n",
      "Epoch 1/200\n",
      "36987/36987 [==============================] - 31s 842us/step - loss: 1.0463 - val_loss: 0.6559\n",
      "\n",
      "Epoch 00001: val_loss improved from inf to 0.65589, saving model to /n/scratch2/ms994/cnnlstm3_dysk_only.h5\n",
      "Epoch 2/200\n",
      "36987/36987 [==============================] - 16s 421us/step - loss: 0.8198 - val_loss: 0.6373\n",
      "\n",
      "Epoch 00002: val_loss improved from 0.65589 to 0.63734, saving model to /n/scratch2/ms994/cnnlstm3_dysk_only.h5\n",
      "Epoch 3/200\n",
      "36987/36987 [==============================] - 15s 419us/step - loss: 0.7844 - val_loss: 0.6280\n",
      "\n",
      "Epoch 00003: val_loss improved from 0.63734 to 0.62795, saving model to /n/scratch2/ms994/cnnlstm3_dysk_only.h5\n",
      "Epoch 4/200\n",
      "36987/36987 [==============================] - 16s 421us/step - loss: 0.7515 - val_loss: 0.6190\n",
      "\n",
      "Epoch 00004: val_loss improved from 0.62795 to 0.61899, saving model to /n/scratch2/ms994/cnnlstm3_dysk_only.h5\n",
      "Epoch 5/200\n",
      "36987/36987 [==============================] - 16s 420us/step - loss: 0.7247 - val_loss: 0.6271\n",
      "\n",
      "Epoch 00005: val_loss did not improve from 0.61899\n",
      "Epoch 6/200\n",
      "36987/36987 [==============================] - 16s 421us/step - loss: 0.7056 - val_loss: 0.6262\n",
      "\n",
      "Epoch 00006: val_loss did not improve from 0.61899\n",
      "Epoch 7/200\n",
      "36987/36987 [==============================] - 15s 418us/step - loss: 0.6873 - val_loss: 0.6136\n",
      "\n",
      "Epoch 00007: val_loss improved from 0.61899 to 0.61360, saving model to /n/scratch2/ms994/cnnlstm3_dysk_only.h5\n",
      "Epoch 8/200\n",
      "36987/36987 [==============================] - 16s 420us/step - loss: 0.6716 - val_loss: 0.6433\n",
      "\n",
      "Epoch 00008: val_loss did not improve from 0.61360\n",
      "Epoch 9/200\n",
      "36987/36987 [==============================] - 16s 422us/step - loss: 0.6609 - val_loss: 0.6229\n",
      "\n",
      "Epoch 00009: val_loss did not improve from 0.61360\n",
      "Epoch 10/200\n",
      "36987/36987 [==============================] - 16s 422us/step - loss: 0.6464 - val_loss: 0.6381\n",
      "\n",
      "Epoch 00010: val_loss did not improve from 0.61360\n",
      "Epoch 11/200\n",
      "36987/36987 [==============================] - 15s 419us/step - loss: 0.6381 - val_loss: 0.6470\n",
      "\n",
      "Epoch 00011: val_loss did not improve from 0.61360\n",
      "Epoch 12/200\n",
      "36987/36987 [==============================] - 16s 420us/step - loss: 0.6301 - val_loss: 0.6385\n",
      "\n",
      "Epoch 00012: val_loss did not improve from 0.61360\n",
      "Epoch 13/200\n",
      "36987/36987 [==============================] - 15s 417us/step - loss: 0.6244 - val_loss: 0.6461\n",
      "\n",
      "Epoch 00013: val_loss did not improve from 0.61360\n",
      "Epoch 14/200\n",
      "36987/36987 [==============================] - 15s 416us/step - loss: 0.6132 - val_loss: 0.6376\n",
      "\n",
      "Epoch 00014: val_loss did not improve from 0.61360\n",
      "Epoch 15/200\n",
      "36987/36987 [==============================] - 16s 420us/step - loss: 0.6051 - val_loss: 0.6407\n",
      "\n",
      "Epoch 00015: val_loss did not improve from 0.61360\n",
      "Epoch 16/200\n",
      "36987/36987 [==============================] - 15s 417us/step - loss: 0.6031 - val_loss: 0.6346\n",
      "\n",
      "Epoch 00016: val_loss did not improve from 0.61360\n",
      "Epoch 17/200\n",
      "36987/36987 [==============================] - 16s 420us/step - loss: 0.5994 - val_loss: 0.6353\n",
      "\n",
      "Epoch 00017: val_loss did not improve from 0.61360\n",
      "Epoch 18/200\n",
      "36987/36987 [==============================] - 16s 420us/step - loss: 0.5988 - val_loss: 0.6541\n",
      "\n",
      "Epoch 00018: val_loss did not improve from 0.61360\n",
      "Epoch 19/200\n",
      "36987/36987 [==============================] - 16s 420us/step - loss: 0.5934 - val_loss: 0.6335\n",
      "\n",
      "Epoch 00019: val_loss did not improve from 0.61360\n",
      "Epoch 20/200\n",
      "36987/36987 [==============================] - 15s 418us/step - loss: 0.5906 - val_loss: 0.6400\n",
      "\n",
      "Epoch 00020: val_loss did not improve from 0.61360\n",
      "Epoch 21/200\n",
      "36987/36987 [==============================] - 16s 422us/step - loss: 0.5957 - val_loss: 0.6453\n",
      "\n",
      "Epoch 00021: val_loss did not improve from 0.61360\n",
      "Epoch 22/200\n",
      "36987/36987 [==============================] - 15s 418us/step - loss: 0.5908 - val_loss: 0.6437\n",
      "\n",
      "Epoch 00022: val_loss did not improve from 0.61360\n",
      "Epoch 23/200\n",
      "36987/36987 [==============================] - 15s 419us/step - loss: 0.5868 - val_loss: 0.6503\n",
      "\n",
      "Epoch 00023: val_loss did not improve from 0.61360\n",
      "Epoch 24/200\n",
      "36987/36987 [==============================] - 16s 424us/step - loss: 0.5883 - val_loss: 0.6425\n",
      "\n",
      "Epoch 00024: val_loss did not improve from 0.61360\n"
     ]
    }
   ],
   "source": [
    "modelCheckpoint = keras.callbacks.ModelCheckpoint(\"/n/scratch2/ms994/cnnlstm3_dysk_only.h5\", save_best_only=True, verbose=True)\n",
    "reduceLR = keras.callbacks.ReduceLROnPlateau(patience=5, verbose=True)\n",
    "earlyStopping = keras.callbacks.EarlyStopping(patience=20, min_delta=0.01)\n",
    "lr_schedule = keras.callbacks.LearningRateScheduler(lambda i, lr: lr*0.8)\n",
    "history = model.fit(x=x_train, y=y_train.dyskinesia.values, validation_data=(x_valid,  y_valid.dyskinesia.values), callbacks=[earlyStopping, lr_schedule, modelCheckpoint], epochs=200, batch_size=128)"
   ]
  },
  {
   "cell_type": "code",
   "execution_count": 58,
   "metadata": {},
   "outputs": [],
   "source": [
    "model = keras.models.load_model(\"/n/scratch2/ms994/cnnlstm3_dysk_only.h5\")"
   ]
  },
  {
   "cell_type": "code",
   "execution_count": 59,
   "metadata": {},
   "outputs": [],
   "source": [
    "y_pred_dysk_only = model.predict(x_valid)"
   ]
  },
  {
   "cell_type": "code",
   "execution_count": 60,
   "metadata": {},
   "outputs": [],
   "source": [
    "y_pred_dysk_only = y_pred_dysk_only.reshape(-1)"
   ]
  },
  {
   "cell_type": "code",
   "execution_count": 62,
   "metadata": {},
   "outputs": [
    {
     "name": "stderr",
     "output_type": "stream",
     "text": [
      "/home/ms994/miniconda3/envs/keras-redo/lib/python3.7/site-packages/pandas/core/indexing.py:362: SettingWithCopyWarning: \n",
      "A value is trying to be set on a copy of a slice from a DataFrame.\n",
      "Try using .loc[row_indexer,col_indexer] = value instead\n",
      "\n",
      "See the caveats in the documentation: http://pandas.pydata.org/pandas-docs/stable/indexing.html#indexing-view-versus-copy\n",
      "  self.obj[key] = _infer_fill_value(value)\n",
      "/home/ms994/miniconda3/envs/keras-redo/lib/python3.7/site-packages/pandas/core/indexing.py:543: SettingWithCopyWarning: \n",
      "A value is trying to be set on a copy of a slice from a DataFrame.\n",
      "Try using .loc[row_indexer,col_indexer] = value instead\n",
      "\n",
      "See the caveats in the documentation: http://pandas.pydata.org/pandas-docs/stable/indexing.html#indexing-view-versus-copy\n",
      "  self.obj[item] = s\n"
     ]
    }
   ],
   "source": [
    "y_valid.loc[:, \"y_pred_dysk_only\"] = y_pred_dysk_only"
   ]
  },
  {
   "cell_type": "code",
   "execution_count": 65,
   "metadata": {},
   "outputs": [],
   "source": [
    "temp = y_valid[[\"measurement_id\",\"dyskinesia\", \"y_pred_dysk_only\"]].groupby(\"measurement_id\").mean()"
   ]
  },
  {
   "cell_type": "code",
   "execution_count": 66,
   "metadata": {},
   "outputs": [
    {
     "data": {
      "text/plain": [
       "<matplotlib.axes._subplots.AxesSubplot at 0x7fe71ebb0940>"
      ]
     },
     "execution_count": 66,
     "metadata": {},
     "output_type": "execute_result"
    },
    {
     "data": {
      "image/png": "[encoded data removed]",
      "text/plain": [
       "<Figure size 432x288 with 1 Axes>"
      ]
     },
     "metadata": {
      "needs_background": "light"
     },
     "output_type": "display_data"
    }
   ],
   "source": [
    "sns.violinplot(\"dyskinesia\", \"y_pred_dysk_only\", data=temp)"
   ]
  },
  {
   "cell_type": "markdown",
   "metadata": {},
   "source": [
    "# tremor only"
   ]
  },
  {
   "cell_type": "code",
   "execution_count": 77,
   "metadata": {},
   "outputs": [],
   "source": [
    "import keras\n",
    "num_cnn_layers = 5\n",
    "num_lstm_layers = 1\n",
    "num_lin_layers = 2\n",
    "inputLayer = keras.layers.Input((1500, 3))\n",
    "x = inputLayer\n",
    "\n",
    "\n",
    "for i in range(num_cnn_layers):\n",
    "    x = keras.layers.BatchNormalization()(x)\n",
    "    x = keras.layers.Conv1D(16, (3,), padding=\"same\")(x)\n",
    "    x = keras.layers.LeakyReLU()(x)\n",
    "    x = keras.layers.MaxPool1D((2,))(x)\n",
    "for j in range(num_lstm_layers):\n",
    "    x = keras.layers.BatchNormalization()(x)\n",
    "    x = keras.layers.CuDNNLSTM(256, return_sequences=True)(x)\n",
    "    x = keras.layers.LeakyReLU()(x)\n",
    "\n",
    "\n",
    "x = keras.layers.Flatten(name=\"flatten_encoder_lstm\")(x)\n",
    "x = keras.layers.Dense(200)(x)\n",
    "x = keras.layers.LeakyReLU()(x)\n",
    "x = keras.layers.Dropout(0.5)(x)\n",
    "\n",
    "x_shared_flattened = x\n",
    "\n",
    "#tremor\n",
    "x = x_shared_flattened \n",
    "for k in range(num_lin_layers):\n",
    "    x = keras.layers.BatchNormalization()(x)\n",
    "    x = keras.layers.Dense(100)(x)\n",
    "    x = keras.layers.LeakyReLU()(x)\n",
    "    x = keras.layers.Dropout(0.5)(x)\n",
    "x = keras.layers.Dense(1)(x)\n",
    "x_dyskinesia = keras.layers.ReLU(name=\"tremor\", max_value=4)(x)\n",
    "\n",
    "\n",
    "\n",
    "model = keras.Model(inputs=inputLayer, outputs=x_dyskinesia)\n",
    "model.compile(\"adam\", loss=\"mean_squared_error\")"
   ]
  },
  {
   "cell_type": "code",
   "execution_count": 78,
   "metadata": {},
   "outputs": [
    {
     "name": "stdout",
     "output_type": "stream",
     "text": [
      "Train on 36987 samples, validate on 12434 samples\n",
      "Epoch 1/200\n",
      "36987/36987 [==============================] - 32s 871us/step - loss: 1.0639 - val_loss: 0.7481\n",
      "\n",
      "Epoch 00001: val_loss improved from inf to 0.74813, saving model to /n/scratch2/ms994/cnnlstm3_tremor_only.h5\n",
      "Epoch 2/200\n",
      "36987/36987 [==============================] - 16s 421us/step - loss: 0.8537 - val_loss: 0.7337\n",
      "\n",
      "Epoch 00002: val_loss improved from 0.74813 to 0.73374, saving model to /n/scratch2/ms994/cnnlstm3_tremor_only.h5\n",
      "Epoch 3/200\n",
      "36987/36987 [==============================] - 16s 422us/step - loss: 0.8282 - val_loss: 0.7333\n",
      "\n",
      "Epoch 00003: val_loss improved from 0.73374 to 0.73325, saving model to /n/scratch2/ms994/cnnlstm3_tremor_only.h5\n",
      "Epoch 4/200\n",
      "36987/36987 [==============================] - 16s 419us/step - loss: 0.7883 - val_loss: 0.7258\n",
      "\n",
      "Epoch 00004: val_loss improved from 0.73325 to 0.72584, saving model to /n/scratch2/ms994/cnnlstm3_tremor_only.h5\n",
      "Epoch 5/200\n",
      "36987/36987 [==============================] - 16s 422us/step - loss: 0.7622 - val_loss: 0.7845\n",
      "\n",
      "Epoch 00005: val_loss did not improve from 0.72584\n",
      "Epoch 6/200\n",
      "36987/36987 [==============================] - 15s 418us/step - loss: 0.7599 - val_loss: 0.7221\n",
      "\n",
      "Epoch 00006: val_loss improved from 0.72584 to 0.72210, saving model to /n/scratch2/ms994/cnnlstm3_tremor_only.h5\n",
      "Epoch 7/200\n",
      "36987/36987 [==============================] - 16s 424us/step - loss: 0.7381 - val_loss: 0.7410\n",
      "\n",
      "Epoch 00007: val_loss did not improve from 0.72210\n",
      "Epoch 8/200\n",
      "36987/36987 [==============================] - 16s 421us/step - loss: 0.7304 - val_loss: 0.7243\n",
      "\n",
      "Epoch 00008: val_loss did not improve from 0.72210\n",
      "Epoch 9/200\n",
      "36987/36987 [==============================] - 16s 423us/step - loss: 0.7159 - val_loss: 0.7341\n",
      "\n",
      "Epoch 00009: val_loss did not improve from 0.72210\n",
      "Epoch 10/200\n",
      "36987/36987 [==============================] - 16s 424us/step - loss: 0.7087 - val_loss: 0.7345\n",
      "\n",
      "Epoch 00010: val_loss did not improve from 0.72210\n",
      "Epoch 11/200\n",
      "36987/36987 [==============================] - 16s 423us/step - loss: 0.6969 - val_loss: 0.7110\n",
      "\n",
      "Epoch 00011: val_loss improved from 0.72210 to 0.71101, saving model to /n/scratch2/ms994/cnnlstm3_tremor_only.h5\n",
      "Epoch 12/200\n",
      "36987/36987 [==============================] - 16s 422us/step - loss: 0.6862 - val_loss: 0.7152\n",
      "\n",
      "Epoch 00012: val_loss did not improve from 0.71101\n",
      "Epoch 13/200\n",
      "36987/36987 [==============================] - 15s 418us/step - loss: 0.6796 - val_loss: 0.7197\n",
      "\n",
      "Epoch 00013: val_loss did not improve from 0.71101\n",
      "Epoch 14/200\n",
      "36987/36987 [==============================] - 16s 419us/step - loss: 0.6766 - val_loss: 0.7159\n",
      "\n",
      "Epoch 00014: val_loss did not improve from 0.71101\n",
      "Epoch 15/200\n",
      "36987/36987 [==============================] - 16s 424us/step - loss: 0.6719 - val_loss: 0.7196\n",
      "\n",
      "Epoch 00015: val_loss did not improve from 0.71101\n",
      "Epoch 16/200\n",
      "36987/36987 [==============================] - 16s 422us/step - loss: 0.6650 - val_loss: 0.7053\n",
      "\n",
      "Epoch 00016: val_loss improved from 0.71101 to 0.70526, saving model to /n/scratch2/ms994/cnnlstm3_tremor_only.h5\n",
      "Epoch 17/200\n",
      "36987/36987 [==============================] - 16s 419us/step - loss: 0.6622 - val_loss: 0.7034\n",
      "\n",
      "Epoch 00017: val_loss improved from 0.70526 to 0.70345, saving model to /n/scratch2/ms994/cnnlstm3_tremor_only.h5\n",
      "Epoch 18/200\n",
      "36987/36987 [==============================] - 15s 418us/step - loss: 0.6611 - val_loss: 0.7102\n",
      "\n",
      "Epoch 00018: val_loss did not improve from 0.70345\n",
      "Epoch 19/200\n",
      "36987/36987 [==============================] - 16s 419us/step - loss: 0.6647 - val_loss: 0.7118\n",
      "\n",
      "Epoch 00019: val_loss did not improve from 0.70345\n",
      "Epoch 20/200\n",
      "36987/36987 [==============================] - 16s 422us/step - loss: 0.6622 - val_loss: 0.7089\n",
      "\n",
      "Epoch 00020: val_loss did not improve from 0.70345\n",
      "Epoch 21/200\n",
      "36987/36987 [==============================] - 16s 422us/step - loss: 0.6541 - val_loss: 0.7123\n",
      "\n",
      "Epoch 00021: val_loss did not improve from 0.70345\n",
      "Epoch 22/200\n",
      "36987/36987 [==============================] - 16s 424us/step - loss: 0.6536 - val_loss: 0.7075\n",
      "\n",
      "Epoch 00022: val_loss did not improve from 0.70345\n",
      "Epoch 23/200\n",
      "36987/36987 [==============================] - 16s 421us/step - loss: 0.6529 - val_loss: 0.7087\n",
      "\n",
      "Epoch 00023: val_loss did not improve from 0.70345\n",
      "Epoch 24/200\n",
      "36987/36987 [==============================] - 16s 419us/step - loss: 0.6567 - val_loss: 0.7091\n",
      "\n",
      "Epoch 00024: val_loss did not improve from 0.70345\n",
      "Epoch 25/200\n",
      "36987/36987 [==============================] - 16s 422us/step - loss: 0.6553 - val_loss: 0.7078\n",
      "\n",
      "Epoch 00025: val_loss did not improve from 0.70345\n",
      "Epoch 26/200\n",
      "36987/36987 [==============================] - 15s 418us/step - loss: 0.6513 - val_loss: 0.7104\n",
      "\n",
      "Epoch 00026: val_loss did not improve from 0.70345\n",
      "Epoch 27/200\n",
      "36987/36987 [==============================] - 16s 420us/step - loss: 0.6555 - val_loss: 0.7100\n",
      "\n",
      "Epoch 00027: val_loss did not improve from 0.70345\n",
      "Epoch 28/200\n",
      "36987/36987 [==============================] - 16s 420us/step - loss: 0.6514 - val_loss: 0.7101\n",
      "\n",
      "Epoch 00028: val_loss did not improve from 0.70345\n",
      "Epoch 29/200\n",
      "36987/36987 [==============================] - 16s 420us/step - loss: 0.6529 - val_loss: 0.7094\n",
      "\n",
      "Epoch 00029: val_loss did not improve from 0.70345\n",
      "Epoch 30/200\n",
      "36987/36987 [==============================] - 16s 419us/step - loss: 0.6491 - val_loss: 0.7091\n",
      "\n",
      "Epoch 00030: val_loss did not improve from 0.70345\n",
      "Epoch 31/200\n",
      "36987/36987 [==============================] - 16s 422us/step - loss: 0.6547 - val_loss: 0.7089\n",
      "\n",
      "Epoch 00031: val_loss did not improve from 0.70345\n"
     ]
    }
   ],
   "source": [
    "modelCheckpoint = keras.callbacks.ModelCheckpoint(\"/n/scratch2/ms994/cnnlstm3_tremor_only.h5\", save_best_only=True, verbose=True)\n",
    "reduceLR = keras.callbacks.ReduceLROnPlateau(patience=5, verbose=True)\n",
    "earlyStopping = keras.callbacks.EarlyStopping(patience=20, min_delta=0.01)\n",
    "lr_schedule = keras.callbacks.LearningRateScheduler(lambda i, lr: lr*0.8)\n",
    "history = model.fit(x=x_train, y=y_train.tremor.values, validation_data=(x_valid,  y_valid.tremor.values), callbacks=[earlyStopping, lr_schedule, modelCheckpoint], epochs=200, batch_size=128)"
   ]
  },
  {
   "cell_type": "markdown",
   "metadata": {},
   "source": [
    "# on off only"
   ]
  },
  {
   "cell_type": "code",
   "execution_count": 79,
   "metadata": {},
   "outputs": [],
   "source": [
    "import keras\n",
    "num_cnn_layers = 5\n",
    "num_lstm_layers = 1\n",
    "num_lin_layers = 2\n",
    "inputLayer = keras.layers.Input((1500, 3))\n",
    "x = inputLayer\n",
    "\n",
    "\n",
    "for i in range(num_cnn_layers):\n",
    "    x = keras.layers.BatchNormalization()(x)\n",
    "    x = keras.layers.Conv1D(16, (3,), padding=\"same\")(x)\n",
    "    x = keras.layers.LeakyReLU()(x)\n",
    "    x = keras.layers.MaxPool1D((2,))(x)\n",
    "for j in range(num_lstm_layers):\n",
    "    x = keras.layers.BatchNormalization()(x)\n",
    "    x = keras.layers.CuDNNLSTM(256, return_sequences=True)(x)\n",
    "    x = keras.layers.LeakyReLU()(x)\n",
    "\n",
    "\n",
    "x = keras.layers.Flatten(name=\"flatten_encoder_lstm\")(x)\n",
    "x = keras.layers.Dense(200)(x)\n",
    "x = keras.layers.LeakyReLU()(x)\n",
    "x = keras.layers.Dropout(0.5)(x)\n",
    "\n",
    "x_shared_flattened = x\n",
    "\n",
    "#tremor\n",
    "x = x_shared_flattened \n",
    "for k in range(num_lin_layers):\n",
    "    x = keras.layers.BatchNormalization()(x)\n",
    "    x = keras.layers.Dense(100)(x)\n",
    "    x = keras.layers.LeakyReLU()(x)\n",
    "    x = keras.layers.Dropout(0.5)(x)\n",
    "x = keras.layers.Dense(1)(x)\n",
    "x_dyskinesia = keras.layers.ReLU(name=\"on_off\", max_value=4)(x)\n",
    "\n",
    "\n",
    "\n",
    "model = keras.Model(inputs=inputLayer, outputs=x_dyskinesia)\n",
    "model.compile(\"adam\", loss=\"mean_squared_error\")"
   ]
  },
  {
   "cell_type": "code",
   "execution_count": 80,
   "metadata": {},
   "outputs": [
    {
     "name": "stdout",
     "output_type": "stream",
     "text": [
      "Train on 36987 samples, validate on 12434 samples\n",
      "Epoch 1/200\n",
      "36987/36987 [==============================] - 33s 895us/step - loss: 2.0171 - val_loss: 1.7679\n",
      "\n",
      "Epoch 00001: val_loss improved from inf to 1.76787, saving model to /n/scratch2/ms994/cnnlstm3_on_off_only.h5\n",
      "Epoch 2/200\n",
      "36987/36987 [==============================] - 16s 427us/step - loss: 1.7857 - val_loss: 1.8170\n",
      "\n",
      "Epoch 00002: val_loss did not improve from 1.76787\n",
      "Epoch 3/200\n",
      "36987/36987 [==============================] - 15s 419us/step - loss: 1.8647 - val_loss: 1.8639\n",
      "\n",
      "Epoch 00003: val_loss did not improve from 1.76787\n",
      "Epoch 4/200\n",
      "36987/36987 [==============================] - 16s 421us/step - loss: 1.7541 - val_loss: 1.7500\n",
      "\n",
      "Epoch 00004: val_loss improved from 1.76787 to 1.74995, saving model to /n/scratch2/ms994/cnnlstm3_on_off_only.h5\n",
      "Epoch 5/200\n",
      "36987/36987 [==============================] - 16s 422us/step - loss: 1.8486 - val_loss: 1.7184\n",
      "\n",
      "Epoch 00005: val_loss improved from 1.74995 to 1.71843, saving model to /n/scratch2/ms994/cnnlstm3_on_off_only.h5\n",
      "Epoch 6/200\n",
      "36987/36987 [==============================] - 16s 419us/step - loss: 1.7335 - val_loss: 1.6939\n",
      "\n",
      "Epoch 00006: val_loss improved from 1.71843 to 1.69395, saving model to /n/scratch2/ms994/cnnlstm3_on_off_only.h5\n",
      "Epoch 7/200\n",
      "36987/36987 [==============================] - 15s 418us/step - loss: 1.6974 - val_loss: 1.6598\n",
      "\n",
      "Epoch 00007: val_loss improved from 1.69395 to 1.65977, saving model to /n/scratch2/ms994/cnnlstm3_on_off_only.h5\n",
      "Epoch 8/200\n",
      "36987/36987 [==============================] - 16s 419us/step - loss: 1.6851 - val_loss: 1.6844\n",
      "\n",
      "Epoch 00008: val_loss did not improve from 1.65977\n",
      "Epoch 9/200\n",
      "36987/36987 [==============================] - 16s 424us/step - loss: 1.6551 - val_loss: 1.6839\n",
      "\n",
      "Epoch 00009: val_loss did not improve from 1.65977\n",
      "Epoch 10/200\n",
      "36987/36987 [==============================] - 16s 420us/step - loss: 1.6492 - val_loss: 1.6683\n",
      "\n",
      "Epoch 00010: val_loss did not improve from 1.65977\n",
      "Epoch 11/200\n",
      "36987/36987 [==============================] - 16s 427us/step - loss: 1.6442 - val_loss: 1.6587\n",
      "\n",
      "Epoch 00011: val_loss improved from 1.65977 to 1.65867, saving model to /n/scratch2/ms994/cnnlstm3_on_off_only.h5\n",
      "Epoch 12/200\n",
      "36987/36987 [==============================] - 16s 421us/step - loss: 1.6407 - val_loss: 1.6619\n",
      "\n",
      "Epoch 00012: val_loss did not improve from 1.65867\n",
      "Epoch 13/200\n",
      "36987/36987 [==============================] - 16s 425us/step - loss: 1.6360 - val_loss: 1.6610\n",
      "\n",
      "Epoch 00013: val_loss did not improve from 1.65867\n",
      "Epoch 14/200\n",
      "36987/36987 [==============================] - 16s 422us/step - loss: 1.6326 - val_loss: 1.6547\n",
      "\n",
      "Epoch 00014: val_loss improved from 1.65867 to 1.65465, saving model to /n/scratch2/ms994/cnnlstm3_on_off_only.h5\n",
      "Epoch 15/200\n",
      "36987/36987 [==============================] - 16s 425us/step - loss: 1.6221 - val_loss: 1.6547\n",
      "\n",
      "Epoch 00015: val_loss did not improve from 1.65465\n",
      "Epoch 16/200\n",
      "36987/36987 [==============================] - 16s 424us/step - loss: 1.6235 - val_loss: 1.6487\n",
      "\n",
      "Epoch 00016: val_loss improved from 1.65465 to 1.64870, saving model to /n/scratch2/ms994/cnnlstm3_on_off_only.h5\n",
      "Epoch 17/200\n",
      "36987/36987 [==============================] - 16s 424us/step - loss: 1.6230 - val_loss: 1.6463\n",
      "\n",
      "Epoch 00017: val_loss improved from 1.64870 to 1.64625, saving model to /n/scratch2/ms994/cnnlstm3_on_off_only.h5\n",
      "Epoch 18/200\n",
      "36987/36987 [==============================] - 16s 425us/step - loss: 1.6176 - val_loss: 1.6528\n",
      "\n",
      "Epoch 00018: val_loss did not improve from 1.64625\n",
      "Epoch 19/200\n",
      "36987/36987 [==============================] - 16s 421us/step - loss: 1.6168 - val_loss: 1.6576\n",
      "\n",
      "Epoch 00019: val_loss did not improve from 1.64625\n",
      "Epoch 20/200\n",
      "36987/36987 [==============================] - 16s 421us/step - loss: 1.6124 - val_loss: 1.6541\n",
      "\n",
      "Epoch 00020: val_loss did not improve from 1.64625\n",
      "Epoch 21/200\n",
      "36987/36987 [==============================] - 16s 423us/step - loss: 1.6174 - val_loss: 1.6514\n",
      "\n",
      "Epoch 00021: val_loss did not improve from 1.64625\n",
      "Epoch 22/200\n",
      "36987/36987 [==============================] - 16s 422us/step - loss: 1.6091 - val_loss: 1.6540\n",
      "\n",
      "Epoch 00022: val_loss did not improve from 1.64625\n",
      "Epoch 23/200\n",
      "36987/36987 [==============================] - 16s 422us/step - loss: 1.6107 - val_loss: 1.6549\n",
      "\n",
      "Epoch 00023: val_loss did not improve from 1.64625\n",
      "Epoch 24/200\n",
      "36987/36987 [==============================] - 16s 420us/step - loss: 1.6064 - val_loss: 1.6532\n",
      "\n",
      "Epoch 00024: val_loss did not improve from 1.64625\n",
      "Epoch 25/200\n",
      "36987/36987 [==============================] - 16s 420us/step - loss: 1.6112 - val_loss: 1.6537\n",
      "\n",
      "Epoch 00025: val_loss did not improve from 1.64625\n",
      "Epoch 26/200\n",
      "36987/36987 [==============================] - 16s 422us/step - loss: 1.6116 - val_loss: 1.6534\n",
      "\n",
      "Epoch 00026: val_loss did not improve from 1.64625\n",
      "Epoch 27/200\n",
      "36987/36987 [==============================] - 16s 424us/step - loss: 1.6071 - val_loss: 1.6529\n",
      "\n",
      "Epoch 00027: val_loss did not improve from 1.64625\n",
      "Epoch 28/200\n",
      "36987/36987 [==============================] - 16s 423us/step - loss: 1.6123 - val_loss: 1.6541\n",
      "\n",
      "Epoch 00028: val_loss did not improve from 1.64625\n",
      "Epoch 29/200\n",
      "36987/36987 [==============================] - 16s 420us/step - loss: 1.6117 - val_loss: 1.6536\n",
      "\n",
      "Epoch 00029: val_loss did not improve from 1.64625\n",
      "Epoch 30/200\n",
      "36987/36987 [==============================] - 15s 419us/step - loss: 1.6077 - val_loss: 1.6548\n",
      "\n",
      "Epoch 00030: val_loss did not improve from 1.64625\n",
      "Epoch 31/200\n",
      "36987/36987 [==============================] - 16s 422us/step - loss: 1.6116 - val_loss: 1.6554\n",
      "\n",
      "Epoch 00031: val_loss did not improve from 1.64625\n",
      "Epoch 32/200\n",
      "36987/36987 [==============================] - 16s 424us/step - loss: 1.6129 - val_loss: 1.6547\n",
      "\n",
      "Epoch 00032: val_loss did not improve from 1.64625\n",
      "Epoch 33/200\n",
      "36987/36987 [==============================] - 16s 420us/step - loss: 1.6127 - val_loss: 1.6540\n",
      "\n",
      "Epoch 00033: val_loss did not improve from 1.64625\n",
      "Epoch 34/200\n",
      "36987/36987 [==============================] - 16s 421us/step - loss: 1.6056 - val_loss: 1.6554\n",
      "\n",
      "Epoch 00034: val_loss did not improve from 1.64625\n",
      "Epoch 35/200\n",
      "36987/36987 [==============================] - 16s 425us/step - loss: 1.6081 - val_loss: 1.6549\n",
      "\n",
      "Epoch 00035: val_loss did not improve from 1.64625\n",
      "Epoch 36/200\n",
      "36987/36987 [==============================] - 16s 421us/step - loss: 1.6086 - val_loss: 1.6548\n",
      "\n",
      "Epoch 00036: val_loss did not improve from 1.64625\n"
     ]
    }
   ],
   "source": [
    "modelCheckpoint = keras.callbacks.ModelCheckpoint(\"/n/scratch2/ms994/cnnlstm3_on_off_only.h5\", save_best_only=True, verbose=True)\n",
    "reduceLR = keras.callbacks.ReduceLROnPlateau(patience=5, verbose=True)\n",
    "earlyStopping = keras.callbacks.EarlyStopping(patience=20, min_delta=0.01)\n",
    "lr_schedule = keras.callbacks.LearningRateScheduler(lambda i, lr: lr*0.8)\n",
    "history = model.fit(x=x_train, y=y_train.on_off.values, validation_data=(x_valid,  y_valid.on_off.values), callbacks=[earlyStopping, lr_schedule, modelCheckpoint], epochs=200, batch_size=128)"
   ]
  },
  {
   "cell_type": "markdown",
   "metadata": {},
   "source": [
    "# Homeoschedastic"
   ]
  },
  {
   "cell_type": "code",
   "execution_count": 28,
   "metadata": {},
   "outputs": [
    {
     "data": {
      "text/plain": [
       "16"
      ]
     },
     "execution_count": 28,
     "metadata": {},
     "output_type": "execute_result"
    }
   ],
   "source": [
    "len(labels.subject_id.unique())"
   ]
  },
  {
   "cell_type": "code",
   "execution_count": 29,
   "metadata": {},
   "outputs": [
    {
     "name": "stderr",
     "output_type": "stream",
     "text": [
      "Using TensorFlow backend.\n"
     ]
    }
   ],
   "source": [
    "\n",
    "from keras.layers import Input, Dense, Lambda, Layer\n",
    "from keras.initializers import Constant\n",
    "from keras.models import Model\n",
    "from keras import backend as K\n",
    "\n",
    "# Custom loss layer\n",
    "class CustomMultiLossLayer(Layer):\n",
    "    def __init__(self, nb_outputs=2, **kwargs):\n",
    "        self.nb_outputs = nb_outputs\n",
    "        self.is_placeholder = True\n",
    "        super(CustomMultiLossLayer, self).__init__(**kwargs)\n",
    "        \n",
    "    def build(self, input_shape=None):\n",
    "        # initialise log_vars\n",
    "        self.log_vars = []\n",
    "        for i in range(self.nb_outputs):\n",
    "            self.log_vars += [self.add_weight(name='log_var' + str(i), shape=(1,),\n",
    "                                              initializer=Constant(0.), trainable=True)]\n",
    "        super(CustomMultiLossLayer, self).build(input_shape)\n",
    "\n",
    "    def multi_loss(self, ys_true, ys_pred):\n",
    "        assert len(ys_true) == self.nb_outputs and len(ys_pred) == self.nb_outputs\n",
    "        loss = 0\n",
    "        for y_true, y_pred, log_var in zip(ys_true, ys_pred, self.log_vars):\n",
    "            precision = K.exp(-log_var[0])\n",
    "            loss += K.sum(precision * (y_true - y_pred)**2. + log_var[0], -1)\n",
    "        return K.mean(loss)\n",
    "\n",
    "    def call(self, inputs):\n",
    "        ys_true = inputs[:self.nb_outputs]\n",
    "        ys_pred = inputs[self.nb_outputs:]\n",
    "        loss = self.multi_loss(ys_true, ys_pred)\n",
    "        self.add_loss(loss, inputs=inputs)\n",
    "        # We won't actually use the output.\n",
    "        return K.concatenate(inputs, -1)"
   ]
  },
  {
   "cell_type": "code",
   "execution_count": 33,
   "metadata": {},
   "outputs": [],
   "source": [
    "import keras\n",
    "num_cnn_layers = 5\n",
    "num_lstm_layers = 1\n",
    "num_lin_layers = 2\n",
    "inputLayer = keras.layers.Input((1500, 3))\n",
    "x = inputLayer\n",
    "\n",
    "\n",
    "for i in range(num_cnn_layers):\n",
    "    x = keras.layers.BatchNormalization()(x)\n",
    "    x = keras.layers.Conv1D(16, (3,), padding=\"same\")(x)\n",
    "    x = keras.layers.LeakyReLU()(x)\n",
    "    x = keras.layers.MaxPool1D((2,))(x)\n",
    "for j in range(num_lstm_layers):\n",
    "    x = keras.layers.BatchNormalization()(x)\n",
    "    x = keras.layers.CuDNNLSTM(256, return_sequences=True)(x)\n",
    "    x = keras.layers.LeakyReLU()(x)\n",
    "\n",
    "\n",
    "x = keras.layers.Flatten(name=\"flatten_encoder_lstm\")(x)\n",
    "x = keras.layers.Dense(200)(x)\n",
    "x = keras.layers.LeakyReLU()(x)\n",
    "x = keras.layers.Dropout(0.5)(x)\n",
    "\n",
    "x_shared_flattened = x\n",
    "\n",
    "#one_off\n",
    "x = x_shared_flattened \n",
    "for k in range(num_lin_layers):\n",
    "    x = keras.layers.BatchNormalization()(x)\n",
    "    x = keras.layers.Dense(256)(x)\n",
    "    x = keras.layers.LeakyReLU()(x)\n",
    "    x = keras.layers.Dropout(0.5)(x)\n",
    "x = keras.layers.Dense(1)(x)\n",
    "x_on_off = keras.layers.ReLU(name=\"on_off\", max_value=4)(x)\n",
    "x_on_off_input = keras.layers.Input((1,))\n",
    "\n",
    "#dyskinesia\n",
    "x = x_shared_flattened \n",
    "for k in range(num_lin_layers):\n",
    "    x = keras.layers.BatchNormalization()(x)\n",
    "    x = keras.layers.Dense(100)(x)\n",
    "    x = keras.layers.LeakyReLU()(x)\n",
    "    x = keras.layers.Dropout(0.5)(x)\n",
    "x = keras.layers.Dense(1)(x)\n",
    "x_dyskinesia = keras.layers.ReLU(name=\"dyskinesia\", max_value=4)(x)\n",
    "x_dyskinesia_input = keras.layers.Input((1,))\n",
    "\n",
    "#tremor classify\n",
    "x = x_shared_flattened \n",
    "for k in range(num_lin_layers):\n",
    "    x = keras.layers.BatchNormalization()(x)\n",
    "    x = keras.layers.Dense(100)(x)\n",
    "    x = keras.layers.LeakyReLU()(x)\n",
    "    x = keras.layers.Dropout(0.5)(x)\n",
    "x = keras.layers.Dense(1)(x)\n",
    "x_tremor = keras.layers.ReLU(name=\"tremor\", max_value=4)(x)\n",
    "x_tremor_input = keras.layers.Input((1,))\n",
    "\n",
    "\n",
    "x = CustomMultiLossLayer(nb_outputs=3)([x_on_off, x_dyskinesia, x_tremor, x_on_off_input, x_tremor_input, x_dyskinesia_input])\n",
    "model = keras.Model(inputs=[inputLayer, x_on_off_input, x_tremor_input, x_dyskinesia_input], outputs=x)\n",
    "actual_model = keras.Model(inputs=inputLayer, outputs=[x_on_off, x_dyskinesia, x_tremor])"
   ]
  },
  {
   "cell_type": "code",
   "execution_count": 34,
   "metadata": {},
   "outputs": [
    {
     "name": "stdout",
     "output_type": "stream",
     "text": [
      "__________________________________________________________________________________________________\n",
      "Layer (type)                    Output Shape         Param #     Connected to                     \n",
      "==================================================================================================\n",
      "input_6 (InputLayer)            (None, 1500, 3)      0                                            \n",
      "__________________________________________________________________________________________________\n",
      "batch_normalization_21 (BatchNo (None, 1500, 3)      12          input_6[0][0]                    \n",
      "__________________________________________________________________________________________________\n",
      "conv1d_11 (Conv1D)              (None, 1500, 16)     160         batch_normalization_21[0][0]     \n",
      "__________________________________________________________________________________________________\n",
      "leaky_re_lu_23 (LeakyReLU)      (None, 1500, 16)     0           conv1d_11[0][0]                  \n",
      "__________________________________________________________________________________________________\n",
      "max_pooling1d_11 (MaxPooling1D) (None, 750, 16)      0           leaky_re_lu_23[0][0]             \n",
      "__________________________________________________________________________________________________\n",
      "batch_normalization_22 (BatchNo (None, 750, 16)      64          max_pooling1d_11[0][0]           \n",
      "__________________________________________________________________________________________________\n",
      "conv1d_12 (Conv1D)              (None, 750, 16)      784         batch_normalization_22[0][0]     \n",
      "__________________________________________________________________________________________________\n",
      "leaky_re_lu_24 (LeakyReLU)      (None, 750, 16)      0           conv1d_12[0][0]                  \n",
      "__________________________________________________________________________________________________\n",
      "max_pooling1d_12 (MaxPooling1D) (None, 375, 16)      0           leaky_re_lu_24[0][0]             \n",
      "__________________________________________________________________________________________________\n",
      "batch_normalization_23 (BatchNo (None, 375, 16)      64          max_pooling1d_12[0][0]           \n",
      "__________________________________________________________________________________________________\n",
      "conv1d_13 (Conv1D)              (None, 375, 16)      784         batch_normalization_23[0][0]     \n",
      "__________________________________________________________________________________________________\n",
      "leaky_re_lu_25 (LeakyReLU)      (None, 375, 16)      0           conv1d_13[0][0]                  \n",
      "__________________________________________________________________________________________________\n",
      "max_pooling1d_13 (MaxPooling1D) (None, 187, 16)      0           leaky_re_lu_25[0][0]             \n",
      "__________________________________________________________________________________________________\n",
      "batch_normalization_24 (BatchNo (None, 187, 16)      64          max_pooling1d_13[0][0]           \n",
      "__________________________________________________________________________________________________\n",
      "conv1d_14 (Conv1D)              (None, 187, 16)      784         batch_normalization_24[0][0]     \n",
      "__________________________________________________________________________________________________\n",
      "leaky_re_lu_26 (LeakyReLU)      (None, 187, 16)      0           conv1d_14[0][0]                  \n",
      "__________________________________________________________________________________________________\n",
      "max_pooling1d_14 (MaxPooling1D) (None, 93, 16)       0           leaky_re_lu_26[0][0]             \n",
      "__________________________________________________________________________________________________\n",
      "batch_normalization_25 (BatchNo (None, 93, 16)       64          max_pooling1d_14[0][0]           \n",
      "__________________________________________________________________________________________________\n",
      "conv1d_15 (Conv1D)              (None, 93, 16)       784         batch_normalization_25[0][0]     \n",
      "__________________________________________________________________________________________________\n",
      "leaky_re_lu_27 (LeakyReLU)      (None, 93, 16)       0           conv1d_15[0][0]                  \n",
      "__________________________________________________________________________________________________\n",
      "max_pooling1d_15 (MaxPooling1D) (None, 46, 16)       0           leaky_re_lu_27[0][0]             \n",
      "__________________________________________________________________________________________________\n",
      "batch_normalization_26 (BatchNo (None, 46, 16)       64          max_pooling1d_15[0][0]           \n",
      "__________________________________________________________________________________________________\n",
      "cu_dnnlstm_3 (CuDNNLSTM)        (None, 46, 256)      280576      batch_normalization_26[0][0]     \n",
      "__________________________________________________________________________________________________\n",
      "leaky_re_lu_28 (LeakyReLU)      (None, 46, 256)      0           cu_dnnlstm_3[0][0]               \n",
      "__________________________________________________________________________________________________\n",
      "flatten_encoder_lstm (Flatten)  (None, 11776)        0           leaky_re_lu_28[0][0]             \n",
      "__________________________________________________________________________________________________\n",
      "dense_15 (Dense)                (None, 200)          2355400     flatten_encoder_lstm[0][0]       \n",
      "__________________________________________________________________________________________________\n",
      "leaky_re_lu_29 (LeakyReLU)      (None, 200)          0           dense_15[0][0]                   \n",
      "__________________________________________________________________________________________________\n",
      "dropout_11 (Dropout)            (None, 200)          0           leaky_re_lu_29[0][0]             \n",
      "__________________________________________________________________________________________________\n",
      "batch_normalization_27 (BatchNo (None, 200)          800         dropout_11[0][0]                 \n",
      "__________________________________________________________________________________________________\n",
      "batch_normalization_29 (BatchNo (None, 200)          800         dropout_11[0][0]                 \n",
      "__________________________________________________________________________________________________\n",
      "batch_normalization_31 (BatchNo (None, 200)          800         dropout_11[0][0]                 \n",
      "__________________________________________________________________________________________________\n",
      "dense_16 (Dense)                (None, 256)          51456       batch_normalization_27[0][0]     \n",
      "__________________________________________________________________________________________________\n",
      "dense_19 (Dense)                (None, 100)          20100       batch_normalization_29[0][0]     \n",
      "__________________________________________________________________________________________________\n",
      "dense_22 (Dense)                (None, 100)          20100       batch_normalization_31[0][0]     \n",
      "__________________________________________________________________________________________________\n",
      "leaky_re_lu_30 (LeakyReLU)      (None, 256)          0           dense_16[0][0]                   \n",
      "__________________________________________________________________________________________________\n",
      "leaky_re_lu_32 (LeakyReLU)      (None, 100)          0           dense_19[0][0]                   \n",
      "__________________________________________________________________________________________________\n",
      "leaky_re_lu_34 (LeakyReLU)      (None, 100)          0           dense_22[0][0]                   \n",
      "__________________________________________________________________________________________________\n",
      "dropout_12 (Dropout)            (None, 256)          0           leaky_re_lu_30[0][0]             \n",
      "__________________________________________________________________________________________________\n",
      "dropout_14 (Dropout)            (None, 100)          0           leaky_re_lu_32[0][0]             \n",
      "__________________________________________________________________________________________________\n",
      "dropout_16 (Dropout)            (None, 100)          0           leaky_re_lu_34[0][0]             \n",
      "__________________________________________________________________________________________________\n",
      "batch_normalization_28 (BatchNo (None, 256)          1024        dropout_12[0][0]                 \n",
      "__________________________________________________________________________________________________\n",
      "batch_normalization_30 (BatchNo (None, 100)          400         dropout_14[0][0]                 \n",
      "__________________________________________________________________________________________________\n",
      "batch_normalization_32 (BatchNo (None, 100)          400         dropout_16[0][0]                 \n",
      "__________________________________________________________________________________________________\n",
      "dense_17 (Dense)                (None, 256)          65792       batch_normalization_28[0][0]     \n",
      "__________________________________________________________________________________________________\n",
      "dense_20 (Dense)                (None, 100)          10100       batch_normalization_30[0][0]     \n",
      "__________________________________________________________________________________________________\n",
      "dense_23 (Dense)                (None, 100)          10100       batch_normalization_32[0][0]     \n",
      "__________________________________________________________________________________________________\n",
      "leaky_re_lu_31 (LeakyReLU)      (None, 256)          0           dense_17[0][0]                   \n",
      "__________________________________________________________________________________________________\n",
      "leaky_re_lu_33 (LeakyReLU)      (None, 100)          0           dense_20[0][0]                   \n",
      "__________________________________________________________________________________________________\n",
      "leaky_re_lu_35 (LeakyReLU)      (None, 100)          0           dense_23[0][0]                   \n",
      "__________________________________________________________________________________________________\n",
      "dropout_13 (Dropout)            (None, 256)          0           leaky_re_lu_31[0][0]             \n",
      "__________________________________________________________________________________________________\n",
      "dropout_15 (Dropout)            (None, 100)          0           leaky_re_lu_33[0][0]             \n",
      "__________________________________________________________________________________________________\n",
      "dropout_17 (Dropout)            (None, 100)          0           leaky_re_lu_35[0][0]             \n",
      "__________________________________________________________________________________________________\n",
      "dense_18 (Dense)                (None, 1)            257         dropout_13[0][0]                 \n",
      "__________________________________________________________________________________________________\n",
      "dense_21 (Dense)                (None, 1)            101         dropout_15[0][0]                 \n",
      "__________________________________________________________________________________________________\n",
      "dense_24 (Dense)                (None, 1)            101         dropout_17[0][0]                 \n",
      "__________________________________________________________________________________________________\n",
      "on_off (ReLU)                   (None, 1)            0           dense_18[0][0]                   \n",
      "__________________________________________________________________________________________________\n",
      "dyskinesia (ReLU)               (None, 1)            0           dense_21[0][0]                   \n",
      "__________________________________________________________________________________________________\n",
      "tremor (ReLU)                   (None, 1)            0           dense_24[0][0]                   \n",
      "__________________________________________________________________________________________________\n",
      "input_7 (InputLayer)            (None, 1)            0                                            \n",
      "__________________________________________________________________________________________________\n",
      "input_9 (InputLayer)            (None, 1)            0                                            \n",
      "__________________________________________________________________________________________________\n",
      "input_8 (InputLayer)            (None, 1)            0                                            \n",
      "__________________________________________________________________________________________________\n",
      "custom_multi_loss_layer_2 (Cust [(None, 1), (None, 1 3           on_off[0][0]                     \n",
      "                                                                 dyskinesia[0][0]                 \n",
      "                                                                 tremor[0][0]                     \n",
      "                                                                 input_7[0][0]                    \n",
      "                                                                 input_9[0][0]                    \n",
      "                                                                 input_8[0][0]                    \n",
      "==================================================================================================\n",
      "Total params: 2,821,938\n",
      "Trainable params: 2,819,660\n",
      "Non-trainable params: 2,278\n",
      "__________________________________________________________________________________________________\n"
     ]
    }
   ],
   "source": [
    "model.compile(\"adam\", loss=None)\n",
    "model.summary()"
   ]
  },
  {
   "cell_type": "code",
   "execution_count": null,
   "metadata": {},
   "outputs": [],
   "source": []
  },
  {
   "cell_type": "code",
   "execution_count": 36,
   "metadata": {},
   "outputs": [
    {
     "name": "stdout",
     "output_type": "stream",
     "text": [
      "WARNING:tensorflow:From /home/ms994/miniconda3/envs/keras-redo/lib/python3.7/site-packages/tensorflow/python/ops/math_ops.py:3066: to_int32 (from tensorflow.python.ops.math_ops) is deprecated and will be removed in a future version.\n",
      "Instructions for updating:\n",
      "Use tf.cast instead.\n",
      "Train on 36987 samples, validate on 12434 samples\n",
      "Epoch 1/200\n",
      "36987/36987 [==============================] - 36s 967us/step - loss: 3.9081 - val_loss: 3.1129\n",
      "\n",
      "Epoch 00001: val_loss improved from inf to 3.11286, saving model to /n/scratch2/ms994/cnnlstm3.h5\n",
      "Epoch 2/200\n",
      "36987/36987 [==============================] - 11s 306us/step - loss: 3.3946 - val_loss: 3.1701\n",
      "\n",
      "Epoch 00002: val_loss did not improve from 3.11286\n",
      "Epoch 3/200\n",
      "36987/36987 [==============================] - 11s 305us/step - loss: 3.3059 - val_loss: 2.9197\n",
      "\n",
      "Epoch 00003: val_loss improved from 3.11286 to 2.91972, saving model to /n/scratch2/ms994/cnnlstm3.h5\n",
      "Epoch 4/200\n",
      "36987/36987 [==============================] - 11s 307us/step - loss: 3.1170 - val_loss: 2.8658\n",
      "\n",
      "Epoch 00004: val_loss improved from 2.91972 to 2.86579, saving model to /n/scratch2/ms994/cnnlstm3.h5\n",
      "Epoch 5/200\n",
      "36987/36987 [==============================] - 11s 308us/step - loss: 3.0527 - val_loss: 2.8392\n",
      "\n",
      "Epoch 00005: val_loss improved from 2.86579 to 2.83920, saving model to /n/scratch2/ms994/cnnlstm3.h5\n",
      "Epoch 6/200\n",
      "36987/36987 [==============================] - 11s 307us/step - loss: 3.0436 - val_loss: 2.8404\n",
      "\n",
      "Epoch 00006: val_loss did not improve from 2.83920\n",
      "Epoch 7/200\n",
      "36987/36987 [==============================] - 11s 306us/step - loss: 2.9893 - val_loss: 2.7646\n",
      "\n",
      "Epoch 00007: val_loss improved from 2.83920 to 2.76458, saving model to /n/scratch2/ms994/cnnlstm3.h5\n",
      "Epoch 8/200\n",
      "36987/36987 [==============================] - 11s 305us/step - loss: 2.9868 - val_loss: 2.8722\n",
      "\n",
      "Epoch 00008: val_loss did not improve from 2.76458\n",
      "Epoch 9/200\n",
      "36987/36987 [==============================] - 11s 305us/step - loss: 2.9122 - val_loss: 2.7861\n",
      "\n",
      "Epoch 00009: val_loss did not improve from 2.76458\n",
      "Epoch 10/200\n",
      "36987/36987 [==============================] - 11s 307us/step - loss: 2.8787 - val_loss: 2.7499\n",
      "\n",
      "Epoch 00010: val_loss improved from 2.76458 to 2.74985, saving model to /n/scratch2/ms994/cnnlstm3.h5\n",
      "Epoch 11/200\n",
      "36987/36987 [==============================] - 11s 306us/step - loss: 2.8367 - val_loss: 2.8068\n",
      "\n",
      "Epoch 00011: val_loss did not improve from 2.74985\n",
      "Epoch 12/200\n",
      "36987/36987 [==============================] - 11s 306us/step - loss: 2.8208 - val_loss: 2.7518\n",
      "\n",
      "Epoch 00012: val_loss did not improve from 2.74985\n",
      "Epoch 13/200\n",
      "36987/36987 [==============================] - 11s 305us/step - loss: 2.7854 - val_loss: 2.7728\n",
      "\n",
      "Epoch 00013: val_loss did not improve from 2.74985\n",
      "Epoch 14/200\n",
      "36987/36987 [==============================] - 11s 306us/step - loss: 2.7656 - val_loss: 2.7374\n",
      "\n",
      "Epoch 00014: val_loss improved from 2.74985 to 2.73744, saving model to /n/scratch2/ms994/cnnlstm3.h5\n",
      "Epoch 15/200\n",
      "36987/36987 [==============================] - 11s 310us/step - loss: 2.7438 - val_loss: 2.7525\n",
      "\n",
      "Epoch 00015: val_loss did not improve from 2.73744\n",
      "Epoch 16/200\n",
      "36987/36987 [==============================] - 11s 308us/step - loss: 2.7396 - val_loss: 2.7584\n",
      "\n",
      "Epoch 00016: val_loss did not improve from 2.73744\n",
      "Epoch 17/200\n",
      "36987/36987 [==============================] - 11s 306us/step - loss: 2.7266 - val_loss: 2.7520\n",
      "\n",
      "Epoch 00017: val_loss did not improve from 2.73744\n",
      "Epoch 18/200\n",
      "36987/36987 [==============================] - 11s 305us/step - loss: 2.7290 - val_loss: 2.7627\n",
      "\n",
      "Epoch 00018: val_loss did not improve from 2.73744\n",
      "Epoch 19/200\n",
      "36987/36987 [==============================] - 11s 304us/step - loss: 2.7107 - val_loss: 2.7607\n",
      "\n",
      "Epoch 00019: val_loss did not improve from 2.73744\n",
      "Epoch 20/200\n",
      "36987/36987 [==============================] - 11s 305us/step - loss: 2.7164 - val_loss: 2.7711\n",
      "\n",
      "Epoch 00020: val_loss did not improve from 2.73744\n",
      "Epoch 21/200\n",
      "36987/36987 [==============================] - 11s 306us/step - loss: 2.7074 - val_loss: 2.7675\n",
      "\n",
      "Epoch 00021: val_loss did not improve from 2.73744\n",
      "Epoch 22/200\n",
      "36987/36987 [==============================] - 11s 305us/step - loss: 2.7094 - val_loss: 2.7612\n",
      "\n",
      "Epoch 00022: val_loss did not improve from 2.73744\n",
      "Epoch 23/200\n",
      "36987/36987 [==============================] - 11s 306us/step - loss: 2.7006 - val_loss: 2.7622\n",
      "\n",
      "Epoch 00023: val_loss did not improve from 2.73744\n",
      "Epoch 24/200\n",
      "36987/36987 [==============================] - 11s 307us/step - loss: 2.7077 - val_loss: 2.7539\n",
      "\n",
      "Epoch 00024: val_loss did not improve from 2.73744\n",
      "Epoch 25/200\n",
      "36987/36987 [==============================] - 11s 306us/step - loss: 2.7025 - val_loss: 2.7535\n",
      "\n",
      "Epoch 00025: val_loss did not improve from 2.73744\n",
      "Epoch 26/200\n",
      "36987/36987 [==============================] - 11s 307us/step - loss: 2.7087 - val_loss: 2.7509\n",
      "\n",
      "Epoch 00026: val_loss did not improve from 2.73744\n",
      "Epoch 27/200\n",
      "36987/36987 [==============================] - 11s 306us/step - loss: 2.7014 - val_loss: 2.7595\n",
      "\n",
      "Epoch 00027: val_loss did not improve from 2.73744\n",
      "Epoch 28/200\n",
      "36987/36987 [==============================] - 11s 307us/step - loss: 2.7036 - val_loss: 2.7637\n",
      "\n",
      "Epoch 00028: val_loss did not improve from 2.73744\n",
      "Epoch 29/200\n",
      "36987/36987 [==============================] - 11s 306us/step - loss: 2.6853 - val_loss: 2.7623\n",
      "\n",
      "Epoch 00029: val_loss did not improve from 2.73744\n",
      "Epoch 30/200\n",
      "36987/36987 [==============================] - 11s 305us/step - loss: 2.6924 - val_loss: 2.7600\n",
      "\n",
      "Epoch 00030: val_loss did not improve from 2.73744\n",
      "Epoch 31/200\n",
      "36987/36987 [==============================] - 11s 307us/step - loss: 2.6980 - val_loss: 2.7590\n",
      "\n",
      "Epoch 00031: val_loss did not improve from 2.73744\n",
      "Epoch 32/200\n",
      "36987/36987 [==============================] - 11s 306us/step - loss: 2.6931 - val_loss: 2.7571\n",
      "\n",
      "Epoch 00032: val_loss did not improve from 2.73744\n",
      "Epoch 33/200\n",
      "36987/36987 [==============================] - 11s 305us/step - loss: 2.7011 - val_loss: 2.7627\n",
      "\n",
      "Epoch 00033: val_loss did not improve from 2.73744\n",
      "Epoch 34/200\n",
      "36987/36987 [==============================] - 11s 305us/step - loss: 2.6931 - val_loss: 2.7585\n",
      "\n",
      "Epoch 00034: val_loss did not improve from 2.73744\n"
     ]
    }
   ],
   "source": [
    "modelCheckpoint = keras.callbacks.ModelCheckpoint(\"/n/scratch2/ms994/cnnlstm3.h5\", save_best_only=True, verbose=True)\n",
    "reduceLR = keras.callbacks.ReduceLROnPlateau(patience=5, verbose=True)\n",
    "earlyStopping = keras.callbacks.EarlyStopping(patience=20, min_delta=0.01)\n",
    "lr_schedule = keras.callbacks.LearningRateScheduler(lambda i, lr: lr*0.8)\n",
    "history = model.fit(x=[x_train, y_train.on_off.values, y_train.dyskinesia.values, y_train.tremor.values], validation_data=([[x_valid, y_valid.on_off.values, y_valid.dyskinesia.values,y_valid.tremor.values],[]]), callbacks=[earlyStopping, lr_schedule, modelCheckpoint], epochs=200, batch_size=128)"
   ]
  },
  {
   "cell_type": "code",
   "execution_count": 37,
   "metadata": {},
   "outputs": [
    {
     "ename": "ValueError",
     "evalue": "Error when checking model input: the list of Numpy arrays that you are passing to your model is not the size the model expected. Expected to see 4 array(s), but instead got the following list of 1 arrays: [array([[[-1.00231932e+00,  7.67822265e-02,  1.69311525e-01],\n        [-1.06408690e+00,  4.05273450e-02,  2.78564455e-01],\n        [-1.00964354e+00, -3.22265630e-02,  3.40942385e-01],\n        ...,\n   ...",
     "output_type": "error",
     "traceback": [
      "\u001b[0;31m---------------------------------------------------------------------------\u001b[0m",
      "\u001b[0;31mValueError\u001b[0m                                Traceback (most recent call last)",
      "\u001b[0;32m<ipython-input-37-965c6f9d82b4>\u001b[0m in \u001b[0;36m<module>\u001b[0;34m\u001b[0m\n\u001b[0;32m----> 1\u001b[0;31m \u001b[0my_pred\u001b[0m \u001b[0;34m=\u001b[0m \u001b[0mmodel\u001b[0m\u001b[0;34m.\u001b[0m\u001b[0mpredict\u001b[0m\u001b[0;34m(\u001b[0m\u001b[0mx_valid\u001b[0m\u001b[0;34m)\u001b[0m\u001b[0;34m\u001b[0m\u001b[0;34m\u001b[0m\u001b[0m\n\u001b[0m",
      "\u001b[0;32m~/miniconda3/envs/keras-redo/lib/python3.7/site-packages/keras/engine/training.py\u001b[0m in \u001b[0;36mpredict\u001b[0;34m(self, x, batch_size, verbose, steps)\u001b[0m\n\u001b[1;32m   1147\u001b[0m                              'argument.')\n\u001b[1;32m   1148\u001b[0m         \u001b[0;31m# Validate user data.\u001b[0m\u001b[0;34m\u001b[0m\u001b[0;34m\u001b[0m\u001b[0;34m\u001b[0m\u001b[0m\n\u001b[0;32m-> 1149\u001b[0;31m         \u001b[0mx\u001b[0m\u001b[0;34m,\u001b[0m \u001b[0m_\u001b[0m\u001b[0;34m,\u001b[0m \u001b[0m_\u001b[0m \u001b[0;34m=\u001b[0m \u001b[0mself\u001b[0m\u001b[0;34m.\u001b[0m\u001b[0m_standardize_user_data\u001b[0m\u001b[0;34m(\u001b[0m\u001b[0mx\u001b[0m\u001b[0;34m)\u001b[0m\u001b[0;34m\u001b[0m\u001b[0;34m\u001b[0m\u001b[0m\n\u001b[0m\u001b[1;32m   1150\u001b[0m         \u001b[0;32mif\u001b[0m \u001b[0mself\u001b[0m\u001b[0;34m.\u001b[0m\u001b[0mstateful\u001b[0m\u001b[0;34m:\u001b[0m\u001b[0;34m\u001b[0m\u001b[0;34m\u001b[0m\u001b[0m\n\u001b[1;32m   1151\u001b[0m             \u001b[0;32mif\u001b[0m \u001b[0mx\u001b[0m\u001b[0;34m[\u001b[0m\u001b[0;36m0\u001b[0m\u001b[0;34m]\u001b[0m\u001b[0;34m.\u001b[0m\u001b[0mshape\u001b[0m\u001b[0;34m[\u001b[0m\u001b[0;36m0\u001b[0m\u001b[0;34m]\u001b[0m \u001b[0;34m>\u001b[0m \u001b[0mbatch_size\u001b[0m \u001b[0;32mand\u001b[0m \u001b[0mx\u001b[0m\u001b[0;34m[\u001b[0m\u001b[0;36m0\u001b[0m\u001b[0;34m]\u001b[0m\u001b[0;34m.\u001b[0m\u001b[0mshape\u001b[0m\u001b[0;34m[\u001b[0m\u001b[0;36m0\u001b[0m\u001b[0;34m]\u001b[0m \u001b[0;34m%\u001b[0m \u001b[0mbatch_size\u001b[0m \u001b[0;34m!=\u001b[0m \u001b[0;36m0\u001b[0m\u001b[0;34m:\u001b[0m\u001b[0;34m\u001b[0m\u001b[0;34m\u001b[0m\u001b[0m\n",
      "\u001b[0;32m~/miniconda3/envs/keras-redo/lib/python3.7/site-packages/keras/engine/training.py\u001b[0m in \u001b[0;36m_standardize_user_data\u001b[0;34m(self, x, y, sample_weight, class_weight, check_array_lengths, batch_size)\u001b[0m\n\u001b[1;32m    749\u001b[0m             \u001b[0mfeed_input_shapes\u001b[0m\u001b[0;34m,\u001b[0m\u001b[0;34m\u001b[0m\u001b[0;34m\u001b[0m\u001b[0m\n\u001b[1;32m    750\u001b[0m             \u001b[0mcheck_batch_axis\u001b[0m\u001b[0;34m=\u001b[0m\u001b[0;32mFalse\u001b[0m\u001b[0;34m,\u001b[0m  \u001b[0;31m# Don't enforce the batch size.\u001b[0m\u001b[0;34m\u001b[0m\u001b[0;34m\u001b[0m\u001b[0m\n\u001b[0;32m--> 751\u001b[0;31m             exception_prefix='input')\n\u001b[0m\u001b[1;32m    752\u001b[0m \u001b[0;34m\u001b[0m\u001b[0m\n\u001b[1;32m    753\u001b[0m         \u001b[0;32mif\u001b[0m \u001b[0my\u001b[0m \u001b[0;32mis\u001b[0m \u001b[0;32mnot\u001b[0m \u001b[0;32mNone\u001b[0m\u001b[0;34m:\u001b[0m\u001b[0;34m\u001b[0m\u001b[0;34m\u001b[0m\u001b[0m\n",
      "\u001b[0;32m~/miniconda3/envs/keras-redo/lib/python3.7/site-packages/keras/engine/training_utils.py\u001b[0m in \u001b[0;36mstandardize_input_data\u001b[0;34m(data, names, shapes, check_batch_axis, exception_prefix)\u001b[0m\n\u001b[1;32m    100\u001b[0m                 \u001b[0;34m'Expected to see '\u001b[0m \u001b[0;34m+\u001b[0m \u001b[0mstr\u001b[0m\u001b[0;34m(\u001b[0m\u001b[0mlen\u001b[0m\u001b[0;34m(\u001b[0m\u001b[0mnames\u001b[0m\u001b[0;34m)\u001b[0m\u001b[0;34m)\u001b[0m \u001b[0;34m+\u001b[0m \u001b[0;34m' array(s), '\u001b[0m\u001b[0;34m\u001b[0m\u001b[0;34m\u001b[0m\u001b[0m\n\u001b[1;32m    101\u001b[0m                 \u001b[0;34m'but instead got the following list of '\u001b[0m \u001b[0;34m+\u001b[0m\u001b[0;34m\u001b[0m\u001b[0;34m\u001b[0m\u001b[0m\n\u001b[0;32m--> 102\u001b[0;31m                 str(len(data)) + ' arrays: ' + str(data)[:200] + '...')\n\u001b[0m\u001b[1;32m    103\u001b[0m         \u001b[0;32melif\u001b[0m \u001b[0mlen\u001b[0m\u001b[0;34m(\u001b[0m\u001b[0mnames\u001b[0m\u001b[0;34m)\u001b[0m \u001b[0;34m>\u001b[0m \u001b[0;36m1\u001b[0m\u001b[0;34m:\u001b[0m\u001b[0;34m\u001b[0m\u001b[0;34m\u001b[0m\u001b[0m\n\u001b[1;32m    104\u001b[0m             raise ValueError(\n",
      "\u001b[0;31mValueError\u001b[0m: Error when checking model input: the list of Numpy arrays that you are passing to your model is not the size the model expected. Expected to see 4 array(s), but instead got the following list of 1 arrays: [array([[[-1.00231932e+00,  7.67822265e-02,  1.69311525e-01],\n        [-1.06408690e+00,  4.05273450e-02,  2.78564455e-01],\n        [-1.00964354e+00, -3.22265630e-02,  3.40942385e-01],\n        ...,\n   ..."
     ]
    }
   ],
   "source": [
    "y_pred = model.predict(x_valid)"
   ]
  }
 ],
 "metadata": {
  "kernelspec": {
   "display_name": "Python 3",
   "language": "python",
   "name": "python3"
  },
  "language_info": {
   "codemirror_mode": {
    "name": "ipython",
    "version": 3
   },
   "file_extension": ".py",
   "mimetype": "text/x-python",
   "name": "python",
   "nbconvert_exporter": "python",
   "pygments_lexer": "ipython3",
   "version": "3.7.3"
  },
  "toc": {
   "base_numbering": 1,
   "nav_menu": {},
   "number_sections": true,
   "sideBar": true,
   "skip_h1_title": false,
   "title_cell": "Table of Contents",
   "title_sidebar": "Contents",
   "toc_cell": false,
   "toc_position": {
    "height": "calc(100% - 180px)",
    "left": "10px",
    "top": "150px",
    "width": "300px"
   },
   "toc_section_display": true,
   "toc_window_display": true
  }
 },
 "nbformat": 4,
 "nbformat_minor": 2
}
