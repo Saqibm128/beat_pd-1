{
 "cells": [
  {
   "cell_type": "markdown",
   "metadata": {},
   "source": [
    "# Rationale\n",
    "Let's train a RealPD-only network first, but I hope that there is an increase in metrics if we use both datasets together"
   ]
  },
  {
   "cell_type": "code",
   "execution_count": 1,
   "metadata": {},
   "outputs": [
    {
     "name": "stderr",
     "output_type": "stream",
     "text": [
      "/home/ms994/miniconda3/envs/keras-redo/lib/python3.7/site-packages/tensorflow/python/framework/dtypes.py:526: FutureWarning: Passing (type, 1) or '1type' as a synonym of type is deprecated; in a future version of numpy, it will be understood as (type, (1,)) / '(1,)type'.\n",
      "  _np_qint8 = np.dtype([(\"qint8\", np.int8, 1)])\n",
      "/home/ms994/miniconda3/envs/keras-redo/lib/python3.7/site-packages/tensorflow/python/framework/dtypes.py:527: FutureWarning: Passing (type, 1) or '1type' as a synonym of type is deprecated; in a future version of numpy, it will be understood as (type, (1,)) / '(1,)type'.\n",
      "  _np_quint8 = np.dtype([(\"quint8\", np.uint8, 1)])\n",
      "/home/ms994/miniconda3/envs/keras-redo/lib/python3.7/site-packages/tensorflow/python/framework/dtypes.py:528: FutureWarning: Passing (type, 1) or '1type' as a synonym of type is deprecated; in a future version of numpy, it will be understood as (type, (1,)) / '(1,)type'.\n",
      "  _np_qint16 = np.dtype([(\"qint16\", np.int16, 1)])\n",
      "/home/ms994/miniconda3/envs/keras-redo/lib/python3.7/site-packages/tensorflow/python/framework/dtypes.py:529: FutureWarning: Passing (type, 1) or '1type' as a synonym of type is deprecated; in a future version of numpy, it will be understood as (type, (1,)) / '(1,)type'.\n",
      "  _np_quint16 = np.dtype([(\"quint16\", np.uint16, 1)])\n",
      "/home/ms994/miniconda3/envs/keras-redo/lib/python3.7/site-packages/tensorflow/python/framework/dtypes.py:530: FutureWarning: Passing (type, 1) or '1type' as a synonym of type is deprecated; in a future version of numpy, it will be understood as (type, (1,)) / '(1,)type'.\n",
      "  _np_qint32 = np.dtype([(\"qint32\", np.int32, 1)])\n",
      "/home/ms994/miniconda3/envs/keras-redo/lib/python3.7/site-packages/tensorflow/python/framework/dtypes.py:535: FutureWarning: Passing (type, 1) or '1type' as a synonym of type is deprecated; in a future version of numpy, it will be understood as (type, (1,)) / '(1,)type'.\n",
      "  np_resource = np.dtype([(\"resource\", np.ubyte, 1)])\n"
     ]
    }
   ],
   "source": [
    "import tensorflow as tf\n",
    "import tf_mapper\n",
    "from importlib import reload\n",
    "reload(tf_mapper)\n",
    "from tf_mapper import get_batched_dataset\n",
    "# tf.enable_eager_execution()\n",
    "# Helperfunctions to make your feature definition more readable\n",
    "\n",
    "def read_tfrecord(example):\n",
    "    features = { \\\n",
    "               'watch_accel':tf.io.FixedLenFeature([1500*3], tf.float32,),\\\n",
    "               'watch_gyro':tf.io.FixedLenFeature([1500*3], tf.float32,),\\\n",
    "               'watch_phone': tf.io.FixedLenFeature([1500*3], tf.float32,),\\\n",
    "               'has_watch_accel': tf.io.FixedLenFeature([1], tf.int64,),\\\n",
    "               'has_gyro':tf.io.FixedLenFeature([1], tf.int64,),\\\n",
    "               'has_phone': tf.io.FixedLenFeature([1], tf.int64,),\\\n",
    "               'on_off': tf.io.FixedLenFeature([1], tf.int64,),\\\n",
    "               'dyskinesia':tf.io.FixedLenFeature([1], tf.int64,),\\\n",
    "               'measurement_id': tf.io.FixedLenFeature([1], tf.int64,),\\\n",
    "               'tremor': tf.io.FixedLenFeature([1], tf.int64,),\\\n",
    "               'subjects': tf.io.FixedLenFeature([1], tf.int64,)\n",
    "              }\n",
    "\n",
    "    example = tf.io.parse_single_example(example, features)\n",
    "    return example\n",
    "def map_example_to_simple(example):\n",
    "    data = example['data']\n",
    "    data = tf.reshape(data, (1500,3))\n",
    "    return data, (example['on_off'][0],)"
   ]
  },
  {
   "cell_type": "code",
   "execution_count": 2,
   "metadata": {},
   "outputs": [],
   "source": [
    "def tf_is_in_set(a, b):\n",
    "    return tf.reduce_sum(tf.cast(tf.equal(b, a), tf.int64)) >= 1"
   ]
  },
  {
   "cell_type": "code",
   "execution_count": null,
   "metadata": {},
   "outputs": [],
   "source": [
    "\n",
    "def get_batched_dataset(filenames, batch_size, m_ids, max_queue_size=10,  n_process=4, is_train=False):\n",
    "    option_no_order = tf.data.Options()\n",
    "    option_no_order.experimental_deterministic = False\n",
    "\n",
    "    dataset = tf.data.Dataset.list_files(filenames)\n",
    "    dataset = dataset.with_options(option_no_order)\n",
    "    dataset = dataset.interleave(tf.data.TFRecordDataset, cycle_length=1, num_parallel_calls=1)\n",
    "\n",
    "    dataset = dataset.map(read_tfrecord, num_parallel_calls=n_process)\n",
    "    dataset = dataset.filter(lambda example: tf_is_in_set(example[\"measurement_id\"][0], tf.constant(m_ids, dtype=tf.int64)))\n",
    "    dataset = dataset.map(map_example_to_simple)\n",
    "    dataset = dataset.filter(lambda x, y: tf.not_equal(y[0], -1))\n",
    "#     dataset = dataset.filter(lambda x, y: tf.math.reduce_std(x) > 0.05)\n",
    "#     dataset = dataset.filter(lambda x, y: tf.not_equal(y[1], -1))\n",
    "#     dataset = dataset.filter(lambda x, y: tf.not_equal(y[2], -1))\n",
    "\n",
    "    \n",
    "    dataset = dataset.repeat()\n",
    "    if is_train:\n",
    "        dataset = dataset.shuffle(2056)\n",
    "#     dataset = dataset.batch(batch_size, drop_remainder=True)\n",
    "    if is_train:\n",
    "        dataset = dataset.prefetch(max_queue_size)\n",
    "    else:\n",
    "        dataset = dataset.prefetch(int(max_queue_size/4)) #store a lot less for the other sets to avoid wasting memory\n",
    "\n",
    "    return dataset"
   ]
  }
 ],
 "metadata": {
  "kernelspec": {
   "display_name": "Python 3",
   "language": "python",
   "name": "python3"
  },
  "language_info": {
   "codemirror_mode": {
    "name": "ipython",
    "version": 3
   },
   "file_extension": ".py",
   "mimetype": "text/x-python",
   "name": "python",
   "nbconvert_exporter": "python",
   "pygments_lexer": "ipython3",
   "version": "3.7.3"
  },
  "toc": {
   "base_numbering": 1,
   "nav_menu": {},
   "number_sections": true,
   "sideBar": true,
   "skip_h1_title": false,
   "title_cell": "Table of Contents",
   "title_sidebar": "Contents",
   "toc_cell": false,
   "toc_position": {},
   "toc_section_display": true,
   "toc_window_display": false
  }
 },
 "nbformat": 4,
 "nbformat_minor": 2
}
