{
 "cells": [
  {
   "cell_type": "code",
   "execution_count": 1,
   "metadata": {},
   "outputs": [
    {
     "name": "stderr",
     "output_type": "stream",
     "text": [
      "/home/ms994/miniconda3/envs/keras-redo/lib/python3.7/site-packages/tensorflow/python/framework/dtypes.py:526: FutureWarning: Passing (type, 1) or '1type' as a synonym of type is deprecated; in a future version of numpy, it will be understood as (type, (1,)) / '(1,)type'.\n",
      "  _np_qint8 = np.dtype([(\"qint8\", np.int8, 1)])\n",
      "/home/ms994/miniconda3/envs/keras-redo/lib/python3.7/site-packages/tensorflow/python/framework/dtypes.py:527: FutureWarning: Passing (type, 1) or '1type' as a synonym of type is deprecated; in a future version of numpy, it will be understood as (type, (1,)) / '(1,)type'.\n",
      "  _np_quint8 = np.dtype([(\"quint8\", np.uint8, 1)])\n",
      "/home/ms994/miniconda3/envs/keras-redo/lib/python3.7/site-packages/tensorflow/python/framework/dtypes.py:528: FutureWarning: Passing (type, 1) or '1type' as a synonym of type is deprecated; in a future version of numpy, it will be understood as (type, (1,)) / '(1,)type'.\n",
      "  _np_qint16 = np.dtype([(\"qint16\", np.int16, 1)])\n",
      "/home/ms994/miniconda3/envs/keras-redo/lib/python3.7/site-packages/tensorflow/python/framework/dtypes.py:529: FutureWarning: Passing (type, 1) or '1type' as a synonym of type is deprecated; in a future version of numpy, it will be understood as (type, (1,)) / '(1,)type'.\n",
      "  _np_quint16 = np.dtype([(\"quint16\", np.uint16, 1)])\n",
      "/home/ms994/miniconda3/envs/keras-redo/lib/python3.7/site-packages/tensorflow/python/framework/dtypes.py:530: FutureWarning: Passing (type, 1) or '1type' as a synonym of type is deprecated; in a future version of numpy, it will be understood as (type, (1,)) / '(1,)type'.\n",
      "  _np_qint32 = np.dtype([(\"qint32\", np.int32, 1)])\n",
      "/home/ms994/miniconda3/envs/keras-redo/lib/python3.7/site-packages/tensorflow/python/framework/dtypes.py:535: FutureWarning: Passing (type, 1) or '1type' as a synonym of type is deprecated; in a future version of numpy, it will be understood as (type, (1,)) / '(1,)type'.\n",
      "  np_resource = np.dtype([(\"resource\", np.ubyte, 1)])\n"
     ]
    }
   ],
   "source": [
    "import tensorflow as tf\n",
    "import tf_mapper\n",
    "from importlib import reload\n",
    "import pandas as pd\n",
    "import numpy as np\n",
    "reload(tf_mapper)\n",
    "from sklearn.model_selection import train_test_split\n",
    "from tf_mapper import get_batched_dataset\n",
    "# tf.enable_eager_execution()\n",
    "# Helperfunctions to make your feature definition more readable\n",
    "import numpy as np\n",
    "import pickle as pkl\n",
    "allResults = pkl.load(open(\"/n/scratch2/ms994/realPd.pkl\", \"rb\"))"
   ]
  },
  {
   "cell_type": "code",
   "execution_count": null,
   "metadata": {},
   "outputs": [],
   "source": [
    "np.fft"
   ]
  },
  {
   "cell_type": "code",
   "execution_count": null,
   "metadata": {},
   "outputs": [],
   "source": [
    "allResults[0]"
   ]
  },
  {
   "cell_type": "code",
   "execution_count": null,
   "metadata": {},
   "outputs": [],
   "source": [
    "fft_data = np.nan_to_num(\n",
    "                np.abs(\n",
    "                    np.fft.fft(\n",
    "                        allResults[0][0],\n",
    "                        axis=0)))"
   ]
  },
  {
   "cell_type": "code",
   "execution_count": 16,
   "metadata": {},
   "outputs": [],
   "source": [
    "allShapes = [allResults[i][0].shape[0] for i in range(len(allResults))]"
   ]
  },
  {
   "cell_type": "code",
   "execution_count": 3,
   "metadata": {},
   "outputs": [],
   "source": [
    "allResults = list(filter(lambda x: x[0].shape[0] >= 1500, allResults))\n",
    "allResults = list(filter(lambda x: x[1].shape[0] >= 1500, allResults))\n",
    "allResults = list(filter(lambda x: x[2].shape[0] >= 1500, allResults))"
   ]
  },
  {
   "cell_type": "code",
   "execution_count": 5,
   "metadata": {},
   "outputs": [
    {
     "data": {
      "text/plain": [
       "41079"
      ]
     },
     "execution_count": 5,
     "metadata": {},
     "output_type": "execute_result"
    }
   ],
   "source": [
    "len(allResults)"
   ]
  },
  {
   "cell_type": "code",
   "execution_count": 6,
   "metadata": {},
   "outputs": [],
   "source": [
    "allLabels = [datum[3] for datum in allResults]"
   ]
  },
  {
   "cell_type": "code",
   "execution_count": 10,
   "metadata": {},
   "outputs": [],
   "source": [
    "allLabels = pd.concat(allLabels, axis=1).T"
   ]
  },
  {
   "cell_type": "code",
   "execution_count": 29,
   "metadata": {},
   "outputs": [],
   "source": [
    "subset = allLabels.dropna(subset=[\"on_off\"])"
   ]
  },
  {
   "cell_type": "code",
   "execution_count": 31,
   "metadata": {},
   "outputs": [
    {
     "name": "stderr",
     "output_type": "stream",
     "text": [
      "/home/ms994/miniconda3/envs/keras-redo-cpu/lib/python3.7/site-packages/pandas/core/generic.py:5096: SettingWithCopyWarning: \n",
      "A value is trying to be set on a copy of a slice from a DataFrame.\n",
      "Try using .loc[row_indexer,col_indexer] = value instead\n",
      "\n",
      "See the caveats in the documentation: http://pandas.pydata.org/pandas-docs/stable/indexing.html#indexing-view-versus-copy\n",
      "  self[name] = value\n"
     ]
    }
   ],
   "source": [
    "subset.on_off = subset.on_off.astype(np.int)"
   ]
  },
  {
   "cell_type": "code",
   "execution_count": 32,
   "metadata": {},
   "outputs": [
    {
     "data": {
      "text/plain": [
       "subject_id\n",
       "hbv013    0.289764\n",
       "hbv014    0.355903\n",
       "hbv022    0.175163\n",
       "hbv038    0.456245\n",
       "hbv043    0.543519\n",
       "hbv051    0.250000\n",
       "hbv077    0.185320\n",
       "Name: on_off, dtype: float64"
      ]
     },
     "execution_count": 32,
     "metadata": {},
     "output_type": "execute_result"
    }
   ],
   "source": [
    "subset.groupby(\"subject_id\")[\"on_off\"].mean()"
   ]
  },
  {
   "cell_type": "code",
   "execution_count": 37,
   "metadata": {},
   "outputs": [],
   "source": [
    "analyzed = subset.join(subset.groupby(\"subject_id\")[\"on_off\"].mean(), on=\"subject_id\", lsuffix=\"mean\")"
   ]
  },
  {
   "cell_type": "code",
   "execution_count": 40,
   "metadata": {},
   "outputs": [
    {
     "data": {
      "text/plain": [
       "0.19812964333512767"
      ]
     },
     "execution_count": 40,
     "metadata": {},
     "output_type": "execute_result"
    }
   ],
   "source": [
    "((analyzed.on_off - analyzed.on_offmean)**2).mean()"
   ]
  },
  {
   "cell_type": "code",
   "execution_count": 4,
   "metadata": {},
   "outputs": [
    {
     "name": "stderr",
     "output_type": "stream",
     "text": [
      "/home/ms994/miniconda3/envs/keras-redo-cpu/lib/python3.7/site-packages/ipykernel_launcher.py:1: RuntimeWarning: invalid value encountered in greater\n",
      "  \"\"\"Entry point for launching an IPython kernel.\n"
     ]
    }
   ],
   "source": [
    "allResults = (list(filter(lambda x: (x[0].std(0) > 0.01).any() and (x[1].std(0) > 0.01).any() and (x[2].std(0) > 0.01).any(), allResults)))"
   ]
  },
  {
   "cell_type": "code",
   "execution_count": 73,
   "metadata": {},
   "outputs": [
    {
     "data": {
      "text/plain": [
       "array([[ 8.7292595, -4.4412445, -3.016694 ],\n",
       "       [ 8.7148945, -4.465186 , -2.8514945],\n",
       "       [ 8.659828 , -4.46758  , -2.8419175],\n",
       "       ...,\n",
       "       [-2.466028 , -9.0021985, -4.5944725],\n",
       "       [-2.200271 , -8.942343 , -4.6303855],\n",
       "       [-2.1188685, -8.748413 , -4.831499 ]])"
      ]
     },
     "execution_count": 73,
     "metadata": {},
     "output_type": "execute_result"
    }
   ],
   "source": [
    "allResults[0][0][:1500]"
   ]
  },
  {
   "cell_type": "code",
   "execution_count": 89,
   "metadata": {},
   "outputs": [
    {
     "data": {
      "text/plain": [
       "measurement_id     b36b10ee-94d2-47e1-bc24-59760c976e6b\n",
       "subject_id                                       hbv022\n",
       "on_off                                                0\n",
       "dyskinesia                                          NaN\n",
       "tremor                                                0\n",
       "device_id                                          327T\n",
       "smartwatch_data                                    True\n",
       "gyro_data                                          True\n",
       "smartphone_data                                    True\n",
       "Name: 2, dtype: object"
      ]
     },
     "execution_count": 89,
     "metadata": {},
     "output_type": "execute_result"
    }
   ],
   "source": [
    "allResults[0][3]"
   ]
  },
  {
   "cell_type": "code",
   "execution_count": 94,
   "metadata": {},
   "outputs": [],
   "source": [
    "def get_real_pd_i(ind):\n",
    "    watch_accel_fft = np.nan_to_num(np.abs(np.fft.fft(allResults[ind][0][:1500], axis=0)))[0:750]\n",
    "    watch_gyro_fft = np.nan_to_num(np.abs(np.fft.fft(allResults[ind][1][:1500], axis=0)))[0:750]\n",
    "    phone_accel_fft = np.nan_to_num(np.abs(np.fft.fft(allResults[ind][2][:1500], axis=0)))[0:750]\n",
    "    return (watch_accel_fft, watch_gyro_fft, phone_accel_fft, allResults[ind][3])\n",
    "\n",
    "\n",
    "def write_data(toRunQ, toReturnQ):\n",
    "    for ind in iter(toRunQ.get, None):\n",
    "        data_samples = get_real_pd_i(ind) \n",
    "        toReturnQ.put(data_samples)"
   ]
  },
  {
   "cell_type": "code",
   "execution_count": 96,
   "metadata": {},
   "outputs": [
    {
     "data": {
      "text/plain": [
       "[None, None, None, None, None, None, None, None, None, None, None, None]"
      ]
     },
     "execution_count": 96,
     "metadata": {},
     "output_type": "execute_result"
    }
   ],
   "source": [
    "from multiprocessing import Process, Manager\n",
    "m = Manager()\n",
    "n_process = 12\n",
    "toRunQ = m.Queue()\n",
    "toReturnQ = m.Queue()\n",
    "p = [Process(target=write_data, args=(toRunQ, toReturnQ)) for i in range(n_process)]\n",
    "[toRunQ.put(i) for i in range(len(allResults))]\n",
    "[toRunQ.put(None) for i in range(n_process)]\n"
   ]
  },
  {
   "cell_type": "code",
   "execution_count": 97,
   "metadata": {},
   "outputs": [
    {
     "data": {
      "text/plain": [
       "[None, None, None, None, None, None, None, None, None, None, None, None]"
      ]
     },
     "execution_count": 97,
     "metadata": {},
     "output_type": "execute_result"
    }
   ],
   "source": [
    "[proc.start() for proc in p]"
   ]
  },
  {
   "cell_type": "code",
   "execution_count": 98,
   "metadata": {},
   "outputs": [
    {
     "data": {
      "text/plain": [
       "[None, None, None, None, None, None, None, None, None, None, None, None]"
      ]
     },
     "execution_count": 98,
     "metadata": {},
     "output_type": "execute_result"
    }
   ],
   "source": [
    "[proc.join() for proc in p]"
   ]
  },
  {
   "cell_type": "code",
   "execution_count": 99,
   "metadata": {},
   "outputs": [],
   "source": [
    "allResults = []\n",
    "while not toReturnQ.empty():\n",
    "    allResults.append(toReturnQ.get())"
   ]
  },
  {
   "cell_type": "code",
   "execution_count": 103,
   "metadata": {},
   "outputs": [
    {
     "data": {
      "text/plain": [
       "(750, 3)"
      ]
     },
     "execution_count": 103,
     "metadata": {},
     "output_type": "execute_result"
    }
   ],
   "source": [
    "allResults[1000][0].shape"
   ]
  },
  {
   "cell_type": "code",
   "execution_count": null,
   "metadata": {},
   "outputs": [],
   "source": [
    "import matplotlib.pyplot as plt\n",
    "plt.plot(np.log(fft_data[:,0]))"
   ]
  },
  {
   "cell_type": "code",
   "execution_count": 4,
   "metadata": {},
   "outputs": [],
   "source": [
    "allResults = pkl.load(open(\"/n/scratch2/ms994/realFFTPd.pkl\",\"rb\"))"
   ]
  },
  {
   "cell_type": "code",
   "execution_count": 60,
   "metadata": {},
   "outputs": [
    {
     "name": "stdout",
     "output_type": "stream",
     "text": [
      "__________________________________________________________________________________________________\n",
      "Layer (type)                    Output Shape         Param #     Connected to                     \n",
      "==================================================================================================\n",
      "watch_accel_in (InputLayer)     (None, 750, 3)       0                                            \n",
      "__________________________________________________________________________________________________\n",
      "watch_gyro_in (InputLayer)      (None, 750, 3)       0                                            \n",
      "__________________________________________________________________________________________________\n",
      "phone_accel_in (InputLayer)     (None, 750, 3)       0                                            \n",
      "__________________________________________________________________________________________________\n",
      "flatten_45 (Flatten)            (None, 2250)         0           watch_accel_in[0][0]             \n",
      "__________________________________________________________________________________________________\n",
      "flatten_47 (Flatten)            (None, 2250)         0           watch_gyro_in[0][0]              \n",
      "__________________________________________________________________________________________________\n",
      "flatten_49 (Flatten)            (None, 2250)         0           phone_accel_in[0][0]             \n",
      "__________________________________________________________________________________________________\n",
      "dense_120 (Dense)               (None, 1000)         2251000     flatten_45[0][0]                 \n",
      "__________________________________________________________________________________________________\n",
      "dense_123 (Dense)               (None, 1000)         2251000     flatten_47[0][0]                 \n",
      "__________________________________________________________________________________________________\n",
      "dense_126 (Dense)               (None, 1000)         2251000     flatten_49[0][0]                 \n",
      "__________________________________________________________________________________________________\n",
      "leaky_re_lu_105 (LeakyReLU)     (None, 1000)         0           dense_120[0][0]                  \n",
      "__________________________________________________________________________________________________\n",
      "leaky_re_lu_108 (LeakyReLU)     (None, 1000)         0           dense_123[0][0]                  \n",
      "__________________________________________________________________________________________________\n",
      "leaky_re_lu_111 (LeakyReLU)     (None, 1000)         0           dense_126[0][0]                  \n",
      "__________________________________________________________________________________________________\n",
      "batch_normalization_v1_105 (Bat (None, 1000)         4000        leaky_re_lu_105[0][0]            \n",
      "__________________________________________________________________________________________________\n",
      "batch_normalization_v1_108 (Bat (None, 1000)         4000        leaky_re_lu_108[0][0]            \n",
      "__________________________________________________________________________________________________\n",
      "batch_normalization_v1_111 (Bat (None, 1000)         4000        leaky_re_lu_111[0][0]            \n",
      "__________________________________________________________________________________________________\n",
      "dense_121 (Dense)               (None, 750)          750750      batch_normalization_v1_105[0][0] \n",
      "__________________________________________________________________________________________________\n",
      "dense_124 (Dense)               (None, 750)          750750      batch_normalization_v1_108[0][0] \n",
      "__________________________________________________________________________________________________\n",
      "dense_127 (Dense)               (None, 750)          750750      batch_normalization_v1_111[0][0] \n",
      "__________________________________________________________________________________________________\n",
      "leaky_re_lu_106 (LeakyReLU)     (None, 750)          0           dense_121[0][0]                  \n",
      "__________________________________________________________________________________________________\n",
      "leaky_re_lu_109 (LeakyReLU)     (None, 750)          0           dense_124[0][0]                  \n",
      "__________________________________________________________________________________________________\n",
      "leaky_re_lu_112 (LeakyReLU)     (None, 750)          0           dense_127[0][0]                  \n",
      "__________________________________________________________________________________________________\n",
      "batch_normalization_v1_106 (Bat (None, 750)          3000        leaky_re_lu_106[0][0]            \n",
      "__________________________________________________________________________________________________\n",
      "batch_normalization_v1_109 (Bat (None, 750)          3000        leaky_re_lu_109[0][0]            \n",
      "__________________________________________________________________________________________________\n",
      "batch_normalization_v1_112 (Bat (None, 750)          3000        leaky_re_lu_112[0][0]            \n",
      "__________________________________________________________________________________________________\n",
      "dense_122 (Dense)               (None, 500)          375500      batch_normalization_v1_106[0][0] \n",
      "__________________________________________________________________________________________________\n",
      "dense_125 (Dense)               (None, 500)          375500      batch_normalization_v1_109[0][0] \n",
      "__________________________________________________________________________________________________\n",
      "dense_128 (Dense)               (None, 500)          375500      batch_normalization_v1_112[0][0] \n",
      "__________________________________________________________________________________________________\n",
      "leaky_re_lu_107 (LeakyReLU)     (None, 500)          0           dense_122[0][0]                  \n",
      "__________________________________________________________________________________________________\n",
      "leaky_re_lu_110 (LeakyReLU)     (None, 500)          0           dense_125[0][0]                  \n",
      "__________________________________________________________________________________________________\n",
      "leaky_re_lu_113 (LeakyReLU)     (None, 500)          0           dense_128[0][0]                  \n",
      "__________________________________________________________________________________________________\n",
      "batch_normalization_v1_107 (Bat (None, 500)          2000        leaky_re_lu_107[0][0]            \n",
      "__________________________________________________________________________________________________\n",
      "batch_normalization_v1_110 (Bat (None, 500)          2000        leaky_re_lu_110[0][0]            \n",
      "__________________________________________________________________________________________________\n",
      "batch_normalization_v1_113 (Bat (None, 500)          2000        leaky_re_lu_113[0][0]            \n",
      "__________________________________________________________________________________________________\n",
      "flatten_46 (Flatten)            (None, 500)          0           batch_normalization_v1_107[0][0] \n",
      "__________________________________________________________________________________________________\n",
      "flatten_48 (Flatten)            (None, 500)          0           batch_normalization_v1_110[0][0] \n",
      "__________________________________________________________________________________________________\n",
      "flatten_50 (Flatten)            (None, 500)          0           batch_normalization_v1_113[0][0] \n",
      "__________________________________________________________________________________________________\n",
      "concatenate_5 (Concatenate)     (None, 1500)         0           flatten_46[0][0]                 \n",
      "                                                                 flatten_48[0][0]                 \n",
      "                                                                 flatten_50[0][0]                 \n",
      "__________________________________________________________________________________________________\n",
      "dense_129 (Dense)               (None, 1000)         1501000     concatenate_5[0][0]              \n",
      "__________________________________________________________________________________________________\n",
      "leaky_re_lu_114 (LeakyReLU)     (None, 1000)         0           dense_129[0][0]                  \n",
      "__________________________________________________________________________________________________\n",
      "batch_normalization_v1_114 (Bat (None, 1000)         4000        leaky_re_lu_114[0][0]            \n",
      "__________________________________________________________________________________________________\n",
      "dense_130 (Dense)               (None, 512)          512512      batch_normalization_v1_114[0][0] \n",
      "__________________________________________________________________________________________________\n",
      "leaky_re_lu_115 (LeakyReLU)     (None, 512)          0           dense_130[0][0]                  \n",
      "__________________________________________________________________________________________________\n",
      "batch_normalization_v1_115 (Bat (None, 512)          2048        leaky_re_lu_115[0][0]            \n",
      "__________________________________________________________________________________________________\n",
      "dense_131 (Dense)               (None, 1000)         513000      batch_normalization_v1_115[0][0] \n",
      "__________________________________________________________________________________________________\n",
      "leaky_re_lu_116 (LeakyReLU)     (None, 1000)         0           dense_131[0][0]                  \n",
      "__________________________________________________________________________________________________\n",
      "batch_normalization_v1_116 (Bat (None, 1000)         4000        leaky_re_lu_116[0][0]            \n",
      "__________________________________________________________________________________________________\n",
      "flatten_51 (Flatten)            (None, 1000)         0           batch_normalization_v1_116[0][0] \n",
      "__________________________________________________________________________________________________\n",
      "flatten_52 (Flatten)            (None, 1000)         0           batch_normalization_v1_116[0][0] \n",
      "__________________________________________________________________________________________________\n",
      "flatten_53 (Flatten)            (None, 1000)         0           batch_normalization_v1_116[0][0] \n",
      "__________________________________________________________________________________________________\n",
      "dense_132 (Dense)               (None, 500)          500500      flatten_51[0][0]                 \n",
      "__________________________________________________________________________________________________\n",
      "dense_136 (Dense)               (None, 500)          500500      flatten_52[0][0]                 \n",
      "__________________________________________________________________________________________________\n",
      "dense_140 (Dense)               (None, 500)          500500      flatten_53[0][0]                 \n",
      "__________________________________________________________________________________________________\n",
      "leaky_re_lu_117 (LeakyReLU)     (None, 500)          0           dense_132[0][0]                  \n",
      "__________________________________________________________________________________________________\n",
      "leaky_re_lu_120 (LeakyReLU)     (None, 500)          0           dense_136[0][0]                  \n",
      "__________________________________________________________________________________________________\n",
      "leaky_re_lu_123 (LeakyReLU)     (None, 500)          0           dense_140[0][0]                  \n",
      "__________________________________________________________________________________________________\n",
      "batch_normalization_v1_117 (Bat (None, 500)          2000        leaky_re_lu_117[0][0]            \n",
      "__________________________________________________________________________________________________\n",
      "batch_normalization_v1_120 (Bat (None, 500)          2000        leaky_re_lu_120[0][0]            \n",
      "__________________________________________________________________________________________________\n",
      "batch_normalization_v1_123 (Bat (None, 500)          2000        leaky_re_lu_123[0][0]            \n",
      "__________________________________________________________________________________________________\n",
      "dense_133 (Dense)               (None, 750)          375750      batch_normalization_v1_117[0][0] \n",
      "__________________________________________________________________________________________________\n",
      "dense_137 (Dense)               (None, 750)          375750      batch_normalization_v1_120[0][0] \n",
      "__________________________________________________________________________________________________\n",
      "dense_141 (Dense)               (None, 750)          375750      batch_normalization_v1_123[0][0] \n",
      "__________________________________________________________________________________________________\n",
      "leaky_re_lu_118 (LeakyReLU)     (None, 750)          0           dense_133[0][0]                  \n",
      "__________________________________________________________________________________________________\n",
      "leaky_re_lu_121 (LeakyReLU)     (None, 750)          0           dense_137[0][0]                  \n",
      "__________________________________________________________________________________________________\n",
      "leaky_re_lu_124 (LeakyReLU)     (None, 750)          0           dense_141[0][0]                  \n",
      "__________________________________________________________________________________________________\n",
      "batch_normalization_v1_118 (Bat (None, 750)          3000        leaky_re_lu_118[0][0]            \n",
      "__________________________________________________________________________________________________\n",
      "batch_normalization_v1_121 (Bat (None, 750)          3000        leaky_re_lu_121[0][0]            \n",
      "__________________________________________________________________________________________________\n",
      "batch_normalization_v1_124 (Bat (None, 750)          3000        leaky_re_lu_124[0][0]            \n",
      "__________________________________________________________________________________________________\n",
      "dense_134 (Dense)               (None, 1000)         751000      batch_normalization_v1_118[0][0] \n",
      "__________________________________________________________________________________________________\n",
      "dense_138 (Dense)               (None, 1000)         751000      batch_normalization_v1_121[0][0] \n",
      "__________________________________________________________________________________________________\n",
      "dense_142 (Dense)               (None, 1000)         751000      batch_normalization_v1_124[0][0] \n",
      "__________________________________________________________________________________________________\n",
      "leaky_re_lu_119 (LeakyReLU)     (None, 1000)         0           dense_134[0][0]                  \n",
      "__________________________________________________________________________________________________\n",
      "leaky_re_lu_122 (LeakyReLU)     (None, 1000)         0           dense_138[0][0]                  \n",
      "__________________________________________________________________________________________________\n",
      "leaky_re_lu_125 (LeakyReLU)     (None, 1000)         0           dense_142[0][0]                  \n",
      "__________________________________________________________________________________________________\n",
      "batch_normalization_v1_119 (Bat (None, 1000)         4000        leaky_re_lu_119[0][0]            \n",
      "__________________________________________________________________________________________________\n",
      "batch_normalization_v1_122 (Bat (None, 1000)         4000        leaky_re_lu_122[0][0]            \n",
      "__________________________________________________________________________________________________\n",
      "batch_normalization_v1_125 (Bat (None, 1000)         4000        leaky_re_lu_125[0][0]            \n",
      "__________________________________________________________________________________________________\n",
      "dense_135 (Dense)               (None, 2250)         2252250     batch_normalization_v1_119[0][0] \n",
      "__________________________________________________________________________________________________\n",
      "dense_139 (Dense)               (None, 2250)         2252250     batch_normalization_v1_122[0][0] \n",
      "__________________________________________________________________________________________________\n",
      "dense_143 (Dense)               (None, 2250)         2252250     batch_normalization_v1_125[0][0] \n",
      "__________________________________________________________________________________________________\n",
      "watch_accel_out (Reshape)       (None, 750, 3)       0           dense_135[0][0]                  \n",
      "__________________________________________________________________________________________________\n",
      "watch_gyro_out (Reshape)        (None, 750, 3)       0           dense_139[0][0]                  \n",
      "__________________________________________________________________________________________________\n",
      "phone_accel_out (Reshape)       (None, 750, 3)       0           dense_143[0][0]                  \n",
      "==================================================================================================\n",
      "Total params: 24,360,810\n",
      "Trainable params: 24,328,786\n",
      "Non-trainable params: 32,024\n",
      "__________________________________________________________________________________________________\n"
     ]
    }
   ],
   "source": [
    "num_cnn_layers = 4\n",
    "num_lstm_layers = 0\n",
    "dropout = 0.5\n",
    "lin_h=128\n",
    "watch_accel = tf.keras.layers.Input((750, 3), name=\"watch_accel_in\")\n",
    "watch_gyro = tf.keras.layers.Input((750, 3), name=\"watch_gyro_in\")\n",
    "phone_accel = tf.keras.layers.Input((750, 3), name=\"phone_accel_in\")\n",
    "all_inputs = [watch_accel, watch_gyro, phone_accel]\n",
    "all_encoder_out = []\n",
    "\n",
    "for inputLayer in all_inputs:\n",
    "    x = inputLayer\n",
    "    x = tf.keras.layers.Flatten()(x)\n",
    "    x = tf.keras.layers.Dense(1000)(x)\n",
    "    x = tf.keras.layers.LeakyReLU()(x)\n",
    "    x = tf.keras.layers.BatchNormalization()(x)\n",
    "    x = tf.keras.layers.Dense(750)(x)\n",
    "    x = tf.keras.layers.LeakyReLU()(x)\n",
    "    x = tf.keras.layers.BatchNormalization()(x)\n",
    "    x = tf.keras.layers.Dense(500)(x)\n",
    "    x = tf.keras.layers.LeakyReLU()(x)\n",
    "    x = tf.keras.layers.BatchNormalization()(x)\n",
    "\n",
    "   \n",
    "\n",
    "    x = tf.keras.layers.Flatten()(x)\n",
    "    all_encoder_out.append(x)\n",
    "\n",
    "x = tf.keras.layers.Concatenate()(all_encoder_out)\n",
    "x = tf.keras.layers.Dense(1000)(x)\n",
    "x = tf.keras.layers.LeakyReLU()(x)\n",
    "x = tf.keras.layers.BatchNormalization()(x)\n",
    "x = tf.keras.layers.Dense(512)(x)\n",
    "x = tf.keras.layers.LeakyReLU()(x)\n",
    "x = tf.keras.layers.BatchNormalization()(x)\n",
    "x = tf.keras.layers.Dense(1000)(x)\n",
    "x = tf.keras.layers.LeakyReLU()(x)\n",
    "x = tf.keras.layers.BatchNormalization()(x)\n",
    "x_shared = x\n",
    "all_output_names = [\"watch_accel_out\", \"watch_gyro_out\", \"phone_accel_out\"]\n",
    "all_outputs = []\n",
    "for outputLayer in all_output_names:\n",
    "    x = tf.keras.layers.Flatten()(x_shared)\n",
    "    x = tf.keras.layers.Dense(500)(x)\n",
    "    x = tf.keras.layers.LeakyReLU()(x)\n",
    "    x = tf.keras.layers.BatchNormalization()(x)\n",
    "    x = tf.keras.layers.Dense(750)(x)\n",
    "    x = tf.keras.layers.LeakyReLU()(x)\n",
    "    x = tf.keras.layers.BatchNormalization()(x)\n",
    "    x = tf.keras.layers.Dense(1000)(x)\n",
    "    x = tf.keras.layers.LeakyReLU()(x)\n",
    "    x = tf.keras.layers.BatchNormalization()(x)\n",
    "    x = tf.keras.layers.Dense(750*3)(x)\n",
    "    x = tf.keras.layers.Reshape((750,3), name=outputLayer)(x)\n",
    "    all_outputs.append(x)\n",
    "model = tf.keras.Model(inputs=all_inputs, outputs=all_outputs)\n",
    "model.summary()"
   ]
  },
  {
   "cell_type": "code",
   "execution_count": 27,
   "metadata": {},
   "outputs": [
    {
     "name": "stderr",
     "output_type": "stream",
     "text": [
      "/home/ms994/miniconda3/envs/keras-redo/lib/python3.7/site-packages/ipykernel_launcher.py:3: RuntimeWarning: divide by zero encountered in log\n",
      "  This is separate from the ipykernel package so we can avoid doing imports until\n"
     ]
    }
   ],
   "source": [
    "watchAccel =  np.nan_to_num(np.log([datum[0] for datum in allResults]))\n",
    "watchGyro =  np.nan_to_num(np.log([datum[1] for datum in allResults]))\n",
    "phoneAccel =  np.nan_to_num(np.log([datum[2] for datum in allResults]))"
   ]
  },
  {
   "cell_type": "code",
   "execution_count": 47,
   "metadata": {},
   "outputs": [],
   "source": [
    "watchAccel = np.nan_to_num(watchAccel.astype(np.float32))\n",
    "watchGyro = np.nan_to_num(watchGyro.astype(np.float32))\n",
    "phoneAccel = np.nan_to_num(phoneAccel.astype(np.float32))"
   ]
  },
  {
   "cell_type": "code",
   "execution_count": 59,
   "metadata": {},
   "outputs": [],
   "source": [
    "phoneAccel[phoneAccel < -10] = -10"
   ]
  },
  {
   "cell_type": "code",
   "execution_count": 61,
   "metadata": {},
   "outputs": [
    {
     "name": "stdout",
     "output_type": "stream",
     "text": [
      "Epoch 1/1000\n",
      "41024/41079 [============================>.] - ETA: 0s - loss: 0.9315 - watch_accel_out_loss: 0.2888 - watch_gyro_out_loss: 0.2836 - phone_accel_out_loss: 0.3590 - watch_accel_out_mean_squared_error: 0.7995 - watch_gyro_out_mean_squared_error: 0.7629 - phone_accel_out_mean_squared_error: 1.1505\n",
      "Epoch 00001: loss improved from inf to 0.93135, saving model to /n/scratch2/ms994/real_pd_log_fft_autoencoder.h5\n",
      "41079/41079 [==============================] - 116s 3ms/sample - loss: 0.9313 - watch_accel_out_loss: 0.2887 - watch_gyro_out_loss: 0.2836 - phone_accel_out_loss: 0.3591 - watch_accel_out_mean_squared_error: 0.7992 - watch_gyro_out_mean_squared_error: 0.7626 - phone_accel_out_mean_squared_error: 1.1507\n",
      "Epoch 2/1000\n",
      "41024/41079 [============================>.] - ETA: 0s - loss: 0.7661 - watch_accel_out_loss: 0.2354 - watch_gyro_out_loss: 0.2359 - phone_accel_out_loss: 0.2948 - watch_accel_out_mean_squared_error: 0.6024 - watch_gyro_out_mean_squared_error: 0.6005 - phone_accel_out_mean_squared_error: 0.8712\n",
      "Epoch 00002: loss improved from 0.93135 to 0.76636, saving model to /n/scratch2/ms994/real_pd_log_fft_autoencoder.h5\n",
      "41079/41079 [==============================] - 49s 1ms/sample - loss: 0.7664 - watch_accel_out_loss: 0.2354 - watch_gyro_out_loss: 0.2360 - phone_accel_out_loss: 0.2949 - watch_accel_out_mean_squared_error: 0.6025 - watch_gyro_out_mean_squared_error: 0.6007 - phone_accel_out_mean_squared_error: 0.8713\n",
      "Epoch 3/1000\n",
      "41056/41079 [============================>.] - ETA: 0s - loss: 0.7238 - watch_accel_out_loss: 0.2199 - watch_gyro_out_loss: 0.2287 - phone_accel_out_loss: 0.2753 - watch_accel_out_mean_squared_error: 0.5544 - watch_gyro_out_mean_squared_error: 0.5795 - phone_accel_out_mean_squared_error: 0.7781\n",
      "Epoch 00003: loss improved from 0.76636 to 0.72376, saving model to /n/scratch2/ms994/real_pd_log_fft_autoencoder.h5\n",
      "41079/41079 [==============================] - 49s 1ms/sample - loss: 0.7238 - watch_accel_out_loss: 0.2198 - watch_gyro_out_loss: 0.2287 - phone_accel_out_loss: 0.2752 - watch_accel_out_mean_squared_error: 0.5544 - watch_gyro_out_mean_squared_error: 0.5795 - phone_accel_out_mean_squared_error: 0.7781\n",
      "Epoch 4/1000\n",
      "41024/41079 [============================>.] - ETA: 0s - loss: 0.7017 - watch_accel_out_loss: 0.2116 - watch_gyro_out_loss: 0.2227 - phone_accel_out_loss: 0.2674 - watch_accel_out_mean_squared_error: 0.5306 - watch_gyro_out_mean_squared_error: 0.5623 - phone_accel_out_mean_squared_error: 0.7393\n",
      "Epoch 00004: loss improved from 0.72376 to 0.70168, saving model to /n/scratch2/ms994/real_pd_log_fft_autoencoder.h5\n",
      "41079/41079 [==============================] - 49s 1ms/sample - loss: 0.7017 - watch_accel_out_loss: 0.2116 - watch_gyro_out_loss: 0.2228 - phone_accel_out_loss: 0.2673 - watch_accel_out_mean_squared_error: 0.5306 - watch_gyro_out_mean_squared_error: 0.5623 - phone_accel_out_mean_squared_error: 0.7391\n",
      "Epoch 5/1000\n",
      "41056/41079 [============================>.] - ETA: 0s - loss: 0.6876 - watch_accel_out_loss: 0.2090 - watch_gyro_out_loss: 0.2186 - phone_accel_out_loss: 0.2600 - watch_accel_out_mean_squared_error: 0.5231 - watch_gyro_out_mean_squared_error: 0.5505 - phone_accel_out_mean_squared_error: 0.6940\n",
      "Epoch 00005: loss improved from 0.70168 to 0.68765, saving model to /n/scratch2/ms994/real_pd_log_fft_autoencoder.h5\n",
      "41079/41079 [==============================] - 50s 1ms/sample - loss: 0.6876 - watch_accel_out_loss: 0.2090 - watch_gyro_out_loss: 0.2187 - phone_accel_out_loss: 0.2599 - watch_accel_out_mean_squared_error: 0.5233 - watch_gyro_out_mean_squared_error: 0.5507 - phone_accel_out_mean_squared_error: 0.6939\n",
      "Epoch 6/1000\n",
      "41024/41079 [============================>.] - ETA: 0s - loss: 0.6766 - watch_accel_out_loss: 0.2047 - watch_gyro_out_loss: 0.2160 - phone_accel_out_loss: 0.2560 - watch_accel_out_mean_squared_error: 0.5112 - watch_gyro_out_mean_squared_error: 0.5431 - phone_accel_out_mean_squared_error: 0.6758\n",
      "Epoch 00006: loss improved from 0.68765 to 0.67659, saving model to /n/scratch2/ms994/real_pd_log_fft_autoencoder.h5\n",
      "41079/41079 [==============================] - 50s 1ms/sample - loss: 0.6766 - watch_accel_out_loss: 0.2047 - watch_gyro_out_loss: 0.2160 - phone_accel_out_loss: 0.2559 - watch_accel_out_mean_squared_error: 0.5112 - watch_gyro_out_mean_squared_error: 0.5431 - phone_accel_out_mean_squared_error: 0.6757\n",
      "Epoch 7/1000\n",
      "41056/41079 [============================>.] - ETA: 0s - loss: 0.6701 - watch_accel_out_loss: 0.2024 - watch_gyro_out_loss: 0.2140 - phone_accel_out_loss: 0.2537 - watch_accel_out_mean_squared_error: 0.5052 - watch_gyro_out_mean_squared_error: 0.5375 - phone_accel_out_mean_squared_error: 0.6693\n",
      "Epoch 00007: loss improved from 0.67659 to 0.67010, saving model to /n/scratch2/ms994/real_pd_log_fft_autoencoder.h5\n",
      "41079/41079 [==============================] - 50s 1ms/sample - loss: 0.6701 - watch_accel_out_loss: 0.2024 - watch_gyro_out_loss: 0.2140 - phone_accel_out_loss: 0.2537 - watch_accel_out_mean_squared_error: 0.5052 - watch_gyro_out_mean_squared_error: 0.5374 - phone_accel_out_mean_squared_error: 0.6694\n",
      "Epoch 8/1000\n",
      "41024/41079 [============================>.] - ETA: 0s - loss: 0.6656 - watch_accel_out_loss: 0.2014 - watch_gyro_out_loss: 0.2133 - phone_accel_out_loss: 0.2510 - watch_accel_out_mean_squared_error: 0.5021 - watch_gyro_out_mean_squared_error: 0.5351 - phone_accel_out_mean_squared_error: 0.6579\n",
      "Epoch 00008: loss improved from 0.67010 to 0.66590, saving model to /n/scratch2/ms994/real_pd_log_fft_autoencoder.h5\n",
      "41079/41079 [==============================] - 50s 1ms/sample - loss: 0.6659 - watch_accel_out_loss: 0.2014 - watch_gyro_out_loss: 0.2133 - phone_accel_out_loss: 0.2512 - watch_accel_out_mean_squared_error: 0.5022 - watch_gyro_out_mean_squared_error: 0.5353 - phone_accel_out_mean_squared_error: 0.6584\n",
      "Epoch 9/1000\n",
      "41056/41079 [============================>.] - ETA: 0s - loss: 0.6525 - watch_accel_out_loss: 0.2002 - watch_gyro_out_loss: 0.2113 - phone_accel_out_loss: 0.2411 - watch_accel_out_mean_squared_error: 0.4990 - watch_gyro_out_mean_squared_error: 0.5297 - phone_accel_out_mean_squared_error: 0.6237\n",
      "Epoch 00009: loss improved from 0.66590 to 0.65259, saving model to /n/scratch2/ms994/real_pd_log_fft_autoencoder.h5\n",
      "41079/41079 [==============================] - 50s 1ms/sample - loss: 0.6526 - watch_accel_out_loss: 0.2003 - watch_gyro_out_loss: 0.2113 - phone_accel_out_loss: 0.2411 - watch_accel_out_mean_squared_error: 0.4991 - watch_gyro_out_mean_squared_error: 0.5297 - phone_accel_out_mean_squared_error: 0.6237\n",
      "Epoch 10/1000\n",
      "41056/41079 [============================>.] - ETA: 0s - loss: 0.6512 - watch_accel_out_loss: 0.1989 - watch_gyro_out_loss: 0.2097 - phone_accel_out_loss: 0.2426 - watch_accel_out_mean_squared_error: 0.4953 - watch_gyro_out_mean_squared_error: 0.5255 - phone_accel_out_mean_squared_error: 0.6241\n",
      "Epoch 00010: loss improved from 0.65259 to 0.65122, saving model to /n/scratch2/ms994/real_pd_log_fft_autoencoder.h5\n",
      "41079/41079 [==============================] - 49s 1ms/sample - loss: 0.6512 - watch_accel_out_loss: 0.1989 - watch_gyro_out_loss: 0.2097 - phone_accel_out_loss: 0.2426 - watch_accel_out_mean_squared_error: 0.4953 - watch_gyro_out_mean_squared_error: 0.5255 - phone_accel_out_mean_squared_error: 0.6241\n",
      "Epoch 11/1000\n",
      "41024/41079 [============================>.] - ETA: 0s - loss: 0.6449 - watch_accel_out_loss: 0.1958 - watch_gyro_out_loss: 0.2075 - phone_accel_out_loss: 0.2416 - watch_accel_out_mean_squared_error: 0.4869 - watch_gyro_out_mean_squared_error: 0.5196 - phone_accel_out_mean_squared_error: 0.6191\n",
      "Epoch 00011: loss improved from 0.65122 to 0.64512, saving model to /n/scratch2/ms994/real_pd_log_fft_autoencoder.h5\n",
      "41079/41079 [==============================] - 49s 1ms/sample - loss: 0.6451 - watch_accel_out_loss: 0.1958 - watch_gyro_out_loss: 0.2076 - phone_accel_out_loss: 0.2417 - watch_accel_out_mean_squared_error: 0.4871 - watch_gyro_out_mean_squared_error: 0.5198 - phone_accel_out_mean_squared_error: 0.6193\n",
      "Epoch 12/1000\n",
      "41024/41079 [============================>.] - ETA: 0s - loss: 0.6383 - watch_accel_out_loss: 0.1943 - watch_gyro_out_loss: 0.2060 - phone_accel_out_loss: 0.2379 - watch_accel_out_mean_squared_error: 0.4831 - watch_gyro_out_mean_squared_error: 0.5154 - phone_accel_out_mean_squared_error: 0.6078\n",
      "Epoch 00012: loss improved from 0.64512 to 0.63840, saving model to /n/scratch2/ms994/real_pd_log_fft_autoencoder.h5\n",
      "41079/41079 [==============================] - 49s 1ms/sample - loss: 0.6384 - watch_accel_out_loss: 0.1944 - watch_gyro_out_loss: 0.2061 - phone_accel_out_loss: 0.2379 - watch_accel_out_mean_squared_error: 0.4832 - watch_gyro_out_mean_squared_error: 0.5156 - phone_accel_out_mean_squared_error: 0.6079\n",
      "Epoch 13/1000\n",
      "41056/41079 [============================>.] - ETA: 0s - loss: 0.6381 - watch_accel_out_loss: 0.1953 - watch_gyro_out_loss: 0.2069 - phone_accel_out_loss: 0.2359 - watch_accel_out_mean_squared_error: 0.4855 - watch_gyro_out_mean_squared_error: 0.5177 - phone_accel_out_mean_squared_error: 0.6012\n",
      "Epoch 00013: loss improved from 0.63840 to 0.63808, saving model to /n/scratch2/ms994/real_pd_log_fft_autoencoder.h5\n",
      "41079/41079 [==============================] - 50s 1ms/sample - loss: 0.6381 - watch_accel_out_loss: 0.1953 - watch_gyro_out_loss: 0.2069 - phone_accel_out_loss: 0.2359 - watch_accel_out_mean_squared_error: 0.4855 - watch_gyro_out_mean_squared_error: 0.5177 - phone_accel_out_mean_squared_error: 0.6011\n",
      "Epoch 14/1000\n",
      "41056/41079 [============================>.] - ETA: 0s - loss: 0.6287 - watch_accel_out_loss: 0.1932 - watch_gyro_out_loss: 0.2046 - phone_accel_out_loss: 0.2308 - watch_accel_out_mean_squared_error: 0.4799 - watch_gyro_out_mean_squared_error: 0.5114 - phone_accel_out_mean_squared_error: 0.5856\n",
      "Epoch 00014: loss improved from 0.63808 to 0.62865, saving model to /n/scratch2/ms994/real_pd_log_fft_autoencoder.h5\n",
      "41079/41079 [==============================] - 50s 1ms/sample - loss: 0.6287 - watch_accel_out_loss: 0.1932 - watch_gyro_out_loss: 0.2046 - phone_accel_out_loss: 0.2308 - watch_accel_out_mean_squared_error: 0.4799 - watch_gyro_out_mean_squared_error: 0.5114 - phone_accel_out_mean_squared_error: 0.5856\n",
      "Epoch 15/1000\n",
      "41056/41079 [============================>.] - ETA: 0s - loss: 0.6264 - watch_accel_out_loss: 0.1926 - watch_gyro_out_loss: 0.2029 - phone_accel_out_loss: 0.2308 - watch_accel_out_mean_squared_error: 0.4782 - watch_gyro_out_mean_squared_error: 0.5067 - phone_accel_out_mean_squared_error: 0.5848\n",
      "Epoch 00015: loss improved from 0.62865 to 0.62647, saving model to /n/scratch2/ms994/real_pd_log_fft_autoencoder.h5\n",
      "41079/41079 [==============================] - 49s 1ms/sample - loss: 0.6265 - watch_accel_out_loss: 0.1926 - watch_gyro_out_loss: 0.2030 - phone_accel_out_loss: 0.2309 - watch_accel_out_mean_squared_error: 0.4783 - watch_gyro_out_mean_squared_error: 0.5068 - phone_accel_out_mean_squared_error: 0.5850\n",
      "Epoch 16/1000\n",
      "41056/41079 [============================>.] - ETA: 0s - loss: 0.6286 - watch_accel_out_loss: 0.1923 - watch_gyro_out_loss: 0.2032 - phone_accel_out_loss: 0.2331 - watch_accel_out_mean_squared_error: 0.4774 - watch_gyro_out_mean_squared_error: 0.5072 - phone_accel_out_mean_squared_error: 0.5913\n",
      "Epoch 00016: loss did not improve from 0.62647\n",
      "41079/41079 [==============================] - 55s 1ms/sample - loss: 0.6286 - watch_accel_out_loss: 0.1923 - watch_gyro_out_loss: 0.2032 - phone_accel_out_loss: 0.2331 - watch_accel_out_mean_squared_error: 0.4774 - watch_gyro_out_mean_squared_error: 0.5072 - phone_accel_out_mean_squared_error: 0.5913\n",
      "Epoch 17/1000\n",
      "41024/41079 [============================>.] - ETA: 0s - loss: 0.6179 - watch_accel_out_loss: 0.1888 - watch_gyro_out_loss: 0.1993 - phone_accel_out_loss: 0.2299 - watch_accel_out_mean_squared_error: 0.4679 - watch_gyro_out_mean_squared_error: 0.4965 - phone_accel_out_mean_squared_error: 0.5817\n",
      "Epoch 00017: loss improved from 0.62647 to 0.61796, saving model to /n/scratch2/ms994/real_pd_log_fft_autoencoder.h5\n",
      "41079/41079 [==============================] - 49s 1ms/sample - loss: 0.6180 - watch_accel_out_loss: 0.1888 - watch_gyro_out_loss: 0.1993 - phone_accel_out_loss: 0.2299 - watch_accel_out_mean_squared_error: 0.4680 - watch_gyro_out_mean_squared_error: 0.4966 - phone_accel_out_mean_squared_error: 0.5818\n",
      "Epoch 18/1000\n",
      "41024/41079 [============================>.] - ETA: 0s - loss: 0.6141 - watch_accel_out_loss: 0.1890 - watch_gyro_out_loss: 0.1993 - phone_accel_out_loss: 0.2258 - watch_accel_out_mean_squared_error: 0.4684 - watch_gyro_out_mean_squared_error: 0.4966 - phone_accel_out_mean_squared_error: 0.5701\n",
      "Epoch 00018: loss improved from 0.61796 to 0.61420, saving model to /n/scratch2/ms994/real_pd_log_fft_autoencoder.h5\n",
      "41079/41079 [==============================] - 49s 1ms/sample - loss: 0.6142 - watch_accel_out_loss: 0.1890 - watch_gyro_out_loss: 0.1994 - phone_accel_out_loss: 0.2258 - watch_accel_out_mean_squared_error: 0.4686 - watch_gyro_out_mean_squared_error: 0.4968 - phone_accel_out_mean_squared_error: 0.5703\n",
      "Epoch 19/1000\n",
      "41056/41079 [============================>.] - ETA: 0s - loss: 0.6098 - watch_accel_out_loss: 0.1876 - watch_gyro_out_loss: 0.1972 - phone_accel_out_loss: 0.2251 - watch_accel_out_mean_squared_error: 0.4645 - watch_gyro_out_mean_squared_error: 0.4904 - phone_accel_out_mean_squared_error: 0.5677\n",
      "Epoch 00019: loss improved from 0.61420 to 0.60976, saving model to /n/scratch2/ms994/real_pd_log_fft_autoencoder.h5\n",
      "41079/41079 [==============================] - 50s 1ms/sample - loss: 0.6098 - watch_accel_out_loss: 0.1876 - watch_gyro_out_loss: 0.1972 - phone_accel_out_loss: 0.2250 - watch_accel_out_mean_squared_error: 0.4644 - watch_gyro_out_mean_squared_error: 0.4904 - phone_accel_out_mean_squared_error: 0.5677\n",
      "Epoch 20/1000\n",
      "41056/41079 [============================>.] - ETA: 0s - loss: 0.6113 - watch_accel_out_loss: 0.1879 - watch_gyro_out_loss: 0.1975 - phone_accel_out_loss: 0.2258 - watch_accel_out_mean_squared_error: 0.4656 - watch_gyro_out_mean_squared_error: 0.4915 - phone_accel_out_mean_squared_error: 0.5699\n",
      "Epoch 00020: loss did not improve from 0.60976\n",
      "41079/41079 [==============================] - 49s 1ms/sample - loss: 0.6112 - watch_accel_out_loss: 0.1879 - watch_gyro_out_loss: 0.1975 - phone_accel_out_loss: 0.2258 - watch_accel_out_mean_squared_error: 0.4656 - watch_gyro_out_mean_squared_error: 0.4915 - phone_accel_out_mean_squared_error: 0.5699\n",
      "Epoch 21/1000\n",
      "41056/41079 [============================>.] - ETA: 0s - loss: 0.6075 - watch_accel_out_loss: 0.1873 - watch_gyro_out_loss: 0.1963 - phone_accel_out_loss: 0.2239 - watch_accel_out_mean_squared_error: 0.4639 - watch_gyro_out_mean_squared_error: 0.4879 - phone_accel_out_mean_squared_error: 0.5641\n",
      "Epoch 00021: loss improved from 0.60976 to 0.60749, saving model to /n/scratch2/ms994/real_pd_log_fft_autoencoder.h5\n",
      "41079/41079 [==============================] - 50s 1ms/sample - loss: 0.6075 - watch_accel_out_loss: 0.1873 - watch_gyro_out_loss: 0.1962 - phone_accel_out_loss: 0.2239 - watch_accel_out_mean_squared_error: 0.4639 - watch_gyro_out_mean_squared_error: 0.4879 - phone_accel_out_mean_squared_error: 0.5642\n",
      "Epoch 22/1000\n",
      "41024/41079 [============================>.] - ETA: 0s - loss: 0.6052 - watch_accel_out_loss: 0.1860 - watch_gyro_out_loss: 0.1948 - phone_accel_out_loss: 0.2244 - watch_accel_out_mean_squared_error: 0.4604 - watch_gyro_out_mean_squared_error: 0.4840 - phone_accel_out_mean_squared_error: 0.5658\n",
      "Epoch 00022: loss improved from 0.60749 to 0.60517, saving model to /n/scratch2/ms994/real_pd_log_fft_autoencoder.h5\n",
      "41079/41079 [==============================] - 49s 1ms/sample - loss: 0.6052 - watch_accel_out_loss: 0.1860 - watch_gyro_out_loss: 0.1948 - phone_accel_out_loss: 0.2244 - watch_accel_out_mean_squared_error: 0.4604 - watch_gyro_out_mean_squared_error: 0.4840 - phone_accel_out_mean_squared_error: 0.5657\n",
      "Epoch 23/1000\n",
      "41024/41079 [============================>.] - ETA: 0s - loss: 0.6038 - watch_accel_out_loss: 0.1863 - watch_gyro_out_loss: 0.1953 - phone_accel_out_loss: 0.2221 - watch_accel_out_mean_squared_error: 0.4613 - watch_gyro_out_mean_squared_error: 0.4856 - phone_accel_out_mean_squared_error: 0.5591\n",
      "Epoch 00023: loss improved from 0.60517 to 0.60400, saving model to /n/scratch2/ms994/real_pd_log_fft_autoencoder.h5\n"
     ]
    },
    {
     "name": "stdout",
     "output_type": "stream",
     "text": [
      "41079/41079 [==============================] - 50s 1ms/sample - loss: 0.6040 - watch_accel_out_loss: 0.1863 - watch_gyro_out_loss: 0.1953 - phone_accel_out_loss: 0.2223 - watch_accel_out_mean_squared_error: 0.4614 - watch_gyro_out_mean_squared_error: 0.4856 - phone_accel_out_mean_squared_error: 0.5598\n",
      "Epoch 24/1000\n",
      "41056/41079 [============================>.] - ETA: 0s - loss: 0.6074 - watch_accel_out_loss: 0.1870 - watch_gyro_out_loss: 0.1964 - phone_accel_out_loss: 0.2239 - watch_accel_out_mean_squared_error: 0.4631 - watch_gyro_out_mean_squared_error: 0.4883 - phone_accel_out_mean_squared_error: 0.5639\n",
      "Epoch 00024: loss did not improve from 0.60400\n",
      "41079/41079 [==============================] - 49s 1ms/sample - loss: 0.6074 - watch_accel_out_loss: 0.1870 - watch_gyro_out_loss: 0.1964 - phone_accel_out_loss: 0.2239 - watch_accel_out_mean_squared_error: 0.4631 - watch_gyro_out_mean_squared_error: 0.4884 - phone_accel_out_mean_squared_error: 0.5639\n",
      "Epoch 25/1000\n",
      "41024/41079 [============================>.] - ETA: 0s - loss: 0.6031 - watch_accel_out_loss: 0.1864 - watch_gyro_out_loss: 0.1950 - phone_accel_out_loss: 0.2217 - watch_accel_out_mean_squared_error: 0.4613 - watch_gyro_out_mean_squared_error: 0.4845 - phone_accel_out_mean_squared_error: 0.5584\n",
      "Epoch 00025: loss improved from 0.60400 to 0.60309, saving model to /n/scratch2/ms994/real_pd_log_fft_autoencoder.h5\n",
      "41079/41079 [==============================] - 50s 1ms/sample - loss: 0.6031 - watch_accel_out_loss: 0.1864 - watch_gyro_out_loss: 0.1950 - phone_accel_out_loss: 0.2217 - watch_accel_out_mean_squared_error: 0.4613 - watch_gyro_out_mean_squared_error: 0.4846 - phone_accel_out_mean_squared_error: 0.5583\n",
      "Epoch 26/1000\n",
      "41056/41079 [============================>.] - ETA: 0s - loss: 0.6022 - watch_accel_out_loss: 0.1856 - watch_gyro_out_loss: 0.1940 - phone_accel_out_loss: 0.2226 - watch_accel_out_mean_squared_error: 0.4593 - watch_gyro_out_mean_squared_error: 0.4817 - phone_accel_out_mean_squared_error: 0.5604\n",
      "Epoch 00026: loss improved from 0.60309 to 0.60219, saving model to /n/scratch2/ms994/real_pd_log_fft_autoencoder.h5\n",
      "41079/41079 [==============================] - 50s 1ms/sample - loss: 0.6022 - watch_accel_out_loss: 0.1856 - watch_gyro_out_loss: 0.1940 - phone_accel_out_loss: 0.2226 - watch_accel_out_mean_squared_error: 0.4593 - watch_gyro_out_mean_squared_error: 0.4817 - phone_accel_out_mean_squared_error: 0.5604\n",
      "Epoch 27/1000\n",
      "41024/41079 [============================>.] - ETA: 0s - loss: 0.5993 - watch_accel_out_loss: 0.1856 - watch_gyro_out_loss: 0.1935 - phone_accel_out_loss: 0.2202 - watch_accel_out_mean_squared_error: 0.4592 - watch_gyro_out_mean_squared_error: 0.4802 - phone_accel_out_mean_squared_error: 0.5536\n",
      "Epoch 00027: loss improved from 0.60219 to 0.59940, saving model to /n/scratch2/ms994/real_pd_log_fft_autoencoder.h5\n",
      "41079/41079 [==============================] - 49s 1ms/sample - loss: 0.5994 - watch_accel_out_loss: 0.1856 - watch_gyro_out_loss: 0.1935 - phone_accel_out_loss: 0.2202 - watch_accel_out_mean_squared_error: 0.4593 - watch_gyro_out_mean_squared_error: 0.4803 - phone_accel_out_mean_squared_error: 0.5536\n",
      "Epoch 28/1000\n",
      "41056/41079 [============================>.] - ETA: 0s - loss: 0.5985 - watch_accel_out_loss: 0.1846 - watch_gyro_out_loss: 0.1928 - phone_accel_out_loss: 0.2211 - watch_accel_out_mean_squared_error: 0.4566 - watch_gyro_out_mean_squared_error: 0.4784 - phone_accel_out_mean_squared_error: 0.5564\n",
      "Epoch 00028: loss improved from 0.59940 to 0.59844, saving model to /n/scratch2/ms994/real_pd_log_fft_autoencoder.h5\n",
      "41079/41079 [==============================] - 49s 1ms/sample - loss: 0.5984 - watch_accel_out_loss: 0.1846 - watch_gyro_out_loss: 0.1928 - phone_accel_out_loss: 0.2211 - watch_accel_out_mean_squared_error: 0.4565 - watch_gyro_out_mean_squared_error: 0.4784 - phone_accel_out_mean_squared_error: 0.5564\n",
      "Epoch 29/1000\n",
      "41024/41079 [============================>.] - ETA: 0s - loss: 0.5997 - watch_accel_out_loss: 0.1848 - watch_gyro_out_loss: 0.1929 - phone_accel_out_loss: 0.2221 - watch_accel_out_mean_squared_error: 0.4571 - watch_gyro_out_mean_squared_error: 0.4788 - phone_accel_out_mean_squared_error: 0.5585\n",
      "Epoch 00029: loss did not improve from 0.59844\n",
      "41079/41079 [==============================] - 48s 1ms/sample - loss: 0.5996 - watch_accel_out_loss: 0.1847 - watch_gyro_out_loss: 0.1928 - phone_accel_out_loss: 0.2220 - watch_accel_out_mean_squared_error: 0.4571 - watch_gyro_out_mean_squared_error: 0.4787 - phone_accel_out_mean_squared_error: 0.5584\n",
      "Epoch 30/1000\n",
      "41056/41079 [============================>.] - ETA: 0s - loss: 0.6000 - watch_accel_out_loss: 0.1849 - watch_gyro_out_loss: 0.1934 - phone_accel_out_loss: 0.2217 - watch_accel_out_mean_squared_error: 0.4576 - watch_gyro_out_mean_squared_error: 0.4801 - phone_accel_out_mean_squared_error: 0.5577\n",
      "Epoch 00030: loss did not improve from 0.59844\n",
      "41079/41079 [==============================] - 48s 1ms/sample - loss: 0.6001 - watch_accel_out_loss: 0.1850 - watch_gyro_out_loss: 0.1934 - phone_accel_out_loss: 0.2217 - watch_accel_out_mean_squared_error: 0.4576 - watch_gyro_out_mean_squared_error: 0.4801 - phone_accel_out_mean_squared_error: 0.5577\n",
      "Epoch 31/1000\n",
      "41056/41079 [============================>.] - ETA: 0s - loss: 0.5978 - watch_accel_out_loss: 0.1844 - watch_gyro_out_loss: 0.1926 - phone_accel_out_loss: 0.2209 - watch_accel_out_mean_squared_error: 0.4561 - watch_gyro_out_mean_squared_error: 0.4778 - phone_accel_out_mean_squared_error: 0.5557\n",
      "Epoch 00031: loss improved from 0.59844 to 0.59779, saving model to /n/scratch2/ms994/real_pd_log_fft_autoencoder.h5\n",
      "41079/41079 [==============================] - 49s 1ms/sample - loss: 0.5978 - watch_accel_out_loss: 0.1844 - watch_gyro_out_loss: 0.1925 - phone_accel_out_loss: 0.2209 - watch_accel_out_mean_squared_error: 0.4561 - watch_gyro_out_mean_squared_error: 0.4778 - phone_accel_out_mean_squared_error: 0.5557\n",
      "Epoch 32/1000\n",
      "41056/41079 [============================>.] - ETA: 0s - loss: 0.5966 - watch_accel_out_loss: 0.1847 - watch_gyro_out_loss: 0.1930 - phone_accel_out_loss: 0.2189 - watch_accel_out_mean_squared_error: 0.4568 - watch_gyro_out_mean_squared_error: 0.4789 - phone_accel_out_mean_squared_error: 0.5495\n",
      "Epoch 00032: loss improved from 0.59779 to 0.59664, saving model to /n/scratch2/ms994/real_pd_log_fft_autoencoder.h5\n",
      "41079/41079 [==============================] - 50s 1ms/sample - loss: 0.5966 - watch_accel_out_loss: 0.1847 - watch_gyro_out_loss: 0.1930 - phone_accel_out_loss: 0.2189 - watch_accel_out_mean_squared_error: 0.4568 - watch_gyro_out_mean_squared_error: 0.4789 - phone_accel_out_mean_squared_error: 0.5495\n",
      "Epoch 33/1000\n",
      "41056/41079 [============================>.] - ETA: 0s - loss: 0.5991 - watch_accel_out_loss: 0.1848 - watch_gyro_out_loss: 0.1930 - phone_accel_out_loss: 0.2214 - watch_accel_out_mean_squared_error: 0.4569 - watch_gyro_out_mean_squared_error: 0.4787 - phone_accel_out_mean_squared_error: 0.5565\n",
      "Epoch 00033: loss did not improve from 0.59664\n",
      "41079/41079 [==============================] - 48s 1ms/sample - loss: 0.5991 - watch_accel_out_loss: 0.1847 - watch_gyro_out_loss: 0.1930 - phone_accel_out_loss: 0.2214 - watch_accel_out_mean_squared_error: 0.4569 - watch_gyro_out_mean_squared_error: 0.4787 - phone_accel_out_mean_squared_error: 0.5565\n",
      "Epoch 34/1000\n",
      "41024/41079 [============================>.] - ETA: 0s - loss: 0.5928 - watch_accel_out_loss: 0.1839 - watch_gyro_out_loss: 0.1923 - phone_accel_out_loss: 0.2167 - watch_accel_out_mean_squared_error: 0.4548 - watch_gyro_out_mean_squared_error: 0.4771 - phone_accel_out_mean_squared_error: 0.5439\n",
      "Epoch 00034: loss improved from 0.59664 to 0.59287, saving model to /n/scratch2/ms994/real_pd_log_fft_autoencoder.h5\n",
      "41079/41079 [==============================] - 49s 1ms/sample - loss: 0.5929 - watch_accel_out_loss: 0.1839 - watch_gyro_out_loss: 0.1923 - phone_accel_out_loss: 0.2167 - watch_accel_out_mean_squared_error: 0.4548 - watch_gyro_out_mean_squared_error: 0.4771 - phone_accel_out_mean_squared_error: 0.5439\n",
      "Epoch 35/1000\n",
      "41024/41079 [============================>.] - ETA: 0s - loss: 0.5935 - watch_accel_out_loss: 0.1835 - watch_gyro_out_loss: 0.1915 - phone_accel_out_loss: 0.2185 - watch_accel_out_mean_squared_error: 0.4538 - watch_gyro_out_mean_squared_error: 0.4750 - phone_accel_out_mean_squared_error: 0.5490\n",
      "Epoch 00035: loss did not improve from 0.59287\n",
      "41079/41079 [==============================] - 48s 1ms/sample - loss: 0.5935 - watch_accel_out_loss: 0.1835 - watch_gyro_out_loss: 0.1915 - phone_accel_out_loss: 0.2185 - watch_accel_out_mean_squared_error: 0.4538 - watch_gyro_out_mean_squared_error: 0.4750 - phone_accel_out_mean_squared_error: 0.5491\n",
      "Epoch 36/1000\n",
      "41056/41079 [============================>.] - ETA: 0s - loss: 0.5968 - watch_accel_out_loss: 0.1846 - watch_gyro_out_loss: 0.1927 - phone_accel_out_loss: 0.2195 - watch_accel_out_mean_squared_error: 0.4566 - watch_gyro_out_mean_squared_error: 0.4783 - phone_accel_out_mean_squared_error: 0.5513\n",
      "Epoch 00036: loss did not improve from 0.59287\n",
      "41079/41079 [==============================] - 48s 1ms/sample - loss: 0.5968 - watch_accel_out_loss: 0.1846 - watch_gyro_out_loss: 0.1927 - phone_accel_out_loss: 0.2195 - watch_accel_out_mean_squared_error: 0.4567 - watch_gyro_out_mean_squared_error: 0.4783 - phone_accel_out_mean_squared_error: 0.5513\n",
      "Epoch 37/1000\n",
      "41024/41079 [============================>.] - ETA: 0s - loss: 0.5956 - watch_accel_out_loss: 0.1843 - watch_gyro_out_loss: 0.1921 - phone_accel_out_loss: 0.2192 - watch_accel_out_mean_squared_error: 0.4557 - watch_gyro_out_mean_squared_error: 0.4767 - phone_accel_out_mean_squared_error: 0.5507\n",
      "Epoch 00037: loss did not improve from 0.59287\n",
      "41079/41079 [==============================] - 48s 1ms/sample - loss: 0.5956 - watch_accel_out_loss: 0.1843 - watch_gyro_out_loss: 0.1921 - phone_accel_out_loss: 0.2192 - watch_accel_out_mean_squared_error: 0.4557 - watch_gyro_out_mean_squared_error: 0.4768 - phone_accel_out_mean_squared_error: 0.5507\n",
      "Epoch 38/1000\n",
      "41056/41079 [============================>.] - ETA: 0s - loss: 0.5945 - watch_accel_out_loss: 0.1833 - watch_gyro_out_loss: 0.1909 - phone_accel_out_loss: 0.2203 - watch_accel_out_mean_squared_error: 0.4533 - watch_gyro_out_mean_squared_error: 0.4735 - phone_accel_out_mean_squared_error: 0.5540\n",
      "Epoch 00038: loss did not improve from 0.59287\n",
      "41079/41079 [==============================] - 48s 1ms/sample - loss: 0.5945 - watch_accel_out_loss: 0.1833 - watch_gyro_out_loss: 0.1909 - phone_accel_out_loss: 0.2203 - watch_accel_out_mean_squared_error: 0.4533 - watch_gyro_out_mean_squared_error: 0.4735 - phone_accel_out_mean_squared_error: 0.5540\n",
      "Epoch 39/1000\n",
      "41056/41079 [============================>.] - ETA: 0s - loss: 0.5936 - watch_accel_out_loss: 0.1839 - watch_gyro_out_loss: 0.1922 - phone_accel_out_loss: 0.2175 - watch_accel_out_mean_squared_error: 0.4547 - watch_gyro_out_mean_squared_error: 0.4768 - phone_accel_out_mean_squared_error: 0.5460\n",
      "Epoch 00039: loss did not improve from 0.59287\n",
      "41079/41079 [==============================] - 48s 1ms/sample - loss: 0.5935 - watch_accel_out_loss: 0.1839 - watch_gyro_out_loss: 0.1922 - phone_accel_out_loss: 0.2174 - watch_accel_out_mean_squared_error: 0.4547 - watch_gyro_out_mean_squared_error: 0.4768 - phone_accel_out_mean_squared_error: 0.5460\n",
      "Epoch 40/1000\n",
      "41056/41079 [============================>.] - ETA: 0s - loss: 0.5984 - watch_accel_out_loss: 0.1841 - watch_gyro_out_loss: 0.1922 - phone_accel_out_loss: 0.2221 - watch_accel_out_mean_squared_error: 0.4552 - watch_gyro_out_mean_squared_error: 0.4768 - phone_accel_out_mean_squared_error: 0.5586\n",
      "Epoch 00040: loss did not improve from 0.59287\n",
      "41079/41079 [==============================] - 48s 1ms/sample - loss: 0.5984 - watch_accel_out_loss: 0.1841 - watch_gyro_out_loss: 0.1922 - phone_accel_out_loss: 0.2221 - watch_accel_out_mean_squared_error: 0.4552 - watch_gyro_out_mean_squared_error: 0.4768 - phone_accel_out_mean_squared_error: 0.5586\n",
      "Epoch 41/1000\n",
      "41024/41079 [============================>.] - ETA: 0s - loss: 0.5969 - watch_accel_out_loss: 0.1845 - watch_gyro_out_loss: 0.1926 - phone_accel_out_loss: 0.2198 - watch_accel_out_mean_squared_error: 0.4564 - watch_gyro_out_mean_squared_error: 0.4778 - phone_accel_out_mean_squared_error: 0.5521\n",
      "Epoch 00041: loss did not improve from 0.59287\n",
      "41079/41079 [==============================] - 48s 1ms/sample - loss: 0.5969 - watch_accel_out_loss: 0.1845 - watch_gyro_out_loss: 0.1926 - phone_accel_out_loss: 0.2198 - watch_accel_out_mean_squared_error: 0.4563 - watch_gyro_out_mean_squared_error: 0.4778 - phone_accel_out_mean_squared_error: 0.5521\n",
      "Epoch 42/1000\n",
      "41056/41079 [============================>.] - ETA: 0s - loss: 0.5964 - watch_accel_out_loss: 0.1842 - watch_gyro_out_loss: 0.1922 - phone_accel_out_loss: 0.2200 - watch_accel_out_mean_squared_error: 0.4554 - watch_gyro_out_mean_squared_error: 0.4769 - phone_accel_out_mean_squared_error: 0.5530\n",
      "Epoch 00042: loss did not improve from 0.59287\n",
      "41079/41079 [==============================] - 48s 1ms/sample - loss: 0.5963 - watch_accel_out_loss: 0.1842 - watch_gyro_out_loss: 0.1922 - phone_accel_out_loss: 0.2199 - watch_accel_out_mean_squared_error: 0.4554 - watch_gyro_out_mean_squared_error: 0.4769 - phone_accel_out_mean_squared_error: 0.5529\n",
      "Epoch 43/1000\n",
      "41056/41079 [============================>.] - ETA: 0s - loss: 0.5979 - watch_accel_out_loss: 0.1842 - watch_gyro_out_loss: 0.1923 - phone_accel_out_loss: 0.2214 - watch_accel_out_mean_squared_error: 0.4555 - watch_gyro_out_mean_squared_error: 0.4771 - phone_accel_out_mean_squared_error: 0.5565\n",
      "Epoch 00043: loss did not improve from 0.59287\n",
      "41079/41079 [==============================] - 48s 1ms/sample - loss: 0.5979 - watch_accel_out_loss: 0.1842 - watch_gyro_out_loss: 0.1923 - phone_accel_out_loss: 0.2214 - watch_accel_out_mean_squared_error: 0.4555 - watch_gyro_out_mean_squared_error: 0.4771 - phone_accel_out_mean_squared_error: 0.5564\n",
      "Epoch 44/1000\n",
      "41056/41079 [============================>.] - ETA: 0s - loss: 0.5938 - watch_accel_out_loss: 0.1836 - watch_gyro_out_loss: 0.1913 - phone_accel_out_loss: 0.2189 - watch_accel_out_mean_squared_error: 0.4539 - watch_gyro_out_mean_squared_error: 0.4746 - phone_accel_out_mean_squared_error: 0.5497\n",
      "Epoch 00044: loss did not improve from 0.59287\n",
      "41079/41079 [==============================] - 48s 1ms/sample - loss: 0.5939 - watch_accel_out_loss: 0.1836 - watch_gyro_out_loss: 0.1913 - phone_accel_out_loss: 0.2189 - watch_accel_out_mean_squared_error: 0.4540 - watch_gyro_out_mean_squared_error: 0.4746 - phone_accel_out_mean_squared_error: 0.5498\n",
      "Epoch 45/1000\n",
      "41056/41079 [============================>.] - ETA: 0s - loss: 0.5950 - watch_accel_out_loss: 0.1839 - watch_gyro_out_loss: 0.1917 - phone_accel_out_loss: 0.2194 - watch_accel_out_mean_squared_error: 0.4548 - watch_gyro_out_mean_squared_error: 0.4756 - phone_accel_out_mean_squared_error: 0.5509\n",
      "Epoch 00045: loss did not improve from 0.59287\n",
      "41079/41079 [==============================] - 48s 1ms/sample - loss: 0.5950 - watch_accel_out_loss: 0.1839 - watch_gyro_out_loss: 0.1917 - phone_accel_out_loss: 0.2194 - watch_accel_out_mean_squared_error: 0.4548 - watch_gyro_out_mean_squared_error: 0.4756 - phone_accel_out_mean_squared_error: 0.5509\n",
      "Epoch 46/1000\n",
      "41056/41079 [============================>.] - ETA: 0s - loss: 0.5932 - watch_accel_out_loss: 0.1835 - watch_gyro_out_loss: 0.1915 - phone_accel_out_loss: 0.2183 - watch_accel_out_mean_squared_error: 0.4536 - watch_gyro_out_mean_squared_error: 0.4748 - phone_accel_out_mean_squared_error: 0.5479\n",
      "Epoch 00046: loss did not improve from 0.59287\n",
      "41079/41079 [==============================] - 48s 1ms/sample - loss: 0.5934 - watch_accel_out_loss: 0.1835 - watch_gyro_out_loss: 0.1915 - phone_accel_out_loss: 0.2183 - watch_accel_out_mean_squared_error: 0.4537 - watch_gyro_out_mean_squared_error: 0.4750 - phone_accel_out_mean_squared_error: 0.5481\n",
      "Epoch 47/1000\n"
     ]
    },
    {
     "name": "stdout",
     "output_type": "stream",
     "text": [
      "41056/41079 [============================>.] - ETA: 0s - loss: 0.5962 - watch_accel_out_loss: 0.1834 - watch_gyro_out_loss: 0.1916 - phone_accel_out_loss: 0.2211 - watch_accel_out_mean_squared_error: 0.4535 - watch_gyro_out_mean_squared_error: 0.4753 - phone_accel_out_mean_squared_error: 0.5561\n",
      "Epoch 00047: loss did not improve from 0.59287\n",
      "41079/41079 [==============================] - 48s 1ms/sample - loss: 0.5964 - watch_accel_out_loss: 0.1835 - watch_gyro_out_loss: 0.1916 - phone_accel_out_loss: 0.2213 - watch_accel_out_mean_squared_error: 0.4536 - watch_gyro_out_mean_squared_error: 0.4754 - phone_accel_out_mean_squared_error: 0.5566\n",
      "Epoch 48/1000\n",
      "41056/41079 [============================>.] - ETA: 0s - loss: 0.5979 - watch_accel_out_loss: 0.1843 - watch_gyro_out_loss: 0.1923 - phone_accel_out_loss: 0.2213 - watch_accel_out_mean_squared_error: 0.4557 - watch_gyro_out_mean_squared_error: 0.4771 - phone_accel_out_mean_squared_error: 0.5567\n",
      "Epoch 00048: loss did not improve from 0.59287\n",
      "41079/41079 [==============================] - 49s 1ms/sample - loss: 0.5978 - watch_accel_out_loss: 0.1843 - watch_gyro_out_loss: 0.1923 - phone_accel_out_loss: 0.2213 - watch_accel_out_mean_squared_error: 0.4557 - watch_gyro_out_mean_squared_error: 0.4771 - phone_accel_out_mean_squared_error: 0.5567\n",
      "Epoch 49/1000\n",
      "41056/41079 [============================>.] - ETA: 0s - loss: 0.5945 - watch_accel_out_loss: 0.1838 - watch_gyro_out_loss: 0.1917 - phone_accel_out_loss: 0.2190 - watch_accel_out_mean_squared_error: 0.4544 - watch_gyro_out_mean_squared_error: 0.4754 - phone_accel_out_mean_squared_error: 0.5500\n",
      "Epoch 00049: loss did not improve from 0.59287\n",
      "41079/41079 [==============================] - 49s 1ms/sample - loss: 0.5945 - watch_accel_out_loss: 0.1838 - watch_gyro_out_loss: 0.1916 - phone_accel_out_loss: 0.2190 - watch_accel_out_mean_squared_error: 0.4544 - watch_gyro_out_mean_squared_error: 0.4754 - phone_accel_out_mean_squared_error: 0.5499\n"
     ]
    }
   ],
   "source": [
    "model.compile(tf.keras.optimizers.Adam(lr=0.005), \"logcosh\", metrics=[\"mean_squared_error\"])\n",
    "modelCheckpoint = tf.keras.callbacks.ModelCheckpoint(\"/n/scratch2/ms994/real_pd_log_fft_autoencoder.h5\", monitor=\"loss\", save_best_only=True, verbose=True)\n",
    "earlyStopping = tf.keras.callbacks.EarlyStopping(monitor=\"loss\", patience=15)\n",
    "reduceLR = tf.keras.callbacks.ReduceLROnPlateau(monitor=\"loss\", patience=1, factor=0.5)\n",
    "history = model.fit(([watchAccel, watchGyro, phoneAccel]), ([watchAccel, watchGyro, phoneAccel]), epochs=1000, callbacks=[modelCheckpoint, reduceLR, earlyStopping])"
   ]
  },
  {
   "cell_type": "code",
   "execution_count": 65,
   "metadata": {},
   "outputs": [],
   "source": [
    "model = tf.keras.models.load_model(\"/n/scratch2/ms994/real_pd_log_fft_autoencoder.h5\")"
   ]
  },
  {
   "cell_type": "code",
   "execution_count": 66,
   "metadata": {},
   "outputs": [],
   "source": [
    "pred=model.predict(([watchAccel, watchGyro, phoneAccel]))"
   ]
  },
  {
   "cell_type": "code",
   "execution_count": 84,
   "metadata": {},
   "outputs": [
    {
     "data": {
      "image/png": "[encoded data removed]",
      "text/plain": [
       "<Figure size 432x288 with 1 Axes>"
      ]
     },
     "metadata": {
      "needs_background": "light"
     },
     "output_type": "display_data"
    }
   ],
   "source": [
    "import matplotlib.pyplot as plt\n",
    "plt.plot(pred[0][14][:,0])\n",
    "plt.show()"
   ]
  },
  {
   "cell_type": "code",
   "execution_count": 85,
   "metadata": {},
   "outputs": [
    {
     "data": {
      "text/plain": [
       "[<matplotlib.lines.Line2D at 0x7fd6cb71fe80>]"
      ]
     },
     "execution_count": 85,
     "metadata": {},
     "output_type": "execute_result"
    },
    {
     "data": {
      "image/png": "[encoded data removed]",
      "text/plain": [
       "<Figure size 432x288 with 1 Axes>"
      ]
     },
     "metadata": {
      "needs_background": "light"
     },
     "output_type": "display_data"
    }
   ],
   "source": [
    "plt.plot(watchAccel[14][:,0])"
   ]
  },
  {
   "cell_type": "code",
   "execution_count": 88,
   "metadata": {},
   "outputs": [],
   "source": [
    "num_cnn_layers = 4\n",
    "num_lstm_layers = 0\n",
    "dropout = 0.5\n",
    "lin_h=128\n",
    "watch_accel = tf.keras.layers.Input((750, 3), name=\"watch_accel_in\")\n",
    "watch_gyro = tf.keras.layers.Input((750, 3), name=\"watch_gyro_in\")\n",
    "phone_accel = tf.keras.layers.Input((750, 3), name=\"phone_accel_in\")\n",
    "all_inputs = [watch_accel, watch_gyro, phone_accel]\n",
    "all_encoder_out = []\n",
    "\n",
    "for inputLayer in all_inputs:\n",
    "    x = inputLayer\n",
    "    x = tf.keras.layers.Flatten()(x)\n",
    "    x = tf.keras.layers.Dense(1000)(x)\n",
    "    x = tf.keras.layers.LeakyReLU()(x)\n",
    "    x = tf.keras.layers.BatchNormalization()(x)\n",
    "    x = tf.keras.layers.Dense(750)(x)\n",
    "    x = tf.keras.layers.LeakyReLU()(x)\n",
    "    x = tf.keras.layers.BatchNormalization()(x)\n",
    "    x = tf.keras.layers.Dense(500)(x)\n",
    "    x = tf.keras.layers.LeakyReLU()(x)\n",
    "    x = tf.keras.layers.BatchNormalization()(x)\n",
    "\n",
    "   \n",
    "\n",
    "    x = tf.keras.layers.Flatten()(x)\n",
    "    all_encoder_out.append(x)\n",
    "\n",
    "x = tf.keras.layers.Concatenate()(all_encoder_out)\n",
    "x = tf.keras.layers.Dense(1000)(x)\n",
    "x = tf.keras.layers.LeakyReLU()(x)\n",
    "x = tf.keras.layers.BatchNormalization()(x)\n",
    "x = tf.keras.layers.Dense(512)(x)\n",
    "x = tf.keras.layers.LeakyReLU()(x)\n",
    "x = tf.keras.layers.BatchNormalization()(x)\n",
    "encoder = tf.keras.Model(inputs=all_inputs, outputs=x)"
   ]
  },
  {
   "cell_type": "code",
   "execution_count": 92,
   "metadata": {},
   "outputs": [],
   "source": [
    "for i in range(len(encoder.layers)):\n",
    "    encoder.layers[i].set_weights(model.layers[i].get_weights())"
   ]
  },
  {
   "cell_type": "code",
   "execution_count": 94,
   "metadata": {},
   "outputs": [],
   "source": [
    "encoded=encoder.predict(([watchAccel, watchGyro, phoneAccel]))"
   ]
  },
  {
   "cell_type": "code",
   "execution_count": 103,
   "metadata": {},
   "outputs": [],
   "source": [
    "pkl.dump(encoded, open(\"/n/scratch2/ms994/encoded_real_pd.pkl\", \"wb\"))"
   ]
  },
  {
   "cell_type": "code",
   "execution_count": null,
   "metadata": {},
   "outputs": [],
   "source": [
    "from sklearn.decomposition import FastICA\n",
    "ica = FastICA()\n",
    "ica.fit(encoded)"
   ]
  },
  {
   "cell_type": "code",
   "execution_count": 21,
   "metadata": {},
   "outputs": [],
   "source": [
    "encoded = pkl.load(open(\"/n/scratch2/ms994/encoded_real_pd.pkl\", \"rb\"))"
   ]
  },
  {
   "cell_type": "code",
   "execution_count": 22,
   "metadata": {},
   "outputs": [],
   "source": [
    "allLabels = [allResults[i][3] for i in range(len(allResults))]"
   ]
  },
  {
   "cell_type": "code",
   "execution_count": 23,
   "metadata": {},
   "outputs": [],
   "source": [
    "measurement_id_labels = [allResults[i][3].measurement_id for i in range(len(allResults))]"
   ]
  },
  {
   "cell_type": "code",
   "execution_count": 24,
   "metadata": {},
   "outputs": [],
   "source": [
    "from sklearn.model_selection import train_test_split"
   ]
  },
  {
   "cell_type": "code",
   "execution_count": 25,
   "metadata": {},
   "outputs": [],
   "source": [
    "train, test = train_test_split([i for i in range(len(measurement_id_labels))], random_state=1)\n",
    "train, valid = train_test_split(train, random_state=1)"
   ]
  },
  {
   "cell_type": "code",
   "execution_count": 26,
   "metadata": {},
   "outputs": [],
   "source": [
    "from sklearn.ensemble import RandomForestClassifier"
   ]
  },
  {
   "cell_type": "code",
   "execution_count": 27,
   "metadata": {},
   "outputs": [],
   "source": [
    "rf = RandomForestClassifier(1000, n_jobs=12)"
   ]
  },
  {
   "cell_type": "code",
   "execution_count": 28,
   "metadata": {},
   "outputs": [],
   "source": [
    "on_off_labels = [allResults[i][3].on_off for i in range(len(allResults))]"
   ]
  },
  {
   "cell_type": "code",
   "execution_count": 29,
   "metadata": {},
   "outputs": [],
   "source": [
    "train = pd.Series(on_off_labels)[train].dropna().index.tolist()\n",
    "valid = pd.Series(on_off_labels)[valid].dropna().index.tolist()\n",
    "test = pd.Series(on_off_labels)[test].dropna().index.tolist()"
   ]
  },
  {
   "cell_type": "code",
   "execution_count": 30,
   "metadata": {},
   "outputs": [
    {
     "data": {
      "text/plain": [
       "((41079, 512), 41079)"
      ]
     },
     "execution_count": 30,
     "metadata": {},
     "output_type": "execute_result"
    }
   ],
   "source": [
    "encoded.shape, len(allResults)"
   ]
  },
  {
   "cell_type": "code",
   "execution_count": 31,
   "metadata": {},
   "outputs": [],
   "source": [
    "encoded_train = encoded[train]\n",
    "on_off_train_labels = pd.Series(on_off_labels)[train]"
   ]
  },
  {
   "cell_type": "code",
   "execution_count": 32,
   "metadata": {},
   "outputs": [
    {
     "data": {
      "text/plain": [
       "RandomForestClassifier(bootstrap=True, class_weight=None, criterion='gini',\n",
       "                       max_depth=None, max_features='auto', max_leaf_nodes=None,\n",
       "                       min_impurity_decrease=0.0, min_impurity_split=None,\n",
       "                       min_samples_leaf=1, min_samples_split=2,\n",
       "                       min_weight_fraction_leaf=0.0, n_estimators=1000,\n",
       "                       n_jobs=12, oob_score=False, random_state=None, verbose=0,\n",
       "                       warm_start=False)"
      ]
     },
     "execution_count": 32,
     "metadata": {},
     "output_type": "execute_result"
    }
   ],
   "source": [
    "rf.fit(encoded_train, on_off_train_labels)"
   ]
  },
  {
   "cell_type": "code",
   "execution_count": 33,
   "metadata": {},
   "outputs": [],
   "source": [
    "pred = rf.predict(encoded[valid])"
   ]
  },
  {
   "cell_type": "code",
   "execution_count": 34,
   "metadata": {},
   "outputs": [
    {
     "data": {
      "text/plain": [
       "0.2155297532656023"
      ]
     },
     "execution_count": 34,
     "metadata": {},
     "output_type": "execute_result"
    }
   ],
   "source": [
    "from sklearn.metrics import mean_squared_error\n",
    "mean_squared_error(pd.Series(on_off_labels)[valid].to_list(), pred)"
   ]
  },
  {
   "cell_type": "code",
   "execution_count": 35,
   "metadata": {},
   "outputs": [],
   "source": [
    "import seaborn as sns"
   ]
  },
  {
   "cell_type": "code",
   "execution_count": 37,
   "metadata": {},
   "outputs": [
    {
     "data": {
      "text/plain": [
       "<matplotlib.axes._subplots.AxesSubplot at 0x7fe2b6740a20>"
      ]
     },
     "execution_count": 37,
     "metadata": {},
     "output_type": "execute_result"
    },
    {
     "data": {
      "image/png": "[encoded data removed]",
      "text/plain": [
       "<Figure size 432x288 with 1 Axes>"
      ]
     },
     "metadata": {
      "needs_background": "light"
     },
     "output_type": "display_data"
    }
   ],
   "source": [
    "sns.violinplot(x=pd.Series(on_off_labels)[valid], y=pred)"
   ]
  }
 ],
 "metadata": {
  "kernelspec": {
   "display_name": "Python 3",
   "language": "python",
   "name": "python3"
  },
  "language_info": {
   "codemirror_mode": {
    "name": "ipython",
    "version": 3
   },
   "file_extension": ".py",
   "mimetype": "text/x-python",
   "name": "python",
   "nbconvert_exporter": "python",
   "pygments_lexer": "ipython3",
   "version": "3.7.3"
  },
  "toc": {
   "base_numbering": 1,
   "nav_menu": {},
   "number_sections": true,
   "sideBar": true,
   "skip_h1_title": false,
   "title_cell": "Table of Contents",
   "title_sidebar": "Contents",
   "toc_cell": false,
   "toc_position": {},
   "toc_section_display": true,
   "toc_window_display": false
  }
 },
 "nbformat": 4,
 "nbformat_minor": 2
}
