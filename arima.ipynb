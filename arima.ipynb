{
 "cells": [
  {
   "cell_type": "code",
   "execution_count": 12,
   "metadata": {},
   "outputs": [],
   "source": [
    "import glob \n",
    "import os\n",
    "import pandas as pd\n",
    "import statsmodels as sm\n",
    "import numpy as np\n",
    "import seaborn as sns\n",
    "import matplotlib.pyplot as plt\n",
    "import sklearn\n",
    "\n",
    "from importlib import reload\n",
    "from sklearn import model_selection, metrics\n",
    "from tqdm.auto import tqdm\n",
    "from scipy import signal\n",
    "from statsmodels.graphics.tsaplots import plot_acf, plot_pacf\n",
    "from statsmodels.tsa.arima_model import ARIMA\n",
    "from pandas.plotting import autocorrelation_plot\n",
    "\n",
    "from src import main, feature_model"
   ]
  },
  {
   "cell_type": "code",
   "execution_count": 21,
   "metadata": {},
   "outputs": [
    {
     "ename": "ValueError",
     "evalue": "'a' cannot be empty unless no samples are taken",
     "output_type": "error",
     "traceback": [
      "\u001b[0;31m---------------------------------------------------------------------------\u001b[0m",
      "\u001b[0;31mValueError\u001b[0m                                Traceback (most recent call last)",
      "\u001b[0;32m<ipython-input-21-8bf8b85aeb69>\u001b[0m in \u001b[0;36m<module>\u001b[0;34m\u001b[0m\n\u001b[0;32m----> 1\u001b[0;31m \u001b[0mfp\u001b[0m \u001b[0;34m=\u001b[0m \u001b[0mnp\u001b[0m\u001b[0;34m.\u001b[0m\u001b[0mrandom\u001b[0m\u001b[0;34m.\u001b[0m\u001b[0mchoice\u001b[0m\u001b[0;34m(\u001b[0m\u001b[0mglob\u001b[0m\u001b[0;34m.\u001b[0m\u001b[0mglob\u001b[0m\u001b[0;34m(\u001b[0m\u001b[0;34m'../beat_pd/data/cist-pd/training_data/training_samples/*/*.csv'\u001b[0m\u001b[0;34m)\u001b[0m\u001b[0;34m)\u001b[0m\u001b[0;34m\u001b[0m\u001b[0;34m\u001b[0m\u001b[0m\n\u001b[0m\u001b[1;32m      2\u001b[0m \u001b[0mdf\u001b[0m \u001b[0;34m=\u001b[0m \u001b[0mmain\u001b[0m\u001b[0;34m.\u001b[0m\u001b[0mread_seq\u001b[0m\u001b[0;34m(\u001b[0m\u001b[0mfp\u001b[0m\u001b[0;34m)\u001b[0m\u001b[0;34m\u001b[0m\u001b[0;34m\u001b[0m\u001b[0m\n",
      "\u001b[0;32mmtrand.pyx\u001b[0m in \u001b[0;36mmtrand.RandomState.choice\u001b[0;34m()\u001b[0m\n",
      "\u001b[0;31mValueError\u001b[0m: 'a' cannot be empty unless no samples are taken"
     ]
    }
   ],
   "source": [
    "fp = np.random.choice(glob.glob('../beat_pd/data/cist-pd/training_data/training_samples/*/*.csv'))\n",
    "df = main.read_seq(fp)"
   ]
  },
  {
   "cell_type": "code",
   "execution_count": 14,
   "metadata": {},
   "outputs": [
    {
     "data": {
      "image/png": "[encoded data removed]",
      "text/plain": [
       "<Figure size 540x324 with 3 Axes>"
      ]
     },
     "metadata": {
      "needs_background": "light"
     },
     "output_type": "display_data"
    }
   ],
   "source": [
    "plot_df = df.reset_index().melt(value_vars=['x', 'y', 'z'], value_name='value', var_name='axis', id_vars='t')\n",
    "grid = sns.relplot(data=plot_df, row='axis', x='t', y='value', kind='line', aspect=5, height=1.5)"
   ]
  },
  {
   "cell_type": "code",
   "execution_count": 6,
   "metadata": {},
   "outputs": [],
   "source": [
    "labels1 = pd.read_csv('data/cis-pd/data_labels/CIS-PD_Training_Data_IDs_Labels.csv')\n",
    "labels2 = pd.read_csv('data/real-pd/data_labels/REAL-PD_Training_Data_IDs_Labels.csv')"
   ]
  },
  {
   "cell_type": "code",
   "execution_count": 12,
   "metadata": {},
   "outputs": [
    {
     "data": {
      "text/plain": [
       "(963, 5)"
      ]
     },
     "execution_count": 12,
     "metadata": {},
     "output_type": "execute_result"
    }
   ],
   "source": [
    "labels1.dropna().shape"
   ]
  },
  {
   "cell_type": "code",
   "execution_count": 14,
   "metadata": {},
   "outputs": [
    {
     "data": {
      "text/plain": [
       "(591, 5)"
      ]
     },
     "execution_count": 14,
     "metadata": {},
     "output_type": "execute_result"
    }
   ],
   "source": []
  },
  {
   "cell_type": "code",
   "execution_count": 9,
   "metadata": {},
   "outputs": [
    {
     "data": {
      "application/vnd.jupyter.widget-view+json": {
       "model_id": "0e4794624eb04107ac5d6b82376daabf",
       "version_major": 2,
       "version_minor": 0
      },
      "text/plain": [
       "HBox(children=(IntProgress(value=1, bar_style='info', max=1), HTML(value='')))"
      ]
     },
     "metadata": {},
     "output_type": "display_data"
    },
    {
     "name": "stdout",
     "output_type": "stream",
     "text": [
      "\n"
     ]
    }
   ],
   "source": [
    "import glob\n",
    "import os\n",
    "import pandas as pd\n",
    "\n",
    "from tqdm.auto import tqdm\n",
    "\n",
    "import warnings\n",
    "warnings.filterwarnings('ignore')\n",
    "\n",
    "feature_vecs = []\n",
    "model_order = (5, 1, 2)\n",
    "\n",
    "for fp in tqdm(glob.glob('data/cis-pd/training_data/training_samples/*/*.csv')[:500]):\n",
    "    samp_id = os.path.basename(os.path.dirname(fp))\n",
    "    df = main.read_seq(fp)\n",
    "#     try:\n",
    "    features = pd.concat([feature_model.extract_arima_features(df[axis], model_order=model_order) for axis in df])\n",
    "    features['sample_id'] = samp_id\n",
    "    feature_vecs.append(features)\n",
    "#     except: \n",
    "#         continue\n",
    "\n",
    "features_df = pd.DataFrame(feature_vecs)\n",
    "features_df.to_csv('arima_features.csv')"
   ]
  },
  {
   "cell_type": "code",
   "execution_count": 39,
   "metadata": {},
   "outputs": [],
   "source": [
    "label_cols = ['on_off', 'dyskinesia', 'tremor']\n",
    "\n",
    "dataset = labels.merge(features_df, left_on='measurement_id', right_on='sample_id').drop(columns=['subject_id', 'sample_id', 'measurement_id']).dropna(axis='index')\n",
    "# dataset[label_cols] = dataset[label_cols] / 4\n",
    "training_set, test_set = model_selection.train_test_split(dataset, test_size=.2, stratify=dataset.on_off)"
   ]
  },
  {
   "cell_type": "code",
   "execution_count": 60,
   "metadata": {},
   "outputs": [
    {
     "name": "stdout",
     "output_type": "stream",
     "text": [
      "Train on 179 samples, validate on 45 samples\n",
      "Epoch 1/300\n",
      "179/179 [==============================] - 0s 2ms/step - loss: 3.2226 - normed_difference: 0.6656 - val_loss: 2.6844 - val_normed_difference: 0.6907\n",
      "Epoch 2/300\n",
      "179/179 [==============================] - 0s 110us/step - loss: 3.1805 - normed_difference: 0.6628 - val_loss: 2.6505 - val_normed_difference: 0.6889\n",
      "Epoch 3/300\n",
      "179/179 [==============================] - 0s 62us/step - loss: 3.1327 - normed_difference: 0.6609 - val_loss: 2.6157 - val_normed_difference: 0.6796\n",
      "Epoch 4/300\n",
      "179/179 [==============================] - 0s 89us/step - loss: 3.0863 - normed_difference: 0.6579 - val_loss: 2.5819 - val_normed_difference: 0.6630\n",
      "Epoch 5/300\n",
      "179/179 [==============================] - 0s 53us/step - loss: 3.0392 - normed_difference: 0.6482 - val_loss: 2.5453 - val_normed_difference: 0.6463\n",
      "Epoch 6/300\n",
      "179/179 [==============================] - 0s 54us/step - loss: 3.0001 - normed_difference: 0.6392 - val_loss: 2.5064 - val_normed_difference: 0.6444\n",
      "Epoch 7/300\n",
      "179/179 [==============================] - 0s 55us/step - loss: 2.9588 - normed_difference: 0.6360 - val_loss: 2.4698 - val_normed_difference: 0.6370\n",
      "Epoch 8/300\n",
      "179/179 [==============================] - 0s 127us/step - loss: 2.9203 - normed_difference: 0.6234 - val_loss: 2.4372 - val_normed_difference: 0.6259\n",
      "Epoch 9/300\n",
      "179/179 [==============================] - 0s 177us/step - loss: 2.8883 - normed_difference: 0.6090 - val_loss: 2.4078 - val_normed_difference: 0.6056\n",
      "Epoch 10/300\n",
      "179/179 [==============================] - 0s 49us/step - loss: 2.8498 - normed_difference: 0.6013 - val_loss: 2.3825 - val_normed_difference: 0.5907\n",
      "Epoch 11/300\n",
      "179/179 [==============================] - 0s 35us/step - loss: 2.8220 - normed_difference: 0.5895 - val_loss: 2.3590 - val_normed_difference: 0.5685\n",
      "Epoch 12/300\n",
      "179/179 [==============================] - 0s 42us/step - loss: 2.7922 - normed_difference: 0.5788 - val_loss: 2.3369 - val_normed_difference: 0.5556\n",
      "Epoch 13/300\n",
      "179/179 [==============================] - 0s 48us/step - loss: 2.7623 - normed_difference: 0.5659 - val_loss: 2.3172 - val_normed_difference: 0.5556\n",
      "Epoch 14/300\n",
      "179/179 [==============================] - 0s 31us/step - loss: 2.7381 - normed_difference: 0.5582 - val_loss: 2.2988 - val_normed_difference: 0.5407\n",
      "Epoch 15/300\n",
      "179/179 [==============================] - 0s 31us/step - loss: 2.7122 - normed_difference: 0.5452 - val_loss: 2.2818 - val_normed_difference: 0.5370\n",
      "Epoch 16/300\n",
      "179/179 [==============================] - 0s 32us/step - loss: 2.6885 - normed_difference: 0.5327 - val_loss: 2.2641 - val_normed_difference: 0.5241\n",
      "Epoch 17/300\n",
      "179/179 [==============================] - 0s 31us/step - loss: 2.6625 - normed_difference: 0.5189 - val_loss: 2.2473 - val_normed_difference: 0.5130\n",
      "Epoch 18/300\n",
      "179/179 [==============================] - 0s 31us/step - loss: 2.6401 - normed_difference: 0.5071 - val_loss: 2.2314 - val_normed_difference: 0.5019\n",
      "Epoch 19/300\n",
      "179/179 [==============================] - 0s 31us/step - loss: 2.6156 - normed_difference: 0.4950 - val_loss: 2.2169 - val_normed_difference: 0.4833\n",
      "Epoch 20/300\n",
      "179/179 [==============================] - 0s 31us/step - loss: 2.5937 - normed_difference: 0.4817 - val_loss: 2.2028 - val_normed_difference: 0.4796\n",
      "Epoch 21/300\n",
      "179/179 [==============================] - 0s 32us/step - loss: 2.5688 - normed_difference: 0.4816 - val_loss: 2.1887 - val_normed_difference: 0.4648\n",
      "Epoch 22/300\n",
      "179/179 [==============================] - 0s 31us/step - loss: 2.5460 - normed_difference: 0.4682 - val_loss: 2.1742 - val_normed_difference: 0.4537\n",
      "Epoch 23/300\n",
      "179/179 [==============================] - 0s 31us/step - loss: 2.5204 - normed_difference: 0.4581 - val_loss: 2.1593 - val_normed_difference: 0.4537\n",
      "Epoch 24/300\n",
      "179/179 [==============================] - 0s 35us/step - loss: 2.4939 - normed_difference: 0.4585 - val_loss: 2.1438 - val_normed_difference: 0.4296\n",
      "Epoch 25/300\n",
      "179/179 [==============================] - 0s 32us/step - loss: 2.4691 - normed_difference: 0.4421 - val_loss: 2.1289 - val_normed_difference: 0.4241\n",
      "Epoch 26/300\n",
      "179/179 [==============================] - 0s 31us/step - loss: 2.4419 - normed_difference: 0.4409 - val_loss: 2.1143 - val_normed_difference: 0.4148\n",
      "Epoch 27/300\n",
      "179/179 [==============================] - 0s 32us/step - loss: 2.4151 - normed_difference: 0.4241 - val_loss: 2.1003 - val_normed_difference: 0.4093\n",
      "Epoch 28/300\n",
      "179/179 [==============================] - 0s 31us/step - loss: 2.3846 - normed_difference: 0.4188 - val_loss: 2.0845 - val_normed_difference: 0.3944\n",
      "Epoch 29/300\n",
      "179/179 [==============================] - 0s 35us/step - loss: 2.3559 - normed_difference: 0.4083 - val_loss: 2.0695 - val_normed_difference: 0.3907\n",
      "Epoch 30/300\n",
      "179/179 [==============================] - 0s 31us/step - loss: 2.3282 - normed_difference: 0.3971 - val_loss: 2.0543 - val_normed_difference: 0.3796\n",
      "Epoch 31/300\n",
      "179/179 [==============================] - 0s 31us/step - loss: 2.3018 - normed_difference: 0.3950 - val_loss: 2.0376 - val_normed_difference: 0.3722\n",
      "Epoch 32/300\n",
      "179/179 [==============================] - 0s 32us/step - loss: 2.2753 - normed_difference: 0.3756 - val_loss: 2.0214 - val_normed_difference: 0.3648\n",
      "Epoch 33/300\n",
      "179/179 [==============================] - 0s 31us/step - loss: 2.2472 - normed_difference: 0.3628 - val_loss: 2.0047 - val_normed_difference: 0.3463\n",
      "Epoch 34/300\n",
      "179/179 [==============================] - 0s 30us/step - loss: 2.2181 - normed_difference: 0.3550 - val_loss: 1.9879 - val_normed_difference: 0.3278\n",
      "Epoch 35/300\n",
      "179/179 [==============================] - 0s 29us/step - loss: 2.1947 - normed_difference: 0.3420 - val_loss: 1.9726 - val_normed_difference: 0.3074\n",
      "Epoch 36/300\n",
      "179/179 [==============================] - 0s 29us/step - loss: 2.1701 - normed_difference: 0.3237 - val_loss: 1.9576 - val_normed_difference: 0.2944\n",
      "Epoch 37/300\n",
      "179/179 [==============================] - 0s 29us/step - loss: 2.1469 - normed_difference: 0.3240 - val_loss: 1.9424 - val_normed_difference: 0.2870\n",
      "Epoch 38/300\n",
      "179/179 [==============================] - 0s 29us/step - loss: 2.1244 - normed_difference: 0.3085 - val_loss: 1.9285 - val_normed_difference: 0.2685\n",
      "Epoch 39/300\n",
      "179/179 [==============================] - 0s 31us/step - loss: 2.1033 - normed_difference: 0.2949 - val_loss: 1.9152 - val_normed_difference: 0.2611\n",
      "Epoch 40/300\n",
      "179/179 [==============================] - 0s 29us/step - loss: 2.0819 - normed_difference: 0.2847 - val_loss: 1.9032 - val_normed_difference: 0.2500\n",
      "Epoch 41/300\n",
      "179/179 [==============================] - 0s 29us/step - loss: 2.0606 - normed_difference: 0.2721 - val_loss: 1.8915 - val_normed_difference: 0.2481\n",
      "Epoch 42/300\n",
      "179/179 [==============================] - 0s 29us/step - loss: 2.0409 - normed_difference: 0.2622 - val_loss: 1.8800 - val_normed_difference: 0.2463\n",
      "Epoch 43/300\n",
      "179/179 [==============================] - 0s 29us/step - loss: 2.0203 - normed_difference: 0.2610 - val_loss: 1.8691 - val_normed_difference: 0.2296\n",
      "Epoch 44/300\n",
      "179/179 [==============================] - 0s 30us/step - loss: 2.0014 - normed_difference: 0.2506 - val_loss: 1.8581 - val_normed_difference: 0.2222\n",
      "Epoch 45/300\n",
      "179/179 [==============================] - 0s 29us/step - loss: 1.9825 - normed_difference: 0.2449 - val_loss: 1.8477 - val_normed_difference: 0.2111\n",
      "Epoch 46/300\n",
      "179/179 [==============================] - 0s 29us/step - loss: 1.9639 - normed_difference: 0.2475 - val_loss: 1.8377 - val_normed_difference: 0.2000\n",
      "Epoch 47/300\n",
      "179/179 [==============================] - 0s 29us/step - loss: 1.9461 - normed_difference: 0.2363 - val_loss: 1.8268 - val_normed_difference: 0.1944\n",
      "Epoch 48/300\n",
      "179/179 [==============================] - 0s 30us/step - loss: 1.9282 - normed_difference: 0.2267 - val_loss: 1.8165 - val_normed_difference: 0.1852\n",
      "Epoch 49/300\n",
      "179/179 [==============================] - 0s 29us/step - loss: 1.9104 - normed_difference: 0.2232 - val_loss: 1.8045 - val_normed_difference: 0.1778\n",
      "Epoch 50/300\n",
      "179/179 [==============================] - 0s 33us/step - loss: 1.8923 - normed_difference: 0.2106 - val_loss: 1.7929 - val_normed_difference: 0.1741\n",
      "Epoch 51/300\n"
     ]
    },
    {
     "name": "stdout",
     "output_type": "stream",
     "text": [
      "179/179 [==============================] - 0s 29us/step - loss: 1.8739 - normed_difference: 0.2212 - val_loss: 1.7822 - val_normed_difference: 0.1704\n",
      "Epoch 52/300\n",
      "179/179 [==============================] - 0s 33us/step - loss: 1.8581 - normed_difference: 0.2042 - val_loss: 1.7716 - val_normed_difference: 0.1704\n",
      "Epoch 53/300\n",
      "179/179 [==============================] - 0s 29us/step - loss: 1.8395 - normed_difference: 0.2031 - val_loss: 1.7610 - val_normed_difference: 0.1648\n",
      "Epoch 54/300\n",
      "179/179 [==============================] - 0s 33us/step - loss: 1.8250 - normed_difference: 0.2020 - val_loss: 1.7504 - val_normed_difference: 0.1556\n",
      "Epoch 55/300\n",
      "179/179 [==============================] - 0s 29us/step - loss: 1.8060 - normed_difference: 0.1985 - val_loss: 1.7409 - val_normed_difference: 0.1444\n",
      "Epoch 56/300\n",
      "179/179 [==============================] - 0s 33us/step - loss: 1.7903 - normed_difference: 0.1872 - val_loss: 1.7323 - val_normed_difference: 0.1352\n",
      "Epoch 57/300\n",
      "179/179 [==============================] - 0s 29us/step - loss: 1.7734 - normed_difference: 0.1874 - val_loss: 1.7228 - val_normed_difference: 0.1352\n",
      "Epoch 58/300\n",
      "179/179 [==============================] - 0s 32us/step - loss: 1.7575 - normed_difference: 0.1771 - val_loss: 1.7140 - val_normed_difference: 0.1259\n",
      "Epoch 59/300\n",
      "179/179 [==============================] - 0s 34us/step - loss: 1.7424 - normed_difference: 0.1756 - val_loss: 1.7061 - val_normed_difference: 0.1167\n",
      "Epoch 60/300\n",
      "179/179 [==============================] - 0s 29us/step - loss: 1.7276 - normed_difference: 0.1641 - val_loss: 1.6988 - val_normed_difference: 0.1111\n",
      "Epoch 61/300\n",
      "179/179 [==============================] - 0s 32us/step - loss: 1.7125 - normed_difference: 0.1598 - val_loss: 1.6916 - val_normed_difference: 0.1019\n",
      "Epoch 62/300\n",
      "179/179 [==============================] - 0s 29us/step - loss: 1.6992 - normed_difference: 0.1573 - val_loss: 1.6853 - val_normed_difference: 0.0981\n",
      "Epoch 63/300\n",
      "179/179 [==============================] - 0s 170us/step - loss: 1.6848 - normed_difference: 0.1486 - val_loss: 1.6792 - val_normed_difference: 0.0981\n",
      "Epoch 64/300\n",
      "179/179 [==============================] - 0s 27us/step - loss: 1.6725 - normed_difference: 0.1510 - val_loss: 1.6729 - val_normed_difference: 0.0907\n",
      "Epoch 65/300\n",
      "179/179 [==============================] - 0s 28us/step - loss: 1.6595 - normed_difference: 0.1456 - val_loss: 1.6677 - val_normed_difference: 0.0889\n",
      "Epoch 66/300\n",
      "179/179 [==============================] - 0s 27us/step - loss: 1.6471 - normed_difference: 0.1427 - val_loss: 1.6620 - val_normed_difference: 0.0870\n",
      "Epoch 67/300\n",
      "179/179 [==============================] - 0s 33us/step - loss: 1.6354 - normed_difference: 0.1367 - val_loss: 1.6574 - val_normed_difference: 0.0722\n",
      "Epoch 68/300\n",
      "179/179 [==============================] - 0s 41us/step - loss: 1.6240 - normed_difference: 0.1345 - val_loss: 1.6517 - val_normed_difference: 0.0722\n",
      "Epoch 69/300\n",
      "179/179 [==============================] - 0s 31us/step - loss: 1.6122 - normed_difference: 0.1233 - val_loss: 1.6471 - val_normed_difference: 0.0648\n",
      "Epoch 70/300\n",
      "179/179 [==============================] - 0s 30us/step - loss: 1.6020 - normed_difference: 0.1227 - val_loss: 1.6429 - val_normed_difference: 0.0593\n",
      "Epoch 71/300\n",
      "179/179 [==============================] - 0s 30us/step - loss: 1.5915 - normed_difference: 0.1167 - val_loss: 1.6391 - val_normed_difference: 0.0537\n",
      "Epoch 72/300\n",
      "179/179 [==============================] - 0s 31us/step - loss: 1.5814 - normed_difference: 0.1079 - val_loss: 1.6366 - val_normed_difference: 0.0481\n",
      "Epoch 73/300\n",
      "179/179 [==============================] - 0s 32us/step - loss: 1.5713 - normed_difference: 0.1084 - val_loss: 1.6329 - val_normed_difference: 0.0426\n",
      "Epoch 74/300\n",
      "179/179 [==============================] - 0s 31us/step - loss: 1.5617 - normed_difference: 0.1053 - val_loss: 1.6297 - val_normed_difference: 0.0370\n",
      "Epoch 75/300\n",
      "179/179 [==============================] - 0s 31us/step - loss: 1.5521 - normed_difference: 0.1017 - val_loss: 1.6268 - val_normed_difference: 0.0315\n",
      "Epoch 76/300\n",
      "179/179 [==============================] - 0s 31us/step - loss: 1.5439 - normed_difference: 0.1071 - val_loss: 1.6234 - val_normed_difference: 0.0315\n",
      "Epoch 77/300\n",
      "179/179 [==============================] - 0s 31us/step - loss: 1.5364 - normed_difference: 0.1006 - val_loss: 1.6207 - val_normed_difference: 0.0259\n",
      "Epoch 78/300\n",
      "179/179 [==============================] - 0s 31us/step - loss: 1.5288 - normed_difference: 0.0861 - val_loss: 1.6187 - val_normed_difference: 0.0185\n",
      "Epoch 79/300\n",
      "179/179 [==============================] - 0s 31us/step - loss: 1.5212 - normed_difference: 0.0854 - val_loss: 1.6170 - val_normed_difference: 0.0148\n",
      "Epoch 80/300\n",
      "179/179 [==============================] - 0s 31us/step - loss: 1.5150 - normed_difference: 0.0786 - val_loss: 1.6154 - val_normed_difference: 0.0148\n",
      "Epoch 81/300\n",
      "179/179 [==============================] - 0s 31us/step - loss: 1.5074 - normed_difference: 0.0646 - val_loss: 1.6132 - val_normed_difference: 0.0093\n",
      "Epoch 82/300\n",
      "179/179 [==============================] - 0s 31us/step - loss: 1.5016 - normed_difference: 0.0611 - val_loss: 1.6112 - val_normed_difference: 0.0074\n",
      "Epoch 83/300\n",
      "179/179 [==============================] - 0s 31us/step - loss: 1.4957 - normed_difference: 0.0598 - val_loss: 1.6096 - val_normed_difference: 0.0037\n",
      "Epoch 84/300\n",
      "179/179 [==============================] - 0s 31us/step - loss: 1.4896 - normed_difference: 0.0539 - val_loss: 1.6087 - val_normed_difference: 0.0019\n",
      "Epoch 85/300\n",
      "179/179 [==============================] - 0s 34us/step - loss: 1.4847 - normed_difference: 0.0524 - val_loss: 1.6075 - val_normed_difference: -0.0037\n",
      "Epoch 86/300\n",
      "179/179 [==============================] - 0s 31us/step - loss: 1.4786 - normed_difference: 0.0565 - val_loss: 1.6061 - val_normed_difference: -0.0037\n",
      "Epoch 87/300\n",
      "179/179 [==============================] - 0s 31us/step - loss: 1.4742 - normed_difference: 0.0433 - val_loss: 1.6062 - val_normed_difference: -0.0074\n",
      "Epoch 88/300\n",
      "179/179 [==============================] - 0s 33us/step - loss: 1.4691 - normed_difference: 0.0378 - val_loss: 1.6052 - val_normed_difference: -0.0074\n",
      "Epoch 89/300\n",
      "179/179 [==============================] - 0s 30us/step - loss: 1.4646 - normed_difference: 0.0368 - val_loss: 1.6045 - val_normed_difference: -0.0111\n",
      "Epoch 90/300\n",
      "179/179 [==============================] - 0s 30us/step - loss: 1.4607 - normed_difference: 0.0374 - val_loss: 1.6032 - val_normed_difference: -0.0148\n",
      "Epoch 91/300\n",
      "179/179 [==============================] - 0s 30us/step - loss: 1.4555 - normed_difference: 0.0364 - val_loss: 1.6032 - val_normed_difference: -0.0185\n",
      "Epoch 92/300\n",
      "179/179 [==============================] - 0s 30us/step - loss: 1.4518 - normed_difference: 0.0421 - val_loss: 1.6024 - val_normed_difference: -0.0185\n",
      "Epoch 93/300\n",
      "179/179 [==============================] - 0s 31us/step - loss: 1.4477 - normed_difference: 0.0406 - val_loss: 1.6017 - val_normed_difference: -0.0204\n",
      "Epoch 94/300\n",
      "179/179 [==============================] - 0s 58us/step - loss: 1.4435 - normed_difference: 0.0329 - val_loss: 1.6026 - val_normed_difference: -0.0204\n",
      "Epoch 95/300\n",
      "179/179 [==============================] - 0s 93us/step - loss: 1.4392 - normed_difference: 0.0283 - val_loss: 1.6023 - val_normed_difference: -0.0259\n",
      "Epoch 96/300\n",
      "179/179 [==============================] - 0s 34us/step - loss: 1.4360 - normed_difference: 0.0245 - val_loss: 1.6020 - val_normed_difference: -0.0278\n",
      "Epoch 97/300\n",
      "179/179 [==============================] - 0s 42us/step - loss: 1.4318 - normed_difference: 0.0289 - val_loss: 1.6009 - val_normed_difference: -0.0296\n",
      "Epoch 98/300\n",
      "179/179 [==============================] - 0s 56us/step - loss: 1.4283 - normed_difference: 0.0246 - val_loss: 1.6005 - val_normed_difference: -0.0278\n",
      "Epoch 99/300\n",
      "179/179 [==============================] - 0s 44us/step - loss: 1.4249 - normed_difference: 0.0279 - val_loss: 1.5993 - val_normed_difference: -0.0278\n",
      "Epoch 100/300\n",
      "179/179 [==============================] - ETA: 0s - loss: 1.4596 - normed_difference: 0.002 - 0s 71us/step - loss: 1.4212 - normed_difference: 0.0194 - val_loss: 1.5985 - val_normed_difference: -0.0278\n"
     ]
    },
    {
     "name": "stdout",
     "output_type": "stream",
     "text": [
      "Epoch 101/300\n",
      "179/179 [==============================] - 0s 44us/step - loss: 1.4179 - normed_difference: 0.0193 - val_loss: 1.5978 - val_normed_difference: -0.0370\n",
      "Epoch 102/300\n",
      "179/179 [==============================] - 0s 69us/step - loss: 1.4139 - normed_difference: 0.0199 - val_loss: 1.5971 - val_normed_difference: -0.0370\n",
      "Epoch 103/300\n",
      "179/179 [==============================] - 0s 46us/step - loss: 1.4108 - normed_difference: 0.0174 - val_loss: 1.5968 - val_normed_difference: -0.0370\n",
      "Epoch 104/300\n",
      "179/179 [==============================] - 0s 71us/step - loss: 1.4075 - normed_difference: 0.0177 - val_loss: 1.5971 - val_normed_difference: -0.0407\n",
      "Epoch 105/300\n",
      "179/179 [==============================] - 0s 44us/step - loss: 1.4042 - normed_difference: 0.0118 - val_loss: 1.5970 - val_normed_difference: -0.0463\n",
      "Epoch 106/300\n",
      "179/179 [==============================] - 0s 71us/step - loss: 1.4015 - normed_difference: 0.0140 - val_loss: 1.5955 - val_normed_difference: -0.0519\n",
      "Epoch 107/300\n",
      "179/179 [==============================] - 0s 46us/step - loss: 1.3981 - normed_difference: 0.0112 - val_loss: 1.5958 - val_normed_difference: -0.0519\n",
      "Epoch 108/300\n",
      "179/179 [==============================] - 0s 71us/step - loss: 1.3953 - normed_difference: 0.0018 - val_loss: 1.5964 - val_normed_difference: -0.0574\n",
      "Epoch 109/300\n",
      "179/179 [==============================] - 0s 45us/step - loss: 1.3918 - normed_difference: 0.0026 - val_loss: 1.5958 - val_normed_difference: -0.0574\n",
      "Epoch 110/300\n",
      "179/179 [==============================] - 0s 70us/step - loss: 1.3888 - normed_difference: -5.4467e-04 - val_loss: 1.5962 - val_normed_difference: -0.0611\n",
      "Epoch 111/300\n",
      "179/179 [==============================] - 0s 44us/step - loss: 1.3857 - normed_difference: -0.0031 - val_loss: 1.5961 - val_normed_difference: -0.0611\n",
      "Epoch 112/300\n",
      "179/179 [==============================] - 0s 70us/step - loss: 1.3826 - normed_difference: -0.0042 - val_loss: 1.5957 - val_normed_difference: -0.0630\n",
      "Epoch 113/300\n",
      "179/179 [==============================] - 0s 44us/step - loss: 1.3800 - normed_difference: -0.0073 - val_loss: 1.5957 - val_normed_difference: -0.0648\n",
      "Epoch 114/300\n",
      "179/179 [==============================] - 0s 70us/step - loss: 1.3771 - normed_difference: -0.0146 - val_loss: 1.5953 - val_normed_difference: -0.0685\n",
      "Epoch 115/300\n",
      "179/179 [==============================] - 0s 45us/step - loss: 1.3739 - normed_difference: -0.0071 - val_loss: 1.5938 - val_normed_difference: -0.0648\n",
      "Epoch 116/300\n",
      "179/179 [==============================] - 0s 70us/step - loss: 1.3713 - normed_difference: -0.0093 - val_loss: 1.5943 - val_normed_difference: -0.0667\n",
      "Epoch 117/300\n",
      "179/179 [==============================] - 0s 45us/step - loss: 1.3681 - normed_difference: -0.0106 - val_loss: 1.5938 - val_normed_difference: -0.0722\n",
      "Epoch 118/300\n",
      "179/179 [==============================] - 0s 70us/step - loss: 1.3651 - normed_difference: -0.0083 - val_loss: 1.5932 - val_normed_difference: -0.0704\n",
      "Epoch 119/300\n",
      "179/179 [==============================] - 0s 45us/step - loss: 1.3625 - normed_difference: -0.0142 - val_loss: 1.5928 - val_normed_difference: -0.0722\n",
      "Epoch 120/300\n",
      "179/179 [==============================] - 0s 69us/step - loss: 1.3598 - normed_difference: -0.0105 - val_loss: 1.5926 - val_normed_difference: -0.0722\n",
      "Epoch 121/300\n",
      "179/179 [==============================] - 0s 43us/step - loss: 1.3572 - normed_difference: -0.0166 - val_loss: 1.5928 - val_normed_difference: -0.0722\n",
      "Epoch 122/300\n",
      "179/179 [==============================] - 0s 69us/step - loss: 1.3545 - normed_difference: -0.0170 - val_loss: 1.5939 - val_normed_difference: -0.0722\n",
      "Epoch 123/300\n",
      "179/179 [==============================] - 0s 43us/step - loss: 1.3517 - normed_difference: -0.0193 - val_loss: 1.5933 - val_normed_difference: -0.0704\n",
      "Epoch 124/300\n",
      "179/179 [==============================] - 0s 70us/step - loss: 1.3486 - normed_difference: -0.0198 - val_loss: 1.5935 - val_normed_difference: -0.0704\n",
      "Epoch 125/300\n",
      "179/179 [==============================] - 0s 44us/step - loss: 1.3461 - normed_difference: -0.0134 - val_loss: 1.5932 - val_normed_difference: -0.0685\n",
      "Epoch 126/300\n",
      "179/179 [==============================] - 0s 69us/step - loss: 1.3436 - normed_difference: -0.0170 - val_loss: 1.5933 - val_normed_difference: -0.0704\n",
      "Epoch 127/300\n",
      "179/179 [==============================] - 0s 43us/step - loss: 1.3408 - normed_difference: -0.0188 - val_loss: 1.5927 - val_normed_difference: -0.0704\n",
      "Epoch 128/300\n",
      "179/179 [==============================] - 0s 69us/step - loss: 1.3382 - normed_difference: -0.0175 - val_loss: 1.5931 - val_normed_difference: -0.0759\n",
      "Epoch 129/300\n",
      "179/179 [==============================] - 0s 44us/step - loss: 1.3355 - normed_difference: -0.0276 - val_loss: 1.5928 - val_normed_difference: -0.0759\n",
      "Epoch 130/300\n",
      "179/179 [==============================] - 0s 69us/step - loss: 1.3330 - normed_difference: -0.0276 - val_loss: 1.5925 - val_normed_difference: -0.0796\n",
      "Epoch 131/300\n",
      "179/179 [==============================] - 0s 43us/step - loss: 1.3304 - normed_difference: -0.0255 - val_loss: 1.5928 - val_normed_difference: -0.0833\n",
      "Epoch 132/300\n",
      "179/179 [==============================] - 0s 69us/step - loss: 1.3282 - normed_difference: -0.0253 - val_loss: 1.5924 - val_normed_difference: -0.0833\n",
      "Epoch 133/300\n",
      "179/179 [==============================] - 0s 44us/step - loss: 1.3252 - normed_difference: -0.0236 - val_loss: 1.5906 - val_normed_difference: -0.0759\n",
      "Epoch 134/300\n",
      "179/179 [==============================] - 0s 70us/step - loss: 1.3226 - normed_difference: -0.0287 - val_loss: 1.5895 - val_normed_difference: -0.0759\n",
      "Epoch 135/300\n",
      "179/179 [==============================] - 0s 44us/step - loss: 1.3199 - normed_difference: -0.0270 - val_loss: 1.5882 - val_normed_difference: -0.0741\n",
      "Epoch 136/300\n",
      "179/179 [==============================] - 0s 70us/step - loss: 1.3179 - normed_difference: -0.0227 - val_loss: 1.5866 - val_normed_difference: -0.0722\n",
      "Epoch 137/300\n",
      "179/179 [==============================] - 0s 43us/step - loss: 1.3156 - normed_difference: -0.0197 - val_loss: 1.5844 - val_normed_difference: -0.0685\n",
      "Epoch 138/300\n",
      "179/179 [==============================] - 0s 70us/step - loss: 1.3127 - normed_difference: -0.0301 - val_loss: 1.5838 - val_normed_difference: -0.0704\n",
      "Epoch 139/300\n",
      "179/179 [==============================] - 0s 43us/step - loss: 1.3102 - normed_difference: -0.0232 - val_loss: 1.5832 - val_normed_difference: -0.0704\n",
      "Epoch 140/300\n",
      "179/179 [==============================] - 0s 69us/step - loss: 1.3079 - normed_difference: -0.0308 - val_loss: 1.5836 - val_normed_difference: -0.0741\n",
      "Epoch 141/300\n",
      "179/179 [==============================] - 0s 43us/step - loss: 1.3054 - normed_difference: -0.0331 - val_loss: 1.5832 - val_normed_difference: -0.0759\n",
      "Epoch 142/300\n",
      "179/179 [==============================] - 0s 69us/step - loss: 1.3031 - normed_difference: -0.0301 - val_loss: 1.5833 - val_normed_difference: -0.0759\n",
      "Epoch 143/300\n",
      "179/179 [==============================] - 0s 43us/step - loss: 1.3011 - normed_difference: -0.0286 - val_loss: 1.5819 - val_normed_difference: -0.0796\n",
      "Epoch 144/300\n",
      "179/179 [==============================] - 0s 69us/step - loss: 1.2984 - normed_difference: -0.0303 - val_loss: 1.5812 - val_normed_difference: -0.0796\n",
      "Epoch 145/300\n",
      "179/179 [==============================] - 0s 43us/step - loss: 1.2962 - normed_difference: -0.0331 - val_loss: 1.5798 - val_normed_difference: -0.0741\n",
      "Epoch 146/300\n",
      "179/179 [==============================] - 0s 70us/step - loss: 1.2940 - normed_difference: -0.0331 - val_loss: 1.5792 - val_normed_difference: -0.0741\n",
      "Epoch 147/300\n",
      "179/179 [==============================] - 0s 43us/step - loss: 1.2917 - normed_difference: -0.0370 - val_loss: 1.5787 - val_normed_difference: -0.0741\n",
      "Epoch 148/300\n",
      "179/179 [==============================] - 0s 69us/step - loss: 1.2896 - normed_difference: -0.0310 - val_loss: 1.5772 - val_normed_difference: -0.0741\n",
      "Epoch 149/300\n",
      "179/179 [==============================] - 0s 43us/step - loss: 1.2872 - normed_difference: -0.0267 - val_loss: 1.5756 - val_normed_difference: -0.0759\n",
      "Epoch 150/300\n",
      "179/179 [==============================] - 0s 69us/step - loss: 1.2852 - normed_difference: -0.0334 - val_loss: 1.5758 - val_normed_difference: -0.0778\n",
      "Epoch 151/300\n",
      "179/179 [==============================] - 0s 43us/step - loss: 1.2826 - normed_difference: -0.0351 - val_loss: 1.5768 - val_normed_difference: -0.0796\n",
      "Epoch 152/300\n",
      "179/179 [==============================] - 0s 69us/step - loss: 1.2804 - normed_difference: -0.0423 - val_loss: 1.5776 - val_normed_difference: -0.0815\n",
      "Epoch 153/300\n",
      "179/179 [==============================] - 0s 43us/step - loss: 1.2782 - normed_difference: -0.0404 - val_loss: 1.5770 - val_normed_difference: -0.0815\n",
      "Epoch 154/300\n",
      "179/179 [==============================] - 0s 69us/step - loss: 1.2760 - normed_difference: -0.0412 - val_loss: 1.5773 - val_normed_difference: -0.0815\n",
      "Epoch 155/300\n",
      "179/179 [==============================] - 0s 43us/step - loss: 1.2738 - normed_difference: -0.0429 - val_loss: 1.5762 - val_normed_difference: -0.0815\n",
      "Epoch 156/300\n",
      "179/179 [==============================] - 0s 69us/step - loss: 1.2717 - normed_difference: -0.0429 - val_loss: 1.5755 - val_normed_difference: -0.0833\n",
      "Epoch 157/300\n",
      "179/179 [==============================] - 0s 43us/step - loss: 1.2695 - normed_difference: -0.0419 - val_loss: 1.5749 - val_normed_difference: -0.0833\n",
      "Epoch 158/300\n",
      "179/179 [==============================] - 0s 69us/step - loss: 1.2672 - normed_difference: -0.0432 - val_loss: 1.5736 - val_normed_difference: -0.0815\n",
      "Epoch 159/300\n",
      "179/179 [==============================] - 0s 43us/step - loss: 1.2652 - normed_difference: -0.0446 - val_loss: 1.5732 - val_normed_difference: -0.0796\n",
      "Epoch 160/300\n",
      "179/179 [==============================] - 0s 69us/step - loss: 1.2629 - normed_difference: -0.0429 - val_loss: 1.5722 - val_normed_difference: -0.0815\n",
      "Epoch 161/300\n",
      "179/179 [==============================] - 0s 43us/step - loss: 1.2609 - normed_difference: -0.0482 - val_loss: 1.5717 - val_normed_difference: -0.0815\n",
      "Epoch 162/300\n",
      "179/179 [==============================] - 0s 69us/step - loss: 1.2589 - normed_difference: -0.0391 - val_loss: 1.5709 - val_normed_difference: -0.0796\n",
      "Epoch 163/300\n",
      "179/179 [==============================] - 0s 43us/step - loss: 1.2566 - normed_difference: -0.0468 - val_loss: 1.5712 - val_normed_difference: -0.0796\n",
      "Epoch 164/300\n",
      "179/179 [==============================] - 0s 69us/step - loss: 1.2545 - normed_difference: -0.0440 - val_loss: 1.5714 - val_normed_difference: -0.0796\n",
      "Epoch 165/300\n",
      "179/179 [==============================] - 0s 43us/step - loss: 1.2526 - normed_difference: -0.0377 - val_loss: 1.5725 - val_normed_difference: -0.0833\n",
      "Epoch 166/300\n",
      "179/179 [==============================] - 0s 69us/step - loss: 1.2506 - normed_difference: -0.0444 - val_loss: 1.5718 - val_normed_difference: -0.0833\n",
      "Epoch 167/300\n",
      "179/179 [==============================] - 0s 43us/step - loss: 1.2481 - normed_difference: -0.0424 - val_loss: 1.5714 - val_normed_difference: -0.0815\n",
      "Epoch 168/300\n",
      "179/179 [==============================] - 0s 69us/step - loss: 1.2462 - normed_difference: -0.0452 - val_loss: 1.5698 - val_normed_difference: -0.0796\n",
      "Epoch 169/300\n",
      "179/179 [==============================] - 0s 43us/step - loss: 1.2444 - normed_difference: -0.0382 - val_loss: 1.5691 - val_normed_difference: -0.0796\n",
      "Epoch 170/300\n",
      "179/179 [==============================] - 0s 69us/step - loss: 1.2421 - normed_difference: -0.0406 - val_loss: 1.5690 - val_normed_difference: -0.0833\n",
      "Epoch 171/300\n",
      "179/179 [==============================] - 0s 38us/step - loss: 1.2399 - normed_difference: -0.0423 - val_loss: 1.5690 - val_normed_difference: -0.0833\n",
      "Epoch 172/300\n",
      "179/179 [==============================] - 0s 69us/step - loss: 1.2382 - normed_difference: -0.0396 - val_loss: 1.5691 - val_normed_difference: -0.0815\n",
      "Epoch 173/300\n",
      "179/179 [==============================] - 0s 43us/step - loss: 1.2363 - normed_difference: -0.0494 - val_loss: 1.5679 - val_normed_difference: -0.0796\n",
      "Epoch 174/300\n",
      "179/179 [==============================] - 0s 67us/step - loss: 1.2339 - normed_difference: -0.0438 - val_loss: 1.5680 - val_normed_difference: -0.0796\n",
      "Epoch 175/300\n",
      "179/179 [==============================] - 0s 43us/step - loss: 1.2322 - normed_difference: -0.0396 - val_loss: 1.5676 - val_normed_difference: -0.0778\n",
      "Epoch 176/300\n",
      "179/179 [==============================] - 0s 69us/step - loss: 1.2301 - normed_difference: -0.0374 - val_loss: 1.5664 - val_normed_difference: -0.0759\n",
      "Epoch 177/300\n",
      "179/179 [==============================] - 0s 43us/step - loss: 1.2281 - normed_difference: -0.0411 - val_loss: 1.5669 - val_normed_difference: -0.0815\n",
      "Epoch 178/300\n",
      "179/179 [==============================] - 0s 69us/step - loss: 1.2268 - normed_difference: -0.0476 - val_loss: 1.5673 - val_normed_difference: -0.0815\n",
      "Epoch 179/300\n",
      "179/179 [==============================] - 0s 43us/step - loss: 1.2242 - normed_difference: -0.0417 - val_loss: 1.5668 - val_normed_difference: -0.0759\n",
      "Epoch 180/300\n",
      "179/179 [==============================] - 0s 69us/step - loss: 1.2224 - normed_difference: -0.0471 - val_loss: 1.5660 - val_normed_difference: -0.0722\n",
      "Epoch 181/300\n",
      "179/179 [==============================] - 0s 43us/step - loss: 1.2204 - normed_difference: -0.0461 - val_loss: 1.5658 - val_normed_difference: -0.0759\n",
      "Epoch 182/300\n",
      "179/179 [==============================] - 0s 69us/step - loss: 1.2184 - normed_difference: -0.0437 - val_loss: 1.5648 - val_normed_difference: -0.0685\n",
      "Epoch 183/300\n",
      "179/179 [==============================] - 0s 43us/step - loss: 1.2171 - normed_difference: -0.0465 - val_loss: 1.5649 - val_normed_difference: -0.0685\n",
      "Epoch 184/300\n",
      "179/179 [==============================] - 0s 69us/step - loss: 1.2150 - normed_difference: -0.0450 - val_loss: 1.5643 - val_normed_difference: -0.0667\n",
      "Epoch 185/300\n",
      "179/179 [==============================] - 0s 43us/step - loss: 1.2128 - normed_difference: -0.0401 - val_loss: 1.5638 - val_normed_difference: -0.0667\n",
      "Epoch 186/300\n",
      "179/179 [==============================] - 0s 69us/step - loss: 1.2112 - normed_difference: -0.0419 - val_loss: 1.5632 - val_normed_difference: -0.0667\n",
      "Epoch 187/300\n",
      "179/179 [==============================] - 0s 44us/step - loss: 1.2092 - normed_difference: -0.0390 - val_loss: 1.5638 - val_normed_difference: -0.0704\n",
      "Epoch 188/300\n",
      "179/179 [==============================] - 0s 70us/step - loss: 1.2074 - normed_difference: -0.0365 - val_loss: 1.5632 - val_normed_difference: -0.0722\n",
      "Epoch 189/300\n",
      "179/179 [==============================] - 0s 43us/step - loss: 1.2057 - normed_difference: -0.0387 - val_loss: 1.5633 - val_normed_difference: -0.0704\n",
      "Epoch 190/300\n",
      "179/179 [==============================] - 0s 210us/step - loss: 1.2036 - normed_difference: -0.0367 - val_loss: 1.5631 - val_normed_difference: -0.0704\n",
      "Epoch 191/300\n",
      "179/179 [==============================] - 0s 32us/step - loss: 1.2019 - normed_difference: -0.0354 - val_loss: 1.5633 - val_normed_difference: -0.0704\n",
      "Epoch 192/300\n",
      "179/179 [==============================] - 0s 31us/step - loss: 1.2000 - normed_difference: -0.0356 - val_loss: 1.5621 - val_normed_difference: -0.0685\n",
      "Epoch 193/300\n",
      "179/179 [==============================] - 0s 41us/step - loss: 1.1983 - normed_difference: -0.0370 - val_loss: 1.5619 - val_normed_difference: -0.0685\n",
      "Epoch 194/300\n",
      "179/179 [==============================] - 0s 43us/step - loss: 1.1965 - normed_difference: -0.0351 - val_loss: 1.5610 - val_normed_difference: -0.0685\n",
      "Epoch 195/300\n",
      "179/179 [==============================] - 0s 48us/step - loss: 1.1947 - normed_difference: -0.0357 - val_loss: 1.5613 - val_normed_difference: -0.0685\n",
      "Epoch 196/300\n",
      "179/179 [==============================] - 0s 54us/step - loss: 1.1930 - normed_difference: -0.0386 - val_loss: 1.5621 - val_normed_difference: -0.0685\n",
      "Epoch 197/300\n",
      "179/179 [==============================] - 0s 43us/step - loss: 1.1913 - normed_difference: -0.0410 - val_loss: 1.5633 - val_normed_difference: -0.0741\n",
      "Epoch 198/300\n",
      "179/179 [==============================] - 0s 66us/step - loss: 1.1899 - normed_difference: -0.0475 - val_loss: 1.5639 - val_normed_difference: -0.0796\n",
      "Epoch 199/300\n"
     ]
    },
    {
     "name": "stdout",
     "output_type": "stream",
     "text": [
      "179/179 [==============================] - 0s 42us/step - loss: 1.1877 - normed_difference: -0.0459 - val_loss: 1.5635 - val_normed_difference: -0.0815\n",
      "Epoch 200/300\n",
      "179/179 [==============================] - 0s 69us/step - loss: 1.1859 - normed_difference: -0.0428 - val_loss: 1.5626 - val_normed_difference: -0.0815\n",
      "Epoch 201/300\n",
      "179/179 [==============================] - 0s 43us/step - loss: 1.1842 - normed_difference: -0.0466 - val_loss: 1.5616 - val_normed_difference: -0.0759\n",
      "Epoch 202/300\n",
      "179/179 [==============================] - 0s 69us/step - loss: 1.1827 - normed_difference: -0.0444 - val_loss: 1.5607 - val_normed_difference: -0.0759\n",
      "Epoch 203/300\n",
      "179/179 [==============================] - 0s 43us/step - loss: 1.1810 - normed_difference: -0.0398 - val_loss: 1.5604 - val_normed_difference: -0.0741\n",
      "Epoch 204/300\n",
      "179/179 [==============================] - 0s 70us/step - loss: 1.1793 - normed_difference: -0.0430 - val_loss: 1.5607 - val_normed_difference: -0.0741\n",
      "Epoch 205/300\n",
      "179/179 [==============================] - 0s 43us/step - loss: 1.1777 - normed_difference: -0.0471 - val_loss: 1.5596 - val_normed_difference: -0.0741\n",
      "Epoch 206/300\n",
      "179/179 [==============================] - 0s 67us/step - loss: 1.1758 - normed_difference: -0.0353 - val_loss: 1.5575 - val_normed_difference: -0.0722\n",
      "Epoch 207/300\n",
      "179/179 [==============================] - 0s 38us/step - loss: 1.1742 - normed_difference: -0.0391 - val_loss: 1.5564 - val_normed_difference: -0.0667\n",
      "Epoch 208/300\n",
      "179/179 [==============================] - 0s 30us/step - loss: 1.1724 - normed_difference: -0.0334 - val_loss: 1.5560 - val_normed_difference: -0.0685\n",
      "Epoch 209/300\n",
      "179/179 [==============================] - 0s 31us/step - loss: 1.1705 - normed_difference: -0.0422 - val_loss: 1.5566 - val_normed_difference: -0.0759\n",
      "Epoch 210/300\n",
      "179/179 [==============================] - 0s 31us/step - loss: 1.1692 - normed_difference: -0.0418 - val_loss: 1.5561 - val_normed_difference: -0.0815\n",
      "Epoch 211/300\n",
      "179/179 [==============================] - 0s 31us/step - loss: 1.1675 - normed_difference: -0.0439 - val_loss: 1.5558 - val_normed_difference: -0.0796\n",
      "Epoch 212/300\n",
      "179/179 [==============================] - 0s 31us/step - loss: 1.1657 - normed_difference: -0.0517 - val_loss: 1.5541 - val_normed_difference: -0.0796\n",
      "Epoch 213/300\n",
      "179/179 [==============================] - 0s 31us/step - loss: 1.1643 - normed_difference: -0.0507 - val_loss: 1.5553 - val_normed_difference: -0.0796\n",
      "Epoch 214/300\n",
      "179/179 [==============================] - 0s 31us/step - loss: 1.1622 - normed_difference: -0.0494 - val_loss: 1.5546 - val_normed_difference: -0.0796\n",
      "Epoch 215/300\n",
      "179/179 [==============================] - 0s 37us/step - loss: 1.1606 - normed_difference: -0.0510 - val_loss: 1.5540 - val_normed_difference: -0.0741\n",
      "Epoch 216/300\n",
      "179/179 [==============================] - 0s 31us/step - loss: 1.1589 - normed_difference: -0.0462 - val_loss: 1.5531 - val_normed_difference: -0.0722\n",
      "Epoch 217/300\n",
      "179/179 [==============================] - 0s 30us/step - loss: 1.1573 - normed_difference: -0.0471 - val_loss: 1.5526 - val_normed_difference: -0.0722\n",
      "Epoch 218/300\n",
      "179/179 [==============================] - 0s 36us/step - loss: 1.1556 - normed_difference: -0.0537 - val_loss: 1.5515 - val_normed_difference: -0.0704\n",
      "Epoch 219/300\n",
      "179/179 [==============================] - 0s 31us/step - loss: 1.1540 - normed_difference: -0.0543 - val_loss: 1.5516 - val_normed_difference: -0.0667\n",
      "Epoch 220/300\n",
      "179/179 [==============================] - 0s 31us/step - loss: 1.1522 - normed_difference: -0.0502 - val_loss: 1.5518 - val_normed_difference: -0.0667\n",
      "Epoch 221/300\n",
      "179/179 [==============================] - 0s 31us/step - loss: 1.1505 - normed_difference: -0.0498 - val_loss: 1.5518 - val_normed_difference: -0.0648\n",
      "Epoch 222/300\n",
      "179/179 [==============================] - 0s 30us/step - loss: 1.1493 - normed_difference: -0.0495 - val_loss: 1.5512 - val_normed_difference: -0.0648\n",
      "Epoch 223/300\n",
      "179/179 [==============================] - 0s 30us/step - loss: 1.1474 - normed_difference: -0.0423 - val_loss: 1.5510 - val_normed_difference: -0.0611\n",
      "Epoch 224/300\n",
      "179/179 [==============================] - 0s 36us/step - loss: 1.1460 - normed_difference: -0.0490 - val_loss: 1.5516 - val_normed_difference: -0.0630\n",
      "Epoch 225/300\n",
      "179/179 [==============================] - 0s 30us/step - loss: 1.1437 - normed_difference: -0.0443 - val_loss: 1.5507 - val_normed_difference: -0.0630\n",
      "Epoch 226/300\n",
      "179/179 [==============================] - 0s 31us/step - loss: 1.1425 - normed_difference: -0.0345 - val_loss: 1.5483 - val_normed_difference: -0.0556\n",
      "Epoch 227/300\n",
      "179/179 [==============================] - 0s 31us/step - loss: 1.1416 - normed_difference: -0.0497 - val_loss: 1.5488 - val_normed_difference: -0.0648\n",
      "Epoch 228/300\n",
      "179/179 [==============================] - 0s 31us/step - loss: 1.1389 - normed_difference: -0.0487 - val_loss: 1.5481 - val_normed_difference: -0.0630\n",
      "Epoch 229/300\n",
      "179/179 [==============================] - 0s 30us/step - loss: 1.1373 - normed_difference: -0.0474 - val_loss: 1.5479 - val_normed_difference: -0.0611\n",
      "Epoch 230/300\n",
      "179/179 [==============================] - 0s 36us/step - loss: 1.1357 - normed_difference: -0.0456 - val_loss: 1.5469 - val_normed_difference: -0.0593\n",
      "Epoch 231/300\n",
      "179/179 [==============================] - 0s 34us/step - loss: 1.1339 - normed_difference: -0.0455 - val_loss: 1.5464 - val_normed_difference: -0.0611\n",
      "Epoch 232/300\n",
      "179/179 [==============================] - 0s 34us/step - loss: 1.1324 - normed_difference: -0.0442 - val_loss: 1.5451 - val_normed_difference: -0.0593\n",
      "Epoch 233/300\n",
      "179/179 [==============================] - 0s 31us/step - loss: 1.1307 - normed_difference: -0.0474 - val_loss: 1.5452 - val_normed_difference: -0.0593\n",
      "Epoch 234/300\n",
      "179/179 [==============================] - 0s 30us/step - loss: 1.1289 - normed_difference: -0.0433 - val_loss: 1.5436 - val_normed_difference: -0.0593\n",
      "Epoch 235/300\n",
      "179/179 [==============================] - 0s 31us/step - loss: 1.1275 - normed_difference: -0.0523 - val_loss: 1.5435 - val_normed_difference: -0.0630\n",
      "Epoch 236/300\n",
      "179/179 [==============================] - 0s 31us/step - loss: 1.1258 - normed_difference: -0.0489 - val_loss: 1.5429 - val_normed_difference: -0.0574\n",
      "Epoch 237/300\n",
      "179/179 [==============================] - 0s 31us/step - loss: 1.1243 - normed_difference: -0.0468 - val_loss: 1.5437 - val_normed_difference: -0.0593\n",
      "Epoch 238/300\n",
      "179/179 [==============================] - 0s 31us/step - loss: 1.1225 - normed_difference: -0.0499 - val_loss: 1.5433 - val_normed_difference: -0.0556\n",
      "Epoch 239/300\n",
      "179/179 [==============================] - 0s 31us/step - loss: 1.1210 - normed_difference: -0.0485 - val_loss: 1.5424 - val_normed_difference: -0.0537\n",
      "Epoch 240/300\n",
      "179/179 [==============================] - 0s 31us/step - loss: 1.1195 - normed_difference: -0.0598 - val_loss: 1.5421 - val_normed_difference: -0.0537\n",
      "Epoch 241/300\n",
      "179/179 [==============================] - 0s 31us/step - loss: 1.1179 - normed_difference: -0.0514 - val_loss: 1.5406 - val_normed_difference: -0.0537\n",
      "Epoch 242/300\n",
      "179/179 [==============================] - 0s 31us/step - loss: 1.1165 - normed_difference: -0.0533 - val_loss: 1.5412 - val_normed_difference: -0.0556\n",
      "Epoch 243/300\n",
      "179/179 [==============================] - 0s 31us/step - loss: 1.1148 - normed_difference: -0.0513 - val_loss: 1.5416 - val_normed_difference: -0.0500\n",
      "Epoch 244/300\n",
      "179/179 [==============================] - 0s 34us/step - loss: 1.1133 - normed_difference: -0.0482 - val_loss: 1.5420 - val_normed_difference: -0.0556\n",
      "Epoch 245/300\n",
      "179/179 [==============================] - 0s 31us/step - loss: 1.1113 - normed_difference: -0.0440 - val_loss: 1.5418 - val_normed_difference: -0.0537\n",
      "Epoch 246/300\n",
      "179/179 [==============================] - 0s 31us/step - loss: 1.1099 - normed_difference: -0.0479 - val_loss: 1.5417 - val_normed_difference: -0.0537\n",
      "Epoch 247/300\n",
      "179/179 [==============================] - 0s 31us/step - loss: 1.1083 - normed_difference: -0.0474 - val_loss: 1.5431 - val_normed_difference: -0.0537\n",
      "Epoch 248/300\n",
      "179/179 [==============================] - 0s 31us/step - loss: 1.1067 - normed_difference: -0.0455 - val_loss: 1.5430 - val_normed_difference: -0.0537\n",
      "Epoch 249/300\n",
      "179/179 [==============================] - 0s 31us/step - loss: 1.1052 - normed_difference: -0.0434 - val_loss: 1.5441 - val_normed_difference: -0.0574\n",
      "Epoch 250/300\n",
      "179/179 [==============================] - 0s 31us/step - loss: 1.1036 - normed_difference: -0.0490 - val_loss: 1.5446 - val_normed_difference: -0.0593\n",
      "Epoch 251/300\n",
      "179/179 [==============================] - 0s 31us/step - loss: 1.1020 - normed_difference: -0.0480 - val_loss: 1.5445 - val_normed_difference: -0.0611\n",
      "Epoch 252/300\n",
      "179/179 [==============================] - ETA: 0s - loss: 1.2249 - normed_difference: -0.07 - 0s 35us/step - loss: 1.1002 - normed_difference: -0.0518 - val_loss: 1.5439 - val_normed_difference: -0.0611\n",
      "Epoch 253/300\n",
      "179/179 [==============================] - 0s 31us/step - loss: 1.0988 - normed_difference: -0.0511 - val_loss: 1.5432 - val_normed_difference: -0.0611\n",
      "Epoch 254/300\n",
      "179/179 [==============================] - 0s 31us/step - loss: 1.0975 - normed_difference: -0.0448 - val_loss: 1.5433 - val_normed_difference: -0.0556\n",
      "Epoch 255/300\n",
      "179/179 [==============================] - 0s 31us/step - loss: 1.0958 - normed_difference: -0.0536 - val_loss: 1.5448 - val_normed_difference: -0.0574\n",
      "Epoch 256/300\n",
      "179/179 [==============================] - 0s 31us/step - loss: 1.0941 - normed_difference: -0.0489 - val_loss: 1.5456 - val_normed_difference: -0.0593\n",
      "Epoch 257/300\n",
      "179/179 [==============================] - 0s 31us/step - loss: 1.0930 - normed_difference: -0.0544 - val_loss: 1.5465 - val_normed_difference: -0.0593\n",
      "Epoch 258/300\n",
      "179/179 [==============================] - 0s 31us/step - loss: 1.0909 - normed_difference: -0.0540 - val_loss: 1.5456 - val_normed_difference: -0.0574\n",
      "Epoch 259/300\n",
      "179/179 [==============================] - 0s 35us/step - loss: 1.0898 - normed_difference: -0.0495 - val_loss: 1.5439 - val_normed_difference: -0.0556\n",
      "Epoch 260/300\n",
      "179/179 [==============================] - 0s 43us/step - loss: 1.0879 - normed_difference: -0.0441 - val_loss: 1.5456 - val_normed_difference: -0.0556\n",
      "Epoch 261/300\n",
      "179/179 [==============================] - 0s 31us/step - loss: 1.0863 - normed_difference: -0.0483 - val_loss: 1.5454 - val_normed_difference: -0.0556\n",
      "Epoch 262/300\n",
      "179/179 [==============================] - 0s 31us/step - loss: 1.0847 - normed_difference: -0.0443 - val_loss: 1.5449 - val_normed_difference: -0.0574\n",
      "Epoch 263/300\n",
      "179/179 [==============================] - 0s 31us/step - loss: 1.0830 - normed_difference: -0.0533 - val_loss: 1.5463 - val_normed_difference: -0.0593\n",
      "Epoch 264/300\n",
      "179/179 [==============================] - 0s 31us/step - loss: 1.0813 - normed_difference: -0.0509 - val_loss: 1.5470 - val_normed_difference: -0.0593\n",
      "Epoch 265/300\n",
      "179/179 [==============================] - 0s 31us/step - loss: 1.0799 - normed_difference: -0.0478 - val_loss: 1.5460 - val_normed_difference: -0.0574\n",
      "Epoch 266/300\n",
      "179/179 [==============================] - 0s 42us/step - loss: 1.0786 - normed_difference: -0.0474 - val_loss: 1.5466 - val_normed_difference: -0.0593\n",
      "Epoch 267/300\n",
      "179/179 [==============================] - 0s 39us/step - loss: 1.0767 - normed_difference: -0.0502 - val_loss: 1.5460 - val_normed_difference: -0.0574\n",
      "Epoch 268/300\n",
      "179/179 [==============================] - 0s 34us/step - loss: 1.0754 - normed_difference: -0.0492 - val_loss: 1.5452 - val_normed_difference: -0.0574\n",
      "Epoch 269/300\n",
      "179/179 [==============================] - 0s 30us/step - loss: 1.0738 - normed_difference: -0.0416 - val_loss: 1.5446 - val_normed_difference: -0.0574\n",
      "Epoch 270/300\n",
      "179/179 [==============================] - 0s 30us/step - loss: 1.0725 - normed_difference: -0.0444 - val_loss: 1.5446 - val_normed_difference: -0.0574\n",
      "Epoch 271/300\n",
      "179/179 [==============================] - 0s 30us/step - loss: 1.0705 - normed_difference: -0.0488 - val_loss: 1.5451 - val_normed_difference: -0.0611\n",
      "Epoch 272/300\n",
      "179/179 [==============================] - ETA: 0s - loss: 1.0055 - normed_difference: -0.01 - 0s 30us/step - loss: 1.0692 - normed_difference: -0.0458 - val_loss: 1.5446 - val_normed_difference: -0.0630\n",
      "Epoch 273/300\n",
      "179/179 [==============================] - 0s 30us/step - loss: 1.0676 - normed_difference: -0.0474 - val_loss: 1.5433 - val_normed_difference: -0.0611\n",
      "Epoch 274/300\n",
      "179/179 [==============================] - 0s 30us/step - loss: 1.0663 - normed_difference: -0.0473 - val_loss: 1.5426 - val_normed_difference: -0.0630\n",
      "Epoch 275/300\n",
      "179/179 [==============================] - 0s 30us/step - loss: 1.0648 - normed_difference: -0.0433 - val_loss: 1.5408 - val_normed_difference: -0.0630\n",
      "Epoch 276/300\n",
      "179/179 [==============================] - 0s 30us/step - loss: 1.0632 - normed_difference: -0.0389 - val_loss: 1.5404 - val_normed_difference: -0.0611\n",
      "Epoch 277/300\n",
      "179/179 [==============================] - 0s 30us/step - loss: 1.0620 - normed_difference: -0.0442 - val_loss: 1.5406 - val_normed_difference: -0.0630\n",
      "Epoch 278/300\n",
      "179/179 [==============================] - 0s 30us/step - loss: 1.0603 - normed_difference: -0.0418 - val_loss: 1.5410 - val_normed_difference: -0.0648\n",
      "Epoch 279/300\n",
      "179/179 [==============================] - 0s 30us/step - loss: 1.0590 - normed_difference: -0.0454 - val_loss: 1.5400 - val_normed_difference: -0.0648\n",
      "Epoch 280/300\n",
      "179/179 [==============================] - 0s 34us/step - loss: 1.0575 - normed_difference: -0.0442 - val_loss: 1.5395 - val_normed_difference: -0.0630\n",
      "Epoch 281/300\n",
      "179/179 [==============================] - 0s 30us/step - loss: 1.0561 - normed_difference: -0.0420 - val_loss: 1.5402 - val_normed_difference: -0.0630\n",
      "Epoch 282/300\n",
      "179/179 [==============================] - 0s 30us/step - loss: 1.0547 - normed_difference: -0.0409 - val_loss: 1.5406 - val_normed_difference: -0.0630\n",
      "Epoch 283/300\n",
      "179/179 [==============================] - 0s 30us/step - loss: 1.0532 - normed_difference: -0.0455 - val_loss: 1.5408 - val_normed_difference: -0.0630\n",
      "Epoch 284/300\n",
      "179/179 [==============================] - 0s 30us/step - loss: 1.0519 - normed_difference: -0.0457 - val_loss: 1.5405 - val_normed_difference: -0.0630\n",
      "Epoch 285/300\n",
      "179/179 [==============================] - 0s 30us/step - loss: 1.0506 - normed_difference: -0.0416 - val_loss: 1.5390 - val_normed_difference: -0.0630\n",
      "Epoch 286/300\n",
      "179/179 [==============================] - 0s 31us/step - loss: 1.0490 - normed_difference: -0.0435 - val_loss: 1.5387 - val_normed_difference: -0.0630\n",
      "Epoch 287/300\n",
      "179/179 [==============================] - 0s 30us/step - loss: 1.0477 - normed_difference: -0.0503 - val_loss: 1.5395 - val_normed_difference: -0.0667\n",
      "Epoch 288/300\n",
      "179/179 [==============================] - 0s 30us/step - loss: 1.0462 - normed_difference: -0.0479 - val_loss: 1.5388 - val_normed_difference: -0.0667\n",
      "Epoch 289/300\n",
      "179/179 [==============================] - 0s 34us/step - loss: 1.0451 - normed_difference: -0.0425 - val_loss: 1.5395 - val_normed_difference: -0.0685\n",
      "Epoch 290/300\n",
      "179/179 [==============================] - 0s 34us/step - loss: 1.0436 - normed_difference: -0.0458 - val_loss: 1.5399 - val_normed_difference: -0.0685\n",
      "Epoch 291/300\n",
      "179/179 [==============================] - 0s 44us/step - loss: 1.0424 - normed_difference: -0.0448 - val_loss: 1.5385 - val_normed_difference: -0.0648\n",
      "Epoch 292/300\n",
      "179/179 [==============================] - 0s 40us/step - loss: 1.0407 - normed_difference: -0.0459 - val_loss: 1.5381 - val_normed_difference: -0.0611\n",
      "Epoch 293/300\n",
      "179/179 [==============================] - 0s 31us/step - loss: 1.0395 - normed_difference: -0.0481 - val_loss: 1.5387 - val_normed_difference: -0.0630\n",
      "Epoch 294/300\n",
      "179/179 [==============================] - 0s 31us/step - loss: 1.0384 - normed_difference: -0.0403 - val_loss: 1.5383 - val_normed_difference: -0.0611\n",
      "Epoch 295/300\n",
      "179/179 [==============================] - 0s 47us/step - loss: 1.0370 - normed_difference: -0.0512 - val_loss: 1.5385 - val_normed_difference: -0.0593\n",
      "Epoch 296/300\n",
      "179/179 [==============================] - 0s 31us/step - loss: 1.0355 - normed_difference: -0.0466 - val_loss: 1.5375 - val_normed_difference: -0.0556\n"
     ]
    },
    {
     "name": "stdout",
     "output_type": "stream",
     "text": [
      "Epoch 297/300\n",
      "179/179 [==============================] - 0s 31us/step - loss: 1.0345 - normed_difference: -0.0480 - val_loss: 1.5388 - val_normed_difference: -0.0574\n",
      "Epoch 298/300\n",
      "179/179 [==============================] - 0s 31us/step - loss: 1.0327 - normed_difference: -0.0546 - val_loss: 1.5384 - val_normed_difference: -0.0556\n",
      "Epoch 299/300\n",
      "179/179 [==============================] - 0s 31us/step - loss: 1.0316 - normed_difference: -0.0481 - val_loss: 1.5387 - val_normed_difference: -0.0574\n",
      "Epoch 300/300\n",
      "179/179 [==============================] - 0s 31us/step - loss: 1.0300 - normed_difference: -0.0467 - val_loss: 1.5386 - val_normed_difference: -0.0593\n"
     ]
    }
   ],
   "source": [
    "from keras.models import Sequential\n",
    "from keras.layers import Dense\n",
    "from keras import backend as K\n",
    "\n",
    "def reluclip(x, max_value = 4):\n",
    "    return K.relu(x, max_value = max_value)\n",
    "\n",
    "def normed_difference(y_true, y_pred, yrange=4):\n",
    "    return 1 - K.mean(K.abs(K.round(y_pred * yrange) - y_true)/yrange)\n",
    "\n",
    "def accuracy(y_true, y_pred, round_scale=4):\n",
    "    return K.round(y_pred * round_scale)\n",
    "\n",
    "model = Sequential([\n",
    "  Dense(16, activation='relu', input_shape=(3 * (model_order[0] + model_order[2]),)),\n",
    "#   Dense(16, activation='relu'),\n",
    "  Dense(3, activation=reluclip),\n",
    "])\n",
    "\n",
    "model.compile(\n",
    "  optimizer='adam',\n",
    "  loss='mean_squared_error',\n",
    "  metrics=[normed_difference, ],\n",
    ")\n",
    "\n",
    "train_data = training_set.drop(columns=label_cols)\n",
    "train_labels = training_set[label_cols]\n",
    "test_data = test_set.drop(columns=label_cols)\n",
    "test_labels = test_set[label_cols]\n",
    "\n",
    "hist = model.fit(\n",
    "  train_data,\n",
    "  train_labels,\n",
    "  epochs=300,\n",
    "  batch_size=64,\n",
    "  validation_data=(test_data, test_labels)\n",
    ")"
   ]
  },
  {
   "cell_type": "code",
   "execution_count": 62,
   "metadata": {
    "scrolled": true
   },
   "outputs": [
    {
     "data": {
      "text/plain": [
       "<matplotlib.legend.Legend at 0x7ff7cffd8710>"
      ]
     },
     "execution_count": 62,
     "metadata": {},
     "output_type": "execute_result"
    },
    {
     "data": {
      "image/png": "[encoded data removed]",
      "text/plain": [
       "<Figure size 432x288 with 1 Axes>"
      ]
     },
     "metadata": {
      "needs_background": "light"
     },
     "output_type": "display_data"
    }
   ],
   "source": [
    "plt.plot(hist.history['loss'], label='loss')\n",
    "plt.plot(hist.history['normed_difference'], label='accuracy')\n",
    "plt.plot(hist.history['val_normed_difference'], label='val accuracy')\n",
    "plt.legend()"
   ]
  },
  {
   "cell_type": "code",
   "execution_count": 64,
   "metadata": {
    "scrolled": true
   },
   "outputs": [
    {
     "data": {
      "text/plain": [
       "<matplotlib.axes._subplots.AxesSubplot at 0x7ff7e9144e90>"
      ]
     },
     "execution_count": 64,
     "metadata": {},
     "output_type": "execute_result"
    },
    {
     "data": {
      "image/png": "[encoded data removed]",
      "text/plain": [
       "<Figure size 432x288 with 2 Axes>"
      ]
     },
     "metadata": {
      "needs_background": "light"
     },
     "output_type": "display_data"
    }
   ],
   "source": [
    "pred = np.around(model.predict(test_data)[:, 0])\n",
    "actual = np.around(test_labels.values[:, 0])\n",
    " \n",
    "confusion_m = pd.DataFrame(metrics.confusion_matrix(actual, pred))\n",
    "confusion_m.index.name = 'actual'\n",
    "confusion_m.columns.name = 'predicted'\n",
    "sns.heatmap(confusion_m, annot=True)"
   ]
  },
  {
   "cell_type": "code",
   "execution_count": 105,
   "metadata": {
    "collapsed": true
   },
   "outputs": [
    {
     "data": {
      "image/png": "[encoded data removed]",
      "text/plain": [
       "<Figure size 432x288 with 1 Axes>"
      ]
     },
     "metadata": {
      "needs_background": "light"
     },
     "output_type": "display_data"
    },
    {
     "data": {
      "image/png": "[encoded data removed]",
      "text/plain": [
       "<Figure size 432x288 with 1 Axes>"
      ]
     },
     "metadata": {
      "needs_background": "light"
     },
     "output_type": "display_data"
    },
    {
     "name": "stdout",
     "output_type": "stream",
     "text": [
      "                0\n",
      "count  499.000000\n",
      "mean    -0.000002\n",
      "std      0.004642\n",
      "min     -0.020433\n",
      "25%     -0.002761\n",
      "50%      0.000006\n",
      "75%      0.002485\n",
      "max      0.026124\n"
     ]
    }
   ],
   "source": [
    "residuals = pd.DataFrame(model_fit.resid)\n",
    "residuals.plot()\n",
    "plt.show()\n",
    "residuals.plot(kind='kde')\n",
    "plt.show()\n",
    "print(residuals.describe())"
   ]
  },
  {
   "cell_type": "code",
   "execution_count": 106,
   "metadata": {
    "scrolled": true
   },
   "outputs": [
    {
     "data": {
      "text/plain": [
       "ar.L1.D.x    1.629741\n",
       "ar.L2.D.x   -0.892714\n",
       "ar.L3.D.x   -0.066262\n",
       "ar.L4.D.x   -0.033986\n",
       "ar.L5.D.x    0.057510\n",
       "ma.L1.D.x   -1.617317\n",
       "ma.L2.D.x    0.940893\n",
       "dtype: float64"
      ]
     },
     "execution_count": 106,
     "metadata": {},
     "output_type": "execute_result"
    }
   ],
   "source": [
    "model_fit.params"
   ]
  },
  {
   "cell_type": "code",
   "execution_count": 62,
   "metadata": {
    "scrolled": true
   },
   "outputs": [
    {
     "name": "stderr",
     "output_type": "stream",
     "text": [
      "/home/hy180/anaconda3/lib/python3.7/site-packages/statsmodels/base/model.py:492: HessianInversionWarning: Inverting hessian failed, no bse or cov_params available\n",
      "  'available', HessianInversionWarning)\n"
     ]
    },
    {
     "data": {
      "application/vnd.jupyter.widget-view+json": {
       "model_id": "1a18020bd364454a84c28fd12aaffb20",
       "version_major": 2,
       "version_minor": 0
      },
      "text/plain": [
       "HBox(children=(IntProgress(value=0, max=268), HTML(value='')))"
      ]
     },
     "metadata": {},
     "output_type": "display_data"
    },
    {
     "name": "stderr",
     "output_type": "stream",
     "text": [
      "/home/hy180/anaconda3/lib/python3.7/site-packages/statsmodels/base/model.py:492: HessianInversionWarning: Inverting hessian failed, no bse or cov_params available\n",
      "  'available', HessianInversionWarning)\n",
      "/home/hy180/anaconda3/lib/python3.7/site-packages/statsmodels/base/model.py:492: HessianInversionWarning: Inverting hessian failed, no bse or cov_params available\n",
      "  'available', HessianInversionWarning)\n",
      "/home/hy180/anaconda3/lib/python3.7/site-packages/statsmodels/tsa/tsatools.py:668: RuntimeWarning: overflow encountered in exp\n",
      "  newparams = ((1-np.exp(-params))/(1+np.exp(-params))).copy()\n",
      "/home/hy180/anaconda3/lib/python3.7/site-packages/statsmodels/tsa/tsatools.py:668: RuntimeWarning: invalid value encountered in true_divide\n",
      "  newparams = ((1-np.exp(-params))/(1+np.exp(-params))).copy()\n",
      "/home/hy180/anaconda3/lib/python3.7/site-packages/statsmodels/tsa/tsatools.py:669: RuntimeWarning: overflow encountered in exp\n",
      "  tmp = ((1-np.exp(-params))/(1+np.exp(-params))).copy()\n",
      "/home/hy180/anaconda3/lib/python3.7/site-packages/statsmodels/tsa/tsatools.py:669: RuntimeWarning: invalid value encountered in true_divide\n",
      "  tmp = ((1-np.exp(-params))/(1+np.exp(-params))).copy()\n",
      "/home/hy180/anaconda3/lib/python3.7/site-packages/statsmodels/base/model.py:492: HessianInversionWarning: Inverting hessian failed, no bse or cov_params available\n",
      "  'available', HessianInversionWarning)\n",
      "/home/hy180/anaconda3/lib/python3.7/site-packages/statsmodels/base/model.py:492: HessianInversionWarning: Inverting hessian failed, no bse or cov_params available\n",
      "  'available', HessianInversionWarning)\n",
      "/home/hy180/anaconda3/lib/python3.7/site-packages/statsmodels/base/model.py:492: HessianInversionWarning: Inverting hessian failed, no bse or cov_params available\n",
      "  'available', HessianInversionWarning)\n",
      "/home/hy180/anaconda3/lib/python3.7/site-packages/statsmodels/base/model.py:492: HessianInversionWarning: Inverting hessian failed, no bse or cov_params available\n",
      "  'available', HessianInversionWarning)\n",
      "/home/hy180/anaconda3/lib/python3.7/site-packages/statsmodels/base/model.py:492: HessianInversionWarning: Inverting hessian failed, no bse or cov_params available\n",
      "  'available', HessianInversionWarning)\n",
      "/home/hy180/anaconda3/lib/python3.7/site-packages/statsmodels/base/model.py:492: HessianInversionWarning: Inverting hessian failed, no bse or cov_params available\n",
      "  'available', HessianInversionWarning)\n",
      "/home/hy180/anaconda3/lib/python3.7/site-packages/statsmodels/base/model.py:492: HessianInversionWarning: Inverting hessian failed, no bse or cov_params available\n",
      "  'available', HessianInversionWarning)\n",
      "/home/hy180/anaconda3/lib/python3.7/site-packages/statsmodels/base/model.py:492: HessianInversionWarning: Inverting hessian failed, no bse or cov_params available\n",
      "  'available', HessianInversionWarning)\n",
      "/home/hy180/anaconda3/lib/python3.7/site-packages/statsmodels/base/model.py:492: HessianInversionWarning: Inverting hessian failed, no bse or cov_params available\n",
      "  'available', HessianInversionWarning)\n",
      "/home/hy180/anaconda3/lib/python3.7/site-packages/statsmodels/base/model.py:492: HessianInversionWarning: Inverting hessian failed, no bse or cov_params available\n",
      "  'available', HessianInversionWarning)\n",
      "/home/hy180/anaconda3/lib/python3.7/site-packages/statsmodels/base/model.py:492: HessianInversionWarning: Inverting hessian failed, no bse or cov_params available\n",
      "  'available', HessianInversionWarning)\n",
      "/home/hy180/anaconda3/lib/python3.7/site-packages/statsmodels/base/model.py:492: HessianInversionWarning: Inverting hessian failed, no bse or cov_params available\n",
      "  'available', HessianInversionWarning)\n",
      "/home/hy180/anaconda3/lib/python3.7/site-packages/statsmodels/base/model.py:492: HessianInversionWarning: Inverting hessian failed, no bse or cov_params available\n",
      "  'available', HessianInversionWarning)\n",
      "/home/hy180/anaconda3/lib/python3.7/site-packages/statsmodels/base/model.py:492: HessianInversionWarning: Inverting hessian failed, no bse or cov_params available\n",
      "  'available', HessianInversionWarning)\n",
      "/home/hy180/anaconda3/lib/python3.7/site-packages/statsmodels/base/model.py:492: HessianInversionWarning: Inverting hessian failed, no bse or cov_params available\n",
      "  'available', HessianInversionWarning)\n",
      "/home/hy180/anaconda3/lib/python3.7/site-packages/statsmodels/base/model.py:492: HessianInversionWarning: Inverting hessian failed, no bse or cov_params available\n",
      "  'available', HessianInversionWarning)\n",
      "/home/hy180/anaconda3/lib/python3.7/site-packages/statsmodels/base/model.py:492: HessianInversionWarning: Inverting hessian failed, no bse or cov_params available\n",
      "  'available', HessianInversionWarning)\n",
      "/home/hy180/anaconda3/lib/python3.7/site-packages/statsmodels/base/model.py:492: HessianInversionWarning: Inverting hessian failed, no bse or cov_params available\n",
      "  'available', HessianInversionWarning)\n",
      "/home/hy180/anaconda3/lib/python3.7/site-packages/statsmodels/base/model.py:492: HessianInversionWarning: Inverting hessian failed, no bse or cov_params available\n",
      "  'available', HessianInversionWarning)\n"
     ]
    },
    {
     "ename": "ValueError",
     "evalue": "The computed initial AR coefficients are not stationary\nYou should induce stationarity, choose a different model order, or you can\npass your own start_params.",
     "output_type": "error",
     "traceback": [
      "\u001b[0;31m---------------------------------------------------------------------------\u001b[0m",
      "\u001b[0;31mValueError\u001b[0m                                Traceback (most recent call last)",
      "\u001b[0;32m<ipython-input-62-8e971b313e9b>\u001b[0m in \u001b[0;36m<module>\u001b[0;34m\u001b[0m\n\u001b[1;32m      8\u001b[0m \u001b[0;32mfor\u001b[0m \u001b[0munobserved\u001b[0m \u001b[0;32min\u001b[0m \u001b[0mtqdm\u001b[0m\u001b[0;34m(\u001b[0m\u001b[0mtest\u001b[0m\u001b[0;34m)\u001b[0m\u001b[0;34m:\u001b[0m\u001b[0;34m\u001b[0m\u001b[0;34m\u001b[0m\u001b[0m\n\u001b[1;32m      9\u001b[0m     \u001b[0mmodel\u001b[0m \u001b[0;34m=\u001b[0m \u001b[0mARIMA\u001b[0m\u001b[0;34m(\u001b[0m\u001b[0mtrain\u001b[0m \u001b[0;34m+\u001b[0m \u001b[0mactual\u001b[0m\u001b[0;34m,\u001b[0m \u001b[0morder\u001b[0m\u001b[0;34m=\u001b[0m\u001b[0mmodel_order\u001b[0m\u001b[0;34m)\u001b[0m\u001b[0;34m\u001b[0m\u001b[0;34m\u001b[0m\u001b[0m\n\u001b[0;32m---> 10\u001b[0;31m     \u001b[0mmodel_fit\u001b[0m \u001b[0;34m=\u001b[0m \u001b[0mmodel\u001b[0m\u001b[0;34m.\u001b[0m\u001b[0mfit\u001b[0m\u001b[0;34m(\u001b[0m\u001b[0mdisp\u001b[0m\u001b[0;34m=\u001b[0m\u001b[0;36m0\u001b[0m\u001b[0;34m)\u001b[0m\u001b[0;34m\u001b[0m\u001b[0;34m\u001b[0m\u001b[0m\n\u001b[0m\u001b[1;32m     11\u001b[0m \u001b[0;34m\u001b[0m\u001b[0m\n\u001b[1;32m     12\u001b[0m     \u001b[0mpredicted\u001b[0m\u001b[0;34m.\u001b[0m\u001b[0mappend\u001b[0m\u001b[0;34m(\u001b[0m\u001b[0mmodel_fit\u001b[0m\u001b[0;34m.\u001b[0m\u001b[0mforecast\u001b[0m\u001b[0;34m(\u001b[0m\u001b[0;34m)\u001b[0m\u001b[0;34m[\u001b[0m\u001b[0;36m0\u001b[0m\u001b[0;34m]\u001b[0m\u001b[0;34m)\u001b[0m\u001b[0;34m\u001b[0m\u001b[0;34m\u001b[0m\u001b[0m\n",
      "\u001b[0;32m~/anaconda3/lib/python3.7/site-packages/statsmodels/tsa/arima_model.py\u001b[0m in \u001b[0;36mfit\u001b[0;34m(self, start_params, trend, method, transparams, solver, maxiter, full_output, disp, callback, start_ar_lags, **kwargs)\u001b[0m\n\u001b[1;32m   1147\u001b[0m                                            \u001b[0mmethod\u001b[0m\u001b[0;34m,\u001b[0m \u001b[0mtransparams\u001b[0m\u001b[0;34m,\u001b[0m \u001b[0msolver\u001b[0m\u001b[0;34m,\u001b[0m\u001b[0;34m\u001b[0m\u001b[0;34m\u001b[0m\u001b[0m\n\u001b[1;32m   1148\u001b[0m                                            \u001b[0mmaxiter\u001b[0m\u001b[0;34m,\u001b[0m \u001b[0mfull_output\u001b[0m\u001b[0;34m,\u001b[0m \u001b[0mdisp\u001b[0m\u001b[0;34m,\u001b[0m\u001b[0;34m\u001b[0m\u001b[0;34m\u001b[0m\u001b[0m\n\u001b[0;32m-> 1149\u001b[0;31m                                            callback, start_ar_lags, **kwargs)\n\u001b[0m\u001b[1;32m   1150\u001b[0m         \u001b[0mnormalized_cov_params\u001b[0m \u001b[0;34m=\u001b[0m \u001b[0;32mNone\u001b[0m  \u001b[0;31m# TODO: fix this?\u001b[0m\u001b[0;34m\u001b[0m\u001b[0;34m\u001b[0m\u001b[0m\n\u001b[1;32m   1151\u001b[0m         arima_fit = ARIMAResults(self, mlefit._results.params,\n",
      "\u001b[0;32m~/anaconda3/lib/python3.7/site-packages/statsmodels/tsa/arima_model.py\u001b[0m in \u001b[0;36mfit\u001b[0;34m(self, start_params, trend, method, transparams, solver, maxiter, full_output, disp, callback, start_ar_lags, **kwargs)\u001b[0m\n\u001b[1;32m    936\u001b[0m         \u001b[0;32melse\u001b[0m\u001b[0;34m:\u001b[0m  \u001b[0;31m# estimate starting parameters\u001b[0m\u001b[0;34m\u001b[0m\u001b[0;34m\u001b[0m\u001b[0m\n\u001b[1;32m    937\u001b[0m             start_params = self._fit_start_params((k_ar, k_ma, k), method,\n\u001b[0;32m--> 938\u001b[0;31m                                                   start_ar_lags)\n\u001b[0m\u001b[1;32m    939\u001b[0m \u001b[0;34m\u001b[0m\u001b[0m\n\u001b[1;32m    940\u001b[0m         \u001b[0;32mif\u001b[0m \u001b[0mtransparams\u001b[0m\u001b[0;34m:\u001b[0m  \u001b[0;31m# transform initial parameters to ensure invertibility\u001b[0m\u001b[0;34m\u001b[0m\u001b[0;34m\u001b[0m\u001b[0m\n",
      "\u001b[0;32m~/anaconda3/lib/python3.7/site-packages/statsmodels/tsa/arima_model.py\u001b[0m in \u001b[0;36m_fit_start_params\u001b[0;34m(self, order, method, start_ar_lags)\u001b[0m\n\u001b[1;32m    552\u001b[0m             \u001b[0mfunc\u001b[0m \u001b[0;34m=\u001b[0m \u001b[0;32mlambda\u001b[0m \u001b[0mparams\u001b[0m\u001b[0;34m:\u001b[0m \u001b[0;34m-\u001b[0m\u001b[0mself\u001b[0m\u001b[0;34m.\u001b[0m\u001b[0mloglike_css\u001b[0m\u001b[0;34m(\u001b[0m\u001b[0mparams\u001b[0m\u001b[0;34m)\u001b[0m\u001b[0;34m\u001b[0m\u001b[0;34m\u001b[0m\u001b[0m\n\u001b[1;32m    553\u001b[0m             \u001b[0;31m#start_params = [.1]*(k_ar+k_ma+k_exog) # different one for k?\u001b[0m\u001b[0;34m\u001b[0m\u001b[0;34m\u001b[0m\u001b[0;34m\u001b[0m\u001b[0m\n\u001b[0;32m--> 554\u001b[0;31m             \u001b[0mstart_params\u001b[0m \u001b[0;34m=\u001b[0m \u001b[0mself\u001b[0m\u001b[0;34m.\u001b[0m\u001b[0m_fit_start_params_hr\u001b[0m\u001b[0;34m(\u001b[0m\u001b[0morder\u001b[0m\u001b[0;34m,\u001b[0m \u001b[0mstart_ar_lags\u001b[0m\u001b[0;34m)\u001b[0m\u001b[0;34m\u001b[0m\u001b[0;34m\u001b[0m\u001b[0m\n\u001b[0m\u001b[1;32m    555\u001b[0m             \u001b[0;32mif\u001b[0m \u001b[0mself\u001b[0m\u001b[0;34m.\u001b[0m\u001b[0mtransparams\u001b[0m\u001b[0;34m:\u001b[0m\u001b[0;34m\u001b[0m\u001b[0;34m\u001b[0m\u001b[0m\n\u001b[1;32m    556\u001b[0m                 \u001b[0mstart_params\u001b[0m \u001b[0;34m=\u001b[0m \u001b[0mself\u001b[0m\u001b[0;34m.\u001b[0m\u001b[0m_invtransparams\u001b[0m\u001b[0;34m(\u001b[0m\u001b[0mstart_params\u001b[0m\u001b[0;34m)\u001b[0m\u001b[0;34m\u001b[0m\u001b[0;34m\u001b[0m\u001b[0m\n",
      "\u001b[0;32m~/anaconda3/lib/python3.7/site-packages/statsmodels/tsa/arima_model.py\u001b[0m in \u001b[0;36m_fit_start_params_hr\u001b[0;34m(self, order, start_ar_lags)\u001b[0m\n\u001b[1;32m    531\u001b[0m         if p and not np.all(np.abs(np.roots(np.r_[1, -start_params[k:k + p]]\n\u001b[1;32m    532\u001b[0m                                             )) < 1):\n\u001b[0;32m--> 533\u001b[0;31m             raise ValueError(\"The computed initial AR coefficients are not \"\n\u001b[0m\u001b[1;32m    534\u001b[0m                              \u001b[0;34m\"stationary\\nYou should induce stationarity, \"\u001b[0m\u001b[0;34m\u001b[0m\u001b[0;34m\u001b[0m\u001b[0m\n\u001b[1;32m    535\u001b[0m                              \u001b[0;34m\"choose a different model order, or you can\\n\"\u001b[0m\u001b[0;34m\u001b[0m\u001b[0;34m\u001b[0m\u001b[0m\n",
      "\u001b[0;31mValueError\u001b[0m: The computed initial AR coefficients are not stationary\nYou should induce stationarity, choose a different model order, or you can\npass your own start_params."
     ]
    }
   ],
   "source": [
    "train, test = list(df.x[:1182].values), list(df.x[1182:].values)\n",
    "model_order = (5, 1, 2)\n",
    "\n",
    "model = ARIMA(train, order=model_order)\n",
    "model_fit = model.fit(disp=0)\n",
    "\n",
    "predicted, actual = [], []\n",
    "for unobserved in tqdm(test):\n",
    "    model = ARIMA(train + actual, order=model_order)\n",
    "    model_fit = model.fit(disp=0)\n",
    "    \n",
    "    predicted.append(model_fit.forecast()[0])\n",
    "    actual.append(unobserved)"
   ]
  },
  {
   "cell_type": "code",
   "execution_count": 51,
   "metadata": {},
   "outputs": [
    {
     "data": {
      "text/plain": [
       "[<matplotlib.lines.Line2D at 0x7f7578bcc1d0>]"
      ]
     },
     "execution_count": 51,
     "metadata": {},
     "output_type": "execute_result"
    },
    {
     "data": {
      "image/png": "[encoded data removed]",
      "text/plain": [
       "<Figure size 432x288 with 1 Axes>"
      ]
     },
     "metadata": {
      "needs_background": "light"
     },
     "output_type": "display_data"
    }
   ],
   "source": [
    "# Downsampling fidelity test\n",
    "df_down = signal.decimate(df.x, q=2)\n",
    "\n",
    "plt.plot(df.index, df.x, color='r')\n",
    "plt.plot(df.index[::2], df_down, color='b')"
   ]
  }
 ],
 "metadata": {
  "kernelspec": {
   "display_name": "Python 3",
   "language": "python",
   "name": "python3"
  },
  "language_info": {
   "codemirror_mode": {
    "name": "ipython",
    "version": 3
   },
   "file_extension": ".py",
   "mimetype": "text/x-python",
   "name": "python",
   "nbconvert_exporter": "python",
   "pygments_lexer": "ipython3",
   "version": "3.7.3"
  },
  "toc": {
   "base_numbering": 1,
   "nav_menu": {},
   "number_sections": true,
   "sideBar": true,
   "skip_h1_title": false,
   "title_cell": "Table of Contents",
   "title_sidebar": "Contents",
   "toc_cell": false,
   "toc_position": {},
   "toc_section_display": true,
   "toc_window_display": false
  }
 },
 "nbformat": 4,
 "nbformat_minor": 2
}
