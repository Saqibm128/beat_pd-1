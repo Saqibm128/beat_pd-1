{
 "cells": [
  {
   "cell_type": "code",
   "execution_count": 97,
   "metadata": {},
   "outputs": [],
   "source": [
    "import tsfresh as tsf\n",
    "import glob\n",
    "import os\n",
    "import numpy as np\n",
    "import pandas as pd\n",
    "import seaborn as sns\n",
    "\n",
    "from importlib import reload\n",
    "from itertools import product\n",
    "from datetime import timedelta\n",
    "from scipy import signal\n",
    "from tqdm.auto import tqdm\n",
    "from matplotlib import pyplot as plt\n",
    "from tsfresh.utilities.distribution import ClusterDaskDistributor\n",
    "from src import main, feature_model, extract_tsf_features_by_window as extract\n",
    "from dask_jobqueue import SLURMCluster\n",
    "from distributed import Client, as_completed"
   ]
  },
  {
   "cell_type": "markdown",
   "metadata": {},
   "source": [
    "# Extract features from data"
   ]
  },
  {
   "cell_type": "code",
   "execution_count": 70,
   "metadata": {},
   "outputs": [],
   "source": [
    "try:\n",
    "    cluster.close()\n",
    "    client.close()\n",
    "except NameError:\n",
    "    pass\n",
    "finally:\n",
    "    cluster = SLURMCluster(queue='short', cores=2, memory='4gb', walltime='3:00:00', death_timeout=60)\n",
    "    client = Client(cluster)\n",
    "    cluster.adapt(minimum=1, maximum=100)"
   ]
  },
  {
   "cell_type": "code",
   "execution_count": 71,
   "metadata": {
    "scrolled": false
   },
   "outputs": [
    {
     "data": {
      "text/html": [
       "<table style=\"border: 2px solid white;\">\n",
       "<tr>\n",
       "<td style=\"vertical-align: top; border: 0px solid white\">\n",
       "<h3 style=\"text-align: left;\">Client</h3>\n",
       "<ul style=\"text-align: left; list-style: none; margin: 0; padding: 0;\">\n",
       "  <li><b>Scheduler: </b>tcp://10.120.16.229:37531</li>\n",
       "  <li><b>Dashboard: </b><a href='http://10.120.16.229:8787/status' target='_blank'>http://10.120.16.229:8787/status</a>\n",
       "</ul>\n",
       "</td>\n",
       "<td style=\"vertical-align: top; border: 0px solid white\">\n",
       "<h3 style=\"text-align: left;\">Cluster</h3>\n",
       "<ul style=\"text-align: left; list-style:none; margin: 0; padding: 0;\">\n",
       "  <li><b>Workers: </b>0</li>\n",
       "  <li><b>Cores: </b>0</li>\n",
       "  <li><b>Memory: </b>0 B</li>\n",
       "</ul>\n",
       "</td>\n",
       "</tr>\n",
       "</table>"
      ],
      "text/plain": [
       "<Client: 'tcp://10.120.16.229:37531' processes=0 threads=0, memory=0 B>"
      ]
     },
     "execution_count": 71,
     "metadata": {},
     "output_type": "execute_result"
    }
   ],
   "source": [
    "client"
   ]
  },
  {
   "cell_type": "code",
   "execution_count": 72,
   "metadata": {},
   "outputs": [],
   "source": [
    "cis_colnames = {'t_colname': 'Timestamp', 'xyz_colnames': ['X', 'Y', 'Z']}\n",
    "smartwatch_colnames = {'devid_colnames': ['device_id']}"
   ]
  },
  {
   "cell_type": "code",
   "execution_count": 232,
   "metadata": {},
   "outputs": [],
   "source": [
    "def extract_fft_features(input_fp, \n",
    "                         window_offset=5, \n",
    "                         window_size=10, \n",
    "                         samp_rate='100ms',\n",
    "                         rms_g_constant=1,\n",
    "                         colnames=dict()):\n",
    "    def fftvec(seq):\n",
    "        spec = np.fft.fft(seq)\n",
    "        freqs = np.fft.fftfreq(n=spec.shape[0], d=pd.to_timedelta(samp_rate).total_seconds())\n",
    "        s = pd.DataFrame(data=spec.real, index=np.round(freqs, decimals=1))\n",
    "        return s[s.index > 0].T\n",
    "    \n",
    "    seq = main.read_seq(input_fp, use_time_index=True, resample=samp_rate, **colnames)\n",
    "    # some slight interpolation for missing values\n",
    "    seq = seq.interpolate(axis=0, limit=1, method='linear')\n",
    "    \n",
    "    # subtract constant for gravity\n",
    "    rms = pd.DataFrame({'rms': np.sqrt(np.square(seq).sum(axis=1, skipna=False)) - rms_g_constant})\n",
    "    \n",
    "    window_starts = [pd.Timedelta(seconds=t) for t in [*range(0, rms.index.get_level_values('t').max().seconds - window_size, window_offset)]]\n",
    "    samples = main.sample_seq(rms, starts=window_starts, samp_len=pd.Timedelta(seconds=window_size), reset_time=True)\n",
    "    for i, df in enumerate(samples):\n",
    "        df['ord'] = str(i)\n",
    "        if 'devid_colnames' in colnames:\n",
    "            df.reset_index(level=colnames['devid_colnames'], inplace=True)\n",
    "            df['ord'] += '-' + df[colnames['devid_colnames'][0]]\n",
    "            df.drop(columns=colnames['devid_colnames'], inplace=True)\n",
    "    \n",
    "    # remove windows with nulls\n",
    "    data = pd.concat(samples, axis=0).groupby('ord').filter(lambda x: x.notnull().values.all())\n",
    "\n",
    "    results = data.groupby('ord').apply(fftvec)\n",
    "    samp_id = os.path.splitext(os.path.basename(input_fp))[0]\n",
    "    results['samp_id'] = samp_id\n",
    "\n",
    "    return results.reset_index(level=1, drop=True)"
   ]
  },
  {
   "cell_type": "code",
   "execution_count": 197,
   "metadata": {},
   "outputs": [],
   "source": [
    "window_size = 10\n",
    "window_offset = 5\n",
    "futures = []"
   ]
  },
  {
   "cell_type": "code",
   "execution_count": 233,
   "metadata": {},
   "outputs": [],
   "source": [
    "fp = 'data/real-pd/training_data/smartwatch_gyroscope/014ccd5a-7f4a-480b-8ab5-1ed8601d0721.csv'\n",
    "d = extract_fft_features(fp, colnames=smartwatch_colnames)"
   ]
  },
  {
   "cell_type": "code",
   "execution_count": 245,
   "metadata": {
    "scrolled": true
   },
   "outputs": [],
   "source": [
    "# Training data for cis_pd\n",
    "fps = glob.glob('data/cis-pd/training_data/*.csv')\n",
    "futures = client.map(extract_fft_features, fps, \n",
    "                          window_size=window_size, \n",
    "                          window_offset=window_offset, \n",
    "                          rms_g_constant=1, \n",
    "                          colnames=cis_colnames)"
   ]
  },
  {
   "cell_type": "code",
   "execution_count": 246,
   "metadata": {},
   "outputs": [
    {
     "data": {
      "application/vnd.jupyter.widget-view+json": {
       "model_id": "91de364f3fb24f86b5d0d1136c58e326",
       "version_major": 2,
       "version_minor": 0
      },
      "text/plain": [
       "HBox(children=(FloatProgress(value=0.0, max=1857.0), HTML(value='')))"
      ]
     },
     "metadata": {},
     "output_type": "display_data"
    },
    {
     "name": "stdout",
     "output_type": "stream",
     "text": [
      "\n"
     ]
    }
   ],
   "source": [
    "# Write to disk directly since too much to store in mem\n",
    "iterator = as_completed(futures)\n",
    "future = next(iterator)\n",
    "while future.status == 'error': \n",
    "    future = next(iterator)\n",
    "result = future.result()\n",
    "result.to_csv('extracted_features/ensem/cis-fftfeatures.csv', header=True, index=True)\n",
    "\n",
    "# Write remaining dfs in append mode \n",
    "for future in tqdm(iterator, total=len(futures)-1):\n",
    "    if future.status == 'finished':\n",
    "        result = future.result()\n",
    "        result.to_csv('extracted_features/ensem/cis-fftfeatures.csv', header=False, mode='a', index=True)"
   ]
  },
  {
   "cell_type": "code",
   "execution_count": 247,
   "metadata": {},
   "outputs": [],
   "source": [
    "# real_pd smartphone accelerometer\n",
    "fps = glob.glob('data/real-pd/training_data/smartphone_accelerometer/*.csv')\n",
    "futures = client.map(extract_fft_features, fps, \n",
    "                          window_size=window_size, \n",
    "                          window_offset=window_offset, \n",
    "                          rms_g_constant=9.81)"
   ]
  },
  {
   "cell_type": "code",
   "execution_count": 248,
   "metadata": {},
   "outputs": [
    {
     "data": {
      "application/vnd.jupyter.widget-view+json": {
       "model_id": "f2a57ba8e8df470f849181863fec54c8",
       "version_major": 2,
       "version_minor": 0
      },
      "text/plain": [
       "HBox(children=(FloatProgress(value=0.0, max=525.0), HTML(value='')))"
      ]
     },
     "metadata": {},
     "output_type": "display_data"
    },
    {
     "name": "stdout",
     "output_type": "stream",
     "text": [
      "\n"
     ]
    }
   ],
   "source": [
    "# Write to disk directly since too much to store in mem\n",
    "iterator = as_completed(futures)\n",
    "future = next(iterator)\n",
    "while future.status == 'error': \n",
    "    future = next(iterator)\n",
    "result = future.result()\n",
    "result.to_csv('extracted_features/ensem/real_phone_accel-fftfeatures.csv', header=True, index=True)\n",
    "\n",
    "# Write remaining dfs in append mode \n",
    "for future in tqdm(iterator, total=len(futures)-1):\n",
    "    if future.status == 'finished':\n",
    "        result = future.result()\n",
    "        result.to_csv('extracted_features/ensem/real_phone_accel-fftfeatures.csv', header=False, mode='a', index=True)"
   ]
  },
  {
   "cell_type": "code",
   "execution_count": 235,
   "metadata": {},
   "outputs": [],
   "source": [
    "# real_pd smartwatch accelerometer\n",
    "fps = glob.glob('data/real-pd/training_data/smartwatch_accelerometer/*.csv')\n",
    "futures = client.map(extract_fft_features, fps, \n",
    "                          window_size=window_size, \n",
    "                          window_offset=window_offset, \n",
    "                          rms_g_constant=9.81, \n",
    "                          colnames=smartwatch_colnames)"
   ]
  },
  {
   "cell_type": "code",
   "execution_count": 236,
   "metadata": {},
   "outputs": [
    {
     "data": {
      "application/vnd.jupyter.widget-view+json": {
       "model_id": "62bdc4821d6845fca214484ccea6a107",
       "version_major": 2,
       "version_minor": 0
      },
      "text/plain": [
       "HBox(children=(FloatProgress(value=0.0, max=534.0), HTML(value='')))"
      ]
     },
     "metadata": {},
     "output_type": "display_data"
    },
    {
     "name": "stdout",
     "output_type": "stream",
     "text": [
      "\n"
     ]
    }
   ],
   "source": [
    "# Write to disk directly since too much to store in mem\n",
    "iterator = as_completed(futures)\n",
    "future = next(iterator)\n",
    "while future.status == 'error': \n",
    "    future = next(iterator)\n",
    "result = future.result()\n",
    "result.to_csv('extracted_features/ensem/real_watch_accel-fftfeatures.csv', header=True, index=True)\n",
    "\n",
    "# Write remaining dfs in append mode \n",
    "for future in tqdm(iterator, total=len(futures)-1):\n",
    "    if future.status == 'finished':\n",
    "        result = future.result()\n",
    "        result.to_csv('extracted_features/ensem/real_watch_accel-fftfeatures.csv', header=False, mode='a', index=True)"
   ]
  },
  {
   "cell_type": "code",
   "execution_count": 237,
   "metadata": {},
   "outputs": [],
   "source": [
    "# real_pd smartwatch gyroscope\n",
    "fps = glob.glob('data/real-pd/training_data/smartwatch_gyroscope/*.csv')\n",
    "futures = client.map(extract_fft_features, fps, \n",
    "                          window_size=window_size, \n",
    "                          window_offset=window_offset, \n",
    "                          rms_g_constant=0, \n",
    "                          colnames=smartwatch_colnames)"
   ]
  },
  {
   "cell_type": "code",
   "execution_count": 238,
   "metadata": {},
   "outputs": [
    {
     "data": {
      "application/vnd.jupyter.widget-view+json": {
       "model_id": "226b5fb8ebd04042baedf84353800e16",
       "version_major": 2,
       "version_minor": 0
      },
      "text/plain": [
       "HBox(children=(FloatProgress(value=0.0, max=534.0), HTML(value='')))"
      ]
     },
     "metadata": {},
     "output_type": "display_data"
    },
    {
     "name": "stdout",
     "output_type": "stream",
     "text": [
      "\n"
     ]
    }
   ],
   "source": [
    "# Write to disk directly since too much to store in mem\n",
    "iterator = as_completed(futures)\n",
    "future = next(iterator)\n",
    "while future.status == 'error': \n",
    "    future = next(iterator)\n",
    "result = future.result()\n",
    "result.to_csv('extracted_features/ensem/real_watch_gyro-fftfeatures.csv', header=True, index=True)\n",
    "\n",
    "# Write remaining dfs in append mode \n",
    "for future in tqdm(iterator, total=len(futures)-1):\n",
    "    if future.status == 'finished':\n",
    "        result = future.result()\n",
    "        result.to_csv('extracted_features/ensem/real_watch_gyro-fftfeatures.csv', header=False, mode='a', index=True)"
   ]
  },
  {
   "cell_type": "markdown",
   "metadata": {},
   "source": [
    "# PCA on windowed tsfresh features"
   ]
  },
  {
   "cell_type": "code",
   "execution_count": 3,
   "metadata": {},
   "outputs": [],
   "source": [
    "try:\n",
    "    cluster.close()\n",
    "    client.close()\n",
    "except NameError:\n",
    "    pass\n",
    "finally:\n",
    "    cluster = SLURMCluster(queue='short', cores=8, memory='8gb', walltime='1:00:00', death_timeout=60)\n",
    "    client = Client(cluster)\n",
    "    cluster.adapt(minimum=1, maximum=100)"
   ]
  },
  {
   "cell_type": "markdown",
   "metadata": {},
   "source": [
    "## Yidi's windows"
   ]
  },
  {
   "cell_type": "code",
   "execution_count": 240,
   "metadata": {},
   "outputs": [],
   "source": [
    "features_df = pd.read_csv('extracted_features/ensem/real_watch_accel-fftfeatures.csv')"
   ]
  },
  {
   "cell_type": "code",
   "execution_count": null,
   "metadata": {},
   "outputs": [],
   "source": [
    "features_df"
   ]
  },
  {
   "cell_type": "code",
   "execution_count": 163,
   "metadata": {},
   "outputs": [],
   "source": [
    "label_cols = ['on_off', 'dyskinesia', 'tremor', 'subject_id']\n",
    "labels = pd.concat([\n",
    "    pd.read_csv('/home/hy180/projects/beat_pd/data/cis-pd/data_labels/CIS-PD_Training_Data_IDs_Labels.csv'),\n",
    "    pd.read_csv('/home/hy180/projects/beat_pd/data/real-pd/data_labels/REAL-PD_Training_Data_IDs_Labels.csv'),\n",
    "], axis=0).astype({'subject_id': str})"
   ]
  },
  {
   "cell_type": "code",
   "execution_count": 241,
   "metadata": {},
   "outputs": [
    {
     "name": "stdout",
     "output_type": "stream",
     "text": [
      "31034 rows dropped due to nans in features\n"
     ]
    }
   ],
   "source": [
    "df = features_df.dropna().merge(labels, right_on='measurement_id', left_on='samp_id')\n",
    "print('%d rows dropped due to nans in features' % (features_df.shape[0] - df.shape[0]))"
   ]
  },
  {
   "cell_type": "code",
   "execution_count": 254,
   "metadata": {},
   "outputs": [],
   "source": [
    "other_cols = ['samp_id', 'measurement_id', 'ord']"
   ]
  },
  {
   "cell_type": "code",
   "execution_count": 49,
   "metadata": {},
   "outputs": [],
   "source": [
    "df = df.dropna(axis='columns', thresh=500).dropna(axis='rows')"
   ]
  },
  {
   "cell_type": "code",
   "execution_count": 255,
   "metadata": {},
   "outputs": [],
   "source": [
    "from sklearn import decomposition\n",
    "import umap\n",
    "\n",
    "label = 'tremor'\n",
    "X = df[df.samp_id.isin(df.dropna(subset=[label]).samp_id)].drop(columns=[*label_cols, *other_cols]).dropna(axis='columns')\n",
    "y = df[df.samp_id.isin(df.dropna(subset=[label]).samp_id)][[*label_cols, *other_cols]]\n",
    "\n",
    "ca = decomposition.PCA()\n",
    "# ca = umfap.UMAP(n_components=5)"
   ]
  },
  {
   "cell_type": "code",
   "execution_count": 256,
   "metadata": {
    "scrolled": true
   },
   "outputs": [],
   "source": [
    "fut = client.submit(ca.fit_transform, X)"
   ]
  },
  {
   "cell_type": "code",
   "execution_count": 257,
   "metadata": {
    "scrolled": false
   },
   "outputs": [
    {
     "data": {
      "text/html": [
       "<b>Future: fit_transform</b> <font color=\"gray\">status: </font><font color=\"black\">finished</font>, <font color=\"gray\">type: </font>numpy.ndarray, <font color=\"gray\">key: </font>fit_transform-e3693929a0eb63802bb15399d08ecff9"
      ],
      "text/plain": [
       "<Future: finished, type: numpy.ndarray, key: fit_transform-e3693929a0eb63802bb15399d08ecff9>"
      ]
     },
     "execution_count": 257,
     "metadata": {},
     "output_type": "execute_result"
    }
   ],
   "source": [
    "fut"
   ]
  },
  {
   "cell_type": "code",
   "execution_count": 258,
   "metadata": {
    "scrolled": true
   },
   "outputs": [],
   "source": [
    "proj = client.gather(fut)"
   ]
  },
  {
   "cell_type": "code",
   "execution_count": 260,
   "metadata": {},
   "outputs": [
    {
     "data": {
      "image/png": "[encoded data removed]",
      "text/plain": [
       "<Figure size 576x576 with 1 Axes>"
      ]
     },
     "metadata": {
      "needs_background": "light"
     },
     "output_type": "display_data"
    }
   ],
   "source": [
    "fig = plt.figure(figsize=(8, 8))\n",
    "_ = sns.scatterplot(x=proj[:, 0], y=proj[:, 1], hue=y.loc[:, 'tremor'], legend='full', palette=\"muted\")"
   ]
  },
  {
   "cell_type": "code",
   "execution_count": 96,
   "metadata": {},
   "outputs": [
    {
     "data": {
      "text/plain": [
       "2.0    45\n",
       "1.0    27\n",
       "3.0    14\n",
       "4.0     3\n",
       "0.0     2\n",
       "Name: on_off, dtype: int64"
      ]
     },
     "execution_count": 96,
     "metadata": {},
     "output_type": "execute_result"
    }
   ],
   "source": [
    "labels[labels.subject_id==1048].on_off.value_counts()"
   ]
  },
  {
   "cell_type": "code",
   "execution_count": 92,
   "metadata": {},
   "outputs": [
    {
     "data": {
      "text/html": [
       "<div>\n",
       "<style scoped>\n",
       "    .dataframe tbody tr th:only-of-type {\n",
       "        vertical-align: middle;\n",
       "    }\n",
       "\n",
       "    .dataframe tbody tr th {\n",
       "        vertical-align: top;\n",
       "    }\n",
       "\n",
       "    .dataframe thead th {\n",
       "        text-align: right;\n",
       "    }\n",
       "</style>\n",
       "<table border=\"1\" class=\"dataframe\">\n",
       "  <thead>\n",
       "    <tr style=\"text-align: right;\">\n",
       "      <th></th>\n",
       "      <th>subject_id</th>\n",
       "      <th>on_off</th>\n",
       "      <th>dyskinesia</th>\n",
       "      <th>tremor</th>\n",
       "    </tr>\n",
       "    <tr>\n",
       "      <th>measurement_id</th>\n",
       "      <th></th>\n",
       "      <th></th>\n",
       "      <th></th>\n",
       "      <th></th>\n",
       "    </tr>\n",
       "  </thead>\n",
       "  <tbody>\n",
       "    <tr>\n",
       "      <th>daf11494-e6fa-4376-a78a-86c683885764</th>\n",
       "      <td>1004</td>\n",
       "      <td>4.0</td>\n",
       "      <td>4.0</td>\n",
       "      <td>4.0</td>\n",
       "    </tr>\n",
       "    <tr>\n",
       "      <th>ee389c0c-71dd-47a9-9249-9c1bcd6c4f69</th>\n",
       "      <td>1048</td>\n",
       "      <td>1.0</td>\n",
       "      <td>3.0</td>\n",
       "      <td>4.0</td>\n",
       "    </tr>\n",
       "    <tr>\n",
       "      <th>eef56825-940a-4c3e-aebb-60838d60869e</th>\n",
       "      <td>1048</td>\n",
       "      <td>4.0</td>\n",
       "      <td>3.0</td>\n",
       "      <td>4.0</td>\n",
       "    </tr>\n",
       "    <tr>\n",
       "      <th>40f713fe-0ac9-4cd0-809c-0a8024955a2a</th>\n",
       "      <td>1048</td>\n",
       "      <td>3.0</td>\n",
       "      <td>3.0</td>\n",
       "      <td>4.0</td>\n",
       "    </tr>\n",
       "    <tr>\n",
       "      <th>4913062f-b696-40c6-a0f2-87efe1dd4810</th>\n",
       "      <td>1048</td>\n",
       "      <td>3.0</td>\n",
       "      <td>3.0</td>\n",
       "      <td>4.0</td>\n",
       "    </tr>\n",
       "    <tr>\n",
       "      <th>b9ada852-4ff5-4ee1-8529-96a79ced0610</th>\n",
       "      <td>1048</td>\n",
       "      <td>1.0</td>\n",
       "      <td>4.0</td>\n",
       "      <td>4.0</td>\n",
       "    </tr>\n",
       "    <tr>\n",
       "      <th>7b2698a6-f3a5-4345-9630-25d377d58992</th>\n",
       "      <td>1048</td>\n",
       "      <td>2.0</td>\n",
       "      <td>3.0</td>\n",
       "      <td>4.0</td>\n",
       "    </tr>\n",
       "    <tr>\n",
       "      <th>dd140d80-bcab-458b-bd0e-82cd584d0f28</th>\n",
       "      <td>1048</td>\n",
       "      <td>3.0</td>\n",
       "      <td>3.0</td>\n",
       "      <td>4.0</td>\n",
       "    </tr>\n",
       "    <tr>\n",
       "      <th>e0441156-c4b8-467c-8f4f-3b532d594d8f</th>\n",
       "      <td>1048</td>\n",
       "      <td>4.0</td>\n",
       "      <td>3.0</td>\n",
       "      <td>4.0</td>\n",
       "    </tr>\n",
       "  </tbody>\n",
       "</table>\n",
       "</div>"
      ],
      "text/plain": [
       "                                      subject_id  on_off  dyskinesia  tremor\n",
       "measurement_id                                                              \n",
       "daf11494-e6fa-4376-a78a-86c683885764        1004     4.0         4.0     4.0\n",
       "ee389c0c-71dd-47a9-9249-9c1bcd6c4f69        1048     1.0         3.0     4.0\n",
       "eef56825-940a-4c3e-aebb-60838d60869e        1048     4.0         3.0     4.0\n",
       "40f713fe-0ac9-4cd0-809c-0a8024955a2a        1048     3.0         3.0     4.0\n",
       "4913062f-b696-40c6-a0f2-87efe1dd4810        1048     3.0         3.0     4.0\n",
       "b9ada852-4ff5-4ee1-8529-96a79ced0610        1048     1.0         4.0     4.0\n",
       "7b2698a6-f3a5-4345-9630-25d377d58992        1048     2.0         3.0     4.0\n",
       "dd140d80-bcab-458b-bd0e-82cd584d0f28        1048     3.0         3.0     4.0\n",
       "e0441156-c4b8-467c-8f4f-3b532d594d8f        1048     4.0         3.0     4.0"
      ]
     },
     "execution_count": 92,
     "metadata": {},
     "output_type": "execute_result"
    }
   ],
   "source": [
    "labels[labels.tremor==4]"
   ]
  },
  {
   "cell_type": "markdown",
   "metadata": {},
   "source": [
    "## Mark's windows"
   ]
  },
  {
   "cell_type": "code",
   "execution_count": null,
   "metadata": {},
   "outputs": [],
   "source": [
    "raise Exception"
   ]
  },
  {
   "cell_type": "code",
   "execution_count": 4,
   "metadata": {},
   "outputs": [],
   "source": [
    "import glob\n",
    "import os"
   ]
  },
  {
   "cell_type": "code",
   "execution_count": 7,
   "metadata": {},
   "outputs": [],
   "source": [
    "def read_samps(fp):\n",
    "    df = pd.read_csv(fp, index_col=0)\n",
    "    df = df.rename(columns={'id': 'axis'})    \n",
    "    df['samp_id'] = os.path.splitext(os.path.splitext(os.path.basename(fp))[0])[0]\n",
    "    return df[df.axis=='X']"
   ]
  },
  {
   "cell_type": "code",
   "execution_count": 8,
   "metadata": {},
   "outputs": [],
   "source": [
    "futures = client.map(read_samps, glob.glob('/home/mk596/research/beat_pd/data/cis-pd/training_data_tsf/*.tsf.csv')[:300])"
   ]
  },
  {
   "cell_type": "code",
   "execution_count": 17,
   "metadata": {},
   "outputs": [],
   "source": [
    "dfs = client.gather(futures)\n",
    "features = pd.concat(dfs)"
   ]
  },
  {
   "cell_type": "code",
   "execution_count": 9,
   "metadata": {
    "scrolled": true
   },
   "outputs": [
    {
     "data": {
      "application/vnd.jupyter.widget-view+json": {
       "model_id": "895cab7c982e45ac889a4019b627396e",
       "version_major": 2,
       "version_minor": 0
      },
      "text/plain": [
       "HBox(children=(FloatProgress(value=0.0, max=300.0), HTML(value='')))"
      ]
     },
     "metadata": {},
     "output_type": "display_data"
    },
    {
     "name": "stdout",
     "output_type": "stream",
     "text": [
      "\n"
     ]
    }
   ],
   "source": [
    "dfs = []\n",
    "for fp in tqdm(glob.glob('/home/mk596/research/beat_pd/data/cis-pd/training_data_tsf/*.tsf.csv')[:300]):\n",
    "    df = pd.read_csv(fp, index_col=0)\n",
    "    df = df.rename(columns={'id': 'axis'})    \n",
    "    df['samp_id'] = os.path.splitext(os.path.splitext(os.path.basename(fp))[0])[0]\n",
    "    dfs.append(df[df.axis=='X'])\n",
    "    \n",
    "features = pd.concat(dfs)"
   ]
  }
 ],
 "metadata": {
  "kernelspec": {
   "display_name": "Python 3",
   "language": "python",
   "name": "python3"
  },
  "language_info": {
   "codemirror_mode": {
    "name": "ipython",
    "version": 3
   },
   "file_extension": ".py",
   "mimetype": "text/x-python",
   "name": "python",
   "nbconvert_exporter": "python",
   "pygments_lexer": "ipython3",
   "version": "3.7.7"
  },
  "toc": {
   "base_numbering": 1,
   "nav_menu": {},
   "number_sections": true,
   "sideBar": false,
   "skip_h1_title": false,
   "title_cell": "Table of Contents",
   "title_sidebar": "Contents",
   "toc_cell": false,
   "toc_position": {},
   "toc_section_display": true,
   "toc_window_display": false
  }
 },
 "nbformat": 4,
 "nbformat_minor": 4
}
