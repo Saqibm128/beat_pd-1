{
 "cells": [
  {
   "cell_type": "code",
   "execution_count": 1,
   "metadata": {},
   "outputs": [],
   "source": [
    "from dask_jobqueue import SLURMCluster\n",
    "from distributed import Client"
   ]
  },
  {
   "cell_type": "code",
   "execution_count": 2,
   "metadata": {
    "scrolled": true
   },
   "outputs": [],
   "source": [
    "cluster = SLURMCluster(queue='short', cores=4, memory='16gb', walltime='30:00', death_timeout=300)"
   ]
  },
  {
   "cell_type": "code",
   "execution_count": 3,
   "metadata": {},
   "outputs": [],
   "source": [
    "client = Client(cluster)"
   ]
  },
  {
   "cell_type": "code",
   "execution_count": 5,
   "metadata": {
    "scrolled": false
   },
   "outputs": [
    {
     "data": {
      "text/html": [
       "<table style=\"border: 2px solid white;\">\n",
       "<tr>\n",
       "<td style=\"vertical-align: top; border: 0px solid white\">\n",
       "<h3 style=\"text-align: left;\">Client</h3>\n",
       "<ul style=\"text-align: left; list-style: none; margin: 0; padding: 0;\">\n",
       "  <li><b>Scheduler: </b>tcp://10.120.16.104:54173</li>\n",
       "  <li><b>Dashboard: </b><a href='http://10.120.16.104:8787/status' target='_blank'>http://10.120.16.104:8787/status</a>\n",
       "</ul>\n",
       "</td>\n",
       "<td style=\"vertical-align: top; border: 0px solid white\">\n",
       "<h3 style=\"text-align: left;\">Cluster</h3>\n",
       "<ul style=\"text-align: left; list-style:none; margin: 0; padding: 0;\">\n",
       "  <li><b>Workers: </b>0</li>\n",
       "  <li><b>Cores: </b>0</li>\n",
       "  <li><b>Memory: </b>0 B</li>\n",
       "</ul>\n",
       "</td>\n",
       "</tr>\n",
       "</table>"
      ],
      "text/plain": [
       "<Client: 'tcp://10.120.16.104:54173' processes=0 threads=0, memory=0 B>"
      ]
     },
     "execution_count": 5,
     "metadata": {},
     "output_type": "execute_result"
    }
   ],
   "source": [
    "client"
   ]
  },
  {
   "cell_type": "code",
   "execution_count": 6,
   "metadata": {},
   "outputs": [],
   "source": [
    "cluster.scale(n=100)"
   ]
  },
  {
   "cell_type": "code",
   "execution_count": 11,
   "metadata": {},
   "outputs": [
    {
     "data": {
      "application/vnd.jupyter.widget-view+json": {
       "model_id": "2a35a79796664374a0e63ff43e7fa85f",
       "version_major": 2,
       "version_minor": 0
      },
      "text/plain": [
       "HBox(children=(FloatProgress(value=0.0, max=618.0), HTML(value='')))"
      ]
     },
     "metadata": {},
     "output_type": "display_data"
    },
    {
     "name": "stdout",
     "output_type": "stream",
     "text": [
      "\n",
      "resampled at 100ms, sequences have 11620.459546925566 samples on average\n"
     ]
    }
   ],
   "source": [
    "import tsfresh as tsf\n",
    "import glob\n",
    "import os\n",
    "import numpy as np\n",
    "import pandas as pd\n",
    "import seaborn as sns\n",
    "\n",
    "from importlib import reload\n",
    "from scipy import signal\n",
    "from tqdm.auto import tqdm\n",
    "from matplotlib import pyplot as plt\n",
    "from tsfresh.utilities.distribution import ClusterDaskDistributor\n",
    "from src import main, feature_model, mp_profiler\n",
    "\n",
    "seqs = []\n",
    "samp_rate = '100ms'\n",
    "\n",
    "# mp_profiler.init_yappi()\n",
    "distributor = ClusterDaskDistributor(address=cluster.scheduler_address)\n",
    "\n",
    "# for fp in tqdm(glob.glob('data/test_set/real-pd/testing_data/smartphone_accelerometer/*.csv')):\n",
    "for fp in tqdm(glob.glob('data/test_set/cis-pd/testing_data/*.csv')):\n",
    "    samp_id = os.path.splitext(os.path.basename(fp))[0]\n",
    "    seq = main.read_seq(fp, use_time_index=True, resample=samp_rate, t_colname='Timestamp', xyz_colnames=['X', 'Y', 'Z'])\n",
    "#     seq = main.read_seq(fp, use_time_index=True, resample=samp_rate)\n",
    "    rms = np.sqrt(np.sum(np.square(seq), axis=1))\n",
    "    df = pd.DataFrame(data={'rms': rms})\n",
    "    df['id'] = samp_id\n",
    "    seqs.append(df)\n",
    "\n",
    "df = pd.concat(seqs)\n",
    "print(f'resampled at {samp_rate}, sequences have {df.id.value_counts().mean()} samples on average')\n",
    "results = tsf.extract_features(df, column_id='id', distributor=distributor)\n",
    "results.to_csv('tsfeatures_cis_test.csv')"
   ]
  },
  {
   "cell_type": "code",
   "execution_count": 13,
   "metadata": {},
   "outputs": [],
   "source": [
    "cluster.scale(n=0)"
   ]
  }
 ],
 "metadata": {
  "kernelspec": {
   "display_name": "Python 3",
   "language": "python",
   "name": "python3"
  },
  "language_info": {
   "codemirror_mode": {
    "name": "ipython",
    "version": 3
   },
   "file_extension": ".py",
   "mimetype": "text/x-python",
   "name": "python",
   "nbconvert_exporter": "python",
   "pygments_lexer": "ipython3",
   "version": "3.7.6"
  }
 },
 "nbformat": 4,
 "nbformat_minor": 4
}
