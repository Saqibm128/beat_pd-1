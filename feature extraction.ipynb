{
 "cells": [
  {
   "cell_type": "code",
   "execution_count": 1,
   "metadata": {},
   "outputs": [],
   "source": [
    "import tsfresh as tsf\n",
    "import glob\n",
    "import os\n",
    "import numpy as np\n",
    "import pandas as pd\n",
    "import seaborn as sns\n",
    "\n",
    "from importlib import reload\n",
    "from datetime import timedelta\n",
    "from scipy import signal\n",
    "from tqdm.auto import tqdm\n",
    "from matplotlib import pyplot as plt\n",
    "from tsfresh.utilities.distribution import ClusterDaskDistributor\n",
    "from src import main, feature_model, extract_tsf_features_by_window as extract\n",
    "from dask_jobqueue import SLURMCluster\n",
    "from distributed import Client, as_completed"
   ]
  },
  {
   "cell_type": "markdown",
   "metadata": {},
   "source": [
    "# Extract features from data"
   ]
  },
  {
   "cell_type": "code",
   "execution_count": 2,
   "metadata": {},
   "outputs": [],
   "source": [
    "try:\n",
    "    cluster.close()\n",
    "    client.close()\n",
    "except NameError:\n",
    "    pass\n",
    "finally:\n",
    "    cluster = SLURMCluster(queue='short', cores=2, memory='7gb', walltime='3:00:00', death_timeout=60)\n",
    "    client = Client(cluster)\n",
    "    cluster.adapt(minimum=1, maximum=100)"
   ]
  },
  {
   "cell_type": "code",
   "execution_count": 3,
   "metadata": {},
   "outputs": [],
   "source": [
    "cis_colnames = {'t_colname': 'Timestamp', 'xyz_colnames': ['X', 'Y', 'Z']}\n",
    "smartwatch_colnames = {'devid_colnames': ['device_id']}"
   ]
  },
  {
   "cell_type": "code",
   "execution_count": 4,
   "metadata": {},
   "outputs": [],
   "source": [
    "def extract_tsf_features(input_fp, \n",
    "                         samp_rate='100ms',\n",
    "                         rms_g_constant=1,\n",
    "                         colnames=dict()):\n",
    "    seq = main.read_seq(input_fp, use_time_index=True, resample=samp_rate, **colnames)\n",
    "    # some slight interpolation for missing values\n",
    "    seq = seq.interpolate(axis=0, limit=1, method='linear')\n",
    "\n",
    "    # subtract constant for gravity\n",
    "    rms = pd.DataFrame({'rms': np.sqrt(np.square(seq).sum(axis=1, skipna=False)) - 9.8})\n",
    "    df = rms\n",
    "\n",
    "    if 'devid_colnames' in colnames:\n",
    "        df.reset_index(level=colnames['devid_colnames'], inplace=True)\n",
    "        df.rename(columns={colnames['devid_colnames'][0]: 'id'}, inplace=True)\n",
    "    else: \n",
    "        df['id'] = 1\n",
    "        \n",
    "    # drop timesteps with nulls (tsfresh says timesteps don't have to be equidistant)\n",
    "    df = df.reset_index(level='t').dropna()\n",
    "    \n",
    "    tsf_df = tsf.extract_features(df, column_sort='t', column_id=\"id\", disable_progressbar=False, n_jobs=0)\n",
    "    samp_id = os.path.splitext(os.path.basename(input_fp))[0]\n",
    "    tsf_df['samp_id'] = samp_id\n",
    "\n",
    "    return tsf_df"
   ]
  },
  {
   "cell_type": "code",
   "execution_count": 6,
   "metadata": {},
   "outputs": [],
   "source": [
    "window_size = 10\n",
    "window_offset = 5\n",
    "futures = []"
   ]
  },
  {
   "cell_type": "code",
   "execution_count": 44,
   "metadata": {
    "scrolled": true
   },
   "outputs": [],
   "source": [
    "# Training data for cis_pd\n",
    "fps = glob.glob('data/cis-pd/training_data/*.csv')\n",
    "futures = client.map(extract_tsf_features, fps, \n",
    "                          rms_g_constant=1, \n",
    "                          colnames=cis_colnames)"
   ]
  },
  {
   "cell_type": "code",
   "execution_count": 50,
   "metadata": {},
   "outputs": [],
   "source": [
    "# real_pd smartphone accelerometer\n",
    "fps = glob.glob('data/real-pd/training_data/smartphone_accelerometer/*.csv')\n",
    "futures = client.map(extract_tsf_features, fps, \n",
    "                          rms_g_constant=9.81)"
   ]
  },
  {
   "cell_type": "code",
   "execution_count": 5,
   "metadata": {},
   "outputs": [],
   "source": [
    "# real_pd smartwatch accelerometer\n",
    "fps = glob.glob('data/real-pd/training_data/smartwatch_accelerometer/*.csv')\n",
    "futures = client.map(extract_tsf_features, fps, \n",
    "                          rms_g_constant=9.81, \n",
    "                          colnames=smartwatch_colnames)"
   ]
  },
  {
   "cell_type": "code",
   "execution_count": 19,
   "metadata": {},
   "outputs": [],
   "source": [
    "# real_pd smartwatch gyroscope\n",
    "fps = glob.glob('data/real-pd/training_data/smartwatch_gyroscope/*.csv')\n",
    "futures = client.map(extract_tsf_features, fps, \n",
    "                          rms_g_constant=0, \n",
    "                          colnames=smartwatch_colnames)"
   ]
  },
  {
   "cell_type": "code",
   "execution_count": 20,
   "metadata": {
    "scrolled": true
   },
   "outputs": [
    {
     "data": {
      "application/vnd.jupyter.widget-view+json": {
       "model_id": "ada3c2d51dcf4216a97ffa2a13d68588",
       "version_major": 2,
       "version_minor": 0
      },
      "text/plain": [
       "HBox(children=(FloatProgress(value=0.0, max=534.0), HTML(value='')))"
      ]
     },
     "metadata": {},
     "output_type": "display_data"
    },
    {
     "name": "stdout",
     "output_type": "stream",
     "text": [
      "\n"
     ]
    }
   ],
   "source": [
    "# Write to disk directly since too much to store in mem\n",
    "iterator = as_completed(futures)\n",
    "future = next(iterator)\n",
    "while future.status == 'error': \n",
    "    future = next(iterator)\n",
    "result = future.result()\n",
    "result.to_csv('extracted_features/real_watch_gyro-tsfeatures.csv', header=True)\n",
    "\n",
    "# Write remaining dfs in append mode \n",
    "for future in tqdm(iterator, total=len(futures)-1):\n",
    "    if future.status == 'finished':\n",
    "        result = future.result()\n",
    "        result.to_csv('extracted_features/real_watch_gyro-tsfeatures.csv', header=False, mode='a')"
   ]
  }
 ],
 "metadata": {
  "kernelspec": {
   "display_name": "Python 3",
   "language": "python",
   "name": "python3"
  },
  "language_info": {
   "codemirror_mode": {
    "name": "ipython",
    "version": 3
   },
   "file_extension": ".py",
   "mimetype": "text/x-python",
   "name": "python",
   "nbconvert_exporter": "python",
   "pygments_lexer": "ipython3",
   "version": "3.7.7"
  },
  "toc": {
   "base_numbering": 1,
   "nav_menu": {},
   "number_sections": true,
   "sideBar": false,
   "skip_h1_title": false,
   "title_cell": "Table of Contents",
   "title_sidebar": "Contents",
   "toc_cell": false,
   "toc_position": {},
   "toc_section_display": true,
   "toc_window_display": true
  }
 },
 "nbformat": 4,
 "nbformat_minor": 4
}
