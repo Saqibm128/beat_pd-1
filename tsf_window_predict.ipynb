{
 "cells": [
  {
   "cell_type": "code",
   "execution_count": 2,
   "metadata": {},
   "outputs": [],
   "source": [
    "import pandas as pd\n",
    "import numpy as np\n",
    "import seaborn as sns\n",
    "import scipy.stats\n",
    "from os.path import join\n",
    "import os\n",
    "import json\n",
    "import math"
   ]
  },
  {
   "cell_type": "code",
   "execution_count": 141,
   "metadata": {},
   "outputs": [],
   "source": [
    "from sklearn.ensemble import RandomForestClassifier\n",
    "from sklearn.model_selection import train_test_split\n",
    "from sklearn.metrics import mean_squared_error"
   ]
  },
  {
   "cell_type": "code",
   "execution_count": 3,
   "metadata": {},
   "outputs": [],
   "source": [
    "DATA_DIR = \"data\"\n",
    "TSF_WINDOW_DIR = join(DATA_DIR, \"cis-pd\", \"training_data_tsf\")\n",
    "TSF_WINDOW_FILES = [ join(TSF_WINDOW_DIR, f) for f in os.listdir(TSF_WINDOW_DIR) if f.endswith(\".tsf.csv\") ]\n",
    "LABELS_FILE = join(DATA_DIR, \"cis-pd\", \"data_labels\", \"CIS-PD_Training_Data_IDs_Labels.csv\")"
   ]
  },
  {
   "cell_type": "code",
   "execution_count": 4,
   "metadata": {},
   "outputs": [
    {
     "data": {
      "text/plain": [
       "(327, 4)"
      ]
     },
     "execution_count": 4,
     "metadata": {},
     "output_type": "execute_result"
    }
   ],
   "source": [
    "labels_df = pd.read_csv(LABELS_FILE, index_col=0)\n",
    "labels_df.head()\n",
    "\n",
    "m_ids = [ os.path.basename(f[:-8]) for f in TSF_WINDOW_FILES ]\n",
    "labels_df = labels_df.loc[m_ids,:]\n",
    "labels_df = labels_df.sort_values(by=\"on_off\", ascending=False)\n",
    "labels_df.shape"
   ]
  },
  {
   "cell_type": "code",
   "execution_count": 7,
   "metadata": {},
   "outputs": [],
   "source": [
    "with open(join(DATA_DIR, \"tsf_window_variables.json\")) as f:\n",
    "    top_vars = json.load(f)"
   ]
  },
  {
   "cell_type": "code",
   "execution_count": 143,
   "metadata": {},
   "outputs": [
    {
     "data": {
      "text/plain": [
       "327"
      ]
     },
     "execution_count": 143,
     "metadata": {},
     "output_type": "execute_result"
    }
   ],
   "source": [
    "X_list = []\n",
    "for m_id in labels_df.index.values.tolist():\n",
    "    f = join(TSF_WINDOW_DIR, f\"{m_id}.tsf.csv\")\n",
    "    m_df = pd.read_csv(f, index_col=0)\n",
    "    \n",
    "    m_X_df = pd.DataFrame(data=[], index=[], columns=[\"stat\", \"variable\", \"value\", \"dim\"])\n",
    "    for dim, dim_df in m_df.groupby(\"id\"):\n",
    "        dim_df = dim_df.set_index(\"window_start\", drop=True)\n",
    "        #dim_df = dim_df[top_vars]\n",
    "        dim_summary_df = dim_df.describe().reset_index()\n",
    "        dim_summary_df = dim_summary_df.melt(id_vars=[\"index\"]).rename(columns={\"index\": \"stat\"})\n",
    "        dim_summary_df = dim_summary_df.loc[dim_summary_df[\"stat\"].isin([\"mean\", \"std\"])]\n",
    "        dim_summary_df[\"dim\"] = dim\n",
    "        m_X_df = m_X_df.append(dim_summary_df, ignore_index=True)\n",
    "    X_list.append(m_X_df[\"value\"].values)\n",
    "len(X_list)"
   ]
  },
  {
   "cell_type": "code",
   "execution_count": 68,
   "metadata": {},
   "outputs": [
    {
     "data": {
      "text/plain": [
       "(327, 480)"
      ]
     },
     "execution_count": 68,
     "metadata": {},
     "output_type": "execute_result"
    }
   ],
   "source": [
    "X = np.stack(X_list, axis=-1).T\n",
    "X.shape"
   ]
  },
  {
   "cell_type": "code",
   "execution_count": 69,
   "metadata": {},
   "outputs": [],
   "source": [
    "y = []\n",
    "for m_id in labels_df.index.values.tolist():\n",
    "    y.append(labels_df.at[m_id, \"on_off\"])\n",
    "y = np.array(y)\n",
    "X = X[~np.isnan(y)]\n",
    "y = y[~np.isnan(y)]"
   ]
  },
  {
   "cell_type": "code",
   "execution_count": 74,
   "metadata": {},
   "outputs": [],
   "source": [
    "X_train, X_test, y_train, y_test = train_test_split(X, y, test_size=0.33, random_state=0)"
   ]
  },
  {
   "cell_type": "code",
   "execution_count": 135,
   "metadata": {},
   "outputs": [
    {
     "data": {
      "text/plain": [
       "RandomForestClassifier(bootstrap=False, ccp_alpha=0.0, class_weight=None,\n",
       "                       criterion='gini', max_depth=None, max_features='auto',\n",
       "                       max_leaf_nodes=None, max_samples=None,\n",
       "                       min_impurity_decrease=0.0, min_impurity_split=None,\n",
       "                       min_samples_leaf=1, min_samples_split=2,\n",
       "                       min_weight_fraction_leaf=0.0, n_estimators=1000,\n",
       "                       n_jobs=None, oob_score=False, random_state=0, verbose=0,\n",
       "                       warm_start=False)"
      ]
     },
     "execution_count": 135,
     "metadata": {},
     "output_type": "execute_result"
    }
   ],
   "source": [
    "clf = RandomForestClassifier(n_estimators=1000, bootstrap=False, random_state=0)\n",
    "clf.fit(X_train, y_train)"
   ]
  },
  {
   "cell_type": "code",
   "execution_count": 139,
   "metadata": {},
   "outputs": [],
   "source": [
    "y_pred = clf.predict(X_test)"
   ]
  },
  {
   "cell_type": "code",
   "execution_count": 142,
   "metadata": {},
   "outputs": [
    {
     "data": {
      "text/plain": [
       "1.7254901960784315"
      ]
     },
     "execution_count": 142,
     "metadata": {},
     "output_type": "execute_result"
    }
   ],
   "source": [
    "mean_squared_error(y_test, y_pred)"
   ]
  },
  {
   "cell_type": "code",
   "execution_count": null,
   "metadata": {},
   "outputs": [],
   "source": []
  },
  {
   "cell_type": "code",
   "execution_count": null,
   "metadata": {},
   "outputs": [],
   "source": []
  }
 ],
 "metadata": {
  "kernelspec": {
   "display_name": "Python [conda env:beat-pd-mark-env] *",
   "language": "python",
   "name": "conda-env-beat-pd-mark-env-py"
  },
  "language_info": {
   "codemirror_mode": {
    "name": "ipython",
    "version": 3
   },
   "file_extension": ".py",
   "mimetype": "text/x-python",
   "name": "python",
   "nbconvert_exporter": "python",
   "pygments_lexer": "ipython3",
   "version": "3.8.2"
  }
 },
 "nbformat": 4,
 "nbformat_minor": 4
}
