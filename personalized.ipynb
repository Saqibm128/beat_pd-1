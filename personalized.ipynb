{
 "cells": [
  {
   "cell_type": "code",
   "execution_count": 3,
   "metadata": {},
   "outputs": [],
   "source": [
    "import glob\n",
    "import os\n",
    "import numpy as np\n",
    "import pandas as pd\n",
    "import seaborn as sns\n",
    "import joblib\n",
    "import dill\n",
    "import dask, dask_ml\n",
    "import dask.dataframe as dd\n",
    "\n",
    "from importlib import reload\n",
    "from scipy import signal, stats\n",
    "from tqdm.auto import tqdm\n",
    "from sklearn import neighbors, linear_model, ensemble, decomposition #svm, neural_network\n",
    "from sklearn import feature_selection, model_selection, metrics, dummy, pipeline, preprocessing, compose\n",
    "from dask_ml.model_selection import RandomizedSearchCV\n",
    "from matplotlib import pyplot as plt\n",
    "from src import main, feature_model\n",
    "from itertools import product"
   ]
  },
  {
   "cell_type": "code",
   "execution_count": 4,
   "metadata": {},
   "outputs": [],
   "source": [
    "from dask_jobqueue import SLURMCluster\n",
    "from distributed import Client, LocalCluster"
   ]
  },
  {
   "cell_type": "code",
   "execution_count": 5,
   "metadata": {},
   "outputs": [],
   "source": [
    "try:\n",
    "    cluster.close()\n",
    "    client.close()\n",
    "except NameError:\n",
    "    pass\n",
    "finally:\n",
    "    cluster = SLURMCluster(queue='short', \n",
    "                           cores=4, \n",
    "                           memory='18gB', \n",
    "                           walltime='4:00:00', \n",
    "                           death_timeout=60, \n",
    "                          )\n",
    "#                            job_extra=['--exclude=/home/hy180/notibnodes'])\n",
    "    client = Client(cluster)\n",
    "    cluster.adapt(minimum=1, maximum=200, wait_count=5)"
   ]
  },
  {
   "cell_type": "markdown",
   "metadata": {},
   "source": [
    "# Load data"
   ]
  },
  {
   "cell_type": "code",
   "execution_count": 6,
   "metadata": {},
   "outputs": [],
   "source": [
    "label_cols = ['on_off', 'dyskinesia', 'tremor', 'subject_id']\n",
    "labels = pd.concat([\n",
    "    pd.read_csv('/home/hy180/projects/beat_pd/data/cis-pd/data_labels/CIS-PD_Training_Data_IDs_Labels.csv'),\n",
    "    pd.read_csv('/home/hy180/projects/beat_pd/data/real-pd/data_labels/REAL-PD_Training_Data_IDs_Labels.csv'),\n",
    "], axis=0).astype({'subject_id': str})"
   ]
  },
  {
   "cell_type": "code",
   "execution_count": 36,
   "metadata": {},
   "outputs": [],
   "source": [
    "dataset = 'cis-tsfeatures'\n",
    "subj = '1007'\n",
    "features_df = dd.read_parquet(f'/home/hy180/projects/beat_pd/extracted_features/ensem/{dataset}.parquet')\n",
    "features_df = features_df[features_df.samp_id.isin(labels[labels.subject_id == subj].measurement_id)]"
   ]
  },
  {
   "cell_type": "code",
   "execution_count": 37,
   "metadata": {},
   "outputs": [],
   "source": [
    "# These features don't compute for a number of observations\n",
    "drop_cols = ['rms__friedrich_coefficients__m_3__r_30__coeff_0',\n",
    "       'rms__friedrich_coefficients__m_3__r_30__coeff_1',\n",
    "       'rms__friedrich_coefficients__m_3__r_30__coeff_2',\n",
    "       'rms__friedrich_coefficients__m_3__r_30__coeff_3',\n",
    "       'rms__max_langevin_fixed_point__m_3__r_30']\n",
    "# These fft features are null for our size of windows\n",
    "null_fft_cols = ['rms__fft_coefficient__coeff_%d__attr_\"%s\"' % (n, s) \n",
    "                     for n, s in product(range(51, 100), ['abs', 'angle', 'imag', 'real'])]\n",
    "# Sample entropy can take inf which screws with models\n",
    "inf_cols = ['rms__sample_entropy']\n",
    "df = features_df.drop(columns=[*drop_cols, *null_fft_cols, *inf_cols]).dropna().merge(labels, right_on='measurement_id', left_on='samp_id')\n",
    "# print('%d rows dropped due to nans in features' % (features_df.shape[0] - df.shape[0]))"
   ]
  },
  {
   "cell_type": "code",
   "execution_count": 26,
   "metadata": {},
   "outputs": [],
   "source": [
    "label = 'dyskinesia'\n",
    "\n",
    "id_cols = ['measurement_id', 'samp_id', 'id']\n",
    "labeled_samps = df.dropna(subset=[label])\n",
    "\n",
    "y = df.loc[labeled_samps.index, label].astype('int')\n",
    "X = labeled_samps.drop(columns=[*label_cols, *id_cols])"
   ]
  },
  {
   "cell_type": "markdown",
   "metadata": {},
   "source": [
    "# Model"
   ]
  },
  {
   "cell_type": "markdown",
   "metadata": {},
   "source": [
    "## Model spec"
   ]
  },
  {
   "cell_type": "code",
   "execution_count": 10,
   "metadata": {
    "tags": [
     "#pipeline"
    ]
   },
   "outputs": [],
   "source": [
    "scaler = preprocessing.RobustScaler(quantile_range=(1, 99))\n",
    "scaler_pg = {'scaler__quantile_range': [(.1, 99.9), (.5, 99.5), (1, 99), (5, 95), (10, 90)],}\n",
    "# scaler = preprocessing.MinMaxScaler()\n",
    "\n",
    "# Keep features w/ variance in top 95%ile \n",
    "var = lambda X, y: np.var(X, axis=0)\n",
    "f_select = feature_selection.SelectPercentile(var, percentile=95)\n",
    "# f_select_pg = {'f_select__percentile': [95, 80, 50, 25, 10],}\n",
    "f_select_pg = {'f_select__percentile': stats.uniform(0, 100)}\n",
    "# f_select = feature_selection.SelectKBest(feature_selection.mutual_info_regression, k=30)\n",
    "\n",
    "# model = linear_model.Ridge()\n",
    "# model_pg = {'model__regressor__alpha': [0.1, 0.5, 1, 2, 5],}\n",
    "# model = svm.SVR()\n",
    "# model_pg = {'model__regressor__kernel': ['linear', 'poly', 'rbf', 'sigmoid'], 'model__regressor__C': stats.chi2(df=2)}\n",
    "# model = linear_model.ElasticNet()\n",
    "# model_pg = {'model__regressor__l1_ratio': stats.uniform(0, 1), 'model__regressor__alpha': stats.chi2(df=2), }\n",
    "# model_pg = {'model__regressor__l1_ratio': [0.01, 0.1, 0.5, 0.8, 0.99], 'model__regressor__alpha': [0.1, 0.5, 1, 2, 5],}\n",
    "# model = mord.OrdinalRidge()\n",
    "# model_pg = {'model__regressor__alpha': stats.chi2(df=2), }\n",
    "model = ensemble.RandomForestRegressor()\n",
    "model_pg = {'model__regressor__n_estimators': stats.randint(50, 100), 'model__regressor__max_depth': stats.randint(10, 25), 'model__regressor__max_features': [.25, 'auto']}\n",
    "# model = neural_network.MLPRegressor(learning_rate='adaptive')\n",
    "# model_pg = {'model__regressor__hidden_layer_sizes': [(100), (50, 50)]}\n",
    "\n",
    "clip_out = preprocessing.FunctionTransformer(np.clip, kw_args={'a_min': 0, 'a_max': 4})\n",
    "clipped_model = compose.TransformedTargetRegressor(regressor=model, inverse_func=clip_out.transform)\n",
    "\n",
    "pipe = pipeline.Pipeline([\n",
    "    ('scaler', scaler), \n",
    "    ('f_select', f_select), \n",
    "    ('model', clipped_model),\n",
    "], verbose=1)\n",
    "\n",
    "param_grid = {\n",
    "    **scaler_pg,\n",
    "    **f_select_pg,\n",
    "    **model_pg,\n",
    "}\n",
    "\n",
    "metric = metrics.make_scorer(metrics.mean_squared_error, greater_is_better=False)\n",
    "\n",
    "cv = model_selection.StratifiedKFold(shuffle=True)\n",
    "# search = RandomizedSearchCV(pipe, param_grid, n_iter=100, scoring=metric, cv=cv, refit=False, scheduler=client)"
   ]
  },
  {
   "cell_type": "markdown",
   "metadata": {},
   "source": [
    "## Model eval"
   ]
  },
  {
   "cell_type": "code",
   "execution_count": 38,
   "metadata": {
    "scrolled": true,
    "tags": [
     "#model-fit"
    ]
   },
   "outputs": [
    {
     "name": "stdout",
     "output_type": "stream",
     "text": [
      "working on dyskinesia\n",
      "done with dyskinesia\n",
      "working on on_off\n",
      "done with on_off\n",
      "working on tremor\n"
     ]
    },
    {
     "name": "stderr",
     "output_type": "stream",
     "text": [
      "2020-05-12 00:34:36,698 :: tornado.application - ERROR - Uncaught exception GET /status/ws (::1)\n",
      "HTTPServerRequest(protocol='http', host='localhost:8787', method='GET', uri='/status/ws', version='HTTP/1.1', remote_ip='::1')\n",
      "Traceback (most recent call last):\n",
      "  File \"/home/hy180/anaconda3/lib/python3.7/site-packages/tornado/websocket.py\", line 956, in _accept_connection\n",
      "    open_result = handler.open(*handler.open_args, **handler.open_kwargs)\n",
      "  File \"/home/hy180/anaconda3/lib/python3.7/site-packages/bokeh/server/views/ws.py\", line 135, in open\n",
      "    raise ProtocolError(\"Token is expired.\")\n",
      "bokeh.protocol.exceptions.ProtocolError: Token is expired.\n",
      "2020-05-12 00:47:15,464 :: tornado.application - ERROR - Uncaught exception GET /status/ws (::1)\n",
      "HTTPServerRequest(protocol='http', host='localhost:8787', method='GET', uri='/status/ws', version='HTTP/1.1', remote_ip='::1')\n",
      "Traceback (most recent call last):\n",
      "  File \"/home/hy180/anaconda3/lib/python3.7/site-packages/tornado/websocket.py\", line 956, in _accept_connection\n",
      "    open_result = handler.open(*handler.open_args, **handler.open_kwargs)\n",
      "  File \"/home/hy180/anaconda3/lib/python3.7/site-packages/bokeh/server/views/ws.py\", line 135, in open\n",
      "    raise ProtocolError(\"Token is expired.\")\n",
      "bokeh.protocol.exceptions.ProtocolError: Token is expired.\n"
     ]
    },
    {
     "name": "stdout",
     "output_type": "stream",
     "text": [
      "done with tremor\n"
     ]
    }
   ],
   "source": [
    "for label in ['dyskinesia', 'on_off', 'tremor']:\n",
    "    print(f'working on {label}')\n",
    "\n",
    "    id_cols = ['measurement_id', 'samp_id', 'id']\n",
    "    labeled_samps = df.dropna(subset=[label])\n",
    "\n",
    "    y = df.loc[labeled_samps.index, label].astype('int')\n",
    "    X = labeled_samps.drop(columns=[*label_cols, *id_cols])\n",
    "\n",
    "    search = RandomizedSearchCV(pipe, param_grid, n_iter=20, scoring=metric, cv=cv, refit=False, scheduler=client)\n",
    "    cv_fit = search.fit(X, y)\n",
    "    cv_results = pd.DataFrame(cv_fit.cv_results_)\n",
    "\n",
    "    resultset_name = f'{dataset}_subj-{subj}_{type(model).__name__}_{label}'\n",
    "    cv_results.to_csv(f'performance/cv_paramsweeps/{resultset_name}.csv')\n",
    "    win_params = cv_results.loc[cv_results.rank_test_score == 1, 'params'].values[0]\n",
    "    winner = pipe.set_params(**win_params)\n",
    "    with open(f'models/paramsweep_winners/{resultset_name}.model', 'wb') as f:\n",
    "        dill.dump(winner, f)\n",
    "    print(f'done with {label}')"
   ]
  },
  {
   "cell_type": "markdown",
   "metadata": {},
   "source": [
    "### Dask debugging "
   ]
  },
  {
   "cell_type": "code",
   "execution_count": null,
   "metadata": {},
   "outputs": [],
   "source": [
    "# Pull up erring key\n",
    "err = client.futures[\"('score-b0e3729a01d6f20aec7498c297e3c3b1', 24, 2)\"]\n",
    "key, err = client.futures.popitem()\n",
    "# keys, states = [*zip(*[*client.futures.items()])]"
   ]
  },
  {
   "cell_type": "code",
   "execution_count": null,
   "metadata": {},
   "outputs": [],
   "source": [
    "import traceback as tb\n",
    "tb.print_tb(err.traceback)\n",
    "print(err.exception)"
   ]
  },
  {
   "cell_type": "markdown",
   "metadata": {},
   "source": [
    "## Single train-test split for evaluation"
   ]
  },
  {
   "cell_type": "code",
   "execution_count": 28,
   "metadata": {},
   "outputs": [],
   "source": [
    "import ast\n",
    "\n",
    "cv_results = pd.read_csv(f'performance/cv_paramsweeps/{dataset}_subj-{subj}_{type(model).__name__}_{label}.csv')\n",
    "win_params = ast.literal_eval(cv_results.loc[cv_results.rank_test_score == 1, 'params'].values[0])\n",
    "winner = pipe.set_params(**win_params)"
   ]
  },
  {
   "cell_type": "code",
   "execution_count": 29,
   "metadata": {},
   "outputs": [],
   "source": [
    "X_c = X.compute().reset_index(drop=True)\n",
    "y_c = y.compute().reset_index(drop=True)\n",
    "samp_map = labeled_samps.loc[:, 'samp_id'].compute().reset_index(drop=True)\n",
    "\n",
    "x_train, x_test, y_train, y_test = model_selection.train_test_split(X_c, y_c, test_size=.25, stratify=y_c)"
   ]
  },
  {
   "cell_type": "code",
   "execution_count": 30,
   "metadata": {},
   "outputs": [
    {
     "name": "stdout",
     "output_type": "stream",
     "text": [
      "[Pipeline] ............ (step 1 of 3) Processing scaler, total=   1.7s\n",
      "[Pipeline] .......... (step 2 of 3) Processing f_select, total=   0.1s\n",
      "[Pipeline] ............. (step 3 of 3) Processing model, total= 2.0min\n"
     ]
    },
    {
     "data": {
      "image/png": "[encoded data removed]",
      "text/plain": [
       "<Figure size 1080x432 with 3 Axes>"
      ]
     },
     "metadata": {
      "needs_background": "light"
     },
     "output_type": "display_data"
    }
   ],
   "source": [
    "with joblib.parallel_backend('loky'):\n",
    "    winner.fit(x_train, y_train)\n",
    "    pred = winner.predict(x_test)\n",
    "\n",
    "main.plot_performance(y_test, pred)"
   ]
  },
  {
   "cell_type": "code",
   "execution_count": 22,
   "metadata": {
    "collapsed": true
   },
   "outputs": [
    {
     "data": {
      "text/plain": [
       "rms__change_quantiles__f_agg_\"var\"__isabs_True__qh_1.0__ql_0.0     0.006287\n",
       "rms__quantile__q_0.7                                               0.006326\n",
       "rms__cid_ce__normalize_False                                       0.006357\n",
       "rms__change_quantiles__f_agg_\"mean\"__isabs_True__qh_1.0__ql_0.0    0.006506\n",
       "rms__autocorrelation__lag_2                                        0.006634\n",
       "rms__mean_abs_change                                               0.006706\n",
       "rms__fft_aggregated__aggtype_\"centroid\"                            0.006899\n",
       "rms__absolute_sum_of_changes                                       0.006959\n",
       "rms__change_quantiles__f_agg_\"mean\"__isabs_True__qh_1.0__ql_0.2    0.007260\n",
       "rms__quantile__q_0.6                                               0.007392\n",
       "rms__partial_autocorrelation__lag_2                                0.007445\n",
       "rms__fft_aggregated__aggtype_\"kurtosis\"                            0.007606\n",
       "rms__autocorrelation__lag_3                                        0.007884\n",
       "rms__quantile__q_0.2                                               0.011326\n",
       "rms__linear_trend__attr_\"stderr\"                                   0.014445\n",
       "rms__standard_deviation                                            0.015529\n",
       "rms__fft_coefficient__coeff_0__attr_\"real\"                         0.019592\n",
       "rms__sum_values                                                    0.022848\n",
       "rms__mean                                                          0.023134\n",
       "rms__fft_coefficient__coeff_0__attr_\"abs\"                          0.028233\n",
       "dtype: float64"
      ]
     },
     "execution_count": 22,
     "metadata": {},
     "output_type": "execute_result"
    }
   ],
   "source": [
    "pd.Series(data=winner.named_steps['model'].regressor_.feature_importances_,\n",
    "          index=X.columns[winner.named_steps['f_select'].get_support()]).sort_values().iloc[-20:]"
   ]
  },
  {
   "cell_type": "markdown",
   "metadata": {},
   "source": [
    "###  Combine window predictions using mean"
   ]
  },
  {
   "cell_type": "code",
   "execution_count": 31,
   "metadata": {
    "scrolled": false
   },
   "outputs": [
    {
     "data": {
      "image/png": "[encoded data removed]",
      "text/plain": [
       "<Figure size 1080x432 with 3 Axes>"
      ]
     },
     "metadata": {
      "needs_background": "light"
     },
     "output_type": "display_data"
    }
   ],
   "source": [
    "# Ensemble prediction by taking mean of window predictions \n",
    "ensem_pred = pd.DataFrame({'samp_id': samp_map[y_test.index], 'pred': pred}).groupby('samp_id').median()\n",
    "result = ensem_pred.join(labels.loc[labels.measurement_id.isin(ensem_pred.index)].set_index('measurement_id')[label])\n",
    "main.plot_performance(result[label], result.pred)"
   ]
  },
  {
   "cell_type": "markdown",
   "metadata": {},
   "source": [
    "#### Look at range of predictions on single observation"
   ]
  },
  {
   "cell_type": "code",
   "execution_count": 33,
   "metadata": {},
   "outputs": [
    {
     "data": {
      "text/plain": [
       "Text(0.5, 1.0, '7259459c-3242-474e-89ad-28c4bae46b87 actual: 2.0')"
      ]
     },
     "execution_count": 33,
     "metadata": {},
     "output_type": "execute_result"
    },
    {
     "data": {
      "image/png": "[encoded data removed]",
      "text/plain": [
       "<Figure size 432x288 with 1 Axes>"
      ]
     },
     "metadata": {
      "needs_background": "light"
     },
     "output_type": "display_data"
    }
   ],
   "source": [
    "# Look at single \n",
    "s = samp_map.sample().values[0]\n",
    "d = pd.DataFrame({'samp_id': samp_map[y_test.index], 'pred': pred})\n",
    "ax = sns.distplot(d[d.samp_id == s].pred, rug=True)\n",
    "ax.set_title(f'{s} actual: {labels[labels.measurement_id == s][label].values[0]}')"
   ]
  },
  {
   "cell_type": "code",
   "execution_count": 179,
   "metadata": {},
   "outputs": [
    {
     "data": {
      "text/plain": [
       "89acf665-fe65-4251-bb91-1f5dbf7b4c6a    238\n",
       "9446b6f3-6c09-4366-8b60-ac3d10387880    238\n",
       "d44b61dc-6440-4b80-adb7-488104fa7cbe    238\n",
       "fb82d4fa-d118-4d5b-ae61-46bfdfb91247    238\n",
       "7a5aaf70-b362-4cab-8ad2-10a5edfc4a39    238\n",
       "                                       ... \n",
       "b5098d2c-fdec-485c-a855-bd5cd7ff68ea     31\n",
       "92a5282f-27d2-4608-9e23-cfe3ac6863df     30\n",
       "b4b4486b-ecfb-43a9-a09f-0e1f613b161c     29\n",
       "6e412bc6-0861-48c3-875d-c7b2e5edafc9     21\n",
       "2559e082-f3c1-4824-808f-a9c3eb4a8fe5      1\n",
       "Name: samp_id, Length: 274, dtype: int64"
      ]
     },
     "execution_count": 179,
     "metadata": {},
     "output_type": "execute_result"
    }
   ],
   "source": [
    "samp_map.value_counts()"
   ]
  },
  {
   "cell_type": "code",
   "execution_count": 224,
   "metadata": {},
   "outputs": [
    {
     "data": {
      "text/plain": [
       "array([1.44505415, 2.16233382])"
      ]
     },
     "execution_count": 224,
     "metadata": {},
     "output_type": "execute_result"
    }
   ],
   "source": [
    "np.percentile(d[d.samp_id == s].pred, [25, 75])"
   ]
  },
  {
   "cell_type": "code",
   "execution_count": 171,
   "metadata": {},
   "outputs": [
    {
     "data": {
      "text/plain": [
       "<matplotlib.axes._subplots.AxesSubplot at 0x7efebc89ad90>"
      ]
     },
     "execution_count": 171,
     "metadata": {},
     "output_type": "execute_result"
    },
    {
     "data": {
      "image/png": "[encoded data removed]",
      "text/plain": [
       "<Figure size 432x288 with 1 Axes>"
      ]
     },
     "metadata": {
      "needs_background": "light"
     },
     "output_type": "display_data"
    }
   ],
   "source": [
    "sns.countplot(labels[labels.measurement_id.isin(samp_map.unique())][label])"
   ]
  },
  {
   "cell_type": "markdown",
   "metadata": {},
   "source": [
    "# Baseline for reference"
   ]
  },
  {
   "cell_type": "code",
   "execution_count": 18,
   "metadata": {
    "tags": [
     "#data"
    ]
   },
   "outputs": [],
   "source": [
    "# label = 'dyskinesia'\n",
    "labeled_samps = df.dropna(subset=[label]).drop(columns=[*label_cols, *id_cols])\n",
    "\n",
    "y = df.loc[labeled_samps.index, label].astype('int')\n",
    "metric = metrics.make_scorer(metrics.mean_squared_error, greater_is_better=False)"
   ]
  },
  {
   "cell_type": "code",
   "execution_count": 32,
   "metadata": {
    "scrolled": false
   },
   "outputs": [
    {
     "data": {
      "image/png": "[encoded data removed]",
      "text/plain": [
       "<Figure size 1080x432 with 3 Axes>"
      ]
     },
     "metadata": {
      "needs_background": "light"
     },
     "output_type": "display_data"
    }
   ],
   "source": [
    "# patient-specific mean predictor\n",
    "subj_means = labels.groupby('subject_id').mean()\n",
    "X_subjs = labels[labels.measurement_id.isin(samp_map.unique())][['subject_id']]\n",
    "actuals = labels[labels.measurement_id.isin(samp_map.unique())][label]\n",
    "naive_pred = X_subjs.merge(subj_means[[label]], left_on='subject_id', right_index=True).rename(columns={label: 'prediction'})\n",
    "main.plot_performance(actuals, naive_pred.prediction)"
   ]
  },
  {
   "cell_type": "markdown",
   "metadata": {},
   "source": [
    "# Predictions on test set"
   ]
  },
  {
   "cell_type": "code",
   "execution_count": null,
   "metadata": {},
   "outputs": [],
   "source": [
    "import ast\n",
    "\n",
    "cv_results = pd.read_csv(f'performance/cv_paramsweeps/{dataset}_{type(model).__name__}_{label}.csv')\n",
    "win_params = ast.literal_eval(cv_results.loc[cv_results.rank_test_score == 1, 'params'].values[0])\n",
    "winner = pipe.set_params(**win_params)"
   ]
  },
  {
   "cell_type": "code",
   "execution_count": null,
   "metadata": {},
   "outputs": [],
   "source": [
    "test_index = pd.read_csv(f'test_predictions/sub_template_{label}.csv', index_col=0).index\n",
    "test_features_df = pd.concat([\n",
    "    pd.read_csv('extracted_features/tsfeatures_cis_test.csv', index_col=0), \n",
    "    pd.read_csv('extracted_features/tsfeatures_real_test.csv', index_col=0)\n",
    "]).drop(columns=drop_cols).reindex(test_index)\n",
    "\n",
    "test_subjs = pd.concat([\n",
    "    pd.read_csv('data/test_set/cis-pd/cis-pd.CIS-PD_Test_Data_IDs.csv', index_col=0), \n",
    "    pd.read_csv('data/test_set/real-pd/real-pd.REAL-PD_Test_Data_IDs.csv', index_col=0)\n",
    "]).reindex(test_index)"
   ]
  },
  {
   "cell_type": "code",
   "execution_count": null,
   "metadata": {},
   "outputs": [],
   "source": [
    "# Predict patient-specific mean if data not available\n",
    "nodata_obs = test_subjs.loc[test_features_df[test_features_df.isna().sum(axis=1) > 0].index]\n",
    "nodata_predictions = nodata_obs.join(subj_means, on='subject_id')[[label]].rename({label: 'prediction'}, axis=1)"
   ]
  },
  {
   "cell_type": "code",
   "execution_count": null,
   "metadata": {},
   "outputs": [],
   "source": [
    "X = test_features_df.dropna(axis='index')\n",
    "\n",
    "test_predictions = winner.predict(X)\n",
    "test_predictions_df = pd.concat([\n",
    "    pd.DataFrame(index=X.index, data={'prediction': test_predictions}),\n",
    "    nodata_predictions,\n",
    "], axis=0)"
   ]
  },
  {
   "cell_type": "code",
   "execution_count": null,
   "metadata": {},
   "outputs": [],
   "source": [
    "test_predictions_df.to_csv(f'test_predictions/test_predictions_{label}.csv', index=True)"
   ]
  },
  {
   "cell_type": "markdown",
   "metadata": {},
   "source": [
    "# Dimensionality Reduction"
   ]
  },
  {
   "cell_type": "code",
   "execution_count": null,
   "metadata": {},
   "outputs": [],
   "source": [
    "features_df['ord'] = features_df.groupby(['samp_id']).cumcount()"
   ]
  },
  {
   "cell_type": "code",
   "execution_count": null,
   "metadata": {},
   "outputs": [],
   "source": [
    "features_df.reset_index(inplace=True)\n",
    "features_df.set_index(['samp_id', 'id'], inplace=True)"
   ]
  },
  {
   "cell_type": "code",
   "execution_count": null,
   "metadata": {},
   "outputs": [],
   "source": [
    "features_df.drop(columns='index', inplace=True)"
   ]
  },
  {
   "cell_type": "code",
   "execution_count": null,
   "metadata": {},
   "outputs": [],
   "source": [
    "valid_samps = labels[['measurement_id', 'dyskinesia']]"
   ]
  },
  {
   "cell_type": "code",
   "execution_count": null,
   "metadata": {},
   "outputs": [],
   "source": [
    "label = 'dyskinesia'\n",
    "\n",
    "valid_samps = labels.dropna(subset=['dyskinesia'])['measurement_id']\n",
    "X = features_df[features_df.index.get_level_values('samp_id').isin(valid_samps) & ~np.isinf(features_df).any(axis=1)]#[features_df.ord < 21].groupby(['samp_id', 'ord']).sum().unstack()"
   ]
  },
  {
   "cell_type": "code",
   "execution_count": null,
   "metadata": {},
   "outputs": [],
   "source": [
    "pca = decomposition.PCA(n_components=4)\n",
    "fut = client.submit(pca.fit_transform, X)"
   ]
  },
  {
   "cell_type": "code",
   "execution_count": null,
   "metadata": {},
   "outputs": [],
   "source": [
    "proj = client.gather(fut)"
   ]
  },
  {
   "cell_type": "code",
   "execution_count": null,
   "metadata": {},
   "outputs": [],
   "source": [
    "y = labels[['measurement_id', label]].set_index('measurement_id').reindex(X.index.get_level_values('samp_id'))"
   ]
  },
  {
   "cell_type": "code",
   "execution_count": null,
   "metadata": {},
   "outputs": [],
   "source": [
    "fig = plt.figure(figsize=(8, 8))\n",
    "_ = sns.scatterplot(x=proj[:, 0], y=proj[:, 3], hue=y.dyskinesia, legend='full')"
   ]
  },
  {
   "cell_type": "code",
   "execution_count": null,
   "metadata": {},
   "outputs": [],
   "source": [
    "label = 'subject_id'\n",
    "\n",
    "X = f_select.fit_transform(scaler.fit_transform(labeled_samps), y=y)\n",
    "pca = decomposition.FastICA(n_components=2)\n",
    "proj = pca.fit_transform(X)\n",
    "fig = plt.figure(figsize=(8, 8))\n",
    "_ = sns.scatterplot(x=proj[:, 0], y=proj[:, 1], hue=df.loc[features.index, label], legend='full')"
   ]
  },
  {
   "cell_type": "markdown",
   "metadata": {},
   "source": [
    "# Archived cells "
   ]
  },
  {
   "cell_type": "code",
   "execution_count": null,
   "metadata": {},
   "outputs": [],
   "source": [
    "# Local cluster for debugging\n",
    "try:\n",
    "    local_cluster.close()\n",
    "    local_client.close()\n",
    "except NameError:\n",
    "    pass\n",
    "finally:\n",
    "    local_cluster = LocalCluster(n_workers=4, threads_per_worker=1, dashboard_address='0.0.0.0:8786')\n",
    "    local_client = Client(local_cluster)\n",
    "    local_cluster.adapt(minimum=0, maximum=4)"
   ]
  }
 ],
 "metadata": {
  "celltoolbar": "Tags",
  "kernelspec": {
   "display_name": "Python 3",
   "language": "python",
   "name": "python3"
  },
  "language_info": {
   "codemirror_mode": {
    "name": "ipython",
    "version": 3
   },
   "file_extension": ".py",
   "mimetype": "text/x-python",
   "name": "python",
   "nbconvert_exporter": "python",
   "pygments_lexer": "ipython3",
   "version": "3.7.7"
  },
  "toc": {
   "base_numbering": 1,
   "nav_menu": {},
   "number_sections": true,
   "sideBar": true,
   "skip_h1_title": false,
   "title_cell": "Table of Contents",
   "title_sidebar": "Contents",
   "toc_cell": false,
   "toc_position": {
    "height": "170px",
    "left": "47px",
    "top": "141.133px",
    "width": "165px"
   },
   "toc_section_display": true,
   "toc_window_display": true
  }
 },
 "nbformat": 4,
 "nbformat_minor": 4
}
