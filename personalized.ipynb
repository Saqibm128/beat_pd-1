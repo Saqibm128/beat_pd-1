{
 "cells": [
  {
   "cell_type": "code",
   "execution_count": 4,
   "metadata": {},
   "outputs": [],
   "source": [
    "import glob\n",
    "import os\n",
    "import numpy as np\n",
    "import pandas as pd\n",
    "import seaborn as sns\n",
    "import joblib\n",
    "import dill\n",
    "import dask, dask_ml\n",
    "import dask.dataframe as dd\n",
    "import ast\n",
    "\n",
    "from importlib import reload\n",
    "from scipy import signal, stats\n",
    "from tqdm.auto import tqdm\n",
    "from sklearn import neighbors, linear_model, ensemble, decomposition #svm, neural_network\n",
    "from sklearn import feature_selection, model_selection, metrics, dummy, pipeline, preprocessing, compose\n",
    "from sklearn.base import clone\n",
    "from dask_ml.model_selection import RandomizedSearchCV\n",
    "from matplotlib import pyplot as plt\n",
    "from src import main, feature_model\n",
    "from itertools import product"
   ]
  },
  {
   "cell_type": "code",
   "execution_count": 6,
   "metadata": {},
   "outputs": [],
   "source": [
    "from dask_jobqueue import SLURMCluster\n",
    "from distributed import Client, LocalCluster"
   ]
  },
  {
   "cell_type": "code",
   "execution_count": 7,
   "metadata": {},
   "outputs": [],
   "source": [
    "try:\n",
    "    cluster.close()\n",
    "    client.close()\n",
    "except NameError:\n",
    "    pass\n",
    "finally:\n",
    "#     Uncomment for SLURM execution\n",
    "#     cluster = SLURMCluster(queue='short', \n",
    "#                            cores=4, \n",
    "#                            memory='10gB', \n",
    "#                            walltime='1:00:00', \n",
    "#                            death_timeout=60, \n",
    "#                           )\n",
    "#     cluster.adapt(minimum=1, maximum=100)\n",
    "    cluster = LocalCluster()\n",
    "    client = Client(cluster)\n",
    "    cluster.adapt(minimum=0, maximum=3)"
   ]
  },
  {
   "cell_type": "markdown",
   "metadata": {},
   "source": [
    "# Load data"
   ]
  },
  {
   "cell_type": "code",
   "execution_count": 9,
   "metadata": {},
   "outputs": [],
   "source": [
    "label_cols = ['on_off', 'dyskinesia', 'tremor', 'subject_id']\n",
    "id_cols = ['measurement_id', 'samp_id', 'id']\n",
    "\n",
    "labels = pd.concat([\n",
    "    pd.read_csv('data/cis-pd/data_labels/CIS-PD_Training_Data_IDs_Labels.csv'),\n",
    "    pd.read_csv('data/real-pd/data_labels/REAL-PD_Training_Data_IDs_Labels.csv'),\n",
    "], axis=0).astype({'subject_id': str})\n",
    "subj_means = labels.groupby('subject_id').mean()"
   ]
  },
  {
   "cell_type": "code",
   "execution_count": 14,
   "metadata": {},
   "outputs": [],
   "source": [
    "# These features don't compute for a number of observations\n",
    "drop_cols = ['rms__friedrich_coefficients__m_3__r_30__coeff_0',\n",
    "       'rms__friedrich_coefficients__m_3__r_30__coeff_1',\n",
    "       'rms__friedrich_coefficients__m_3__r_30__coeff_2',\n",
    "       'rms__friedrich_coefficients__m_3__r_30__coeff_3',\n",
    "       'rms__max_langevin_fixed_point__m_3__r_30']\n",
    "# These fft features are null for our size of windows\n",
    "null_fft_cols = ['rms__fft_coefficient__coeff_%d__attr_\"%s\"' % (n, s) \n",
    "                     for n, s in product(range(51, 100), ['abs', 'angle', 'imag', 'real'])]\n",
    "# Sample entropy can take inf which screws with models\n",
    "inf_cols = ['rms__sample_entropy']"
   ]
  },
  {
   "cell_type": "code",
   "execution_count": 62,
   "metadata": {},
   "outputs": [
    {
     "name": "stdout",
     "output_type": "stream",
     "text": [
      "0 rows dropped due to nans in features\n"
     ]
    }
   ],
   "source": [
    "dataset = 'cis-tsfeatures'\n",
    "features_df = dd.read_parquet(f'extracted_features/ensem/{dataset}.parquet')\n",
    "\n",
    "df = features_df.drop(columns=[*drop_cols, *null_fft_cols, *inf_cols]).dropna().merge(labels, right_on='measurement_id', left_on='samp_id')\n",
    "print('%d rows dropped due to nans in features' % (features_df.shape[0] - df.shape[0]).compute())\n",
    "\n",
    "dfc = client.persist(df)"
   ]
  },
  {
   "cell_type": "markdown",
   "metadata": {},
   "source": [
    "# Model"
   ]
  },
  {
   "cell_type": "markdown",
   "metadata": {},
   "source": [
    "## Model spec"
   ]
  },
  {
   "cell_type": "code",
   "execution_count": 8,
   "metadata": {
    "tags": [
     "#pipeline"
    ]
   },
   "outputs": [],
   "source": [
    "scaler = preprocessing.RobustScaler(quantile_range=(1, 99))\n",
    "scaler_pg = {'scaler__quantile_range': [(.1, 99.9), (.5, 99.5), (1, 99), (5, 95), (10, 90)],}\n",
    "\n",
    "# Keep features w/ variance in top x%ile \n",
    "var = lambda X, y: np.var(X, axis=0)\n",
    "f_select = feature_selection.SelectPercentile(var, percentile=95)\n",
    "f_select_pg = {'f_select__percentile': stats.uniform(0, 100)}\n",
    "\n",
    "model = ensemble.RandomForestRegressor()\n",
    "model_pg = {'model__regressor__n_estimators': stats.randint(50, 100), 'model__regressor__max_depth': stats.randint(10, 25), 'model__regressor__max_features': [.25, 'auto']}\n",
    "\n",
    "clip_out = preprocessing.FunctionTransformer(np.clip, kw_args={'a_min': 0, 'a_max': 4})\n",
    "clipped_model = compose.TransformedTargetRegressor(regressor=model, inverse_func=clip_out.transform)\n",
    "\n",
    "pipe = pipeline.Pipeline([\n",
    "    ('scaler', scaler), \n",
    "    ('f_select', f_select), \n",
    "    ('model', clipped_model),\n",
    "], verbose=1)\n",
    "\n",
    "param_grid = {\n",
    "    **scaler_pg,\n",
    "    **f_select_pg,\n",
    "    **model_pg,\n",
    "}\n",
    "\n",
    "metric = metrics.make_scorer(metrics.mean_squared_error, greater_is_better=False)\n",
    "\n",
    "cv = model_selection.StratifiedKFold(shuffle=True)"
   ]
  },
  {
   "cell_type": "markdown",
   "metadata": {},
   "source": [
    "## Model eval"
   ]
  },
  {
   "cell_type": "code",
   "execution_count": null,
   "metadata": {
    "scrolled": true,
    "tags": [
     "#model-fit"
    ]
   },
   "outputs": [],
   "source": [
    "cis_subjs = ['1004', '1006', '1007', '1019', '1020', '1023', '1032', '1034', '1038', '1039', '1043', '1044', '1046', '1048', '1049', '1051',]\n",
    "real_subjs = ['hbv013', 'hbv038', 'hbv017', 'hbv023', 'hbv051', 'hbv077', 'hbv054', 'hbv014', 'hbv018', 'hbv043', 'hbv022', 'hbv012',]\n",
    "\n",
    "# To run for REAL-PD, change above value of dataset to 'real_watch_accel-tsfeatures', and iterate over real_subjs instead\n",
    "for subj in cis_subjs:\n",
    "    print(f'<{subj}>')\n",
    "    subj_df = df[df.subject_id == subj]\n",
    "    subj_df = client.persist(subj_df)\n",
    "    \n",
    "    for label in ['dyskinesia', 'on_off', 'tremor']:\n",
    "        print(f'working on {label}')\n",
    "\n",
    "        id_cols = ['measurement_id', 'samp_id', 'id']\n",
    "        labeled_samps = subj_df.dropna(subset=[label])\n",
    "        if not labeled_samps.shape[0].compute(): \n",
    "            print(f'skipping {label}')\n",
    "            continue \n",
    "\n",
    "        y = subj_df.loc[labeled_samps.index, label].astype('int')\n",
    "        X = labeled_samps.drop(columns=[*label_cols, *id_cols])\n",
    "\n",
    "        search = RandomizedSearchCV(pipe, param_grid, n_iter=20, scoring=metric, cv=cv, refit=False, scheduler=client)\n",
    "        cv_fit = search.fit(X, y)\n",
    "        cv_results = pd.DataFrame(cv_fit.cv_results_)\n",
    "\n",
    "        resultset_name = f'{dataset}_subj-{subj}_{type(model).__name__}_{label}'\n",
    "        cv_results.to_csv(f'performance/cv_paramsweeps/{resultset_name}.csv')\n",
    "        win_params = cv_results.loc[cv_results.rank_test_score == 1, 'params'].values[0]\n",
    "        winner = pipe.set_params(**win_params)\n",
    "        with open(f'models/paramsweep_winners/{resultset_name}.model', 'wb') as f:\n",
    "            dill.dump(winner, f)\n",
    "        print(f'done with {label}')\n",
    "        \n",
    "    try:\n",
    "        cluster.close()\n",
    "        client.close()\n",
    "    except NameError:\n",
    "        pass\n",
    "    finally:\n",
    "        cluster = SLURMCluster(queue='short', \n",
    "                               cores=4, \n",
    "                               memory='8gB', \n",
    "                               walltime='1:00:00', \n",
    "                               death_timeout=60, \n",
    "                              )\n",
    "        client = Client(cluster)\n",
    "        cluster.adapt(minimum=1, maximum=200, wait_count=5)\n",
    "        \n",
    "    print(f'</{subj}>')"
   ]
  },
  {
   "cell_type": "markdown",
   "metadata": {},
   "source": [
    "## Single train-test split for evaluation"
   ]
  },
  {
   "cell_type": "code",
   "execution_count": 47,
   "metadata": {},
   "outputs": [],
   "source": [
    "import ast\n",
    "\n",
    "cv_results = pd.read_csv(f'performance/cv_paramsweeps/{dataset}_subj-{subj}_{type(model).__name__}_{label}.csv')\n",
    "win_params = ast.literal_eval(cv_results.loc[cv_results.rank_test_score == 1, 'params'].values[0])\n",
    "winner = pipe.set_params(**win_params)"
   ]
  },
  {
   "cell_type": "code",
   "execution_count": 101,
   "metadata": {},
   "outputs": [],
   "source": [
    "X_c = X.compute().reset_index(drop=True)\n",
    "y_c = y.compute().reset_index(drop=True)\n",
    "samp_map = df.loc[:, 'samp_id'].compute().reset_index(drop=True)\n",
    "\n",
    "x_train, x_test, y_train, y_test = model_selection.train_test_split(X_c, y_c, test_size=.25, stratify=y_c)"
   ]
  },
  {
   "cell_type": "code",
   "execution_count": 106,
   "metadata": {
    "scrolled": false
   },
   "outputs": [
    {
     "data": {
      "image/png": "[encoded data removed]",
      "text/plain": [
       "<Figure size 1080x432 with 3 Axes>"
      ]
     },
     "metadata": {
      "needs_background": "light"
     },
     "output_type": "display_data"
    }
   ],
   "source": [
    "with joblib.parallel_backend('loky'):\n",
    "    winner.fit(x_train, y_train)\n",
    "    pred = winner.predict(x_test)\n",
    "\n",
    "main.plot_performance(y_test, pred)"
   ]
  },
  {
   "cell_type": "code",
   "execution_count": 22,
   "metadata": {
    "collapsed": true
   },
   "outputs": [
    {
     "data": {
      "text/plain": [
       "rms__change_quantiles__f_agg_\"var\"__isabs_True__qh_1.0__ql_0.0     0.006287\n",
       "rms__quantile__q_0.7                                               0.006326\n",
       "rms__cid_ce__normalize_False                                       0.006357\n",
       "rms__change_quantiles__f_agg_\"mean\"__isabs_True__qh_1.0__ql_0.0    0.006506\n",
       "rms__autocorrelation__lag_2                                        0.006634\n",
       "rms__mean_abs_change                                               0.006706\n",
       "rms__fft_aggregated__aggtype_\"centroid\"                            0.006899\n",
       "rms__absolute_sum_of_changes                                       0.006959\n",
       "rms__change_quantiles__f_agg_\"mean\"__isabs_True__qh_1.0__ql_0.2    0.007260\n",
       "rms__quantile__q_0.6                                               0.007392\n",
       "rms__partial_autocorrelation__lag_2                                0.007445\n",
       "rms__fft_aggregated__aggtype_\"kurtosis\"                            0.007606\n",
       "rms__autocorrelation__lag_3                                        0.007884\n",
       "rms__quantile__q_0.2                                               0.011326\n",
       "rms__linear_trend__attr_\"stderr\"                                   0.014445\n",
       "rms__standard_deviation                                            0.015529\n",
       "rms__fft_coefficient__coeff_0__attr_\"real\"                         0.019592\n",
       "rms__sum_values                                                    0.022848\n",
       "rms__mean                                                          0.023134\n",
       "rms__fft_coefficient__coeff_0__attr_\"abs\"                          0.028233\n",
       "dtype: float64"
      ]
     },
     "execution_count": 22,
     "metadata": {},
     "output_type": "execute_result"
    }
   ],
   "source": [
    "pd.Series(data=winner.named_steps['model'].regressor_.feature_importances_,\n",
    "          index=X.columns[winner.named_steps['f_select'].get_support()]).sort_values().iloc[-20:]"
   ]
  },
  {
   "cell_type": "markdown",
   "metadata": {},
   "source": [
    "###  Combine window predictions using mean"
   ]
  },
  {
   "cell_type": "code",
   "execution_count": null,
   "metadata": {
    "scrolled": false
   },
   "outputs": [],
   "source": [
    "# Ensemble prediction by taking mean of window predictions \n",
    "ensem_pred = pd.DataFrame({'samp_id': samp_map[y_test.index], 'pred': pred}).groupby('samp_id').median()\n",
    "result = ensem_pred.join(labels.loc[labels.measurement_id.isin(ensem_pred.index)].set_index('measurement_id')[label])\n",
    "main.plot_performance(result[label], result.pred)"
   ]
  },
  {
   "cell_type": "markdown",
   "metadata": {},
   "source": [
    "# Baseline for reference"
   ]
  },
  {
   "cell_type": "code",
   "execution_count": 18,
   "metadata": {
    "tags": [
     "#data"
    ]
   },
   "outputs": [],
   "source": [
    "label = 'dyskinesia'\n",
    "labeled_samps = df.dropna(subset=[label]).drop(columns=[*label_cols, *id_cols])\n",
    "\n",
    "y = df.loc[labeled_samps.index, label].astype('int')\n",
    "metric = metrics.make_scorer(metrics.mean_squared_error, greater_is_better=False)"
   ]
  },
  {
   "cell_type": "code",
   "execution_count": null,
   "metadata": {
    "scrolled": true
   },
   "outputs": [],
   "source": [
    "# patient-specific mean predictor\n",
    "X_subjs = labels[labels.measurement_id.isin(samp_map.unique())][['subject_id']]\n",
    "actuals = labels[labels.measurement_id.isin(samp_map.unique())][label]\n",
    "naive_pred = X_subjs.merge(subj_means[[label]], left_on='subject_id', right_index=True).rename(columns={label: 'prediction'})\n",
    "main.plot_performance(actuals, naive_pred.prediction)"
   ]
  },
  {
   "cell_type": "markdown",
   "metadata": {},
   "source": [
    "# Train final model params"
   ]
  },
  {
   "cell_type": "code",
   "execution_count": 71,
   "metadata": {},
   "outputs": [],
   "source": [
    "def train_final_models(pair, dataset='foo', model=pipe, df=df):\n",
    "    subj, label = pair\n",
    "    try:\n",
    "        cv_results = pd.read_csv(f'performance/cv_paramsweeps/{dataset}_subj-{subj}_RandomForestRegressor_{label}.csv')\n",
    "    except FileNotFoundError:\n",
    "        # Some subject/label combos don't exist\n",
    "        return None\n",
    "    \n",
    "    model_params = ast.literal_eval(cv_results.loc[cv_results.rank_test_score == 1, 'params'].values[0])\n",
    "    model = clone(pipe).set_params(**model_params)\n",
    "\n",
    "    subj_df = df[df.subject_id == subj].dropna(subset=[label])\n",
    "    y = subj_df[label].astype('int')\n",
    "    X = subj_df.drop(columns=[*label_cols, *id_cols])\n",
    "    \n",
    "    with joblib.parallel_backend('loky'):\n",
    "        model.fit(X, y)\n",
    "        \n",
    "    with open(f'models/paramsweep_winners/FINAL-{dataset}_subj-{subj}_RandomForestRegressor_{label}.model', 'wb') as f:\n",
    "        dill.dump(model, f)\n",
    "    return True"
   ]
  },
  {
   "cell_type": "code",
   "execution_count": null,
   "metadata": {},
   "outputs": [],
   "source": [
    "cis_subjs = ['1004', '1006', '1007', '1019', '1020', '1023', '1032', '1034', '1038', '1039', '1043', '1044', '1046', '1048', '1049', '1051',]\n",
    "real_subjs = ['hbv013', 'hbv038', 'hbv017', 'hbv023', 'hbv051', 'hbv077', 'hbv054', 'hbv014', 'hbv018', 'hbv043', 'hbv022', 'hbv012',]\n",
    "label_vals = ['tremor', 'dyskinesia', 'on_off']\n",
    "\n",
    "pairs = [*product(cis_subjs, label_vals)]\n",
    "\n",
    "futures = client.map(train_final_models, pairs, dataset='cis-tsfeatures', df=dfc)"
   ]
  },
  {
   "cell_type": "code",
   "execution_count": null,
   "metadata": {},
   "outputs": [],
   "source": [
    "failed_keys, failed_futures = list(zip(*[(cis_pairs[i], f) for i, f in [(i, f) for i, f in enumerate(futures) if (f.status == 'error') or (f.status == 'pending')]]))"
   ]
  },
  {
   "cell_type": "code",
   "execution_count": 91,
   "metadata": {},
   "outputs": [],
   "source": [
    "client.cancel(futures)"
   ]
  },
  {
   "cell_type": "code",
   "execution_count": 72,
   "metadata": {
    "scrolled": true
   },
   "outputs": [],
   "source": [
    "futures = client.map(train_final_models, failed_keys, dataset='cis-tsfeatures')"
   ]
  },
  {
   "cell_type": "markdown",
   "metadata": {},
   "source": [
    "# Predictions on test set"
   ]
  },
  {
   "cell_type": "code",
   "execution_count": 17,
   "metadata": {},
   "outputs": [],
   "source": [
    "def load_final_model(subj, label):\n",
    "    model_fp = f'models/final_fitted/FINAL_subj-{subj}_RandomForestRegressor_{label}.model'\n",
    "    with open(model_fp, 'rb') as f:\n",
    "        model = dill.load(f)\n",
    "    return model"
   ]
  },
  {
   "cell_type": "code",
   "execution_count": null,
   "metadata": {},
   "outputs": [],
   "source": [
    "label_vals = ['dyskinesia', 'tremor', 'on_off']\n",
    "samp_preds = {l: [] for l in label_vals}\n",
    "\n",
    "for label in tqdm(label_vals):\n",
    "    test_samps = pd.read_csv(f'test_predictions/sub_template_{label}.csv', index_col=0).index\n",
    "    test_features_df = pd.concat([\n",
    "        pd.read_csv('extracted_features/ensem/cis_test-tsfeatures.csv'), \n",
    "        pd.read_csv('extracted_features/ensem/real_watch_accel_test-tsfeatures.csv')\n",
    "    ])\n",
    "    test_features_df = test_features_df[test_features_df.samp_id.isin(test_samps)].drop(columns=[*drop_cols, *null_fft_cols, *inf_cols])\n",
    "\n",
    "    test_subjs = pd.concat([\n",
    "        pd.read_csv('data/test_set/cis-pd/cis-pd.CIS-PD_Test_Data_IDs.csv', index_col=0), \n",
    "        pd.read_csv('data/test_set/real-pd/real-pd.REAL-PD_Test_Data_IDs.csv', index_col=0)\n",
    "    ]).astype({'subject_id': str}).reindex(test_samps).reset_index()\n",
    "    subjs = test_subjs.subject_id.unique()\n",
    "    \n",
    "    for subj in tqdm(subjs, leave=False):\n",
    "        model = load_final_model(subj, label)\n",
    "        samps = test_subjs.groupby('subject_id').get_group(subj)\n",
    "        subj_samps = test_features_df[test_features_df.samp_id.isin(samps.measurement_id)]\n",
    "        X = subj_samps.drop(columns=['id', 'samp_id']).dropna()\n",
    "        d = subj_samps.shape[0] - X.shape[0]  \n",
    "        if d:\n",
    "            print(f'{label}-{subj} :: {d} samples dropped')\n",
    "        samp_ids = subj_samps['samp_id'].reindex(X.index)\n",
    "\n",
    "        window_pred = model.predict(X)\n",
    "        pred_df = pd.DataFrame({'samp_id': samp_ids, 'pred': window_pred})\n",
    "        samp_pred = pred_df.groupby('samp_id').median()\n",
    "        samp_preds[label].append(samp_pred)\n",
    "    \n",
    "    samp_preds[label] = pd.concat(samp_preds[label]).rename(index={'samp_id':'measurement_id'}, columns={'pred': 'prediction'})\n",
    "    nopred_obs = test_subjs[test_subjs.measurement_id.isin(test_samps.difference(samp_preds[label].index))]\n",
    "    nopred_predictions = nopred_obs.join(subj_means, on='subject_id').set_index('measurement_id')[[label]].rename({label: 'prediction'}, axis=1)\n",
    "    print(f'{label} :: {nopred_obs.shape[0]} samples not modeled')\n",
    "    \n",
    "    test_predictions_df = pd.concat([\n",
    "        samp_preds[label],\n",
    "        nopred_predictions,\n",
    "    ], axis=0).rename_axis(index='measurement_id')\n",
    "    test_predictions_df.to_csv(f'test_predictions/test_predictions_{label}.csv', index=True)"
   ]
  }
 ],
 "metadata": {
  "celltoolbar": "Tags",
  "kernelspec": {
   "display_name": "Python 3",
   "language": "python",
   "name": "python3"
  },
  "language_info": {
   "codemirror_mode": {
    "name": "ipython",
    "version": 3
   },
   "file_extension": ".py",
   "mimetype": "text/x-python",
   "name": "python",
   "nbconvert_exporter": "python",
   "pygments_lexer": "ipython3",
   "version": "3.7.6"
  },
  "toc": {
   "base_numbering": 1,
   "nav_menu": {},
   "number_sections": true,
   "sideBar": true,
   "skip_h1_title": false,
   "title_cell": "Table of Contents",
   "title_sidebar": "Contents",
   "toc_cell": false,
   "toc_position": {
    "height": "170px",
    "left": "47px",
    "top": "141.133px",
    "width": "165px"
   },
   "toc_section_display": true,
   "toc_window_display": true
  }
 },
 "nbformat": 4,
 "nbformat_minor": 4
}
