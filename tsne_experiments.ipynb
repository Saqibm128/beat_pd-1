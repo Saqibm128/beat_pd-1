{
 "cells": [
  {
   "cell_type": "code",
   "execution_count": 79,
   "metadata": {},
   "outputs": [],
   "source": [
    "import pandas as pd\n",
    "import numpy as np\n",
    "from sklearn.manifold import TSNE\n",
    "import os\n",
    "from os.path import join\n",
    "import seaborn as sns\n",
    "import altair as alt"
   ]
  },
  {
   "cell_type": "code",
   "execution_count": 200,
   "metadata": {},
   "outputs": [],
   "source": [
    "DATA_DIR = \"data\"\n",
    "\n",
    "X_df = pd.read_csv(join(DATA_DIR, \"train_features.csv\"), index_col=0)\n",
    "y_df = pd.read_csv(join(DATA_DIR, \"train_labels.csv\"), index_col=0)"
   ]
  },
  {
   "cell_type": "code",
   "execution_count": 201,
   "metadata": {},
   "outputs": [
    {
     "data": {
      "text/plain": [
       "['daf11494-e6fa-4376-a78a-86c683885764',\n",
       " 'f76830fe-e0b0-463a-9162-63b00478067e',\n",
       " 'dde97977-d155-4f07-8a47-6a318bd530eb',\n",
       " '278a1441-2e3a-467d-81c5-143e0298454b',\n",
       " 'f53cfd9b-8c52-4d22-a35c-504542170ed3',\n",
       " '49202934-d5f5-4e83-8c61-c04ed0ae4a35',\n",
       " 'bb59d008-25fe-43cc-bf05-6bd6b874eea3',\n",
       " 'f4728921-8a52-468b-b6af-523108a1285f',\n",
       " '8b7abdf9-5aad-4edc-9bc4-078e29f134d6',\n",
       " '3cf49c01-0499-4bad-9167-67691711204a',\n",
       " '4a1ca52c-2895-4094-bade-246fd474762f',\n",
       " '1d624788-41fd-4c7d-b2c3-2fed920457f6',\n",
       " 'ac449a51-1819-4944-b5c3-ef42be404541',\n",
       " 'fb188ae2-2173-4137-9236-19a137a402c2',\n",
       " 'e93b52ca-83af-46fb-baad-46c934ab4edf',\n",
       " 'c05991ea-ed30-45ee-96a2-8a44d6ac0916',\n",
       " '3444e818-0ee3-4a2b-953a-f4dbc43b5d13',\n",
       " 'd1a9294c-05ad-4eac-9915-7052c2ad98a3',\n",
       " '68bf2103-4211-45e9-82d7-8b4e713b2e3b',\n",
       " '7259459c-3242-474e-89ad-28c4bae46b87',\n",
       " '8548d34c-4771-4ca4-bee4-d47bde435bdc',\n",
       " 'a47b5b1d-34b1-40ae-b03e-d1c75e054d49',\n",
       " 'adaecec4-fb45-4fcb-8056-8f5ab6116c49',\n",
       " '4b269cc2-8f0c-4816-adbf-10c0069b8833',\n",
       " '29103438-8d6c-41f8-a3b9-89fff8074b6a',\n",
       " '73dee9e5-9bec-4dd2-967b-e1bd59b0629d',\n",
       " 'e630e9fd-6518-43c0-9312-3254bcf9a8a0',\n",
       " '20f1dbcd-0954-4bfd-ad92-9bac1b15beb0',\n",
       " '0c579a72-bac5-46a2-8671-1a50620723bf',\n",
       " '8340ba3e-2a36-4bcc-bf6f-bfdc852538d0',\n",
       " 'a65ac7f5-e28d-4009-9cfb-05a06e8fa1a5',\n",
       " '74e7102c-8a25-43e5-8f23-f0cfb6a9a58f',\n",
       " '9312d505-c3c9-4d2a-88ba-2ce1d3d451a8',\n",
       " '1a90e8a3-dd3f-440a-9161-7886737e9d87',\n",
       " 'f59c374f-b39d-48d6-aef9-2f42ca3a67e4',\n",
       " '6983d20c-94b3-4694-b1f1-06931c71ef1c',\n",
       " 'dc90dc36-b4e5-43ec-b3e8-47c39c763c71',\n",
       " '18cdf618-e263-4843-9640-f41ad8ff4bde',\n",
       " 'e31db4f8-f9a5-4273-a874-4bdbc6fcae2c',\n",
       " 'e2973da8-1250-4a7c-98d5-b165570a8aeb',\n",
       " '979c5c53-30c7-4e9c-87f0-261ea0d79ffe',\n",
       " '0a439836-acf1-475b-a4dc-103e8fd5ecbc',\n",
       " '9230106e-5dcf-4034-bd54-c016f49294d8',\n",
       " '63a65c00-7d4d-4ee2-909c-84cd2d50d805',\n",
       " '1e0f16d8-3303-4c39-930b-ab3fff2c55cc',\n",
       " '66a44bdc-b216-4be1-90aa-d5d05f64ba01',\n",
       " '6110744d-3f5c-4f2e-9586-f2722352606f',\n",
       " 'c5f6bee5-4f02-4761-a848-d68f513e697e',\n",
       " '4d38808c-a2e2-40bf-9804-6cc0ad9b7383',\n",
       " '0b5f2f06-e73c-4838-9f4c-d68b909a9356',\n",
       " '85fee6b9-b3d9-4506-833b-ce5ca3a8d94f',\n",
       " 'cc0d147f-94ea-4637-91d7-d4ceceaf1728',\n",
       " '32184eb0-2e4c-49a2-8d63-c1a67f9e17a3',\n",
       " 'b34c12f1-1927-4d6b-b936-d0328aed05a7',\n",
       " 'cc7b822c-e310-46f0-a8ea-98c95fdb67a1',\n",
       " '5f9347a1-bf84-48ee-b3cc-c357401780cf',\n",
       " '610face1-43e9-4a7c-b1f2-20deba03d587',\n",
       " '5cf68c8e-0b7a-4b73-ad4f-015c7a20fb5a',\n",
       " '12513701-85b5-4278-bd15-dafae072d599',\n",
       " 'c4babc3e-cf11-42c5-93e9-7c0ccb2f2507',\n",
       " '19a3e9ea-fce1-40b7-9457-2618970beb7b',\n",
       " 'a373e8f0-8c0f-4660-b4ba-ea87bea012fe',\n",
       " '11dfbcf2-cd03-4b10-83b4-ad428153b200',\n",
       " 'e5f4f2d3-9842-462f-8b91-6ccaa6c30a33',\n",
       " 'e49db734-9ccf-4581-ae15-cbda39262bbf',\n",
       " '9152519b-4b57-43be-963c-dd7218495001',\n",
       " '855cdaf2-e00a-402d-b76b-0a3a4a10ff84',\n",
       " '7fa0d4ab-c159-4335-ad91-6dc3ec812686',\n",
       " '184ffe2e-f6c6-414d-ae43-d01bcd5568d9',\n",
       " '476d6522-cd73-43e9-81c6-66980c575453',\n",
       " 'cf15d497-b4d7-4bd4-9ba4-ae3bf0ed38b7',\n",
       " 'c7312d73-cb34-4025-b8b8-5299b4033e2f',\n",
       " '50fd9915-06d1-4871-9103-ed125ea75764',\n",
       " '1c3dda9b-984c-43b2-9686-0316e2254393',\n",
       " '631b2ad6-1b00-46f5-8d74-c0b47a2419f0',\n",
       " 'ef0da5f7-79e5-45bc-bd12-d70137054762',\n",
       " 'cc730391-146b-420f-9255-c3185061f178',\n",
       " '1e051b85-eca9-4831-b1e3-444a4cb18269',\n",
       " 'ef4b3a31-2744-4bec-996f-5c1861478c30',\n",
       " '4e996f6e-4979-4ffb-a017-112100675eed',\n",
       " '5163afe8-a6b0-4ea4-b2ba-9b4501dd5912']"
      ]
     },
     "execution_count": 201,
     "metadata": {},
     "output_type": "execute_result"
    }
   ],
   "source": [
    "m_id_1007 = y_df.loc[y_df[\"subject_id\"] == 1004].index.values.tolist()\n",
    "m_id_1007"
   ]
  },
  {
   "cell_type": "code",
   "execution_count": 202,
   "metadata": {},
   "outputs": [],
   "source": [
    "X_df = X_df.loc[X_df[\"m_id\"].isin(m_id_1007)]"
   ]
  },
  {
   "cell_type": "code",
   "execution_count": 203,
   "metadata": {},
   "outputs": [],
   "source": [
    "X_list = []\n",
    "y_list = []\n",
    "\n",
    "for m_id, m_df in X_df.groupby(\"m_id\"):\n",
    "    X_list.append(m_df[\"value\"].values)\n",
    "    y_list.append(y_df.at[m_id, \"tremor\"])\n",
    "\n",
    "X = np.stack(X_list, axis=-1).T\n",
    "y = np.array(y_list)"
   ]
  },
  {
   "cell_type": "code",
   "execution_count": 204,
   "metadata": {},
   "outputs": [],
   "source": [
    "X_embedded = TSNE(n_components=2).fit_transform(X)"
   ]
  },
  {
   "cell_type": "code",
   "execution_count": 205,
   "metadata": {},
   "outputs": [
    {
     "data": {
      "text/html": [
       "<div>\n",
       "<style scoped>\n",
       "    .dataframe tbody tr th:only-of-type {\n",
       "        vertical-align: middle;\n",
       "    }\n",
       "\n",
       "    .dataframe tbody tr th {\n",
       "        vertical-align: top;\n",
       "    }\n",
       "\n",
       "    .dataframe thead th {\n",
       "        text-align: right;\n",
       "    }\n",
       "</style>\n",
       "<table border=\"1\" class=\"dataframe\">\n",
       "  <thead>\n",
       "    <tr style=\"text-align: right;\">\n",
       "      <th></th>\n",
       "      <th>TSNE_1</th>\n",
       "      <th>TSNE_2</th>\n",
       "      <th>label</th>\n",
       "    </tr>\n",
       "  </thead>\n",
       "  <tbody>\n",
       "    <tr>\n",
       "      <th>0</th>\n",
       "      <td>-97.882126</td>\n",
       "      <td>-176.686493</td>\n",
       "      <td>0.0</td>\n",
       "    </tr>\n",
       "    <tr>\n",
       "      <th>1</th>\n",
       "      <td>-130.937973</td>\n",
       "      <td>-169.338135</td>\n",
       "      <td>1.0</td>\n",
       "    </tr>\n",
       "    <tr>\n",
       "      <th>2</th>\n",
       "      <td>122.775658</td>\n",
       "      <td>-135.529785</td>\n",
       "      <td>2.0</td>\n",
       "    </tr>\n",
       "    <tr>\n",
       "      <th>3</th>\n",
       "      <td>-39.619617</td>\n",
       "      <td>149.712677</td>\n",
       "      <td>0.0</td>\n",
       "    </tr>\n",
       "    <tr>\n",
       "      <th>4</th>\n",
       "      <td>104.768166</td>\n",
       "      <td>22.621441</td>\n",
       "      <td>0.0</td>\n",
       "    </tr>\n",
       "  </tbody>\n",
       "</table>\n",
       "</div>"
      ],
      "text/plain": [
       "       TSNE_1      TSNE_2  label\n",
       "0  -97.882126 -176.686493    0.0\n",
       "1 -130.937973 -169.338135    1.0\n",
       "2  122.775658 -135.529785    2.0\n",
       "3  -39.619617  149.712677    0.0\n",
       "4  104.768166   22.621441    0.0"
      ]
     },
     "execution_count": 205,
     "metadata": {},
     "output_type": "execute_result"
    }
   ],
   "source": [
    "tsne_data = np.stack((X_embedded[:,0], X_embedded[:,1], y), axis=-1)\n",
    "tsne_df = pd.DataFrame(data=tsne_data, columns=[\"TSNE_1\", \"TSNE_2\", \"label\"])\n",
    "tsne_df.head()"
   ]
  },
  {
   "cell_type": "code",
   "execution_count": 206,
   "metadata": {},
   "outputs": [
    {
     "data": {
      "text/plain": [
       "<matplotlib.axes._subplots.AxesSubplot at 0x1281a9460>"
      ]
     },
     "execution_count": 206,
     "metadata": {},
     "output_type": "execute_result"
    },
    {
     "data": {
      "image/png": "[encoded data removed]",
      "text/plain": [
       "<Figure size 432x288 with 1 Axes>"
      ]
     },
     "metadata": {
      "needs_background": "light"
     },
     "output_type": "display_data"
    }
   ],
   "source": [
    "sns.scatterplot(x=X_embedded[:,0], y=X_embedded[:,1], hue=y, legend=\"full\")"
   ]
  },
  {
   "cell_type": "code",
   "execution_count": 207,
   "metadata": {},
   "outputs": [
    {
     "data": {
      "text/html": [
       "\n",
       "<div id=\"altair-viz-a420f1801a824d60a4e848103db2fbe3\"></div>\n",
       "<script type=\"text/javascript\">\n",
       "  (function(spec, embedOpt){\n",
       "    let outputDiv = document.currentScript.previousElementSibling;\n",
       "    if (outputDiv.id !== \"altair-viz-a420f1801a824d60a4e848103db2fbe3\") {\n",
       "      outputDiv = document.getElementById(\"altair-viz-a420f1801a824d60a4e848103db2fbe3\");\n",
       "    }\n",
       "    const paths = {\n",
       "      \"vega\": \"https://cdn.jsdelivr.net/npm//vega@5?noext\",\n",
       "      \"vega-lib\": \"https://cdn.jsdelivr.net/npm//vega-lib?noext\",\n",
       "      \"vega-lite\": \"https://cdn.jsdelivr.net/npm//vega-lite@4.8.1?noext\",\n",
       "      \"vega-embed\": \"https://cdn.jsdelivr.net/npm//vega-embed@6?noext\",\n",
       "    };\n",
       "\n",
       "    function loadScript(lib) {\n",
       "      return new Promise(function(resolve, reject) {\n",
       "        var s = document.createElement('script');\n",
       "        s.src = paths[lib];\n",
       "        s.async = true;\n",
       "        s.onload = () => resolve(paths[lib]);\n",
       "        s.onerror = () => reject(`Error loading script: ${paths[lib]}`);\n",
       "        document.getElementsByTagName(\"head\")[0].appendChild(s);\n",
       "      });\n",
       "    }\n",
       "\n",
       "    function showError(err) {\n",
       "      outputDiv.innerHTML = `<div class=\"error\" style=\"color:red;\">${err}</div>`;\n",
       "      throw err;\n",
       "    }\n",
       "\n",
       "    function displayChart(vegaEmbed) {\n",
       "      vegaEmbed(outputDiv, spec, embedOpt)\n",
       "        .catch(err => showError(`Javascript Error: ${err.message}<br>This usually means there's a typo in your chart specification. See the javascript console for the full traceback.`));\n",
       "    }\n",
       "\n",
       "    if(typeof define === \"function\" && define.amd) {\n",
       "      requirejs.config({paths});\n",
       "      require([\"vega-embed\"], displayChart, err => showError(`Error loading script: ${err.message}`));\n",
       "    } else if (typeof vegaEmbed === \"function\") {\n",
       "      displayChart(vegaEmbed);\n",
       "    } else {\n",
       "      loadScript(\"vega\")\n",
       "        .then(() => loadScript(\"vega-lite\"))\n",
       "        .then(() => loadScript(\"vega-embed\"))\n",
       "        .catch(showError)\n",
       "        .then(() => displayChart(vegaEmbed));\n",
       "    }\n",
       "  })({\"config\": {\"view\": {\"continuousWidth\": 400, \"continuousHeight\": 300}}, \"data\": {\"name\": \"data-74ce5457a267c6246695e1f48321ac3a\"}, \"mark\": \"point\", \"encoding\": {\"color\": {\"type\": \"nominal\", \"field\": \"label\"}, \"tooltip\": [{\"type\": \"quantitative\", \"field\": \"label\"}], \"x\": {\"type\": \"quantitative\", \"field\": \"TSNE_1\"}, \"y\": {\"type\": \"quantitative\", \"field\": \"TSNE_2\"}}, \"selection\": {\"selector017\": {\"type\": \"interval\", \"bind\": \"scales\", \"encodings\": [\"x\", \"y\"]}}, \"$schema\": \"https://vega.github.io/schema/vega-lite/v4.8.1.json\", \"datasets\": {\"data-74ce5457a267c6246695e1f48321ac3a\": [{\"TSNE_1\": -97.88212585449219, \"TSNE_2\": -176.68649291992188, \"label\": 0.0}, {\"TSNE_1\": -130.93797302246094, \"TSNE_2\": -169.338134765625, \"label\": 1.0}, {\"TSNE_1\": 122.7756576538086, \"TSNE_2\": -135.52978515625, \"label\": 2.0}, {\"TSNE_1\": -39.6196174621582, \"TSNE_2\": 149.71267700195312, \"label\": 0.0}, {\"TSNE_1\": 104.7681655883789, \"TSNE_2\": 22.621440887451172, \"label\": 0.0}, {\"TSNE_1\": 151.64048767089844, \"TSNE_2\": -82.0400390625, \"label\": 0.0}, {\"TSNE_1\": 72.07759094238281, \"TSNE_2\": -2.3916690349578857, \"label\": 1.0}, {\"TSNE_1\": -63.48200607299805, \"TSNE_2\": -164.2803955078125, \"label\": 1.0}, {\"TSNE_1\": -17.631914138793945, \"TSNE_2\": -132.5548858642578, \"label\": 2.0}, {\"TSNE_1\": -42.32817459106445, \"TSNE_2\": 3.7726237773895264, \"label\": 0.0}, {\"TSNE_1\": -71.31204223632812, \"TSNE_2\": -105.48747253417969, \"label\": 0.0}, {\"TSNE_1\": -145.78077697753906, \"TSNE_2\": 15.215534210205078, \"label\": 0.0}, {\"TSNE_1\": 60.261924743652344, \"TSNE_2\": -72.71723937988281, \"label\": 0.0}, {\"TSNE_1\": 80.53164672851562, \"TSNE_2\": 167.52976989746094, \"label\": 2.0}, {\"TSNE_1\": 23.188522338867188, \"TSNE_2\": -4.400891304016113, \"label\": 3.0}, {\"TSNE_1\": -37.353309631347656, \"TSNE_2\": -100.64292907714844, \"label\": 2.0}, {\"TSNE_1\": 48.56855773925781, \"TSNE_2\": 230.17808532714844, \"label\": 0.0}, {\"TSNE_1\": 44.12897491455078, \"TSNE_2\": -106.46184539794922, \"label\": 3.0}, {\"TSNE_1\": 99.54032135009766, \"TSNE_2\": -84.76649475097656, \"label\": 3.0}, {\"TSNE_1\": 34.95954132080078, \"TSNE_2\": 263.6690673828125, \"label\": 0.0}, {\"TSNE_1\": 84.20307922363281, \"TSNE_2\": 108.12822723388672, \"label\": 0.0}, {\"TSNE_1\": 134.98263549804688, \"TSNE_2\": -53.49610900878906, \"label\": 3.0}, {\"TSNE_1\": -78.09489440917969, \"TSNE_2\": -60.630714416503906, \"label\": 2.0}, {\"TSNE_1\": 17.790233612060547, \"TSNE_2\": 131.59278869628906, \"label\": 0.0}, {\"TSNE_1\": -84.1549072265625, \"TSNE_2\": 196.87709045410156, \"label\": 0.0}, {\"TSNE_1\": -18.16766929626465, \"TSNE_2\": 50.18183135986328, \"label\": 0.0}, {\"TSNE_1\": -897.8651733398438, \"TSNE_2\": 419.93463134765625, \"label\": 0.0}, {\"TSNE_1\": -85.9561767578125, \"TSNE_2\": 225.50169372558594, \"label\": 1.0}, {\"TSNE_1\": 42.86289978027344, \"TSNE_2\": 198.43487548828125, \"label\": 0.0}, {\"TSNE_1\": 37.671085357666016, \"TSNE_2\": 95.50816345214844, \"label\": 1.0}, {\"TSNE_1\": -9.035590171813965, \"TSNE_2\": 186.83074951171875, \"label\": 1.0}, {\"TSNE_1\": -42.57036209106445, \"TSNE_2\": 178.1226348876953, \"label\": 0.0}, {\"TSNE_1\": 44.939544677734375, \"TSNE_2\": 28.30994415283203, \"label\": 0.0}, {\"TSNE_1\": -98.06586456298828, \"TSNE_2\": -30.118793487548828, \"label\": 1.0}, {\"TSNE_1\": -7.4279069900512695, \"TSNE_2\": 112.7789535522461, \"label\": 2.0}, {\"TSNE_1\": 0.6393839120864868, \"TSNE_2\": 270.09796142578125, \"label\": 0.0}, {\"TSNE_1\": 44.91240692138672, \"TSNE_2\": 58.9831428527832, \"label\": 0.0}, {\"TSNE_1\": 46.01908493041992, \"TSNE_2\": -46.689369201660156, \"label\": 2.0}, {\"TSNE_1\": 107.14098358154297, \"TSNE_2\": 72.73335266113281, \"label\": 0.0}, {\"TSNE_1\": 107.00294494628906, \"TSNE_2\": -137.41651916503906, \"label\": 0.0}, {\"TSNE_1\": 51.246131896972656, \"TSNE_2\": 120.68077087402344, \"label\": 0.0}, {\"TSNE_1\": 74.40437316894531, \"TSNE_2\": -198.57965087890625, \"label\": 2.0}, {\"TSNE_1\": 16.48288917541504, \"TSNE_2\": 75.13516998291016, \"label\": 0.0}, {\"TSNE_1\": 15.258365631103516, \"TSNE_2\": 209.3845672607422, \"label\": 1.0}, {\"TSNE_1\": -76.27442169189453, \"TSNE_2\": 155.21319580078125, \"label\": 3.0}, {\"TSNE_1\": 78.0327377319336, \"TSNE_2\": 216.75950622558594, \"label\": 0.0}, {\"TSNE_1\": 84.05722045898438, \"TSNE_2\": 260.13336181640625, \"label\": 1.0}, {\"TSNE_1\": -49.2922248840332, \"TSNE_2\": -35.281455993652344, \"label\": 0.0}, {\"TSNE_1\": -13.636377334594727, \"TSNE_2\": -19.553752899169922, \"label\": 1.0}, {\"TSNE_1\": -135.052978515625, \"TSNE_2\": -17.630977630615234, \"label\": 0.0}, {\"TSNE_1\": -3.725475549697876, \"TSNE_2\": -72.23821258544922, \"label\": 0.0}, {\"TSNE_1\": -6.886841297149658, \"TSNE_2\": -174.06246948242188, \"label\": 0.0}, {\"TSNE_1\": 28.448034286499023, \"TSNE_2\": -80.30976104736328, \"label\": 3.0}, {\"TSNE_1\": 65.60670471191406, \"TSNE_2\": -141.39244079589844, \"label\": 0.0}, {\"TSNE_1\": 47.45845031738281, \"TSNE_2\": 166.0380859375, \"label\": 0.0}, {\"TSNE_1\": 18.721439361572266, \"TSNE_2\": -43.42584228515625, \"label\": 3.0}, {\"TSNE_1\": -9.859313011169434, \"TSNE_2\": 13.609261512756348, \"label\": 3.0}, {\"TSNE_1\": 32.9931526184082, \"TSNE_2\": -135.73330688476562, \"label\": 0.0}, {\"TSNE_1\": -21.300682067871094, \"TSNE_2\": 248.40444946289062, \"label\": 0.0}, {\"TSNE_1\": -67.11639404296875, \"TSNE_2\": 82.64849090576172, \"label\": 0.0}, {\"TSNE_1\": -120.42391967773438, \"TSNE_2\": -85.08763122558594, \"label\": 1.0}, {\"TSNE_1\": 74.29608917236328, \"TSNE_2\": -111.37625885009766, \"label\": 0.0}, {\"TSNE_1\": -114.87765502929688, \"TSNE_2\": 5.5830864906311035, \"label\": 1.0}, {\"TSNE_1\": 49.20438766479492, \"TSNE_2\": -17.84319496154785, \"label\": 0.0}, {\"TSNE_1\": 86.27804565429688, \"TSNE_2\": -169.04226684570312, \"label\": 2.0}, {\"TSNE_1\": -84.72122955322266, \"TSNE_2\": -135.69566345214844, \"label\": 4.0}, {\"TSNE_1\": 65.22756958007812, \"TSNE_2\": 85.46795654296875, \"label\": 1.0}, {\"TSNE_1\": -47.58308792114258, \"TSNE_2\": -73.26449584960938, \"label\": 3.0}, {\"TSNE_1\": 101.60310363769531, \"TSNE_2\": -220.3852081298828, \"label\": 1.0}, {\"TSNE_1\": -79.86913299560547, \"TSNE_2\": 30.89310073852539, \"label\": 1.0}, {\"TSNE_1\": 9.700329780578613, \"TSNE_2\": 237.1618194580078, \"label\": 0.0}, {\"TSNE_1\": -78.49955749511719, \"TSNE_2\": -6.157018184661865, \"label\": 0.0}, {\"TSNE_1\": 47.91339111328125, \"TSNE_2\": -172.15997314453125, \"label\": 2.0}, {\"TSNE_1\": 78.30838775634766, \"TSNE_2\": -38.54386901855469, \"label\": 3.0}, {\"TSNE_1\": -26.475784301757812, \"TSNE_2\": 210.03131103515625, \"label\": 0.0}, {\"TSNE_1\": 8.87682056427002, \"TSNE_2\": 38.017372131347656, \"label\": 0.0}, {\"TSNE_1\": 4.98352575302124, \"TSNE_2\": -101.79550170898438, \"label\": 3.0}, {\"TSNE_1\": 79.42659759521484, \"TSNE_2\": 47.611732482910156, \"label\": 3.0}, {\"TSNE_1\": 121.0655746459961, \"TSNE_2\": -184.96743774414062, \"label\": 1.0}, {\"TSNE_1\": -3.9117166996002197, \"TSNE_2\": 152.7895965576172, \"label\": 3.0}, {\"TSNE_1\": -49.240421295166016, \"TSNE_2\": -132.95497131347656, \"label\": 3.0}]}}, {\"mode\": \"vega-lite\"});\n",
       "</script>"
      ],
      "text/plain": [
       "alt.Chart(...)"
      ]
     },
     "execution_count": 207,
     "metadata": {},
     "output_type": "execute_result"
    }
   ],
   "source": [
    "alt.Chart(tsne_df).mark_point().encode(\n",
    "    x=\"TSNE_1\",\n",
    "    y=\"TSNE_2\",\n",
    "    color=\"label:N\",\n",
    "    tooltip=['label']\n",
    ").interactive()"
   ]
  },
  {
   "cell_type": "code",
   "execution_count": 169,
   "metadata": {},
   "outputs": [
    {
     "data": {
      "text/plain": [
       "array([[<matplotlib.axes._subplots.AxesSubplot object at 0x1220c9be0>,\n",
       "        <matplotlib.axes._subplots.AxesSubplot object at 0x1220fc100>],\n",
       "       [<matplotlib.axes._subplots.AxesSubplot object at 0x123a327f0>,\n",
       "        <matplotlib.axes._subplots.AxesSubplot object at 0x1239f0f70>]],\n",
       "      dtype=object)"
      ]
     },
     "execution_count": 169,
     "metadata": {},
     "output_type": "execute_result"
    },
    {
     "data": {
      "image/png": "[encoded data removed]",
      "text/plain": [
       "<Figure size 432x288 with 4 Axes>"
      ]
     },
     "metadata": {
      "needs_background": "light"
     },
     "output_type": "display_data"
    }
   ],
   "source": [
    "y_1007_df = y_df.loc[y_df[\"subject_id\"] == 1007]\n",
    "y_1007_df.hist()"
   ]
  },
  {
   "cell_type": "code",
   "execution_count": null,
   "metadata": {},
   "outputs": [],
   "source": []
  },
  {
   "cell_type": "code",
   "execution_count": null,
   "metadata": {},
   "outputs": [],
   "source": []
  }
 ],
 "metadata": {
  "kernelspec": {
   "display_name": "Python [conda env:beat-pd-mark-env] *",
   "language": "python",
   "name": "conda-env-beat-pd-mark-env-py"
  },
  "language_info": {
   "codemirror_mode": {
    "name": "ipython",
    "version": 3
   },
   "file_extension": ".py",
   "mimetype": "text/x-python",
   "name": "python",
   "nbconvert_exporter": "python",
   "pygments_lexer": "ipython3",
   "version": "3.7.6"
  }
 },
 "nbformat": 4,
 "nbformat_minor": 4
}
