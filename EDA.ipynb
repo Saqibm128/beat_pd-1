{
 "cells": [
  {
   "cell_type": "code",
   "execution_count": 1,
   "metadata": {},
   "outputs": [],
   "source": [
    "import glob \n",
    "import os\n",
    "import pandas as pd\n",
    "import statsmodels as sm\n",
    "import numpy as np\n",
    "import seaborn as sns\n",
    "import matplotlib.pyplot as plt\n",
    "import sklearn\n",
    "\n",
    "from importlib import reload\n",
    "from sklearn import model_selection, metrics\n",
    "from tqdm.auto import tqdm\n",
    "from scipy import signal\n",
    "from statsmodels.graphics.tsaplots import plot_acf, plot_pacf\n",
    "from statsmodels.tsa.arima_model import ARIMA\n",
    "from pandas.plotting import autocorrelation_plot\n",
    "\n",
    "from src import main, feature_model"
   ]
  },
  {
   "cell_type": "code",
   "execution_count": 2,
   "metadata": {},
   "outputs": [],
   "source": [
    "fp = np.random.choice(glob.glob('../beat_pd/data/cis-pd/training_data/training_samples/*/*.csv'))"
   ]
  },
  {
   "cell_type": "code",
   "execution_count": 25,
   "metadata": {},
   "outputs": [
    {
     "data": {
      "text/plain": [
       "'~'"
      ]
     },
     "execution_count": 25,
     "metadata": {},
     "output_type": "execute_result"
    }
   ],
   "source": [
    "import os\n",
    "# os.path.normpath(\"~\")"
   ]
  },
  {
   "cell_type": "markdown",
   "metadata": {},
   "source": [
    "# Working off of Yidi's code, just grab and do some quick analysis\n",
    "Wanna look over labels, will start off with CIS-PD dataset for now and see what frequency distribution looks like"
   ]
  },
  {
   "cell_type": "code",
   "execution_count": 10,
   "metadata": {},
   "outputs": [],
   "source": [
    "labels1 = pd.read_csv('data/cis-pd/data_labels/CIS-PD_Training_Data_IDs_Labels.csv')\n",
    "labels2 = pd.read_csv('data/real-pd/data_labels/REAL-PD_Training_Data_IDs_Labels.csv')"
   ]
  },
  {
   "cell_type": "code",
   "execution_count": 11,
   "metadata": {},
   "outputs": [],
   "source": [
    "labels = labels1.dropna()"
   ]
  },
  {
   "cell_type": "code",
   "execution_count": 5,
   "metadata": {},
   "outputs": [
    {
     "data": {
      "text/plain": [
       "([<matplotlib.axis.XTick at 0x7fdbd50bcb70>,\n",
       "  <matplotlib.axis.XTick at 0x7fdbd50bc4a8>,\n",
       "  <matplotlib.axis.XTick at 0x7fdbd50bc358>,\n",
       "  <matplotlib.axis.XTick at 0x7fdbd507f7f0>],\n",
       " <a list of 4 Text xticklabel objects>)"
      ]
     },
     "execution_count": 5,
     "metadata": {},
     "output_type": "execute_result"
    },
    {
     "data": {
      "image/png": "[encoded data removed]",
      "text/plain": [
       "<Figure size 432x288 with 1 Axes>"
      ]
     },
     "metadata": {
      "needs_background": "light"
     },
     "output_type": "display_data"
    }
   ],
   "source": [
    "plt.title(\"On Off\")\n",
    "plt.hist(labels.on_off, bins=4, )\n",
    "plt.xticks([0,1,2,4])"
   ]
  },
  {
   "cell_type": "code",
   "execution_count": 6,
   "metadata": {},
   "outputs": [
    {
     "data": {
      "text/plain": [
       "([<matplotlib.axis.XTick at 0x7fdbd4ff0f28>,\n",
       "  <matplotlib.axis.XTick at 0x7fdbd4ff0860>,\n",
       "  <matplotlib.axis.XTick at 0x7fdbd4ff0588>,\n",
       "  <matplotlib.axis.XTick at 0x7fdbd4f92c18>],\n",
       " <a list of 4 Text xticklabel objects>)"
      ]
     },
     "execution_count": 6,
     "metadata": {},
     "output_type": "execute_result"
    },
    {
     "data": {
      "image/png": "[encoded data removed]",
      "text/plain": [
       "<Figure size 432x288 with 1 Axes>"
      ]
     },
     "metadata": {
      "needs_background": "light"
     },
     "output_type": "display_data"
    }
   ],
   "source": [
    "plt.title(\"Dyskinesia\")\n",
    "plt.hist(labels.dyskinesia, bins=4)\n",
    "plt.xticks([0,1,2,4])"
   ]
  },
  {
   "cell_type": "code",
   "execution_count": 7,
   "metadata": {},
   "outputs": [
    {
     "data": {
      "text/plain": [
       "([<matplotlib.axis.XTick at 0x7fdbd4f53b70>,\n",
       "  <matplotlib.axis.XTick at 0x7fdbd4f534e0>,\n",
       "  <matplotlib.axis.XTick at 0x7fdbd4f53390>,\n",
       "  <matplotlib.axis.XTick at 0x7fdbd4efa860>],\n",
       " <a list of 4 Text xticklabel objects>)"
      ]
     },
     "execution_count": 7,
     "metadata": {},
     "output_type": "execute_result"
    },
    {
     "data": {
      "image/png": "[encoded data removed]",
      "text/plain": [
       "<Figure size 432x288 with 1 Axes>"
      ]
     },
     "metadata": {
      "needs_background": "light"
     },
     "output_type": "display_data"
    }
   ],
   "source": [
    "plt.title(\"Tremor\")\n",
    "plt.hist(labels.tremor, bins=4)\n",
    "plt.xticks([0,1,2,4])"
   ]
  },
  {
   "cell_type": "markdown",
   "metadata": {},
   "source": [
    "## Frequency Histogram\n",
    "See a distribution of frequencies for 5 rando 10 minute sessions of the overall, x, y, and z frequencies. These can provide clear indication of which frequencies are the most powerful in a session."
   ]
  },
  {
   "cell_type": "code",
   "execution_count": 8,
   "metadata": {},
   "outputs": [],
   "source": [
    "from src.main import read_seq\n",
    "fp = np.random.choice(glob.glob('../beat_pd/data/cis-pd/training_data/training_samples/*/*.csv'))\n",
    "df = read_seq(fp)"
   ]
  },
  {
   "cell_type": "code",
   "execution_count": 9,
   "metadata": {},
   "outputs": [],
   "source": [
    "df = df.set_index(pd.to_timedelta(df.index, unit=\"s\"))"
   ]
  },
  {
   "cell_type": "markdown",
   "metadata": {},
   "source": [
    "As per yidi, frequency is 50Hz"
   ]
  },
  {
   "cell_type": "code",
   "execution_count": 10,
   "metadata": {},
   "outputs": [],
   "source": [
    "import numpy as np\n",
    "def plot_fft_data(data, limits = (1,10)):\n",
    "    fft_data =np.abs(\n",
    "                        np.fft.fft(\n",
    "                            data,\n",
    "                            axis=0))\n",
    "    fft_freq = np.fft.fftfreq(data.shape[0], d=1/50)\n",
    "    plt.plot(fft_freq, fft_data, \"*\")\n",
    "    plt.xlim(limits)\n",
    "    plt.ylim(0,3)"
   ]
  },
  {
   "cell_type": "code",
   "execution_count": 11,
   "metadata": {},
   "outputs": [
    {
     "data": {
      "text/plain": [
       "Text(0, 0.5, 'z axis')"
      ]
     },
     "execution_count": 11,
     "metadata": {},
     "output_type": "execute_result"
    },
    {
     "data": {
      "image/png": "[encoded data removed]",
      "text/plain": [
       "<Figure size 432x288 with 3 Axes>"
      ]
     },
     "metadata": {
      "needs_background": "light"
     },
     "output_type": "display_data"
    }
   ],
   "source": [
    "plt.subplot(3,1,1)\n",
    "plot_fft_data(df.x)\n",
    "plt.ylabel(\"X axis\")\n",
    "plt.subplot(3,1,2)\n",
    "plot_fft_data(df.y)\n",
    "plt.ylabel(\"Y axis\")\n",
    "plt.subplot(3,1,3)\n",
    "plot_fft_data(df.z)\n",
    "plt.ylabel(\"z axis\")"
   ]
  },
  {
   "cell_type": "code",
   "execution_count": 12,
   "metadata": {},
   "outputs": [],
   "source": [
    "total_magnitude = df.x **2 + df.y **2 + df.z **2 "
   ]
  },
  {
   "cell_type": "code",
   "execution_count": 13,
   "metadata": {},
   "outputs": [
    {
     "data": {
      "text/plain": [
       "Text(0, 0.5, 'z axis')"
      ]
     },
     "execution_count": 13,
     "metadata": {},
     "output_type": "execute_result"
    },
    {
     "data": {
      "image/png": "[encoded data removed]",
      "text/plain": [
       "<Figure size 432x288 with 1 Axes>"
      ]
     },
     "metadata": {
      "needs_background": "light"
     },
     "output_type": "display_data"
    }
   ],
   "source": [
    "plot_fft_data(total_magnitude)\n",
    "# plt.ylim((0,10))\n",
    "plt.ylabel(\"z axis\")"
   ]
  },
  {
   "cell_type": "markdown",
   "metadata": {},
   "source": [
    "# Quick model"
   ]
  },
  {
   "cell_type": "markdown",
   "metadata": {},
   "source": [
    "Let's go ahead and try setting up a quick model for testing some stuff with some spur of the moment features. We should eventually decide on a better train_test_split then just random and can eventually use CV partitions or something,  but this should be fine for now. Main goal is create a quick model with some rando quick features"
   ]
  },
  {
   "cell_type": "markdown",
   "metadata": {},
   "source": [
    "## Files in  CIS-PD\n",
    "Let's start with CIS-PD, i got confused by training_samples folder, but will be using the 20 minute segments in the first sublevel of the directory"
   ]
  },
  {
   "cell_type": "code",
   "execution_count": 24,
   "metadata": {},
   "outputs": [
    {
     "data": {
      "text/html": [
       "<div>\n",
       "<style scoped>\n",
       "    .dataframe tbody tr th:only-of-type {\n",
       "        vertical-align: middle;\n",
       "    }\n",
       "\n",
       "    .dataframe tbody tr th {\n",
       "        vertical-align: top;\n",
       "    }\n",
       "\n",
       "    .dataframe thead th {\n",
       "        text-align: right;\n",
       "    }\n",
       "</style>\n",
       "<table border=\"1\" class=\"dataframe\">\n",
       "  <thead>\n",
       "    <tr style=\"text-align: right;\">\n",
       "      <th></th>\n",
       "      <th>measurement_id</th>\n",
       "      <th>subject_id</th>\n",
       "      <th>on_off</th>\n",
       "      <th>dyskinesia</th>\n",
       "      <th>tremor</th>\n",
       "    </tr>\n",
       "  </thead>\n",
       "  <tbody>\n",
       "    <tr>\n",
       "      <th>0</th>\n",
       "      <td>cc7b822c-e310-46f0-a8ea-98c95fdb67a1</td>\n",
       "      <td>1004</td>\n",
       "      <td>1.0</td>\n",
       "      <td>1.0</td>\n",
       "      <td>1.0</td>\n",
       "    </tr>\n",
       "    <tr>\n",
       "      <th>1</th>\n",
       "      <td>5163afe8-a6b0-4ea4-b2ba-9b4501dd5912</td>\n",
       "      <td>1004</td>\n",
       "      <td>0.0</td>\n",
       "      <td>0.0</td>\n",
       "      <td>0.0</td>\n",
       "    </tr>\n",
       "    <tr>\n",
       "      <th>2</th>\n",
       "      <td>5cf68c8e-0b7a-4b73-ad4f-015c7a20fb5a</td>\n",
       "      <td>1004</td>\n",
       "      <td>1.0</td>\n",
       "      <td>1.0</td>\n",
       "      <td>1.0</td>\n",
       "    </tr>\n",
       "    <tr>\n",
       "      <th>3</th>\n",
       "      <td>fb188ae2-2173-4137-9236-19a137a402c2</td>\n",
       "      <td>1004</td>\n",
       "      <td>3.0</td>\n",
       "      <td>3.0</td>\n",
       "      <td>3.0</td>\n",
       "    </tr>\n",
       "    <tr>\n",
       "      <th>4</th>\n",
       "      <td>19a3e9ea-fce1-40b7-9457-2618970beb7b</td>\n",
       "      <td>1004</td>\n",
       "      <td>1.0</td>\n",
       "      <td>1.0</td>\n",
       "      <td>1.0</td>\n",
       "    </tr>\n",
       "  </tbody>\n",
       "</table>\n",
       "</div>"
      ],
      "text/plain": [
       "                         measurement_id  subject_id  on_off  dyskinesia  \\\n",
       "0  cc7b822c-e310-46f0-a8ea-98c95fdb67a1        1004     1.0         1.0   \n",
       "1  5163afe8-a6b0-4ea4-b2ba-9b4501dd5912        1004     0.0         0.0   \n",
       "2  5cf68c8e-0b7a-4b73-ad4f-015c7a20fb5a        1004     1.0         1.0   \n",
       "3  fb188ae2-2173-4137-9236-19a137a402c2        1004     3.0         3.0   \n",
       "4  19a3e9ea-fce1-40b7-9457-2618970beb7b        1004     1.0         1.0   \n",
       "\n",
       "   tremor  \n",
       "0     1.0  \n",
       "1     0.0  \n",
       "2     1.0  \n",
       "3     3.0  \n",
       "4     1.0  "
      ]
     },
     "execution_count": 24,
     "metadata": {},
     "output_type": "execute_result"
    }
   ],
   "source": [
    "labels1.head()"
   ]
  },
  {
   "cell_type": "code",
   "execution_count": 25,
   "metadata": {},
   "outputs": [],
   "source": [
    "labels = labels1.dropna() #drop the nans for now, we can worry later"
   ]
  },
  {
   "cell_type": "code",
   "execution_count": 27,
   "metadata": {},
   "outputs": [
    {
     "data": {
      "text/html": [
       "<div>\n",
       "<style scoped>\n",
       "    .dataframe tbody tr th:only-of-type {\n",
       "        vertical-align: middle;\n",
       "    }\n",
       "\n",
       "    .dataframe tbody tr th {\n",
       "        vertical-align: top;\n",
       "    }\n",
       "\n",
       "    .dataframe thead th {\n",
       "        text-align: right;\n",
       "    }\n",
       "</style>\n",
       "<table border=\"1\" class=\"dataframe\">\n",
       "  <thead>\n",
       "    <tr style=\"text-align: right;\">\n",
       "      <th></th>\n",
       "      <th>measurement_id</th>\n",
       "      <th>on_off</th>\n",
       "      <th>dyskinesia</th>\n",
       "      <th>tremor</th>\n",
       "    </tr>\n",
       "    <tr>\n",
       "      <th>subject_id</th>\n",
       "      <th></th>\n",
       "      <th></th>\n",
       "      <th></th>\n",
       "      <th></th>\n",
       "    </tr>\n",
       "  </thead>\n",
       "  <tbody>\n",
       "    <tr>\n",
       "      <th>1004</th>\n",
       "      <td>82</td>\n",
       "      <td>82</td>\n",
       "      <td>82</td>\n",
       "      <td>82</td>\n",
       "    </tr>\n",
       "    <tr>\n",
       "      <th>1007</th>\n",
       "      <td>276</td>\n",
       "      <td>276</td>\n",
       "      <td>276</td>\n",
       "      <td>276</td>\n",
       "    </tr>\n",
       "    <tr>\n",
       "      <th>1019</th>\n",
       "      <td>45</td>\n",
       "      <td>45</td>\n",
       "      <td>45</td>\n",
       "      <td>45</td>\n",
       "    </tr>\n",
       "    <tr>\n",
       "      <th>1023</th>\n",
       "      <td>106</td>\n",
       "      <td>106</td>\n",
       "      <td>106</td>\n",
       "      <td>106</td>\n",
       "    </tr>\n",
       "    <tr>\n",
       "      <th>1034</th>\n",
       "      <td>40</td>\n",
       "      <td>40</td>\n",
       "      <td>40</td>\n",
       "      <td>40</td>\n",
       "    </tr>\n",
       "    <tr>\n",
       "      <th>1038</th>\n",
       "      <td>207</td>\n",
       "      <td>207</td>\n",
       "      <td>207</td>\n",
       "      <td>207</td>\n",
       "    </tr>\n",
       "    <tr>\n",
       "      <th>1043</th>\n",
       "      <td>34</td>\n",
       "      <td>34</td>\n",
       "      <td>34</td>\n",
       "      <td>34</td>\n",
       "    </tr>\n",
       "    <tr>\n",
       "      <th>1048</th>\n",
       "      <td>91</td>\n",
       "      <td>91</td>\n",
       "      <td>91</td>\n",
       "      <td>91</td>\n",
       "    </tr>\n",
       "    <tr>\n",
       "      <th>1049</th>\n",
       "      <td>82</td>\n",
       "      <td>82</td>\n",
       "      <td>82</td>\n",
       "      <td>82</td>\n",
       "    </tr>\n",
       "  </tbody>\n",
       "</table>\n",
       "</div>"
      ],
      "text/plain": [
       "            measurement_id  on_off  dyskinesia  tremor\n",
       "subject_id                                            \n",
       "1004                    82      82          82      82\n",
       "1007                   276     276         276     276\n",
       "1019                    45      45          45      45\n",
       "1023                   106     106         106     106\n",
       "1034                    40      40          40      40\n",
       "1038                   207     207         207     207\n",
       "1043                    34      34          34      34\n",
       "1048                    91      91          91      91\n",
       "1049                    82      82          82      82"
      ]
     },
     "execution_count": 27,
     "metadata": {},
     "output_type": "execute_result"
    }
   ],
   "source": [
    "#let's see the distribution of subjects too, as expected its the set of subjects which we have complete data for\n",
    "labels.groupby(\"subject_id\").count()"
   ]
  },
  {
   "cell_type": "code",
   "execution_count": 39,
   "metadata": {},
   "outputs": [],
   "source": [
    "from src.main import read_seq\n",
    "\n",
    "def get_data(m_id):\n",
    "    data = pd.read_csv(f\"/home/ms994/beat_pd/data/cis-pd/training_data/{m_id}.csv\", index_col=\"Timestamp\", header=0)\n",
    "    return data.set_index(pd.to_timedelta(data.index, unit=\"s\"))"
   ]
  },
  {
   "cell_type": "markdown",
   "metadata": {},
   "source": [
    "Set up filters. We can adjust these eventually, but tbh don't really care too much about filter design rn"
   ]
  },
  {
   "cell_type": "code",
   "execution_count": 56,
   "metadata": {},
   "outputs": [],
   "source": [
    "#lets go and filter data with some utility funcs\n",
    "from scipy.signal import butter, lfilter\n",
    "\n",
    "# https://scipy-cookbook.readthedocs.io/items/ButterworthBandpass.html\n",
    "\n",
    "# grabs some filter constants for making bandpass filter\n",
    "#    order is kinda like strength of filter... higher leads to more ideal filter but has weird interactions near the edges of the filter\n",
    "#    lower is less ideal but results in less artifacts being generated\n",
    "#    this is a bit of a cheat anyways, using a lowpass and highpass together, there may be less sketch filter designs applicable\n",
    "def butter_bandpass(lowcut, highcut, fs, order=5):\n",
    "    nyq = 0.5 * fs\n",
    "    low = lowcut / nyq\n",
    "    high = highcut / nyq\n",
    "    b, a = butter(order, [low, high], btype='band')\n",
    "    return b, a\n",
    "\n",
    "def butter_bandpass_filter(data, lowcut, highcut, fs, order=5):\n",
    "    b, a = butter_bandpass(lowcut, highcut, fs, order=order)\n",
    "    y = lfilter(b, a, data)\n",
    "    return y\n",
    "def butter_lp_filter(data, lowcut, fs, order=5):\n",
    "    nyq = 0.5 * fs #just get the highest freq possible (nyquist, and bandgap it!)\n",
    "    hc = nyq * 0.9 #can't accept exactly nyq\n",
    "    print(\"hc:\", hc)\n",
    "    return butter_bandpass_filter(data, lowcut, hyc, fs, order)\n",
    "def butter_bandgap_filter(data, lowcut, highcut, fs, order=5):\n",
    "    if highcut is None:\n",
    "        return butter_bandgap_filter(data, lowcut, fs, order)\n",
    "    toRemove = butter_bandpass_filter(data, lowcut, highcut, fs, order)\n",
    "    return data - toRemove"
   ]
  },
  {
   "cell_type": "markdown",
   "metadata": {},
   "source": [
    "Set up functions to apply STFFT"
   ]
  },
  {
   "cell_type": "code",
   "execution_count": 144,
   "metadata": {},
   "outputs": [],
   "source": [
    "def get_preprocessed_data(measurement_id, low_f=1, high_f=10):\n",
    "    data = get_data(measurement_id)\n",
    "    #50 hz, make a bandpass between 1 and 10 hz, with order of 5\n",
    "    data = butter_bandpass_filter(data, low_f, high_f, 50, 5)\n",
    "    return data"
   ]
  },
  {
   "cell_type": "code",
   "execution_count": 165,
   "metadata": {},
   "outputs": [],
   "source": [
    "def stft(measurement_id, use_filter=True):\n",
    "    if use_filter:\n",
    "        data = get_preprocessed_data(measurement_id)\n",
    "    else:\n",
    "        data = get_data(measurement_id)\n",
    "    return np.abs(signal.stft(data.T, fs=50, window=(\"boxcar\"), nperseg=50))"
   ]
  },
  {
   "cell_type": "code",
   "execution_count": 94,
   "metadata": {},
   "outputs": [
    {
     "data": {
      "text/plain": [
       "'cc7b822c-e310-46f0-a8ea-98c95fdb67a1'"
      ]
     },
     "execution_count": 94,
     "metadata": {},
     "output_type": "execute_result"
    }
   ],
   "source": [
    "labels.measurement_id.iloc[0]"
   ]
  },
  {
   "cell_type": "code",
   "execution_count": 136,
   "metadata": {},
   "outputs": [],
   "source": [
    "data = get_data(labels.measurement_id.iloc[0])"
   ]
  },
  {
   "cell_type": "code",
   "execution_count": 130,
   "metadata": {},
   "outputs": [
    {
     "data": {
      "text/plain": [
       "'cc7b822c-e310-46f0-a8ea-98c95fdb67a1'"
      ]
     },
     "execution_count": 130,
     "metadata": {},
     "output_type": "execute_result"
    }
   ],
   "source": [
    "labels.measurement_id.iloc[0]"
   ]
  },
  {
   "cell_type": "code",
   "execution_count": 137,
   "metadata": {},
   "outputs": [
    {
     "data": {
      "text/plain": [
       "(3, 51, 900)"
      ]
     },
     "execution_count": 137,
     "metadata": {},
     "output_type": "execute_result"
    }
   ],
   "source": [
    "\n",
    "stft_res = stft(\"cc7b822c-e310-46f0-a8ea-98c95fdb67a1\", use_filter=False)\n",
    "stft_res[2].shape"
   ]
  },
  {
   "cell_type": "code",
   "execution_count": 122,
   "metadata": {},
   "outputs": [
    {
     "data": {
      "text/plain": [
       "0.005896983026686894"
      ]
     },
     "execution_count": 122,
     "metadata": {},
     "output_type": "execute_result"
    }
   ],
   "source": []
  },
  {
   "cell_type": "code",
   "execution_count": null,
   "metadata": {},
   "outputs": [],
   "source": []
  },
  {
   "cell_type": "code",
   "execution_count": 138,
   "metadata": {},
   "outputs": [
    {
     "data": {
      "text/plain": [
       "<matplotlib.axes._subplots.AxesSubplot at 0x7fdbc9f57f28>"
      ]
     },
     "execution_count": 138,
     "metadata": {},
     "output_type": "execute_result"
    },
    {
     "data": {
      "image/png": "[encoded data removed]",
      "text/plain": [
       "<Figure size 432x288 with 2 Axes>"
      ]
     },
     "metadata": {
      "needs_background": "light"
     },
     "output_type": "display_data"
    }
   ],
   "source": [
    "import seaborn as sns\n",
    "plt.title(\"No filter\")\n",
    "stft_res = stft(\"cc7b822c-e310-46f0-a8ea-98c95fdb67a1\", use_filter=False)\n",
    "sns.heatmap(np.log(stft_res[2][2].transpose((1,0)) + 0.01))"
   ]
  },
  {
   "cell_type": "code",
   "execution_count": 140,
   "metadata": {},
   "outputs": [
    {
     "data": {
      "text/plain": [
       "<matplotlib.axes._subplots.AxesSubplot at 0x7fdbc9fe4780>"
      ]
     },
     "execution_count": 140,
     "metadata": {},
     "output_type": "execute_result"
    },
    {
     "data": {
      "image/png": "[encoded data removed]",
      "text/plain": [
       "<Figure size 432x288 with 2 Axes>"
      ]
     },
     "metadata": {
      "needs_background": "light"
     },
     "output_type": "display_data"
    }
   ],
   "source": [
    "plt.title(\"With filter\")\n",
    "stft_res = stft(\"cc7b822c-e310-46f0-a8ea-98c95fdb67a1\", use_filter=True)\n",
    "sns.heatmap(np.log(stft_res[2][2].transpose((1,0)) + 0.01))"
   ]
  },
  {
   "cell_type": "markdown",
   "metadata": {},
   "source": [
    "Some observations from the spectograph, the signal strength kinda dies after 533 samples, in addition, strength of the signal appears to increase for lower frequencies, as expected from the overal distribution of frequencies"
   ]
  },
  {
   "cell_type": "markdown",
   "metadata": {},
   "source": [
    "filtering seems to reduce the overal amplitudes in the signal. "
   ]
  },
  {
   "cell_type": "code",
   "execution_count": 142,
   "metadata": {},
   "outputs": [
    {
     "data": {
      "text/plain": [
       "[<matplotlib.lines.Line2D at 0x7fdbca355f60>,\n",
       " <matplotlib.lines.Line2D at 0x7fdbca421710>,\n",
       " <matplotlib.lines.Line2D at 0x7fdbca421860>]"
      ]
     },
     "execution_count": 142,
     "metadata": {},
     "output_type": "execute_result"
    },
    {
     "data": {
      "image/png": "[encoded data removed]",
      "text/plain": [
       "<Figure size 432x288 with 1 Axes>"
      ]
     },
     "metadata": {
      "needs_background": "light"
     },
     "output_type": "display_data"
    }
   ],
   "source": [
    "plt.title(\"raw time signal\")\n",
    "plt.plot(data)"
   ]
  },
  {
   "cell_type": "code",
   "execution_count": 145,
   "metadata": {},
   "outputs": [
    {
     "data": {
      "text/plain": [
       "[<matplotlib.lines.Line2D at 0x7fdbca52c5f8>,\n",
       " <matplotlib.lines.Line2D at 0x7fdbc9e270f0>,\n",
       " <matplotlib.lines.Line2D at 0x7fdbc9e272b0>]"
      ]
     },
     "execution_count": 145,
     "metadata": {},
     "output_type": "execute_result"
    },
    {
     "data": {
      "image/png": "[encoded data removed]",
      "text/plain": [
       "<Figure size 432x288 with 1 Axes>"
      ]
     },
     "metadata": {
      "needs_background": "light"
     },
     "output_type": "display_data"
    }
   ],
   "source": [
    "plt.title(\"filtered signal, 0-10 Hz\")\n",
    "plt.plot(get_preprocessed_data(labels.measurement_id[0]))"
   ]
  },
  {
   "cell_type": "code",
   "execution_count": 146,
   "metadata": {},
   "outputs": [
    {
     "data": {
      "text/plain": [
       "[<matplotlib.lines.Line2D at 0x7fdbc9dce630>,\n",
       " <matplotlib.lines.Line2D at 0x7fdbc9d7a5f8>,\n",
       " <matplotlib.lines.Line2D at 0x7fdbc9d7a780>]"
      ]
     },
     "execution_count": 146,
     "metadata": {},
     "output_type": "execute_result"
    },
    {
     "data": {
      "image/png": "[encoded data removed]",
      "text/plain": [
       "<Figure size 432x288 with 1 Axes>"
      ]
     },
     "metadata": {
      "needs_background": "light"
     },
     "output_type": "display_data"
    }
   ],
   "source": [
    "plt.title(\"filtered signal, 0.5 to 10 hz\")\n",
    "plt.plot(get_preprocessed_data(labels.measurement_id[0], low_f=0.5))"
   ]
  },
  {
   "cell_type": "code",
   "execution_count": 149,
   "metadata": {},
   "outputs": [
    {
     "data": {
      "text/plain": [
       "[<matplotlib.lines.Line2D at 0x7fdbc9d20748>,\n",
       " <matplotlib.lines.Line2D at 0x7fdbc9c79748>,\n",
       " <matplotlib.lines.Line2D at 0x7fdbc9c798d0>]"
      ]
     },
     "execution_count": 149,
     "metadata": {},
     "output_type": "execute_result"
    },
    {
     "data": {
      "image/png": "[encoded data removed]",
      "text/plain": [
       "<Figure size 432x288 with 1 Axes>"
      ]
     },
     "metadata": {
      "needs_background": "light"
     },
     "output_type": "display_data"
    }
   ],
   "source": [
    "plt.title(\"filtered signal, 0.5 to 20 hz\")\n",
    "plt.plot(get_preprocessed_data(labels.measurement_id[0], low_f=1, high_f=20))"
   ]
  },
  {
   "cell_type": "markdown",
   "metadata": {},
   "source": [
    "as per literature, tremors and diskinesia should show up in only the 4 ot 6 Hz range. Don't know if these higher freqency signals are useful or just noise, will continue with 1-10 Hz bandpass"
   ]
  },
  {
   "cell_type": "code",
   "execution_count": 150,
   "metadata": {},
   "outputs": [],
   "source": [
    "from sklearn.decomposition import PCA"
   ]
  },
  {
   "cell_type": "code",
   "execution_count": 152,
   "metadata": {},
   "outputs": [
    {
     "data": {
      "text/plain": [
       "((3, 51, 900), (963, 5))"
      ]
     },
     "execution_count": 152,
     "metadata": {},
     "output_type": "execute_result"
    }
   ],
   "source": [
    "stft_res[2].shape, labels.shape"
   ]
  },
  {
   "cell_type": "code",
   "execution_count": 158,
   "metadata": {},
   "outputs": [],
   "source": [
    "xData = []"
   ]
  },
  {
   "cell_type": "code",
   "execution_count": 166,
   "metadata": {},
   "outputs": [],
   "source": [
    "for i in range(963):\n",
    "    xData.append(stft(labels.measurement_id.iloc[i], use_filter=True)[2])"
   ]
  },
  {
   "cell_type": "code",
   "execution_count": 167,
   "metadata": {},
   "outputs": [
    {
     "data": {
      "text/plain": [
       "2008"
      ]
     },
     "execution_count": 167,
     "metadata": {},
     "output_type": "execute_result"
    }
   ],
   "source": [
    "len(xData)"
   ]
  },
  {
   "cell_type": "code",
   "execution_count": 168,
   "metadata": {},
   "outputs": [
    {
     "data": {
      "text/plain": [
       "[900,\n",
       " 1198,\n",
       " 1198,\n",
       " 1202,\n",
       " 1201,\n",
       " 1207,\n",
       " 1205,\n",
       " 1203,\n",
       " 1203,\n",
       " 1203,\n",
       " 1201,\n",
       " 1200,\n",
       " 1205,\n",
       " 1201,\n",
       " 1202,\n",
       " 1209,\n",
       " 1202,\n",
       " 1201,\n",
       " 1201,\n",
       " 155,\n",
       " 1212,\n",
       " 1205,\n",
       " 1199,\n",
       " 1201,\n",
       " 1201,\n",
       " 1200,\n",
       " 1201,\n",
       " 1203,\n",
       " 1203,\n",
       " 1200,\n",
       " 1204,\n",
       " 1204,\n",
       " 1229,\n",
       " 1200,\n",
       " 1202,\n",
       " 1202,\n",
       " 1205,\n",
       " 1201,\n",
       " 1200,\n",
       " 1202,\n",
       " 1200,\n",
       " 1200,\n",
       " 1233,\n",
       " 1223,\n",
       " 321,\n",
       " 1203,\n",
       " 1204,\n",
       " 1201,\n",
       " 1212,\n",
       " 1203,\n",
       " 1201,\n",
       " 1204,\n",
       " 1204,\n",
       " 603,\n",
       " 1201,\n",
       " 1230,\n",
       " 1214,\n",
       " 1202,\n",
       " 1211,\n",
       " 1202,\n",
       " 1201,\n",
       " 250,\n",
       " 781,\n",
       " 1201,\n",
       " 1223,\n",
       " 1219,\n",
       " 939,\n",
       " 810,\n",
       " 1202,\n",
       " 1201,\n",
       " 1201,\n",
       " 1205,\n",
       " 139,\n",
       " 1063,\n",
       " 1201,\n",
       " 1203,\n",
       " 1200,\n",
       " 1201,\n",
       " 1201,\n",
       " 1202,\n",
       " 1008,\n",
       " 1203,\n",
       " 900,\n",
       " 1198,\n",
       " 1198,\n",
       " 1202,\n",
       " 1201,\n",
       " 1207,\n",
       " 1205,\n",
       " 1203,\n",
       " 1203,\n",
       " 1203,\n",
       " 1201,\n",
       " 1200,\n",
       " 1205,\n",
       " 1201,\n",
       " 1202,\n",
       " 1209,\n",
       " 1202,\n",
       " 1201,\n",
       " 1201,\n",
       " 155,\n",
       " 1212,\n",
       " 1205,\n",
       " 1199,\n",
       " 1201,\n",
       " 1201,\n",
       " 1200,\n",
       " 1201,\n",
       " 1203,\n",
       " 1203,\n",
       " 1200,\n",
       " 1204,\n",
       " 1204,\n",
       " 1229,\n",
       " 1200,\n",
       " 1202,\n",
       " 1202,\n",
       " 1205,\n",
       " 1201,\n",
       " 1200,\n",
       " 1202,\n",
       " 1200,\n",
       " 1200,\n",
       " 1233,\n",
       " 1223,\n",
       " 321,\n",
       " 1203,\n",
       " 1204,\n",
       " 1201,\n",
       " 1212,\n",
       " 1203,\n",
       " 1201,\n",
       " 1204,\n",
       " 1204,\n",
       " 603,\n",
       " 1201,\n",
       " 1230,\n",
       " 1214,\n",
       " 1202,\n",
       " 1211,\n",
       " 1202,\n",
       " 1201,\n",
       " 250,\n",
       " 781,\n",
       " 1201,\n",
       " 1223,\n",
       " 1219,\n",
       " 939,\n",
       " 810,\n",
       " 1202,\n",
       " 1201,\n",
       " 1201,\n",
       " 1205,\n",
       " 139,\n",
       " 1063,\n",
       " 1201,\n",
       " 1203,\n",
       " 1200,\n",
       " 1201,\n",
       " 1201,\n",
       " 1202,\n",
       " 1008,\n",
       " 1203,\n",
       " 1201,\n",
       " 200,\n",
       " 1177,\n",
       " 392,\n",
       " 1201,\n",
       " 1202,\n",
       " 1202,\n",
       " 1200,\n",
       " 1094,\n",
       " 1201,\n",
       " 579,\n",
       " 1201,\n",
       " 1201,\n",
       " 1202,\n",
       " 1201,\n",
       " 1201,\n",
       " 922,\n",
       " 1201,\n",
       " 1202,\n",
       " 1201,\n",
       " 1201,\n",
       " 1200,\n",
       " 1200,\n",
       " 1200,\n",
       " 1201,\n",
       " 1200,\n",
       " 1200,\n",
       " 1201,\n",
       " 1201,\n",
       " 1201,\n",
       " 1201,\n",
       " 1200,\n",
       " 1201,\n",
       " 1201,\n",
       " 1200,\n",
       " 1199,\n",
       " 1200,\n",
       " 746,\n",
       " 881,\n",
       " 1201,\n",
       " 1201,\n",
       " 1201,\n",
       " 1202,\n",
       " 1202,\n",
       " 1201,\n",
       " 1070,\n",
       " 1201,\n",
       " 1201,\n",
       " 1203,\n",
       " 1200,\n",
       " 1203,\n",
       " 1202,\n",
       " 1201,\n",
       " 1198,\n",
       " 1200,\n",
       " 1201,\n",
       " 1198,\n",
       " 1201,\n",
       " 1202,\n",
       " 1201,\n",
       " 1201,\n",
       " 1200,\n",
       " 1201,\n",
       " 1201,\n",
       " 1200,\n",
       " 1200,\n",
       " 1200,\n",
       " 1200,\n",
       " 1200,\n",
       " 1201,\n",
       " 1128,\n",
       " 1200,\n",
       " 1201,\n",
       " 1201,\n",
       " 1190,\n",
       " 1200,\n",
       " 1199,\n",
       " 1200,\n",
       " 813,\n",
       " 1199,\n",
       " 1200,\n",
       " 1201,\n",
       " 1200,\n",
       " 1201,\n",
       " 1201,\n",
       " 1201,\n",
       " 1198,\n",
       " 1200,\n",
       " 1201,\n",
       " 1073,\n",
       " 171,\n",
       " 1201,\n",
       " 1200,\n",
       " 1202,\n",
       " 1202,\n",
       " 432,\n",
       " 657,\n",
       " 1200,\n",
       " 424,\n",
       " 1199,\n",
       " 1202,\n",
       " 1200,\n",
       " 410,\n",
       " 1200,\n",
       " 1200,\n",
       " 1199,\n",
       " 1200,\n",
       " 1199,\n",
       " 1200,\n",
       " 1200,\n",
       " 596,\n",
       " 1200,\n",
       " 1200,\n",
       " 1202,\n",
       " 1201,\n",
       " 1200,\n",
       " 1201,\n",
       " 1200,\n",
       " 1200,\n",
       " 1200,\n",
       " 1201,\n",
       " 1201,\n",
       " 1200,\n",
       " 1201,\n",
       " 1201,\n",
       " 1201,\n",
       " 1201,\n",
       " 1201,\n",
       " 1201,\n",
       " 1200,\n",
       " 1202,\n",
       " 1200,\n",
       " 1201,\n",
       " 1202,\n",
       " 1202,\n",
       " 1202,\n",
       " 1201,\n",
       " 1201,\n",
       " 1199,\n",
       " 1201,\n",
       " 1200,\n",
       " 1199,\n",
       " 1200,\n",
       " 1201,\n",
       " 1202,\n",
       " 1201,\n",
       " 1202,\n",
       " 1201,\n",
       " 1202,\n",
       " 1202,\n",
       " 1201,\n",
       " 1202,\n",
       " 210,\n",
       " 1200,\n",
       " 1201,\n",
       " 1201,\n",
       " 1175,\n",
       " 1120,\n",
       " 1039,\n",
       " 1202,\n",
       " 1200,\n",
       " 1202,\n",
       " 1200,\n",
       " 1201,\n",
       " 1200,\n",
       " 1200,\n",
       " 1201,\n",
       " 1201,\n",
       " 1202,\n",
       " 1201,\n",
       " 1201,\n",
       " 1201,\n",
       " 1201,\n",
       " 1200,\n",
       " 1202,\n",
       " 1201,\n",
       " 1200,\n",
       " 1200,\n",
       " 1201,\n",
       " 1199,\n",
       " 691,\n",
       " 1200,\n",
       " 1199,\n",
       " 1199,\n",
       " 1199,\n",
       " 1198,\n",
       " 1201,\n",
       " 1200,\n",
       " 1200,\n",
       " 1202,\n",
       " 1202,\n",
       " 1200,\n",
       " 1200,\n",
       " 1201,\n",
       " 1200,\n",
       " 1201,\n",
       " 1200,\n",
       " 1201,\n",
       " 1200,\n",
       " 1201,\n",
       " 1201,\n",
       " 1033,\n",
       " 1195,\n",
       " 699,\n",
       " 1199,\n",
       " 1202,\n",
       " 1200,\n",
       " 1200,\n",
       " 1199,\n",
       " 1199,\n",
       " 1199,\n",
       " 1198,\n",
       " 1199,\n",
       " 1198,\n",
       " 1201,\n",
       " 1199,\n",
       " 1200,\n",
       " 1202,\n",
       " 1200,\n",
       " 1200,\n",
       " 1200,\n",
       " 1201,\n",
       " 1201,\n",
       " 1200,\n",
       " 1201,\n",
       " 1201,\n",
       " 1201,\n",
       " 1201,\n",
       " 469,\n",
       " 1200,\n",
       " 1201,\n",
       " 1200,\n",
       " 1200,\n",
       " 1201,\n",
       " 1202,\n",
       " 1200,\n",
       " 1200,\n",
       " 1201,\n",
       " 1202,\n",
       " 1201,\n",
       " 1201,\n",
       " 1200,\n",
       " 1202,\n",
       " 1202,\n",
       " 1158,\n",
       " 1200,\n",
       " 1201,\n",
       " 1201,\n",
       " 1202,\n",
       " 1023,\n",
       " 1203,\n",
       " 770,\n",
       " 1201,\n",
       " 1202,\n",
       " 1202,\n",
       " 1201,\n",
       " 1202,\n",
       " 1201,\n",
       " 1201,\n",
       " 1202,\n",
       " 1202,\n",
       " 1203,\n",
       " 1200,\n",
       " 1202,\n",
       " 1201,\n",
       " 1201,\n",
       " 1203,\n",
       " 1201,\n",
       " 1201,\n",
       " 1202,\n",
       " 211,\n",
       " 1201,\n",
       " 1202,\n",
       " 1202,\n",
       " 1201,\n",
       " 1202,\n",
       " 1191,\n",
       " 1191,\n",
       " 1191,\n",
       " 1189,\n",
       " 1191,\n",
       " 1190,\n",
       " 1191,\n",
       " 503,\n",
       " 1180,\n",
       " 1192,\n",
       " 1182,\n",
       " 1193,\n",
       " 1192,\n",
       " 1191,\n",
       " 1189,\n",
       " 1191,\n",
       " 1191,\n",
       " 1189,\n",
       " 1190,\n",
       " 1192,\n",
       " 1190,\n",
       " 1191,\n",
       " 1180,\n",
       " 1193,\n",
       " 1188,\n",
       " 1190,\n",
       " 1188,\n",
       " 1188,\n",
       " 1190,\n",
       " 1189,\n",
       " 1190,\n",
       " 1189,\n",
       " 1190,\n",
       " 1190,\n",
       " 1191,\n",
       " 1189,\n",
       " 1189,\n",
       " 1190,\n",
       " 1191,\n",
       " 1190,\n",
       " 1190,\n",
       " 1188,\n",
       " 1190,\n",
       " 1188,\n",
       " 1192,\n",
       " 726,\n",
       " 1197,\n",
       " 1197,\n",
       " 1199,\n",
       " 1198,\n",
       " 1196,\n",
       " 1188,\n",
       " 1195,\n",
       " 1199,\n",
       " 1198,\n",
       " 1198,\n",
       " 1171,\n",
       " 592,\n",
       " 1197,\n",
       " 1198,\n",
       " 1197,\n",
       " 1197,\n",
       " 1197,\n",
       " 1196,\n",
       " 1197,\n",
       " 1196,\n",
       " 1197,\n",
       " 1198,\n",
       " 1199,\n",
       " 1199,\n",
       " 1199,\n",
       " 1198,\n",
       " 1196,\n",
       " 1197,\n",
       " 1197,\n",
       " 1196,\n",
       " 709,\n",
       " 1197,\n",
       " 1197,\n",
       " 1197,\n",
       " 1196,\n",
       " 1197,\n",
       " 1197,\n",
       " 1197,\n",
       " 1197,\n",
       " 1197,\n",
       " 1198,\n",
       " 1198,\n",
       " 1197,\n",
       " 1196,\n",
       " 1200,\n",
       " 1197,\n",
       " 1197,\n",
       " 1197,\n",
       " 1196,\n",
       " 1198,\n",
       " 1197,\n",
       " 1196,\n",
       " 1196,\n",
       " 1199,\n",
       " 1199,\n",
       " 1198,\n",
       " 1198,\n",
       " 1198,\n",
       " 1197,\n",
       " 1198,\n",
       " 1199,\n",
       " 341,\n",
       " 1198,\n",
       " 1197,\n",
       " 1199,\n",
       " 1200,\n",
       " 1198,\n",
       " 1198,\n",
       " 1198,\n",
       " 1199,\n",
       " 1198,\n",
       " 1198,\n",
       " 811,\n",
       " 1198,\n",
       " 1199,\n",
       " 1198,\n",
       " 1198,\n",
       " 1199,\n",
       " 1199,\n",
       " 1081,\n",
       " 1199,\n",
       " 1197,\n",
       " 1197,\n",
       " 1196,\n",
       " 1196,\n",
       " 1198,\n",
       " 1197,\n",
       " 1197,\n",
       " 1199,\n",
       " 1196,\n",
       " 1198,\n",
       " 1197,\n",
       " 1196,\n",
       " 1179,\n",
       " 1197,\n",
       " 1198,\n",
       " 1197,\n",
       " 1197,\n",
       " 1197,\n",
       " 832,\n",
       " 422,\n",
       " 1196,\n",
       " 1194,\n",
       " 656,\n",
       " 300,\n",
       " 1196,\n",
       " 1195,\n",
       " 1158,\n",
       " 1198,\n",
       " 1199,\n",
       " 1198,\n",
       " 1201,\n",
       " 1197,\n",
       " 1194,\n",
       " 1197,\n",
       " 1196,\n",
       " 1195,\n",
       " 1201,\n",
       " 1195,\n",
       " 1195,\n",
       " 1200,\n",
       " 1202,\n",
       " 1197,\n",
       " 1107,\n",
       " 1195,\n",
       " 1198,\n",
       " 1199,\n",
       " 1193,\n",
       " 1200,\n",
       " 1202,\n",
       " 594,\n",
       " 1195,\n",
       " 1197,\n",
       " 1195,\n",
       " 1197,\n",
       " 1196,\n",
       " 1196,\n",
       " 1195,\n",
       " 1193,\n",
       " 1194,\n",
       " 1195,\n",
       " 1196,\n",
       " 1195,\n",
       " 1193,\n",
       " 1195,\n",
       " 1198,\n",
       " 1198,\n",
       " 1205,\n",
       " 1199,\n",
       " 1198,\n",
       " 1199,\n",
       " 1199,\n",
       " 1198,\n",
       " 1196,\n",
       " 1197,\n",
       " 1196,\n",
       " 1196,\n",
       " 1197,\n",
       " 1197,\n",
       " 1038,\n",
       " 1197,\n",
       " 1197,\n",
       " 1198,\n",
       " 1197,\n",
       " 1196,\n",
       " 1199,\n",
       " 1198,\n",
       " 1196,\n",
       " 1199,\n",
       " 1198,\n",
       " 1195,\n",
       " 1198,\n",
       " 1197,\n",
       " 1197,\n",
       " 1196,\n",
       " 1198,\n",
       " 1196,\n",
       " 1197,\n",
       " 1197,\n",
       " 1197,\n",
       " 1196,\n",
       " 1198,\n",
       " 1197,\n",
       " 1197,\n",
       " 1201,\n",
       " 1198,\n",
       " 1199,\n",
       " 1198,\n",
       " 1198,\n",
       " 1196,\n",
       " 1198,\n",
       " 1198,\n",
       " 1198,\n",
       " 1196,\n",
       " 1197,\n",
       " 1197,\n",
       " 1197,\n",
       " 1196,\n",
       " 1198,\n",
       " 1197,\n",
       " 1197,\n",
       " 1199,\n",
       " 1195,\n",
       " 1198,\n",
       " 1199,\n",
       " 1200,\n",
       " 1198,\n",
       " 1198,\n",
       " 1198,\n",
       " 1210,\n",
       " 1199,\n",
       " 1198,\n",
       " 1198,\n",
       " 1199,\n",
       " 1197,\n",
       " 1199,\n",
       " 1197,\n",
       " 1197,\n",
       " 1198,\n",
       " 1196,\n",
       " 1195,\n",
       " 1198,\n",
       " 1197,\n",
       " 1199,\n",
       " 1197,\n",
       " 1197,\n",
       " 1198,\n",
       " 1199,\n",
       " 1197,\n",
       " 1198,\n",
       " 1214,\n",
       " 1197,\n",
       " 1198,\n",
       " 1199,\n",
       " 1198,\n",
       " 1198,\n",
       " 1197,\n",
       " 1197,\n",
       " 1198,\n",
       " 1197,\n",
       " 1197,\n",
       " 1198,\n",
       " 1197,\n",
       " 1199,\n",
       " 1199,\n",
       " 1199,\n",
       " 1199,\n",
       " 1206,\n",
       " 1233,\n",
       " 1198,\n",
       " 1198,\n",
       " 1203,\n",
       " 1198,\n",
       " 1199,\n",
       " 1199,\n",
       " 1198,\n",
       " 371,\n",
       " 1197,\n",
       " 1241,\n",
       " 1198,\n",
       " 1202,\n",
       " 1198,\n",
       " 1196,\n",
       " 1197,\n",
       " 1198,\n",
       " 1199,\n",
       " 1197,\n",
       " 1199,\n",
       " 1198,\n",
       " 1198,\n",
       " 1198,\n",
       " 998,\n",
       " 1197,\n",
       " 1196,\n",
       " 1198,\n",
       " 1196,\n",
       " 1198,\n",
       " 1198,\n",
       " 1198,\n",
       " 1198,\n",
       " 1199,\n",
       " 1199,\n",
       " 1200,\n",
       " 1201,\n",
       " 1199,\n",
       " 1200,\n",
       " 1200,\n",
       " 1197,\n",
       " 1200,\n",
       " 1197,\n",
       " 1200,\n",
       " 1200,\n",
       " 1200,\n",
       " 1200,\n",
       " 191,\n",
       " 1198,\n",
       " 1199,\n",
       " 1198,\n",
       " 1198,\n",
       " 1198,\n",
       " 1199,\n",
       " 1200,\n",
       " 1210,\n",
       " 1210,\n",
       " 1006,\n",
       " 1198,\n",
       " 1199,\n",
       " 1202,\n",
       " 1198,\n",
       " 1198,\n",
       " 1198,\n",
       " 1197,\n",
       " 1196,\n",
       " 1198,\n",
       " 1198,\n",
       " 1197,\n",
       " 1197,\n",
       " 1196,\n",
       " 1198,\n",
       " 1197,\n",
       " 1198,\n",
       " 1198,\n",
       " 1196,\n",
       " 1199,\n",
       " 1197,\n",
       " 1197,\n",
       " 1196,\n",
       " 1199,\n",
       " 1199,\n",
       " 1197,\n",
       " 1197,\n",
       " 1199,\n",
       " 1197,\n",
       " 1199,\n",
       " 1199,\n",
       " 1198,\n",
       " 1197,\n",
       " 1197,\n",
       " 1197,\n",
       " 1198,\n",
       " 1197,\n",
       " 1196,\n",
       " 1198,\n",
       " 1198,\n",
       " 1198,\n",
       " 337,\n",
       " 1201,\n",
       " 1196,\n",
       " 598,\n",
       " 1197,\n",
       " 1197,\n",
       " 345,\n",
       " 1194,\n",
       " 1193,\n",
       " 1195,\n",
       " 994,\n",
       " 1195,\n",
       " 1194,\n",
       " 1195,\n",
       " 806,\n",
       " 798,\n",
       " 397,\n",
       " 1196,\n",
       " 1195,\n",
       " 1195,\n",
       " 1193,\n",
       " 1195,\n",
       " 1195,\n",
       " 1195,\n",
       " 1196,\n",
       " 1195,\n",
       " 1194,\n",
       " 1194,\n",
       " 1196,\n",
       " 1193,\n",
       " 1196,\n",
       " 777,\n",
       " 398,\n",
       " 1193,\n",
       " 800,\n",
       " 1195,\n",
       " 1195,\n",
       " 1195,\n",
       " 1194,\n",
       " 1193,\n",
       " 1194,\n",
       " 1202,\n",
       " 801,\n",
       " 1202,\n",
       " 1202,\n",
       " 1201,\n",
       " 1200,\n",
       " 1199,\n",
       " 1199,\n",
       " 1201,\n",
       " 1203,\n",
       " 1200,\n",
       " 1201,\n",
       " 1203,\n",
       " 1201,\n",
       " 1199,\n",
       " 1201,\n",
       " 1199,\n",
       " 709,\n",
       " 801,\n",
       " 1201,\n",
       " 1200,\n",
       " 1199,\n",
       " 1198,\n",
       " 1200,\n",
       " 1202,\n",
       " 1202,\n",
       " 1200,\n",
       " 1200,\n",
       " 1201,\n",
       " 1204,\n",
       " 1200,\n",
       " 1201,\n",
       " 1199,\n",
       " 1201,\n",
       " 1202,\n",
       " 1200,\n",
       " 1201,\n",
       " 1201,\n",
       " 523,\n",
       " 1200,\n",
       " 1201,\n",
       " 1201,\n",
       " 1200,\n",
       " 1200,\n",
       " 1202,\n",
       " 202,\n",
       " 1202,\n",
       " 1202,\n",
       " 1201,\n",
       " 1201,\n",
       " 1201,\n",
       " 1200,\n",
       " 799,\n",
       " 402,\n",
       " 1200,\n",
       " 602,\n",
       " 1197,\n",
       " 1201,\n",
       " 1200,\n",
       " 1203,\n",
       " 1200,\n",
       " 1200,\n",
       " 1200,\n",
       " 202,\n",
       " 1001,\n",
       " 1199,\n",
       " 997,\n",
       " 1199,\n",
       " 1200,\n",
       " 1198,\n",
       " 1200,\n",
       " 1200,\n",
       " 1208,\n",
       " 801,\n",
       " 1200,\n",
       " 583,\n",
       " 1200,\n",
       " 1198,\n",
       " 1199,\n",
       " 1200,\n",
       " 1200,\n",
       " 1201,\n",
       " 1201,\n",
       " 1200,\n",
       " 1201,\n",
       " 200,\n",
       " 1000,\n",
       " 399,\n",
       " 926,\n",
       " 1200,\n",
       " 1201,\n",
       " 1209,\n",
       " 1208,\n",
       " 1208,\n",
       " 1210,\n",
       " 1208,\n",
       " 1209,\n",
       " 1208,\n",
       " 1209,\n",
       " 1197,\n",
       " 1208,\n",
       " 893,\n",
       " 679,\n",
       " 1207,\n",
       " 1209,\n",
       " 1208,\n",
       " 1181,\n",
       " 318,\n",
       " 861,\n",
       " 1208,\n",
       " 1208,\n",
       " 1208,\n",
       " 1209,\n",
       " 1208,\n",
       " 947,\n",
       " 1010,\n",
       " 1211,\n",
       " 1208,\n",
       " 1207,\n",
       " 1117,\n",
       " 1208,\n",
       " 1208,\n",
       " 1206,\n",
       " 1207,\n",
       " 1207,\n",
       " 1209,\n",
       " 1209,\n",
       " 1210,\n",
       " ...]"
      ]
     },
     "execution_count": 168,
     "metadata": {},
     "output_type": "execute_result"
    }
   ],
   "source": [
    "#dangit, these are all different shapes. gonna split appart into 1 minute (50 sample) instances\n",
    "[xDatum.shape[2] for xDatum in xData]"
   ]
  },
  {
   "cell_type": "code",
   "execution_count": 170,
   "metadata": {},
   "outputs": [
    {
     "data": {
      "text/plain": [
       "(3, 51, 900)"
      ]
     },
     "execution_count": 170,
     "metadata": {},
     "output_type": "execute_result"
    }
   ],
   "source": [
    "xData[0].shape # x,y,z channel, frequency, time window"
   ]
  },
  {
   "cell_type": "code",
   "execution_count": 171,
   "metadata": {},
   "outputs": [],
   "source": [
    "xData = []\n",
    "for i in range(len(labels)):\n",
    "    xData.append(stft(labels.measurement_id.iloc[i], use_filter=True)[2].transpose(2, 0, 1)) #put the time window first "
   ]
  },
  {
   "cell_type": "code",
   "execution_count": 174,
   "metadata": {},
   "outputs": [],
   "source": [
    "np_x_data = np.vstack(xData)"
   ]
  },
  {
   "cell_type": "code",
   "execution_count": 176,
   "metadata": {},
   "outputs": [],
   "source": [
    "import pickle as pkl\n",
    "pkl.dump(np_x_data, open(\"/n/scratch2/ms994/beat_pd_frequency_data.pkl\", \"wb\"))"
   ]
  },
  {
   "cell_type": "code",
   "execution_count": 177,
   "metadata": {},
   "outputs": [
    {
     "data": {
      "text/plain": [
       "(2210912, 3, 26)"
      ]
     },
     "execution_count": 177,
     "metadata": {},
     "output_type": "execute_result"
    }
   ],
   "source": [
    "np_x_data.shape"
   ]
  },
  {
   "cell_type": "code",
   "execution_count": 178,
   "metadata": {},
   "outputs": [],
   "source": [
    "flattened_x = np_x_data.reshape((-1, 3*26))"
   ]
  },
  {
   "cell_type": "code",
   "execution_count": 180,
   "metadata": {},
   "outputs": [],
   "source": [
    "from sklearn.decomposition import PCA"
   ]
  },
  {
   "cell_type": "code",
   "execution_count": 190,
   "metadata": {},
   "outputs": [
    {
     "data": {
      "text/plain": [
       "PCA(copy=True, iterated_power='auto', n_components=None, random_state=None,\n",
       "    svd_solver='auto', tol=0.0, whiten=False)"
      ]
     },
     "execution_count": 190,
     "metadata": {},
     "output_type": "execute_result"
    }
   ],
   "source": [
    "pca = PCA()\n",
    "pca.fit(flattened_x)"
   ]
  },
  {
   "cell_type": "code",
   "execution_count": 186,
   "metadata": {},
   "outputs": [
    {
     "data": {
      "text/plain": [
       "<BarContainer object of 78 artists>"
      ]
     },
     "execution_count": 186,
     "metadata": {},
     "output_type": "execute_result"
    },
    {
     "data": {
      "image/png": "[encoded data removed]",
      "text/plain": [
       "<Figure size 432x288 with 1 Axes>"
      ]
     },
     "metadata": {
      "needs_background": "light"
     },
     "output_type": "display_data"
    }
   ],
   "source": [
    "plt.bar(x=[i for i in range(3*26)], height=pca.explained_variance_ratio_)"
   ]
  },
  {
   "cell_type": "code",
   "execution_count": 192,
   "metadata": {},
   "outputs": [],
   "source": [
    "pca = PCA(10)\n",
    "pca_feats = pca.fit_transform(flattened_x)"
   ]
  },
  {
   "cell_type": "markdown",
   "metadata": {},
   "source": [
    "appears all variance without log transform is capturwed in first few PCA features"
   ]
  },
  {
   "cell_type": "code",
   "execution_count": 194,
   "metadata": {},
   "outputs": [
    {
     "data": {
      "text/plain": [
       "(2210912, 10)"
      ]
     },
     "execution_count": 194,
     "metadata": {},
     "output_type": "execute_result"
    }
   ],
   "source": [
    "pca_feats.shape #less features, wanna just do this quick"
   ]
  },
  {
   "cell_type": "markdown",
   "metadata": {},
   "source": [
    "### Setup  the labels\n",
    "Since i happened to flatten and concatenate all the variable lenght segments, i have to map the labels to each instance\n",
    "i.e. if we had a 900s file that got split into 900 windows of 10 features each, each get the same label"
   ]
  },
  {
   "cell_type": "code",
   "execution_count": 198,
   "metadata": {},
   "outputs": [],
   "source": [
    "all_x_lengths = [xDatum.shape[0] for xDatum in xData]"
   ]
  },
  {
   "cell_type": "code",
   "execution_count": 200,
   "metadata": {},
   "outputs": [],
   "source": [
    "#theres probs some faster way with vectorized operations, but idc\n",
    "y = []\n",
    "for i in range(len(labels)):\n",
    "    for x_len in range(all_x_lengths[i]):\n",
    "        y.append(labels.iloc[i])"
   ]
  },
  {
   "cell_type": "code",
   "execution_count": 201,
   "metadata": {},
   "outputs": [
    {
     "data": {
      "text/plain": [
       "True"
      ]
     },
     "execution_count": 201,
     "metadata": {},
     "output_type": "execute_result"
    }
   ],
   "source": [
    "len(y) == len(pca_feats)"
   ]
  },
  {
   "cell_type": "code",
   "execution_count": 209,
   "metadata": {},
   "outputs": [],
   "source": [
    "y = pd.concat(y, axis=1)"
   ]
  },
  {
   "cell_type": "code",
   "execution_count": 210,
   "metadata": {},
   "outputs": [
    {
     "data": {
      "text/html": [
       "<div>\n",
       "<style scoped>\n",
       "    .dataframe tbody tr th:only-of-type {\n",
       "        vertical-align: middle;\n",
       "    }\n",
       "\n",
       "    .dataframe tbody tr th {\n",
       "        vertical-align: top;\n",
       "    }\n",
       "\n",
       "    .dataframe thead th {\n",
       "        text-align: right;\n",
       "    }\n",
       "</style>\n",
       "<table border=\"1\" class=\"dataframe\">\n",
       "  <thead>\n",
       "    <tr style=\"text-align: right;\">\n",
       "      <th></th>\n",
       "      <th>0</th>\n",
       "      <th>0</th>\n",
       "      <th>0</th>\n",
       "      <th>0</th>\n",
       "      <th>0</th>\n",
       "      <th>0</th>\n",
       "      <th>0</th>\n",
       "      <th>0</th>\n",
       "      <th>0</th>\n",
       "      <th>0</th>\n",
       "      <th>...</th>\n",
       "      <th>1663</th>\n",
       "      <th>1663</th>\n",
       "      <th>1663</th>\n",
       "      <th>1663</th>\n",
       "      <th>1663</th>\n",
       "      <th>1663</th>\n",
       "      <th>1663</th>\n",
       "      <th>1663</th>\n",
       "      <th>1663</th>\n",
       "      <th>1663</th>\n",
       "    </tr>\n",
       "  </thead>\n",
       "  <tbody>\n",
       "    <tr>\n",
       "      <th>measurement_id</th>\n",
       "      <td>cc7b822c-e310-46f0-a8ea-98c95fdb67a1</td>\n",
       "      <td>cc7b822c-e310-46f0-a8ea-98c95fdb67a1</td>\n",
       "      <td>cc7b822c-e310-46f0-a8ea-98c95fdb67a1</td>\n",
       "      <td>cc7b822c-e310-46f0-a8ea-98c95fdb67a1</td>\n",
       "      <td>cc7b822c-e310-46f0-a8ea-98c95fdb67a1</td>\n",
       "      <td>cc7b822c-e310-46f0-a8ea-98c95fdb67a1</td>\n",
       "      <td>cc7b822c-e310-46f0-a8ea-98c95fdb67a1</td>\n",
       "      <td>cc7b822c-e310-46f0-a8ea-98c95fdb67a1</td>\n",
       "      <td>cc7b822c-e310-46f0-a8ea-98c95fdb67a1</td>\n",
       "      <td>cc7b822c-e310-46f0-a8ea-98c95fdb67a1</td>\n",
       "      <td>...</td>\n",
       "      <td>8c0b2fbd-f7ea-4753-8e31-ffd4ec00a027</td>\n",
       "      <td>8c0b2fbd-f7ea-4753-8e31-ffd4ec00a027</td>\n",
       "      <td>8c0b2fbd-f7ea-4753-8e31-ffd4ec00a027</td>\n",
       "      <td>8c0b2fbd-f7ea-4753-8e31-ffd4ec00a027</td>\n",
       "      <td>8c0b2fbd-f7ea-4753-8e31-ffd4ec00a027</td>\n",
       "      <td>8c0b2fbd-f7ea-4753-8e31-ffd4ec00a027</td>\n",
       "      <td>8c0b2fbd-f7ea-4753-8e31-ffd4ec00a027</td>\n",
       "      <td>8c0b2fbd-f7ea-4753-8e31-ffd4ec00a027</td>\n",
       "      <td>8c0b2fbd-f7ea-4753-8e31-ffd4ec00a027</td>\n",
       "      <td>8c0b2fbd-f7ea-4753-8e31-ffd4ec00a027</td>\n",
       "    </tr>\n",
       "    <tr>\n",
       "      <th>subject_id</th>\n",
       "      <td>1004</td>\n",
       "      <td>1004</td>\n",
       "      <td>1004</td>\n",
       "      <td>1004</td>\n",
       "      <td>1004</td>\n",
       "      <td>1004</td>\n",
       "      <td>1004</td>\n",
       "      <td>1004</td>\n",
       "      <td>1004</td>\n",
       "      <td>1004</td>\n",
       "      <td>...</td>\n",
       "      <td>1049</td>\n",
       "      <td>1049</td>\n",
       "      <td>1049</td>\n",
       "      <td>1049</td>\n",
       "      <td>1049</td>\n",
       "      <td>1049</td>\n",
       "      <td>1049</td>\n",
       "      <td>1049</td>\n",
       "      <td>1049</td>\n",
       "      <td>1049</td>\n",
       "    </tr>\n",
       "    <tr>\n",
       "      <th>on_off</th>\n",
       "      <td>1</td>\n",
       "      <td>1</td>\n",
       "      <td>1</td>\n",
       "      <td>1</td>\n",
       "      <td>1</td>\n",
       "      <td>1</td>\n",
       "      <td>1</td>\n",
       "      <td>1</td>\n",
       "      <td>1</td>\n",
       "      <td>1</td>\n",
       "      <td>...</td>\n",
       "      <td>2</td>\n",
       "      <td>2</td>\n",
       "      <td>2</td>\n",
       "      <td>2</td>\n",
       "      <td>2</td>\n",
       "      <td>2</td>\n",
       "      <td>2</td>\n",
       "      <td>2</td>\n",
       "      <td>2</td>\n",
       "      <td>2</td>\n",
       "    </tr>\n",
       "    <tr>\n",
       "      <th>dyskinesia</th>\n",
       "      <td>1</td>\n",
       "      <td>1</td>\n",
       "      <td>1</td>\n",
       "      <td>1</td>\n",
       "      <td>1</td>\n",
       "      <td>1</td>\n",
       "      <td>1</td>\n",
       "      <td>1</td>\n",
       "      <td>1</td>\n",
       "      <td>1</td>\n",
       "      <td>...</td>\n",
       "      <td>1</td>\n",
       "      <td>1</td>\n",
       "      <td>1</td>\n",
       "      <td>1</td>\n",
       "      <td>1</td>\n",
       "      <td>1</td>\n",
       "      <td>1</td>\n",
       "      <td>1</td>\n",
       "      <td>1</td>\n",
       "      <td>1</td>\n",
       "    </tr>\n",
       "    <tr>\n",
       "      <th>tremor</th>\n",
       "      <td>1</td>\n",
       "      <td>1</td>\n",
       "      <td>1</td>\n",
       "      <td>1</td>\n",
       "      <td>1</td>\n",
       "      <td>1</td>\n",
       "      <td>1</td>\n",
       "      <td>1</td>\n",
       "      <td>1</td>\n",
       "      <td>1</td>\n",
       "      <td>...</td>\n",
       "      <td>2</td>\n",
       "      <td>2</td>\n",
       "      <td>2</td>\n",
       "      <td>2</td>\n",
       "      <td>2</td>\n",
       "      <td>2</td>\n",
       "      <td>2</td>\n",
       "      <td>2</td>\n",
       "      <td>2</td>\n",
       "      <td>2</td>\n",
       "    </tr>\n",
       "  </tbody>\n",
       "</table>\n",
       "<p>5 rows × 2210912 columns</p>\n",
       "</div>"
      ],
      "text/plain": [
       "                                                0     \\\n",
       "measurement_id  cc7b822c-e310-46f0-a8ea-98c95fdb67a1   \n",
       "subject_id                                      1004   \n",
       "on_off                                             1   \n",
       "dyskinesia                                         1   \n",
       "tremor                                             1   \n",
       "\n",
       "                                                0     \\\n",
       "measurement_id  cc7b822c-e310-46f0-a8ea-98c95fdb67a1   \n",
       "subject_id                                      1004   \n",
       "on_off                                             1   \n",
       "dyskinesia                                         1   \n",
       "tremor                                             1   \n",
       "\n",
       "                                                0     \\\n",
       "measurement_id  cc7b822c-e310-46f0-a8ea-98c95fdb67a1   \n",
       "subject_id                                      1004   \n",
       "on_off                                             1   \n",
       "dyskinesia                                         1   \n",
       "tremor                                             1   \n",
       "\n",
       "                                                0     \\\n",
       "measurement_id  cc7b822c-e310-46f0-a8ea-98c95fdb67a1   \n",
       "subject_id                                      1004   \n",
       "on_off                                             1   \n",
       "dyskinesia                                         1   \n",
       "tremor                                             1   \n",
       "\n",
       "                                                0     \\\n",
       "measurement_id  cc7b822c-e310-46f0-a8ea-98c95fdb67a1   \n",
       "subject_id                                      1004   \n",
       "on_off                                             1   \n",
       "dyskinesia                                         1   \n",
       "tremor                                             1   \n",
       "\n",
       "                                                0     \\\n",
       "measurement_id  cc7b822c-e310-46f0-a8ea-98c95fdb67a1   \n",
       "subject_id                                      1004   \n",
       "on_off                                             1   \n",
       "dyskinesia                                         1   \n",
       "tremor                                             1   \n",
       "\n",
       "                                                0     \\\n",
       "measurement_id  cc7b822c-e310-46f0-a8ea-98c95fdb67a1   \n",
       "subject_id                                      1004   \n",
       "on_off                                             1   \n",
       "dyskinesia                                         1   \n",
       "tremor                                             1   \n",
       "\n",
       "                                                0     \\\n",
       "measurement_id  cc7b822c-e310-46f0-a8ea-98c95fdb67a1   \n",
       "subject_id                                      1004   \n",
       "on_off                                             1   \n",
       "dyskinesia                                         1   \n",
       "tremor                                             1   \n",
       "\n",
       "                                                0     \\\n",
       "measurement_id  cc7b822c-e310-46f0-a8ea-98c95fdb67a1   \n",
       "subject_id                                      1004   \n",
       "on_off                                             1   \n",
       "dyskinesia                                         1   \n",
       "tremor                                             1   \n",
       "\n",
       "                                                0     ...  \\\n",
       "measurement_id  cc7b822c-e310-46f0-a8ea-98c95fdb67a1  ...   \n",
       "subject_id                                      1004  ...   \n",
       "on_off                                             1  ...   \n",
       "dyskinesia                                         1  ...   \n",
       "tremor                                             1  ...   \n",
       "\n",
       "                                                1663  \\\n",
       "measurement_id  8c0b2fbd-f7ea-4753-8e31-ffd4ec00a027   \n",
       "subject_id                                      1049   \n",
       "on_off                                             2   \n",
       "dyskinesia                                         1   \n",
       "tremor                                             2   \n",
       "\n",
       "                                                1663  \\\n",
       "measurement_id  8c0b2fbd-f7ea-4753-8e31-ffd4ec00a027   \n",
       "subject_id                                      1049   \n",
       "on_off                                             2   \n",
       "dyskinesia                                         1   \n",
       "tremor                                             2   \n",
       "\n",
       "                                                1663  \\\n",
       "measurement_id  8c0b2fbd-f7ea-4753-8e31-ffd4ec00a027   \n",
       "subject_id                                      1049   \n",
       "on_off                                             2   \n",
       "dyskinesia                                         1   \n",
       "tremor                                             2   \n",
       "\n",
       "                                                1663  \\\n",
       "measurement_id  8c0b2fbd-f7ea-4753-8e31-ffd4ec00a027   \n",
       "subject_id                                      1049   \n",
       "on_off                                             2   \n",
       "dyskinesia                                         1   \n",
       "tremor                                             2   \n",
       "\n",
       "                                                1663  \\\n",
       "measurement_id  8c0b2fbd-f7ea-4753-8e31-ffd4ec00a027   \n",
       "subject_id                                      1049   \n",
       "on_off                                             2   \n",
       "dyskinesia                                         1   \n",
       "tremor                                             2   \n",
       "\n",
       "                                                1663  \\\n",
       "measurement_id  8c0b2fbd-f7ea-4753-8e31-ffd4ec00a027   \n",
       "subject_id                                      1049   \n",
       "on_off                                             2   \n",
       "dyskinesia                                         1   \n",
       "tremor                                             2   \n",
       "\n",
       "                                                1663  \\\n",
       "measurement_id  8c0b2fbd-f7ea-4753-8e31-ffd4ec00a027   \n",
       "subject_id                                      1049   \n",
       "on_off                                             2   \n",
       "dyskinesia                                         1   \n",
       "tremor                                             2   \n",
       "\n",
       "                                                1663  \\\n",
       "measurement_id  8c0b2fbd-f7ea-4753-8e31-ffd4ec00a027   \n",
       "subject_id                                      1049   \n",
       "on_off                                             2   \n",
       "dyskinesia                                         1   \n",
       "tremor                                             2   \n",
       "\n",
       "                                                1663  \\\n",
       "measurement_id  8c0b2fbd-f7ea-4753-8e31-ffd4ec00a027   \n",
       "subject_id                                      1049   \n",
       "on_off                                             2   \n",
       "dyskinesia                                         1   \n",
       "tremor                                             2   \n",
       "\n",
       "                                                1663  \n",
       "measurement_id  8c0b2fbd-f7ea-4753-8e31-ffd4ec00a027  \n",
       "subject_id                                      1049  \n",
       "on_off                                             2  \n",
       "dyskinesia                                         1  \n",
       "tremor                                             2  \n",
       "\n",
       "[5 rows x 2210912 columns]"
      ]
     },
     "execution_count": 210,
     "metadata": {},
     "output_type": "execute_result"
    }
   ],
   "source": [
    "y.head() #wtf >:#"
   ]
  },
  {
   "cell_type": "code",
   "execution_count": 211,
   "metadata": {},
   "outputs": [
    {
     "data": {
      "text/html": [
       "<div>\n",
       "<style scoped>\n",
       "    .dataframe tbody tr th:only-of-type {\n",
       "        vertical-align: middle;\n",
       "    }\n",
       "\n",
       "    .dataframe tbody tr th {\n",
       "        vertical-align: top;\n",
       "    }\n",
       "\n",
       "    .dataframe thead th {\n",
       "        text-align: right;\n",
       "    }\n",
       "</style>\n",
       "<table border=\"1\" class=\"dataframe\">\n",
       "  <thead>\n",
       "    <tr style=\"text-align: right;\">\n",
       "      <th></th>\n",
       "      <th>measurement_id</th>\n",
       "      <th>subject_id</th>\n",
       "      <th>on_off</th>\n",
       "      <th>dyskinesia</th>\n",
       "      <th>tremor</th>\n",
       "    </tr>\n",
       "  </thead>\n",
       "  <tbody>\n",
       "    <tr>\n",
       "      <th>0</th>\n",
       "      <td>cc7b822c-e310-46f0-a8ea-98c95fdb67a1</td>\n",
       "      <td>1004</td>\n",
       "      <td>1</td>\n",
       "      <td>1</td>\n",
       "      <td>1</td>\n",
       "    </tr>\n",
       "    <tr>\n",
       "      <th>0</th>\n",
       "      <td>cc7b822c-e310-46f0-a8ea-98c95fdb67a1</td>\n",
       "      <td>1004</td>\n",
       "      <td>1</td>\n",
       "      <td>1</td>\n",
       "      <td>1</td>\n",
       "    </tr>\n",
       "    <tr>\n",
       "      <th>0</th>\n",
       "      <td>cc7b822c-e310-46f0-a8ea-98c95fdb67a1</td>\n",
       "      <td>1004</td>\n",
       "      <td>1</td>\n",
       "      <td>1</td>\n",
       "      <td>1</td>\n",
       "    </tr>\n",
       "    <tr>\n",
       "      <th>0</th>\n",
       "      <td>cc7b822c-e310-46f0-a8ea-98c95fdb67a1</td>\n",
       "      <td>1004</td>\n",
       "      <td>1</td>\n",
       "      <td>1</td>\n",
       "      <td>1</td>\n",
       "    </tr>\n",
       "    <tr>\n",
       "      <th>0</th>\n",
       "      <td>cc7b822c-e310-46f0-a8ea-98c95fdb67a1</td>\n",
       "      <td>1004</td>\n",
       "      <td>1</td>\n",
       "      <td>1</td>\n",
       "      <td>1</td>\n",
       "    </tr>\n",
       "  </tbody>\n",
       "</table>\n",
       "</div>"
      ],
      "text/plain": [
       "                         measurement_id subject_id on_off dyskinesia tremor\n",
       "0  cc7b822c-e310-46f0-a8ea-98c95fdb67a1       1004      1          1      1\n",
       "0  cc7b822c-e310-46f0-a8ea-98c95fdb67a1       1004      1          1      1\n",
       "0  cc7b822c-e310-46f0-a8ea-98c95fdb67a1       1004      1          1      1\n",
       "0  cc7b822c-e310-46f0-a8ea-98c95fdb67a1       1004      1          1      1\n",
       "0  cc7b822c-e310-46f0-a8ea-98c95fdb67a1       1004      1          1      1"
      ]
     },
     "execution_count": 211,
     "metadata": {},
     "output_type": "execute_result"
    }
   ],
   "source": [
    "y.T.head() #much better :D"
   ]
  },
  {
   "cell_type": "code",
   "execution_count": 212,
   "metadata": {},
   "outputs": [],
   "source": [
    "pkl.dump(y.T, open(\"/n/scratch2/ms994/beat_pd_labels_1s.pkl\", \"wb\"))"
   ]
  },
  {
   "cell_type": "code",
   "execution_count": 214,
   "metadata": {},
   "outputs": [],
   "source": [
    "y = y.T"
   ]
  },
  {
   "cell_type": "markdown",
   "metadata": {},
   "source": [
    "## load stored pkl data"
   ]
  },
  {
   "cell_type": "code",
   "execution_count": 2,
   "metadata": {},
   "outputs": [],
   "source": [
    "import pickle as pkl\n",
    "np_x_data = pkl.load(open(\"/n/scratch2/ms994/beat_pd_frequency_data.pkl\", \"rb\"))\n"
   ]
  },
  {
   "cell_type": "code",
   "execution_count": 3,
   "metadata": {},
   "outputs": [],
   "source": [
    "y = pkl.load(open(\"/n/scratch2/ms994/beat_pd_labels_1s.pkl\", \"rb\"))"
   ]
  },
  {
   "cell_type": "markdown",
   "metadata": {},
   "source": [
    "## let's make a quick RF model"
   ]
  },
  {
   "cell_type": "code",
   "execution_count": 217,
   "metadata": {},
   "outputs": [],
   "source": [
    "linReg = sklearn.linear_model.LinearRegression()\n",
    "y_on_off = y.on_off\n",
    "x = pca_feats"
   ]
  },
  {
   "cell_type": "code",
   "execution_count": 218,
   "metadata": {},
   "outputs": [],
   "source": [
    "from sklearn.model_selection import train_test_split\n",
    "x_train, x_test, y_train, y_test = train_test_split(x, y_on_off)"
   ]
  },
  {
   "cell_type": "code",
   "execution_count": 220,
   "metadata": {},
   "outputs": [],
   "source": [
    "linReg = linReg.fit(x_train, y_train)"
   ]
  },
  {
   "cell_type": "code",
   "execution_count": 221,
   "metadata": {},
   "outputs": [],
   "source": [
    "y_pred = linReg.predict(x_test)"
   ]
  },
  {
   "cell_type": "code",
   "execution_count": 223,
   "metadata": {},
   "outputs": [
    {
     "data": {
      "text/plain": [
       "1.7136879963985014"
      ]
     },
     "execution_count": 223,
     "metadata": {},
     "output_type": "execute_result"
    }
   ],
   "source": [
    "from sklearn.metrics import mean_squared_error as mse\n",
    "mse(y_test, y_pred) #bit bad on a 4 point scale"
   ]
  },
  {
   "cell_type": "code",
   "execution_count": 225,
   "metadata": {},
   "outputs": [
    {
     "data": {
      "text/plain": [
       "[<matplotlib.lines.Line2D at 0x7fda995749b0>]"
      ]
     },
     "execution_count": 225,
     "metadata": {},
     "output_type": "execute_result"
    },
    {
     "data": {
      "image/png": "[encoded data removed]",
      "text/plain": [
       "<Figure size 432x288 with 1 Axes>"
      ]
     },
     "metadata": {
      "needs_background": "light"
     },
     "output_type": "display_data"
    }
   ],
   "source": [
    "plt.plot(y_pred, y_test, \"*\") # looks like a mess, some predictions at -3, never goes to 4"
   ]
  },
  {
   "cell_type": "code",
   "execution_count": null,
   "metadata": {},
   "outputs": [],
   "source": [
    "plt.plot(y_pred + , y_test, \"*\") # looks like a mess, some predictions at -3, never goes to 4"
   ]
  },
  {
   "cell_type": "code",
   "execution_count": 234,
   "metadata": {},
   "outputs": [],
   "source": [
    "rf = sklearn.ensemble.RandomForestClassifier(n_estimators=100, max_features=0.33, oob_score=True, n_jobs=4)\n",
    "rf = rf.fit(x_train, y_train.values.astype(int))\n",
    "y_pred = rf.predict(x_test)\n",
    "score = mse(y_pred, y_test)"
   ]
  },
  {
   "cell_type": "code",
   "execution_count": 236,
   "metadata": {},
   "outputs": [
    {
     "data": {
      "text/plain": [
       "2.2442557641371526"
      ]
     },
     "execution_count": 236,
     "metadata": {},
     "output_type": "execute_result"
    }
   ],
   "source": [
    "score #holy cow this is worst"
   ]
  },
  {
   "cell_type": "code",
   "execution_count": 243,
   "metadata": {},
   "outputs": [
    {
     "data": {
      "text/plain": [
       "552728"
      ]
     },
     "execution_count": 243,
     "metadata": {},
     "output_type": "execute_result"
    }
   ],
   "source": [
    "len(y_test)"
   ]
  },
  {
   "cell_type": "code",
   "execution_count": 253,
   "metadata": {},
   "outputs": [],
   "source": [
    "y_test_jitter = y_test + np.random.random(len(y_test))*0.2 #add some jitter to show off data\n",
    "y_pred_jitter = y_pred + np.random.random(len(y_test))*0.2 #add some jitter to show off data\n",
    "\n",
    "subindex = np.random.choice(len(y_test), 52728, replace=False)"
   ]
  },
  {
   "cell_type": "code",
   "execution_count": 252,
   "metadata": {},
   "outputs": [
    {
     "data": {
      "text/plain": [
       "(552728, 552728, 52728)"
      ]
     },
     "execution_count": 252,
     "metadata": {},
     "output_type": "execute_result"
    }
   ],
   "source": [
    "len(y_test_jitter), len(y_pred), len(subindex)"
   ]
  },
  {
   "cell_type": "code",
   "execution_count": 258,
   "metadata": {},
   "outputs": [
    {
     "data": {
      "text/plain": [
       "0     1.0943\n",
       "0    1.05754\n",
       "0    1.07146\n",
       "0    1.11057\n",
       "0    1.18453\n",
       "0    1.01304\n",
       "0    1.19432\n",
       "0    1.05007\n",
       "0    1.10559\n",
       "0    1.18236\n",
       "0    1.13693\n",
       "0      1.127\n",
       "0    1.03009\n",
       "0    1.05123\n",
       "0    1.10678\n",
       "0    1.14978\n",
       "0    1.01541\n",
       "0    1.16645\n",
       "0    1.17752\n",
       "0     1.0157\n",
       "0    1.02633\n",
       "0    1.02148\n",
       "0      1.095\n",
       "0    1.00396\n",
       "0     1.1832\n",
       "0    1.04287\n",
       "0    1.04043\n",
       "0    1.18253\n",
       "0     1.0765\n",
       "0    1.04985\n",
       "      ...   \n",
       "0    1.06134\n",
       "0    1.09462\n",
       "0    1.04022\n",
       "0     1.0566\n",
       "0    1.10887\n",
       "0    1.15293\n",
       "0    1.10003\n",
       "0    1.09139\n",
       "0    1.12064\n",
       "0    1.14518\n",
       "0    1.19359\n",
       "0    1.19322\n",
       "0    1.14302\n",
       "0    1.09356\n",
       "0    1.00357\n",
       "0    1.03201\n",
       "0    1.13716\n",
       "0    1.17981\n",
       "0     1.0651\n",
       "0    1.05057\n",
       "0    1.06026\n",
       "0    1.01549\n",
       "0    1.00514\n",
       "0    1.14774\n",
       "0    1.12572\n",
       "0    1.04301\n",
       "0    1.19912\n",
       "0    1.08313\n",
       "0    1.12101\n",
       "0    1.03324\n",
       "Name: on_off, Length: 513, dtype: object"
      ]
     },
     "execution_count": 258,
     "metadata": {},
     "output_type": "execute_result"
    }
   ],
   "source": [
    "y_test_jitter[0]"
   ]
  },
  {
   "cell_type": "code",
   "execution_count": 254,
   "metadata": {},
   "outputs": [
    {
     "ename": "ValueError",
     "evalue": "x and y must have same first dimension, but have shapes (111995,) and (52728,)",
     "output_type": "error",
     "traceback": [
      "\u001b[0;31m---------------------------------------------------------------------------\u001b[0m",
      "\u001b[0;31mValueError\u001b[0m                                Traceback (most recent call last)",
      "\u001b[0;32m<ipython-input-254-07daf5c6acc5>\u001b[0m in \u001b[0;36m<module>\u001b[0;34m\u001b[0m\n\u001b[0;32m----> 1\u001b[0;31m \u001b[0mplt\u001b[0m\u001b[0;34m.\u001b[0m\u001b[0mplot\u001b[0m\u001b[0;34m(\u001b[0m\u001b[0my_test_jitter\u001b[0m\u001b[0;34m[\u001b[0m\u001b[0msubindex\u001b[0m\u001b[0;34m]\u001b[0m\u001b[0;34m,\u001b[0m \u001b[0my_pred_jitter\u001b[0m\u001b[0;34m[\u001b[0m\u001b[0msubindex\u001b[0m\u001b[0;34m]\u001b[0m\u001b[0;34m,\u001b[0m \u001b[0;34m\"*\"\u001b[0m\u001b[0;34m)\u001b[0m\u001b[0;34m\u001b[0m\u001b[0;34m\u001b[0m\u001b[0m\n\u001b[0m",
      "\u001b[0;32m~/miniconda3/envs/keras-redo-cpu/lib/python3.7/site-packages/matplotlib/pyplot.py\u001b[0m in \u001b[0;36mplot\u001b[0;34m(scalex, scaley, data, *args, **kwargs)\u001b[0m\n\u001b[1;32m   2809\u001b[0m     return gca().plot(\n\u001b[1;32m   2810\u001b[0m         *args, scalex=scalex, scaley=scaley, **({\"data\": data} if data\n\u001b[0;32m-> 2811\u001b[0;31m         is not None else {}), **kwargs)\n\u001b[0m\u001b[1;32m   2812\u001b[0m \u001b[0;34m\u001b[0m\u001b[0m\n\u001b[1;32m   2813\u001b[0m \u001b[0;34m\u001b[0m\u001b[0m\n",
      "\u001b[0;32m~/miniconda3/envs/keras-redo-cpu/lib/python3.7/site-packages/matplotlib/__init__.py\u001b[0m in \u001b[0;36minner\u001b[0;34m(ax, data, *args, **kwargs)\u001b[0m\n\u001b[1;32m   1808\u001b[0m                         \u001b[0;34m\"the Matplotlib list!)\"\u001b[0m \u001b[0;34m%\u001b[0m \u001b[0;34m(\u001b[0m\u001b[0mlabel_namer\u001b[0m\u001b[0;34m,\u001b[0m \u001b[0mfunc\u001b[0m\u001b[0;34m.\u001b[0m\u001b[0m__name__\u001b[0m\u001b[0;34m)\u001b[0m\u001b[0;34m,\u001b[0m\u001b[0;34m\u001b[0m\u001b[0;34m\u001b[0m\u001b[0m\n\u001b[1;32m   1809\u001b[0m                         RuntimeWarning, stacklevel=2)\n\u001b[0;32m-> 1810\u001b[0;31m             \u001b[0;32mreturn\u001b[0m \u001b[0mfunc\u001b[0m\u001b[0;34m(\u001b[0m\u001b[0max\u001b[0m\u001b[0;34m,\u001b[0m \u001b[0;34m*\u001b[0m\u001b[0margs\u001b[0m\u001b[0;34m,\u001b[0m \u001b[0;34m**\u001b[0m\u001b[0mkwargs\u001b[0m\u001b[0;34m)\u001b[0m\u001b[0;34m\u001b[0m\u001b[0;34m\u001b[0m\u001b[0m\n\u001b[0m\u001b[1;32m   1811\u001b[0m \u001b[0;34m\u001b[0m\u001b[0m\n\u001b[1;32m   1812\u001b[0m         inner.__doc__ = _add_data_doc(inner.__doc__,\n",
      "\u001b[0;32m~/miniconda3/envs/keras-redo-cpu/lib/python3.7/site-packages/matplotlib/axes/_axes.py\u001b[0m in \u001b[0;36mplot\u001b[0;34m(self, scalex, scaley, *args, **kwargs)\u001b[0m\n\u001b[1;32m   1609\u001b[0m         \u001b[0mkwargs\u001b[0m \u001b[0;34m=\u001b[0m \u001b[0mcbook\u001b[0m\u001b[0;34m.\u001b[0m\u001b[0mnormalize_kwargs\u001b[0m\u001b[0;34m(\u001b[0m\u001b[0mkwargs\u001b[0m\u001b[0;34m,\u001b[0m \u001b[0mmlines\u001b[0m\u001b[0;34m.\u001b[0m\u001b[0mLine2D\u001b[0m\u001b[0;34m.\u001b[0m\u001b[0m_alias_map\u001b[0m\u001b[0;34m)\u001b[0m\u001b[0;34m\u001b[0m\u001b[0;34m\u001b[0m\u001b[0m\n\u001b[1;32m   1610\u001b[0m \u001b[0;34m\u001b[0m\u001b[0m\n\u001b[0;32m-> 1611\u001b[0;31m         \u001b[0;32mfor\u001b[0m \u001b[0mline\u001b[0m \u001b[0;32min\u001b[0m \u001b[0mself\u001b[0m\u001b[0;34m.\u001b[0m\u001b[0m_get_lines\u001b[0m\u001b[0;34m(\u001b[0m\u001b[0;34m*\u001b[0m\u001b[0margs\u001b[0m\u001b[0;34m,\u001b[0m \u001b[0;34m**\u001b[0m\u001b[0mkwargs\u001b[0m\u001b[0;34m)\u001b[0m\u001b[0;34m:\u001b[0m\u001b[0;34m\u001b[0m\u001b[0;34m\u001b[0m\u001b[0m\n\u001b[0m\u001b[1;32m   1612\u001b[0m             \u001b[0mself\u001b[0m\u001b[0;34m.\u001b[0m\u001b[0madd_line\u001b[0m\u001b[0;34m(\u001b[0m\u001b[0mline\u001b[0m\u001b[0;34m)\u001b[0m\u001b[0;34m\u001b[0m\u001b[0;34m\u001b[0m\u001b[0m\n\u001b[1;32m   1613\u001b[0m             \u001b[0mlines\u001b[0m\u001b[0;34m.\u001b[0m\u001b[0mappend\u001b[0m\u001b[0;34m(\u001b[0m\u001b[0mline\u001b[0m\u001b[0;34m)\u001b[0m\u001b[0;34m\u001b[0m\u001b[0;34m\u001b[0m\u001b[0m\n",
      "\u001b[0;32m~/miniconda3/envs/keras-redo-cpu/lib/python3.7/site-packages/matplotlib/axes/_base.py\u001b[0m in \u001b[0;36m_grab_next_args\u001b[0;34m(self, *args, **kwargs)\u001b[0m\n\u001b[1;32m    391\u001b[0m                 \u001b[0mthis\u001b[0m \u001b[0;34m+=\u001b[0m \u001b[0margs\u001b[0m\u001b[0;34m[\u001b[0m\u001b[0;36m0\u001b[0m\u001b[0;34m]\u001b[0m\u001b[0;34m,\u001b[0m\u001b[0;34m\u001b[0m\u001b[0;34m\u001b[0m\u001b[0m\n\u001b[1;32m    392\u001b[0m                 \u001b[0margs\u001b[0m \u001b[0;34m=\u001b[0m \u001b[0margs\u001b[0m\u001b[0;34m[\u001b[0m\u001b[0;36m1\u001b[0m\u001b[0;34m:\u001b[0m\u001b[0;34m]\u001b[0m\u001b[0;34m\u001b[0m\u001b[0;34m\u001b[0m\u001b[0m\n\u001b[0;32m--> 393\u001b[0;31m             \u001b[0;32myield\u001b[0m \u001b[0;32mfrom\u001b[0m \u001b[0mself\u001b[0m\u001b[0;34m.\u001b[0m\u001b[0m_plot_args\u001b[0m\u001b[0;34m(\u001b[0m\u001b[0mthis\u001b[0m\u001b[0;34m,\u001b[0m \u001b[0mkwargs\u001b[0m\u001b[0;34m)\u001b[0m\u001b[0;34m\u001b[0m\u001b[0;34m\u001b[0m\u001b[0m\n\u001b[0m\u001b[1;32m    394\u001b[0m \u001b[0;34m\u001b[0m\u001b[0m\n\u001b[1;32m    395\u001b[0m \u001b[0;34m\u001b[0m\u001b[0m\n",
      "\u001b[0;32m~/miniconda3/envs/keras-redo-cpu/lib/python3.7/site-packages/matplotlib/axes/_base.py\u001b[0m in \u001b[0;36m_plot_args\u001b[0;34m(self, tup, kwargs)\u001b[0m\n\u001b[1;32m    368\u001b[0m             \u001b[0mx\u001b[0m\u001b[0;34m,\u001b[0m \u001b[0my\u001b[0m \u001b[0;34m=\u001b[0m \u001b[0mindex_of\u001b[0m\u001b[0;34m(\u001b[0m\u001b[0mtup\u001b[0m\u001b[0;34m[\u001b[0m\u001b[0;34m-\u001b[0m\u001b[0;36m1\u001b[0m\u001b[0;34m]\u001b[0m\u001b[0;34m)\u001b[0m\u001b[0;34m\u001b[0m\u001b[0;34m\u001b[0m\u001b[0m\n\u001b[1;32m    369\u001b[0m \u001b[0;34m\u001b[0m\u001b[0m\n\u001b[0;32m--> 370\u001b[0;31m         \u001b[0mx\u001b[0m\u001b[0;34m,\u001b[0m \u001b[0my\u001b[0m \u001b[0;34m=\u001b[0m \u001b[0mself\u001b[0m\u001b[0;34m.\u001b[0m\u001b[0m_xy_from_xy\u001b[0m\u001b[0;34m(\u001b[0m\u001b[0mx\u001b[0m\u001b[0;34m,\u001b[0m \u001b[0my\u001b[0m\u001b[0;34m)\u001b[0m\u001b[0;34m\u001b[0m\u001b[0;34m\u001b[0m\u001b[0m\n\u001b[0m\u001b[1;32m    371\u001b[0m \u001b[0;34m\u001b[0m\u001b[0m\n\u001b[1;32m    372\u001b[0m         \u001b[0;32mif\u001b[0m \u001b[0mself\u001b[0m\u001b[0;34m.\u001b[0m\u001b[0mcommand\u001b[0m \u001b[0;34m==\u001b[0m \u001b[0;34m'plot'\u001b[0m\u001b[0;34m:\u001b[0m\u001b[0;34m\u001b[0m\u001b[0;34m\u001b[0m\u001b[0m\n",
      "\u001b[0;32m~/miniconda3/envs/keras-redo-cpu/lib/python3.7/site-packages/matplotlib/axes/_base.py\u001b[0m in \u001b[0;36m_xy_from_xy\u001b[0;34m(self, x, y)\u001b[0m\n\u001b[1;32m    229\u001b[0m         \u001b[0;32mif\u001b[0m \u001b[0mx\u001b[0m\u001b[0;34m.\u001b[0m\u001b[0mshape\u001b[0m\u001b[0;34m[\u001b[0m\u001b[0;36m0\u001b[0m\u001b[0;34m]\u001b[0m \u001b[0;34m!=\u001b[0m \u001b[0my\u001b[0m\u001b[0;34m.\u001b[0m\u001b[0mshape\u001b[0m\u001b[0;34m[\u001b[0m\u001b[0;36m0\u001b[0m\u001b[0;34m]\u001b[0m\u001b[0;34m:\u001b[0m\u001b[0;34m\u001b[0m\u001b[0;34m\u001b[0m\u001b[0m\n\u001b[1;32m    230\u001b[0m             raise ValueError(\"x and y must have same first dimension, but \"\n\u001b[0;32m--> 231\u001b[0;31m                              \"have shapes {} and {}\".format(x.shape, y.shape))\n\u001b[0m\u001b[1;32m    232\u001b[0m         \u001b[0;32mif\u001b[0m \u001b[0mx\u001b[0m\u001b[0;34m.\u001b[0m\u001b[0mndim\u001b[0m \u001b[0;34m>\u001b[0m \u001b[0;36m2\u001b[0m \u001b[0;32mor\u001b[0m \u001b[0my\u001b[0m\u001b[0;34m.\u001b[0m\u001b[0mndim\u001b[0m \u001b[0;34m>\u001b[0m \u001b[0;36m2\u001b[0m\u001b[0;34m:\u001b[0m\u001b[0;34m\u001b[0m\u001b[0;34m\u001b[0m\u001b[0m\n\u001b[1;32m    233\u001b[0m             raise ValueError(\"x and y can be no greater than 2-D, but have \"\n",
      "\u001b[0;31mValueError\u001b[0m: x and y must have same first dimension, but have shapes (111995,) and (52728,)"
     ]
    },
    {
     "data": {
      "image/png": "[encoded data removed]",
      "text/plain": [
       "<Figure size 432x288 with 1 Axes>"
      ]
     },
     "metadata": {
      "needs_background": "light"
     },
     "output_type": "display_data"
    }
   ],
   "source": [
    "plt.plot(y_test_jitter[subindex], y_pred_jitter[subindex], \"*\")"
   ]
  },
  {
   "cell_type": "code",
   "execution_count": 240,
   "metadata": {},
   "outputs": [
    {
     "data": {
      "text/plain": [
       "<matplotlib.axes._subplots.AxesSubplot at 0x7fda9520d978>"
      ]
     },
     "execution_count": 240,
     "metadata": {},
     "output_type": "execute_result"
    },
    {
     "data": {
      "image/png": "[encoded data removed]",
      "text/plain": [
       "<Figure size 432x288 with 1 Axes>"
      ]
     },
     "metadata": {
      "needs_background": "light"
     },
     "output_type": "display_data"
    }
   ],
   "source": [
    "sns.scatterplot(y_test, y_pred, x_jitter=0.3, y_jitter=0.3)"
   ]
  },
  {
   "cell_type": "code",
   "execution_count": 228,
   "metadata": {},
   "outputs": [],
   "source": [
    "from sklearn.ensemble import RandomForestClassifier\n",
    "#rf doesnt need cv, use the OOB\n",
    "all_rf = []\n",
    "for i in range(1, 21, 5):\n",
    "    rf = sklearn.ensemble.RandomForestClassifier(n_estimators=10*i, max_features=0.33, oob_score=True, n_jobs=4)\n",
    "    rf = rf.fit(x_train, y_train)\n",
    "    y_pred = rf.predict(x_test)\n",
    "    score = mse(y_pred, y_test)\n",
    "    all_rf.append({\"pred\": rf, \"y_pred\": y_pred, \"oob_score\": rf.})"
   ]
  },
  {
   "cell_type": "markdown",
   "metadata": {},
   "source": [
    "### try some more data cleaning\n",
    "let's try looking at and removing data between 1 and 99th percentile"
   ]
  },
  {
   "cell_type": "code",
   "execution_count": 4,
   "metadata": {},
   "outputs": [],
   "source": [
    "flatten_x = np_x_data.reshape((-1, 3*26))"
   ]
  },
  {
   "cell_type": "code",
   "execution_count": 5,
   "metadata": {},
   "outputs": [
    {
     "data": {
      "text/plain": [
       "(array([2.06100e+06, 1.45267e+05, 3.26700e+03, 6.18000e+02, 3.79000e+02,\n",
       "        2.20000e+02, 1.03000e+02, 4.10000e+01, 1.50000e+01, 2.00000e+00]),\n",
       " array([2.45866013e-05, 5.12555806e-03, 1.02265295e-02, 1.53275010e-02,\n",
       "        2.04284724e-02, 2.55294439e-02, 3.06304153e-02, 3.57313868e-02,\n",
       "        4.08323583e-02, 4.59333297e-02, 5.10343012e-02]),\n",
       " <a list of 10 Patch objects>)"
      ]
     },
     "execution_count": 5,
     "metadata": {},
     "output_type": "execute_result"
    },
    {
     "data": {
      "image/png": "[encoded data removed]",
      "text/plain": [
       "<Figure size 432x288 with 1 Axes>"
      ]
     },
     "metadata": {
      "needs_background": "light"
     },
     "output_type": "display_data"
    }
   ],
   "source": [
    "plt.title(\"Distribution of Average Power of Frequencies\")\n",
    "plt.hist(flatten_x.mean(axis=1)) "
   ]
  },
  {
   "cell_type": "code",
   "execution_count": 6,
   "metadata": {},
   "outputs": [],
   "source": [
    "average_freq_pow = flatten_x.mean(axis=1)"
   ]
  },
  {
   "cell_type": "code",
   "execution_count": 7,
   "metadata": {},
   "outputs": [
    {
     "data": {
      "text/plain": [
       "0.0003609370250828617"
      ]
     },
     "execution_count": 7,
     "metadata": {},
     "output_type": "execute_result"
    }
   ],
   "source": [
    "np.mean(average_freq_pow > 0.02) #less than 0.0003 of the data has such a high power"
   ]
  },
  {
   "cell_type": "code",
   "execution_count": 8,
   "metadata": {},
   "outputs": [],
   "source": [
    "filtered_x = flatten_x[average_freq_pow < 0.02]"
   ]
  },
  {
   "cell_type": "code",
   "execution_count": 12,
   "metadata": {},
   "outputs": [
    {
     "data": {
      "text/plain": [
       "(963, 5)"
      ]
     },
     "execution_count": 12,
     "metadata": {},
     "output_type": "execute_result"
    }
   ],
   "source": [
    "labels.shape"
   ]
  },
  {
   "cell_type": "code",
   "execution_count": 13,
   "metadata": {},
   "outputs": [],
   "source": [
    "y_filter = y[average_freq_pow < 0.02]"
   ]
  },
  {
   "cell_type": "code",
   "execution_count": 14,
   "metadata": {},
   "outputs": [
    {
     "data": {
      "text/plain": [
       "(array([7.21225e+05, 6.23237e+05, 4.08854e+05, 4.04686e+05, 5.13650e+04,\n",
       "        6.06000e+02, 1.02000e+02, 2.50000e+01, 9.00000e+00, 5.00000e+00]),\n",
       " array([7.40259681e-05, 6.41768071e-03, 1.27613355e-02, 1.91049902e-02,\n",
       "        2.54486449e-02, 3.17922997e-02, 3.81359544e-02, 4.44796092e-02,\n",
       "        5.08232639e-02, 5.71669187e-02, 6.35105734e-02]),\n",
       " <a list of 10 Patch objects>)"
      ]
     },
     "execution_count": 14,
     "metadata": {},
     "output_type": "execute_result"
    },
    {
     "data": {
      "image/png": "[encoded data removed]",
      "text/plain": [
       "<Figure size 432x288 with 1 Axes>"
      ]
     },
     "metadata": {
      "needs_background": "light"
     },
     "output_type": "display_data"
    }
   ],
   "source": [
    "plt.hist(filtered_x.std(axis=1)) "
   ]
  },
  {
   "cell_type": "markdown",
   "metadata": {},
   "source": [
    "Some really noisy segments at or above 0.3. what percentage of seconds have that?"
   ]
  },
  {
   "cell_type": "code",
   "execution_count": 15,
   "metadata": {},
   "outputs": [
    {
     "data": {
      "text/plain": [
       "4.117434666266084e-05"
      ]
     },
     "execution_count": 15,
     "metadata": {},
     "output_type": "execute_result"
    }
   ],
   "source": [
    "np.mean(filtered_x.std(axis=1) > 0.04) #don't care, just take it off"
   ]
  },
  {
   "cell_type": "code",
   "execution_count": 16,
   "metadata": {},
   "outputs": [
    {
     "data": {
      "text/plain": [
       "(array([3.55000e+02, 2.35900e+03, 1.09130e+04, 5.98870e+04, 2.01587e+05,\n",
       "        4.62867e+05, 6.05599e+05, 7.32361e+05, 1.30344e+05, 3.84200e+03]),\n",
       " array([-6.2566001 , -5.58648238, -4.91636467, -4.24624695, -3.57612923,\n",
       "        -2.90601152, -2.2358938 , -1.56577608, -0.89565837, -0.22554065,\n",
       "         0.44457707]),\n",
       " <a list of 10 Patch objects>)"
      ]
     },
     "execution_count": 16,
     "metadata": {},
     "output_type": "execute_result"
    },
    {
     "data": {
      "image/png": "[encoded data removed]",
      "text/plain": [
       "<Figure size 432x288 with 1 Axes>"
      ]
     },
     "metadata": {
      "needs_background": "light"
     },
     "output_type": "display_data"
    }
   ],
   "source": [
    "plt.hist(np.log(filtered_x.sum(axis=1))) #some of the samples are likely no activity segments (when the person takes off the sensor)"
   ]
  },
  {
   "cell_type": "code",
   "execution_count": 17,
   "metadata": {},
   "outputs": [],
   "source": [
    "y_filter = y_filter[filtered_x.std(axis=1) < 0.04]"
   ]
  },
  {
   "cell_type": "code",
   "execution_count": 18,
   "metadata": {},
   "outputs": [],
   "source": [
    "filtered_x = filtered_x[filtered_x.std(axis=1) < 0.04]"
   ]
  },
  {
   "cell_type": "code",
   "execution_count": 19,
   "metadata": {},
   "outputs": [],
   "source": [
    "y_filter = y_filter[np.log(filtered_x.sum(axis=1)) > -4]\n",
    "filtered_x = filtered_x[np.log(filtered_x.sum(axis=1)) > -4]"
   ]
  },
  {
   "cell_type": "code",
   "execution_count": 20,
   "metadata": {},
   "outputs": [
    {
     "data": {
      "text/plain": [
       "0.016581392656062295"
      ]
     },
     "execution_count": 20,
     "metadata": {},
     "output_type": "execute_result"
    }
   ],
   "source": [
    "(flatten_x.shape[0] - filtered_x.shape[0])/flatten_x.shape[0] #removed approximately 0.001 of the data"
   ]
  },
  {
   "cell_type": "code",
   "execution_count": 24,
   "metadata": {},
   "outputs": [
    {
     "data": {
      "text/plain": [
       "(2174252, 78)"
      ]
     },
     "execution_count": 24,
     "metadata": {},
     "output_type": "execute_result"
    }
   ],
   "source": [
    "filtered_x.shape"
   ]
  },
  {
   "cell_type": "code",
   "execution_count": 25,
   "metadata": {},
   "outputs": [],
   "source": [
    "from sklearn.decomposition import PCA\n",
    "pca = PCA()\n",
    "pca = pca.fit(filtered_x)"
   ]
  },
  {
   "cell_type": "code",
   "execution_count": 26,
   "metadata": {},
   "outputs": [
    {
     "data": {
      "text/plain": [
       "<BarContainer object of 78 artists>"
      ]
     },
     "execution_count": 26,
     "metadata": {},
     "output_type": "execute_result"
    },
    {
     "data": {
      "image/png": "[encoded data removed]",
      "text/plain": [
       "<Figure size 432x288 with 1 Axes>"
      ]
     },
     "metadata": {
      "needs_background": "light"
     },
     "output_type": "display_data"
    }
   ],
   "source": [
    "plt.bar(x=[i for i in range(3*26 )], height=pca.explained_variance_ratio_)"
   ]
  },
  {
   "cell_type": "code",
   "execution_count": 27,
   "metadata": {},
   "outputs": [
    {
     "data": {
      "text/plain": [
       "<BarContainer object of 77 artists>"
      ]
     },
     "execution_count": 27,
     "metadata": {},
     "output_type": "execute_result"
    },
    {
     "data": {
      "image/png": "[encoded data removed]",
      "text/plain": [
       "<Figure size 432x288 with 1 Axes>"
      ]
     },
     "metadata": {
      "needs_background": "light"
     },
     "output_type": "display_data"
    }
   ],
   "source": [
    "plt.bar(x=[i for i in range(3*26 - 1)], height=pca.explained_variance_ratio_[1:])"
   ]
  },
  {
   "cell_type": "code",
   "execution_count": 28,
   "metadata": {},
   "outputs": [],
   "source": [
    "pca_feats = pca.fit_transform(filtered_x)"
   ]
  },
  {
   "cell_type": "code",
   "execution_count": 29,
   "metadata": {},
   "outputs": [
    {
     "data": {
      "text/plain": [
       "((2174252, 78), (2174252, 5))"
      ]
     },
     "execution_count": 29,
     "metadata": {},
     "output_type": "execute_result"
    }
   ],
   "source": [
    "pca_feats.shape, y_filter.shape"
   ]
  },
  {
   "cell_type": "code",
   "execution_count": 30,
   "metadata": {},
   "outputs": [
    {
     "data": {
      "text/html": [
       "<div>\n",
       "<style scoped>\n",
       "    .dataframe tbody tr th:only-of-type {\n",
       "        vertical-align: middle;\n",
       "    }\n",
       "\n",
       "    .dataframe tbody tr th {\n",
       "        vertical-align: top;\n",
       "    }\n",
       "\n",
       "    .dataframe thead th {\n",
       "        text-align: right;\n",
       "    }\n",
       "</style>\n",
       "<table border=\"1\" class=\"dataframe\">\n",
       "  <thead>\n",
       "    <tr style=\"text-align: right;\">\n",
       "      <th></th>\n",
       "      <th>measurement_id</th>\n",
       "      <th>subject_id</th>\n",
       "      <th>on_off</th>\n",
       "      <th>dyskinesia</th>\n",
       "      <th>tremor</th>\n",
       "    </tr>\n",
       "  </thead>\n",
       "  <tbody>\n",
       "    <tr>\n",
       "      <th>0</th>\n",
       "      <td>cc7b822c-e310-46f0-a8ea-98c95fdb67a1</td>\n",
       "      <td>1004</td>\n",
       "      <td>1</td>\n",
       "      <td>1</td>\n",
       "      <td>1</td>\n",
       "    </tr>\n",
       "    <tr>\n",
       "      <th>0</th>\n",
       "      <td>cc7b822c-e310-46f0-a8ea-98c95fdb67a1</td>\n",
       "      <td>1004</td>\n",
       "      <td>1</td>\n",
       "      <td>1</td>\n",
       "      <td>1</td>\n",
       "    </tr>\n",
       "    <tr>\n",
       "      <th>0</th>\n",
       "      <td>cc7b822c-e310-46f0-a8ea-98c95fdb67a1</td>\n",
       "      <td>1004</td>\n",
       "      <td>1</td>\n",
       "      <td>1</td>\n",
       "      <td>1</td>\n",
       "    </tr>\n",
       "    <tr>\n",
       "      <th>0</th>\n",
       "      <td>cc7b822c-e310-46f0-a8ea-98c95fdb67a1</td>\n",
       "      <td>1004</td>\n",
       "      <td>1</td>\n",
       "      <td>1</td>\n",
       "      <td>1</td>\n",
       "    </tr>\n",
       "    <tr>\n",
       "      <th>0</th>\n",
       "      <td>cc7b822c-e310-46f0-a8ea-98c95fdb67a1</td>\n",
       "      <td>1004</td>\n",
       "      <td>1</td>\n",
       "      <td>1</td>\n",
       "      <td>1</td>\n",
       "    </tr>\n",
       "  </tbody>\n",
       "</table>\n",
       "</div>"
      ],
      "text/plain": [
       "                         measurement_id subject_id on_off dyskinesia tremor\n",
       "0  cc7b822c-e310-46f0-a8ea-98c95fdb67a1       1004      1          1      1\n",
       "0  cc7b822c-e310-46f0-a8ea-98c95fdb67a1       1004      1          1      1\n",
       "0  cc7b822c-e310-46f0-a8ea-98c95fdb67a1       1004      1          1      1\n",
       "0  cc7b822c-e310-46f0-a8ea-98c95fdb67a1       1004      1          1      1\n",
       "0  cc7b822c-e310-46f0-a8ea-98c95fdb67a1       1004      1          1      1"
      ]
     },
     "execution_count": 30,
     "metadata": {},
     "output_type": "execute_result"
    }
   ],
   "source": [
    "y_filter.head()"
   ]
  },
  {
   "cell_type": "markdown",
   "metadata": {},
   "source": [
    "## let's do a quick lin reg again"
   ]
  },
  {
   "cell_type": "code",
   "execution_count": 31,
   "metadata": {},
   "outputs": [],
   "source": [
    "from sklearn.linear_model import LinearRegression\n",
    "from sklearn.model_selection import train_test_split"
   ]
  },
  {
   "cell_type": "code",
   "execution_count": 33,
   "metadata": {},
   "outputs": [],
   "source": [
    "linReg = LinearRegression()\n",
    "#use the features that capture all of the variance\n",
    "x_train, x_test, y_train, y_test = train_test_split(pca_feats[:,0:20], y_filter)\n"
   ]
  },
  {
   "cell_type": "code",
   "execution_count": 36,
   "metadata": {},
   "outputs": [
    {
     "data": {
      "text/html": [
       "<div>\n",
       "<style scoped>\n",
       "    .dataframe tbody tr th:only-of-type {\n",
       "        vertical-align: middle;\n",
       "    }\n",
       "\n",
       "    .dataframe tbody tr th {\n",
       "        vertical-align: top;\n",
       "    }\n",
       "\n",
       "    .dataframe thead th {\n",
       "        text-align: right;\n",
       "    }\n",
       "</style>\n",
       "<table border=\"1\" class=\"dataframe\">\n",
       "  <thead>\n",
       "    <tr style=\"text-align: right;\">\n",
       "      <th></th>\n",
       "      <th>measurement_id</th>\n",
       "      <th>subject_id</th>\n",
       "      <th>on_off</th>\n",
       "      <th>dyskinesia</th>\n",
       "      <th>tremor</th>\n",
       "    </tr>\n",
       "  </thead>\n",
       "  <tbody>\n",
       "    <tr>\n",
       "      <th>56</th>\n",
       "      <td>e49db734-9ccf-4581-ae15-cbda39262bbf</td>\n",
       "      <td>1004</td>\n",
       "      <td>0</td>\n",
       "      <td>0</td>\n",
       "      <td>0</td>\n",
       "    </tr>\n",
       "    <tr>\n",
       "      <th>1635</th>\n",
       "      <td>28fa7e74-ba03-46bc-b6da-88261da5086d</td>\n",
       "      <td>1049</td>\n",
       "      <td>1</td>\n",
       "      <td>1</td>\n",
       "      <td>2</td>\n",
       "    </tr>\n",
       "    <tr>\n",
       "      <th>756</th>\n",
       "      <td>8e8539ad-8841-476b-b15c-888ce3461989</td>\n",
       "      <td>1023</td>\n",
       "      <td>0</td>\n",
       "      <td>0</td>\n",
       "      <td>0</td>\n",
       "    </tr>\n",
       "    <tr>\n",
       "      <th>256</th>\n",
       "      <td>61ffc084-9e6e-49f2-b235-8c6cf1bc2bae</td>\n",
       "      <td>1007</td>\n",
       "      <td>1</td>\n",
       "      <td>0</td>\n",
       "      <td>1</td>\n",
       "    </tr>\n",
       "    <tr>\n",
       "      <th>334</th>\n",
       "      <td>b91a582c-d54d-4975-b2bd-15f2c194a4b8</td>\n",
       "      <td>1007</td>\n",
       "      <td>0</td>\n",
       "      <td>0</td>\n",
       "      <td>1</td>\n",
       "    </tr>\n",
       "  </tbody>\n",
       "</table>\n",
       "</div>"
      ],
      "text/plain": [
       "                            measurement_id subject_id on_off dyskinesia tremor\n",
       "56    e49db734-9ccf-4581-ae15-cbda39262bbf       1004      0          0      0\n",
       "1635  28fa7e74-ba03-46bc-b6da-88261da5086d       1049      1          1      2\n",
       "756   8e8539ad-8841-476b-b15c-888ce3461989       1023      0          0      0\n",
       "256   61ffc084-9e6e-49f2-b235-8c6cf1bc2bae       1007      1          0      1\n",
       "334   b91a582c-d54d-4975-b2bd-15f2c194a4b8       1007      0          0      1"
      ]
     },
     "execution_count": 36,
     "metadata": {},
     "output_type": "execute_result"
    }
   ],
   "source": [
    "y_train.head()"
   ]
  },
  {
   "cell_type": "code",
   "execution_count": 37,
   "metadata": {},
   "outputs": [],
   "source": [
    "linReg = linReg.fit(x_train, y_train.on_off.astype(int))"
   ]
  },
  {
   "cell_type": "code",
   "execution_count": 39,
   "metadata": {},
   "outputs": [
    {
     "data": {
      "text/plain": [
       "1.720068106058182"
      ]
     },
     "execution_count": 39,
     "metadata": {},
     "output_type": "execute_result"
    }
   ],
   "source": [
    "from sklearn.metrics import mean_squared_error as mse\n",
    "mse(y_train.on_off.astype(int), linReg.predict(x_train)) "
   ]
  },
  {
   "cell_type": "code",
   "execution_count": 40,
   "metadata": {},
   "outputs": [
    {
     "data": {
      "text/plain": [
       "1.7229724057105518"
      ]
     },
     "execution_count": 40,
     "metadata": {},
     "output_type": "execute_result"
    }
   ],
   "source": [
    "mse(y_test.on_off.astype(int), linReg.predict(x_test)) #lel, still as bad"
   ]
  },
  {
   "cell_type": "code",
   "execution_count": 42,
   "metadata": {},
   "outputs": [],
   "source": [
    "#but what if i take the average over all measurements?\n",
    "y_pred = linReg.predict(x_test)"
   ]
  },
  {
   "cell_type": "code",
   "execution_count": 50,
   "metadata": {},
   "outputs": [],
   "source": [
    "y_test.loc[:,\"pred\"] = y_pred\n",
    "y_test.loc[:, \"on_off\"] = y_test.on_off.astype(int)"
   ]
  },
  {
   "cell_type": "code",
   "execution_count": 53,
   "metadata": {},
   "outputs": [
    {
     "data": {
      "text/plain": [
       "1.7109337454141693"
      ]
     },
     "execution_count": 53,
     "metadata": {},
     "output_type": "execute_result"
    }
   ],
   "source": [
    "intermediate = y_test.groupby(\"measurement_id\")[\"pred\", \"on_off\"].mean()\n",
    "mse(intermediate.pred.values, intermediate.on_off.values) #yuck, it regresses towards the mean"
   ]
  },
  {
   "cell_type": "code",
   "execution_count": 55,
   "metadata": {},
   "outputs": [
    {
     "name": "stdout",
     "output_type": "stream",
     "text": [
      "0.5398975525069465\n"
     ]
    }
   ],
   "source": [
    "from sklearn.ensemble import RandomForestClassifier\n",
    "rf = RandomForestClassifier(n_estimators=100, oob_score=True, n_jobs=4)\n",
    "rf = rf.fit(x_train, y_train.on_off.astype(int))\n",
    "y_pred = rf.predict(x_test)\n",
    "print(rf.oob_score_)"
   ]
  },
  {
   "cell_type": "code",
   "execution_count": 58,
   "metadata": {},
   "outputs": [],
   "source": [
    "y_train_pred =  rf.predict(x_train)"
   ]
  },
  {
   "cell_type": "code",
   "execution_count": 60,
   "metadata": {},
   "outputs": [
    {
     "data": {
      "text/plain": [
       "((1630689,), (543563,))"
      ]
     },
     "execution_count": 60,
     "metadata": {},
     "output_type": "execute_result"
    }
   ],
   "source": [
    "y_train_pred.shape, y_test.on_off.astype(int).shape"
   ]
  },
  {
   "cell_type": "code",
   "execution_count": 63,
   "metadata": {},
   "outputs": [
    {
     "name": "stdout",
     "output_type": "stream",
     "text": [
      "0.0\n"
     ]
    }
   ],
   "source": [
    "print(mse(y_train.on_off.astype(int), y_train_pred)) #at least we overfit"
   ]
  },
  {
   "cell_type": "code",
   "execution_count": 73,
   "metadata": {},
   "outputs": [],
   "source": [
    "y_pred = rf.predict_proba(x_test)"
   ]
  },
  {
   "cell_type": "code",
   "execution_count": 75,
   "metadata": {},
   "outputs": [
    {
     "data": {
      "text/plain": [
       "(543563, 5)"
      ]
     },
     "execution_count": 75,
     "metadata": {},
     "output_type": "execute_result"
    }
   ],
   "source": [
    "y_pred.shape"
   ]
  },
  {
   "cell_type": "code",
   "execution_count": 76,
   "metadata": {},
   "outputs": [],
   "source": [
    "y_pred = pd.DataFrame(y_pred, columns=[0,1,2,3,4])"
   ]
  },
  {
   "cell_type": "code",
   "execution_count": 87,
   "metadata": {},
   "outputs": [],
   "source": [
    "y_pred.loc[:,\"m_id\"] = y_test.reset_index().measurement_id"
   ]
  },
  {
   "cell_type": "code",
   "execution_count": 110,
   "metadata": {},
   "outputs": [],
   "source": [
    "y_pred_true = y_pred.set_index(\"m_id\").join(y_test.groupby(\"measurement_id\").mean().on_off.astype(int))"
   ]
  },
  {
   "cell_type": "code",
   "execution_count": 120,
   "metadata": {},
   "outputs": [],
   "source": [
    "y_pred_true = y_pred_true.reset_index().groupby(\"index\").mean()"
   ]
  },
  {
   "cell_type": "code",
   "execution_count": 131,
   "metadata": {},
   "outputs": [
    {
     "name": "stdout",
     "output_type": "stream",
     "text": [
      "2.127725856697819\n"
     ]
    }
   ],
   "source": [
    "print(mse(y_pred_true.on_off.values, y_pred_true[[0,1,2,3,4]].values.argmax(1))) #damn it"
   ]
  },
  {
   "cell_type": "code",
   "execution_count": 91,
   "metadata": {},
   "outputs": [
    {
     "name": "stderr",
     "output_type": "stream",
     "text": [
      "/home/ms994/miniconda3/envs/keras-redo-cpu/lib/python3.7/site-packages/sklearn/ensemble/forest.py:460: UserWarning: Some inputs do not have OOB scores. This probably means too few trees were used to compute any reliable oob estimates.\n",
      "  warn(\"Some inputs do not have OOB scores. \"\n",
      "/home/ms994/miniconda3/envs/keras-redo-cpu/lib/python3.7/site-packages/sklearn/ensemble/forest.py:465: RuntimeWarning: divide by zero encountered in true_divide\n",
      "  predictions[k].sum(axis=1)[:, np.newaxis])\n",
      "/home/ms994/miniconda3/envs/keras-redo-cpu/lib/python3.7/site-packages/sklearn/ensemble/forest.py:465: RuntimeWarning: invalid value encountered in true_divide\n",
      "  predictions[k].sum(axis=1)[:, np.newaxis])\n"
     ]
    }
   ],
   "source": [
    "from sklearn.ensemble import RandomForestClassifier\n",
    "rf = RandomForestClassifier(n_estimators=10, oob_score=True, n_jobs=4)\n",
    "rf = rf.fit(x_train, y_train)\n",
    "y_pred = rf.predict(x_test)\n",
    "score = mse(y_pred, y_test)"
   ]
  },
  {
   "cell_type": "code",
   "execution_count": 94,
   "metadata": {},
   "outputs": [
    {
     "data": {
      "text/plain": [
       "0.4586901610300922"
      ]
     },
     "execution_count": 94,
     "metadata": {},
     "output_type": "execute_result"
    }
   ],
   "source": [
    "rf.oob_score_"
   ]
  },
  {
   "cell_type": "code",
   "execution_count": 92,
   "metadata": {},
   "outputs": [
    {
     "name": "stdout",
     "output_type": "stream",
     "text": [
      "2.2506756346550447\n"
     ]
    }
   ],
   "source": [
    "score"
   ]
  },
  {
   "cell_type": "code",
   "execution_count": null,
   "metadata": {},
   "outputs": [
    {
     "name": "stderr",
     "output_type": "stream",
     "text": [
      "\n",
      "\n",
      "  0%|          | 0/4 [00:00<?, ?it/s]\u001b[A\u001b[A\n",
      "\n",
      " 25%|██▌       | 1/4 [03:15<09:47, 195.90s/it]\u001b[A\u001b[A"
     ]
    }
   ],
   "source": [
    "from sklearn.ensemble import RandomForestClassifier\n",
    "all_rf = []\n",
    "from tqdm import tqdm\n",
    "for i in tqdm(range(8, 40, 8)):\n",
    "    rf = RandomForestClassifier(n_estimators=i*5, oob_score=True, n_jobs=4)\n",
    "    rf = rf.fit(x_train, y_train)\n",
    "    y_pred = rf.predict(x_test)\n",
    "    score = mse(y_pred, y_test)\n",
    "    all_rf.append((rf, y_pred, score))"
   ]
  },
  {
   "cell_type": "code",
   "execution_count": 102,
   "metadata": {},
   "outputs": [
    {
     "data": {
      "text/plain": [
       "0.5166319267499812"
      ]
     },
     "execution_count": 102,
     "metadata": {},
     "output_type": "execute_result"
    }
   ],
   "source": [
    "all_rf[0][0].oob_score_"
   ]
  },
  {
   "cell_type": "code",
   "execution_count": null,
   "metadata": {},
   "outputs": [],
   "source": [
    "from sklearn.ensemble import RandomForestClassifier\n",
    "rf = RandomForestClassifier(n_estimators=1000, oob_score=True, n_jobs=4)\n",
    "rf = rf.fit(x_train, y_train)\n",
    "y_pred = rf.predict(x_test)\n",
    "score = mse(y_pred, y_test)"
   ]
  },
  {
   "cell_type": "markdown",
   "metadata": {},
   "source": [
    "## the files in training_samples\n",
    "I'm confused by the files in the training samples subfolders. None of these seem to be standardized to a common time. Are these some preprocessed data segment or were they originally part of the dataset?"
   ]
  },
  {
   "cell_type": "code",
   "execution_count": 14,
   "metadata": {},
   "outputs": [],
   "source": [
    "import glob\n",
    "all_csv = glob.glob(f\"/home/hy180/projects/beat_pd/data/cis-pd/training_data/training_samples/*/*.csv\")"
   ]
  },
  {
   "cell_type": "code",
   "execution_count": 15,
   "metadata": {},
   "outputs": [],
   "source": [
    "m_id =  [csv_file.split(\"/\")[9] for csv_file in all_csv]\n",
    "file_map= pd.DataFrame([all_csv, m_id]).T"
   ]
  },
  {
   "cell_type": "code",
   "execution_count": 16,
   "metadata": {},
   "outputs": [
    {
     "name": "stderr",
     "output_type": "stream",
     "text": [
      "/home/ms994/miniconda3/envs/keras-redo-cpu/lib/python3.7/site-packages/pandas/core/indexing.py:543: SettingWithCopyWarning: \n",
      "A value is trying to be set on a copy of a slice from a DataFrame.\n",
      "Try using .loc[row_indexer,col_indexer] = value instead\n",
      "\n",
      "See the caveats in the documentation: http://pandas.pydata.org/pandas-docs/stable/indexing.html#indexing-view-versus-copy\n",
      "  self.obj[item] = s\n"
     ]
    }
   ],
   "source": [
    "labels.loc[:,\"measurement_id\"] = labels.measurement_id.astype(\"str\") #some weird dtype issue, this is a string"
   ]
  },
  {
   "cell_type": "code",
   "execution_count": 17,
   "metadata": {},
   "outputs": [],
   "source": [
    "file_map.columns = [\"fp\", \"measurement_id\"]\n",
    "# file_map = file_map.set_index(\"measurement_id\")"
   ]
  },
  {
   "cell_type": "code",
   "execution_count": 18,
   "metadata": {},
   "outputs": [
    {
     "data": {
      "text/html": [
       "<div>\n",
       "<style scoped>\n",
       "    .dataframe tbody tr th:only-of-type {\n",
       "        vertical-align: middle;\n",
       "    }\n",
       "\n",
       "    .dataframe tbody tr th {\n",
       "        vertical-align: top;\n",
       "    }\n",
       "\n",
       "    .dataframe thead th {\n",
       "        text-align: right;\n",
       "    }\n",
       "</style>\n",
       "<table border=\"1\" class=\"dataframe\">\n",
       "  <thead>\n",
       "    <tr style=\"text-align: right;\">\n",
       "      <th></th>\n",
       "      <th>measurement_id</th>\n",
       "      <th>subject_id</th>\n",
       "      <th>on_off</th>\n",
       "      <th>dyskinesia</th>\n",
       "      <th>tremor</th>\n",
       "    </tr>\n",
       "  </thead>\n",
       "  <tbody>\n",
       "    <tr>\n",
       "      <th>0</th>\n",
       "      <td>cc7b822c-e310-46f0-a8ea-98c95fdb67a1</td>\n",
       "      <td>1004</td>\n",
       "      <td>1.0</td>\n",
       "      <td>1.0</td>\n",
       "      <td>1.0</td>\n",
       "    </tr>\n",
       "    <tr>\n",
       "      <th>1</th>\n",
       "      <td>5163afe8-a6b0-4ea4-b2ba-9b4501dd5912</td>\n",
       "      <td>1004</td>\n",
       "      <td>0.0</td>\n",
       "      <td>0.0</td>\n",
       "      <td>0.0</td>\n",
       "    </tr>\n",
       "    <tr>\n",
       "      <th>2</th>\n",
       "      <td>5cf68c8e-0b7a-4b73-ad4f-015c7a20fb5a</td>\n",
       "      <td>1004</td>\n",
       "      <td>1.0</td>\n",
       "      <td>1.0</td>\n",
       "      <td>1.0</td>\n",
       "    </tr>\n",
       "    <tr>\n",
       "      <th>3</th>\n",
       "      <td>fb188ae2-2173-4137-9236-19a137a402c2</td>\n",
       "      <td>1004</td>\n",
       "      <td>3.0</td>\n",
       "      <td>3.0</td>\n",
       "      <td>3.0</td>\n",
       "    </tr>\n",
       "    <tr>\n",
       "      <th>4</th>\n",
       "      <td>19a3e9ea-fce1-40b7-9457-2618970beb7b</td>\n",
       "      <td>1004</td>\n",
       "      <td>1.0</td>\n",
       "      <td>1.0</td>\n",
       "      <td>1.0</td>\n",
       "    </tr>\n",
       "  </tbody>\n",
       "</table>\n",
       "</div>"
      ],
      "text/plain": [
       "                         measurement_id  subject_id  on_off  dyskinesia  \\\n",
       "0  cc7b822c-e310-46f0-a8ea-98c95fdb67a1        1004     1.0         1.0   \n",
       "1  5163afe8-a6b0-4ea4-b2ba-9b4501dd5912        1004     0.0         0.0   \n",
       "2  5cf68c8e-0b7a-4b73-ad4f-015c7a20fb5a        1004     1.0         1.0   \n",
       "3  fb188ae2-2173-4137-9236-19a137a402c2        1004     3.0         3.0   \n",
       "4  19a3e9ea-fce1-40b7-9457-2618970beb7b        1004     1.0         1.0   \n",
       "\n",
       "   tremor  \n",
       "0     1.0  \n",
       "1     0.0  \n",
       "2     1.0  \n",
       "3     3.0  \n",
       "4     1.0  "
      ]
     },
     "execution_count": 18,
     "metadata": {},
     "output_type": "execute_result"
    }
   ],
   "source": [
    "labels.head()"
   ]
  },
  {
   "cell_type": "code",
   "execution_count": 19,
   "metadata": {},
   "outputs": [],
   "source": [
    "indexData = file_map.join(labels.set_index(\"measurement_id\"), how=\"inner\", on=\"measurement_id\")"
   ]
  },
  {
   "cell_type": "code",
   "execution_count": 20,
   "metadata": {},
   "outputs": [
    {
     "data": {
      "text/plain": [
       "(1858, 5)"
      ]
     },
     "execution_count": 20,
     "metadata": {},
     "output_type": "execute_result"
    }
   ],
   "source": [
    "labels1.shape"
   ]
  },
  {
   "cell_type": "markdown",
   "metadata": {},
   "source": [
    "We created an index mapping individual files to a label"
   ]
  },
  {
   "cell_type": "code",
   "execution_count": 21,
   "metadata": {},
   "outputs": [
    {
     "data": {
      "text/html": [
       "<div>\n",
       "<style scoped>\n",
       "    .dataframe tbody tr th:only-of-type {\n",
       "        vertical-align: middle;\n",
       "    }\n",
       "\n",
       "    .dataframe tbody tr th {\n",
       "        vertical-align: top;\n",
       "    }\n",
       "\n",
       "    .dataframe thead th {\n",
       "        text-align: right;\n",
       "    }\n",
       "</style>\n",
       "<table border=\"1\" class=\"dataframe\">\n",
       "  <thead>\n",
       "    <tr style=\"text-align: right;\">\n",
       "      <th></th>\n",
       "      <th>fp</th>\n",
       "      <th>measurement_id</th>\n",
       "      <th>subject_id</th>\n",
       "      <th>on_off</th>\n",
       "      <th>dyskinesia</th>\n",
       "      <th>tremor</th>\n",
       "    </tr>\n",
       "  </thead>\n",
       "  <tbody>\n",
       "    <tr>\n",
       "      <th>0</th>\n",
       "      <td>/home/hy180/projects/beat_pd/data/cis-pd/train...</td>\n",
       "      <td>ab9052a1-97f0-4ac2-8806-e55e38ece033</td>\n",
       "      <td>1049</td>\n",
       "      <td>1.0</td>\n",
       "      <td>0.0</td>\n",
       "      <td>1.0</td>\n",
       "    </tr>\n",
       "    <tr>\n",
       "      <th>1</th>\n",
       "      <td>/home/hy180/projects/beat_pd/data/cis-pd/train...</td>\n",
       "      <td>ab9052a1-97f0-4ac2-8806-e55e38ece033</td>\n",
       "      <td>1049</td>\n",
       "      <td>1.0</td>\n",
       "      <td>0.0</td>\n",
       "      <td>1.0</td>\n",
       "    </tr>\n",
       "    <tr>\n",
       "      <th>2</th>\n",
       "      <td>/home/hy180/projects/beat_pd/data/cis-pd/train...</td>\n",
       "      <td>ab9052a1-97f0-4ac2-8806-e55e38ece033</td>\n",
       "      <td>1049</td>\n",
       "      <td>1.0</td>\n",
       "      <td>0.0</td>\n",
       "      <td>1.0</td>\n",
       "    </tr>\n",
       "    <tr>\n",
       "      <th>3</th>\n",
       "      <td>/home/hy180/projects/beat_pd/data/cis-pd/train...</td>\n",
       "      <td>ab9052a1-97f0-4ac2-8806-e55e38ece033</td>\n",
       "      <td>1049</td>\n",
       "      <td>1.0</td>\n",
       "      <td>0.0</td>\n",
       "      <td>1.0</td>\n",
       "    </tr>\n",
       "    <tr>\n",
       "      <th>4</th>\n",
       "      <td>/home/hy180/projects/beat_pd/data/cis-pd/train...</td>\n",
       "      <td>ab9052a1-97f0-4ac2-8806-e55e38ece033</td>\n",
       "      <td>1049</td>\n",
       "      <td>1.0</td>\n",
       "      <td>0.0</td>\n",
       "      <td>1.0</td>\n",
       "    </tr>\n",
       "  </tbody>\n",
       "</table>\n",
       "</div>"
      ],
      "text/plain": [
       "                                                  fp  \\\n",
       "0  /home/hy180/projects/beat_pd/data/cis-pd/train...   \n",
       "1  /home/hy180/projects/beat_pd/data/cis-pd/train...   \n",
       "2  /home/hy180/projects/beat_pd/data/cis-pd/train...   \n",
       "3  /home/hy180/projects/beat_pd/data/cis-pd/train...   \n",
       "4  /home/hy180/projects/beat_pd/data/cis-pd/train...   \n",
       "\n",
       "                         measurement_id  subject_id  on_off  dyskinesia  \\\n",
       "0  ab9052a1-97f0-4ac2-8806-e55e38ece033        1049     1.0         0.0   \n",
       "1  ab9052a1-97f0-4ac2-8806-e55e38ece033        1049     1.0         0.0   \n",
       "2  ab9052a1-97f0-4ac2-8806-e55e38ece033        1049     1.0         0.0   \n",
       "3  ab9052a1-97f0-4ac2-8806-e55e38ece033        1049     1.0         0.0   \n",
       "4  ab9052a1-97f0-4ac2-8806-e55e38ece033        1049     1.0         0.0   \n",
       "\n",
       "   tremor  \n",
       "0     1.0  \n",
       "1     1.0  \n",
       "2     1.0  \n",
       "3     1.0  \n",
       "4     1.0  "
      ]
     },
     "execution_count": 21,
     "metadata": {},
     "output_type": "execute_result"
    }
   ],
   "source": [
    "indexData.head()"
   ]
  },
  {
   "cell_type": "code",
   "execution_count": 23,
   "metadata": {},
   "outputs": [
    {
     "data": {
      "text/plain": [
       "(12180, 6)"
      ]
     },
     "execution_count": 23,
     "metadata": {},
     "output_type": "execute_result"
    }
   ],
   "source": [
    "indexData.shape"
   ]
  },
  {
   "cell_type": "code",
   "execution_count": 22,
   "metadata": {},
   "outputs": [],
   "source": [
    "from sklearn.model_selection import train_test_split\n",
    "train, test = train_test_split(indexData.index, test_size=0.2)"
   ]
  },
  {
   "cell_type": "code",
   "execution_count": 62,
   "metadata": {},
   "outputs": [],
   "source": [
    "train, valid = train_test_split(train, test_size=0.2)"
   ]
  },
  {
   "cell_type": "code",
   "execution_count": 63,
   "metadata": {},
   "outputs": [
    {
     "data": {
      "text/plain": [
       "(616, 154, 193)"
      ]
     },
     "execution_count": 63,
     "metadata": {},
     "output_type": "execute_result"
    }
   ],
   "source": [
    "len(train), len(valid), len(test)"
   ]
  },
  {
   "cell_type": "markdown",
   "metadata": {},
   "source": [
    "Setup code to read each label here and return a dataframe"
   ]
  },
  {
   "cell_type": "code",
   "execution_count": 150,
   "metadata": {},
   "outputs": [],
   "source": [
    "from src.main import read_seq\n",
    "\n",
    "def get_data(fp):\n",
    "    return read_seq(fp)"
   ]
  },
  {
   "cell_type": "code",
   "execution_count": 156,
   "metadata": {},
   "outputs": [
    {
     "data": {
      "text/plain": [
       "'/home/hy180/projects/beat_pd/data/cis-pd/training_data/training_samples/ab9052a1-97f0-4ac2-8806-e55e38ece033/9.csv'"
      ]
     },
     "execution_count": 156,
     "metadata": {},
     "output_type": "execute_result"
    }
   ],
   "source": [
    "indexData.fp[0]"
   ]
  },
  {
   "cell_type": "code",
   "execution_count": 155,
   "metadata": {},
   "outputs": [
    {
     "data": {
      "text/html": [
       "<div>\n",
       "<style scoped>\n",
       "    .dataframe tbody tr th:only-of-type {\n",
       "        vertical-align: middle;\n",
       "    }\n",
       "\n",
       "    .dataframe tbody tr th {\n",
       "        vertical-align: top;\n",
       "    }\n",
       "\n",
       "    .dataframe thead th {\n",
       "        text-align: right;\n",
       "    }\n",
       "</style>\n",
       "<table border=\"1\" class=\"dataframe\">\n",
       "  <thead>\n",
       "    <tr style=\"text-align: right;\">\n",
       "      <th></th>\n",
       "      <th>t</th>\n",
       "      <th>x</th>\n",
       "      <th>y</th>\n",
       "      <th>z</th>\n",
       "    </tr>\n",
       "  </thead>\n",
       "  <tbody>\n",
       "  </tbody>\n",
       "</table>\n",
       "</div>"
      ],
      "text/plain": [
       "Empty DataFrame\n",
       "Columns: [t, x, y, z]\n",
       "Index: []"
      ]
     },
     "execution_count": 155,
     "metadata": {},
     "output_type": "execute_result"
    }
   ],
   "source": [
    "pd.read_csv(indexData.fp[0])"
   ]
  }
 ],
 "metadata": {
  "kernelspec": {
   "display_name": "Python 3",
   "language": "python",
   "name": "python3"
  },
  "language_info": {
   "codemirror_mode": {
    "name": "ipython",
    "version": 3
   },
   "file_extension": ".py",
   "mimetype": "text/x-python",
   "name": "python",
   "nbconvert_exporter": "python",
   "pygments_lexer": "ipython3",
   "version": "3.7.3"
  },
  "toc": {
   "base_numbering": 1,
   "nav_menu": {},
   "number_sections": true,
   "sideBar": true,
   "skip_h1_title": false,
   "title_cell": "Table of Contents",
   "title_sidebar": "Contents",
   "toc_cell": false,
   "toc_position": {},
   "toc_section_display": true,
   "toc_window_display": true
  }
 },
 "nbformat": 4,
 "nbformat_minor": 2
}
