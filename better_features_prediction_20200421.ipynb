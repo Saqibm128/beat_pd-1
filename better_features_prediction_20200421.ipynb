{
 "cells": [
  {
   "cell_type": "code",
   "execution_count": 112,
   "metadata": {},
   "outputs": [],
   "source": [
    "import pandas as pd\n",
    "import numpy as np\n",
    "import os\n",
    "from os.path import join\n",
    "import matplotlib.pyplot as plt\n",
    "import seaborn as sns\n",
    "from sklearn import metrics\n",
    "from sklearn.model_selection import train_test_split\n",
    "from sklearn import svm\n",
    "from sklearn.ensemble import RandomForestClassifier\n",
    "from sklearn.linear_model import Lasso"
   ]
  },
  {
   "cell_type": "code",
   "execution_count": 259,
   "metadata": {},
   "outputs": [],
   "source": [
    "def plot_performance(y_true, y_pred, title_metric=metrics.mean_squared_error):\n",
    "    fig, (ax1, ax2) = plt.subplots(1, 2, figsize=(15, 6))\n",
    "\n",
    "    sns.violinplot(data=pd.DataFrame({'actual': y_true, 'predicted': y_pred}), x='actual', y='predicted', ax=ax1)\n",
    "    \n",
    "    # confusion matrix\n",
    "    label_vals = np.sort(y_true.unique())\n",
    "    cm = metrics.confusion_matrix(y_true, np.round(y_pred), labels=label_vals)\n",
    "    sns.heatmap(cm, xticklabels=label_vals, yticklabels=label_vals, ax=ax2)\n",
    "    ax2.set_xlabel('predicted')\n",
    "    ax2.set_ylabel('actual')\n",
    "    ax2.invert_yaxis()\n",
    "    \n",
    "    score = title_metric(y_true, y_pred)\n",
    "    _ = fig.suptitle(f'score (default mse): {score}')"
   ]
  },
  {
   "cell_type": "code",
   "execution_count": 260,
   "metadata": {},
   "outputs": [],
   "source": [
    "labels_df = pd.read_csv(join(\"data\", \"cis-pd\", \"data_labels\", \"CIS-PD_Training_Data_IDs_Labels.csv\"), index_col=0)\n",
    "features_df = pd.read_csv(join(\"data\", \"train_features20200421.csv\"), index_col=0)\n",
    "features_df.index = features_df.index.rename(\"measurement_id\")"
   ]
  },
  {
   "cell_type": "code",
   "execution_count": 261,
   "metadata": {},
   "outputs": [
    {
     "data": {
      "text/html": [
       "<div>\n",
       "<style scoped>\n",
       "    .dataframe tbody tr th:only-of-type {\n",
       "        vertical-align: middle;\n",
       "    }\n",
       "\n",
       "    .dataframe tbody tr th {\n",
       "        vertical-align: top;\n",
       "    }\n",
       "\n",
       "    .dataframe thead th {\n",
       "        text-align: right;\n",
       "    }\n",
       "</style>\n",
       "<table border=\"1\" class=\"dataframe\">\n",
       "  <thead>\n",
       "    <tr style=\"text-align: right;\">\n",
       "      <th></th>\n",
       "      <th>num_zero_flat</th>\n",
       "      <th>num_zero_nonflat</th>\n",
       "      <th>num_one</th>\n",
       "      <th>num_two</th>\n",
       "      <th>num_three</th>\n",
       "      <th>subject_id</th>\n",
       "      <th>on_off</th>\n",
       "      <th>dyskinesia</th>\n",
       "      <th>tremor</th>\n",
       "    </tr>\n",
       "    <tr>\n",
       "      <th>measurement_id</th>\n",
       "      <th></th>\n",
       "      <th></th>\n",
       "      <th></th>\n",
       "      <th></th>\n",
       "      <th></th>\n",
       "      <th></th>\n",
       "      <th></th>\n",
       "      <th></th>\n",
       "      <th></th>\n",
       "    </tr>\n",
       "  </thead>\n",
       "  <tbody>\n",
       "    <tr>\n",
       "      <th>f5871446-90f6-416d-ab41-3fe178b200b9</th>\n",
       "      <td>31676</td>\n",
       "      <td>20993</td>\n",
       "      <td>2858</td>\n",
       "      <td>1704</td>\n",
       "      <td>1255</td>\n",
       "      <td>1023</td>\n",
       "      <td>4.0</td>\n",
       "      <td>1.0</td>\n",
       "      <td>0.0</td>\n",
       "    </tr>\n",
       "    <tr>\n",
       "      <th>26b062b0-f4a6-459c-a98b-fc4fb8aa7d49</th>\n",
       "      <td>3484</td>\n",
       "      <td>46004</td>\n",
       "      <td>3870</td>\n",
       "      <td>3518</td>\n",
       "      <td>2983</td>\n",
       "      <td>1020</td>\n",
       "      <td>0.0</td>\n",
       "      <td>NaN</td>\n",
       "      <td>1.0</td>\n",
       "    </tr>\n",
       "    <tr>\n",
       "      <th>fea345ae-b6c2-4b9b-a0f4-dc09207a2e4e</th>\n",
       "      <td>12772</td>\n",
       "      <td>30590</td>\n",
       "      <td>4844</td>\n",
       "      <td>5334</td>\n",
       "      <td>6493</td>\n",
       "      <td>1020</td>\n",
       "      <td>0.0</td>\n",
       "      <td>NaN</td>\n",
       "      <td>1.0</td>\n",
       "    </tr>\n",
       "    <tr>\n",
       "      <th>af1e9463-68fe-4a04-b76e-9ff3645dd496</th>\n",
       "      <td>3946</td>\n",
       "      <td>40216</td>\n",
       "      <td>4845</td>\n",
       "      <td>5177</td>\n",
       "      <td>5543</td>\n",
       "      <td>1038</td>\n",
       "      <td>0.0</td>\n",
       "      <td>0.0</td>\n",
       "      <td>2.0</td>\n",
       "    </tr>\n",
       "    <tr>\n",
       "      <th>23d46fe9-848a-4547-ab2a-f17f88647c56</th>\n",
       "      <td>214</td>\n",
       "      <td>34461</td>\n",
       "      <td>9730</td>\n",
       "      <td>8347</td>\n",
       "      <td>7275</td>\n",
       "      <td>1046</td>\n",
       "      <td>NaN</td>\n",
       "      <td>NaN</td>\n",
       "      <td>1.0</td>\n",
       "    </tr>\n",
       "  </tbody>\n",
       "</table>\n",
       "</div>"
      ],
      "text/plain": [
       "                                      num_zero_flat  num_zero_nonflat  \\\n",
       "measurement_id                                                          \n",
       "f5871446-90f6-416d-ab41-3fe178b200b9          31676             20993   \n",
       "26b062b0-f4a6-459c-a98b-fc4fb8aa7d49           3484             46004   \n",
       "fea345ae-b6c2-4b9b-a0f4-dc09207a2e4e          12772             30590   \n",
       "af1e9463-68fe-4a04-b76e-9ff3645dd496           3946             40216   \n",
       "23d46fe9-848a-4547-ab2a-f17f88647c56            214             34461   \n",
       "\n",
       "                                      num_one  num_two  num_three  subject_id  \\\n",
       "measurement_id                                                                  \n",
       "f5871446-90f6-416d-ab41-3fe178b200b9     2858     1704       1255        1023   \n",
       "26b062b0-f4a6-459c-a98b-fc4fb8aa7d49     3870     3518       2983        1020   \n",
       "fea345ae-b6c2-4b9b-a0f4-dc09207a2e4e     4844     5334       6493        1020   \n",
       "af1e9463-68fe-4a04-b76e-9ff3645dd496     4845     5177       5543        1038   \n",
       "23d46fe9-848a-4547-ab2a-f17f88647c56     9730     8347       7275        1046   \n",
       "\n",
       "                                      on_off  dyskinesia  tremor  \n",
       "measurement_id                                                    \n",
       "f5871446-90f6-416d-ab41-3fe178b200b9     4.0         1.0     0.0  \n",
       "26b062b0-f4a6-459c-a98b-fc4fb8aa7d49     0.0         NaN     1.0  \n",
       "fea345ae-b6c2-4b9b-a0f4-dc09207a2e4e     0.0         NaN     1.0  \n",
       "af1e9463-68fe-4a04-b76e-9ff3645dd496     0.0         0.0     2.0  \n",
       "23d46fe9-848a-4547-ab2a-f17f88647c56     NaN         NaN     1.0  "
      ]
     },
     "execution_count": 261,
     "metadata": {},
     "output_type": "execute_result"
    }
   ],
   "source": [
    "df = features_df.join(labels_df)\n",
    "df.head()"
   ]
  },
  {
   "cell_type": "code",
   "execution_count": 262,
   "metadata": {},
   "outputs": [],
   "source": [
    "tremor_df = df.loc[pd.notnull(df[\"tremor\"])].copy()\n",
    "tremor_df[\"tremor\"] = tremor_df[\"tremor\"].astype(int)\n",
    "X = tremor_df[[\"num_zero_flat\", \"num_zero_nonflat\", \"num_one\", \"num_two\", \"num_three\"]].values\n",
    "y = tremor_df[\"tremor\"].values"
   ]
  },
  {
   "cell_type": "code",
   "execution_count": 263,
   "metadata": {},
   "outputs": [
    {
     "data": {
      "text/plain": [
       "<matplotlib.axes._subplots.AxesSubplot at 0x122ebe410>"
      ]
     },
     "execution_count": 263,
     "metadata": {},
     "output_type": "execute_result"
    },
    {
     "data": {
      "image/png": "[encoded data removed]",
      "text/plain": [
       "<Figure size 432x288 with 1 Axes>"
      ]
     },
     "metadata": {
      "needs_background": "light"
     },
     "output_type": "display_data"
    }
   ],
   "source": [
    "tremor_df[\"tremor\"].value_counts().plot(kind='bar')"
   ]
  },
  {
   "cell_type": "code",
   "execution_count": 264,
   "metadata": {},
   "outputs": [],
   "source": [
    "X_train, X_test, y_train, y_test = train_test_split(X, y, test_size=0.33, random_state=2020)"
   ]
  },
  {
   "cell_type": "code",
   "execution_count": 269,
   "metadata": {},
   "outputs": [
    {
     "data": {
      "text/plain": [
       "RandomForestClassifier(bootstrap=True, ccp_alpha=0.0, class_weight=None,\n",
       "                       criterion='gini', max_depth=None, max_features='auto',\n",
       "                       max_leaf_nodes=None, max_samples=None,\n",
       "                       min_impurity_decrease=0.0, min_impurity_split=None,\n",
       "                       min_samples_leaf=1, min_samples_split=2,\n",
       "                       min_weight_fraction_leaf=0.0, n_estimators=100,\n",
       "                       n_jobs=None, oob_score=False, random_state=None,\n",
       "                       verbose=0, warm_start=False)"
      ]
     },
     "execution_count": 269,
     "metadata": {},
     "output_type": "execute_result"
    }
   ],
   "source": [
    "clf = RandomForestClassifier()\n",
    "clf.fit(X_train, y_train)"
   ]
  },
  {
   "cell_type": "code",
   "execution_count": 270,
   "metadata": {},
   "outputs": [],
   "source": [
    "y_pred = clf.predict(X_test)"
   ]
  },
  {
   "cell_type": "code",
   "execution_count": null,
   "metadata": {},
   "outputs": [],
   "source": []
  },
  {
   "cell_type": "code",
   "execution_count": 271,
   "metadata": {},
   "outputs": [
    {
     "data": {
      "image/png": "[encoded data removed]",
      "text/plain": [
       "<Figure size 1080x432 with 3 Axes>"
      ]
     },
     "metadata": {
      "needs_background": "light"
     },
     "output_type": "display_data"
    }
   ],
   "source": [
    "plot_performance(pd.Series(y_test), y_pred)"
   ]
  },
  {
   "cell_type": "code",
   "execution_count": null,
   "metadata": {},
   "outputs": [],
   "source": []
  },
  {
   "cell_type": "code",
   "execution_count": null,
   "metadata": {},
   "outputs": [],
   "source": []
  },
  {
   "cell_type": "code",
   "execution_count": null,
   "metadata": {},
   "outputs": [],
   "source": []
  }
 ],
 "metadata": {
  "kernelspec": {
   "display_name": "Python [conda env:beat-pd-mark-env] *",
   "language": "python",
   "name": "conda-env-beat-pd-mark-env-py"
  },
  "language_info": {
   "codemirror_mode": {
    "name": "ipython",
    "version": 3
   },
   "file_extension": ".py",
   "mimetype": "text/x-python",
   "name": "python",
   "nbconvert_exporter": "python",
   "pygments_lexer": "ipython3",
   "version": "3.7.6"
  }
 },
 "nbformat": 4,
 "nbformat_minor": 4
}
